{
 "cells": [
  {
   "cell_type": "code",
   "execution_count": 1,
   "id": "c4a96843",
   "metadata": {},
   "outputs": [],
   "source": [
    "import random\n",
    "import pandas as pd\n",
    "import numpy as np"
   ]
  },
  {
   "cell_type": "markdown",
   "id": "56a052b8",
   "metadata": {},
   "source": [
    "# 함수"
   ]
  },
  {
   "cell_type": "markdown",
   "id": "57c296c8",
   "metadata": {},
   "source": [
    "## Q1. 남녀 파트너 정해주기 프로그램(zip) \n",
    "같은 수의 남녀 모임에서 파트너를 랜덤하게 정해주는 프로그램을 만들어 보세요\n",
    "\n",
    "male = ['철수','갑돌','로미오','이몽룡','온돌']\n",
    "\n",
    "female = ['미미','갑순','줄리엣','성춘향','평강']\n"
   ]
  },
  {
   "cell_type": "code",
   "execution_count": 2,
   "id": "65a1a4a2",
   "metadata": {},
   "outputs": [],
   "source": [
    "male = ['철수','갑돌','로미오','이몽룡','온돌']\n",
    "\n",
    "female = ['미미','갑순','줄리엣','성춘향','평강']"
   ]
  },
  {
   "cell_type": "code",
   "execution_count": 3,
   "id": "c929cbae",
   "metadata": {
    "scrolled": true
   },
   "outputs": [
    {
     "name": "stdout",
     "output_type": "stream",
     "text": [
      "('온돌', '미미')\n",
      "('갑돌', '갑순')\n",
      "('이몽룡', '성춘향')\n",
      "('로미오', '평강')\n",
      "('철수', '줄리엣')\n"
     ]
    }
   ],
   "source": [
    "a = random.sample(male, 5)\n",
    "b = random.sample(female, 5)\n",
    "for result in zip(a, b):\n",
    "    print(result)"
   ]
  },
  {
   "cell_type": "code",
   "execution_count": 4,
   "id": "bceadc02",
   "metadata": {
    "scrolled": true
   },
   "outputs": [
    {
     "name": "stdout",
     "output_type": "stream",
     "text": [
      "['온돌', '평강']\n",
      "['갑돌', '성춘향']\n",
      "['이몽룡', '미미']\n",
      "['철수', '줄리엣']\n",
      "['로미오', '갑순']\n"
     ]
    }
   ],
   "source": [
    "#sample로만 간단히 출력\n",
    "a = random.sample(male, 5)\n",
    "b = random.sample(female, 5)\n",
    "\n",
    "for i in range(5):\n",
    "    result = [a[i], b[i]]\n",
    "    print(result)"
   ]
  },
  {
   "cell_type": "code",
   "execution_count": 5,
   "id": "4696614f",
   "metadata": {},
   "outputs": [
    {
     "name": "stdout",
     "output_type": "stream",
     "text": [
      "커플 1: 로미오, 갑순\n",
      "커플 2: 이몽룡, 평강\n",
      "커플 3: 갑돌, 성춘향\n",
      "커플 4: 철수, 줄리엣\n",
      "커플 5: 온돌, 미미\n"
     ]
    }
   ],
   "source": [
    "#다른방법\n",
    "a = random.sample(male, 5)\n",
    "b = random.sample(female, 5)\n",
    "couple = zip(a, b)\n",
    "for i, pair in enumerate(couple):\n",
    "    print(f'커플 {i+1}: {pair[0]}, {pair[1]}')"
   ]
  },
  {
   "cell_type": "markdown",
   "id": "9fcd64c1",
   "metadata": {},
   "source": [
    "## Q2. 사용자가 입력한 횟수만큼 로또 번호를 출력하는 프로그램을 작성하세요. (중복불가)"
   ]
  },
  {
   "cell_type": "code",
   "execution_count": 6,
   "id": "f4af509a",
   "metadata": {},
   "outputs": [
    {
     "name": "stdout",
     "output_type": "stream",
     "text": [
      "원하는 수량을 입력해주세요.5\n"
     ]
    }
   ],
   "source": [
    "number = int(input('원하는 수량을 입력해주세요.'))"
   ]
  },
  {
   "cell_type": "code",
   "execution_count": 7,
   "id": "3a7fe0f5",
   "metadata": {},
   "outputs": [
    {
     "ename": "IndentationError",
     "evalue": "expected an indented block (951463939.py, line 17)",
     "output_type": "error",
     "traceback": [
      "\u001b[1;36m  Input \u001b[1;32mIn [7]\u001b[1;36m\u001b[0m\n\u001b[1;33m    print('로또번호 [%d]:' %(i+1))\u001b[0m\n\u001b[1;37m    ^\u001b[0m\n\u001b[1;31mIndentationError\u001b[0m\u001b[1;31m:\u001b[0m expected an indented block\n"
     ]
    }
   ],
   "source": [
    "#1~45까지 출력\n",
    "\n",
    "from random import shuffle\n",
    "from time import sleep\n",
    "\n",
    "i=0\n",
    "\n",
    "for i in range(number):\n",
    "    balls = [x+1 for x in range(45)]  #1~45\n",
    "    lotto = []\n",
    "    for j in range(6):\n",
    "        shuffle(balls)\n",
    "        numbers = balls.pop() #중복추출 방지\n",
    "        lotto.append(numbers)\n",
    "        if j == 6:\n",
    "    \n",
    "    print('로또번호 [%d]:' %(i+1))\n",
    "    print(lotto)\n",
    "    sleep(1)\n",
    "\n",
    "\n",
    "# while True:\n",
    "#     i+=1\n",
    "#     if i<number:\n",
    "#         if num not in lotto:\n",
    "#             lotto.append(num)\n",
    "# num = random.randint(1,45)\n",
    "#         elif len(lotto) == 6:\n",
    "#             print(lotto, 'n')\n",
    "#     elif i==number:break"
   ]
  },
  {
   "cell_type": "markdown",
   "id": "54bebaf3",
   "metadata": {},
   "source": [
    "## [도전과제] 발표자를 원하는 수만큼 랜덤하게 출력하는 프로그램을 작성하세요."
   ]
  },
  {
   "cell_type": "code",
   "execution_count": null,
   "id": "e35462bb",
   "metadata": {},
   "outputs": [],
   "source": [
    "list = ['박영권', '김현지', '김덕현', '변서연', '한지웅', '양주희', '이호원', '정지은', '이정현A', '이명진', '이상윤', '조승현', '강유한', '김영선', '최애림', '김민섭', '박혜린', '이정현B', '윤정준', '김진형', '정승기', '진청아', '신창훈', '김병석', '박세희']"
   ]
  },
  {
   "cell_type": "code",
   "execution_count": null,
   "id": "5f9bc72f",
   "metadata": {},
   "outputs": [],
   "source": [
    "import random \n",
    "import numpy as np\n",
    "\n",
    "\n",
    "list = ['김현지','변서연','양주희','정지은','이정현A',\n",
    "         '이정현B','이명진','김영선','최애림','박혜린',\n",
    "         '진청아','박세희']\n",
    "\n",
    "for i in range(5):\n",
    "    result = [a[i], b[i]]\n",
    "    print(result)\n",
    "\n",
    "print(\"=============== CAKD7 발표자 랜덤 뽑기 입니다.===============\"'\\n')\n",
    "                        \n",
    "get_ran_num = int(input(\" 발표 인원을 입력해주세요 >  \"'\\n')) \n",
    "\n",
    "li = []\n",
    "for i in range()\n",
    "a = random.sample(list, 3)\n",
    "li.append(a)"
   ]
  },
  {
   "cell_type": "code",
   "execution_count": null,
   "id": "fc6a93f3",
   "metadata": {},
   "outputs": [],
   "source": []
  },
  {
   "cell_type": "code",
   "execution_count": null,
   "id": "17f1fbb2",
   "metadata": {},
   "outputs": [],
   "source": [
    "#답 한번해보기\n",
    "import random \n",
    "import numpy as np\n",
    "\n",
    "\n",
    "list = ['김현지','변서연','양주희','정지은','이정현A',\n",
    "         '이정현B','이명진','김영선','최애림','박혜린',\n",
    "         '진청아','박세희']\n",
    "\n",
    "for i in range(5):\n",
    "    result = [a[i], b[i]]\n",
    "    print(result)\n",
    "\n",
    "print(\"=============== CAKD7 발표자 랜덤 뽑기 입니다.===============\"'\\n')\n",
    "                        \n",
    "get_ran_num = int(input(\" 발표 인원을 입력해주세요 >  \"'\\n')) \n",
    "\n",
    "li = []\n",
    "a = random.sample(list, 3)\n",
    "li.append(a)\n",
    "\n",
    "print(\" \")\n",
    "for i in range(get_ran_num):\n",
    "    print(f'{i+1}번 문제 발표자는 {lucky_guy[i]} 입니다.')\n"
   ]
  },
  {
   "cell_type": "code",
   "execution_count": null,
   "id": "29232e8e",
   "metadata": {},
   "outputs": [],
   "source": []
  },
  {
   "cell_type": "markdown",
   "id": "a362ecff",
   "metadata": {},
   "source": [
    "## Q3 입력받은 문자열의 각 문자를 그 다음 문자로 변경하여 출력하세요. abc->bca"
   ]
  },
  {
   "cell_type": "code",
   "execution_count": null,
   "id": "dd26ae9d",
   "metadata": {
    "scrolled": true
   },
   "outputs": [],
   "source": [
    "font = input('문자를 입력하세요.>>')"
   ]
  },
  {
   "cell_type": "code",
   "execution_count": null,
   "id": "e0f81586",
   "metadata": {},
   "outputs": [],
   "source": [
    "change = []\n",
    "for i in range(len(font)): # i의 범위설정 (0~len(font)까지)\n",
    "    \n",
    "    if i <len(font)-1:     # i가 마지막 인덱스 전 까지라면\n",
    "        a = font[i+1]       # 다음 문자로 대체\n",
    "        change.append(a)  \n",
    "    \n",
    "    if i == (len(font)-1):   # 마지막 인덱스는 처음 인덱스로 변경\n",
    "        change.append(font[0]) \n",
    "        \n",
    "('').join(change)    #join으로 묶어서 출력"
   ]
  },
  {
   "cell_type": "code",
   "execution_count": null,
   "id": "e9506d34",
   "metadata": {},
   "outputs": [],
   "source": [
    "#더 간단한 방법\n",
    "font[1:]+font[0]\n",
    "\n",
    "#강사님이 알려주신 법\n",
    "ret = ''\n",
    "for i in range(len(font)):\n",
    "    if i != len(font)-1:\n",
    "        ret += font[i+1]\n",
    "    else:\n",
    "        ret += font[0]\n",
    "print(ret)"
   ]
  },
  {
   "cell_type": "markdown",
   "id": "4dd5c8cb",
   "metadata": {},
   "source": [
    "## Q4 url에서 호스트 도메인을 추출하여 출력하세요.\n",
    "url = 'http://news.naver.com/main/read.nhn?mode=LSD&mid=shm&sid1=105&oid=028&aid=0002334601'\n",
    "- 정답: http://news.naver.com 추출되게끔"
   ]
  },
  {
   "cell_type": "code",
   "execution_count": null,
   "id": "f3c80fd4",
   "metadata": {},
   "outputs": [],
   "source": [
    "url = 'http://news.naver.com/main/read.nhn?mode=LSD&mid=shm&sid1=105&oid=028&aid=0002334601'\n",
    "\n",
    "#인덱스 사용시\n",
    "\n",
    "out = url[:21]\n",
    "out"
   ]
  },
  {
   "cell_type": "code",
   "execution_count": null,
   "id": "46180c61",
   "metadata": {},
   "outputs": [],
   "source": [
    "#join 사용시\n",
    "tmp = url.split('/')\n",
    "domain = tmp[:3]\n",
    "\n",
    "('/').join(domain)"
   ]
  },
  {
   "cell_type": "code",
   "execution_count": null,
   "id": "e2658ef1",
   "metadata": {},
   "outputs": [],
   "source": [
    "tmp"
   ]
  },
  {
   "cell_type": "markdown",
   "id": "ecce7e8c",
   "metadata": {},
   "source": [
    "## Q5. url에서 쿼리문을 추출하여 출력하세요."
   ]
  },
  {
   "cell_type": "markdown",
   "id": "c6d2f288",
   "metadata": {},
   "source": [
    "- url에서 '?'뒤에 표시되는 문자열을 쿼리 문자열이라고 하며 변수=값 사이 &로 구분되어 나열된다.\n",
    "url = 'http://news.naver.com/main/read.nhn?mode=LSD&mid=shm&sid1=105&oid=028&aid=0002334601'"
   ]
  },
  {
   "cell_type": "code",
   "execution_count": null,
   "id": "97a31e86",
   "metadata": {
    "scrolled": true
   },
   "outputs": [],
   "source": [
    "url = 'http://news.naver.com/main/read.nhn?mode=LSD&mid=shm&sid1=105&oid=028&aid=0002334601'\n",
    "\n",
    "p = url.split('?')\n",
    "t = p[1].split('&')\n",
    "\n",
    "t"
   ]
  },
  {
   "cell_type": "markdown",
   "id": "b7cb8c9f",
   "metadata": {},
   "source": [
    "## Q6. 텍스트 파일(mydata.txt)을 읽고  파일의 내용에서 나타나는 문자들에 대해 자주 나타나는 문자들을 아래와 같이 순서대로 출력하세요.\n",
    "- \\[ \\] -> [177]회 나타남\n",
    "- [e] -> [97]회 나타남\n",
    "- [t] -> [85]회 나타남\n"
   ]
  },
  {
   "cell_type": "code",
   "execution_count": null,
   "id": "1b2654eb",
   "metadata": {
    "scrolled": true
   },
   "outputs": [],
   "source": [
    "file = open('dataset/mydata.txt', 'r')"
   ]
  },
  {
   "cell_type": "code",
   "execution_count": null,
   "id": "9bacd1b4",
   "metadata": {},
   "outputs": [],
   "source": [
    "text = file.read()\n",
    "wordList = list(str(text))\n",
    "wordCount = {}\n",
    "for word in wordList:\n",
    "    wordCount[word] = wordCount.get(word,0)+1\n",
    "    keys = sorted(wordCount.keys())\n",
    "for word in keys:\n",
    "    print(word+'->' + str(wordCount[word]) + '회 나타남')"
   ]
  },
  {
   "cell_type": "code",
   "execution_count": null,
   "id": "6a04f249",
   "metadata": {},
   "outputs": [],
   "source": [
    "def getTextFreq(filename):\n",
    "    with open(filename,'r') as f:\n",
    "        text = f.read() #파일 전체 읽기\n",
    "        fa = {} #딕셔너리 형태\n",
    "        for c in text: #파일안에 있는 글자 중에\n",
    "            if c in fa: #{}안에 있으면\n",
    "                fa[c] += 1 #fa[c]의 value값을 +1, 없으면 1로 추가\n",
    "            else:\n",
    "                fa[c] = 1\n",
    "    return fa \n",
    "ret = getTextFreq('dataset/mydata.txt') \n",
    "ret = sorted(ret.items(),key=lambda x:x[1], reverse=True) #각 값들에 키와 값들로 묶어서 값에 대해 정렬 후 리스트로 출력\n",
    "print(ret)\n",
    "for c, freq in ret:\n",
    "    if c =='\\n':\n",
    "        continue\n",
    "    print('[%c] - > [%d]회 나타남' %(c,freq))"
   ]
  },
  {
   "cell_type": "markdown",
   "id": "d5aedec3",
   "metadata": {},
   "source": [
    "## Q7. 두개의 수를 입력한 후 두개의 수에 대한 사칙연산을 수행하세요.(0을 입력한 경우 다시 입력하도록 조치)"
   ]
  },
  {
   "cell_type": "code",
   "execution_count": null,
   "id": "b5c99a88",
   "metadata": {},
   "outputs": [],
   "source": [
    "# Cal4 클래스를 만들어서 작성하기"
   ]
  },
  {
   "cell_type": "code",
   "execution_count": null,
   "id": "440b3993",
   "metadata": {},
   "outputs": [],
   "source": [
    "class Cal4:\n",
    "    def __init__(self, a, b):\n",
    "        self.first = a\n",
    "        self.second = b\n",
    "\n",
    "    def add(self):\n",
    "        return self.first+self.second\n",
    "\n",
    "    def sub(self):\n",
    "        return self.first-self.second\n",
    "\n",
    "    def mul(self):\n",
    "        return self.first*self.second\n",
    "\n",
    "    def div(self):\n",
    "        return self.first/self.second"
   ]
  },
  {
   "cell_type": "code",
   "execution_count": null,
   "id": "d143a49f",
   "metadata": {
    "scrolled": false
   },
   "outputs": [],
   "source": [
    "while True:\n",
    "    a = int(input('첫번째 숫자를 입력해주세요.>>'))\n",
    "    b = int(input('두번째 숫자를 입력해주세요.>>'))\n",
    "    if a*b==0:\n",
    "        print('0이 아닌 숫자를 입력해주세요.')\n",
    "    else:\n",
    "        out = Cal4(a, b)\n",
    "        break\n",
    "\n",
    "print()\n",
    "print('----<a와 b의 사칙연산 결과>----')\n",
    "print('a+b=', out.add())\n",
    "print('a-b=', out.sub())\n",
    "print('a*b=', out.mul())\n",
    "print('a/b=', round(out.div(), 2))"
   ]
  },
  {
   "cell_type": "markdown",
   "id": "eb4e6b28",
   "metadata": {},
   "source": [
    "## Q8. Order 클래스를 상속받아 extraOrder 클래스에서 메소드 오버라이딩하여 출력가격에 원이 추가되도록 출력하기"
   ]
  },
  {
   "cell_type": "code",
   "execution_count": null,
   "id": "c9d39685",
   "metadata": {},
   "outputs": [],
   "source": [
    "class Order: \n",
    "    def __init__(self, name): \n",
    "        self.customer = 0 \n",
    "        self.name = name \n",
    "    def order(self, price): \n",
    "        self.customer += price \n",
    "        return self.customer\n",
    "    \n",
    "order = Order('kevin')\n",
    "print(order.order(1000))"
   ]
  },
  {
   "cell_type": "code",
   "execution_count": null,
   "id": "5257333b",
   "metadata": {},
   "outputs": [],
   "source": [
    "class extraOrder(Order):\n",
    "    def order(self, price): \n",
    "        self.customer += price \n",
    "        won = [str(self.customer), '원']\n",
    "        out = ('').join(won)\n",
    "        print (self.name, '님이 구매하신 금액은', out, '입니다.')\n",
    "\n",
    "order = extraOrder('kevin')\n",
    "order.order(1000)"
   ]
  },
  {
   "cell_type": "markdown",
   "id": "311ac120",
   "metadata": {},
   "source": [
    "## Q9. 업무미팅이 2시임을 알려주는 자동 이메일 클래스 AutoEmail을 작성하여 아래와 같이 출력하세요.\n",
    "안녕하세요. Kevin님, 업무미팅은 2시입니다."
   ]
  },
  {
   "cell_type": "code",
   "execution_count": null,
   "id": "62a18a0c",
   "metadata": {},
   "outputs": [],
   "source": [
    "class AutoEmail:\n",
    "    def __init__(self, name, time):\n",
    "        self.name = name\n",
    "        self.time = time\n",
    "    \n",
    "    def datetime()"
   ]
  },
  {
   "cell_type": "markdown",
   "id": "fb869c7b",
   "metadata": {},
   "source": [
    "# 정규표현식"
   ]
  },
  {
   "cell_type": "markdown",
   "id": "11bb943b",
   "metadata": {},
   "source": [
    "## Q10. 정규표현식을 사용하여 text에서 전화번호만 출력하세요.\n",
    "text = '문의사항이 있으면 032-232-3245으로 연락주시기 바랍니다.'"
   ]
  },
  {
   "cell_type": "code",
   "execution_count": 8,
   "id": "1e4ffb57",
   "metadata": {},
   "outputs": [],
   "source": [
    "import re"
   ]
  },
  {
   "cell_type": "code",
   "execution_count": 9,
   "id": "6294eb0b",
   "metadata": {},
   "outputs": [
    {
     "data": {
      "text/plain": [
       "['032-232-3245']"
      ]
     },
     "execution_count": 9,
     "metadata": {},
     "output_type": "execute_result"
    }
   ],
   "source": [
    "text = '문의사항이 있으면 032-232-3245으로 연락주시기 바랍니다.'\n",
    "f = re.compile(r'\\d{3}[-]\\d{3}[-]\\d{4}')\n",
    "find = f.findall(text)\n",
    "find"
   ]
  },
  {
   "cell_type": "markdown",
   "id": "35de1d8b",
   "metadata": {},
   "source": [
    "## Q11. 정규표현식을 사용하여 text에서 에러가 들어간 부분만 포함하는 리스트를 출력하세요.\n",
    "text = '에러 1122, 레퍼런스 오류, 에러 1033, 아규먼트 오류, 에러 xxx'"
   ]
  },
  {
   "cell_type": "code",
   "execution_count": 10,
   "id": "b390704d",
   "metadata": {},
   "outputs": [
    {
     "data": {
      "text/plain": [
       "['에러 1122', '에러 1033', '에러 xxx']"
      ]
     },
     "execution_count": 10,
     "metadata": {},
     "output_type": "execute_result"
    }
   ],
   "source": [
    "text = '에러 1122, 레퍼런스 오류, 에러 1033, 아규먼트 오류, 에러 xxx'\n",
    "error = re.compile('에러+\\s\\w+')\n",
    "error.findall(text)"
   ]
  },
  {
   "cell_type": "markdown",
   "id": "242e597a",
   "metadata": {},
   "source": [
    "## Q12. 정규표현식을 사용하여 text에서 지역코드만 출력하세요.\n",
    "text = '문의사항이 있으면 032-232-3245으로 연락주시기 바랍니다.'"
   ]
  },
  {
   "cell_type": "code",
   "execution_count": 11,
   "id": "8c569417",
   "metadata": {},
   "outputs": [
    {
     "data": {
      "text/plain": [
       "['032']"
      ]
     },
     "execution_count": 11,
     "metadata": {},
     "output_type": "execute_result"
    }
   ],
   "source": [
    "text = '문의사항이 있으면 032-232-3245으로 연락주시기 바랍니다.'\n",
    "code = re.compile('\\s(\\d{3})')\n",
    "code.findall(text)"
   ]
  },
  {
   "cell_type": "markdown",
   "id": "9aa1a16d",
   "metadata": {},
   "source": [
    "## Q13. 정규표현식을 사용하여 text에서 지역코드 제외한 번호만 출력하세요. \n",
    "text = '문의사항이 있으면 032-232-3245으로 연락주시기 바랍니다.'"
   ]
  },
  {
   "cell_type": "code",
   "execution_count": 12,
   "id": "ee4c9b8d",
   "metadata": {},
   "outputs": [
    {
     "data": {
      "text/plain": [
       "['232-3245']"
      ]
     },
     "execution_count": 12,
     "metadata": {},
     "output_type": "execute_result"
    }
   ],
   "source": [
    "text = '문의사항이 있으면 032-232-3245으로 연락주시기 바랍니다.'\n",
    "call = re.compile('\\d{3}[-]\\d{4}')\n",
    "call.findall(text)"
   ]
  },
  {
   "cell_type": "markdown",
   "id": "fa221b74",
   "metadata": {},
   "source": [
    "## Q14. 'abcdefghij' 에 대하여 중첩을 적용한 서브그룹 5개로 컴파일하여 group()함수를 이용하여 'abcdefghi'와 e'를 출력하세요.\n"
   ]
  },
  {
   "cell_type": "code",
   "execution_count": 13,
   "id": "6ad02096",
   "metadata": {},
   "outputs": [
    {
     "name": "stdout",
     "output_type": "stream",
     "text": [
      "abcdefghi\n",
      "e\n"
     ]
    }
   ],
   "source": [
    "q = 'abcdefghij'\n",
    "p = re.compile(r'(((\\w{4})(\\w))(\\w{4}))\\w')\n",
    "m = p.finditer(q)\n",
    "for i in m:\n",
    "    print(i.group(1))\n",
    "    print(i.group(4))"
   ]
  },
  {
   "cell_type": "code",
   "execution_count": 16,
   "id": "3ea7c9f0",
   "metadata": {},
   "outputs": [
    {
     "name": "stdout",
     "output_type": "stream",
     "text": [
      "abcdefghi\n"
     ]
    },
    {
     "data": {
      "text/plain": [
       "'e'"
      ]
     },
     "execution_count": 16,
     "metadata": {},
     "output_type": "execute_result"
    }
   ],
   "source": [
    "# 다른 방법\n",
    "\n",
    "p = re.compile('(a(b(c(d(e)f)g)h)i)j')\n",
    "m = p.match('abcdefghij')\n",
    "# print(m.group(0))\n",
    "print(m.group(1))\n",
    "m.group(5)"
   ]
  },
  {
   "cell_type": "markdown",
   "id": "9c5dba02",
   "metadata": {},
   "source": [
    "## Q15. 위문제에서 모든 서브 그룹에 대한 문자열을 포함하는 튜플을 출력하세요."
   ]
  },
  {
   "cell_type": "code",
   "execution_count": 14,
   "id": "efcb3477",
   "metadata": {},
   "outputs": [
    {
     "data": {
      "text/plain": [
       "('abcdefghij', 'abcdefghi', 'abcde', 'abcd', 'e', 'fghi')"
      ]
     },
     "execution_count": 14,
     "metadata": {},
     "output_type": "execute_result"
    }
   ],
   "source": [
    "#출력값?\n",
    "(i.group(0), i.group(1), i.group(2), i.group(3), i.group(4), i.group(5))"
   ]
  },
  {
   "cell_type": "code",
   "execution_count": 15,
   "id": "7525e99f",
   "metadata": {},
   "outputs": [
    {
     "data": {
      "text/plain": [
       "('abcdefghij', 'abcdefghi', 'abcde', 'abcd', 'e', 'fghi')"
      ]
     },
     "execution_count": 15,
     "metadata": {},
     "output_type": "execute_result"
    }
   ],
   "source": [
    "li = []\n",
    "for a in range(6):\n",
    "    li.append(i.group(a))\n",
    "tu = tuple(li)\n",
    "\n",
    "tu"
   ]
  },
  {
   "cell_type": "markdown",
   "id": "ff3c7baa",
   "metadata": {},
   "source": [
    "## Q16. 이름으로 그룹을 참조하여 'Lots of punctuation 에서 Lots를 출력하세요.\n"
   ]
  },
  {
   "cell_type": "code",
   "execution_count": 3,
   "id": "96a68f4b",
   "metadata": {},
   "outputs": [
    {
     "data": {
      "text/plain": [
       "'Lots'"
      ]
     },
     "execution_count": 3,
     "metadata": {},
     "output_type": "execute_result"
    }
   ],
   "source": [
    "import re\n",
    "text = 'Lots of punctuation'\n",
    "\n",
    "p = re.compile('^(?P<find>\\w+)\\s')\n",
    "result = p.search(text)\n",
    "result.group('find') #그룹에 ''붙이기"
   ]
  },
  {
   "cell_type": "markdown",
   "id": "a21a91fc",
   "metadata": {},
   "source": [
    "## Q17. 'Paris is very very beautiful.'에서 'very very'를 출력하세요."
   ]
  },
  {
   "cell_type": "code",
   "execution_count": 7,
   "id": "3d08d9d1",
   "metadata": {},
   "outputs": [
    {
     "data": {
      "text/plain": [
       "['very very']"
      ]
     },
     "execution_count": 7,
     "metadata": {},
     "output_type": "execute_result"
    }
   ],
   "source": [
    "A = 'Paris is very very beautiful.'\n",
    "\n",
    "p = re.compile(r'\\w{4}\\s\\w{4}')\n",
    "p.findall(A)"
   ]
  },
  {
   "cell_type": "markdown",
   "id": "f9c8db53",
   "metadata": {},
   "source": [
    "## Q18. 정규표현식을 작성하여 아래와 같이 출력하세요.\n",
    "출력 답: ['1 apple', '5 oranges', '3 boys', '4 girls', '10 army', '11 mr']"
   ]
  },
  {
   "cell_type": "code",
   "execution_count": 17,
   "id": "3961affc",
   "metadata": {
    "scrolled": true
   },
   "outputs": [
    {
     "name": "stdout",
     "output_type": "stream",
     "text": [
      "['1 apple', '5 oranges', '3 boys', '4 girls', '10 army', '11 mr']\n"
     ]
    }
   ],
   "source": [
    "import re\n",
    "li = '1 apple, 5 oranges, 3 boys, 4 girls; 10 army| 11 mr'\n",
    "regex = re.compile('(\\d+\\s\\w+)')\n",
    "list = regex.findall(li)\n",
    "print(list)"
   ]
  },
  {
   "cell_type": "markdown",
   "id": "5dcbd40d",
   "metadata": {},
   "source": [
    "## Q19. text에서 'H, h'만 출력하세요."
   ]
  },
  {
   "cell_type": "code",
   "execution_count": 24,
   "id": "12db474e",
   "metadata": {},
   "outputs": [
    {
     "data": {
      "text/plain": [
       "['H', 'h', 'h']"
      ]
     },
     "execution_count": 24,
     "metadata": {},
     "output_type": "execute_result"
    }
   ],
   "source": [
    "text = 'Hello my friend! Life is short you need Python!'\n",
    "\n",
    "t = re.compile('[Hh]')\n",
    "t.findall(text)"
   ]
  },
  {
   "cell_type": "markdown",
   "id": "9ed503f6",
   "metadata": {},
   "source": [
    "## Q20. text에서 ''H, h' 가 아닌 것만  모두 출력하세요."
   ]
  },
  {
   "cell_type": "code",
   "execution_count": 27,
   "id": "083a3b1b",
   "metadata": {
    "scrolled": true
   },
   "outputs": [
    {
     "data": {
      "text/plain": [
       "'ello my friend! Life is sort you need Pyton!'"
      ]
     },
     "execution_count": 27,
     "metadata": {},
     "output_type": "execute_result"
    }
   ],
   "source": [
    "t = re.compile('[^Hh]')\n",
    "li = t.findall(text)\n",
    "('').join(li)"
   ]
  },
  {
   "cell_type": "markdown",
   "id": "d4650f34",
   "metadata": {},
   "source": [
    "## Q21.  'we are going home'에서 home만 출력하세요."
   ]
  },
  {
   "cell_type": "code",
   "execution_count": 1,
   "id": "16ddddbe",
   "metadata": {},
   "outputs": [
    {
     "data": {
      "text/plain": [
       "['home']"
      ]
     },
     "execution_count": 1,
     "metadata": {},
     "output_type": "execute_result"
    }
   ],
   "source": [
    "#정규식 사용\n",
    "import re\n",
    "w = 'we are going home'\n",
    "h = re.compile('[h]\\w+')\n",
    "p = h.findall(w)\n",
    "p"
   ]
  },
  {
   "cell_type": "code",
   "execution_count": null,
   "id": "91b53f27",
   "metadata": {},
   "outputs": [],
   "source": [
    "h1 = re.compile(\"\\w+$\")"
   ]
  },
  {
   "cell_type": "code",
   "execution_count": 17,
   "id": "09b8ba0f",
   "metadata": {},
   "outputs": [
    {
     "data": {
      "text/plain": [
       "'home'"
      ]
     },
     "execution_count": 17,
     "metadata": {},
     "output_type": "execute_result"
    }
   ],
   "source": [
    "#인덱스 사용\n",
    "w[-4:]"
   ]
  },
  {
   "cell_type": "markdown",
   "id": "f5416e95",
   "metadata": {},
   "source": [
    "## Q22. '199305, 1923A, a93247'에서 '199305'만 출력하세요."
   ]
  },
  {
   "cell_type": "code",
   "execution_count": 2,
   "id": "620d76d8",
   "metadata": {},
   "outputs": [
    {
     "data": {
      "text/plain": [
       "'199305'"
      ]
     },
     "execution_count": 2,
     "metadata": {},
     "output_type": "execute_result"
    }
   ],
   "source": [
    "number = '199305, 1923A, a93247'\n",
    "n = re.compile('\\d+')\n",
    "p = n.findall(number)\n",
    "p[0]"
   ]
  },
  {
   "cell_type": "markdown",
   "id": "bf719993",
   "metadata": {},
   "source": [
    "## Q23. '12345abc'에서 'abc'만 출력하세요.\n"
   ]
  },
  {
   "cell_type": "code",
   "execution_count": 28,
   "id": "06c1c268",
   "metadata": {},
   "outputs": [
    {
     "data": {
      "text/plain": [
       "'abc'"
      ]
     },
     "execution_count": 28,
     "metadata": {},
     "output_type": "execute_result"
    }
   ],
   "source": [
    "text1 = '12345abc'\n",
    "t = re.search(r'[0-9]+((\\w).*)', text1)\n",
    "t.group(1)"
   ]
  },
  {
   "cell_type": "code",
   "execution_count": 33,
   "id": "2dca6518",
   "metadata": {},
   "outputs": [
    {
     "data": {
      "text/plain": [
       "'abc'"
      ]
     },
     "execution_count": 33,
     "metadata": {},
     "output_type": "execute_result"
    }
   ],
   "source": [
    "text1 = '12345abc'\n",
    "m = re.search('\\D+', text1)\n",
    "m.group()"
   ]
  },
  {
   "cell_type": "markdown",
   "id": "31836929",
   "metadata": {},
   "source": [
    "## Q24. '12345abc'에서 'a'만 출력하세요.\n"
   ]
  },
  {
   "cell_type": "code",
   "execution_count": 22,
   "id": "0c9e68af",
   "metadata": {
    "scrolled": true
   },
   "outputs": [
    {
     "data": {
      "text/plain": [
       "'a'"
      ]
     },
     "execution_count": 22,
     "metadata": {},
     "output_type": "execute_result"
    }
   ],
   "source": [
    "t.group(2)"
   ]
  },
  {
   "cell_type": "code",
   "execution_count": 36,
   "id": "c893f847",
   "metadata": {},
   "outputs": [
    {
     "data": {
      "text/plain": [
       "'a'"
      ]
     },
     "execution_count": 36,
     "metadata": {},
     "output_type": "execute_result"
    }
   ],
   "source": [
    "m = re.search('[a-z]', text1)\n",
    "m.group()"
   ]
  },
  {
   "cell_type": "markdown",
   "id": "83551459",
   "metadata": {},
   "source": [
    "## Q25.  'abc12345Abc'에서 'A'만 출력하세요."
   ]
  },
  {
   "cell_type": "code",
   "execution_count": 30,
   "id": "11d08316",
   "metadata": {},
   "outputs": [
    {
     "data": {
      "text/plain": [
       "'A'"
      ]
     },
     "execution_count": 30,
     "metadata": {},
     "output_type": "execute_result"
    }
   ],
   "source": [
    "text2 = 'abc12345Abc'\n",
    "t = re.search(r'[0-9]+((\\w).*)', text2)\n",
    "t.group(2)"
   ]
  },
  {
   "cell_type": "markdown",
   "id": "b473f438",
   "metadata": {},
   "source": [
    "- 07/22"
   ]
  },
  {
   "cell_type": "markdown",
   "id": "7fcdaaf0",
   "metadata": {},
   "source": [
    "## Q26. 'Banker'에서 'anker', 'banker123'에서 'banker'를 출력하세요"
   ]
  },
  {
   "cell_type": "code",
   "execution_count": 4,
   "id": "b9cb5125",
   "metadata": {},
   "outputs": [
    {
     "name": "stdout",
     "output_type": "stream",
     "text": [
      "anker\n",
      "banker\n"
     ]
    }
   ],
   "source": [
    "import re\n",
    "text = 'Banker'\n",
    "t = re.search('[a-z]+', text)\n",
    "print(t.group())\n",
    "\n",
    "text1 = 'banker123'\n",
    "t1  = re.search('([a-z]+)', text1)\n",
    "print(t1.group())"
   ]
  },
  {
   "cell_type": "markdown",
   "id": "90c778bb",
   "metadata": {},
   "source": [
    "## Q27. 'KOREA 대한민국'에서 '대'만 출력하세요."
   ]
  },
  {
   "cell_type": "code",
   "execution_count": 15,
   "id": "8510a14d",
   "metadata": {},
   "outputs": [
    {
     "data": {
      "text/plain": [
       "['대']"
      ]
     },
     "execution_count": 15,
     "metadata": {},
     "output_type": "execute_result"
    }
   ],
   "source": [
    "ko = 'KOREA 대한민국'\n",
    "k = re.compile('\\s(\\w)')\n",
    "k.findall(ko)"
   ]
  },
  {
   "cell_type": "code",
   "execution_count": 6,
   "id": "db39877b",
   "metadata": {},
   "outputs": [
    {
     "data": {
      "text/plain": [
       "'대'"
      ]
     },
     "execution_count": 6,
     "metadata": {},
     "output_type": "execute_result"
    }
   ],
   "source": [
    "ko = 'KOREA 대한민국'\n",
    "k = re.search('[가-힣]', ko)\n",
    "k.group()"
   ]
  },
  {
   "cell_type": "markdown",
   "id": "36883cea",
   "metadata": {},
   "source": [
    "## Q28. text 에서 'aaaaBBBcccDDDeee'을 모두 출력하세요.\n",
    "text = 'aaaBBccDDeeaaaaBBBcccDDDeeeeeeDDDcccBBBaaaa'"
   ]
  },
  {
   "cell_type": "code",
   "execution_count": 1,
   "id": "7a07af78",
   "metadata": {},
   "outputs": [
    {
     "name": "stdout",
     "output_type": "stream",
     "text": [
      "aaaaBBBcccDDDeeeeeeDDDcccBBBaaaa\n"
     ]
    },
    {
     "data": {
      "text/plain": [
       "'aaaaBBBcccDDDeee'"
      ]
     },
     "execution_count": 1,
     "metadata": {},
     "output_type": "execute_result"
    }
   ],
   "source": [
    "import re\n",
    "text = 'aaaBBccDDeeaaaaBBBcccDDDeeeeeeDDDcccBBBaaaa'\n",
    "t3 = re.search('[e]([a]\\w+)', text)\n",
    "t4 = t3.group(1)\n",
    "print(t4)\n",
    "len(t4)\n",
    "t4[:16]"
   ]
  },
  {
   "cell_type": "code",
   "execution_count": 2,
   "id": "53d49598",
   "metadata": {},
   "outputs": [
    {
     "data": {
      "text/plain": [
       "'aaaaBBBcccDDDeee'"
      ]
     },
     "execution_count": 2,
     "metadata": {},
     "output_type": "execute_result"
    }
   ],
   "source": [
    "text = 'aaaBBccDDeeaaaaBBBcccDDDeeeeeeDDDcccBBBaaaa'\n",
    "t3 = re.search('a{4}B{3}c{3}D{3}e{3}', text)\n",
    "t3.group()\n"
   ]
  },
  {
   "cell_type": "markdown",
   "id": "4eb1ae17",
   "metadata": {},
   "source": [
    "## Q29. 아래의 경우에서 \\<html>만 출력하세요\n"
   ]
  },
  {
   "cell_type": "code",
   "execution_count": 34,
   "id": "9905f8fd",
   "metadata": {},
   "outputs": [
    {
     "name": "stdout",
     "output_type": "stream",
     "text": [
      "59\n"
     ]
    },
    {
     "data": {
      "text/plain": [
       "'<html>'"
      ]
     },
     "execution_count": 34,
     "metadata": {},
     "output_type": "execute_result"
    }
   ],
   "source": [
    "# Q.\n",
    "pattern = re.compile('<.*>')\n",
    "text = '<html><head><title>Title</title></head><body></body></html>'\n",
    "\n",
    "print(len(text))\n",
    "p = pattern.search(text)\n",
    "l = p.group(0)\n",
    "li = l.split('<head>')\n",
    "li[0]"
   ]
  },
  {
   "cell_type": "code",
   "execution_count": 11,
   "id": "46e2273a",
   "metadata": {},
   "outputs": [
    {
     "name": "stdout",
     "output_type": "stream",
     "text": [
      "59\n",
      "<html>\n"
     ]
    }
   ],
   "source": [
    "import re\n",
    "text = '<html><head><title>Title</title></head><body></body></html>'\n",
    "\n",
    "pattern = re.compile('<.*?>')\n",
    "\n",
    "print(len(text))\n",
    "p = pattern.search(text)\n",
    "print(p.group())"
   ]
  },
  {
   "cell_type": "code",
   "execution_count": 26,
   "id": "1ed14d03",
   "metadata": {},
   "outputs": [
    {
     "data": {
      "text/plain": [
       "['<html><head><title>Title</title></head><body></body></html>']"
      ]
     },
     "execution_count": 26,
     "metadata": {},
     "output_type": "execute_result"
    }
   ],
   "source": [
    "p1 = pattern.findall(text)\n",
    "p1 "
   ]
  },
  {
   "cell_type": "markdown",
   "id": "68dd2b72",
   "metadata": {},
   "source": [
    "## Q30. '1234a1234'에서  '1', '2', '3', '4'를 모두 출력하세요."
   ]
  },
  {
   "cell_type": "code",
   "execution_count": 12,
   "id": "760478cc",
   "metadata": {
    "scrolled": true
   },
   "outputs": [
    {
     "data": {
      "text/plain": [
       "['1', '2', '3', '4', '1', '2', '3', '4']"
      ]
     },
     "execution_count": 12,
     "metadata": {},
     "output_type": "execute_result"
    }
   ],
   "source": [
    "text2 = '1234a1234'\n",
    "t4 = re.compile('\\d')\n",
    "t5 = t4.findall(text2)\n",
    "t5"
   ]
  },
  {
   "cell_type": "markdown",
   "id": "b302fdc3",
   "metadata": {},
   "source": [
    "# 07/25"
   ]
  },
  {
   "cell_type": "markdown",
   "id": "60bbc20f",
   "metadata": {},
   "source": [
    "## Q32.  text에서 전체문장 모두 출력하세요."
   ]
  },
  {
   "cell_type": "code",
   "execution_count": 1,
   "id": "1d0c97b3",
   "metadata": {},
   "outputs": [
    {
     "name": "stdout",
     "output_type": "stream",
     "text": [
      "what are you doing?\n",
      "it is going to be late for school\n",
      "we need to hurry up\n"
     ]
    }
   ],
   "source": [
    "import re\n",
    "\n",
    "text = \"what are you doing?\\nit is going to be late for school\\nwe need to hurry up\"\n",
    "regex = re.compile('\\D*') #\\D 숫자뻬고 모든 문자(기호 포함)\n",
    "mo = regex.search(text)\n",
    "print(mo.group())"
   ]
  },
  {
   "cell_type": "code",
   "execution_count": 2,
   "id": "1d332621",
   "metadata": {},
   "outputs": [
    {
     "name": "stdout",
     "output_type": "stream",
     "text": [
      "what are you doing?\n",
      "it is going to be late for school\n",
      "we need to hurry up\n"
     ]
    }
   ],
   "source": [
    "#다른 방법\n",
    "\n",
    "text = \"what are you doing?\\nit is going to be late for school\\nwe need to hurry up\"\n",
    "regex = re.compile('.*', re.DOTALL) # .* : 줄바꿈 문자가 있는곳 까지 출력 (DOTALL로 줄바꿈도 같이 출력)\n",
    "mo = regex.search(text)\n",
    "print(mo.group())"
   ]
  },
  {
   "cell_type": "markdown",
   "id": "58dd29c5",
   "metadata": {},
   "source": [
    "## Q33. text에서 대소문자 구분없이 전체문장 모두 출력하세요\n"
   ]
  },
  {
   "cell_type": "code",
   "execution_count": null,
   "id": "07de1e5d",
   "metadata": {},
   "outputs": [],
   "source": [
    "text = 'Friend fRiend friEnd FRIEND'"
   ]
  },
  {
   "cell_type": "code",
   "execution_count": 5,
   "id": "8d78e692",
   "metadata": {
    "scrolled": true
   },
   "outputs": [
    {
     "name": "stdout",
     "output_type": "stream",
     "text": [
      "Friend\n",
      "fRiend\n",
      "friEnd\n",
      "FRIEND\n"
     ]
    }
   ],
   "source": [
    "#다른 방법\n",
    "text = 'Friend fRiend friEnd FRIEND'\n",
    "\n",
    "regex = re.compile('friend',re.I) #re.I : 대소문자 구분없이 출력\n",
    "mo = regex.findall(text)\n",
    "for i in mo:\n",
    "    print(i)"
   ]
  },
  {
   "cell_type": "markdown",
   "id": "b4e9b558",
   "metadata": {},
   "source": [
    "# 날짜"
   ]
  },
  {
   "cell_type": "markdown",
   "id": "c7e1bdb4",
   "metadata": {},
   "source": [
    "## Q34. 1609160537.371015을 \"Sat Jun 26 08:35:03 2021\" 포멧으로 출력하세요.\n"
   ]
  },
  {
   "cell_type": "code",
   "execution_count": 3,
   "id": "994d7d55",
   "metadata": {
    "scrolled": true
   },
   "outputs": [
    {
     "name": "stdout",
     "output_type": "stream",
     "text": [
      "Mon Dec 28 22:02:17 2020\n",
      "Wed Jul 27 08:15:20 2022\n",
      "Mon Dec 28 22:02:17 2020 <class 'str'>\n"
     ]
    }
   ],
   "source": [
    "import time\n",
    "from datetime import datetime\n",
    "d = datetime.fromtimestamp(1609160537.371015)\n",
    "print(d.strftime('%c'))\n",
    "\n",
    "#정석\n",
    "time1 = datetime.fromtimestamp(int(1609160537.371015))\n",
    "time1 = time.strftime(\"%a %b %d %H:%M:%S %Y\")\n",
    "print(time1)\n",
    "\n",
    "#다른 방법\n",
    "timestring=time.ctime(1609160537.371015) \n",
    "#ctime : timestamp를 현지 시간대 기준으로 요월일 시:분:초 년 포멧으로 변환해줌\n",
    "print(timestring, type(timestring))"
   ]
  },
  {
   "cell_type": "markdown",
   "id": "97536949",
   "metadata": {},
   "source": [
    "## Q35. 현재 날짜와 시간을 \"Sat Jun 26 08:35:03 2021\" 포멧으로 출력하세요."
   ]
  },
  {
   "cell_type": "code",
   "execution_count": 4,
   "id": "966932fa",
   "metadata": {},
   "outputs": [
    {
     "data": {
      "text/plain": [
       "'Wed Jul 27 08:15:S 2022'"
      ]
     },
     "execution_count": 4,
     "metadata": {},
     "output_type": "execute_result"
    }
   ],
   "source": [
    "t = time.time()\n",
    "d = datetime.fromtimestamp(t)\n",
    "d1 = time.strftime('%a %b %d %H:%M:S %Y')\n",
    "d1"
   ]
  },
  {
   "cell_type": "markdown",
   "id": "04b66e37",
   "metadata": {},
   "source": [
    "- 07/26"
   ]
  },
  {
   "cell_type": "markdown",
   "id": "ee9b6979",
   "metadata": {},
   "source": [
    "## Q36. 현재 시간을 년-월-일 시:분:초로 출력하세요."
   ]
  },
  {
   "cell_type": "code",
   "execution_count": 5,
   "id": "7ddc01c7",
   "metadata": {},
   "outputs": [
    {
     "data": {
      "text/plain": [
       "'2022-07-27 08:15:26'"
      ]
     },
     "execution_count": 5,
     "metadata": {},
     "output_type": "execute_result"
    }
   ],
   "source": [
    "from datetime import datetime \n",
    "\n",
    "now = datetime.now()\n",
    "result = now.strftime('%Y-%m-%d %H:%M:%S')\n",
    "result"
   ]
  },
  {
   "cell_type": "markdown",
   "id": "ccf91835",
   "metadata": {},
   "source": [
    "## Q37. 현재 시간을 time.time을 불러와서 년-월-일 시:분:초로 출력하세요.\n"
   ]
  },
  {
   "cell_type": "code",
   "execution_count": 6,
   "id": "08f30347",
   "metadata": {},
   "outputs": [
    {
     "data": {
      "text/plain": [
       "'2022-07-27 08:15:29'"
      ]
     },
     "execution_count": 6,
     "metadata": {},
     "output_type": "execute_result"
    }
   ],
   "source": [
    "import time\n",
    "\n",
    "now = time.time()\n",
    "result = datetime.fromtimestamp(now)\n",
    "d1 = time.strftime('%Y-%m-%d %H:%M:%S')\n",
    "d1"
   ]
  },
  {
   "cell_type": "markdown",
   "id": "c9006f21",
   "metadata": {},
   "source": [
    "## Q38. 올해 경과된 날짜수 계산하세요\n"
   ]
  },
  {
   "cell_type": "code",
   "execution_count": 7,
   "id": "ad3a54e0",
   "metadata": {},
   "outputs": [
    {
     "name": "stdout",
     "output_type": "stream",
     "text": [
      "경과된 날짜수: 207 일\n"
     ]
    }
   ],
   "source": [
    "before = datetime.strptime('20220101', '%Y%m%d')\n",
    "now = datetime.now()\n",
    "\n",
    "date = now - before\n",
    "print('경과된 날짜수:', date.days, '일')"
   ]
  },
  {
   "cell_type": "markdown",
   "id": "3f133eec",
   "metadata": {},
   "source": [
    "## Q39. 현재 요일을 \"2021-6-26 오늘은 토요일입니다.\"와 같은 형식으로 출력하세요.\n"
   ]
  },
  {
   "cell_type": "code",
   "execution_count": 8,
   "id": "8c218c22",
   "metadata": {},
   "outputs": [
    {
     "name": "stdout",
     "output_type": "stream",
     "text": [
      "2022-07-27 오늘은 수요일 입니다.\n"
     ]
    }
   ],
   "source": [
    "times = datetime.today()\n",
    "day = times.weekday()\n",
    "days = ['월요일', '화요일', '수요일', '목요일', '금요일', '토요일', '일요일']\n",
    "\n",
    "#년-월-일\n",
    "year_day = time.strftime('%Y-%m-%d')\n",
    "\n",
    "print(year_day, '오늘은', days[day], '입니다.')"
   ]
  },
  {
   "cell_type": "code",
   "execution_count": null,
   "id": "c28f76a9",
   "metadata": {},
   "outputs": [],
   "source": [
    "today = datetime.date.today()\n",
    "\n",
    "#다른 방법\n",
    "def get_yoil(y,m,d):\n",
    "    "
   ]
  },
  {
   "cell_type": "markdown",
   "id": "1b0d921d",
   "metadata": {},
   "source": [
    "## Q40. 1에서 백만까지 더하는데 걸리는 프로그램 실행 시간을 밀리초(ms) 단위로 구하세요.\n"
   ]
  },
  {
   "cell_type": "code",
   "execution_count": 10,
   "id": "166496b0",
   "metadata": {},
   "outputs": [
    {
     "name": "stdout",
     "output_type": "stream",
     "text": [
      "500000500000\n",
      "0.0968468189239502\n"
     ]
    }
   ],
   "source": [
    "before = time.time()\n",
    "\n",
    "result = 0\n",
    "for i in range(1, 1000001):\n",
    "    result +=i\n",
    "print(result)\n",
    "\n",
    "after = time.time()\n",
    "\n",
    "hour = after-before\n",
    "print(hour)"
   ]
  },
  {
   "cell_type": "code",
   "execution_count": 14,
   "id": "e7ae9909",
   "metadata": {},
   "outputs": [
    {
     "name": "stdout",
     "output_type": "stream",
     "text": [
      "96846.8189239502 ms\n"
     ]
    }
   ],
   "source": [
    "# 1ms = 0.000001초 (1초 = 10**6)\n",
    "\n",
    "hour_ms = hour*(10**6)\n",
    "print(hour_ms, 'ms')"
   ]
  },
  {
   "cell_type": "markdown",
   "id": "0cb63b5d",
   "metadata": {},
   "source": [
    "- 07/27"
   ]
  },
  {
   "cell_type": "markdown",
   "id": "4181b5e2",
   "metadata": {},
   "source": [
    "## Q41. 아래 코드를 보완하여 발생 가능한 모든 예외(정수, 인덱스, 미리 파악하지 못한 예외)를 처리한 후 마지막에  '모든 예외처리 완료'를 출력하세요.\n",
    "\n",
    "list_num = [52,273,32,72,100]\n",
    "\n",
    "num_input = int(input('정수 입력> '))\n",
    "print(f'{num_input}번째 요소: {list_num[num_input-1]}')"
   ]
  },
  {
   "cell_type": "code",
   "execution_count": 24,
   "id": "5b3a82f5",
   "metadata": {
    "scrolled": true
   },
   "outputs": [
    {
     "name": "stdout",
     "output_type": "stream",
     "text": [
      "정수 입력> 88\n",
      "52,273,32,72,100 중에서만 입력해주세요!\n",
      "예외처리 완료!\n"
     ]
    }
   ],
   "source": [
    "list_num = [52,273,32,72,100]\n",
    "\n",
    "try:\n",
    "    num_input = int(input('정수 입력> ')) \n",
    "    print(f'{num_input}번째 요소: {list_num[num_input-1]}')\n",
    "\n",
    "except ValueError:\n",
    "        print('정수만 입력해주세요!')\n",
    "except IndexError:\n",
    "            print('52,273,32,72,100 중에서만 입력해주세요!')\n",
    "except Exception:\n",
    "            print('오류가 발생했습니다. 다시 입력해주세요.')\n",
    "\n",
    "print('예외처리 완료!')"
   ]
  },
  {
   "cell_type": "code",
   "execution_count": 33,
   "id": "200fd5ef",
   "metadata": {},
   "outputs": [
    {
     "name": "stdout",
     "output_type": "stream",
     "text": [
      "dddddddd\n"
     ]
    }
   ],
   "source": [
    "x = input('ddddd')"
   ]
  },
  {
   "cell_type": "code",
   "execution_count": 34,
   "id": "e53a7377",
   "metadata": {},
   "outputs": [
    {
     "data": {
      "text/plain": [
       "str"
      ]
     },
     "execution_count": 34,
     "metadata": {},
     "output_type": "execute_result"
    }
   ],
   "source": [
    "type(x)"
   ]
  },
  {
   "cell_type": "markdown",
   "id": "1febab04",
   "metadata": {},
   "source": [
    "## Q42. 기본가격 1000원인 2개의 상품에 대하여 임의의 추가 가격을 입력시 가격 조정한 결과를 반환하는 Price 클래스를 생성 후 객체를 만들어 price1, price2를 수행하세요. \n",
    "- price1 : 기본가격 + 추가가격\n",
    "- price2 : (기본가격 + 추가가격) * 90%"
   ]
  },
  {
   "cell_type": "code",
   "execution_count": 41,
   "id": "66911096",
   "metadata": {},
   "outputs": [
    {
     "name": "stdout",
     "output_type": "stream",
     "text": [
      "+추가 가격 =8850\n",
      "<추가가격 입력 후 price1과 price2의 가격> \n",
      "\n",
      "price1의 가격: 9850 원\n",
      "price2의 가격: 8865.0 원\n"
     ]
    }
   ],
   "source": [
    "#클래스 생성\n",
    "class Add_price: \n",
    "    \n",
    "    def __init__(self, before_price, add_price): \n",
    "        self.price =  add_price\n",
    "        self.before = before_price\n",
    "        \n",
    "    def price1(self): \n",
    "        return self.before+int(self.price)\n",
    "    \n",
    "    def price2(self):\n",
    "        return (self.before+int(self.price))*0.9\n",
    "\n",
    "while True:\n",
    "    try:\n",
    "        x = int(input('+추가 가격 ='))\n",
    "        price = Add_price(1000, x)\n",
    "        break\n",
    "        \n",
    "    except ValueError:\n",
    "        print('정수만 입력해주세요!')\n",
    "\n",
    "print('<추가가격 입력 후 price1과 price2의 가격>', '\\n')\n",
    "print('price1의 가격:', price.price1(), '원')\n",
    "print('price2의 가격:', price.price2(), '원')"
   ]
  },
  {
   "cell_type": "markdown",
   "id": "dd88cf2d",
   "metadata": {},
   "source": [
    "## Q43. strings를 문자의 크기 순서로 내림차순 정렬하세요\n"
   ]
  },
  {
   "cell_type": "code",
   "execution_count": 49,
   "id": "9a8a454f",
   "metadata": {},
   "outputs": [
    {
     "data": {
      "text/plain": [
       "['ababa', 'aaaa', 'bar', 'ca', 'a']"
      ]
     },
     "execution_count": 49,
     "metadata": {},
     "output_type": "execute_result"
    }
   ],
   "source": [
    "strings = ['a', 'ca', 'bar', 'aaaa', 'ababa']\n",
    "\n",
    "strings.reverse() #역정렬\n",
    "strings"
   ]
  },
  {
   "cell_type": "code",
   "execution_count": null,
   "id": "d57fc26f",
   "metadata": {},
   "outputs": [],
   "source": [
    "#다른 방법\n",
    "strings.sort(key = lambda x:len(x), reverse = True)\n",
    "\n",
    "strings.sort(key = len, reverse = True)\n",
    "strings"
   ]
  },
  {
   "cell_type": "markdown",
   "id": "7adfe01d",
   "metadata": {},
   "source": [
    "## Q44. strings를 다양한 문자가 포함된 순서로 정렬하세요"
   ]
  },
  {
   "cell_type": "code",
   "execution_count": 51,
   "id": "483921a7",
   "metadata": {},
   "outputs": [
    {
     "data": {
      "text/plain": [
       "['aaaa', 'foo', 'abab', 'bar', 'card']"
      ]
     },
     "execution_count": 51,
     "metadata": {},
     "output_type": "execute_result"
    }
   ],
   "source": [
    "strings = ['foo', 'card', 'bar', 'aaaa', 'abab'] \n",
    "strings.sort(key = lambda x:len(set(x)))\n",
    "strings"
   ]
  },
  {
   "cell_type": "code",
   "execution_count": 53,
   "id": "8ad0bf02",
   "metadata": {},
   "outputs": [
    {
     "data": {
      "text/plain": [
       "['card', 'bar', 'abab', 'foo', 'aaaa']"
      ]
     },
     "execution_count": 53,
     "metadata": {},
     "output_type": "execute_result"
    }
   ],
   "source": [
    "#revers 사용 : 역순\n",
    "strings.reverse()\n",
    "strings"
   ]
  },
  {
   "cell_type": "code",
   "execution_count": null,
   "id": "942d6249",
   "metadata": {},
   "outputs": [],
   "source": [
    "#다른 방법\n",
    "strings = ['foo', 'card', 'bar', 'aaaa', 'abab'] \n",
    "strings.sort(key = lambda x:len(set(x)), reverse = True)\n",
    "strings"
   ]
  },
  {
   "cell_type": "markdown",
   "id": "db4002aa",
   "metadata": {},
   "source": [
    "## Q45. 'abcde' 를 'edcba'로 바꾸어 출력하세요.(5가지 방법)"
   ]
  },
  {
   "cell_type": "code",
   "execution_count": 59,
   "id": "55e71c5d",
   "metadata": {},
   "outputs": [
    {
     "name": "stdout",
     "output_type": "stream",
     "text": [
      "edcba\n",
      "\n"
     ]
    }
   ],
   "source": [
    "text = 'abcde'\n",
    "\n",
    "#1번째 [인덱스 사용]\n",
    "print(text[::-1])\n",
    "\n",
    "#2번째 [for문 사용]\n",
    "text = 'abcde'\n",
    "\n",
    "#3번째 []\n",
    "\n",
    "#4번째 []\n",
    "\n",
    "#5번째 []\n"
   ]
  },
  {
   "cell_type": "code",
   "execution_count": 63,
   "id": "1eb847fe",
   "metadata": {},
   "outputs": [
    {
     "ename": "TypeError",
     "evalue": "'str' object does not support item assignment",
     "output_type": "error",
     "traceback": [
      "\u001b[1;31m---------------------------------------------------------------------------\u001b[0m",
      "\u001b[1;31mTypeError\u001b[0m                                 Traceback (most recent call last)",
      "Input \u001b[1;32mIn [63]\u001b[0m, in \u001b[0;36m<cell line: 3>\u001b[1;34m()\u001b[0m\n\u001b[0;32m      1\u001b[0m text \u001b[38;5;241m=\u001b[39m \u001b[38;5;124m'\u001b[39m\u001b[38;5;124mabcde\u001b[39m\u001b[38;5;124m'\u001b[39m\n\u001b[0;32m      3\u001b[0m \u001b[38;5;28;01mfor\u001b[39;00m i \u001b[38;5;129;01min\u001b[39;00m \u001b[38;5;28mrange\u001b[39m(\u001b[38;5;28mlen\u001b[39m(text)):\n\u001b[1;32m----> 4\u001b[0m     text[i] \u001b[38;5;241m=\u001b[39m text[\u001b[38;5;28mlen\u001b[39m(text)\u001b[38;5;241m-\u001b[39m\u001b[38;5;241m1\u001b[39m\u001b[38;5;241m-\u001b[39mi]\n\u001b[0;32m      5\u001b[0m \u001b[38;5;28mprint\u001b[39m(text)\n",
      "\u001b[1;31mTypeError\u001b[0m: 'str' object does not support item assignment"
     ]
    }
   ],
   "source": [
    "text = 'abcde'\n",
    "\n",
    "for i in range(len(text)):\n",
    "    text[i] = text[len(text)-1-i]\n",
    "print(text)"
   ]
  },
  {
   "cell_type": "markdown",
   "id": "0da7301e",
   "metadata": {},
   "source": [
    "- 07/28"
   ]
  },
  {
   "cell_type": "markdown",
   "id": "96d1e2f0",
   "metadata": {},
   "source": [
    "## Q46. numbers 내부에 들어 있는 숫자가 몇 번 등장하는지를 출력하는 코드를 작성하세요."
   ]
  },
  {
   "cell_type": "code",
   "execution_count": 54,
   "id": "ec2d924e",
   "metadata": {},
   "outputs": [
    {
     "name": "stdout",
     "output_type": "stream",
     "text": [
      "3는 4번 등장합니다.\n",
      "6는 2번 등장합니다.\n",
      "5는 2번 등장합니다.\n",
      "8는 2번 등장합니다.\n",
      "2는 2번 등장합니다.\n",
      "9는 2번 등장합니다.\n",
      "7는 2번 등장합니다.\n",
      "4는 2번 등장합니다.\n"
     ]
    }
   ],
   "source": [
    "numbers = [3,6,3,5,8,2,9,7,4,3,6,3,5,8,2,9,7,4]\n",
    "counter = {} #딕셔너리 생성\n",
    "\n",
    "for number in numbers:\n",
    "    \n",
    "    counter[number] = numbers.count(number) #키값 입력 : value값 입력\n",
    "\n",
    "# 리스트로 변환\n",
    "# keys = list(counter.keys())\n",
    "# value = [counter.values()]\n",
    "\n",
    "# # 값 출력\n",
    "for key, value in counter.items():\n",
    "    print(f'{key}는 {value}번 등장합니다.')"
   ]
  },
  {
   "cell_type": "markdown",
   "id": "e395b2f3",
   "metadata": {},
   "source": [
    "## Q47. 코딩을 한줄로 작성해서 동일한 결과를 출력하세요"
   ]
  },
  {
   "cell_type": "code",
   "execution_count": 2,
   "id": "fba0e5cb",
   "metadata": {},
   "outputs": [
    {
     "name": "stdout",
     "output_type": "stream",
     "text": [
      "[0, 4, 16, 36, 64, 100, 144, 196, 256, 324]\n"
     ]
    }
   ],
   "source": [
    "# Q.\n",
    "list = []\n",
    "for i in range(0,20,2):\n",
    "    list.append(i*i)\n",
    "print(list)"
   ]
  },
  {
   "cell_type": "code",
   "execution_count": 4,
   "id": "5aff867b",
   "metadata": {},
   "outputs": [
    {
     "data": {
      "text/plain": [
       "[0, 4, 16, 36, 64, 100, 144, 196, 256, 324]"
      ]
     },
     "execution_count": 4,
     "metadata": {},
     "output_type": "execute_result"
    }
   ],
   "source": [
    "[i*i for i in range(0, 20, 2)]"
   ]
  },
  {
   "cell_type": "markdown",
   "id": "5faab8e0",
   "metadata": {},
   "source": [
    "## Q48. 반복문으로 팩토리얼을 구하는 사용자 함수를 작성하고 5!, 10!를 구하세요.\n"
   ]
  },
  {
   "cell_type": "code",
   "execution_count": 5,
   "id": "3b371fca",
   "metadata": {},
   "outputs": [
    {
     "name": "stdout",
     "output_type": "stream",
     "text": [
      "5!= 120 \n",
      "\n",
      "10!= 3628800\n"
     ]
    }
   ],
   "source": [
    "def factorial(x):\n",
    "    ret = 1\n",
    "    for i in range(1, x+1):\n",
    "        ret*=i\n",
    "    return ret    \n",
    "\n",
    "print('5!=', factorial(5), '\\n')\n",
    "print('10!=', factorial(10))"
   ]
  },
  {
   "cell_type": "markdown",
   "id": "19f62e3c",
   "metadata": {},
   "source": [
    "## Q49. 재귀란 '자기자신을 호출하는 것'을 의미한다. 재귀함수를 이용해서 팩토리얼을 구하는 사용자 함수를 작성하고 1!, 5!, 10!를 구하세요.\n",
    "factorial(n) = n * factorial(n-1) (n >= 1)\n"
   ]
  },
  {
   "cell_type": "code",
   "execution_count": 9,
   "id": "df7fc189",
   "metadata": {
    "scrolled": true
   },
   "outputs": [
    {
     "name": "stdout",
     "output_type": "stream",
     "text": [
      "<출력값>\n",
      "1!= 1 \n",
      "\n",
      "5!= 120 \n",
      "\n",
      "10!= 3628800\n"
     ]
    }
   ],
   "source": [
    "def factoiral(x):\n",
    "    if x == 1:\n",
    "        return 1\n",
    "    elif x>1:\n",
    "        return x*factorial(x-1)\n",
    "    else:\n",
    "        print('숫자를 다시 입력해주세요.!')\n",
    "        \n",
    "print('<출력값>')\n",
    "print('1!=', factorial(1), '\\n')\n",
    "print('5!=', factorial(5), '\\n')\n",
    "print('10!=', factorial(10))"
   ]
  },
  {
   "cell_type": "markdown",
   "id": "8aa8adcb",
   "metadata": {},
   "source": [
    "## Q50. list a의 모든 원소를 실수형으로 바꾸어 출력하세요\n"
   ]
  },
  {
   "cell_type": "code",
   "execution_count": 17,
   "id": "fc5ab928",
   "metadata": {},
   "outputs": [
    {
     "name": "stdout",
     "output_type": "stream",
     "text": [
      "[1.0, 2.0, 3.0, 4.0, 5.0] <class 'float'>\n"
     ]
    }
   ],
   "source": [
    "a = [1,2,3,4,5]\n",
    "a1 = [1.0*x for x in a]\n",
    "print(a1, type(a1[1]))"
   ]
  },
  {
   "cell_type": "code",
   "execution_count": 1,
   "id": "650d8db6",
   "metadata": {},
   "outputs": [
    {
     "data": {
      "text/plain": [
       "[1.0, 2.0, 3.0, 4.0, 5.0]"
      ]
     },
     "execution_count": 1,
     "metadata": {},
     "output_type": "execute_result"
    }
   ],
   "source": [
    "# map 함수 이용\n",
    "a = [1,2,3,4,5]\n",
    "\n",
    "list(map(float, a))"
   ]
  },
  {
   "cell_type": "markdown",
   "id": "bac32d37",
   "metadata": {},
   "source": [
    "- 07/29"
   ]
  },
  {
   "cell_type": "markdown",
   "id": "bdb5d53d",
   "metadata": {},
   "source": [
    "## [도전과제] 문자열 리스트 states를 정형화하여 아래와 같이 출력하세요."
   ]
  },
  {
   "cell_type": "code",
   "execution_count": 9,
   "id": "510c5735",
   "metadata": {
    "scrolled": true
   },
   "outputs": [
    {
     "data": {
      "text/plain": [
       "['Alabama',\n",
       " 'Georgia',\n",
       " 'Georgia',\n",
       " 'Georgia',\n",
       " 'Florida',\n",
       " 'South   Carolina',\n",
       " 'West Virginia']"
      ]
     },
     "execution_count": 9,
     "metadata": {},
     "output_type": "execute_result"
    }
   ],
   "source": [
    "# Q. \n",
    "states = ['   Alabama ', 'Georgia!', 'Georgia', 'georgia', 'FlOrIda',\n",
    "          'south   carolina##', 'West virginia?']\n",
    "#[출력]\n",
    "['Alabama',\n",
    " 'Georgia',\n",
    " 'Georgia',\n",
    " 'Georgia',\n",
    " 'Florida',\n",
    " 'South   Carolina',\n",
    " 'West Virginia']"
   ]
  },
  {
   "cell_type": "code",
   "execution_count": 18,
   "id": "0c8245ab",
   "metadata": {},
   "outputs": [
    {
     "data": {
      "text/plain": [
       "'   Alabama , Georgia, Georgia, georgia, FlOrIda, south   carolina, West virginia'"
      ]
     },
     "execution_count": 18,
     "metadata": {},
     "output_type": "execute_result"
    }
   ],
   "source": [
    "import re\n",
    "text = re.sub('[^a-zA-Z|\\s{2, }]', '', str(states))\n",
    "text"
   ]
  },
  {
   "cell_type": "code",
   "execution_count": null,
   "id": "3376a034",
   "metadata": {},
   "outputs": [],
   "source": []
  },
  {
   "cell_type": "markdown",
   "id": "2d30f912",
   "metadata": {},
   "source": [
    "## Q51. 게시물의 총 건수와 한 페이지에 보여 줄 게시물 수를 입력시 총 페이지 수를 출력하는 프로그램"
   ]
  },
  {
   "cell_type": "code",
   "execution_count": 7,
   "id": "d74373b2",
   "metadata": {},
   "outputs": [
    {
     "name": "stdout",
     "output_type": "stream",
     "text": [
      "총 게시물의 건수를 입력해주세요>>4\n",
      "한페이지에 입력될 게시물의 수를 입력해주세요>> 2\n",
      "다시 입력해주세요.\n"
     ]
    }
   ],
   "source": [
    "try: \n",
    "    total = int(input('총 게시물의 건수를 입력해주세요>>'))\n",
    "    page_1 = int(input('한페이지에 입력될 게시물의 수를 입력해주세요>> '))\n",
    "    \n",
    "    if total%page_1 == 0 :\n",
    "        tatal_page = total//page_1\n",
    "    else:\n",
    "        total_page = (tatal//page_1) + 1\n",
    "    print('총 페이지 수:', total_page)\n",
    "except:\n",
    "    print('다시 입력해주세요.')"
   ]
  },
  {
   "cell_type": "code",
   "execution_count": null,
   "id": "20d9de04",
   "metadata": {},
   "outputs": [],
   "source": [
    "\n",
    "total = int(input('총 게시물의 건수를 입력해주세요>>'))\n",
    "page_1 = int(input('한페이지에 입력될 게시물의 수를 입력해주세요>> '))\n",
    "\n",
    "if total%page_1 == 0:\n",
    "    total_page = total//page_1\n",
    "print(total_page) \n",
    "\n",
    "else:\n",
    "    total_page = (total//page_1) + 1\n",
    "print(total_page)"
   ]
  },
  {
   "cell_type": "code",
   "execution_count": null,
   "id": "2527276b",
   "metadata": {},
   "outputs": [],
   "source": []
  },
  {
   "cell_type": "markdown",
   "id": "b523c688",
   "metadata": {},
   "source": [
    "## Q52. 랜덤하게 1000명의 이름, 키와 몸무게 만들어 저장한 후 다시 불러내어 다음과 같이 출력하세요.\n",
    "\n",
    "- 이름 :라바\n",
    "- 몸무게: 80\n",
    "- 키: 146\n",
    "- BMI: 37.53049352598987\n",
    "- 결과: 과체중\n"
   ]
  },
  {
   "cell_type": "markdown",
   "id": "114080f6",
   "metadata": {},
   "source": [
    "# Q53. 입력한 숫자를 천 단위로 구분하여 출력하기"
   ]
  },
  {
   "cell_type": "code",
   "execution_count": 11,
   "id": "b5f0d4a6",
   "metadata": {},
   "outputs": [
    {
     "name": "stdout",
     "output_type": "stream",
     "text": [
      "숫자를 입력해주세요.1505\n",
      ",,1505\n"
     ]
    }
   ],
   "source": [
    "number = input('숫자를 입력해주세요.')\n",
    "\n",
    "if len(number)>3:\n",
    "    for i in range(3, len(number)):\n",
    "        i +=3\n",
    "        result = number.rjust(i, ',')\n",
    "print(result)"
   ]
  },
  {
   "cell_type": "code",
   "execution_count": null,
   "id": "ccb840b0",
   "metadata": {},
   "outputs": [],
   "source": [
    "# 다른 방법\n",
    "num = int(input('숫자를 입력해주세요.'))\n",
    "if num.isdigit(): # isdigit = 문자열의 모든 문자가 숫자일 때 ture, 문자가 포함되어있을 때 false \n",
    "    num = num[::-1]\n",
    "    com = ' '\n",
    "    \n",
    "    "
   ]
  },
  {
   "cell_type": "markdown",
   "id": "59cf0361",
   "metadata": {},
   "source": [
    "# Q54. 카운터에서 거스름돈으로 사용할  500원, 100원, 50원, 10짜리 동전이 무한히 있다고 가정한다. 손님에게 거를러줘야할 돈이 N원 일 때 거슬러 줘야할 동전의 최소 개수를 구하세요.\n",
    "단, 거슬러 줘야할 돈 N 은 항상 10의배수이다. N은 2750원이다."
   ]
  },
  {
   "cell_type": "code",
   "execution_count": 6,
   "id": "431b647a",
   "metadata": {},
   "outputs": [
    {
     "name": "stdout",
     "output_type": "stream",
     "text": [
      "거스름돈을 입력해주세요.2750\n",
      "최소 거스름돈의 개수: 8 개 입니다.\n"
     ]
    }
   ],
   "source": [
    "coins = [500, 100, 50, 10]\n",
    "count = 0\n",
    "try:\n",
    "    N = int(input('거스름돈을 입력해주세요.'))\n",
    "\n",
    "    for coin in coins:\n",
    "        count += N//coin\n",
    "        N = N % coin\n",
    "    print('최소 거스름돈의 개수:', count, '개 입니다.')\n",
    "except:\n",
    "    print('다시 입력해주세요.!')"
   ]
  },
  {
   "cell_type": "code",
   "execution_count": 13,
   "id": "0c14919d",
   "metadata": {},
   "outputs": [],
   "source": [
    "# 다른방법 (보기)"
   ]
  },
  {
   "cell_type": "markdown",
   "id": "53f058be",
   "metadata": {},
   "source": [
    "## Q55. dataset/mydata.txt 파일에 있는 단어 개수를 출력하세요."
   ]
  },
  {
   "cell_type": "code",
   "execution_count": null,
   "id": "f5ddb8d1",
   "metadata": {},
   "outputs": [],
   "source": [
    "#다시 작성하기 (틀림)"
   ]
  },
  {
   "cell_type": "code",
   "execution_count": 3,
   "id": "4b9bd086",
   "metadata": {},
   "outputs": [
    {
     "name": "stdout",
     "output_type": "stream",
     "text": [
      "단어수 34 개\n"
     ]
    }
   ],
   "source": [
    "li = [] \n",
    "count = 0\n",
    "with open('dataset/mydata.txt', 'r') as f:\n",
    "    for line in f:\n",
    "        if line not in li :\n",
    "            li.append(line)\n",
    "            count +=1\n",
    "        else:\n",
    "            pass\n",
    "print('단어수', count, '개')"
   ]
  },
  {
   "cell_type": "code",
   "execution_count": 5,
   "id": "166960be",
   "metadata": {},
   "outputs": [
    {
     "name": "stdout",
     "output_type": "stream",
     "text": [
      "단어수 34 개\n"
     ]
    }
   ],
   "source": [
    "import re\n",
    "li = []\n",
    "with open('dataset/mydata.txt', 'r') as f:\n",
    "    line = f.read()\n",
    "    for line in f:\n",
    "        if line not in li :\n",
    "            li.append(line)\n",
    "            count +=1\n",
    "        else:\n",
    "            pass\n",
    "print('단어수', count, '개')"
   ]
  },
  {
   "cell_type": "code",
   "execution_count": 4,
   "id": "57970f34",
   "metadata": {},
   "outputs": [
    {
     "name": "stdout",
     "output_type": "stream",
     "text": [
      "단어수 : 213\n"
     ]
    }
   ],
   "source": [
    "# 다른 방법\n",
    "with open('dataset/mydata.txt', 'r') as f:\n",
    "    data = f.read()\n",
    "    tmp = data.split()\n",
    "    print(f'단어수 : {len(tmp)}')"
   ]
  },
  {
   "cell_type": "markdown",
   "id": "11dfdcc8",
   "metadata": {},
   "source": [
    "## Q56. 파일이름과 특정 단어을 인자로 입력하면 그 파일에 있는 특정 단어의 개수를 반환하는 사용자 함수를 이용하여 mydata 파일에서 how의 개수를 출력하세요.\n"
   ]
  },
  {
   "cell_type": "code",
   "execution_count": 34,
   "id": "9bffaf8d",
   "metadata": {},
   "outputs": [
    {
     "name": "stdout",
     "output_type": "stream",
     "text": [
      "출력 개수 :  2 개\n"
     ]
    }
   ],
   "source": [
    "def Find_Count(filename, word) :\n",
    "    count = 0\n",
    "    with open (filename, 'r') as f:\n",
    "        for line in f:\n",
    "            if word in line:\n",
    "                count+=1\n",
    "    return count\n",
    "\n",
    "print('출력 개수 : ', Find_Count(\"dataset/mydata.txt\", \"how\"), '개')"
   ]
  },
  {
   "cell_type": "code",
   "execution_count": 10,
   "id": "58b57333",
   "metadata": {},
   "outputs": [
    {
     "name": "stdout",
     "output_type": "stream",
     "text": [
      "filename을 입력하세요: dataset/mydata.txt\n",
      "filename에서 개수를 구할 단어를 입력하세요: how\n",
      "how의 개수: 2\n"
     ]
    }
   ],
   "source": [
    "# 다른방법\n",
    "def countWord(filename, word):\n",
    "    with open(filename, 'r') as f:\n",
    "        text = f.read()\n",
    "        text = text.lower() #대소문자 구별없이 찾아야 함\n",
    "        pos = text.find(word)\n",
    "        count = 0\n",
    "        while pos != -1: #pos (word가) 없을 때까지 진행\n",
    "            count += 1\n",
    "            pos = text.find(word, pos+1)\n",
    "    return count\n",
    "\n",
    "filename = input('filename을 입력하세요: ')\n",
    "word = input('filename에서 개수를 구할 단어를 입력하세요: ').lower()\n",
    "ret = countWord(filename, word)\n",
    "print(f'{word}의 개수: {ret}')"
   ]
  },
  {
   "cell_type": "markdown",
   "id": "560a9b41",
   "metadata": {},
   "source": [
    "## Q57. 문자열을 입력받아 같은 문자가 연속적으로 반복되는 경우에 그 반복 횟수를 표시해 문자열을 압축하여 표시하세요.\n",
    "- 예) \"aaabbcccccca\" -> a3b2c6a1"
   ]
  },
  {
   "cell_type": "code",
   "execution_count": 81,
   "id": "7954300a",
   "metadata": {},
   "outputs": [
    {
     "name": "stdout",
     "output_type": "stream",
     "text": [
      "****문자열을 입력해주세요.>>aaabbcccccca\n",
      "반복횟수 출력 값: a3b2c6a1\n"
     ]
    }
   ],
   "source": [
    "text = input('****문자열을 입력해주세요.>>')\n",
    "\n",
    "li = []\n",
    "\n",
    "for i in range(len(text)):\n",
    "\n",
    "    if i == 0 :\n",
    "        li.append(text[i])\n",
    "        li.append(str(1))  # 나중에 join을위해 str 형태로 바꿔줌\n",
    "        \n",
    "    elif text[i] == text[i-1]: # 전과같으면 숫자 변경\n",
    "        count = int(li[-1]) # 숫자로 형태 바꿈 (+1을 위해)\n",
    "        count +=1\n",
    "        li[-1] = str(count) \n",
    "    \n",
    "    elif text[i] != text[i-1]: \n",
    "        li.append(text[i])\n",
    "        li.append(str(1))\n",
    "    \n",
    "    result = ''.join(li) # 문자열 합해주기 (a,1,b,2,...)\n",
    "    \n",
    "print('반복횟수 출력 값:', result)"
   ]
  },
  {
   "cell_type": "code",
   "execution_count": 3,
   "id": "98f99a3d",
   "metadata": {},
   "outputs": [
    {
     "data": {
      "text/plain": [
       "'a4b4c5a1'"
      ]
     },
     "execution_count": 3,
     "metadata": {},
     "output_type": "execute_result"
    }
   ],
   "source": [
    "# 다른방법\n",
    "from itertools import groupby # 새로운 라이브러리\n",
    "\n",
    "t = \"aaaabbbbccccca\"\n",
    "\"\".join(f'{x}{len(list(y))}' for x, y in groupby(t))"
   ]
  },
  {
   "cell_type": "markdown",
   "id": "235edd20",
   "metadata": {},
   "source": [
    "## Q60.\n",
    "N개의 요소로 이루어진 배열이 있을 때 주어진 수들을 M번 더하여 가장 큰 수를 만드는 프로그램을 작성하세요. 단 배열의 특정한 인덱스(번호)에 해당하는 수가 연속해서 K번을 초과하여 더해질 수 없는 것이 특징이다.\n",
    "프로그램은 다음 조건을 만족하는 N, M, K를 공백으로 일차 입력하고 N개의 배열을 공백으로 이차 입력하면 결과물을 출력하는 방식으로 수행함.\n",
    "- 2 <= N <= 1000\n",
    "- 1 <= M <= 10000\n",
    "- 1 <= K <= 10000"
   ]
  },
  {
   "cell_type": "code",
   "execution_count": 27,
   "id": "177aec57",
   "metadata": {
    "scrolled": true
   },
   "outputs": [
    {
     "name": "stdout",
     "output_type": "stream",
     "text": [
      "세가지 숫자를 공백으로 입력해주세요>>4 8 6\n",
      "N개의 배열을 공백으로 입력해주세요>>4 8 7 6\n",
      "가장 큰 수는 90입니다!\n"
     ]
    }
   ],
   "source": [
    "# 1번째 방법 while문 사용\n",
    "# 첫번째 조건 (N M K를 입력 받기)\n",
    "\n",
    "while True:\n",
    "    numbers = (input(\"세가지 숫자를 공백으로 입력해주세요>>\")).split()\n",
    "    \n",
    "    try:\n",
    "        number = [int (i) for i in numbers]\n",
    "    except ValueError:\n",
    "        print(\"숫자로만 입력해주세요!!\")\n",
    "        continue\n",
    "    \n",
    "    # 3가지 숫자가 아닐 때\n",
    "    if len(number) !=3:\n",
    "        print(\"세가지 숫자로 입력해주세요!!\")\n",
    "        continue\n",
    "        \n",
    "    N = number[0]\n",
    "    M = number[1]\n",
    "    K =  number[2]\n",
    "    \n",
    "    if (N<2) | (N>1000) | ((M or K) < 1) | ((M or K)>10000):\n",
    "        print(\"조건에 맞게 입력해주세요!\") \n",
    "        continue\n",
    "    if M > N*K: # 최종더하는 횟수가 도달이 안될때\n",
    "        print(f\"*다시입력해주세요!* 총{M}번을 더할 수 없습니다!\")\n",
    "        continue\n",
    "    break\n",
    "    \n",
    "    \n",
    "\n",
    "# 두번째 조건(N개의 배열)\n",
    "while True:\n",
    "    n_arrs = input(\"N개의 배열을 공백으로 입력해주세요>>\")\n",
    "    n_arr = n_arrs.split()\n",
    "\n",
    "    try: # 1. 문자 예외\n",
    "        n_arr = [int (i) for i in n_arr]\n",
    "    except ValueError:\n",
    "        print(\"숫자로만 입력해주세요!!\")\n",
    "        continue\n",
    "\n",
    "    if len(n_arr) != N: # 2. 배열의 개수가 N개와 같지 않으면\n",
    "        print(f\"{N}개의 개수로만 입력해주세요!\")\n",
    "        continue\n",
    "\n",
    "    n_arr.sort(reverse=True) # 큰 숫자 순서대로 나열\n",
    "    result = 0 #변수 생성\n",
    "    \n",
    "# 조건에 맞는 경우---------------------------------------------------------------------------------------------------------------------\n",
    "    if K >= M: \n",
    "        #K가 M보다 클 때\n",
    "\n",
    "        result = n_arr[0]*M  \n",
    "        print(f\"가장 큰 수는 {result}입니다!\")\n",
    "        break;\n",
    "\n",
    "    elif K < M :\n",
    "        for i in range(len(n_arr)):\n",
    "            m = M #총 더해주는 수\n",
    "\n",
    "            result += n_arr[i]*K\n",
    "\n",
    "            m = m-K*(i+1) # 점점 숫자를 빼줌\n",
    "            if m<0: break;\n",
    "    print(f\"가장 큰 수는 {result}입니다!\")\n",
    "\n",
    "    break  "
   ]
  },
  {
   "cell_type": "code",
   "execution_count": 19,
   "id": "ab01ee1f",
   "metadata": {},
   "outputs": [
    {
     "data": {
      "text/plain": [
       "[9, 8, 7, 5, 4]"
      ]
     },
     "execution_count": 19,
     "metadata": {},
     "output_type": "execute_result"
    }
   ],
   "source": [
    "# 2. \n",
    "N = 4 M = 10 K = 2"
   ]
  },
  {
   "cell_type": "code",
   "execution_count": 26,
   "id": "237c96eb",
   "metadata": {},
   "outputs": [
    {
     "name": "stdout",
     "output_type": "stream",
     "text": [
      "350\n"
     ]
    }
   ],
   "source": [
    "# 예시\n",
    "K = 7\n",
    "M = 35\n",
    "n_arr = [5, 8, 6, 7, 10]\n",
    "n_arr.sort(reverse=True)\n",
    "result = 0\n",
    "\n",
    "# #K가 M보다 클 때\n",
    "# result = n_arr[0]*M  \n",
    "    \n",
    "#K가 M보다 작을 때\n",
    "for i in range(len(n_arr)):\n",
    "    m = M #총 더해주는 수\n",
    "\n",
    "    result += n_arr[i]*K\n",
    "\n",
    "    m = m-K*(i+1) # 점점 숫자를 빼줌\n",
    "    if m<0:\n",
    "        pass\n",
    "print(result)"
   ]
  },
  {
   "cell_type": "code",
   "execution_count": null,
   "id": "e31d317b",
   "metadata": {},
   "outputs": [],
   "source": [
    "4 29 \n",
    "1등 * 4 + 2등 * (29-4*1) + 3등 * (29-4*2) + 4등 * (29-4*3) + 5등 * (29-4*4) + 6등 * (29-4*5) + 7등 * (29-4*6) + 8등 * (29-4*7) "
   ]
  },
  {
   "cell_type": "code",
   "execution_count": 2,
   "id": "6566bc9c",
   "metadata": {
    "scrolled": true
   },
   "outputs": [
    {
     "name": "stdout",
     "output_type": "stream",
     "text": [
      "세가지 숫자를 공백으로 입력해주세요>>1 5 e\n",
      "*****가장 큰 수를 구합니다.*****\n",
      "숫자로만 입력해주세요!!\n"
     ]
    },
    {
     "data": {
      "text/plain": [
       "<__main__.Number at 0x1fd90188a90>"
      ]
     },
     "execution_count": 2,
     "metadata": {},
     "output_type": "execute_result"
    }
   ],
   "source": [
    "class Number():\n",
    "    numbers = (input(\"세가지 숫자를 공백으로 입력해주세요>>\")).split()\n",
    "    \n",
    "    def __init__(self):\n",
    "\n",
    "        numbers = self.numbers\n",
    "        print(\"*****가장 큰 수를 구합니다.*****\")\n",
    "        \n",
    "        try:\n",
    "            number = [int (i) for i in numbers]\n",
    "        \n",
    "        except ValueError:\n",
    "            print(\"숫자로만 입력해주세요!!\") ## 1. 문자 오류\n",
    "            self.numbers\n",
    "            \n",
    "Number()"
   ]
  },
  {
   "cell_type": "code",
   "execution_count": 1,
   "id": "3cce7ad1",
   "metadata": {},
   "outputs": [],
   "source": [
    "# class 이용\n",
    "class Number():\n",
    "    \n",
    "    def __init__(self):\n",
    "        print(\"*****가장 큰 수를 구합니다.*****\")\n",
    "        \n",
    "        try: #type오류 체크하기\n",
    "\n",
    "            numbers = (input(\"세가지 숫자를 공백으로 입력해주세요>>\")).split()\n",
    "            number = [int (i) for i in numbers]\n",
    "\n",
    "        except:\n",
    "            print(\"숫자로만 입력해주세요!!\", '\\n') ## 1. 문자 오류\n",
    "            Number.__init__(self) ## 다시 입력받기\n",
    "\n",
    "        if len(number) > 3: # 2. 개수 오류\n",
    "            print(\"숫자를 다시 입력해주세요!!! **3가지 숫자로만 입력하기**\", '\\n')\n",
    "            Number.__init__(self) ## 다시 입력받기\n",
    "            \n",
    "        N = number[0]\n",
    "        M = number[1]\n",
    "        K =  number[2]\n",
    "        \n",
    "        if (N<2) | (N>1000) | ((M or K) < 1) | ((M or K)>10000): # 3. 조건 오류\n",
    "            print(\"조건에 맞게 입력해주세요!\", '\\n') \n",
    "            Number.__init__(self)\n",
    "        \n",
    "# 조건에 부합 할 때만 진행하기\n",
    "            \n",
    "        while True:\n",
    "\n",
    "            n_arrs = (input(\"N개로 이루어진 배열을 공백을 사용해 입력해주세요>>\")).split()\n",
    "\n",
    "            try: #예외처리\n",
    "\n",
    "                n_arr = [int (i) for i in n_arrs]\n",
    "\n",
    "            except ValueError: # 1. 문자 에러\n",
    "                print(\"숫자로만 입력해주세요!!\", '\\n')\n",
    "                continue\n",
    "\n",
    "            if len(n_arr) != N: #  2. 배열의 개수가 N개와 같지 않으면\n",
    "                print(f\"{N}개에 맞춰 다시 입력해주세요!\", '\\n')\n",
    "                continue\n",
    "\n",
    "# 모든 조건 부합 할 때 식--------------------------------------------------------------------------------------------------------------------------\n",
    "\n",
    "            n_arr.sort(reverse=True) # 큰 숫자 순서대로 나열\n",
    "            result = 0 #변수 생성\n",
    "    \n",
    "            if K >= M : #K가 M보다 클 때\n",
    "                result = n_arr[0]*M \n",
    "                print(f\"가장 큰 수는 {result}입니다!\", '\\n')\n",
    "                \n",
    "                break;\n",
    "\n",
    "            elif K < M :\n",
    "                for i in range(1, len(n_arr)):\n",
    "                    m = M # 점점 숫자를 빼줌\n",
    "                    \n",
    "                    result += n_arr[i]*K\n",
    "                    \n",
    "                    m = m-K*(i+1) # 점점 숫자를 빼줌\n",
    "                    if m<0: break;\n",
    "            print(f\"가장 큰 수는 {result}입니다!\")\n",
    "\n",
    "            break;\n",
    "#-------------------------------------------------------------------------------------------------------------------------------------------------"
   ]
  },
  {
   "cell_type": "code",
   "execution_count": 2,
   "id": "80d5885c",
   "metadata": {
    "scrolled": true
   },
   "outputs": [
    {
     "name": "stdout",
     "output_type": "stream",
     "text": [
      "*****가장 큰 수를 구합니다.*****\n",
      "세가지 숫자를 공백으로 입력해주세요>>4 8 0\n",
      "N개로 이루어진 배열을 공백을 사용해 입력해주세요>>4 4 8 \n",
      "4개에 맞춰 다시 입력해주세요! \n",
      "\n",
      "N개로 이루어진 배열을 공백을 사용해 입력해주세요>>4 8 9 7\n",
      "가장 큰 수는 0입니다!\n"
     ]
    },
    {
     "data": {
      "text/plain": [
       "<__main__.Number at 0x29df6d5dd00>"
      ]
     },
     "execution_count": 2,
     "metadata": {},
     "output_type": "execute_result"
    }
   ],
   "source": [
    "Number()"
   ]
  },
  {
   "cell_type": "code",
   "execution_count": null,
   "id": "3542ddd8",
   "metadata": {},
   "outputs": [],
   "source": [
    "# 서연언니 식 보기"
   ]
  },
  {
   "cell_type": "code",
   "execution_count": 4,
   "id": "59f510a5",
   "metadata": {},
   "outputs": [
    {
     "name": "stdout",
     "output_type": "stream",
     "text": [
      "4 8 6\n",
      "4 8 9 7\n",
      "71\n"
     ]
    }
   ],
   "source": [
    "# 강사님 답\n",
    "# N, M, K를 공백을 기준으로 구분하여 입력 받기\n",
    "n, m, k = map(int, input().split())\n",
    "# N개의 수를 공백을 기준으로 구분하여 입력 받기\n",
    "\n",
    "data = list(map(int, input().split()))\n",
    "\n",
    "data.sort() # 입력 받은 수들 정렬하기\n",
    "first = data[n - 1] # 가장 큰 수\n",
    "second = data[n - 2] # 두 번째로 큰 수\n",
    "\n",
    "# 가장 큰 수가 더해지는 횟수 계산\n",
    "count = int(m / (k + 1)) * k\n",
    "count += m % (k + 1)\n",
    "\n",
    "result = 0\n",
    "result += (count) * first # 가장 큰 수 더하기\n",
    "result += (m - count) * second # 두 번째로 큰 수 더하기\n",
    "\n",
    "print(result) # 최종 답안 출력"
   ]
  },
  {
   "cell_type": "code",
   "execution_count": 14,
   "id": "22dcb591",
   "metadata": {},
   "outputs": [
    {
     "data": {
      "text/plain": [
       "71"
      ]
     },
     "execution_count": 14,
     "metadata": {},
     "output_type": "execute_result"
    }
   ],
   "source": [
    "9*6+8*1+9*1"
   ]
  },
  {
   "cell_type": "code",
   "execution_count": 17,
   "id": "e5895c6e",
   "metadata": {},
   "outputs": [
    {
     "data": {
      "text/plain": [
       "6"
      ]
     },
     "execution_count": 17,
     "metadata": {},
     "output_type": "execute_result"
    }
   ],
   "source": [
    "int(8/7)*6"
   ]
  },
  {
   "cell_type": "code",
   "execution_count": 8,
   "id": "92121581",
   "metadata": {},
   "outputs": [
    {
     "name": "stdout",
     "output_type": "stream",
     "text": [
      "7 10 4\n"
     ]
    }
   ],
   "source": [
    "n, m, k = map(int, input().split())"
   ]
  },
  {
   "cell_type": "code",
   "execution_count": 10,
   "id": "109f1265",
   "metadata": {},
   "outputs": [
    {
     "name": "stdout",
     "output_type": "stream",
     "text": [
      "4 8 6 7 8 4 4 5\n"
     ]
    }
   ],
   "source": [
    "data = list(map(int, input().split()))"
   ]
  },
  {
   "cell_type": "code",
   "execution_count": 11,
   "id": "f7642fd4",
   "metadata": {},
   "outputs": [],
   "source": [
    "data.sort() # 입력 받은 수들 정렬하기\n",
    "first = data[n - 1] # 가장 큰 수\n",
    "second = data[n - 2]"
   ]
  },
  {
   "cell_type": "code",
   "execution_count": 12,
   "id": "c61bd2cd",
   "metadata": {},
   "outputs": [
    {
     "data": {
      "text/plain": [
       "8"
      ]
     },
     "execution_count": 12,
     "metadata": {},
     "output_type": "execute_result"
    }
   ],
   "source": [
    "first"
   ]
  },
  {
   "cell_type": "code",
   "execution_count": 13,
   "id": "c0bf23a6",
   "metadata": {
    "scrolled": true
   },
   "outputs": [
    {
     "data": {
      "text/plain": [
       "7"
      ]
     },
     "execution_count": 13,
     "metadata": {},
     "output_type": "execute_result"
    }
   ],
   "source": [
    "second"
   ]
  },
  {
   "cell_type": "code",
   "execution_count": null,
   "id": "5a7e4325",
   "metadata": {},
   "outputs": [],
   "source": [
    "i, j = divmod(M,K)\n",
    "total_sum = sum(array_b[:i]) * 3 + array_b[i] * j\n"
   ]
  },
  {
   "cell_type": "markdown",
   "id": "70d745f2",
   "metadata": {},
   "source": [
    "## Q61. file1, 2의 파일 크기를 각각 구하세요.\n",
    "\n",
    "- file1 = 'data/stockcode.txt'\n",
    "- file2 = 'data/img_sample.jpg'\n"
   ]
  },
  {
   "cell_type": "code",
   "execution_count": 4,
   "id": "cbfbd9f5",
   "metadata": {},
   "outputs": [
    {
     "name": "stdout",
     "output_type": "stream",
     "text": [
      "txt file size: 16339 bytes\n",
      "img file size: 170005 bytes\n"
     ]
    }
   ],
   "source": [
    "# 1번째 방법\n",
    "from pathlib import Path\n",
    "txt_size = Path('stockcode.txt').stat().st_size\n",
    "img_size = Path('img_sample.jpg').stat().st_size\n",
    "\n",
    "print(\"txt file size:\", txt_size, \"bytes\")\n",
    "print(\"img file size:\", img_size, \"bytes\")"
   ]
  },
  {
   "cell_type": "code",
   "execution_count": 5,
   "id": "6a4aa5ac",
   "metadata": {},
   "outputs": [
    {
     "name": "stdout",
     "output_type": "stream",
     "text": [
      "txt file size: 16339 bytes\n",
      "img file size: 170005 bytes\n"
     ]
    }
   ],
   "source": [
    "# 2번째 방법\n",
    "import os\n",
    "txt_size = os.path.getsize(\"stockcode.txt\")\n",
    "img_size = os.path.getsize(\"img_sample.jpg\")\n",
    "\n",
    "print(\"txt file size:\", txt_size, \"bytes\")\n",
    "print(\"img file size:\", img_size, \"bytes\")"
   ]
  },
  {
   "cell_type": "code",
   "execution_count": 6,
   "id": "406a6108",
   "metadata": {},
   "outputs": [
    {
     "name": "stdout",
     "output_type": "stream",
     "text": [
      "16339 170005\n"
     ]
    }
   ],
   "source": [
    "with open('stockcode.txt', 'r') as f:\n",
    "    f.seek(0,2)\n",
    "    at = f.tell()\n",
    "with open('img_sample.jpg', 'r') as f:\n",
    "    f.seek(0,2)\n",
    "    bt = f.tell()\n",
    "    \n",
    "print(at, bt)"
   ]
  },
  {
   "cell_type": "markdown",
   "id": "82dc7277",
   "metadata": {},
   "source": [
    "## Q62.\n",
    "stockcode.txt의 105바이트 위치에서 500바이트를 읽어 그 내용은 stock_part.txt에 저장 한 후 출력하세요.\n"
   ]
  },
  {
   "cell_type": "code",
   "execution_count": 10,
   "id": "af0965fc",
   "metadata": {},
   "outputs": [
    {
     "name": "stdout",
     "output_type": "stream",
     "text": [
      " 유한양행\n",
      "000101 유한양행우\n",
      "000120 대한통운\n",
      "000140 하이트홀딩스\n",
      "000141 하이트홀딩스우\n",
      "000150 두산\n",
      "000151 두산우\n",
      "000152 두산2우B\n",
      "000180 성창기업지주\n",
      "000210 대림산업\n",
      "000211 대림산업우\n",
      "000220 유유제약\n",
      "000221 유유제약1우\n",
      "000222 유유제약2우B\n",
      "000230 일동제약\n",
      "000240 한국타이어\n",
      "000270 기아차\n",
      "000300 대유신소재\n",
      "000320 디피아이홀딩스\n",
      "000321 디피아이홀딩스우\n",
      "000322 디피아이홀딩스2B\n",
      "000360 삼환기업\n",
      "000361 삼환기업우\n",
      "000370 한화손해보험\n",
      "000390 삼화페인트\n",
      "000400 롯데손해보험\n",
      "000420 로\n"
     ]
    },
    {
     "data": {
      "text/plain": [
       "500"
      ]
     },
     "execution_count": 10,
     "metadata": {},
     "output_type": "execute_result"
    }
   ],
   "source": [
    "with open('stockcode.txt', 'rb') as f: #바이트로 읽어야해서 rb로 써야함\n",
    "    f.seek(105,0)\n",
    "    body = f.read(500)\n",
    "with open('stock_part.txt', 'wb') as f: #바이트로 써야해서 wb로 써야함\n",
    "    f.write(body)\n",
    "    \n",
    "with open('stock_part.txt', 'r') as f:\n",
    "    print(f.read())\n",
    "os.path.getsize('stock_part.txt')"
   ]
  },
  {
   "cell_type": "markdown",
   "id": "0ec0ab33",
   "metadata": {},
   "source": [
    "#### Q63. 네이버 검색에서 관심 주제와 기사 수를 입력하면 그만큼 출력하는 크롤링 프로그램을 작성하여 다음 사항을 수행하세요.\n",
    "\n",
    "기사 제목과 링크를 데이터프레임으로 가져온 후 본문 내용에서 한글 단어만 출력하여 형태소 분석\n",
    "최근 국내 'AI'와 관련하여 가장 많이 언급되는 단어에 대한 빈도분석 및 시각화\n",
    "AI 분야에서의 유의할 만한 트랜드 정보 및 인사이트 도출"
   ]
  },
  {
   "cell_type": "code",
   "execution_count": 1,
   "id": "91fe5f54",
   "metadata": {},
   "outputs": [
    {
     "name": "stdout",
     "output_type": "stream",
     "text": [
      "검색 키워드를 입력해주세요AI\n",
      "필요한 뉴스기사의 숫자를 입력해주세요50\n"
     ]
    },
    {
     "data": {
      "text/html": [
       "<div>\n",
       "<style scoped>\n",
       "    .dataframe tbody tr th:only-of-type {\n",
       "        vertical-align: middle;\n",
       "    }\n",
       "\n",
       "    .dataframe tbody tr th {\n",
       "        vertical-align: top;\n",
       "    }\n",
       "\n",
       "    .dataframe thead th {\n",
       "        text-align: right;\n",
       "    }\n",
       "</style>\n",
       "<table border=\"1\" class=\"dataframe\">\n",
       "  <thead>\n",
       "    <tr style=\"text-align: right;\">\n",
       "      <th></th>\n",
       "      <th>title</th>\n",
       "      <th>url</th>\n",
       "    </tr>\n",
       "  </thead>\n",
       "  <tbody>\n",
       "    <tr>\n",
       "      <th>0</th>\n",
       "      <td>KT·서울성모병원, 당뇨 관리 돕는 AI 기술 개발</td>\n",
       "      <td>https://biz.chosun.com/it-science/ict/2022/08/...</td>\n",
       "    </tr>\n",
       "    <tr>\n",
       "      <th>1</th>\n",
       "      <td>삼성전자, AI인재 키워 반도체·디스플레이 연구한다</td>\n",
       "      <td>https://zdnet.co.kr/view/?no=20220807083406</td>\n",
       "    </tr>\n",
       "    <tr>\n",
       "      <th>2</th>\n",
       "      <td>삼성전자 ‘AI 챌린지’</td>\n",
       "      <td>https://www.chosun.com/economy/tech_it/2022/08...</td>\n",
       "    </tr>\n",
       "    <tr>\n",
       "      <th>3</th>\n",
       "      <td>농정원, 스마트농업 AI 경진대회 개최…총상금 1억원</td>\n",
       "      <td>https://www.yna.co.kr/view/AKR2022080806520000...</td>\n",
       "    </tr>\n",
       "    <tr>\n",
       "      <th>4</th>\n",
       "      <td>코트라, 'AI 활용'…중견기업 ESG 모니터링 지원</td>\n",
       "      <td>http://www.edaily.co.kr/news/newspath.asp?news...</td>\n",
       "    </tr>\n",
       "    <tr>\n",
       "      <th>5</th>\n",
       "      <td>네이버-네이버클라우드-충북대병원, AI 활용한 스마트 병원 구축 '맞손'</td>\n",
       "      <td>http://www.newsis.com/view/?id=NISX20220808_00...</td>\n",
       "    </tr>\n",
       "    <tr>\n",
       "      <th>6</th>\n",
       "      <td>KT-NIPA, ICT 벤처에 DX 컨설팅·AI인재 양성 지원</td>\n",
       "      <td>http://www.etnews.com/20220808000071</td>\n",
       "    </tr>\n",
       "    <tr>\n",
       "      <th>7</th>\n",
       "      <td>대구 영진전문대, AI융합기계계열 학술대회 논문상 수상</td>\n",
       "      <td>https://www.news1.kr/articles/4766090</td>\n",
       "    </tr>\n",
       "    <tr>\n",
       "      <th>8</th>\n",
       "      <td>KT, 공감하는 AI로 ‘사람다운’ 로봇 세상 만든다</td>\n",
       "      <td>https://shindonga.donga.com/3/all/13/3546076/1</td>\n",
       "    </tr>\n",
       "    <tr>\n",
       "      <th>9</th>\n",
       "      <td>영남중·대구고 SW동아리, MS 주최 AI 경진대회 수상</td>\n",
       "      <td>https://www.pressian.com/pages/articles/202208...</td>\n",
       "    </tr>\n",
       "    <tr>\n",
       "      <th>10</th>\n",
       "      <td>\"AI로 기초학력 진단·혁신학교 재구조화\"...경기교육감직 인수위, 백서발간</td>\n",
       "      <td>http://www.newsis.com/view/?id=NISX20220808_00...</td>\n",
       "    </tr>\n",
       "    <tr>\n",
       "      <th>11</th>\n",
       "      <td>네이버-네이버클라우드-충북대병원, AI 활용한 스마트 병원 구축 '맞손'</td>\n",
       "      <td>http://www.newsis.com/view/?id=NISX20220808_00...</td>\n",
       "    </tr>\n",
       "    <tr>\n",
       "      <th>12</th>\n",
       "      <td>영남중·대구고 SW동아리, MS 주최 AI 경진대회 수상</td>\n",
       "      <td>https://www.pressian.com/pages/articles/202208...</td>\n",
       "    </tr>\n",
       "    <tr>\n",
       "      <th>13</th>\n",
       "      <td>삼성전자, 대학·대학원생 대상 '2022 삼성 AI 챌린지' 개최</td>\n",
       "      <td>https://www.yna.co.kr/view/AKR2022080700790000...</td>\n",
       "    </tr>\n",
       "    <tr>\n",
       "      <th>14</th>\n",
       "      <td>AI와 대화·이동통신 모니터링…‘고독사 예방’ 팔걷은 지자체들</td>\n",
       "      <td>http://www.munhwa.com/news/view.html?no=202208...</td>\n",
       "    </tr>\n",
       "    <tr>\n",
       "      <th>15</th>\n",
       "      <td>KT-NIPA, ICT 벤처에 DX 컨설팅·AI인재 양성 지원</td>\n",
       "      <td>http://www.etnews.com/20220808000071</td>\n",
       "    </tr>\n",
       "    <tr>\n",
       "      <th>16</th>\n",
       "      <td>영진전문대 AI융합기계계열, 로봇관련 학술대회 논문상 수상</td>\n",
       "      <td>http://www.newsis.com/view/?id=NISX20220808_00...</td>\n",
       "    </tr>\n",
       "    <tr>\n",
       "      <th>17</th>\n",
       "      <td>현대차 `R&amp;D 경력` 세자릿수 채용… AI 인터뷰 도입</td>\n",
       "      <td>http://www.dt.co.kr/contents.html?article_no=2...</td>\n",
       "    </tr>\n",
       "    <tr>\n",
       "      <th>18</th>\n",
       "      <td>서울시-KAIST, 기업 내부서 고급 AI개발자 인력 양성하도록 지원</td>\n",
       "      <td>https://www.news1.kr/articles/4765085</td>\n",
       "    </tr>\n",
       "    <tr>\n",
       "      <th>19</th>\n",
       "      <td>지금 들어가고 9월까지는 팔아라…AI가 예언하는 '나스닥100'</td>\n",
       "      <td>http://news.mk.co.kr/newsRead.php?no=694373&amp;ye...</td>\n",
       "    </tr>\n",
       "    <tr>\n",
       "      <th>20</th>\n",
       "      <td>남성희 전문대교협회장 \"전문대 AI·반도체 전공에 4년제 허용해야\"</td>\n",
       "      <td>https://www.hankyung.com/society/article/20220...</td>\n",
       "    </tr>\n",
       "    <tr>\n",
       "      <th>21</th>\n",
       "      <td>[AI-META 시대 '미래전략']&lt;26&gt;교육 대전환</td>\n",
       "      <td>http://www.etnews.com/20220805000145</td>\n",
       "    </tr>\n",
       "    <tr>\n",
       "      <th>22</th>\n",
       "      <td>도매꾹, B2B 마켓 최초 AI 상품추천 서비스</td>\n",
       "      <td>http://www.etnews.com/20220808000199</td>\n",
       "    </tr>\n",
       "    <tr>\n",
       "      <th>23</th>\n",
       "      <td>도로교통공단, 빅데이터ㆍAI 기반 위험도로예측 시범서비스 구축</td>\n",
       "      <td>https://www.dnews.co.kr/uhtml/view.jsp?idxno=2...</td>\n",
       "    </tr>\n",
       "    <tr>\n",
       "      <th>24</th>\n",
       "      <td>AI와 영어 말하기 대결…윤선생 '말하톤 대회' 개최</td>\n",
       "      <td>http://www.newsis.com/view/?id=NISX20220808_00...</td>\n",
       "    </tr>\n",
       "    <tr>\n",
       "      <th>25</th>\n",
       "      <td>시 쓰는 AI, 인간에게 던지는 화두는?</td>\n",
       "      <td>https://science.ytn.co.kr/program/program_view...</td>\n",
       "    </tr>\n",
       "    <tr>\n",
       "      <th>26</th>\n",
       "      <td>조선대, 프라이버시 보장 AI 기술 공동 개발…동형암호 실용화 기반 마련</td>\n",
       "      <td>http://www.etnews.com/20220808000045</td>\n",
       "    </tr>\n",
       "    <tr>\n",
       "      <th>27</th>\n",
       "      <td>과기정통부, AI 초일류 전략 내놓는다···AI 활용 제고에 방점</td>\n",
       "      <td>http://www.etnews.com/20220808000122</td>\n",
       "    </tr>\n",
       "    <tr>\n",
       "      <th>28</th>\n",
       "      <td>\"AI는 LG죠\" 과기부 주최 심포지엄 주관사 합류…그룹사 총출동</td>\n",
       "      <td>http://news.mt.co.kr/mtview.php?no=20220808140...</td>\n",
       "    </tr>\n",
       "    <tr>\n",
       "      <th>29</th>\n",
       "      <td>GS네오텍, AI 적용한 차세대 보안 서비스 ‘사이트디펜더’ 출시</td>\n",
       "      <td>http://www.newsis.com/view/?id=NISX20220808_00...</td>\n",
       "    </tr>\n",
       "    <tr>\n",
       "      <th>30</th>\n",
       "      <td>조선대, 화정중서 ‘AI‧SW 여름방학 아카데미’ 진행</td>\n",
       "      <td>https://www.wikitree.co.kr/articles/778425</td>\n",
       "    </tr>\n",
       "    <tr>\n",
       "      <th>31</th>\n",
       "      <td>카카오가 찜한 'AI 아이돌', 뉴스 생방송에서 일냈다…'가상인간' 열풍</td>\n",
       "      <td>https://www.news1.kr/articles/4763658</td>\n",
       "    </tr>\n",
       "    <tr>\n",
       "      <th>32</th>\n",
       "      <td>‘땅개’서 ‘AI 무장 호랑이’로… 전투력 초격차로 적 초토화 [S스토리]</td>\n",
       "      <td>http://www.segye.com/content/html/2022/08/05/2...</td>\n",
       "    </tr>\n",
       "    <tr>\n",
       "      <th>33</th>\n",
       "      <td>KT, EBS와 AI 인재 육성 맞손</td>\n",
       "      <td>https://zdnet.co.kr/view/?no=20220805084926</td>\n",
       "    </tr>\n",
       "    <tr>\n",
       "      <th>34</th>\n",
       "      <td>풍선 속 다이아몬드 찾기…중국 쇼핑몰 아수라장｜AI가 Pick한 세상</td>\n",
       "      <td>https://news.jtbc.co.kr/article/article.aspx?n...</td>\n",
       "    </tr>\n",
       "    <tr>\n",
       "      <th>35</th>\n",
       "      <td>똑똑한 'AI 은행원' 나온다...금융위, 가명정보 AI 데이터로 허용</td>\n",
       "      <td>http://www.newsis.com/view/?id=NISX20220803_00...</td>\n",
       "    </tr>\n",
       "    <tr>\n",
       "      <th>36</th>\n",
       "      <td>광주시의회, AI 전문가 초청 '인공지능 R&amp;D 발전방향' 공부</td>\n",
       "      <td>http://news.heraldcorp.com/view.php?ud=2022080...</td>\n",
       "    </tr>\n",
       "    <tr>\n",
       "      <th>37</th>\n",
       "      <td>동강대 AI 기반 맞춤형 토익 프로그램 실시</td>\n",
       "      <td>https://www.jnilbo.com/view/media/view?code=20...</td>\n",
       "    </tr>\n",
       "    <tr>\n",
       "      <th>38</th>\n",
       "      <td>AI가 이젠 시도 쓰고 작곡도 한다…저작권은 어떻게 될까</td>\n",
       "      <td>https://news.sbs.co.kr/news/endPage.do?news_id...</td>\n",
       "    </tr>\n",
       "    <tr>\n",
       "      <th>39</th>\n",
       "      <td>김포공항 AI, 반입금지 물품 1초만에 잡는다</td>\n",
       "      <td>http://news.mk.co.kr/newsRead.php?no=694564&amp;ye...</td>\n",
       "    </tr>\n",
       "    <tr>\n",
       "      <th>40</th>\n",
       "      <td>서울시-KAIST, 고급 AI개발자 양성 프로그램 지원</td>\n",
       "      <td>http://www.irobotnews.com/news/articleView.htm...</td>\n",
       "    </tr>\n",
       "    <tr>\n",
       "      <th>41</th>\n",
       "      <td>에이프리카, AI 통합 플랫폼 '치타' 조달청 디지털서비스몰 등록</td>\n",
       "      <td>http://www.datanet.co.kr/news/articleView.html...</td>\n",
       "    </tr>\n",
       "    <tr>\n",
       "      <th>42</th>\n",
       "      <td>라이언로켓 X 티그컴퍼니, AI 접목한 새로운 K컬처 선봬</td>\n",
       "      <td>http://www.lawissue.co.kr/view.php?ud=20220808...</td>\n",
       "    </tr>\n",
       "    <tr>\n",
       "      <th>43</th>\n",
       "      <td>의료기 유통 에이치엔드림, AI영상분석 우경정보기술과 협약</td>\n",
       "      <td>https://sports.donga.com/article/all/20220808/...</td>\n",
       "    </tr>\n",
       "    <tr>\n",
       "      <th>44</th>\n",
       "      <td>시 쓰는 AI, 인간에게 던지는 화두는?</td>\n",
       "      <td>https://www.ytn.co.kr/_ln/0106_202208070606416803</td>\n",
       "    </tr>\n",
       "    <tr>\n",
       "      <th>45</th>\n",
       "      <td>“눈동자로 책장 넘긴다” AI 기술 만난 전자책의 진화</td>\n",
       "      <td>https://www.hani.co.kr/arti/economy/it/1053906...</td>\n",
       "    </tr>\n",
       "    <tr>\n",
       "      <th>46</th>\n",
       "      <td>세일즈포스·마이크로소프트…전세계 AI기업 한방에 투자</td>\n",
       "      <td>http://news.mk.co.kr/newsRead.php?no=694525&amp;ye...</td>\n",
       "    </tr>\n",
       "    <tr>\n",
       "      <th>47</th>\n",
       "      <td>포스코그룹, AI 기술 자문위원회 신설…'미래 전략' 수립 시동</td>\n",
       "      <td>http://www.kyongbuk.co.kr/news/articleView.htm...</td>\n",
       "    </tr>\n",
       "    <tr>\n",
       "      <th>48</th>\n",
       "      <td>현대차 연구개발본부, AI활용 대규모 경력직원 채용</td>\n",
       "      <td>http://www.joseilbo.com/news/news_read.php?uid...</td>\n",
       "    </tr>\n",
       "    <tr>\n",
       "      <th>49</th>\n",
       "      <td>포스코그룹, 'AI 기술 자문위원회' 신설…\"신사업·인재 발굴\"</td>\n",
       "      <td>https://www.yna.co.kr/view/AKR2022080502920000...</td>\n",
       "    </tr>\n",
       "  </tbody>\n",
       "</table>\n",
       "</div>"
      ],
      "text/plain": [
       "                                         title  \\\n",
       "0                 KT·서울성모병원, 당뇨 관리 돕는 AI 기술 개발   \n",
       "1                 삼성전자, AI인재 키워 반도체·디스플레이 연구한다   \n",
       "2                                삼성전자 ‘AI 챌린지’   \n",
       "3                농정원, 스마트농업 AI 경진대회 개최…총상금 1억원   \n",
       "4                코트라, 'AI 활용'…중견기업 ESG 모니터링 지원   \n",
       "5     네이버-네이버클라우드-충북대병원, AI 활용한 스마트 병원 구축 '맞손'   \n",
       "6           KT-NIPA, ICT 벤처에 DX 컨설팅·AI인재 양성 지원   \n",
       "7               대구 영진전문대, AI융합기계계열 학술대회 논문상 수상   \n",
       "8                KT, 공감하는 AI로 ‘사람다운’ 로봇 세상 만든다   \n",
       "9              영남중·대구고 SW동아리, MS 주최 AI 경진대회 수상   \n",
       "10  \"AI로 기초학력 진단·혁신학교 재구조화\"...경기교육감직 인수위, 백서발간   \n",
       "11    네이버-네이버클라우드-충북대병원, AI 활용한 스마트 병원 구축 '맞손'   \n",
       "12             영남중·대구고 SW동아리, MS 주최 AI 경진대회 수상   \n",
       "13        삼성전자, 대학·대학원생 대상 '2022 삼성 AI 챌린지' 개최   \n",
       "14          AI와 대화·이동통신 모니터링…‘고독사 예방’ 팔걷은 지자체들   \n",
       "15          KT-NIPA, ICT 벤처에 DX 컨설팅·AI인재 양성 지원   \n",
       "16            영진전문대 AI융합기계계열, 로봇관련 학술대회 논문상 수상   \n",
       "17             현대차 `R&D 경력` 세자릿수 채용… AI 인터뷰 도입   \n",
       "18      서울시-KAIST, 기업 내부서 고급 AI개발자 인력 양성하도록 지원   \n",
       "19         지금 들어가고 9월까지는 팔아라…AI가 예언하는 '나스닥100'   \n",
       "20       남성희 전문대교협회장 \"전문대 AI·반도체 전공에 4년제 허용해야\"   \n",
       "21               [AI-META 시대 '미래전략']<26>교육 대전환   \n",
       "22                  도매꾹, B2B 마켓 최초 AI 상품추천 서비스   \n",
       "23          도로교통공단, 빅데이터ㆍAI 기반 위험도로예측 시범서비스 구축   \n",
       "24               AI와 영어 말하기 대결…윤선생 '말하톤 대회' 개최   \n",
       "25                      시 쓰는 AI, 인간에게 던지는 화두는?   \n",
       "26    조선대, 프라이버시 보장 AI 기술 공동 개발…동형암호 실용화 기반 마련   \n",
       "27        과기정통부, AI 초일류 전략 내놓는다···AI 활용 제고에 방점   \n",
       "28        \"AI는 LG죠\" 과기부 주최 심포지엄 주관사 합류…그룹사 총출동   \n",
       "29        GS네오텍, AI 적용한 차세대 보안 서비스 ‘사이트디펜더’ 출시   \n",
       "30              조선대, 화정중서 ‘AI‧SW 여름방학 아카데미’ 진행   \n",
       "31    카카오가 찜한 'AI 아이돌', 뉴스 생방송에서 일냈다…'가상인간' 열풍   \n",
       "32   ‘땅개’서 ‘AI 무장 호랑이’로… 전투력 초격차로 적 초토화 [S스토리]   \n",
       "33                        KT, EBS와 AI 인재 육성 맞손   \n",
       "34      풍선 속 다이아몬드 찾기…중국 쇼핑몰 아수라장｜AI가 Pick한 세상   \n",
       "35     똑똑한 'AI 은행원' 나온다...금융위, 가명정보 AI 데이터로 허용   \n",
       "36         광주시의회, AI 전문가 초청 '인공지능 R&D 발전방향' 공부   \n",
       "37                    동강대 AI 기반 맞춤형 토익 프로그램 실시   \n",
       "38             AI가 이젠 시도 쓰고 작곡도 한다…저작권은 어떻게 될까   \n",
       "39                   김포공항 AI, 반입금지 물품 1초만에 잡는다   \n",
       "40              서울시-KAIST, 고급 AI개발자 양성 프로그램 지원   \n",
       "41        에이프리카, AI 통합 플랫폼 '치타' 조달청 디지털서비스몰 등록   \n",
       "42            라이언로켓 X 티그컴퍼니, AI 접목한 새로운 K컬처 선봬   \n",
       "43            의료기 유통 에이치엔드림, AI영상분석 우경정보기술과 협약   \n",
       "44                      시 쓰는 AI, 인간에게 던지는 화두는?   \n",
       "45              “눈동자로 책장 넘긴다” AI 기술 만난 전자책의 진화   \n",
       "46               세일즈포스·마이크로소프트…전세계 AI기업 한방에 투자   \n",
       "47         포스코그룹, AI 기술 자문위원회 신설…'미래 전략' 수립 시동   \n",
       "48                현대차 연구개발본부, AI활용 대규모 경력직원 채용   \n",
       "49         포스코그룹, 'AI 기술 자문위원회' 신설…\"신사업·인재 발굴\"   \n",
       "\n",
       "                                                  url  \n",
       "0   https://biz.chosun.com/it-science/ict/2022/08/...  \n",
       "1         https://zdnet.co.kr/view/?no=20220807083406  \n",
       "2   https://www.chosun.com/economy/tech_it/2022/08...  \n",
       "3   https://www.yna.co.kr/view/AKR2022080806520000...  \n",
       "4   http://www.edaily.co.kr/news/newspath.asp?news...  \n",
       "5   http://www.newsis.com/view/?id=NISX20220808_00...  \n",
       "6                http://www.etnews.com/20220808000071  \n",
       "7               https://www.news1.kr/articles/4766090  \n",
       "8      https://shindonga.donga.com/3/all/13/3546076/1  \n",
       "9   https://www.pressian.com/pages/articles/202208...  \n",
       "10  http://www.newsis.com/view/?id=NISX20220808_00...  \n",
       "11  http://www.newsis.com/view/?id=NISX20220808_00...  \n",
       "12  https://www.pressian.com/pages/articles/202208...  \n",
       "13  https://www.yna.co.kr/view/AKR2022080700790000...  \n",
       "14  http://www.munhwa.com/news/view.html?no=202208...  \n",
       "15               http://www.etnews.com/20220808000071  \n",
       "16  http://www.newsis.com/view/?id=NISX20220808_00...  \n",
       "17  http://www.dt.co.kr/contents.html?article_no=2...  \n",
       "18              https://www.news1.kr/articles/4765085  \n",
       "19  http://news.mk.co.kr/newsRead.php?no=694373&ye...  \n",
       "20  https://www.hankyung.com/society/article/20220...  \n",
       "21               http://www.etnews.com/20220805000145  \n",
       "22               http://www.etnews.com/20220808000199  \n",
       "23  https://www.dnews.co.kr/uhtml/view.jsp?idxno=2...  \n",
       "24  http://www.newsis.com/view/?id=NISX20220808_00...  \n",
       "25  https://science.ytn.co.kr/program/program_view...  \n",
       "26               http://www.etnews.com/20220808000045  \n",
       "27               http://www.etnews.com/20220808000122  \n",
       "28  http://news.mt.co.kr/mtview.php?no=20220808140...  \n",
       "29  http://www.newsis.com/view/?id=NISX20220808_00...  \n",
       "30         https://www.wikitree.co.kr/articles/778425  \n",
       "31              https://www.news1.kr/articles/4763658  \n",
       "32  http://www.segye.com/content/html/2022/08/05/2...  \n",
       "33        https://zdnet.co.kr/view/?no=20220805084926  \n",
       "34  https://news.jtbc.co.kr/article/article.aspx?n...  \n",
       "35  http://www.newsis.com/view/?id=NISX20220803_00...  \n",
       "36  http://news.heraldcorp.com/view.php?ud=2022080...  \n",
       "37  https://www.jnilbo.com/view/media/view?code=20...  \n",
       "38  https://news.sbs.co.kr/news/endPage.do?news_id...  \n",
       "39  http://news.mk.co.kr/newsRead.php?no=694564&ye...  \n",
       "40  http://www.irobotnews.com/news/articleView.htm...  \n",
       "41  http://www.datanet.co.kr/news/articleView.html...  \n",
       "42  http://www.lawissue.co.kr/view.php?ud=20220808...  \n",
       "43  https://sports.donga.com/article/all/20220808/...  \n",
       "44  https://www.ytn.co.kr/_ln/0106_202208070606416803  \n",
       "45  https://www.hani.co.kr/arti/economy/it/1053906...  \n",
       "46  http://news.mk.co.kr/newsRead.php?no=694525&ye...  \n",
       "47  http://www.kyongbuk.co.kr/news/articleView.htm...  \n",
       "48  http://www.joseilbo.com/news/news_read.php?uid...  \n",
       "49  https://www.yna.co.kr/view/AKR2022080502920000...  "
      ]
     },
     "execution_count": 1,
     "metadata": {},
     "output_type": "execute_result"
    }
   ],
   "source": [
    "from bs4 import BeautifulSoup \n",
    "import urllib\n",
    "import urllib.request as rq\n",
    "import pandas as pd\n",
    "\n",
    "global news_df\n",
    "\n",
    "def News():\n",
    "    global keyword, num, news_df, url,page_num\n",
    "    \n",
    "    keyword = input('검색 키워드를 입력해주세요')\n",
    "    keyword = urllib.parse.quote(keyword) #퍼센트인코딩 #URL에 문자를 표현하는 인코딩방법(URL에 한글이 섞이면 오류 발생)\n",
    "    num = int(input('필요한 뉴스기사의 숫자를 입력해주세요'))\n",
    "    \n",
    "    news_df = pd.DataFrame(columns=['title','url']) \n",
    "    \n",
    "    page_num=1\n",
    "    i=0 #크롤링한 기사의 수\n",
    "    while num > i:\n",
    "        url = 'https://search.naver.com/search.naver?where=news&sm=tab_jum&query='+keyword+'&start='+str(page_num)\n",
    "        html = rq.urlopen(url)\n",
    "        bs = BeautifulSoup(html,'html.parser')\n",
    "        texts = bs.find_all(class_='news_tit')\n",
    "\n",
    "        for text in texts:\n",
    "            news_df.loc[i,'title'] = text.get_text()\n",
    "            news_df.loc[i,'url'] = text['href']\n",
    "            i +=1\n",
    "            if i == num:\n",
    "                break\n",
    "        page_num +=10\n",
    "    return news_df\n",
    "\n",
    "News()"
   ]
  },
  {
   "cell_type": "code",
   "execution_count": null,
   "id": "dfe25560",
   "metadata": {},
   "outputs": [],
   "source": [
    "# 불용어 처리 (광고, 문자, 베너 등)\n",
    "한글 단어만 출력하여 형태소 분석 최근 국내 'AI'와 관련하여 가장 많이 언급되는 단어에 대한 \n",
    "빈도분석 및 시각화 AI 분야에서의 유의할 만한 트랜드 정보 및 인사이트 도출"
   ]
  },
  {
   "cell_type": "code",
   "execution_count": 2,
   "id": "d4103cd8",
   "metadata": {
    "scrolled": true
   },
   "outputs": [
    {
     "data": {
      "text/html": [
       "<div>\n",
       "<style scoped>\n",
       "    .dataframe tbody tr th:only-of-type {\n",
       "        vertical-align: middle;\n",
       "    }\n",
       "\n",
       "    .dataframe tbody tr th {\n",
       "        vertical-align: top;\n",
       "    }\n",
       "\n",
       "    .dataframe thead th {\n",
       "        text-align: right;\n",
       "    }\n",
       "</style>\n",
       "<table border=\"1\" class=\"dataframe\">\n",
       "  <thead>\n",
       "    <tr style=\"text-align: right;\">\n",
       "      <th></th>\n",
       "      <th>title</th>\n",
       "      <th>url</th>\n",
       "    </tr>\n",
       "  </thead>\n",
       "  <tbody>\n",
       "    <tr>\n",
       "      <th>0</th>\n",
       "      <td>KT·서울성모병원, 당뇨 관리 돕는 AI 기술 개발</td>\n",
       "      <td>https://biz.chosun.com/it-science/ict/2022/08/...</td>\n",
       "    </tr>\n",
       "    <tr>\n",
       "      <th>1</th>\n",
       "      <td>삼성전자, AI인재 키워 반도체·디스플레이 연구한다</td>\n",
       "      <td>https://zdnet.co.kr/view/?no=20220807083406</td>\n",
       "    </tr>\n",
       "    <tr>\n",
       "      <th>2</th>\n",
       "      <td>삼성전자 ‘AI 챌린지’</td>\n",
       "      <td>https://www.chosun.com/economy/tech_it/2022/08...</td>\n",
       "    </tr>\n",
       "    <tr>\n",
       "      <th>3</th>\n",
       "      <td>농정원, 스마트농업 AI 경진대회 개최…총상금 1억원</td>\n",
       "      <td>https://www.yna.co.kr/view/AKR2022080806520000...</td>\n",
       "    </tr>\n",
       "    <tr>\n",
       "      <th>4</th>\n",
       "      <td>코트라, 'AI 활용'…중견기업 ESG 모니터링 지원</td>\n",
       "      <td>http://www.edaily.co.kr/news/newspath.asp?news...</td>\n",
       "    </tr>\n",
       "  </tbody>\n",
       "</table>\n",
       "</div>"
      ],
      "text/plain": [
       "                           title  \\\n",
       "0   KT·서울성모병원, 당뇨 관리 돕는 AI 기술 개발   \n",
       "1   삼성전자, AI인재 키워 반도체·디스플레이 연구한다   \n",
       "2                  삼성전자 ‘AI 챌린지’   \n",
       "3  농정원, 스마트농업 AI 경진대회 개최…총상금 1억원   \n",
       "4  코트라, 'AI 활용'…중견기업 ESG 모니터링 지원   \n",
       "\n",
       "                                                 url  \n",
       "0  https://biz.chosun.com/it-science/ict/2022/08/...  \n",
       "1        https://zdnet.co.kr/view/?no=20220807083406  \n",
       "2  https://www.chosun.com/economy/tech_it/2022/08...  \n",
       "3  https://www.yna.co.kr/view/AKR2022080806520000...  \n",
       "4  http://www.edaily.co.kr/news/newspath.asp?news...  "
      ]
     },
     "execution_count": 2,
     "metadata": {},
     "output_type": "execute_result"
    }
   ],
   "source": [
    "news_df.head()"
   ]
  },
  {
   "cell_type": "markdown",
   "id": "6912b856",
   "metadata": {},
   "source": [
    "## Q64.어떠한 수 N이 1이 될 때까지 다음의 두 과정 중 하나를 반복적으로 선택하여 수행하려고 한다. 단 두번째 연산은 N이 K로 나누어 떨어질 때만 선택할 수 있다.  N과 K를 입력했을 때 N이 1이 될 때까지 1번 혹은 2번의 과정을 수행해야 하는 최소 횟수를 구하는 프로그램을 완성하세요.\n",
    "\n",
    "1. N에서 1을 뺀다.\n",
    "2. N을 K로 나눈다.\n"
   ]
  },
  {
   "cell_type": "code",
   "execution_count": 19,
   "id": "79d04a6b",
   "metadata": {},
   "outputs": [
    {
     "name": "stdout",
     "output_type": "stream",
     "text": [
      "두수를 양의 정수로 입력해주세요>>10 3\n",
      "최소횟수: 3\n"
     ]
    }
   ],
   "source": [
    "# 양의 정수로만 입력하기\n",
    "N, K = map(int, input('두수를 양의 정수로 입력해주세요>>').split())\n",
    "\n",
    "# 변수 설정\n",
    "n = N\n",
    "k = K\n",
    "count = 0 \n",
    "\n",
    "while True:\n",
    "    tup = divmod(n, k)\n",
    "\n",
    "    # 나누어 떨어지면 2번 진행 (N은 몫이 됨)\n",
    "    if tup[1]== 0:\n",
    "        n = tup[0]\n",
    "    else:\n",
    "        n -=1 # 2번 조건이 아닐 때 -1씩 감소\n",
    "        \n",
    "    count+=1\n",
    "    \n",
    "    if n==1: break;\n",
    "\n",
    "print('최소횟수:', count)"
   ]
  },
  {
   "cell_type": "markdown",
   "id": "8989dfc0",
   "metadata": {},
   "source": [
    "## Q65. 아래와 같이 출력하는 코드를 작성하세요."
   ]
  },
  {
   "cell_type": "raw",
   "id": "090eb916",
   "metadata": {},
   "source": [
    "*\n",
    "**\n",
    "***\n",
    "****\n",
    "*****"
   ]
  },
  {
   "cell_type": "code",
   "execution_count": 2,
   "id": "60a32092",
   "metadata": {},
   "outputs": [
    {
     "name": "stdout",
     "output_type": "stream",
     "text": [
      "*\n",
      "**\n",
      "***\n",
      "****\n",
      "*****\n"
     ]
    }
   ],
   "source": [
    "# for문\n",
    "\n",
    "for i in range(5):\n",
    "    result = \"*\"*(i+1)\n",
    "    print(result)"
   ]
  },
  {
   "cell_type": "code",
   "execution_count": 4,
   "id": "b0336192",
   "metadata": {},
   "outputs": [
    {
     "name": "stdout",
     "output_type": "stream",
     "text": [
      "*\n",
      "**\n",
      "***\n",
      "****\n",
      "*****\n"
     ]
    }
   ],
   "source": [
    "# while문\n",
    "\n",
    "i = 1\n",
    "while True:\n",
    "    result = \"*\"*i\n",
    "    i+=1\n",
    "    if i == 7:\n",
    "        break;\n",
    "    print(result)"
   ]
  },
  {
   "cell_type": "code",
   "execution_count": 12,
   "id": "621eb68d",
   "metadata": {},
   "outputs": [
    {
     "name": "stdout",
     "output_type": "stream",
     "text": [
      "['*', '**', '***', '****', '*****']\n"
     ]
    }
   ],
   "source": [
    "# 다른방법\n",
    "\n",
    "result = [\"*\"*i for i in range(1, 6)]\n",
    "print(result)"
   ]
  },
  {
   "cell_type": "markdown",
   "id": "b8ebdb0e",
   "metadata": {},
   "source": [
    "# Q66. 아래와 같이 출력하는 코드를 작성하세요."
   ]
  },
  {
   "cell_type": "raw",
   "id": "86a7d647",
   "metadata": {},
   "source": [
    "    *\n",
    "   ***\n",
    "  *****\n",
    " *******\n",
    "*********\n",
    " *******\n",
    "  *****\n",
    "   ***\n",
    "    *\n"
   ]
  },
  {
   "cell_type": "code",
   "execution_count": null,
   "id": "4f0c0022",
   "metadata": {},
   "outputs": [],
   "source": [
    "# for문\n",
    "\n",
    "for i in \n"
   ]
  },
  {
   "cell_type": "code",
   "execution_count": 40,
   "id": "67bf9ba9",
   "metadata": {},
   "outputs": [
    {
     "name": "stdout",
     "output_type": "stream",
     "text": [
      "    *\n",
      "   ***\n",
      "  *****\n",
      " *******\n",
      "*********\n",
      " *******\n",
      "  *****\n",
      "   ***\n",
      "    *\n"
     ]
    }
   ],
   "source": [
    "result = [((\" \" * (4-i)) + (\"*\" * (1+(2*i)))) for i in range(5)]\n",
    "b = len(result)\n",
    "for i in range(b):\n",
    "    print(result[i])\n",
    "    \n",
    "for i in range(1, b):\n",
    "    print(result[-(i+1)])"
   ]
  },
  {
   "cell_type": "markdown",
   "id": "ee71a9e2",
   "metadata": {},
   "source": [
    "# Q67. Tree의 높이를 입력하면 해당하는 높이의 아래와 같은 Tree를 출력하는 프로그램을 작성하세요."
   ]
  },
  {
   "cell_type": "raw",
   "id": "4716ac39",
   "metadata": {},
   "source": [
    "         *\n",
    "        ***\n",
    "       *****\n",
    "      *******\n",
    "     *********\n",
    "    ***********\n",
    "   *************\n",
    "  ***************\n",
    " *****************\n",
    "*******************\n",
    "        ***\n",
    "        ***\n",
    "        ***"
   ]
  },
  {
   "cell_type": "code",
   "execution_count": 5,
   "id": "53bf9c92",
   "metadata": {},
   "outputs": [
    {
     "name": "stdout",
     "output_type": "stream",
     "text": [
      "나무의 높이를 입력해주세요>>13\n",
      "         *\n",
      "        ***\n",
      "       *****\n",
      "      *******\n",
      "     *********\n",
      "    ***********\n",
      "   *************\n",
      "  ***************\n",
      " *****************\n",
      "*******************\n",
      "        ***\n",
      "        ***\n",
      "        ***\n"
     ]
    }
   ],
   "source": [
    "b = int(input(\"나무의 높이를 입력해주세요>>\"))\n",
    "\n",
    "i = 1\n",
    "t = b-3-1\n",
    "\n",
    "while True: \n",
    "    result = \" \"*t+\"*\"*i\n",
    "    t -=1\n",
    "    i +=2\n",
    "    print(result)\n",
    "    if t <0:break;\n",
    "print(\" \"*(b-3-2)+\"*\"*3)\n",
    "print(\" \"*(b-3-2)+\"*\"*3)\n",
    "print(\" \"*(b-3-2)+\"*\"*3)"
   ]
  },
  {
   "cell_type": "markdown",
   "id": "d2ceaf51",
   "metadata": {},
   "source": [
    "## Q68. 구구단을 입력하는 프로그램을 작성하세요."
   ]
  },
  {
   "cell_type": "code",
   "execution_count": 16,
   "id": "77a3a013",
   "metadata": {},
   "outputs": [
    {
     "name": "stdout",
     "output_type": "stream",
     "text": [
      "구구단을 외자~ 구구단을 외자~>>8\n",
      "1*8= 8\n",
      "2*8= 16\n",
      "3*8= 24\n",
      "4*8= 32\n",
      "5*8= 40\n",
      "6*8= 48\n",
      "7*8= 56\n",
      "8*8= 64\n",
      "9*8= 72\n",
      "10*8= 80\n"
     ]
    }
   ],
   "source": [
    "gugu = int(input(\"구구단을 외자~ 구구단을 외자~>>\"))\n",
    "i = 0\n",
    "while True:\n",
    "    i += 1\n",
    "    result = i*gugu\n",
    "    print(f\"{i}*{gugu}= {result}\")\n",
    "    if i == 10: break;"
   ]
  },
  {
   "cell_type": "markdown",
   "id": "815a5eeb",
   "metadata": {},
   "source": [
    "## Q69.\n",
    "아래와 같이 입력하면 N X M 행렬 형태의 숫자 카드 중에서 먼저 뽑고자 하는 카드가 포함되어 있는 행을 선택한 후 그 행에서 가장 숫자가 낮은 카드를 뽑아야 하는 규칙하에서 가장 높은 숫자가 쓰인 카드 한장의 숫자를 출력한는 프로그램을 작성하세요. \n",
    "- 첫번째 입력 : N X M 형열에 대하여 N(행), M(열)의 개수를 공백을 기준으로 입력(1<= N, M<=100)\n",
    "- 두번째 입력 : 각 행의 숫자를 공백을 기준으로 입력. 단, 각 숫자는 1 이상 10000 이하의 자연수임"
   ]
  },
  {
   "cell_type": "code",
   "execution_count": 64,
   "id": "14314663",
   "metadata": {},
   "outputs": [
    {
     "name": "stdout",
     "output_type": "stream",
     "text": [
      "N x M 행렬 형태5 3\n",
      "3개의 수를 입력해주세요15 65 42\n",
      "************0행************\n",
      "0행 = ['15', '65', '42']\n",
      "0행 중 가장 작은 수= 15 \n",
      "\n",
      "3개의 수를 입력해주세요15 33 12\n",
      "************1행************\n",
      "1행 = ['15', '33', '12']\n",
      "1행 중 가장 작은 수= 12 \n",
      "\n",
      "3개의 수를 입력해주세요123 14 52\n",
      "************2행************\n",
      "2행 = ['123', '14', '52']\n",
      "2행 중 가장 작은 수= 123 \n",
      "\n",
      "3개의 수를 입력해주세요15 32 45\n",
      "************3행************\n",
      "3행 = ['15', '32', '45']\n",
      "3행 중 가장 작은 수= 15 \n",
      "\n",
      "3개의 수를 입력해주세요12 11 56\n",
      "************4행************\n",
      "4행 = ['12', '11', '56']\n",
      "4행 중 가장 작은 수= 11 \n",
      "\n",
      "큰 수가 포함되어있는 숫자>> [0, 3] 행 카드 15\n"
     ]
    }
   ],
   "source": [
    "array = input(\"N x M 행렬 형태\")\n",
    "N = int(array.split()[0])\n",
    "M = int(array.split()[1])\n",
    "\n",
    "# 딕셔너리 형태 활용\n",
    "dic = {}\n",
    "for i in range(N):\n",
    "    arr = input(f\"{M}개의 수를 입력해주세요\")\n",
    "    print(f\"************{i}행************\")\n",
    "    arra = arr.split()\n",
    "    print(f'{i}행 = {arra}')\n",
    "    # 행에서 가장 작은수\n",
    "    dic[i] = min(arra)\n",
    "    print(f'{i}행 중 가장 작은 수= {dic[i]}','\\n')\n",
    "    # 그중 가장 큰 수\n",
    "    best_max = [k for k,v in dic.items() if max(dic.values()) == v]\n",
    "print(\"큰 수가 포함되어있는 숫자>>\", best_max, \"행\", \"카드\", max(dic.values()))"
   ]
  },
  {
   "cell_type": "code",
   "execution_count": null,
   "id": "8714bf22",
   "metadata": {},
   "outputs": [],
   "source": []
  }
 ],
 "metadata": {
  "kernelspec": {
   "display_name": "Python 3 (ipykernel)",
   "language": "python",
   "name": "python3"
  },
  "language_info": {
   "codemirror_mode": {
    "name": "ipython",
    "version": 3
   },
   "file_extension": ".py",
   "mimetype": "text/x-python",
   "name": "python",
   "nbconvert_exporter": "python",
   "pygments_lexer": "ipython3",
   "version": "3.9.12"
  },
  "toc": {
   "base_numbering": 1,
   "nav_menu": {
    "height": "11.9886px",
    "width": "160px"
   },
   "number_sections": false,
   "sideBar": true,
   "skip_h1_title": false,
   "title_cell": "Table of Contents",
   "title_sidebar": "Contents",
   "toc_cell": false,
   "toc_position": {
    "height": "calc(100% - 180px)",
    "left": "10px",
    "top": "150px",
    "width": "165px"
   },
   "toc_section_display": true,
   "toc_window_display": false
  }
 },
 "nbformat": 4,
 "nbformat_minor": 5
}
