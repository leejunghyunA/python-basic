{
 "cells": [
  {
   "cell_type": "markdown",
   "id": "c0967205",
   "metadata": {},
   "source": [
    "#### 단축키\n",
    "- ESC  를 눌러 커맨드 모드로 진입하여 ENTER 를 통해 cell 을 수정할 수 있습니다. 아래 커맨드는 커맨드 모드에서 동작합니다. \n",
    "- A 는 현재 cell 위에 새로운 cell 을 추가합니다.\n",
    "- B 는 현재 cell 밑에 새로운 cell 을 추가합니다.\n",
    "- D + D D를 연속해서 두번 누르면 현재 cell 을 삭제합니다. \n",
    "- M 은 Markdown 셀로 변환하며, Y 는 Code 셀로 변환하고  R 은 Raw Cell 로 변환합니다.\n",
    "- CTRL + B 화면을 더 크게 사용할 수 있습니다. 왼쪽 파일 탐색기가 사라집니다.\n",
    "- SHIFT + M 두 개의 셀을 한개의 셀로 Merge 합니다.\n",
    "- CTRL + SHIFT + – 현재 커서 위치를 기준으로 두 개의 셀로 구분합니다. \n",
    "- SHIFT+J or SHIFT + DOWN 현재 셀에서 아래쪽 위치로 새로운 셀을 같이 선택합니다. \n",
    "- SHIFT + K or SHIFT + UP 현재 셀에서 위쪽 위치로 새로운 셀을 같이 선택합니다. \n",
    "- CTRL + / 선택한 코드를 주석처리합니다."
   ]
  },
  {
   "cell_type": "code",
   "execution_count": 10,
   "id": "bf67e4e8",
   "metadata": {},
   "outputs": [
    {
     "name": "stdout",
     "output_type": "stream",
     "text": [
      "Pytho is my favorate language\n"
     ]
    }
   ],
   "source": [
    "print('Pytho is my favorate language')"
   ]
  },
  {
   "cell_type": "code",
   "execution_count": null,
   "id": "b0522004",
   "metadata": {},
   "outputs": [],
   "source": [
    "alt+enter ->edit 모드로 다음 셀로 넘어감\n",
    "shift+enter ->실행된 후 커멘드 모드로 다음셀로 넘어감\n",
    "ctrl+enter -> 다음셀로 안넘어가고 실행만 됨\n",
    "cell 메뉴에 각각 확인하기\n",
    "오류걸렸을 때 kernel에서 shutdown 클릭"
   ]
  },
  {
   "cell_type": "code",
   "execution_count": null,
   "id": "e7427900",
   "metadata": {},
   "outputs": [],
   "source": []
  },
  {
   "cell_type": "code",
   "execution_count": null,
   "id": "ee756466",
   "metadata": {},
   "outputs": [],
   "source": []
  },
  {
   "cell_type": "code",
   "execution_count": null,
   "id": "34b7b49b",
   "metadata": {},
   "outputs": [],
   "source": []
  },
  {
   "cell_type": "code",
   "execution_count": null,
   "id": "a23b6e47",
   "metadata": {},
   "outputs": [],
   "source": []
  },
  {
   "cell_type": "code",
   "execution_count": null,
   "id": "ec3e14cd",
   "metadata": {},
   "outputs": [],
   "source": [
    "\n",
    "\n"
   ]
  },
  {
   "cell_type": "code",
   "execution_count": null,
   "id": "44d4bf3e",
   "metadata": {},
   "outputs": [],
   "source": []
  },
  {
   "cell_type": "code",
   "execution_count": null,
   "id": "e5bf0c09",
   "metadata": {},
   "outputs": [],
   "source": []
  },
  {
   "cell_type": "code",
   "execution_count": null,
   "id": "21b092b4",
   "metadata": {},
   "outputs": [],
   "source": []
  },
  {
   "cell_type": "code",
   "execution_count": null,
   "id": "9a658c4a",
   "metadata": {},
   "outputs": [],
   "source": []
  },
  {
   "cell_type": "code",
   "execution_count": null,
   "id": "d137f337",
   "metadata": {},
   "outputs": [],
   "source": []
  },
  {
   "cell_type": "code",
   "execution_count": null,
   "id": "2201ea7b",
   "metadata": {},
   "outputs": [],
   "source": []
  }
 ],
 "metadata": {
  "kernelspec": {
   "display_name": "Python 3 (ipykernel)",
   "language": "python",
   "name": "python3"
  },
  "language_info": {
   "codemirror_mode": {
    "name": "ipython",
    "version": 3
   },
   "file_extension": ".py",
   "mimetype": "text/x-python",
   "name": "python",
   "nbconvert_exporter": "python",
   "pygments_lexer": "ipython3",
   "version": "3.8.13"
  }
 },
 "nbformat": 4,
 "nbformat_minor": 5
}
