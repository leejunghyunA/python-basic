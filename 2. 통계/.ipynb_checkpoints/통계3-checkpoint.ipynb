{
 "cells": [
  {
   "cell_type": "markdown",
   "id": "2cb3094f",
   "metadata": {},
   "source": [
    "# 1. 통계적 추정"
   ]
  },
  {
   "cell_type": "code",
   "execution_count": 1,
   "id": "a4701e9e",
   "metadata": {},
   "outputs": [
    {
     "data": {
      "text/plain": [
       "'%.3f'"
      ]
     },
     "execution_count": 1,
     "metadata": {},
     "output_type": "execute_result"
    }
   ],
   "source": [
    "import numpy as np\n",
    "import pandas as pd\n",
    "import matplotlib.pyplot as plt\n",
    "from scipy import stats\n",
    "\n",
    "%precision 3"
   ]
  },
  {
   "cell_type": "code",
   "execution_count": 3,
   "id": "f8177228",
   "metadata": {},
   "outputs": [
    {
     "data": {
      "text/html": [
       "<div>\n",
       "<style scoped>\n",
       "    .dataframe tbody tr th:only-of-type {\n",
       "        vertical-align: middle;\n",
       "    }\n",
       "\n",
       "    .dataframe tbody tr th {\n",
       "        vertical-align: top;\n",
       "    }\n",
       "\n",
       "    .dataframe thead th {\n",
       "        text-align: right;\n",
       "    }\n",
       "</style>\n",
       "<table border=\"1\" class=\"dataframe\">\n",
       "  <thead>\n",
       "    <tr style=\"text-align: right;\">\n",
       "      <th></th>\n",
       "      <th>score</th>\n",
       "    </tr>\n",
       "  </thead>\n",
       "  <tbody>\n",
       "    <tr>\n",
       "      <th>0</th>\n",
       "      <td>76</td>\n",
       "    </tr>\n",
       "    <tr>\n",
       "      <th>1</th>\n",
       "      <td>55</td>\n",
       "    </tr>\n",
       "    <tr>\n",
       "      <th>2</th>\n",
       "      <td>80</td>\n",
       "    </tr>\n",
       "    <tr>\n",
       "      <th>3</th>\n",
       "      <td>80</td>\n",
       "    </tr>\n",
       "    <tr>\n",
       "      <th>4</th>\n",
       "      <td>74</td>\n",
       "    </tr>\n",
       "    <tr>\n",
       "      <th>...</th>\n",
       "      <td>...</td>\n",
       "    </tr>\n",
       "    <tr>\n",
       "      <th>395</th>\n",
       "      <td>77</td>\n",
       "    </tr>\n",
       "    <tr>\n",
       "      <th>396</th>\n",
       "      <td>60</td>\n",
       "    </tr>\n",
       "    <tr>\n",
       "      <th>397</th>\n",
       "      <td>83</td>\n",
       "    </tr>\n",
       "    <tr>\n",
       "      <th>398</th>\n",
       "      <td>80</td>\n",
       "    </tr>\n",
       "    <tr>\n",
       "      <th>399</th>\n",
       "      <td>85</td>\n",
       "    </tr>\n",
       "  </tbody>\n",
       "</table>\n",
       "<p>400 rows × 1 columns</p>\n",
       "</div>"
      ],
      "text/plain": [
       "     score\n",
       "0       76\n",
       "1       55\n",
       "2       80\n",
       "3       80\n",
       "4       74\n",
       "..     ...\n",
       "395     77\n",
       "396     60\n",
       "397     83\n",
       "398     80\n",
       "399     85\n",
       "\n",
       "[400 rows x 1 columns]"
      ]
     },
     "execution_count": 3,
     "metadata": {},
     "output_type": "execute_result"
    }
   ],
   "source": [
    "df = pd.read_csv('data/ch4_scores400.csv')\n",
    "df"
   ]
  },
  {
   "cell_type": "markdown",
   "id": "5d99bf42",
   "metadata": {},
   "source": [
    "=> 20명의 데이터로 전교생 400명의 평균 점수, 모분산 추정"
   ]
  },
  {
   "cell_type": "code",
   "execution_count": 4,
   "id": "4d4f02dd",
   "metadata": {},
   "outputs": [
    {
     "name": "stdout",
     "output_type": "stream",
     "text": [
      "69.53 206.6691\n"
     ]
    },
    {
     "data": {
      "image/png": "[encoded data removed]",
      "text/plain": [
       "<Figure size 720x432 with 1 Axes>"
      ]
     },
     "metadata": {
      "needs_background": "light"
     },
     "output_type": "display_data"
    }
   ],
   "source": [
    "# 먼저 모집단 파악\n",
    "scores = np.array(df['score'])\n",
    "# 모평균, 모분산\n",
    "p_mean = np.mean(scores)\n",
    "p_var = np.var(scores)\n",
    "print(p_mean, p_var)\n",
    "\n",
    "# 그래프 출력\n",
    "fig = plt.figure(figsize=(10, 6))\n",
    "ax = fig.add_subplot(111)\n",
    "xs = np.arange(101)\n",
    "\n",
    "rv = stats.norm(p_mean, np.sqrt(p_var))\n",
    "ax.plot(xs, rv.pdf(xs), color = 'red')\n",
    "ax.hist(scores, bins = 100, range=(0, 100), density = True, alpha = 0.3)\n",
    "plt.show()"
   ]
  },
  {
   "cell_type": "markdown",
   "id": "a21f572e",
   "metadata": {},
   "source": [
    "=> 정규분포와 가까운 특징을 지닌 분포"
   ]
  },
  {
   "cell_type": "code",
   "execution_count": 5,
   "id": "6d3c1763",
   "metadata": {},
   "outputs": [
    {
     "data": {
      "text/plain": [
       "array([49, 60, 72, 86, 52, 61, 77, 91, 80, 56, 69, 67, 90, 56, 75, 79, 60,\n",
       "       79, 68, 81], dtype=int64)"
      ]
     },
     "execution_count": 5,
     "metadata": {},
     "output_type": "execute_result"
    }
   ],
   "source": [
    "# 표본데이터 20개 뽑기\n",
    "np.random.seed(0)\n",
    "n = 20\n",
    "sample = np.random.choice(scores, n)\n",
    "sample"
   ]
  },
  {
   "cell_type": "code",
   "execution_count": 6,
   "id": "efa85726",
   "metadata": {},
   "outputs": [],
   "source": [
    "# 표본크기가 20인 표본데이터 1만개 추출\n",
    "np.random.seed(1111)\n",
    "n_samples = 10000\n",
    "samples = np.random.choice(scores, (n_samples, n))"
   ]
  },
  {
   "cell_type": "markdown",
   "id": "0058d607",
   "metadata": {},
   "source": [
    "## 1-1. 점추정\n",
    "- 모평균이나 모분산 등의 모수를 하나의 수치로 추정\n",
    "- 추정량의 기댓값이 추측하려는 모수가 되는 성질을 불편성이라고 하며 불편성을 가진 추정량을 불편추정량이라고 한다.\n",
    "- 표본평균이 모평균을 잘 추정할 수 있는 근거 중 하나가 바로 이 불편성이다.\n",
    "- 표본크기 n을 증가시키면 추측하기 원하는 모수에 수렴해가는 성질을 일치성이라고 하며 일치성을 지닌 추정량을 일치추정량이라고 함\n",
    "- 표본평균은 불편성과 일치성을 모두 가지고 있기 때문에 모평균을 잘 추정한다고 말할 수 있다.\n",
    "\n",
    "- 불편성 : 기댓값이 추측하기 원하는 모수가 되는 성질\n",
    "- 일치성 : 표본 크기를 키우면 추측하기 원하는 모수에 수렴하는 성질"
   ]
  },
  {
   "cell_type": "markdown",
   "id": "c4a6d80d",
   "metadata": {},
   "source": [
    "#### 과제 0905_1\n",
    "- p.266-291 예제 코드 풀기"
   ]
  },
  {
   "cell_type": "code",
   "execution_count": 7,
   "id": "aba242ee",
   "metadata": {},
   "outputs": [
    {
     "name": "stdout",
     "output_type": "stream",
     "text": [
      "모평균: 69.53\n",
      "모분산: 207.1870676691731\n",
      "표본평균, 분산: 69.53799999999998 206.67808263157895\n",
      "1번째 표본평균:  67.000\n",
      "2번째 표본평균:  72.850\n",
      "3번째 표본평균:  69.200\n",
      "4번째 표본평균:  64.450\n",
      "5번째 표본평균:  72.650\n"
     ]
    }
   ],
   "source": [
    "print('모평균:', df.score.mean())\n",
    "print('모분산:', df.score.var())\n",
    "\n",
    "# 표본크기가 20개인 데이터 1만개 추출\n",
    "np.random.seed(1111)\n",
    "n = 20\n",
    "n_samples = 10000\n",
    "samples = np.random.choice(scores, (n_samples, n))\n",
    "\n",
    "# 표본평균의 평균\n",
    "sample_means = np.mean(samples, axis=1)\n",
    "\n",
    "# 표본평균의 불편분산\n",
    "sample_u_vars = np.var(samples, axis = 1, ddof = 1)\n",
    "print('표본평균, 분산:', np.mean(sample_means), np.mean(sample_u_vars))\n",
    "for i in range(5):\n",
    "    s_mean = np.mean(samples[i])\n",
    "    print(f'{i+1}번째 표본평균: {s_mean: .3f}')"
   ]
  },
  {
   "cell_type": "markdown",
   "id": "c399f4bc",
   "metadata": {},
   "source": [
    "- 모분산의 평균과 비슷 (추정량의 기댓값이 추측하려는 모수가 되는 성질 : 불편성)\n",
    "- 불편성을 가진 추정량 : 불편추정량\n",
    "\n",
    "   (대수의 법칙 활용)\n",
    "- 표본 크기 n을 증가시키면 추측하기 원하는 모수에 수렴 : 일치성\n",
    "- 일치성을 지닌 추정량 : 일치추정량"
   ]
  },
  {
   "cell_type": "code",
   "execution_count": 8,
   "id": "66d828cf",
   "metadata": {},
   "outputs": [
    {
     "data": {
      "text/plain": [
       "70.400"
      ]
     },
     "execution_count": 8,
     "metadata": {},
     "output_type": "execute_result"
    }
   ],
   "source": [
    "# 20개의 표본데이터의 평균\n",
    "s_mean = np.mean(sample)\n",
    "s_mean # 이걸로 모분산의 구간추정하기"
   ]
  },
  {
   "cell_type": "markdown",
   "id": "f684fe16",
   "metadata": {},
   "source": [
    "### 1) 모분산의 점추정"
   ]
  },
  {
   "cell_type": "code",
   "execution_count": 9,
   "id": "2731d680",
   "metadata": {},
   "outputs": [
    {
     "name": "stdout",
     "output_type": "stream",
     "text": [
      "1번째 표본분산:  116.800\n",
      "2번째 표본분산:  162.928\n",
      "3번째 표본분산:  187.060\n",
      "4번째 표본분산:  149.148\n",
      "5번째 표본분산:  111.528\n"
     ]
    }
   ],
   "source": [
    "# 표본분산과 모분산 확인 (1만개 추출한 표본데이터 중 5개)\n",
    "for i in range(5):\n",
    "    s_var = np.var(samples[i])\n",
    "    print(f'{i+1}번째 표본분산: {s_var: .3f}')"
   ]
  },
  {
   "cell_type": "code",
   "execution_count": 10,
   "id": "2c8806a5",
   "metadata": {},
   "outputs": [
    {
     "name": "stdout",
     "output_type": "stream",
     "text": [
      "모분산: 207.1870676691731, 표본분산: 196.34417850000003\n"
     ]
    }
   ],
   "source": [
    "# 표본분산이 모분산의 불편추정량이 되는지 확인 (대수의법칙 활용)\n",
    "sample_vars = np.var(samples, axis=1)\n",
    "print(f'모분산: {df.score.var()}, 표본분산: {np.mean(sample_vars)}')"
   ]
  },
  {
   "cell_type": "markdown",
   "id": "8bd1c057",
   "metadata": {},
   "source": [
    "- 모분산보다 작은 값 (표본분산은 모분산의 불편추정량 X) => 불편분산 이용 "
   ]
  },
  {
   "cell_type": "code",
   "execution_count": 11,
   "id": "16da43c5",
   "metadata": {},
   "outputs": [
    {
     "name": "stdout",
     "output_type": "stream",
     "text": [
      "모분산: 207.1870676691731, 표본분산: 206.67808263157895\n"
     ]
    }
   ],
   "source": [
    "sample_vars = np.var(samples, axis=1, ddof = 1)\n",
    "print(f'모분산: {df.score.var()}, 표본분산: {np.mean(sample_vars)}')"
   ]
  },
  {
   "cell_type": "markdown",
   "id": "8c69c4f4",
   "metadata": {},
   "source": [
    "=> 모분산과 가까운 값 (모분산의 불편추정량)"
   ]
  },
  {
   "cell_type": "code",
   "execution_count": 12,
   "id": "2d12a1f7",
   "metadata": {
    "scrolled": false
   },
   "outputs": [
    {
     "data": {
      "text/plain": [
       "206.480"
      ]
     },
     "execution_count": 12,
     "metadata": {},
     "output_type": "execute_result"
    }
   ],
   "source": [
    "# 표본크기 키워보기\n",
    "np.var(np.random.choice(scores, int(1e6)), ddof = 1)"
   ]
  },
  {
   "cell_type": "markdown",
   "id": "58d07fa3",
   "metadata": {},
   "source": [
    "=> 표본크기를 크우면 모수에 더 수렴 (일치성)"
   ]
  },
  {
   "cell_type": "markdown",
   "id": "85707edf",
   "metadata": {},
   "source": [
    "### 2) 구간추정\n",
    "- 사전에 예상되는 오차를 예측하고 모평균이 해당 범위에 있다는 주장을 하기위한 추정 방법(우연히 편향된 표본을 추출해버리는 경우 방지)\n",
    "- 모분산을 알고있는 경우\n",
    "- 모분산을 모르는 경우"
   ]
  },
  {
   "cell_type": "markdown",
   "id": "121ff2e2",
   "metadata": {},
   "source": [
    "### 2-1) 모분산을 알고있는 경우\n",
    "- 표준오차 사용"
   ]
  },
  {
   "cell_type": "markdown",
   "id": "34affa08",
   "metadata": {},
   "source": [
    "- 정규분포의 모평균 구간추정"
   ]
  },
  {
   "cell_type": "code",
   "execution_count": 13,
   "id": "d33da396",
   "metadata": {},
   "outputs": [
    {
     "name": "stdout",
     "output_type": "stream",
     "text": [
      "모평균 69.53\n",
      "[64.09166983809703, 76.70833016190298]\n"
     ]
    }
   ],
   "source": [
    "# 95% 구간 이용, N(mu, sigma)\n",
    "# 20개의 표본데이터의 평균\n",
    "s_mean = np.mean(sample)\n",
    "s_mean # 이걸로 모분산의 구간추정하기\n",
    "\n",
    "# 모분산\n",
    "p_var = df.score.var()\n",
    "n = 20\n",
    "\n",
    "# 표준정규분포로 변환(표준화)\n",
    "rv = stats.norm()\n",
    "lcl = s_mean - rv.isf(0.025)*np.sqrt(p_var/n)\n",
    "ucl = s_mean - rv.isf(0.975)*np.sqrt(p_var/n)\n",
    "\n",
    "# 모평균의 95% 신뢰구간\n",
    "print('모평균', df.score.mean())\n",
    "print([lcl, ucl])"
   ]
  },
  {
   "cell_type": "markdown",
   "id": "e2edf42b",
   "metadata": {},
   "source": [
    "=> 모평균이 신뢰구간에 포함되어있음"
   ]
  },
  {
   "cell_type": "code",
   "execution_count": 23,
   "id": "865cf8f4",
   "metadata": {},
   "outputs": [
    {
     "data": {
      "text/plain": [
       "array([[ 68,  75,  91, ...,  72,  57,  59],\n",
       "       [ 97,  55,  61, ...,  65,  73,  71],\n",
       "       [ 78,  67,  43, ...,  76,  62,  71],\n",
       "       ...,\n",
       "       [ 72,  87,  84, ...,  65,  59,  87],\n",
       "       [ 54,  74,  69, ...,  69,  97,  72],\n",
       "       [ 78,  57,  85, ...,  68, 100,  94]], dtype=int64)"
      ]
     },
     "execution_count": 23,
     "metadata": {},
     "output_type": "execute_result"
    }
   ],
   "source": [
    "# 표본크기가 20개인 데이터 1만개 추출\n",
    "np.random.seed(1111)\n",
    "n = 20\n",
    "n_samples = 10000\n",
    "samples = np.random.choice(scores, (n_samples, n))\n",
    "samples"
   ]
  },
  {
   "cell_type": "code",
   "execution_count": 26,
   "id": "924179dd",
   "metadata": {},
   "outputs": [
    {
     "data": {
      "image/png": "[encoded data removed]",
      "text/plain": [
       "<Figure size 720x432 with 1 Axes>"
      ]
     },
     "metadata": {
      "needs_background": "light"
     },
     "output_type": "display_data"
    }
   ],
   "source": [
    "# 신뢰구간 추정 20번 수행 시 몇번 모평균이 포함되어있는지 확인\n",
    "\n",
    "fig = plt.figure(figsize = (10, 6))\n",
    "ax = fig.add_subplot(111)\n",
    "\n",
    "# 표준정규분포 N(0,1)\n",
    "rv = stats.norm()\n",
    "n_samples = 20\n",
    "\n",
    "# 모평균 0~20까지 표시\n",
    "ax.vlines(p_mean, 0, 21)\n",
    "\n",
    "for i in range(n_samples):\n",
    "    sample_ = samples[i]\n",
    "    s_mean_ = np.mean(sample_)\n",
    "    lcl = s_mean_ - rv.isf(0.025)*np.sqrt(p_var/n)\n",
    "    ucl = s_mean_ - rv.isf(0.975)*np.sqrt(p_var/n)\n",
    "    \n",
    "    # 모평균이 구간안에 있을 때\n",
    "    if lcl <= p_mean <= ucl :\n",
    "        # 점 위치 x축(표본평균), y축\n",
    "        ax.scatter(s_mean_, n_samples-i, color = 'gray')\n",
    "        # y축, x축 범위\n",
    "        ax.hlines(n_samples-i, lcl, ucl, color = 'gray')\n",
    "    else:\n",
    "        ax.scatter(s_mean_, n_samples-i, color = 'red')\n",
    "        ax.hlines(n_samples-i, lcl, ucl, color = 'red')\n",
    "ax.set_xticks([p_mean])\n",
    "ax.set_xticklabels(['population mean'])\n",
    "plt.show()"
   ]
  },
  {
   "cell_type": "markdown",
   "id": "38d41fe4",
   "metadata": {},
   "source": [
    "=> 20번중 1번 모평균을 포함하지 않는 구간추정 출력"
   ]
  },
  {
   "cell_type": "code",
   "execution_count": 15,
   "id": "410e25e8",
   "metadata": {},
   "outputs": [
    {
     "data": {
      "text/plain": [
       "0.951"
      ]
     },
     "execution_count": 15,
     "metadata": {},
     "output_type": "execute_result"
    }
   ],
   "source": [
    "# 신뢰구간 1만번 계산, 모평균이 포함된 것은 몇 %인지 시뮬레이션 \n",
    "rv = stats.norm()\n",
    "cnt = 0\n",
    "# 표본크기가 20개인 데이터 1만개 추출\n",
    "np.random.seed(1111)\n",
    "n = 20\n",
    "n_samples = 10000\n",
    "samples = np.random.choice(scores, (n_samples, n))\n",
    "\n",
    "for sample_ in samples:\n",
    "    s_mean_ = np.mean(sample_)\n",
    "    lcl = s_mean_ - rv.isf(0.025)*np.sqrt(p_var/n)\n",
    "    ucl = s_mean_ - rv.isf(0.975)*np.sqrt(p_var/n)\n",
    "    if lcl <= p_mean <= ucl:\n",
    "        cnt +=1\n",
    "cnt/len(samples)"
   ]
  },
  {
   "cell_type": "markdown",
   "id": "54c96dec",
   "metadata": {},
   "source": [
    "- 정규분포의 모분산 구간추정\n",
    "  - 카이제곱분포 / 불편분산 사용"
   ]
  },
  {
   "cell_type": "code",
   "execution_count": 16,
   "id": "953794fb",
   "metadata": {},
   "outputs": [
    {
     "data": {
      "text/plain": [
       "array([11.275, 15.728, 18.057, ..., 19.386,  9.242, 18.578])"
      ]
     },
     "execution_count": 16,
     "metadata": {},
     "output_type": "execute_result"
    }
   ],
   "source": [
    "# 1만 개의 표본 데이터에서 Y의 표본 데이터를 생성\n",
    "\n",
    "# 표본크기가 20개인 데이터 1만개 추출\n",
    "np.random.seed(1111)\n",
    "n = 20\n",
    "n_samples = 10000\n",
    "samples = np.random.choice(scores, (n_samples, n))\n",
    "\n",
    "# 표본평균의 평균\n",
    "sample_means = np.mean(samples, axis=1)\n",
    "\n",
    "# 표본평균의 불편분산\n",
    "sample_u_vars = np.var(samples, axis = 1, ddof = 1)\n",
    "\n",
    "# Y의 표본 데이터\n",
    "sample_y = sample_u_vars*(n-1)/p_var\n",
    "sample_y"
   ]
  },
  {
   "cell_type": "code",
   "execution_count": 29,
   "id": "878c6944",
   "metadata": {
    "scrolled": false
   },
   "outputs": [
    {
     "data": {
      "image/png": "[encoded data removed]",
      "text/plain": [
       "<Figure size 720x432 with 1 Axes>"
      ]
     },
     "metadata": {
      "needs_background": "light"
     },
     "output_type": "display_data"
    }
   ],
   "source": [
    "# Y의 표본데이터 히스토그램, X^2(n-1)의 밀도함수 출력\n",
    "fig = plt.figure(figsize = (10, 6))\n",
    "ax = fig.add_subplot(111)\n",
    "\n",
    "xs = np.linspace(0, 40, 100)\n",
    "rv = stats.chi2(n-1)\n",
    "ax.plot(xs, rv.pdf(xs), color = 'red')\n",
    "ax.hist(sample_y, bins = 100, range = (0, 40), density = True, alpha = 0.5)\n",
    "plt.show()"
   ]
  },
  {
   "cell_type": "markdown",
   "id": "3a3f3229",
   "metadata": {},
   "source": [
    "=> X^2(n-1)와 대략 일치"
   ]
  },
  {
   "cell_type": "code",
   "execution_count": 30,
   "id": "09163b9d",
   "metadata": {},
   "outputs": [
    {
     "data": {
      "text/plain": [
       "(91.525, 337.596)"
      ]
     },
     "execution_count": 30,
     "metadata": {},
     "output_type": "execute_result"
    }
   ],
   "source": [
    "#  20개 표본 데이터 사용 => 95% 신뢰구간 출력\n",
    "\n",
    "# 20개 뽑은 표본 데이터의 불편분산\n",
    "u_var = np.var(sample, ddof = 1)\n",
    "\n",
    "rv = stats.chi2(n-1)\n",
    "lcl = (n-1)*u_var / rv.isf(0.025)\n",
    "ucl = (n-1)*u_var / rv.isf(0.975)\n",
    "lcl, ucl"
   ]
  },
  {
   "cell_type": "code",
   "execution_count": 51,
   "id": "ae1eef82",
   "metadata": {},
   "outputs": [
    {
     "data": {
      "image/png": "[encoded data removed]",
      "text/plain": [
       "<Figure size 720x432 with 1 Axes>"
      ]
     },
     "metadata": {
      "needs_background": "light"
     },
     "output_type": "display_data"
    }
   ],
   "source": [
    "# 신뢰구간 추정 20번 시행\n",
    "\n",
    "fig = plt.figure(figsize = (10, 6))\n",
    "ax = fig.add_subplot(111)\n",
    "\n",
    "rv = stats.chi2(n-1)\n",
    "n_samples = 20\n",
    "ax.vlines(p_var, 0, 21)\n",
    "for i in range(n_samples):\n",
    "    sample_ = samples[i]\n",
    "    u_var_ = np.var(sample_, ddof = 1)\n",
    "    lcl = (n-1)*u_var_ / rv.isf(0.025)\n",
    "    ucl = (n-1)*u_var_ / rv.isf(0.975)\n",
    "    \n",
    "    if lcl <= p_var <= ucl:\n",
    "        ax.scatter(u_var_, n_samples-i, color = 'gray')\n",
    "        ax.hlines(n_samples-i, lcl, ucl, 'gray')\n",
    "    else:\n",
    "        ax.scatter(u_var_, n_samples-i, color = 'red')\n",
    "        ax.hlines(n_samples-i, lcl, ucl, 'red')\n",
    "ax.set_xticks([p_var])\n",
    "ax.set_xticklabels(['population variance'])\n",
    "plt.show()"
   ]
  },
  {
   "cell_type": "code",
   "execution_count": 31,
   "id": "0dc3b384",
   "metadata": {},
   "outputs": [
    {
     "data": {
      "text/plain": [
       "0.964"
      ]
     },
     "execution_count": 31,
     "metadata": {},
     "output_type": "execute_result"
    }
   ],
   "source": [
    "# 신뢰구간을 1만번 계산하여 신뢰구간에 모분산이 포함된 것이 몇% 인지 시뮬레이션\n",
    "rv = stats.chi2(n-1)\n",
    "cnt = 0\n",
    "for sample_ in samples:\n",
    "    u_var_ = np.var(sample_, ddof=1)\n",
    "    lcl = (n-1)*u_var_ / rv.isf(0.025)\n",
    "    ucl = (n-1)*u_var_ / rv.isf(0.975)\n",
    "    if lcl <= p_var <= ucl:\n",
    "        cnt +=1\n",
    "cnt / len(samples)"
   ]
  },
  {
   "cell_type": "markdown",
   "id": "3f199933",
   "metadata": {},
   "source": [
    "### 2-2) 모분산을 모르는 경우 모평균 추정\n",
    "- 불편분산 사용, t(n-1)인 t분포 사용"
   ]
  },
  {
   "cell_type": "code",
   "execution_count": 35,
   "id": "52745628",
   "metadata": {},
   "outputs": [
    {
     "name": "stdout",
     "output_type": "stream",
     "text": [
      "모평균 69.53\n"
     ]
    },
    {
     "data": {
      "text/plain": [
       "(64.512, 76.288)"
      ]
     },
     "execution_count": 35,
     "metadata": {},
     "output_type": "execute_result"
    }
   ],
   "source": [
    "# 20개의 표본으로 구간 추정 (신뢰도 95%)\n",
    "\n",
    "np.random.seed(0)\n",
    "n = 20\n",
    "sample = np.random.choice(scores, n)\n",
    "# 표본평균\n",
    "s_mean = np.mean(sample)\n",
    "# 불편분산\n",
    "u_var = np.var(sample, ddof = 1)\n",
    "\n",
    "rv = stats.t(n-1)\n",
    "lcl = s_mean - rv.isf(0.025)*np.sqrt(u_var/n)\n",
    "ucl = s_mean - rv.isf(0.975)*np.sqrt(u_var/n)\n",
    "\n",
    "#모평균\n",
    "print('모평균', p_mean)\n",
    "lcl, ucl"
   ]
  },
  {
   "cell_type": "markdown",
   "id": "e1f01d77",
   "metadata": {},
   "source": [
    "=> 구간 내에 포함"
   ]
  },
  {
   "cell_type": "code",
   "execution_count": 37,
   "id": "37f7642c",
   "metadata": {},
   "outputs": [
    {
     "data": {
      "image/png": "[encoded data removed]",
      "text/plain": [
       "<Figure size 720x432 with 1 Axes>"
      ]
     },
     "metadata": {
      "needs_background": "light"
     },
     "output_type": "display_data"
    }
   ],
   "source": [
    "# 신뢰구간 계산 20번 실행\n",
    "\n",
    "fig = plt.figure(figsize = (10, 6))\n",
    "ax = fig.add_subplot(111)\n",
    "\n",
    "rv = stats.t(n-1)\n",
    "n_samples = 20\n",
    "ax.vlines(p_mean, 0, 21)\n",
    "for i in range(n_samples):\n",
    "    s_mean = np.mean(samples[i])\n",
    "    s_var = np.var(samples[i], ddof = 1)\n",
    "    lcl = s_mean - rv.isf(0.025)*np.sqrt(s_var/n)\n",
    "    ucl = s_mean - rv.isf(0.975)*np.sqrt(s_var/n)\n",
    "    if lcl<= p_mean <= ucl:\n",
    "        ax.scatter(s_mean, n_samples-i, color = 'gray')\n",
    "        ax.hlines(n_samples-i, lcl, ucl, color = 'gray')\n",
    "        \n",
    "    else:\n",
    "        ax.scatter(s_mean, n_samples-i, color='red')\n",
    "        ax.hlines(n_samples-i, lcl, ucl, color='red')\n",
    "ax.set_xticks([p_mean])\n",
    "ax.set_xticklabels(['population mean'])\n",
    "plt.show()"
   ]
  },
  {
   "cell_type": "markdown",
   "id": "1714e545",
   "metadata": {},
   "source": [
    "### 2-3) 정규분포 외의 모평균 구간추정"
   ]
  },
  {
   "cell_type": "markdown",
   "id": "231ef90c",
   "metadata": {},
   "source": [
    "- 베르누이 분포\n",
    "  - Bern(p)의 기댓값이 p가 되는 사실로부터 모집단의 비율 p는 모평균의 추정과 같은 구조라 추정 (모비율의 추정)"
   ]
  },
  {
   "cell_type": "code",
   "execution_count": 39,
   "id": "8ccedbf8",
   "metadata": {},
   "outputs": [
    {
     "data": {
      "text/plain": [
       "array([1, 0, 1, 1, 1, 1, 1, 0, 0, 1], dtype=int64)"
      ]
     },
     "execution_count": 39,
     "metadata": {},
     "output_type": "execute_result"
    }
   ],
   "source": [
    "# 1000명의 응답 (1 or 0으로 대답)\n",
    "\n",
    "enquete_df = pd.read_csv('data/ch10_enquete.csv')\n",
    "enquete = np.array(enquete_df['known'])\n",
    "n = len(enquete)\n",
    "enquete[:10]"
   ]
  },
  {
   "cell_type": "raw",
   "id": "333fd614",
   "metadata": {},
   "source": [
    "=> 1이 알고있다, 0이 모름\n",
    "=> 서로 독립인 Bern(p)를 따름"
   ]
  },
  {
   "cell_type": "code",
   "execution_count": 42,
   "id": "8622504a",
   "metadata": {},
   "outputs": [
    {
     "data": {
      "text/plain": [
       "0.709"
      ]
     },
     "execution_count": 42,
     "metadata": {},
     "output_type": "execute_result"
    }
   ],
   "source": [
    "# Bern(p)의 기댓값(p), 분산 (p(1-p)/n)\n",
    "\n",
    "# 표본평균 1000명으로 국민전체(모집단)의 인지도 확인\n",
    "s_mean = enquete.mean()\n",
    "s_mean"
   ]
  },
  {
   "cell_type": "markdown",
   "id": "f512c600",
   "metadata": {},
   "source": [
    "=> 상품의 인지도 79%"
   ]
  },
  {
   "cell_type": "code",
   "execution_count": 43,
   "id": "a749b14a",
   "metadata": {},
   "outputs": [
    {
     "data": {
      "text/plain": [
       "(0.681, 0.737)"
      ]
     },
     "execution_count": 43,
     "metadata": {},
     "output_type": "execute_result"
    }
   ],
   "source": [
    "# 중심극한정리에 따라 표본평균 x는 N(p, p(1-p)/n)을 따름 (표준화 후 신뢰구간 설정)\n",
    "n = len(enquete)\n",
    "# 표준정규분포\n",
    "rv = stats.norm()\n",
    "lcl = s_mean - rv.isf(0.025)*np.sqrt(s_mean*(1-s_mean)/n)\n",
    "ucl = s_mean - rv.isf(0.975)*np.sqrt(s_mean*(1-s_mean)/n)\n",
    "lcl, ucl"
   ]
  },
  {
   "cell_type": "markdown",
   "id": "8f180d13",
   "metadata": {},
   "source": [
    "=> 해당 제품의 인지도 p의 95% 신뢰구간"
   ]
  },
  {
   "cell_type": "markdown",
   "id": "f0c7f6b8",
   "metadata": {},
   "source": [
    "- 포아송 분포\n",
    "  - 포아송분포를 따르는 모집단의 모평균 신뢰구간(ex. 사이트 평균 액세스 수)"
   ]
  },
  {
   "cell_type": "code",
   "execution_count": 45,
   "id": "247f3b89",
   "metadata": {},
   "outputs": [
    {
     "data": {
      "text/plain": [
       "array([10, 11,  9,  9, 18, 13,  4, 10, 10,  8], dtype=int64)"
      ]
     },
     "execution_count": 45,
     "metadata": {},
     "output_type": "execute_result"
    }
   ],
   "source": [
    "# 어떤 사이트에 대한 액세스 수 1 시간당 액세스 수 (총 72시간 분량)\n",
    "n_access_df = pd.read_csv('data/ch10_access.csv')\n",
    "n_access = np.array(n_access_df['access number'])\n",
    "n = len(n_access)\n",
    "n_access[:10]"
   ]
  },
  {
   "cell_type": "code",
   "execution_count": 46,
   "id": "25d2317b",
   "metadata": {},
   "outputs": [
    {
     "data": {
      "text/plain": [
       "10.444"
      ]
     },
     "execution_count": 46,
     "metadata": {},
     "output_type": "execute_result"
    }
   ],
   "source": [
    "# 1시간당 평균 액세스 수 => Poi(a)를 따름(표본평균 x의 기댓값: a, 분산: a/n)\n",
    "\n",
    "# 표본평균\n",
    "s_mean = n_access.mean()\n",
    "s_mean"
   ]
  },
  {
   "cell_type": "markdown",
   "id": "4b89af2a",
   "metadata": {},
   "source": [
    "=> 1시간당 평균 액세스 수 10.444건이라 추정"
   ]
  },
  {
   "cell_type": "code",
   "execution_count": 47,
   "id": "712d8307",
   "metadata": {},
   "outputs": [
    {
     "data": {
      "text/plain": [
       "(9.698, 11.191)"
      ]
     },
     "execution_count": 47,
     "metadata": {},
     "output_type": "execute_result"
    }
   ],
   "source": [
    "# 중심극한정리에 의해 포아송분포가 따르는 표본평균도 N(a, a/n)을 따름 => 표준화 후 신뢰구간 측정\n",
    "\n",
    "rv = stats.norm()\n",
    "lcl = s_mean - rv.isf(0.025)*np.sqrt(s_mean/n)\n",
    "ucl = s_mean - rv.isf(0.975)*np.sqrt(s_mean/n)\n",
    "\n",
    "lcl, ucl"
   ]
  },
  {
   "cell_type": "markdown",
   "id": "68ec9b9d",
   "metadata": {},
   "source": [
    "=> 해당 사이트의 평균 액세스 수의 95% 신뢰구간"
   ]
  },
  {
   "cell_type": "markdown",
   "id": "bbf9a970",
   "metadata": {},
   "source": [
    "#### 과제 0905_2\n",
    "- 다음 용어를 예를들어 설명하세요.\n",
    "    불편성, 일치성, 불편분산<br>\n",
    "- 카이제곱분포, t분포가 구간 추정에 활용된 사례를 만들기"
   ]
  },
  {
   "cell_type": "code",
   "execution_count": null,
   "id": "a084c053",
   "metadata": {},
   "outputs": [],
   "source": [
    "# 불편성, 일치성, 불편분산 설명"
   ]
  },
  {
   "cell_type": "markdown",
   "id": "8d519fb8",
   "metadata": {},
   "source": [
    "불편성 : 추정량의 기댓값이 추측하려는 모수가 되는 성질 (추정량의 기댓값 - 모수 = 0)\n",
    "\n",
    "<img src = 'data/불편성.jpeg' STYLE='width 100px;'>"
   ]
  },
  {
   "cell_type": "code",
   "execution_count": 51,
   "id": "6f6f5deb",
   "metadata": {},
   "outputs": [
    {
     "name": "stderr",
     "output_type": "stream",
     "text": [
      "C:\\ProgramData\\Anaconda3\\lib\\site-packages\\seaborn\\distributions.py:2619: FutureWarning: `distplot` is a deprecated function and will be removed in a future version. Please adapt your code to use either `displot` (a figure-level function with similar flexibility) or `histplot` (an axes-level function for histograms).\n",
      "  warnings.warn(msg, FutureWarning)\n",
      "C:\\ProgramData\\Anaconda3\\lib\\site-packages\\seaborn\\distributions.py:2619: FutureWarning: `distplot` is a deprecated function and will be removed in a future version. Please adapt your code to use either `displot` (a figure-level function with similar flexibility) or `histplot` (an axes-level function for histograms).\n",
      "  warnings.warn(msg, FutureWarning)\n"
     ]
    },
    {
     "data": {
      "image/png": "[encoded data removed]",
      "text/plain": [
       "<Figure size 432x288 with 1 Axes>"
      ]
     },
     "metadata": {
      "needs_background": "light"
     },
     "output_type": "display_data"
    }
   ],
   "source": [
    "# 예시\n",
    "\n",
    "import seaborn as sns\n",
    "# 정규분포를 이루는 데이터 조건 형성\n",
    "# 데이터 개수 5000개, 분산, 평균 설정\n",
    "N1, N2 = 5000, 5000\n",
    "sigma_1, sigma_2 = 10, 10\n",
    "real, mu_1, mu_2 = 0, 0, 10\n",
    "\n",
    "# 랜덤데이터 형성(정규분포)\n",
    "np.random.seed(0)\n",
    "x1 = stats.norm(mu_1, sigma_1).rvs(N1)\n",
    "x2 = stats.norm(mu_2, sigma_2).rvs(N2)\n",
    "\n",
    "# 출력\n",
    "sns.distplot(x1, kde = False, fit = stats.norm, label = 'f1')\n",
    "sns.distplot(x2, kde = False, fit = stats.norm, label = 'f2')\n",
    "plt.vlines(x = real, ymin = 0, ymax = 0.05, linestyles = 'dashed', label = '모수')\n",
    "plt.show()"
   ]
  },
  {
   "cell_type": "markdown",
   "id": "6d3e8325",
   "metadata": {},
   "source": [
    "=> f1의 기댓값은 모수와 같음(불편성)"
   ]
  },
  {
   "cell_type": "markdown",
   "id": "76c8e328",
   "metadata": {},
   "source": [
    "일치성 : 표본 크기 n이 커지면 추측하기 원하는 모수에 수렴해지는 성질"
   ]
  },
  {
   "cell_type": "code",
   "execution_count": 79,
   "id": "c94ee1a2",
   "metadata": {},
   "outputs": [
    {
     "data": {
      "text/plain": [
       "0.001"
      ]
     },
     "execution_count": 79,
     "metadata": {},
     "output_type": "execute_result"
    }
   ],
   "source": [
    "# 정규분포를 이루는 모집단에서 표본크기가 10, 400, 800개인 표본 출력\n",
    "\n",
    "# 모집단\n",
    "rv = stats.norm()\n",
    "mo_n = 100000\n",
    "rv_mo = rv.rvs(mo_n)\n",
    "rv_mo.mean() # 모집단의 평균"
   ]
  },
  {
   "cell_type": "code",
   "execution_count": 81,
   "id": "04373a86",
   "metadata": {},
   "outputs": [
    {
     "name": "stderr",
     "output_type": "stream",
     "text": [
      "C:\\ProgramData\\Anaconda3\\lib\\site-packages\\IPython\\core\\pylabtools.py:151: UserWarning: Glyph 54364 (\\N{HANGUL SYLLABLE PYO}) missing from current font.\n",
      "  fig.canvas.print_figure(bytes_io, **kw)\n",
      "C:\\ProgramData\\Anaconda3\\lib\\site-packages\\IPython\\core\\pylabtools.py:151: UserWarning: Glyph 48376 (\\N{HANGUL SYLLABLE BON}) missing from current font.\n",
      "  fig.canvas.print_figure(bytes_io, **kw)\n",
      "C:\\ProgramData\\Anaconda3\\lib\\site-packages\\IPython\\core\\pylabtools.py:151: UserWarning: Glyph 51032 (\\N{HANGUL SYLLABLE YI}) missing from current font.\n",
      "  fig.canvas.print_figure(bytes_io, **kw)\n"
     ]
    },
    {
     "data": {
      "image/png": "[encoded data removed]",
      "text/plain": [
       "<Figure size 720x432 with 1 Axes>"
      ]
     },
     "metadata": {
      "needs_background": "light"
     },
     "output_type": "display_data"
    }
   ],
   "source": [
    "fig = plt.figure(figsize = (10,6))\n",
    "ax = fig.add_subplot(111)\n",
    "\n",
    "colors = ['blue', 'black', 'red']\n",
    "# 모집단에서 50, 100, 800개 랜덤 추출\n",
    "\n",
    "xs = np.linspace(-2, 2, 100)\n",
    "for i, color in zip([50, 100, 800], colors):\n",
    "    np.random.seed(0)\n",
    "    s = np.random.choice(rv_mo, i)\n",
    "    s_mean = round(np.mean(s), 2)\n",
    "    s_var = round(np.var(s), 2)\n",
    "    s_rv = stats.norm(s_mean, np.sqrt(s_var))\n",
    "    ax.plot(xs, s_rv.pdf(xs), ls = ':', color = color, label = f'{i} 표본의 N({s_mean}, {s_var})')\n",
    "ax.plot(xs, rv.pdf(xs), ls = '-', color = 'black')\n",
    "ax.legend()\n",
    "plt.show()"
   ]
  },
  {
   "cell_type": "markdown",
   "id": "7aefabad",
   "metadata": {},
   "source": [
    "=> 표본이 커질수록 모집단의 그래프와 비슷해짐"
   ]
  },
  {
   "cell_type": "markdown",
   "id": "596a6ba4",
   "metadata": {},
   "source": [
    "불편분산 : 표본분산 / (n-1)"
   ]
  },
  {
   "cell_type": "code",
   "execution_count": 86,
   "id": "92335759",
   "metadata": {},
   "outputs": [
    {
     "data": {
      "text/plain": [
       "(48.484, 815.100)"
      ]
     },
     "execution_count": 86,
     "metadata": {},
     "output_type": "execute_result"
    }
   ],
   "source": [
    "# 모집단 (1000명)\n",
    "mo = np.random.choice(100, 1000)\n",
    "mo.mean(), mo.var() "
   ]
  },
  {
   "cell_type": "markdown",
   "id": "0a8a22a4",
   "metadata": {},
   "source": [
    "=> 모평균, 모분산"
   ]
  },
  {
   "cell_type": "code",
   "execution_count": 127,
   "id": "f5505f55",
   "metadata": {},
   "outputs": [
    {
     "name": "stdout",
     "output_type": "stream",
     "text": [
      "1번째 평균: 44.5, 분산:  771.790000, 불편분산:  779.585859\n",
      "2번째 평균: 46.02, 분산:  744.199600, 불편분산:  751.716768\n",
      "3번째 평균: 52.25, 분산:  831.647500, 불편분산:  840.047980\n",
      "4번째 평균: 50.8, 분산:  769.580000, 불편분산:  777.353535\n",
      "5번째 평균: 49.21, 분산:  650.145900, 불편분산:  656.713030\n",
      "6번째 평균: 43.9, 분산:  814.230000, 불편분산:  822.454545\n",
      "7번째 평균: 49.57, 분산:  652.885100, 불편분산:  659.479899\n",
      "8번째 평균: 51.14, 분산:  924.220400, 불편분산:  933.555960\n",
      "9번째 평균: 47.35, 분산:  808.487500, 불편분산:  816.654040\n",
      "10번째 평균: 46.54, 분산:  961.808400, 불편분산:  971.523636\n"
     ]
    }
   ],
   "source": [
    "# 100명 10번 추출\n",
    "np.random.seed(0)\n",
    "st = np.random.choice(mo, (10, 100))\n",
    "\n",
    "# 표본평균, 표본분산, 불편분산\n",
    "for i in range(10):\n",
    "    s_mean = np.mean(st[i])\n",
    "    s_var = np.var(st[i])\n",
    "    s_dvar = np.var(st[i], ddof = 1)\n",
    "    \n",
    "    print(f'{i+1}번째 평균: {s_mean}, 분산: {s_var: 3f}, 불편분산: {s_dvar: 3f}')"
   ]
  },
  {
   "cell_type": "code",
   "execution_count": 131,
   "id": "217c06ed",
   "metadata": {},
   "outputs": [
    {
     "data": {
      "text/plain": [
       "0.600"
      ]
     },
     "execution_count": 131,
     "metadata": {},
     "output_type": "execute_result"
    }
   ],
   "source": [
    "# 불편분산이 모분산과 더 가까운 경우의 수 출력\n",
    "\n",
    "# 100명 10번 추출\n",
    "np.random.seed(0)\n",
    "n = 10\n",
    "st = np.random.choice(mo, (n, 100))\n",
    "\n",
    "# 모분산\n",
    "mo_var = mo.var()\n",
    "count = 0\n",
    "\n",
    "for i in range(n):\n",
    "    s_var = np.var(st[i])\n",
    "    s_dvar = np.var(st[i], ddof = 1)\n",
    "    \n",
    "    # 모분산과의 차이\n",
    "    t1 = abs(s_var - mo_var)\n",
    "    t2 = abs(s_dvar - mo_var)\n",
    "    \n",
    "    if t1 > t2:\n",
    "        count+=1\n",
    "    else:\n",
    "        pass\n",
    "count/n"
   ]
  },
  {
   "cell_type": "code",
   "execution_count": 132,
   "id": "55688292",
   "metadata": {},
   "outputs": [],
   "source": [
    "# 카이제곱분포, t분포가 구간 추정에 활용된 사례를 만들기"
   ]
  },
  {
   "cell_type": "code",
   "execution_count": null,
   "id": "7b598017",
   "metadata": {},
   "outputs": [],
   "source": [
    "# 카이제곱분포 : 표준정규분포에 의해 정의됨\n",
    "# t분포 : 서로 독립인 표준정규분포와 카이제곱분포에의해 정의됨"
   ]
  },
  {
   "cell_type": "code",
   "execution_count": 139,
   "id": "8c9f202b",
   "metadata": {},
   "outputs": [
    {
     "data": {
      "text/plain": [
       "(169.861, 29.890)"
      ]
     },
     "execution_count": 139,
     "metadata": {},
     "output_type": "execute_result"
    }
   ],
   "source": [
    "# 모집단이 정규분포를 따르는 분포\n",
    "\n",
    "# 50명씩 10반으로 구성된 고등학교에서 1반을 뽑아 전체 학생의 키 평균을 추정하면?\n",
    "# 모평균 N(170, 30) 따른다는 가정\n",
    "\n",
    "mo = stats.norm(170, np.sqrt(30))\n",
    "students = 500\n",
    "mo_rv = mo.rvs(students)\n",
    "# 모평균, 분산\n",
    "mo_rv.mean(), mo_rv.var()"
   ]
  },
  {
   "cell_type": "code",
   "execution_count": 145,
   "id": "17b01dd0",
   "metadata": {},
   "outputs": [
    {
     "name": "stderr",
     "output_type": "stream",
     "text": [
      "C:\\ProgramData\\Anaconda3\\lib\\site-packages\\seaborn\\distributions.py:2619: FutureWarning: `distplot` is a deprecated function and will be removed in a future version. Please adapt your code to use either `displot` (a figure-level function with similar flexibility) or `histplot` (an axes-level function for histograms).\n",
      "  warnings.warn(msg, FutureWarning)\n"
     ]
    },
    {
     "data": {
      "image/png": "[encoded data removed]",
      "text/plain": [
       "<Figure size 432x288 with 1 Axes>"
      ]
     },
     "metadata": {
      "needs_background": "light"
     },
     "output_type": "display_data"
    }
   ],
   "source": [
    "# 모집단의 분포\n",
    "sns.distplot(mo_rv, kde = False, fit = stats.norm, label = '모집단')\n",
    "plt.vlines(x = mo_rv.mean(), ymin = 0, ymax = 0.08)\n",
    "plt.show()"
   ]
  },
  {
   "cell_type": "code",
   "execution_count": 140,
   "id": "315317d9",
   "metadata": {},
   "outputs": [
    {
     "data": {
      "text/plain": [
       "array([[174.693, 174.258, 169.151, 169.785, 165.12 , 166.846, 169.06 ,\n",
       "        173.398, 172.249, 171.737, 169.364, 169.272, 182.619, 169.015,\n",
       "        173.993, 168.49 , 164.135, 174.699, 167.892, 163.602, 178.289,\n",
       "        168.344, 169.015, 164.335, 164.135, 172.47 , 174.625, 162.034,\n",
       "        163.516, 176.241, 171.034, 160.313, 174.395, 167.246, 168.369,\n",
       "        174.511, 173.321, 162.239, 165.713, 166.254, 172.202, 168.49 ,\n",
       "        166.223, 168.369, 173.335, 176.118, 176.118, 178.033, 170.678,\n",
       "        173.778],\n",
       "       [169.395, 171.034, 161.225, 180.129, 165.137, 172.071, 176.023,\n",
       "        168.307, 179.384, 170.48 , 169.723, 171.536, 157.822, 178.395,\n",
       "        166.56 , 173.682, 173.682, 175.091, 163.533, 170.9  , 167.879,\n",
       "        169.75 , 168.307, 172.137, 173.321, 179.027, 180.646, 160.654,\n",
       "        169.529, 172.071, 173.524, 162.423, 165.547, 173.03 , 170.515,\n",
       "        171.657, 167.365, 167.373, 175.051, 170.484, 167.443, 172.551,\n",
       "        176.696, 170.212, 178.033, 172.202, 163.533, 174.699, 163.978,\n",
       "        175.165],\n",
       "       [178.151, 173.589, 163.661, 166.734, 172.537, 174.258, 180.129,\n",
       "        172.954, 167.165, 159.905, 168.061, 169.75 , 155.435, 173.478,\n",
       "        162.792, 171.272, 169.529, 181.308, 165.958, 176.25 , 168.634,\n",
       "        167.517, 161.16 , 167.477, 170.285, 171.736, 170.48 , 165.713,\n",
       "        173.87 , 174.511, 171.952, 166.026, 163.822, 167.505, 182.619,\n",
       "        178.325, 173.65 , 171.915, 161.938, 170.695, 160.654, 164.639,\n",
       "        168.534, 173.03 , 171.947, 168.689, 164.399, 179.662, 168.402,\n",
       "        171.536],\n",
       "       [180.685, 169.529, 164.399, 165.935, 170.286, 165.783, 161.397,\n",
       "        170.695, 165.546, 179.419, 167.461, 177.265, 174.493, 172.551,\n",
       "        167.443, 171.272, 162.792, 169.462, 165.095, 174.383, 172.186,\n",
       "        162.222, 166.526, 163.602, 176.739, 172.869, 176.456, 180.685,\n",
       "        173.826, 177.965, 161.33 , 162.624, 163.618, 165.137, 166.475,\n",
       "        173.682, 169.255, 167.859, 164.335, 160.654, 164.56 , 173.425,\n",
       "        174.797, 169.75 , 166.83 , 164.275, 169.395, 169.18 , 161.33 ,\n",
       "        182.274],\n",
       "       [171.952, 170.857, 171.862, 170.533, 168.534, 170.535, 166.14 ,\n",
       "        165.322, 173.87 , 166.14 , 162.077, 164.224, 165.545, 168.061,\n",
       "        165.12 , 176.027, 168.429, 172.186, 177.474, 163.488, 174.493,\n",
       "        158.662, 164.013, 176.456, 164.639, 161.397, 178.109, 163.488,\n",
       "        173.425, 178.183, 165.921, 168.721, 167.472, 180.229, 162.034,\n",
       "        167.246, 174.797, 161.397, 170.271, 169.151, 169.37 , 161.586,\n",
       "        180.568, 173.826, 172.031, 166.728, 166.846, 163.978, 169.136,\n",
       "        171.377],\n",
       "       [176.634, 170.666, 182.361, 173.425, 165.921, 170.308, 162.222,\n",
       "        166.427, 164.257, 174.385, 165.958, 170.484, 164.522, 174.963,\n",
       "        171.915, 172.232, 172.637, 170.271, 162.844, 169.907, 172.121,\n",
       "        182.432, 172.535, 164.739, 169.595, 173.343, 163.667, 173.506,\n",
       "        178.289, 167.365, 164.827, 178.451, 174.511, 167.754, 180.685,\n",
       "        165.137, 177.965, 163.575, 174.307, 172.169, 166.475, 168.083,\n",
       "        173.189, 169.18 , 176.171, 174.963, 169.75 , 161.33 , 168.975,\n",
       "        165.656],\n",
       "       [172.077, 179.384, 169.126, 162.624, 164.335, 162.792, 170.029,\n",
       "        178.048, 172.535, 170.856, 176.227, 161.146, 163.237, 173.193,\n",
       "        170.323, 161.938, 169.353, 182.375, 164.681, 169.914, 173.343,\n",
       "        176.634, 171.034, 168.402, 168.975, 171.478, 177.32 , 170.678,\n",
       "        168.031, 167.517, 166.224, 167.209, 166.56 , 178.325, 164.135,\n",
       "        159.151, 170.174, 167.027, 173.805, 176.739, 166.026, 169.723,\n",
       "        166.56 , 174.511, 157.646, 170.029, 173.788, 163.618, 172.505,\n",
       "        173.158],\n",
       "       [178.451, 172.232, 169.462, 168.534, 167.365, 173.524, 170.858,\n",
       "        176.507, 174.61 , 182.619, 165.6  , 162.034, 165.12 , 173.398,\n",
       "        167.365, 168.532, 164.275, 178.048, 167.824, 177.131, 165.   ,\n",
       "        172.137, 168.105, 175.852, 175.361, 170.285, 167.382, 174.699,\n",
       "        167.209, 168.634, 168.251, 171.504, 174.963, 176.696, 167.517,\n",
       "        170.678, 168.344, 169.723, 169.626, 179.491, 175.173, 181.849,\n",
       "        181.07 , 166.427, 173.169, 180.685, 161.586, 171.516, 173.193,\n",
       "        175.349],\n",
       "       [164.335, 171.947, 168.689, 168.464, 164.424, 174.225, 175.447,\n",
       "        175.166, 178.395, 168.083, 169.462, 180.646, 169.529, 170.212,\n",
       "        158.956, 160.545, 178.183, 167.735, 163.288, 171.952, 182.432,\n",
       "        175.188, 171.463, 169.06 , 162.624, 173.158, 167.835, 170.858,\n",
       "        175.349, 174.821, 172.335, 169.015, 167.272, 176.118, 176.241,\n",
       "        181.07 , 169.015, 170.666, 167.892, 174.934, 172.062, 174.61 ,\n",
       "        170.429, 166.059, 173.589, 164.764, 175.091, 175.588, 173.778,\n",
       "        175.165],\n",
       "       [172.186, 158.956, 171.568, 172.704, 164.739, 163.661, 174.735,\n",
       "        171.272, 168.867, 161.586, 173.705, 167.432, 168.031, 172.407,\n",
       "        164.647, 166.026, 173.158, 165.958, 170.993, 170.029, 164.013,\n",
       "        180.229, 170.678, 173.169, 171.478, 166.209, 172.204, 173.8  ,\n",
       "        184.768, 171.516, 169.769, 162.624, 171.272, 170.021, 166.427,\n",
       "        168.634, 166.56 , 172.119, 163.715, 170.029, 167.892, 154.994,\n",
       "        175.903, 166.427, 171.478, 163.35 , 169.395, 169.136, 164.359,\n",
       "        163.533]])"
      ]
     },
     "execution_count": 140,
     "metadata": {},
     "output_type": "execute_result"
    }
   ],
   "source": [
    "np.random.seed(0)\n",
    "# 50명씩 10반으로 구성\n",
    "classes = np.random.choice(mo_rv, (10, 50))\n",
    "classes"
   ]
  },
  {
   "cell_type": "code",
   "execution_count": 148,
   "id": "85c5ba61",
   "metadata": {},
   "outputs": [
    {
     "name": "stdout",
     "output_type": "stream",
     "text": [
      "모분산 30.0\n",
      "모분산의 신뢰구간 [17.223335176761083, 87.63649111641197]\n"
     ]
    }
   ],
   "source": [
    "# 모평균을 모를때, 1반을 임의추출해 그 반의 분산으로 전체 학생의 분산 추정\n",
    "\n",
    "# 4번째 반을 표본집단으로 구성\n",
    "sample = classes[3]\n",
    "\n",
    "# 표본평균, 불편분산\n",
    "s_mean = np.mean(sample, axis=0)\n",
    "s_var = np.var(sample, axis=0, ddof = 0)\n",
    "\n",
    "# n-1을 따르는 카이제곱분포\n",
    "rv = stats.chi2(n-1)\n",
    "\n",
    "# 모분산의 신뢰구간, 신뢰도 90%\n",
    "lcl = (n-1)*s_var/rv.isf(0.05)\n",
    "ucl = (n-1)*s_var/rv.isf(0.95)\n",
    "\n",
    "# 모분산\n",
    "p_var = mo.var()\n",
    "\n",
    "print('모분산', p_var)\n",
    "print('모분산의 신뢰구간', [lcl, ucl])"
   ]
  },
  {
   "cell_type": "code",
   "execution_count": 150,
   "id": "108399f5",
   "metadata": {},
   "outputs": [
    {
     "name": "stdout",
     "output_type": "stream",
     "text": [
      "모평균 169.8611280164473\n",
      "모평균의 신뢰구간 [166.09657566351498, 172.69353256428505]\n"
     ]
    }
   ],
   "source": [
    "# 모분산을 모를때 모평균의 구간 추정-> t분포 사용\n",
    "\n",
    "rv = stats.t(n-1)\n",
    "lcl = s_mean - rv.isf(0.05)*np.sqrt(s_var/n)\n",
    "ucl = s_mean - rv.isf(0.95)*np.sqrt(s_var/n)\n",
    "\n",
    "# 모평균\n",
    "p_mean = mo_rv.mean()\n",
    "\n",
    "print('모평균', p_mean)\n",
    "print('모평균의 신뢰구간', [lcl, ucl])"
   ]
  }
 ],
 "metadata": {
  "kernelspec": {
   "display_name": "Python 3 (ipykernel)",
   "language": "python",
   "name": "python3"
  },
  "language_info": {
   "codemirror_mode": {
    "name": "ipython",
    "version": 3
   },
   "file_extension": ".py",
   "mimetype": "text/x-python",
   "name": "python",
   "nbconvert_exporter": "python",
   "pygments_lexer": "ipython3",
   "version": "3.9.12"
  },
  "toc": {
   "base_numbering": 1,
   "nav_menu": {},
   "number_sections": false,
   "sideBar": true,
   "skip_h1_title": false,
   "title_cell": "Table of Contents",
   "title_sidebar": "Contents",
   "toc_cell": false,
   "toc_position": {},
   "toc_section_display": true,
   "toc_window_display": false
  }
 },
 "nbformat": 4,
 "nbformat_minor": 5
}
