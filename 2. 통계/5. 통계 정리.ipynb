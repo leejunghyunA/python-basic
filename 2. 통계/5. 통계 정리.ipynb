{
 "cells": [
  {
   "cell_type": "markdown",
   "metadata": {},
   "source": [
    "## 빅데이터 기반 AI 응용 솔루션 개발자 전문과정\n",
    "\n",
    "### 교과목명 : 통계\n",
    "- 평가일 : 22.09.08\n",
    "- 성명 : 이정현A\n",
    "- 점수 : 88점 (2번, 4-4번, 14번, 15번 틀림/ 보너스 문제 맞음 +5)"
   ]
  },
  {
   "cell_type": "code",
   "execution_count": 23,
   "metadata": {},
   "outputs": [
    {
     "data": {
      "text/plain": [
       "'%.3f'"
      ]
     },
     "execution_count": 23,
     "metadata": {},
     "output_type": "execute_result"
    }
   ],
   "source": [
    "import numpy as np\n",
    "import pandas as pd\n",
    "from scipy import stats\n",
    "import matplotlib.pyplot as plt\n",
    "%precision 3"
   ]
  },
  {
   "cell_type": "markdown",
   "metadata": {},
   "source": [
    "Q1. df에서 mathematics 점수의 평균값, 중앙값, 최빈값, 분산, 표준편차, 범위, IQR을 구하세요."
   ]
  },
  {
   "cell_type": "code",
   "execution_count": 49,
   "metadata": {},
   "outputs": [
    {
     "data": {
      "text/html": [
       "<div>\n",
       "<style scoped>\n",
       "    .dataframe tbody tr th:only-of-type {\n",
       "        vertical-align: middle;\n",
       "    }\n",
       "\n",
       "    .dataframe tbody tr th {\n",
       "        vertical-align: top;\n",
       "    }\n",
       "\n",
       "    .dataframe thead th {\n",
       "        text-align: right;\n",
       "    }\n",
       "</style>\n",
       "<table border=\"1\" class=\"dataframe\">\n",
       "  <thead>\n",
       "    <tr style=\"text-align: right;\">\n",
       "      <th></th>\n",
       "      <th>english</th>\n",
       "      <th>mathematics</th>\n",
       "    </tr>\n",
       "    <tr>\n",
       "      <th>student number</th>\n",
       "      <th></th>\n",
       "      <th></th>\n",
       "    </tr>\n",
       "  </thead>\n",
       "  <tbody>\n",
       "    <tr>\n",
       "      <th>1</th>\n",
       "      <td>42</td>\n",
       "      <td>65</td>\n",
       "    </tr>\n",
       "    <tr>\n",
       "      <th>2</th>\n",
       "      <td>69</td>\n",
       "      <td>80</td>\n",
       "    </tr>\n",
       "    <tr>\n",
       "      <th>3</th>\n",
       "      <td>56</td>\n",
       "      <td>63</td>\n",
       "    </tr>\n",
       "    <tr>\n",
       "      <th>4</th>\n",
       "      <td>41</td>\n",
       "      <td>63</td>\n",
       "    </tr>\n",
       "    <tr>\n",
       "      <th>5</th>\n",
       "      <td>57</td>\n",
       "      <td>76</td>\n",
       "    </tr>\n",
       "  </tbody>\n",
       "</table>\n",
       "</div>"
      ],
      "text/plain": [
       "                english  mathematics\n",
       "student number                      \n",
       "1                    42           65\n",
       "2                    69           80\n",
       "3                    56           63\n",
       "4                    41           63\n",
       "5                    57           76"
      ]
     },
     "execution_count": 49,
     "metadata": {},
     "output_type": "execute_result"
    }
   ],
   "source": [
    "import numpy as np\n",
    "import pandas as pd\n",
    "df = pd.read_csv('data/ch2_scores_em.csv',\n",
    "                 index_col='student number')\n",
    "df.head()"
   ]
  },
  {
   "cell_type": "code",
   "execution_count": 50,
   "metadata": {},
   "outputs": [
    {
     "name": "stdout",
     "output_type": "stream",
     "text": [
      "평균: 78.88, 중앙: 80.0, 분산 :  69.385600, 표준편차 : 8.329802, 범위 : 37, IQR : 8.0 \n",
      "\n",
      "최빈값\n"
     ]
    },
    {
     "data": {
      "text/plain": [
       "0    77\n",
       "1    82\n",
       "2    84\n",
       "Name: mathematics, dtype: int64"
      ]
     },
     "execution_count": 50,
     "metadata": {},
     "output_type": "execute_result"
    }
   ],
   "source": [
    "# 수학 점수\n",
    "math = np.array(df['mathematics'])\n",
    "math_df = df['mathematics']\n",
    "\n",
    "# 평균값\n",
    "mean = np.mean(math)\n",
    "# 중앙값\n",
    "medi = math_df.median()\n",
    "# 최빈값\n",
    "mo = math_df.mode()\n",
    "# 분산\n",
    "var = np.var(math)\n",
    "# 표준편차\n",
    "std = np.std(math)\n",
    "# 범위\n",
    "rg = np.max(math) - np.min(math)\n",
    "# IQR\n",
    "math_q1 = np.percentile(math, 25)\n",
    "math_q3 = np.percentile(math, 75)\n",
    "iqr = math_q3 - math_q1\n",
    "\n",
    "print(f'평균: {mean}, 중앙: {medi}, 분산 : {var : 3f}, 표준편차 : {std :3f}, 범위 : {rg}, IQR : {iqr}', '\\n')\n",
    "print('최빈값')\n",
    "mo"
   ]
  },
  {
   "cell_type": "markdown",
   "metadata": {},
   "source": [
    "Q2. df.english를 표준화한 후 배열로 변환하여 처음 5개 원소를 출력하세요."
   ]
  },
  {
   "cell_type": "code",
   "execution_count": 51,
   "metadata": {},
   "outputs": [
    {
     "data": {
      "text/plain": [
       "pandas.core.series.Series"
      ]
     },
     "execution_count": 51,
     "metadata": {},
     "output_type": "execute_result"
    }
   ],
   "source": [
    "score = df.english\n",
    "type(score)"
   ]
  },
  {
   "cell_type": "code",
   "execution_count": 52,
   "metadata": {},
   "outputs": [
    {
     "data": {
      "text/plain": [
       "student number\n",
       "1   -1.688430\n",
       "2    1.094696\n",
       "3   -0.245327\n",
       "4   -1.791509\n",
       "5   -0.142249\n",
       "Name: english, dtype: float64"
      ]
     },
     "execution_count": 52,
     "metadata": {},
     "output_type": "execute_result"
    }
   ],
   "source": [
    "# 평균\n",
    "score_mean = np.mean(score)\n",
    "# 표준편차\n",
    "score_std = np.std(score)\n",
    "\n",
    "# 표준화\n",
    "z_score = (score - score_mean)/score_std\n",
    "z_score[:5]"
   ]
  },
  {
   "cell_type": "markdown",
   "metadata": {},
   "source": [
    "Q3. score에 대하여 다음사항을 수행하세요.\n",
    "- 상자그림으로 시각화하여 이상치 여부를 탐색\n",
    "- 이상치 값 및 인덱스 출력\n",
    "- 이상치 삭제\n",
    "- 상자그림으로 시각화하여 이상치 제거 여부 재확인."
   ]
  },
  {
   "cell_type": "code",
   "execution_count": 53,
   "metadata": {},
   "outputs": [
    {
     "data": {
      "text/plain": [
       "<AxesSubplot:>"
      ]
     },
     "execution_count": 53,
     "metadata": {},
     "output_type": "execute_result"
    },
    {
     "data": {
      "image/png": "[encoded data removed]",
      "text/plain": [
       "<Figure size 432x288 with 1 Axes>"
      ]
     },
     "metadata": {
      "needs_background": "light"
     },
     "output_type": "display_data"
    }
   ],
   "source": [
    "# 1. 상자그림 출력\n",
    "score.plot(kind = 'box')"
   ]
  },
  {
   "cell_type": "markdown",
   "metadata": {},
   "source": [
    "=> 이상치 존재"
   ]
  },
  {
   "cell_type": "code",
   "execution_count": 54,
   "metadata": {},
   "outputs": [
    {
     "data": {
      "text/plain": [
       "(37.500, 81.500)"
      ]
     },
     "execution_count": 54,
     "metadata": {},
     "output_type": "execute_result"
    }
   ],
   "source": [
    "# 이상치 값 구하기\n",
    "\n",
    "score_q1 = np.percentile(score, 25)\n",
    "score_q3 = np.percentile(score, 75)\n",
    "iqr = score_q3 - score_q1\n",
    "stranger_max = score_q3 + 1.5*iqr\n",
    "stranger_min = score_q1 - 1.5*iqr\n",
    "stranger_min, stranger_max # 최소중 가장 최소, 최대 중 가장 최대에서 이상치 존재"
   ]
  },
  {
   "cell_type": "code",
   "execution_count": 55,
   "metadata": {},
   "outputs": [
    {
     "data": {
      "text/plain": [
       "student number\n",
       "20    37\n",
       "35    37\n",
       "Name: english, dtype: int64"
      ]
     },
     "execution_count": 55,
     "metadata": {},
     "output_type": "execute_result"
    }
   ],
   "source": [
    "# 2.  값, 인덱스\n",
    "score[(score<stranger_min)|(score>stranger_max)]"
   ]
  },
  {
   "cell_type": "markdown",
   "metadata": {},
   "source": [
    "=> 이상치 2명 존재"
   ]
  },
  {
   "cell_type": "code",
   "execution_count": 56,
   "metadata": {},
   "outputs": [
    {
     "data": {
      "text/plain": [
       "37"
      ]
     },
     "execution_count": 56,
     "metadata": {},
     "output_type": "execute_result"
    }
   ],
   "source": [
    "# 3. 이상치 삭제\n",
    "score_ = score\n",
    "score_.pop(20)\n",
    "score_.pop(35)"
   ]
  },
  {
   "cell_type": "code",
   "execution_count": 57,
   "metadata": {
    "scrolled": true
   },
   "outputs": [
    {
     "data": {
      "text/plain": [
       "student number\n",
       "1     42\n",
       "2     69\n",
       "3     56\n",
       "4     41\n",
       "5     57\n",
       "6     48\n",
       "7     65\n",
       "8     49\n",
       "9     65\n",
       "10    58\n",
       "11    70\n",
       "12    47\n",
       "13    51\n",
       "14    64\n",
       "15    62\n",
       "16    70\n",
       "17    71\n",
       "18    68\n",
       "19    73\n",
       "21    65\n",
       "22    65\n",
       "23    61\n",
       "24    52\n",
       "25    57\n",
       "26    57\n",
       "27    75\n",
       "28    61\n",
       "29    47\n",
       "30    54\n",
       "31    66\n",
       "32    54\n",
       "33    54\n",
       "34    42\n",
       "36    79\n",
       "37    56\n",
       "38    62\n",
       "39    62\n",
       "40    55\n",
       "41    63\n",
       "42    57\n",
       "43    57\n",
       "44    67\n",
       "45    55\n",
       "46    45\n",
       "47    66\n",
       "48    55\n",
       "49    64\n",
       "50    66\n",
       "Name: english, dtype: int64"
      ]
     },
     "execution_count": 57,
     "metadata": {},
     "output_type": "execute_result"
    }
   ],
   "source": [
    "score_"
   ]
  },
  {
   "cell_type": "code",
   "execution_count": 58,
   "metadata": {},
   "outputs": [
    {
     "data": {
      "text/plain": [
       "<AxesSubplot:>"
      ]
     },
     "execution_count": 58,
     "metadata": {},
     "output_type": "execute_result"
    },
    {
     "data": {
      "image/png": "[encoded data removed]",
      "text/plain": [
       "<Figure size 432x288 with 1 Axes>"
      ]
     },
     "metadata": {
      "needs_background": "light"
     },
     "output_type": "display_data"
    }
   ],
   "source": [
    "# 상자그림으로 시각화하여 이상치 제거 여부 재확인.\n",
    "score_.plot(kind = 'box')"
   ]
  },
  {
   "cell_type": "markdown",
   "metadata": {},
   "source": [
    "Q4. 아래 scores_df에 대해서 아래사항을 수행하세요\n",
    "- scores_df.english와 scores_df.mathematics에 대한 공분산을 소수점 2째자리까지 출력\n",
    "- scores_df.english와 scores_df.mathematics에 대한 상관계수를 소수점 2째자리까지 출력\n",
    "- 두개 변수의 상관관계와 회귀직선을 시각화(회귀직선 포함 및 미포함 비교하여 1행 2열로 출력) \n",
    "- 두개 변수의 상관관계를 히트맵으로 시각화(칼러바 포함)"
   ]
  },
  {
   "cell_type": "code",
   "execution_count": 60,
   "metadata": {},
   "outputs": [
    {
     "data": {
      "text/html": [
       "<div>\n",
       "<style scoped>\n",
       "    .dataframe tbody tr th:only-of-type {\n",
       "        vertical-align: middle;\n",
       "    }\n",
       "\n",
       "    .dataframe tbody tr th {\n",
       "        vertical-align: top;\n",
       "    }\n",
       "\n",
       "    .dataframe thead th {\n",
       "        text-align: right;\n",
       "    }\n",
       "</style>\n",
       "<table border=\"1\" class=\"dataframe\">\n",
       "  <thead>\n",
       "    <tr style=\"text-align: right;\">\n",
       "      <th></th>\n",
       "      <th>english</th>\n",
       "      <th>mathematics</th>\n",
       "    </tr>\n",
       "    <tr>\n",
       "      <th>student</th>\n",
       "      <th></th>\n",
       "      <th></th>\n",
       "    </tr>\n",
       "  </thead>\n",
       "  <tbody>\n",
       "    <tr>\n",
       "      <th>A</th>\n",
       "      <td>42</td>\n",
       "      <td>65</td>\n",
       "    </tr>\n",
       "    <tr>\n",
       "      <th>B</th>\n",
       "      <td>69</td>\n",
       "      <td>80</td>\n",
       "    </tr>\n",
       "    <tr>\n",
       "      <th>C</th>\n",
       "      <td>56</td>\n",
       "      <td>63</td>\n",
       "    </tr>\n",
       "    <tr>\n",
       "      <th>D</th>\n",
       "      <td>41</td>\n",
       "      <td>63</td>\n",
       "    </tr>\n",
       "    <tr>\n",
       "      <th>E</th>\n",
       "      <td>57</td>\n",
       "      <td>76</td>\n",
       "    </tr>\n",
       "  </tbody>\n",
       "</table>\n",
       "</div>"
      ],
      "text/plain": [
       "         english  mathematics\n",
       "student                      \n",
       "A             42           65\n",
       "B             69           80\n",
       "C             56           63\n",
       "D             41           63\n",
       "E             57           76"
      ]
     },
     "execution_count": 60,
     "metadata": {},
     "output_type": "execute_result"
    }
   ],
   "source": [
    "import numpy as np\n",
    "import pandas as pd\n",
    "df = pd.read_csv('data/ch2_scores_em.csv',\n",
    "                 index_col='student number')\n",
    "en_scores = np.array(df['english'])[:10]\n",
    "ma_scores = np.array(df['mathematics'])[:10]\n",
    "\n",
    "scores_df = pd.DataFrame({'english':en_scores,\n",
    "                          'mathematics':ma_scores},\n",
    "                         index=pd.Index(['A', 'B', 'C', 'D', 'E',\n",
    "                                         'F', 'G', 'H', 'I', 'J'],\n",
    "                                        name='student'))\n",
    "scores_df.head()"
   ]
  },
  {
   "cell_type": "code",
   "execution_count": 62,
   "metadata": {},
   "outputs": [
    {
     "data": {
      "text/html": [
       "<div>\n",
       "<style scoped>\n",
       "    .dataframe tbody tr th:only-of-type {\n",
       "        vertical-align: middle;\n",
       "    }\n",
       "\n",
       "    .dataframe tbody tr th {\n",
       "        vertical-align: top;\n",
       "    }\n",
       "\n",
       "    .dataframe thead th {\n",
       "        text-align: right;\n",
       "    }\n",
       "</style>\n",
       "<table border=\"1\" class=\"dataframe\">\n",
       "  <thead>\n",
       "    <tr style=\"text-align: right;\">\n",
       "      <th></th>\n",
       "      <th>eng_deviation</th>\n",
       "      <th>math_deviation</th>\n",
       "    </tr>\n",
       "    <tr>\n",
       "      <th>student</th>\n",
       "      <th></th>\n",
       "      <th></th>\n",
       "    </tr>\n",
       "  </thead>\n",
       "  <tbody>\n",
       "    <tr>\n",
       "      <th>A</th>\n",
       "      <td>-13.0</td>\n",
       "      <td>-6.4</td>\n",
       "    </tr>\n",
       "    <tr>\n",
       "      <th>B</th>\n",
       "      <td>14.0</td>\n",
       "      <td>8.6</td>\n",
       "    </tr>\n",
       "    <tr>\n",
       "      <th>C</th>\n",
       "      <td>1.0</td>\n",
       "      <td>-8.4</td>\n",
       "    </tr>\n",
       "    <tr>\n",
       "      <th>D</th>\n",
       "      <td>-14.0</td>\n",
       "      <td>-8.4</td>\n",
       "    </tr>\n",
       "    <tr>\n",
       "      <th>E</th>\n",
       "      <td>2.0</td>\n",
       "      <td>4.6</td>\n",
       "    </tr>\n",
       "    <tr>\n",
       "      <th>F</th>\n",
       "      <td>-7.0</td>\n",
       "      <td>-11.4</td>\n",
       "    </tr>\n",
       "    <tr>\n",
       "      <th>G</th>\n",
       "      <td>10.0</td>\n",
       "      <td>9.6</td>\n",
       "    </tr>\n",
       "    <tr>\n",
       "      <th>H</th>\n",
       "      <td>-6.0</td>\n",
       "      <td>-5.4</td>\n",
       "    </tr>\n",
       "    <tr>\n",
       "      <th>I</th>\n",
       "      <td>10.0</td>\n",
       "      <td>6.6</td>\n",
       "    </tr>\n",
       "    <tr>\n",
       "      <th>J</th>\n",
       "      <td>3.0</td>\n",
       "      <td>10.6</td>\n",
       "    </tr>\n",
       "  </tbody>\n",
       "</table>\n",
       "</div>"
      ],
      "text/plain": [
       "         eng_deviation  math_deviation\n",
       "student                               \n",
       "A                -13.0            -6.4\n",
       "B                 14.0             8.6\n",
       "C                  1.0            -8.4\n",
       "D                -14.0            -8.4\n",
       "E                  2.0             4.6\n",
       "F                 -7.0           -11.4\n",
       "G                 10.0             9.6\n",
       "H                 -6.0            -5.4\n",
       "I                 10.0             6.6\n",
       "J                  3.0            10.6"
      ]
     },
     "execution_count": 62,
     "metadata": {},
     "output_type": "execute_result"
    }
   ],
   "source": [
    "# 1. scores_df.english와 scores_df.mathematics에 대한 공분산을 소수점 2째자리까지 출력\n",
    "cov_df = scores_df.copy()\n",
    "\n",
    "df_eng = scores_df['english']\n",
    "df_math = scores_df['mathematics']\n",
    "\n",
    "cov_df['eng_deviation'] = df_eng - df_eng.mean()\n",
    "cov_df['math_deviation'] = df_math - df_math.mean()\n",
    "cov_df[['eng_deviation', 'math_deviation']]"
   ]
  },
  {
   "cell_type": "code",
   "execution_count": 72,
   "metadata": {},
   "outputs": [
    {
     "data": {
      "text/plain": [
       "62.80"
      ]
     },
     "execution_count": 72,
     "metadata": {},
     "output_type": "execute_result"
    }
   ],
   "source": [
    "# 2. 두사이의 공분산\n",
    "%precision 2\n",
    "cov_mat = np.cov(df_eng, df_math, ddof = 0)\n",
    "cov_mat[0,1]"
   ]
  },
  {
   "cell_type": "code",
   "execution_count": 73,
   "metadata": {},
   "outputs": [
    {
     "data": {
      "text/plain": [
       "0.82"
      ]
     },
     "execution_count": 73,
     "metadata": {},
     "output_type": "execute_result"
    }
   ],
   "source": [
    "# 3. scores_df.english와 scores_df.mathematics에 대한 상관계수를 소수점 2째자리까지 출력\n",
    "corr = np.corrcoef(df_eng, df_math)\n",
    "corr[0,1]"
   ]
  },
  {
   "cell_type": "code",
   "execution_count": null,
   "metadata": {},
   "outputs": [],
   "source": [
    "# 4. 두개 변수의 상관관계와 회귀직선을 시각화(회귀직선 포함 및 미포함 비교하여 1행 2열로 출력)"
   ]
  },
  {
   "cell_type": "code",
   "execution_count": 174,
   "metadata": {},
   "outputs": [
    {
     "data": {
      "image/png": "[encoded data removed]",
      "text/plain": [
       "<Figure size 1440x720 with 2 Axes>"
      ]
     },
     "metadata": {
      "needs_background": "light"
     },
     "output_type": "display_data"
    }
   ],
   "source": [
    "# 계수\n",
    "poly_fit = np.polyfit(df_eng, df_math, 1)\n",
    "# x 반환\n",
    "poly_1d = np.poly1d(poly_fit)\n",
    "\n",
    "xs = np.linspace(df_eng.min(), df_eng.max())\n",
    "#y좌표\n",
    "ys = poly_1d(xs)\n",
    "\n",
    "fig = plt.figure(figsize = (20, 10))\n",
    "ax = fig.add_subplot(121)\n",
    "\n",
    "ax.scatter(df_eng, df_math, label = 'score')\n",
    "ax.plot(xs, ys, color = 'blue', label = f' y = {poly_fit[0]: .2f}x + {poly_fit[1]: .2f}')\n",
    "ax.set_xlabel('english')\n",
    "ax.set_ylabel('math')\n",
    "\n",
    "ax.legend(loc = 'upper left')\n",
    "\n",
    "ax1 = fig.add_subplot(122)\n",
    "\n",
    "ax1.scatter(df_eng, df_math, label = 'score')\n",
    "\n",
    "ax1.set_xlabel('english')\n",
    "ax1.set_ylabel('math')\n",
    "\n",
    "ax1.legend(loc = 'upper left')\n",
    "\n",
    "plt.show()"
   ]
  },
  {
   "cell_type": "code",
   "execution_count": 80,
   "metadata": {},
   "outputs": [
    {
     "data": {
      "image/png": "[encoded data removed]",
      "text/plain": [
       "<Figure size 720x576 with 2 Axes>"
      ]
     },
     "metadata": {
      "needs_background": "light"
     },
     "output_type": "display_data"
    }
   ],
   "source": [
    "# 5. 두개 변수의 상관관계를 히트맵으로 시각화(칼러바 포함)\n",
    "\n",
    "fig = plt.figure(figsize = (10, 8))\n",
    "ax = fig.add_subplot(111)\n",
    "c = ax.hist2d(df_eng, df_math, bins = [9, 8], range = [(35, 80), (55, 95)], color = 'blue')\n",
    "ax.set_xlabel('english')\n",
    "ax.set_ylabel('math')\n",
    "ax.set_xticks(c[1])\n",
    "ax.set_yticks(c[2])\n",
    "\n",
    "# 컬러바 표시\n",
    "fig.colorbar(c[3], ax=ax)\n",
    "plt.show()"
   ]
  },
  {
   "cell_type": "markdown",
   "metadata": {},
   "source": [
    "-> 다시 풀기"
   ]
  },
  {
   "cell_type": "markdown",
   "metadata": {},
   "source": [
    "Q5. 아래 scores는 전교생의 시험점수이다. 무작위추출로 표본 크기가 20인 표본을 추출하여 표본평균을 계산하는 작업을 10000번 수행해서 그 결과를 히스토그램으로 그려 표본평균이 어떻게 분포되는지 시각화를 수행하세요."
   ]
  },
  {
   "cell_type": "code",
   "execution_count": 81,
   "metadata": {},
   "outputs": [
    {
     "data": {
      "text/plain": [
       "array([76, 55, 80, 80, 74, 61, 81, 76, 23, 80], dtype=int64)"
      ]
     },
     "execution_count": 81,
     "metadata": {},
     "output_type": "execute_result"
    }
   ],
   "source": [
    "df = pd.read_csv('data/ch4_scores400.csv')\n",
    "scores = np.array(df['score'])\n",
    "scores[:10]"
   ]
  },
  {
   "cell_type": "code",
   "execution_count": 84,
   "metadata": {},
   "outputs": [
    {
     "data": {
      "image/png": "[encoded data removed]",
      "text/plain": [
       "<Figure size 720x432 with 1 Axes>"
      ]
     },
     "metadata": {
      "needs_background": "light"
     },
     "output_type": "display_data"
    }
   ],
   "source": [
    "n = 20\n",
    "sample_size = 10000\n",
    "\n",
    "fig = plt.figure(figsize = (10, 6))\n",
    "ax = fig.add_subplot(111)\n",
    "\n",
    "sample_means = [np.random.choice(scores, n).mean() for _ in range(sample_size)]\n",
    "\n",
    "ax.hist(sample_means, bins = 100, range = (0, 100), density = True)\n",
    "ax.set_xlim(50, 90)\n",
    "ax.set_ylabel('relative frequency') #상대도수\n",
    "ax.set_xlabel('score')\n",
    "plt.show()"
   ]
  },
  {
   "cell_type": "markdown",
   "metadata": {},
   "source": [
    "Q6. Bern(0.5)을 따르는 확률변수 X에 대하여 기댓값과 분산을 계산하세요. "
   ]
  },
  {
   "cell_type": "code",
   "execution_count": 85,
   "metadata": {},
   "outputs": [
    {
     "data": {
      "text/plain": [
       "(0.50, 0.25)"
      ]
     },
     "execution_count": 85,
     "metadata": {},
     "output_type": "execute_result"
    }
   ],
   "source": [
    "rv = stats.bernoulli(0.5)\n",
    "b_mean = rv.mean()\n",
    "b_var = rv.var()\n",
    "b_mean, b_var"
   ]
  },
  {
   "cell_type": "markdown",
   "metadata": {},
   "source": [
    "Q7. Bin(10,0.5)을 따르는 확률변수 X에 대하여 기댓값과 분산을 계산하세요."
   ]
  },
  {
   "cell_type": "code",
   "execution_count": 86,
   "metadata": {},
   "outputs": [
    {
     "data": {
      "text/plain": [
       "(5.00, 2.50)"
      ]
     },
     "execution_count": 86,
     "metadata": {},
     "output_type": "execute_result"
    }
   ],
   "source": [
    "rv1 = stats.binom(10, 0.5)\n",
    "bi_mean = rv1.mean()\n",
    "bi_var = rv1.var()\n",
    "bi_mean, bi_var"
   ]
  },
  {
   "cell_type": "markdown",
   "metadata": {},
   "source": [
    "Q8. Poi(2)을 따른 확률변수 X에 대하여 기댓값과 분산을 계산하세요."
   ]
  },
  {
   "cell_type": "code",
   "execution_count": 87,
   "metadata": {},
   "outputs": [
    {
     "data": {
      "text/plain": [
       "(2.00, 2.00)"
      ]
     },
     "execution_count": 87,
     "metadata": {},
     "output_type": "execute_result"
    }
   ],
   "source": [
    "rv2 = stats.poisson(2)\n",
    "po_mean = rv2.mean()\n",
    "po_var = rv2.var()\n",
    "po_mean, po_var"
   ]
  },
  {
   "cell_type": "markdown",
   "metadata": {},
   "source": [
    "Q9. 평균이 10, 표준편차가 3인 정규분포의 확률밀도함수를 그래프로 표현하세요. "
   ]
  },
  {
   "cell_type": "code",
   "execution_count": 92,
   "metadata": {},
   "outputs": [
    {
     "data": {
      "text/plain": [
       "[<matplotlib.lines.Line2D at 0x1ba7977c550>]"
      ]
     },
     "execution_count": 92,
     "metadata": {},
     "output_type": "execute_result"
    },
    {
     "data": {
      "image/png": "[encoded data removed]",
      "text/plain": [
       "<Figure size 720x576 with 1 Axes>"
      ]
     },
     "metadata": {
      "needs_background": "light"
     },
     "output_type": "display_data"
    }
   ],
   "source": [
    "rv = stats.norm(10, 3)\n",
    "\n",
    "xs = np.linspace(0, 20, 100)\n",
    "\n",
    "fig = plt.figure(figsize = (10, 8))\n",
    "ax = fig.add_subplot(111)\n",
    "\n",
    "ax.plot(xs, rv.pdf(xs), label = 'N(10, 9)', color = 'pink')"
   ]
  },
  {
   "cell_type": "markdown",
   "metadata": {},
   "source": [
    "Q10. 평균이 1, 표준편차가 2인 정규분포의 누적분포함수를 그래프로 표현하세요. "
   ]
  },
  {
   "cell_type": "code",
   "execution_count": 185,
   "metadata": {},
   "outputs": [
    {
     "data": {
      "text/plain": [
       "[<matplotlib.lines.Line2D at 0x1ba0ad96a60>]"
      ]
     },
     "execution_count": 185,
     "metadata": {},
     "output_type": "execute_result"
    },
    {
     "data": {
      "image/png": "[encoded data removed]",
      "text/plain": [
       "<Figure size 1080x576 with 1 Axes>"
      ]
     },
     "metadata": {
      "needs_background": "light"
     },
     "output_type": "display_data"
    }
   ],
   "source": [
    "rv = stats.norm(1, 2)\n",
    "\n",
    "xs = np.linspace(-15, 20, 100)\n",
    "\n",
    "fig = plt.figure(figsize = (15, 8))\n",
    "ax = fig.add_subplot(111)\n",
    "\n",
    "ax.plot(xs, rv.cdf(xs), label = 'N(10, 9)', color = 'black')"
   ]
  },
  {
   "cell_type": "markdown",
   "metadata": {},
   "source": [
    "Q11. \"5_2_fm.csv\"을 df1으로 불러와서 다음사항을 수행하세요.\n",
    "- df1을 df2 이름으로 복사한 후 df2의 species의 A, B를 C,D로 변경하세요.\n",
    "- df의 length를 species가 C인 것은 2배로 d인 것은 3배로 변경하여 df1과 df2를 행방향으로 결합, df 생성 \n",
    "- df를 species 칼럼을 기준으로 그룹별 평균과 표준편차를 산출"
   ]
  },
  {
   "cell_type": "code",
   "execution_count": 152,
   "metadata": {},
   "outputs": [
    {
     "data": {
      "text/html": [
       "<div>\n",
       "<style scoped>\n",
       "    .dataframe tbody tr th:only-of-type {\n",
       "        vertical-align: middle;\n",
       "    }\n",
       "\n",
       "    .dataframe tbody tr th {\n",
       "        vertical-align: top;\n",
       "    }\n",
       "\n",
       "    .dataframe thead th {\n",
       "        text-align: right;\n",
       "    }\n",
       "</style>\n",
       "<table border=\"1\" class=\"dataframe\">\n",
       "  <thead>\n",
       "    <tr style=\"text-align: right;\">\n",
       "      <th></th>\n",
       "      <th>species</th>\n",
       "      <th>length</th>\n",
       "    </tr>\n",
       "  </thead>\n",
       "  <tbody>\n",
       "    <tr>\n",
       "      <th>0</th>\n",
       "      <td>A</td>\n",
       "      <td>2</td>\n",
       "    </tr>\n",
       "    <tr>\n",
       "      <th>1</th>\n",
       "      <td>A</td>\n",
       "      <td>3</td>\n",
       "    </tr>\n",
       "    <tr>\n",
       "      <th>2</th>\n",
       "      <td>A</td>\n",
       "      <td>4</td>\n",
       "    </tr>\n",
       "    <tr>\n",
       "      <th>3</th>\n",
       "      <td>B</td>\n",
       "      <td>6</td>\n",
       "    </tr>\n",
       "    <tr>\n",
       "      <th>4</th>\n",
       "      <td>B</td>\n",
       "      <td>8</td>\n",
       "    </tr>\n",
       "    <tr>\n",
       "      <th>5</th>\n",
       "      <td>B</td>\n",
       "      <td>10</td>\n",
       "    </tr>\n",
       "  </tbody>\n",
       "</table>\n",
       "</div>"
      ],
      "text/plain": [
       "  species  length\n",
       "0       A       2\n",
       "1       A       3\n",
       "2       A       4\n",
       "3       B       6\n",
       "4       B       8\n",
       "5       B      10"
      ]
     },
     "execution_count": 152,
     "metadata": {},
     "output_type": "execute_result"
    }
   ],
   "source": [
    "import pandas as pd\n",
    "import numpy as np\n",
    "\n",
    "df1 = pd.read_csv(\"data/5_2_fm.csv\")\n",
    "df1"
   ]
  },
  {
   "cell_type": "code",
   "execution_count": 153,
   "metadata": {},
   "outputs": [
    {
     "data": {
      "text/html": [
       "<div>\n",
       "<style scoped>\n",
       "    .dataframe tbody tr th:only-of-type {\n",
       "        vertical-align: middle;\n",
       "    }\n",
       "\n",
       "    .dataframe tbody tr th {\n",
       "        vertical-align: top;\n",
       "    }\n",
       "\n",
       "    .dataframe thead th {\n",
       "        text-align: right;\n",
       "    }\n",
       "</style>\n",
       "<table border=\"1\" class=\"dataframe\">\n",
       "  <thead>\n",
       "    <tr style=\"text-align: right;\">\n",
       "      <th></th>\n",
       "      <th>species</th>\n",
       "      <th>length</th>\n",
       "    </tr>\n",
       "  </thead>\n",
       "  <tbody>\n",
       "    <tr>\n",
       "      <th>0</th>\n",
       "      <td>C</td>\n",
       "      <td>2</td>\n",
       "    </tr>\n",
       "    <tr>\n",
       "      <th>1</th>\n",
       "      <td>C</td>\n",
       "      <td>3</td>\n",
       "    </tr>\n",
       "    <tr>\n",
       "      <th>2</th>\n",
       "      <td>C</td>\n",
       "      <td>4</td>\n",
       "    </tr>\n",
       "    <tr>\n",
       "      <th>3</th>\n",
       "      <td>D</td>\n",
       "      <td>6</td>\n",
       "    </tr>\n",
       "    <tr>\n",
       "      <th>4</th>\n",
       "      <td>D</td>\n",
       "      <td>8</td>\n",
       "    </tr>\n",
       "    <tr>\n",
       "      <th>5</th>\n",
       "      <td>D</td>\n",
       "      <td>10</td>\n",
       "    </tr>\n",
       "  </tbody>\n",
       "</table>\n",
       "</div>"
      ],
      "text/plain": [
       "  species  length\n",
       "0       C       2\n",
       "1       C       3\n",
       "2       C       4\n",
       "3       D       6\n",
       "4       D       8\n",
       "5       D      10"
      ]
     },
     "execution_count": 153,
     "metadata": {},
     "output_type": "execute_result"
    }
   ],
   "source": [
    "# 1. df1을 df2 이름으로 복사한 후 df2의 species의 A, B를 C,D로 변경하세요.\n",
    "df2 = df1.copy()\n",
    "\n",
    "for i in range(len(df1)) :\n",
    "    if df2.loc[i, 'species'] == 'A':\n",
    "        df2.loc[i, 'species'] = 'C'\n",
    "    elif df2.loc[i, 'species'] == 'B':\n",
    "        df2.loc[i, 'species'] = 'D'\n",
    "df2"
   ]
  },
  {
   "cell_type": "code",
   "execution_count": 154,
   "metadata": {},
   "outputs": [
    {
     "data": {
      "text/html": [
       "<div>\n",
       "<style scoped>\n",
       "    .dataframe tbody tr th:only-of-type {\n",
       "        vertical-align: middle;\n",
       "    }\n",
       "\n",
       "    .dataframe tbody tr th {\n",
       "        vertical-align: top;\n",
       "    }\n",
       "\n",
       "    .dataframe thead th {\n",
       "        text-align: right;\n",
       "    }\n",
       "</style>\n",
       "<table border=\"1\" class=\"dataframe\">\n",
       "  <thead>\n",
       "    <tr style=\"text-align: right;\">\n",
       "      <th></th>\n",
       "      <th>species</th>\n",
       "      <th>length</th>\n",
       "    </tr>\n",
       "  </thead>\n",
       "  <tbody>\n",
       "    <tr>\n",
       "      <th>0</th>\n",
       "      <td>A</td>\n",
       "      <td>2</td>\n",
       "    </tr>\n",
       "    <tr>\n",
       "      <th>1</th>\n",
       "      <td>A</td>\n",
       "      <td>3</td>\n",
       "    </tr>\n",
       "    <tr>\n",
       "      <th>2</th>\n",
       "      <td>A</td>\n",
       "      <td>4</td>\n",
       "    </tr>\n",
       "    <tr>\n",
       "      <th>3</th>\n",
       "      <td>B</td>\n",
       "      <td>6</td>\n",
       "    </tr>\n",
       "    <tr>\n",
       "      <th>4</th>\n",
       "      <td>B</td>\n",
       "      <td>8</td>\n",
       "    </tr>\n",
       "    <tr>\n",
       "      <th>5</th>\n",
       "      <td>B</td>\n",
       "      <td>10</td>\n",
       "    </tr>\n",
       "    <tr>\n",
       "      <th>0</th>\n",
       "      <td>C</td>\n",
       "      <td>4</td>\n",
       "    </tr>\n",
       "    <tr>\n",
       "      <th>1</th>\n",
       "      <td>C</td>\n",
       "      <td>6</td>\n",
       "    </tr>\n",
       "    <tr>\n",
       "      <th>2</th>\n",
       "      <td>C</td>\n",
       "      <td>8</td>\n",
       "    </tr>\n",
       "    <tr>\n",
       "      <th>3</th>\n",
       "      <td>D</td>\n",
       "      <td>18</td>\n",
       "    </tr>\n",
       "    <tr>\n",
       "      <th>4</th>\n",
       "      <td>D</td>\n",
       "      <td>24</td>\n",
       "    </tr>\n",
       "    <tr>\n",
       "      <th>5</th>\n",
       "      <td>D</td>\n",
       "      <td>30</td>\n",
       "    </tr>\n",
       "  </tbody>\n",
       "</table>\n",
       "</div>"
      ],
      "text/plain": [
       "  species  length\n",
       "0       A       2\n",
       "1       A       3\n",
       "2       A       4\n",
       "3       B       6\n",
       "4       B       8\n",
       "5       B      10\n",
       "0       C       4\n",
       "1       C       6\n",
       "2       C       8\n",
       "3       D      18\n",
       "4       D      24\n",
       "5       D      30"
      ]
     },
     "execution_count": 154,
     "metadata": {},
     "output_type": "execute_result"
    }
   ],
   "source": [
    "# 2. df의 length를 species가 C인 것은 2배로 d인 것은 3배로 변경하여 df1과 df2를 행방향으로 결합, df 생성\n",
    "df2_ = df2.copy()\n",
    "\n",
    "def change(x):\n",
    "    for i in range(len(x)):\n",
    "        if x.loc[i, 'species'] == 'C':\n",
    "            x.loc[i, 'length'] = x.loc[i, 'length']*2\n",
    "        else:\n",
    "            x.loc[i, 'length'] = x.loc[i, 'length']*3\n",
    "    df = pd.concat([df1, x])\n",
    "    return df\n",
    "df = change(df2)\n",
    "df"
   ]
  },
  {
   "cell_type": "code",
   "execution_count": 159,
   "metadata": {},
   "outputs": [
    {
     "data": {
      "text/html": [
       "<div>\n",
       "<style scoped>\n",
       "    .dataframe tbody tr th:only-of-type {\n",
       "        vertical-align: middle;\n",
       "    }\n",
       "\n",
       "    .dataframe tbody tr th {\n",
       "        vertical-align: top;\n",
       "    }\n",
       "\n",
       "    .dataframe thead th {\n",
       "        text-align: right;\n",
       "    }\n",
       "</style>\n",
       "<table border=\"1\" class=\"dataframe\">\n",
       "  <thead>\n",
       "    <tr style=\"text-align: right;\">\n",
       "      <th></th>\n",
       "      <th>length</th>\n",
       "    </tr>\n",
       "    <tr>\n",
       "      <th>species</th>\n",
       "      <th></th>\n",
       "    </tr>\n",
       "  </thead>\n",
       "  <tbody>\n",
       "    <tr>\n",
       "      <th>A</th>\n",
       "      <td>3.0</td>\n",
       "    </tr>\n",
       "    <tr>\n",
       "      <th>B</th>\n",
       "      <td>8.0</td>\n",
       "    </tr>\n",
       "    <tr>\n",
       "      <th>C</th>\n",
       "      <td>6.0</td>\n",
       "    </tr>\n",
       "    <tr>\n",
       "      <th>D</th>\n",
       "      <td>24.0</td>\n",
       "    </tr>\n",
       "  </tbody>\n",
       "</table>\n",
       "</div>"
      ],
      "text/plain": [
       "         length\n",
       "species        \n",
       "A           3.0\n",
       "B           8.0\n",
       "C           6.0\n",
       "D          24.0"
      ]
     },
     "execution_count": 159,
     "metadata": {},
     "output_type": "execute_result"
    }
   ],
   "source": [
    "# df를 species 칼럼을 기준으로 그룹별 평균과 표준편차를 산출\n",
    "\n",
    "df_mean = df.groupby('species').mean()\n",
    "df_mean # 평균"
   ]
  },
  {
   "cell_type": "code",
   "execution_count": 160,
   "metadata": {},
   "outputs": [
    {
     "data": {
      "text/html": [
       "<div>\n",
       "<style scoped>\n",
       "    .dataframe tbody tr th:only-of-type {\n",
       "        vertical-align: middle;\n",
       "    }\n",
       "\n",
       "    .dataframe tbody tr th {\n",
       "        vertical-align: top;\n",
       "    }\n",
       "\n",
       "    .dataframe thead th {\n",
       "        text-align: right;\n",
       "    }\n",
       "</style>\n",
       "<table border=\"1\" class=\"dataframe\">\n",
       "  <thead>\n",
       "    <tr style=\"text-align: right;\">\n",
       "      <th></th>\n",
       "      <th>length</th>\n",
       "    </tr>\n",
       "    <tr>\n",
       "      <th>species</th>\n",
       "      <th></th>\n",
       "    </tr>\n",
       "  </thead>\n",
       "  <tbody>\n",
       "    <tr>\n",
       "      <th>A</th>\n",
       "      <td>1.0</td>\n",
       "    </tr>\n",
       "    <tr>\n",
       "      <th>B</th>\n",
       "      <td>2.0</td>\n",
       "    </tr>\n",
       "    <tr>\n",
       "      <th>C</th>\n",
       "      <td>2.0</td>\n",
       "    </tr>\n",
       "    <tr>\n",
       "      <th>D</th>\n",
       "      <td>6.0</td>\n",
       "    </tr>\n",
       "  </tbody>\n",
       "</table>\n",
       "</div>"
      ],
      "text/plain": [
       "         length\n",
       "species        \n",
       "A           1.0\n",
       "B           2.0\n",
       "C           2.0\n",
       "D           6.0"
      ]
     },
     "execution_count": 160,
     "metadata": {},
     "output_type": "execute_result"
    }
   ],
   "source": [
    "df_std = df.groupby('species').std()\n",
    "df_std # 표준편차"
   ]
  },
  {
   "cell_type": "markdown",
   "metadata": {},
   "source": [
    "Q12. \"./dataset/5_2_shoes.csv\" 을 데이터프레임으로 불러와서 아래작업을 수행하세요.\n",
    "- 4행 3열을 복사 후 추가하여 8행 3열로 작성\n",
    "- 피봇을 이용해서 교차분석표 작성(values='sales',aggfunc='sum', index= 'store', columns = 'color')\n",
    "- 독립성 검정을 수행(보너스 문제)"
   ]
  },
  {
   "cell_type": "code",
   "execution_count": 110,
   "metadata": {},
   "outputs": [
    {
     "data": {
      "text/html": [
       "<div>\n",
       "<style scoped>\n",
       "    .dataframe tbody tr th:only-of-type {\n",
       "        vertical-align: middle;\n",
       "    }\n",
       "\n",
       "    .dataframe tbody tr th {\n",
       "        vertical-align: top;\n",
       "    }\n",
       "\n",
       "    .dataframe thead th {\n",
       "        text-align: right;\n",
       "    }\n",
       "</style>\n",
       "<table border=\"1\" class=\"dataframe\">\n",
       "  <thead>\n",
       "    <tr style=\"text-align: right;\">\n",
       "      <th></th>\n",
       "      <th>store</th>\n",
       "      <th>color</th>\n",
       "      <th>sales</th>\n",
       "    </tr>\n",
       "  </thead>\n",
       "  <tbody>\n",
       "    <tr>\n",
       "      <th>0</th>\n",
       "      <td>tokyo</td>\n",
       "      <td>blue</td>\n",
       "      <td>10</td>\n",
       "    </tr>\n",
       "    <tr>\n",
       "      <th>1</th>\n",
       "      <td>tokyo</td>\n",
       "      <td>red</td>\n",
       "      <td>15</td>\n",
       "    </tr>\n",
       "    <tr>\n",
       "      <th>2</th>\n",
       "      <td>osaka</td>\n",
       "      <td>blue</td>\n",
       "      <td>13</td>\n",
       "    </tr>\n",
       "    <tr>\n",
       "      <th>3</th>\n",
       "      <td>osaka</td>\n",
       "      <td>red</td>\n",
       "      <td>9</td>\n",
       "    </tr>\n",
       "  </tbody>\n",
       "</table>\n",
       "</div>"
      ],
      "text/plain": [
       "   store color  sales\n",
       "0  tokyo  blue     10\n",
       "1  tokyo   red     15\n",
       "2  osaka  blue     13\n",
       "3  osaka   red      9"
      ]
     },
     "execution_count": 110,
     "metadata": {},
     "output_type": "execute_result"
    }
   ],
   "source": [
    "import pandas as pd\n",
    "shoes = pd.read_csv(\"data/5_2_shoes.csv\")\n",
    "shoes1=shoes.copy()\n",
    "shoes1"
   ]
  },
  {
   "cell_type": "code",
   "execution_count": 114,
   "metadata": {},
   "outputs": [
    {
     "data": {
      "text/html": [
       "<div>\n",
       "<style scoped>\n",
       "    .dataframe tbody tr th:only-of-type {\n",
       "        vertical-align: middle;\n",
       "    }\n",
       "\n",
       "    .dataframe tbody tr th {\n",
       "        vertical-align: top;\n",
       "    }\n",
       "\n",
       "    .dataframe thead th {\n",
       "        text-align: right;\n",
       "    }\n",
       "</style>\n",
       "<table border=\"1\" class=\"dataframe\">\n",
       "  <thead>\n",
       "    <tr style=\"text-align: right;\">\n",
       "      <th></th>\n",
       "      <th>store</th>\n",
       "      <th>color</th>\n",
       "      <th>sales</th>\n",
       "    </tr>\n",
       "  </thead>\n",
       "  <tbody>\n",
       "    <tr>\n",
       "      <th>0</th>\n",
       "      <td>tokyo</td>\n",
       "      <td>blue</td>\n",
       "      <td>10</td>\n",
       "    </tr>\n",
       "    <tr>\n",
       "      <th>1</th>\n",
       "      <td>tokyo</td>\n",
       "      <td>red</td>\n",
       "      <td>15</td>\n",
       "    </tr>\n",
       "    <tr>\n",
       "      <th>2</th>\n",
       "      <td>osaka</td>\n",
       "      <td>blue</td>\n",
       "      <td>13</td>\n",
       "    </tr>\n",
       "    <tr>\n",
       "      <th>3</th>\n",
       "      <td>osaka</td>\n",
       "      <td>red</td>\n",
       "      <td>9</td>\n",
       "    </tr>\n",
       "    <tr>\n",
       "      <th>0</th>\n",
       "      <td>tokyo</td>\n",
       "      <td>blue</td>\n",
       "      <td>10</td>\n",
       "    </tr>\n",
       "    <tr>\n",
       "      <th>1</th>\n",
       "      <td>tokyo</td>\n",
       "      <td>red</td>\n",
       "      <td>15</td>\n",
       "    </tr>\n",
       "    <tr>\n",
       "      <th>2</th>\n",
       "      <td>osaka</td>\n",
       "      <td>blue</td>\n",
       "      <td>13</td>\n",
       "    </tr>\n",
       "    <tr>\n",
       "      <th>3</th>\n",
       "      <td>osaka</td>\n",
       "      <td>red</td>\n",
       "      <td>9</td>\n",
       "    </tr>\n",
       "  </tbody>\n",
       "</table>\n",
       "</div>"
      ],
      "text/plain": [
       "   store color  sales\n",
       "0  tokyo  blue     10\n",
       "1  tokyo   red     15\n",
       "2  osaka  blue     13\n",
       "3  osaka   red      9\n",
       "0  tokyo  blue     10\n",
       "1  tokyo   red     15\n",
       "2  osaka  blue     13\n",
       "3  osaka   red      9"
      ]
     },
     "execution_count": 114,
     "metadata": {},
     "output_type": "execute_result"
    }
   ],
   "source": [
    "# 4행 3열을 복사 후 추가하여 8행 3열로 작성\n",
    "df = pd.concat([shoes1, shoes1])\n",
    "df"
   ]
  },
  {
   "cell_type": "code",
   "execution_count": 115,
   "metadata": {},
   "outputs": [
    {
     "data": {
      "text/html": [
       "<div>\n",
       "<style scoped>\n",
       "    .dataframe tbody tr th:only-of-type {\n",
       "        vertical-align: middle;\n",
       "    }\n",
       "\n",
       "    .dataframe tbody tr th {\n",
       "        vertical-align: top;\n",
       "    }\n",
       "\n",
       "    .dataframe thead th {\n",
       "        text-align: right;\n",
       "    }\n",
       "</style>\n",
       "<table border=\"1\" class=\"dataframe\">\n",
       "  <thead>\n",
       "    <tr style=\"text-align: right;\">\n",
       "      <th>color</th>\n",
       "      <th>blue</th>\n",
       "      <th>red</th>\n",
       "    </tr>\n",
       "    <tr>\n",
       "      <th>store</th>\n",
       "      <th></th>\n",
       "      <th></th>\n",
       "    </tr>\n",
       "  </thead>\n",
       "  <tbody>\n",
       "    <tr>\n",
       "      <th>osaka</th>\n",
       "      <td>26</td>\n",
       "      <td>18</td>\n",
       "    </tr>\n",
       "    <tr>\n",
       "      <th>tokyo</th>\n",
       "      <td>20</td>\n",
       "      <td>30</td>\n",
       "    </tr>\n",
       "  </tbody>\n",
       "</table>\n",
       "</div>"
      ],
      "text/plain": [
       "color  blue  red\n",
       "store           \n",
       "osaka    26   18\n",
       "tokyo    20   30"
      ]
     },
     "execution_count": 115,
     "metadata": {},
     "output_type": "execute_result"
    }
   ],
   "source": [
    "# 피봇을 이용해서 교차분석표 작성(values='sales',aggfunc='sum', index= 'store', columns = 'color')\n",
    "df1 = pd.pivot_table(df,\n",
    "                    values = 'sales',\n",
    "                    aggfunc = 'sum',\n",
    "                    index = 'store',\n",
    "                    columns = 'color')\n",
    "df1"
   ]
  },
  {
   "cell_type": "code",
   "execution_count": 116,
   "metadata": {},
   "outputs": [
    {
     "data": {
      "text/plain": [
       "(3.41, 0.06, 1)"
      ]
     },
     "execution_count": 116,
     "metadata": {},
     "output_type": "execute_result"
    }
   ],
   "source": [
    "# 독립성 검정을 수행(보너스 문제)\n",
    "\n",
    "chi2, p, dof, ef = stats.chi2_contingency(df1, correction=False)\n",
    "chi2, p, dof"
   ]
  },
  {
   "cell_type": "raw",
   "metadata": {},
   "source": [
    "=> 귀무가설 : store과 color는 서로 독립이다. 대립가설 : store과 color는 독립이 아니다. (유의한 차이가 있다.) \n",
    "=> 유의수준 5%(0.05)보다 p 값이 더 크기 때문에 귀무가설 채택 (store과 color는 서로 독립이다. 관계가 없다.)"
   ]
  },
  {
   "cell_type": "markdown",
   "metadata": {},
   "source": [
    "Q13. 'dataset/titanic3.csv'을 불러와서 pclass 와 sex 칼럼을 각각 인덱스, 칼럼으로 하고 values는 survived, 함수는 mean을 적용하여 pivot_table을 만든 후 히트맵으로 시각화 및 인사이트를 기술하세요"
   ]
  },
  {
   "cell_type": "code",
   "execution_count": 161,
   "metadata": {},
   "outputs": [
    {
     "data": {
      "text/html": [
       "<div>\n",
       "<style scoped>\n",
       "    .dataframe tbody tr th:only-of-type {\n",
       "        vertical-align: middle;\n",
       "    }\n",
       "\n",
       "    .dataframe tbody tr th {\n",
       "        vertical-align: top;\n",
       "    }\n",
       "\n",
       "    .dataframe thead th {\n",
       "        text-align: right;\n",
       "    }\n",
       "</style>\n",
       "<table border=\"1\" class=\"dataframe\">\n",
       "  <thead>\n",
       "    <tr style=\"text-align: right;\">\n",
       "      <th></th>\n",
       "      <th>pclass</th>\n",
       "      <th>survived</th>\n",
       "      <th>name</th>\n",
       "      <th>sex</th>\n",
       "      <th>age</th>\n",
       "      <th>sibsp</th>\n",
       "      <th>parch</th>\n",
       "      <th>ticket</th>\n",
       "      <th>fare</th>\n",
       "      <th>cabin</th>\n",
       "      <th>embarked</th>\n",
       "      <th>boat</th>\n",
       "      <th>body</th>\n",
       "      <th>home.dest</th>\n",
       "    </tr>\n",
       "  </thead>\n",
       "  <tbody>\n",
       "    <tr>\n",
       "      <th>0</th>\n",
       "      <td>1</td>\n",
       "      <td>1</td>\n",
       "      <td>Allen, Miss. Elisabeth Walton</td>\n",
       "      <td>female</td>\n",
       "      <td>29.00</td>\n",
       "      <td>0</td>\n",
       "      <td>0</td>\n",
       "      <td>24160</td>\n",
       "      <td>211.3375</td>\n",
       "      <td>B5</td>\n",
       "      <td>S</td>\n",
       "      <td>2</td>\n",
       "      <td>NaN</td>\n",
       "      <td>St Louis, MO</td>\n",
       "    </tr>\n",
       "    <tr>\n",
       "      <th>1</th>\n",
       "      <td>1</td>\n",
       "      <td>1</td>\n",
       "      <td>Allison, Master. Hudson Trevor</td>\n",
       "      <td>male</td>\n",
       "      <td>0.92</td>\n",
       "      <td>1</td>\n",
       "      <td>2</td>\n",
       "      <td>113781</td>\n",
       "      <td>151.5500</td>\n",
       "      <td>C22 C26</td>\n",
       "      <td>S</td>\n",
       "      <td>11</td>\n",
       "      <td>NaN</td>\n",
       "      <td>Montreal, PQ / Chesterville, ON</td>\n",
       "    </tr>\n",
       "  </tbody>\n",
       "</table>\n",
       "</div>"
      ],
      "text/plain": [
       "   pclass  survived                            name     sex    age  sibsp  \\\n",
       "0       1         1   Allen, Miss. Elisabeth Walton  female  29.00      0   \n",
       "1       1         1  Allison, Master. Hudson Trevor    male   0.92      1   \n",
       "\n",
       "   parch  ticket      fare    cabin embarked boat  body  \\\n",
       "0      0   24160  211.3375       B5        S    2   NaN   \n",
       "1      2  113781  151.5500  C22 C26        S   11   NaN   \n",
       "\n",
       "                         home.dest  \n",
       "0                     St Louis, MO  \n",
       "1  Montreal, PQ / Chesterville, ON  "
      ]
     },
     "execution_count": 161,
     "metadata": {},
     "output_type": "execute_result"
    }
   ],
   "source": [
    "titanic = pd.read_csv('data/titanic3.csv')\n",
    "titanic.head(2)"
   ]
  },
  {
   "cell_type": "code",
   "execution_count": 162,
   "metadata": {},
   "outputs": [
    {
     "data": {
      "text/html": [
       "<div>\n",
       "<style scoped>\n",
       "    .dataframe tbody tr th:only-of-type {\n",
       "        vertical-align: middle;\n",
       "    }\n",
       "\n",
       "    .dataframe tbody tr th {\n",
       "        vertical-align: top;\n",
       "    }\n",
       "\n",
       "    .dataframe thead th {\n",
       "        text-align: right;\n",
       "    }\n",
       "</style>\n",
       "<table border=\"1\" class=\"dataframe\">\n",
       "  <thead>\n",
       "    <tr style=\"text-align: right;\">\n",
       "      <th>sex</th>\n",
       "      <th>female</th>\n",
       "      <th>male</th>\n",
       "    </tr>\n",
       "    <tr>\n",
       "      <th>pclass</th>\n",
       "      <th></th>\n",
       "      <th></th>\n",
       "    </tr>\n",
       "  </thead>\n",
       "  <tbody>\n",
       "    <tr>\n",
       "      <th>1</th>\n",
       "      <td>0.965278</td>\n",
       "      <td>0.340782</td>\n",
       "    </tr>\n",
       "    <tr>\n",
       "      <th>2</th>\n",
       "      <td>0.886792</td>\n",
       "      <td>0.146199</td>\n",
       "    </tr>\n",
       "    <tr>\n",
       "      <th>3</th>\n",
       "      <td>0.490741</td>\n",
       "      <td>0.152130</td>\n",
       "    </tr>\n",
       "  </tbody>\n",
       "</table>\n",
       "</div>"
      ],
      "text/plain": [
       "sex       female      male\n",
       "pclass                    \n",
       "1       0.965278  0.340782\n",
       "2       0.886792  0.146199\n",
       "3       0.490741  0.152130"
      ]
     },
     "execution_count": 162,
     "metadata": {},
     "output_type": "execute_result"
    }
   ],
   "source": [
    "# pclass, sex 인덱스, 칼럼\n",
    "# values 는 survived, 함수는 mean을 적용, pivot_table 생성 후 히트맵, 인사이트 기술\n",
    "\n",
    "df = titanic[['pclass', 'sex', 'survived']]\n",
    "pi_df = pd.pivot_table(df, \n",
    "                      values = 'survived',\n",
    "                    aggfunc = 'mean',\n",
    "                    index = 'pclass',\n",
    "                    columns = 'sex')\n",
    "pi_df"
   ]
  },
  {
   "cell_type": "code",
   "execution_count": 163,
   "metadata": {},
   "outputs": [
    {
     "data": {
      "text/plain": [
       "Int64Index([1, 2, 3], dtype='int64', name='pclass')"
      ]
     },
     "execution_count": 163,
     "metadata": {},
     "output_type": "execute_result"
    }
   ],
   "source": [
    "pi_df.index"
   ]
  },
  {
   "cell_type": "code",
   "execution_count": 180,
   "metadata": {},
   "outputs": [
    {
     "data": {
      "text/plain": [
       "<matplotlib.colorbar.Colorbar at 0x1ba0aa06040>"
      ]
     },
     "execution_count": 180,
     "metadata": {},
     "output_type": "execute_result"
    },
    {
     "data": {
      "image/png": "[encoded data removed]",
      "text/plain": [
       "<Figure size 720x576 with 2 Axes>"
      ]
     },
     "metadata": {
      "needs_background": "light"
     },
     "output_type": "display_data"
    }
   ],
   "source": [
    "fig = plt.figure(figsize = (10, 8))\n",
    "ax = fig.add_subplot(111)\n",
    "\n",
    "c = ax.pcolor(pi_df)\n",
    "ax.set_xticks([0, 2])\n",
    "ax.set_yticks(np.arange(1, 4))\n",
    "ax.set_xticklabels([0, 1], minor = False)\n",
    "ax.set_yticklabels(np.arange(1, 4), minor = False)\n",
    "ax.set_xlabel('sex', size = 15)\n",
    "ax.set_ylabel('pclass', size = 15)\n",
    "fig.colorbar(c, ax=ax)"
   ]
  },
  {
   "cell_type": "raw",
   "metadata": {},
   "source": [
    "=> 0 : 여자, 1이 남자\n",
    "=> 여자가 남자보다 생존율이 높음\n",
    "=> pclass가 낮은 숫자 (1)일 수록 생존율이 높지만, 남자가 pclass가 좋은 등급이여도 여자인데 pclass가 낮은 등급(3)인 그룹에 비해 생존율이 낮다."
   ]
  },
  {
   "cell_type": "markdown",
   "metadata": {},
   "source": [
    "Q14. 평균 4, 표준편차 0.8인 정규분포에서 샘플사이즈 10인 표본 10000개의 표본평균을 배열로 저장하고 10개를 출력하세요.(넘파이 zeros 함수 이용)"
   ]
  },
  {
   "cell_type": "code",
   "execution_count": 183,
   "metadata": {},
   "outputs": [
    {
     "data": {
      "text/plain": [
       "array([4.23, 4.24, 4.04, 3.8 , 4.03, 3.88, 3.55, 4.11, 3.91, 3.82])"
      ]
     },
     "execution_count": 183,
     "metadata": {},
     "output_type": "execute_result"
    }
   ],
   "source": [
    "rv = stats.norm(4, 0.8)\n",
    "n = 10\n",
    "sample_size = 10000\n",
    "\n",
    "sample = rv.rvs((n, sample_size))\n",
    "sample_ = np.mean(sample, axis=0)\n",
    "sample_[:10]"
   ]
  },
  {
   "cell_type": "markdown",
   "metadata": {},
   "source": [
    "Q15. Q14에서 구한 배열의 히스토그램을 시각화하세요.(확률밀도 포함)"
   ]
  },
  {
   "cell_type": "code",
   "execution_count": null,
   "metadata": {},
   "outputs": [],
   "source": []
  },
  {
   "cell_type": "markdown",
   "metadata": {},
   "source": [
    "Q16. 서로 독립인 X\\~N(1,2), Y\\~N(2,3)이 있을 때 확률변수 X + Y의 분포는 N(3,5)를 따른다는 것을 시각화하여 출력하세요."
   ]
  },
  {
   "cell_type": "code",
   "execution_count": 143,
   "metadata": {},
   "outputs": [
    {
     "data": {
      "image/png": "[encoded data removed]",
      "text/plain": [
       "<Figure size 720x432 with 1 Axes>"
      ]
     },
     "metadata": {
      "needs_background": "light"
     },
     "output_type": "display_data"
    }
   ],
   "source": [
    "sample_size = int(1e6)\n",
    "rv1 = stats.norm(1, np.sqrt(2))\n",
    "x_sam = rv1.rvs(sample_size)\n",
    "rv2 = stats.norm(2, np.sqrt(3))\n",
    "y_sam = rv2.rvs(sample_size)\n",
    "\n",
    "# 합\n",
    "sum_sample = x_sam + y_sam\n",
    "\n",
    "# 그래프 출력\n",
    "fig = plt.figure(figsize = (10, 6))\n",
    "ax = fig.add_subplot(111)\n",
    "rv = stats.norm(3, np.sqrt(5))\n",
    "xs = np.linspace(rv.isf(0.995), rv.isf(0.005), 100)\n",
    "ax.hist(sum_sample, bins = 100, density = True, label = 'N(1, 2)+N(2, 3)', alpha = 0.3)\n",
    "\n",
    "ax.plot(xs, rv.pdf(xs), label = 'N(3, 5)', color = 'gray')\n",
    "ax.plot(xs, rv1.pdf(xs), label = 'N(1, 2)', color = 'blue')\n",
    "ax.plot(xs, rv2.pdf(xs), label = 'N(2, 3)', color = 'red')\n",
    "\n",
    "ax.legend()\n",
    "ax.set_xlim(rv.isf(0.995), rv.isf(0.005))\n",
    "\n",
    "plt.show()"
   ]
  },
  {
   "cell_type": "markdown",
   "metadata": {},
   "source": [
    "Q17. 서로 독립인 X ~ Poi(3)과 Y ~ Poi(4)가 있을 때 확률변수 X + Y도 포아송 분포를 따른다는 것을 시각화하여 출력하세요."
   ]
  },
  {
   "cell_type": "code",
   "execution_count": 140,
   "metadata": {},
   "outputs": [
    {
     "name": "stderr",
     "output_type": "stream",
     "text": [
      "C:\\Users\\admin\\AppData\\Local\\Temp\\ipykernel_8892\\1082376170.py:12: VisibleDeprecationWarning: Passing `normed=True` on non-uniform bins has always been broken, and computes neither the probability density function nor the probability mass function. The result is only correct if the bins are uniform, when density=True will produce the same result anyway. The argument will be removed in a future version of numpy.\n",
      "  hist,_ = np.histogram(sum_poi, bins = 20, range =(0, 20), normed = True)\n"
     ]
    },
    {
     "data": {
      "image/png": "[encoded data removed]",
      "text/plain": [
       "<Figure size 720x432 with 1 Axes>"
      ]
     },
     "metadata": {
      "needs_background": "light"
     },
     "output_type": "display_data"
    }
   ],
   "source": [
    "sample_size = int(1e6)\n",
    "X_poi = stats.poisson(3).rvs(sample_size)\n",
    "Y_poi = stats.poisson(4).rvs(sample_size)\n",
    "# 합\n",
    "sum_poi = X_poi+Y_poi\n",
    "\n",
    "# 그래프 출력\n",
    "fig = plt.figure(figsize = (10, 6))\n",
    "ax = fig.add_subplot(111)\n",
    "rv = stats.poisson(7)\n",
    "xs = np.arange(20)\n",
    "hist,_ = np.histogram(sum_poi, bins = 20, range =(0, 20), normed = True)\n",
    "ax.bar(xs, hist, alpha = 0.5, label= 'Poi(3) + Poi(4)')\n",
    "ax.plot(xs, rv.pmf(xs), label = 'Poi(7)', color = 'gray')\n",
    "ax.plot(xs, stats.poisson(3).pmf(xs), label = 'Poi(3)', color = 'blue')\n",
    "ax.plot(xs, stats.poisson(4).pmf(xs), label = 'Poi(4)', color = 'red')\n",
    "\n",
    "ax.legend()\n",
    "ax.set_xlim(-0.5, 20)\n",
    "ax.set_xticks(np.arange(20))\n",
    "plt.show()"
   ]
  },
  {
   "cell_type": "markdown",
   "metadata": {},
   "source": [
    "Q18. 베르누이 분포의 합은 이항분포가 되는 성질을 시각화하여 출력하세요 "
   ]
  },
  {
   "cell_type": "code",
   "execution_count": 138,
   "metadata": {},
   "outputs": [
    {
     "name": "stderr",
     "output_type": "stream",
     "text": [
      "C:\\Users\\admin\\AppData\\Local\\Temp\\ipykernel_8892\\1509872741.py:13: VisibleDeprecationWarning: Passing `normed=True` on non-uniform bins has always been broken, and computes neither the probability density function nor the probability mass function. The result is only correct if the bins are uniform, when density=True will produce the same result anyway. The argument will be removed in a future version of numpy.\n",
      "  hist, _ = np.histogram(sum_sample, bins = 10, range = (0, 10), normed = True)\n"
     ]
    },
    {
     "data": {
      "image/png": "[encoded data removed]",
      "text/plain": [
       "<Figure size 720x432 with 1 Axes>"
      ]
     },
     "metadata": {
      "needs_background": "light"
     },
     "output_type": "display_data"
    }
   ],
   "source": [
    "# 성공확률이 0.2인 베르누이 분포 (표본의 크기가 10개씩 백만번 무작위 추출 실행)\n",
    "p = 0.2\n",
    "rv1 = stats.bernoulli(p)\n",
    "sample_size = int(1e6)\n",
    "Xs = rv1.rvs((10, sample_size))\n",
    "sum_sample = np.sum(Xs, axis = 0)\n",
    "\n",
    "# 그래프 출력\n",
    "fig = plt.figure(figsize = (10, 6))\n",
    "ax = fig.add_subplot(111)\n",
    "rv = stats.binom(10, p)\n",
    "xs = np.arange(10)\n",
    "hist, _ = np.histogram(sum_sample, bins = 10, range = (0, 10), normed = True)\n",
    "ax.bar(xs, hist, alpha = 0.5, label = f'sum of 10*Bern({p})', color = 'k')\n",
    "ax.plot(xs, rv.pmf(xs), label = f'Bin(10, {p})', color = 'red')\n",
    "ax.legend()\n",
    "ax.set_xlim(-0.5, 10)\n",
    "ax.set_xticks(np.arange(10))\n",
    "plt.show()"
   ]
  },
  {
   "cell_type": "markdown",
   "metadata": {},
   "source": [
    "Q19. 포아송 분포의 표본분포는 근사적으로 정규분포를 따른다는 것을 시각화하고 그 핵심 근거인 중심극한정리에 대하여 설명하세요."
   ]
  },
  {
   "cell_type": "code",
   "execution_count": 149,
   "metadata": {},
   "outputs": [],
   "source": [
    "lam = 5\n",
    "rv = stats.poisson(lam)\n",
    "\n",
    "n = 1000\n",
    "sample_size = 10000\n",
    "\n",
    "xs_sample = rv.rvs((n, sample_size))\n",
    "sample_mean = np.mean(xs_sample, axis=0)\n",
    "rv_true = stats.norm(lam, np.sqrt(lam/n))\n",
    "xs = np.linspace(rv_true.isf(0.999), rv_true.isf(0.001), 100)"
   ]
  },
  {
   "cell_type": "code",
   "execution_count": 150,
   "metadata": {},
   "outputs": [
    {
     "data": {
      "image/png": "[encoded data removed]",
      "text/plain": [
       "<Figure size 720x432 with 1 Axes>"
      ]
     },
     "metadata": {
      "needs_background": "light"
     },
     "output_type": "display_data"
    }
   ],
   "source": [
    "fig = plt.figure(figsize = (10, 6))\n",
    "ax = fig.add_subplot(111)\n",
    "\n",
    "ax.hist(sample_mean, bins = 100, density = True, alpha = 0.5, label = 'sample mean of 10000*Poi(5)')\n",
    "ax.plot(xs, rv_true.pdf(xs), label = 'N(5, 5/1000)', color = 'red')\n",
    "ax.legend()\n",
    "ax.set_xlim(rv_true.isf(0.999), rv_true.isf(0.001))\n",
    "plt.show()"
   ]
  },
  {
   "cell_type": "raw",
   "metadata": {},
   "source": [
    "=> 평균 발생횟수가 5번인 포아송 분포를 따르는 집단에서 표본의 크기가 1000개인 표본집단을 10000번 뽑아 각 표본의 평균을 계산하여 히스토그램을 출력하였더니, 평균이 5이고 분산이 5/표본의 크기인 정규분포(빨간색)의 형태에 가까워지고 있는것을 알 수 있었다.\n",
    "=>>중심극한정리: 확률변수가 서로 독립이고 기댓값이 m, 분산이 s인 확률분포를 따를 때, 표본의 크기 n이  커짐에 따라 표본평균의 분포는 정규분포 (m, s/n)에 가까워진다.\n",
    "    => 위 그래프로 중심극한정리가 성립이되는걸 알 수 있다."
   ]
  },
  {
   "cell_type": "markdown",
   "metadata": {},
   "source": [
    "Q20. 아래 df 데이터셋에서 \"무게의 평균이 130kg이다.\"라는 귀무가설에 대한 유의성 검정을 수행하세요. "
   ]
  },
  {
   "cell_type": "code",
   "execution_count": 130,
   "metadata": {},
   "outputs": [
    {
     "name": "stdout",
     "output_type": "stream",
     "text": [
      "       무게\n",
      "0  122.02\n",
      "1  131.73\n",
      "2  130.60\n",
      "3  131.82\n",
      "4  132.05 14\n"
     ]
    }
   ],
   "source": [
    "df = pd.read_csv('data/ch11_potato.csv')\n",
    "print(df.head(),len(df))"
   ]
  },
  {
   "cell_type": "code",
   "execution_count": 131,
   "metadata": {},
   "outputs": [],
   "source": [
    "# 모분산을 모름 , 귀무가설 : 무게의 평균이 130kg\n",
    "\n",
    "def pmean_test(sample, mean0, alpha = 0.05):\n",
    "    s_mean = np.mean(sample)\n",
    "    u_var = np.var(sample, ddof=1)\n",
    "    n = len(sample)\n",
    "    rv = stats.t(df=n-1)\n",
    "    interval = rv.interval(1-alpha)\n",
    "    \n",
    "    t = (s_mean - mean0)/np.sqrt(u_var/n)\n",
    "    if interval[0] <= t<= interval[1]:\n",
    "        print('귀무가설 채택_무게의 평균은 130g보다 작다고 말할 수 없다.')\n",
    "    else:\n",
    "        print('귀무가설을 기각_무게의 평균은 130g보다 작다')\n",
    "    print(f'p값은 {p: .3f}')"
   ]
  },
  {
   "cell_type": "code",
   "execution_count": 132,
   "metadata": {},
   "outputs": [
    {
     "name": "stdout",
     "output_type": "stream",
     "text": [
      "귀무가설 채택_무게의 평균은 130g보다 작다고 말할 수 없다.\n",
      "p값은  0.065\n"
     ]
    }
   ],
   "source": [
    "pmean_test(df['무게'], 130)"
   ]
  }
 ],
 "metadata": {
  "kernelspec": {
   "display_name": "Python 3 (ipykernel)",
   "language": "python",
   "name": "python3"
  },
  "language_info": {
   "codemirror_mode": {
    "name": "ipython",
    "version": 3
   },
   "file_extension": ".py",
   "mimetype": "text/x-python",
   "name": "python",
   "nbconvert_exporter": "python",
   "pygments_lexer": "ipython3",
   "version": "3.8.13"
  },
  "toc": {
   "base_numbering": 1,
   "nav_menu": {},
   "number_sections": true,
   "sideBar": true,
   "skip_h1_title": false,
   "title_cell": "Table of Contents",
   "title_sidebar": "Contents",
   "toc_cell": false,
   "toc_position": {},
   "toc_section_display": true,
   "toc_window_display": false
  }
 },
 "nbformat": 4,
 "nbformat_minor": 4
}
