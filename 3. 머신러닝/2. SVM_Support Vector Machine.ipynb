{
 "cells": [
  {
   "cell_type": "markdown",
   "id": "53b1b5f1",
   "metadata": {},
   "source": [
    "# Support Vector Machine"
   ]
  },
  {
   "cell_type": "code",
   "execution_count": 17,
   "id": "44468612",
   "metadata": {},
   "outputs": [],
   "source": [
    "import multiprocessing\n",
    "import pandas as pd\n",
    "import numpy as np\n",
    "import matplotlib.pyplot as plt\n",
    "plt.style.use(['seaborn-whitegrid'])\n",
    "\n",
    "import warnings\n",
    "warnings.filterwarnings(action='ignore')"
   ]
  },
  {
   "cell_type": "code",
   "execution_count": 14,
   "id": "e2dda236",
   "metadata": {},
   "outputs": [],
   "source": [
    "# 사이킷런 모듈\n",
    "from sklearn.svm import SVR, SVC # 회귀용, 분류용\n",
    "from sklearn.datasets import load_boston, load_diabetes # 보스턴, 당뇨\n",
    "from sklearn.datasets import load_breast_cancer, load_iris, load_wine # 유방암, 붓꽃, 와인\n",
    "from sklearn.pipeline import make_pipeline, Pipeline # 파이프라인\n",
    "from sklearn.model_selection import train_test_split, cross_validate, GridSearchCV \n",
    "from sklearn.preprocessing import StandardScaler, MinMaxScaler\n",
    "from sklearn.manifold import TSNE # 시각화 "
   ]
  },
  {
   "cell_type": "markdown",
   "id": "0c85eb52",
   "metadata": {},
   "source": [
    "# SVM을 이용한 회귀 모델과 분류 모델"
   ]
  },
  {
   "cell_type": "markdown",
   "id": "0cb9d4c4",
   "metadata": {},
   "source": [
    "## SVM을 사용한 회귀 모델(SVR)"
   ]
  },
  {
   "cell_type": "code",
   "execution_count": 43,
   "id": "e515b4d1",
   "metadata": {},
   "outputs": [],
   "source": [
    "# 커널 종류에 따른 함수 대입\n",
    "def SVR_type(kernel_li):\n",
    "    for i in kernel_li:\n",
    "        \n",
    "        svr = SVR(kernel = i)\n",
    "        svr.fit(X_train, y_train)\n",
    "\n",
    "        print('{} SVR 학습 데이터 점수: {}'.format(i, svr.score(X_train, y_train)))\n",
    "        print('{} SVR 평가 데이터 점수: {}'.format(i, svr.score(X_test, y_test)))\n",
    "        print('****************************************************************')"
   ]
  },
  {
   "cell_type": "code",
   "execution_count": 44,
   "id": "3ed72d61",
   "metadata": {},
   "outputs": [
    {
     "name": "stdout",
     "output_type": "stream",
     "text": [
      "linear SVR 학습 데이터 점수: 0.7155066205123104\n",
      "linear SVR 평가 데이터 점수: 0.6380398541381507\n",
      "****************************************************************\n",
      "poly SVR 학습 데이터 점수: 0.2024454261446289\n",
      "poly SVR 평가 데이터 점수: 0.133668450367462\n",
      "****************************************************************\n",
      "rbf SVR 학습 데이터 점수: 0.21772837063748762\n",
      "rbf SVR 평가 데이터 점수: 0.13544178468518187\n",
      "****************************************************************\n"
     ]
    }
   ],
   "source": [
    "# 보스턴 주택 가격\n",
    "X, y = load_boston(return_X_y = True)\n",
    "X_train, X_test, y_train, y_test = train_test_split(X, y, random_state = 123)\n",
    "\n",
    "SVR_type(['linear', 'poly', 'rbf'])"
   ]
  },
  {
   "cell_type": "markdown",
   "id": "8c4c365a",
   "metadata": {},
   "source": [
    "-> linear의 학습 평가가 가장 좋음"
   ]
  },
  {
   "cell_type": "markdown",
   "id": "815849bc",
   "metadata": {},
   "source": [
    "## SVM를 사용한 분류 모델(SVC)"
   ]
  },
  {
   "cell_type": "code",
   "execution_count": 45,
   "id": "71207b13",
   "metadata": {},
   "outputs": [],
   "source": [
    "# 커널 종류에 따른 함수 대입\n",
    "def SVC_type(kernel_li):\n",
    "    for i in kernel_li:\n",
    "        \n",
    "        svc = SVC(kernel = i)\n",
    "        svc.fit(X_train, y_train)\n",
    "\n",
    "        print('{} SVC 학습 데이터 점수: {}'.format(i, svc.score(X_train, y_train)))\n",
    "        print('{} SVC 평가 데이터 점수: {}'.format(i, svc.score(X_test, y_test)))\n",
    "        print('****************************************************************')"
   ]
  },
  {
   "cell_type": "code",
   "execution_count": 46,
   "id": "1df52efc",
   "metadata": {},
   "outputs": [
    {
     "name": "stdout",
     "output_type": "stream",
     "text": [
      "linear SVC 학습 데이터 점수: 0.960093896713615\n",
      "linear SVC 평가 데이터 점수: 0.986013986013986\n",
      "****************************************************************\n",
      "poly SVC 학습 데이터 점수: 0.9014084507042254\n",
      "poly SVC 평가 데이터 점수: 0.9230769230769231\n",
      "****************************************************************\n",
      "rbf SVC 학습 데이터 점수: 0.9014084507042254\n",
      "rbf SVC 평가 데이터 점수: 0.9230769230769231\n",
      "****************************************************************\n"
     ]
    }
   ],
   "source": [
    "# 유방암 데이터\n",
    "X, y = load_breast_cancer(return_X_y = True)\n",
    "X_train, X_test, y_train, y_test = train_test_split(X, y, random_state = 123)\n",
    "\n",
    "SVC_type(['linear', 'poly', 'rbf'])"
   ]
  },
  {
   "cell_type": "markdown",
   "id": "e82af553",
   "metadata": {},
   "source": [
    "-> 전부 90%가 넘지만 linear가 가장 좋음"
   ]
  },
  {
   "cell_type": "markdown",
   "id": "9cf1f47e",
   "metadata": {},
   "source": [
    "## 매개변수 튜닝\n",
    "- 매개변수 변경하면서 성능변화 관찰"
   ]
  },
  {
   "cell_type": "code",
   "execution_count": 47,
   "id": "efc3c5e5",
   "metadata": {},
   "outputs": [],
   "source": [
    "# 커널 종류, 파라미터에 따른 함수 대입\n",
    "def SVC_type_param(kernel_li, degree, c, gamma):\n",
    "    for i in kernel_li:\n",
    "        \n",
    "        if i == 'rbf': #rbf는 degree가 없음\n",
    "            svc = SVC(kernel = i, C = c, gamma = gamma)\n",
    "            svc.fit(X_train, y_train)\n",
    "        else:\n",
    "            svc = SVC(kernel = i, degree = degree, C = c, gamma = gamma)\n",
    "            svc.fit(X_train, y_train)\n",
    "\n",
    "        print('{} SVC 학습 데이터 점수: {}'.format(i, svc.score(X_train, y_train)))\n",
    "        print('{} SVC 평가 데이터 점수: {}'.format(i, svc.score(X_test, y_test)))\n",
    "        print('****************************************************************')"
   ]
  },
  {
   "cell_type": "code",
   "execution_count": 48,
   "id": "0aa4c175",
   "metadata": {},
   "outputs": [
    {
     "name": "stdout",
     "output_type": "stream",
     "text": [
      "linear SVC 학습 데이터 점수: 0.9553990610328639\n",
      "linear SVC 평가 데이터 점수: 0.986013986013986\n",
      "****************************************************************\n",
      "poly SVC 학습 데이터 점수: 0.9835680751173709\n",
      "poly SVC 평가 데이터 점수: 0.993006993006993\n",
      "****************************************************************\n",
      "rbf SVC 학습 데이터 점수: 0.6291079812206573\n",
      "rbf SVC 평가 데이터 점수: 0.6223776223776224\n",
      "****************************************************************\n",
      "---------파라미터 변경-------\n",
      "linear SVC 학습 데이터 점수: 0.9624413145539906\n",
      "linear SVC 평가 데이터 점수: 0.986013986013986\n",
      "****************************************************************\n",
      "poly SVC 학습 데이터 점수: 0.9131455399061033\n",
      "poly SVC 평가 데이터 점수: 0.9370629370629371\n",
      "****************************************************************\n",
      "rbf SVC 학습 데이터 점수: 0.9154929577464789\n",
      "rbf SVC 평가 데이터 점수: 0.9370629370629371\n",
      "****************************************************************\n"
     ]
    }
   ],
   "source": [
    "# 유방암 데이터\n",
    "X, y = load_breast_cancer(return_X_y = True)\n",
    "X_train, X_test, y_train, y_test = train_test_split(X, y, random_state = 123)\n",
    "\n",
    "SVC_type_param(['linear', 'poly', 'rbf'], 2, 0.1, 'auto')\n",
    "print('---------파라미터 변경-------')\n",
    "SVC_type_param(['linear', 'poly', 'rbf'], 2, 2, 'scale')"
   ]
  },
  {
   "cell_type": "markdown",
   "id": "7e31ac84",
   "metadata": {},
   "source": [
    "-> 처음보다 파라미터를 변경했을 때 성능이 좋아짐"
   ]
  },
  {
   "cell_type": "markdown",
   "id": "dbf8a0ca",
   "metadata": {},
   "source": [
    "## 데이터 전처리\n",
    "- SVM은 입력 데이터가 정규화 되어야 좋은 성능을 보임\n",
    "- 주로 모든 특성 값을 [0. 1] 범위로 맞추는 방법을 사용\n",
    "- scikit-learn의 StandardScaler 또는 MinMaxScaler를 사용해 정규화"
   ]
  },
  {
   "cell_type": "markdown",
   "id": "8794a68c",
   "metadata": {},
   "source": [
    "### StandardScaler"
   ]
  },
  {
   "cell_type": "code",
   "execution_count": 49,
   "id": "221b5a70",
   "metadata": {},
   "outputs": [],
   "source": [
    "scaler = StandardScaler()\n",
    "X_train = scaler.fit_transform(X_train)\n",
    "X_test = scaler.transform(X_test)"
   ]
  },
  {
   "cell_type": "code",
   "execution_count": 53,
   "id": "deb78ca7",
   "metadata": {},
   "outputs": [
    {
     "name": "stdout",
     "output_type": "stream",
     "text": [
      "StandardSacelr 전\n",
      "linear SVC 학습 데이터 점수: 0.960093896713615\n",
      "linear SVC 평가 데이터 점수: 0.986013986013986\n",
      "****************************************************************\n",
      "poly SVC 학습 데이터 점수: 0.9014084507042254\n",
      "poly SVC 평가 데이터 점수: 0.9230769230769231\n",
      "****************************************************************\n",
      "rbf SVC 학습 데이터 점수: 0.9014084507042254\n",
      "rbf SVC 평가 데이터 점수: 0.9230769230769231\n",
      "****************************************************************\n",
      "StandardSacelr 후\n",
      "linear SVC 학습 데이터 점수: 0.9906103286384976\n",
      "linear SVC 평가 데이터 점수: 0.986013986013986\n",
      "****************************************************************\n",
      "poly SVC 학습 데이터 점수: 0.9061032863849765\n",
      "poly SVC 평가 데이터 점수: 0.8881118881118881\n",
      "****************************************************************\n",
      "rbf SVC 학습 데이터 점수: 0.9835680751173709\n",
      "rbf SVC 평가 데이터 점수: 0.986013986013986\n",
      "****************************************************************\n",
      "MinMaxScaler 후\n",
      "linear SVC 학습 데이터 점수: 0.9765258215962441\n",
      "linear SVC 평가 데이터 점수: 0.986013986013986\n",
      "****************************************************************\n",
      "poly SVC 학습 데이터 점수: 0.9859154929577465\n",
      "poly SVC 평가 데이터 점수: 0.986013986013986\n",
      "****************************************************************\n",
      "rbf SVC 학습 데이터 점수: 0.9812206572769953\n",
      "rbf SVC 평가 데이터 점수: 0.986013986013986\n",
      "****************************************************************\n"
     ]
    }
   ],
   "source": [
    "# 유방암 데이터\n",
    "\n",
    "# scaler 전\n",
    "X, y = load_breast_cancer(return_X_y = True)\n",
    "X_train, X_test, y_train, y_test = train_test_split(X, y, random_state = 123)\n",
    "print('StandardSacelr 전')\n",
    "SVC_type(['linear', 'poly', 'rbf'])\n",
    "\n",
    "# scaler 후\n",
    "\n",
    "# stand\n",
    "scaler = StandardScaler()\n",
    "X_train = scaler.fit_transform(X_train)\n",
    "X_test = scaler.transform(X_test)\n",
    "print('StandardSacelr 후')\n",
    "SVC_type(['linear', 'poly', 'rbf'])\n",
    "\n",
    "# minmax\n",
    "X_train, X_test, y_train, y_test = train_test_split(X, y, random_state = 123)\n",
    "scaler = MinMaxScaler()\n",
    "X_train = scaler.fit_transform(X_train)\n",
    "X_test = scaler.transform(X_test)\n",
    "print('MinMaxScaler 후')\n",
    "SVC_type(['linear', 'poly', 'rbf'])"
   ]
  },
  {
   "cell_type": "markdown",
   "id": "cc9e76d6",
   "metadata": {},
   "source": [
    "-> linear과 rbf가 scaler 후 성능이 향상됨/ poly는 minmax에서만 향상"
   ]
  },
  {
   "cell_type": "markdown",
   "id": "6bdf6b2b",
   "metadata": {},
   "source": [
    "# [실습 시작] \n",
    "# Linear SVR"
   ]
  },
  {
   "cell_type": "markdown",
   "id": "7eca50bb",
   "metadata": {},
   "source": [
    "# 1. 보스턴 주택가격 예측"
   ]
  },
  {
   "cell_type": "code",
   "execution_count": 61,
   "id": "7503ba73",
   "metadata": {},
   "outputs": [],
   "source": [
    "X, y = load_boston(return_X_y = True)\n",
    "X_train, X_test, y_train, y_test = train_test_split(X, y, test_size = 0.2)"
   ]
  },
  {
   "cell_type": "code",
   "execution_count": 62,
   "id": "1f7b723e",
   "metadata": {},
   "outputs": [
    {
     "data": {
      "text/plain": [
       "SVR(kernel='linear')"
      ]
     },
     "execution_count": 62,
     "metadata": {},
     "output_type": "execute_result"
    }
   ],
   "source": [
    "scaler = StandardScaler()\n",
    "scaler.fit(X_train)\n",
    "X_train = scaler.transform(X_train)\n",
    "X_test = scaler.transform(X_test)\n",
    "\n",
    "model = SVR(kernel = 'linear')\n",
    "model.fit(X_train, y_train)"
   ]
  },
  {
   "cell_type": "code",
   "execution_count": 63,
   "id": "d3e62e4b",
   "metadata": {},
   "outputs": [
    {
     "name": "stdout",
     "output_type": "stream",
     "text": [
      "linear SVR 학습 데이터 점수: 0.6982363483811425\n",
      "linear SVR 평가 데이터 점수: 0.7098607040155547\n",
      "****************************************************************\n"
     ]
    }
   ],
   "source": [
    "SVR_type(['linear'])"
   ]
  },
  {
   "cell_type": "markdown",
   "id": "c7b078de",
   "metadata": {},
   "source": [
    "### 시각화 \n",
    "TSNE : 저차원으로 변환 후 시각화하는 도구"
   ]
  },
  {
   "cell_type": "markdown",
   "id": "71311522",
   "metadata": {},
   "source": [
    "- X, y의 분포도"
   ]
  },
  {
   "cell_type": "code",
   "execution_count": 58,
   "id": "6d12ad7b",
   "metadata": {},
   "outputs": [
    {
     "data": {
      "image/png": "[encoded data removed]",
      "text/plain": [
       "<Figure size 432x288 with 1 Axes>"
      ]
     },
     "metadata": {},
     "output_type": "display_data"
    }
   ],
   "source": [
    "X_comp = TSNE(n_components=1).fit_transform(X)\n",
    "plt.scatter(X_comp, y);"
   ]
  },
  {
   "cell_type": "markdown",
   "id": "06440ee2",
   "metadata": {},
   "source": [
    "- SVR 결과 확인"
   ]
  },
  {
   "cell_type": "code",
   "execution_count": 65,
   "id": "d1ca27fb",
   "metadata": {},
   "outputs": [
    {
     "data": {
      "text/plain": [
       "<matplotlib.collections.PathCollection at 0x187447c1bb0>"
      ]
     },
     "execution_count": 65,
     "metadata": {},
     "output_type": "execute_result"
    },
    {
     "data": {
      "image/png": "[encoded data removed]",
      "text/plain": [
       "<Figure size 432x288 with 1 Axes>"
      ]
     },
     "metadata": {},
     "output_type": "display_data"
    }
   ],
   "source": [
    "model.fit(X_comp, y)\n",
    "predict = model.predict(X_comp)\n",
    "plt.scatter(X_comp, y)\n",
    "plt.scatter(X_comp, predict, color = 'r')"
   ]
  },
  {
   "cell_type": "markdown",
   "id": "ab11eb52",
   "metadata": {},
   "source": [
    "- 파이프라인으로 cross validation 확인"
   ]
  },
  {
   "cell_type": "code",
   "execution_count": 69,
   "id": "0f3105c9",
   "metadata": {},
   "outputs": [
    {
     "name": "stderr",
     "output_type": "stream",
     "text": [
      "[Parallel(n_jobs=8)]: Using backend LokyBackend with 8 concurrent workers.\n",
      "[Parallel(n_jobs=8)]: Done   2 out of   5 | elapsed:    4.5s remaining:    6.8s\n",
      "[Parallel(n_jobs=8)]: Done   5 out of   5 | elapsed:    4.5s finished\n"
     ]
    },
    {
     "data": {
      "text/plain": [
       "{'fit_time': array([0.0159564 , 0.0159564 , 0.01396108, 0.01994729, 0.0159564 ]),\n",
       " 'score_time': array([0.00199485, 0.00199485, 0.00099778, 0.00299191, 0.00299954]),\n",
       " 'test_score': array([0.76908568, 0.72180141, 0.56428426, 0.14083339, 0.07810211])}"
      ]
     },
     "execution_count": 69,
     "metadata": {},
     "output_type": "execute_result"
    }
   ],
   "source": [
    "estimator = make_pipeline(StandardScaler(), SVR(kernel = 'linear'))\n",
    "\n",
    "cross_validate(\n",
    "    estimator = estimator, X = X, y = y, \n",
    "    cv = 5, n_jobs = multiprocessing.cpu_count(),\n",
    "    verbose= True)"
   ]
  },
  {
   "cell_type": "markdown",
   "id": "add360b2",
   "metadata": {},
   "source": [
    "- gridsearchCV 활용"
   ]
  },
  {
   "cell_type": "code",
   "execution_count": 71,
   "id": "54b9514a",
   "metadata": {},
   "outputs": [
    {
     "name": "stdout",
     "output_type": "stream",
     "text": [
      "Fitting 5 folds for each of 18 candidates, totalling 90 fits\n"
     ]
    },
    {
     "data": {
      "text/plain": [
       "GridSearchCV(cv=5,\n",
       "             estimator=Pipeline(steps=[('scaler', StandardScaler()),\n",
       "                                       ('model', SVR(kernel='linear'))]),\n",
       "             n_jobs=8,\n",
       "             param_grid=[{'model__C': [1.0, 0.1, 0.01],\n",
       "                          'model__epsilon': [1.0, 0.1, 0.01],\n",
       "                          'model__gamma': ['scale', 'auto']}],\n",
       "             verbose=True)"
      ]
     },
     "execution_count": 71,
     "metadata": {},
     "output_type": "execute_result"
    }
   ],
   "source": [
    "pipe = Pipeline([('scaler', StandardScaler()),\n",
    "                ('model', SVR(kernel = 'linear'))])\n",
    "\n",
    "param_grid = [{'model__gamma' : ['scale', 'auto'],\n",
    "             'model__C': [1.0, 0.1, 0.01],\n",
    "             'model__epsilon': [1.0, 0.1, 0.01]}]\n",
    "\n",
    "gs = GridSearchCV(\n",
    "    estimator = pipe,\n",
    "    param_grid = param_grid, \n",
    "    n_jobs = multiprocessing.cpu_count(),\n",
    "    cv = 5,\n",
    "    verbose = True\n",
    ")\n",
    "\n",
    "gs.fit(X, y)"
   ]
  },
  {
   "cell_type": "code",
   "execution_count": 72,
   "id": "76e58cfd",
   "metadata": {},
   "outputs": [
    {
     "data": {
      "text/plain": [
       "Pipeline(steps=[('scaler', StandardScaler()),\n",
       "                ('model', SVR(C=0.1, epsilon=1.0, kernel='linear'))])"
      ]
     },
     "execution_count": 72,
     "metadata": {},
     "output_type": "execute_result"
    }
   ],
   "source": [
    "# 최적의 파라미터\n",
    "gs.best_estimator_"
   ]
  },
  {
   "cell_type": "markdown",
   "id": "78462ffa",
   "metadata": {},
   "source": [
    "-> GridSearch로 최적의 파라미터 구함"
   ]
  },
  {
   "cell_type": "markdown",
   "id": "1422d7a0",
   "metadata": {},
   "source": [
    "# 2. 당뇨병 예측"
   ]
  },
  {
   "cell_type": "code",
   "execution_count": 73,
   "id": "3911d260",
   "metadata": {},
   "outputs": [],
   "source": [
    "X, y = load_diabetes(return_X_y = True)\n",
    "X_train, X_test, y_train, y_test = train_test_split(X, y, test_size = 0.2)"
   ]
  },
  {
   "cell_type": "code",
   "execution_count": 74,
   "id": "2fac97e5",
   "metadata": {},
   "outputs": [
    {
     "data": {
      "text/plain": [
       "SVR(kernel='linear')"
      ]
     },
     "execution_count": 74,
     "metadata": {},
     "output_type": "execute_result"
    }
   ],
   "source": [
    "scaler = StandardScaler()\n",
    "scaler.fit(X_train)\n",
    "X_train = scaler.transform(X_train)\n",
    "X_test = scaler.transform(X_test)\n",
    "\n",
    "model = SVR(kernel = 'linear')\n",
    "model.fit(X_train, y_train)"
   ]
  },
  {
   "cell_type": "code",
   "execution_count": 75,
   "id": "93852067",
   "metadata": {},
   "outputs": [
    {
     "name": "stdout",
     "output_type": "stream",
     "text": [
      "linear SVR 학습 데이터 점수: 0.4893570903812825\n",
      "linear SVR 평가 데이터 점수: 0.545132722831348\n",
      "****************************************************************\n"
     ]
    }
   ],
   "source": [
    "SVR_type(['linear'])"
   ]
  },
  {
   "cell_type": "markdown",
   "id": "6cfc3488",
   "metadata": {},
   "source": [
    "### 시각화 \n",
    "- X, y의 분포도"
   ]
  },
  {
   "cell_type": "code",
   "execution_count": 76,
   "id": "7cf9b39b",
   "metadata": {},
   "outputs": [
    {
     "data": {
      "image/png": "[encoded data removed]",
      "text/plain": [
       "<Figure size 432x288 with 1 Axes>"
      ]
     },
     "metadata": {},
     "output_type": "display_data"
    }
   ],
   "source": [
    "X_comp = TSNE(n_components=1).fit_transform(X)\n",
    "plt.scatter(X_comp, y);"
   ]
  },
  {
   "cell_type": "markdown",
   "id": "e785290e",
   "metadata": {},
   "source": [
    "- SVR 결과 확인"
   ]
  },
  {
   "cell_type": "code",
   "execution_count": 77,
   "id": "ab95b60e",
   "metadata": {},
   "outputs": [
    {
     "data": {
      "text/plain": [
       "<matplotlib.collections.PathCollection at 0x1874526c940>"
      ]
     },
     "execution_count": 77,
     "metadata": {},
     "output_type": "execute_result"
    },
    {
     "data": {
      "image/png": "[encoded data removed]",
      "text/plain": [
       "<Figure size 432x288 with 1 Axes>"
      ]
     },
     "metadata": {},
     "output_type": "display_data"
    }
   ],
   "source": [
    "model.fit(X_comp, y)\n",
    "predict = model.predict(X_comp)\n",
    "plt.scatter(X_comp, y)\n",
    "plt.scatter(X_comp, predict, color = 'r')"
   ]
  },
  {
   "cell_type": "markdown",
   "id": "0550e6ef",
   "metadata": {},
   "source": [
    "- 파이프라인으로 cross validation 확인"
   ]
  },
  {
   "cell_type": "code",
   "execution_count": 78,
   "id": "ca05ff7f",
   "metadata": {},
   "outputs": [
    {
     "name": "stderr",
     "output_type": "stream",
     "text": [
      "[Parallel(n_jobs=8)]: Using backend LokyBackend with 8 concurrent workers.\n",
      "[Parallel(n_jobs=8)]: Done   5 out of   5 | elapsed:    0.0s finished\n"
     ]
    },
    {
     "data": {
      "text/plain": [
       "{'fit_time': array([0.01348042, 0.01048636, 0.01002359, 0.00948453, 0.0114975 ]),\n",
       " 'score_time': array([0.00199437, 0.00250673, 0.0020113 , 0.00199819, 0.00199556]),\n",
       " 'test_score': array([0.43037242, 0.51653341, 0.48275332, 0.42247202, 0.53076481])}"
      ]
     },
     "execution_count": 78,
     "metadata": {},
     "output_type": "execute_result"
    }
   ],
   "source": [
    "estimator = make_pipeline(StandardScaler(), SVR(kernel = 'linear'))\n",
    "\n",
    "cross_validate(\n",
    "    estimator = estimator, X = X, y = y, \n",
    "    cv = 5, n_jobs = multiprocessing.cpu_count(),\n",
    "    verbose= True)"
   ]
  },
  {
   "cell_type": "markdown",
   "id": "384cf9d5",
   "metadata": {},
   "source": [
    "- 최적의 파라미터 찾기"
   ]
  },
  {
   "cell_type": "code",
   "execution_count": 79,
   "id": "9ead6e0f",
   "metadata": {},
   "outputs": [
    {
     "name": "stdout",
     "output_type": "stream",
     "text": [
      "Fitting 5 folds for each of 18 candidates, totalling 90 fits\n"
     ]
    },
    {
     "data": {
      "text/plain": [
       "GridSearchCV(cv=5,\n",
       "             estimator=Pipeline(steps=[('scaler', StandardScaler()),\n",
       "                                       ('model', SVR(kernel='linear'))]),\n",
       "             n_jobs=8,\n",
       "             param_grid=[{'model__C': [1.0, 0.1, 0.01],\n",
       "                          'model__epsilon': [1.0, 0.1, 0.01],\n",
       "                          'model__gamma': ['scale', 'auto']}],\n",
       "             verbose=True)"
      ]
     },
     "execution_count": 79,
     "metadata": {},
     "output_type": "execute_result"
    }
   ],
   "source": [
    "pipe = Pipeline([('scaler', StandardScaler()),\n",
    "                ('model', SVR(kernel = 'linear'))])\n",
    "\n",
    "param_grid = [{'model__gamma' : ['scale', 'auto'],\n",
    "             'model__C': [1.0, 0.1, 0.01],\n",
    "             'model__epsilon': [1.0, 0.1, 0.01]}]\n",
    "\n",
    "gs = GridSearchCV(\n",
    "    estimator = pipe,\n",
    "    param_grid = param_grid, \n",
    "    n_jobs = multiprocessing.cpu_count(),\n",
    "    cv = 5,\n",
    "    verbose = True\n",
    ")\n",
    "\n",
    "gs.fit(X, y)"
   ]
  },
  {
   "cell_type": "code",
   "execution_count": 80,
   "id": "20f61054",
   "metadata": {},
   "outputs": [
    {
     "data": {
      "text/plain": [
       "Pipeline(steps=[('scaler', StandardScaler()),\n",
       "                ('model', SVR(epsilon=1.0, kernel='linear'))])"
      ]
     },
     "execution_count": 80,
     "metadata": {},
     "output_type": "execute_result"
    }
   ],
   "source": [
    "# 최적의 파라미터\n",
    "gs.best_estimator_"
   ]
  },
  {
   "cell_type": "markdown",
   "id": "dacb80de",
   "metadata": {},
   "source": [
    "# Kernel SVR\n",
    "# 1. 보스턴 주택 가격"
   ]
  },
  {
   "cell_type": "code",
   "execution_count": 81,
   "id": "e7b55fc6",
   "metadata": {},
   "outputs": [],
   "source": [
    "X, y = load_boston(return_X_y = True)\n",
    "X_train, X_test, y_train, y_test = train_test_split(X, y, test_size = 0.2)"
   ]
  },
  {
   "cell_type": "code",
   "execution_count": 84,
   "id": "2dcf24ba",
   "metadata": {},
   "outputs": [],
   "source": [
    "#전처리\n",
    "scaler = StandardScaler()\n",
    "scaler.fit(X_train)\n",
    "X_train = scaler.transform(X_train)\n",
    "X_test = scaler.transform(X_test)"
   ]
  },
  {
   "cell_type": "code",
   "execution_count": 85,
   "id": "4433a19f",
   "metadata": {},
   "outputs": [
    {
     "data": {
      "text/plain": [
       "SVR()"
      ]
     },
     "execution_count": 85,
     "metadata": {},
     "output_type": "execute_result"
    }
   ],
   "source": [
    "model = SVR(kernel = 'rbf')\n",
    "model.fit(X_train, y_train)"
   ]
  },
  {
   "cell_type": "code",
   "execution_count": 86,
   "id": "299aa68f",
   "metadata": {},
   "outputs": [
    {
     "name": "stdout",
     "output_type": "stream",
     "text": [
      "rbf SVR 학습 데이터 점수: 0.6771887611005524\n",
      "rbf SVR 평가 데이터 점수: 0.663873534924518\n",
      "****************************************************************\n"
     ]
    }
   ],
   "source": [
    "SVR_type(['rbf'])"
   ]
  },
  {
   "cell_type": "markdown",
   "id": "d63867f9",
   "metadata": {},
   "source": [
    "### 시각화 "
   ]
  },
  {
   "cell_type": "markdown",
   "id": "366bb401",
   "metadata": {},
   "source": [
    "- X, y의 분포도"
   ]
  },
  {
   "cell_type": "code",
   "execution_count": 87,
   "id": "75472a3b",
   "metadata": {},
   "outputs": [
    {
     "data": {
      "image/png": "[encoded data removed]",
      "text/plain": [
       "<Figure size 432x288 with 1 Axes>"
      ]
     },
     "metadata": {},
     "output_type": "display_data"
    }
   ],
   "source": [
    "X_comp = TSNE(n_components=1).fit_transform(X)\n",
    "plt.scatter(X_comp, y);"
   ]
  },
  {
   "cell_type": "markdown",
   "id": "e5706329",
   "metadata": {},
   "source": [
    "- SVR 결과 확인"
   ]
  },
  {
   "cell_type": "code",
   "execution_count": 88,
   "id": "58a2065b",
   "metadata": {},
   "outputs": [
    {
     "data": {
      "text/plain": [
       "<matplotlib.collections.PathCollection at 0x18745330eb0>"
      ]
     },
     "execution_count": 88,
     "metadata": {},
     "output_type": "execute_result"
    },
    {
     "data": {
      "image/png": "[encoded data removed]",
      "text/plain": [
       "<Figure size 432x288 with 1 Axes>"
      ]
     },
     "metadata": {},
     "output_type": "display_data"
    }
   ],
   "source": [
    "model.fit(X_comp, y)\n",
    "predict = model.predict(X_comp)\n",
    "plt.scatter(X_comp, y)\n",
    "plt.scatter(X_comp, predict, color = 'r')"
   ]
  },
  {
   "cell_type": "markdown",
   "id": "6542d1a3",
   "metadata": {},
   "source": [
    "-> 비선형 특성으로 나타남"
   ]
  },
  {
   "cell_type": "markdown",
   "id": "c89ec6bc",
   "metadata": {},
   "source": [
    "- 파이프라인으로 cross validation 확인"
   ]
  },
  {
   "cell_type": "code",
   "execution_count": 89,
   "id": "383e93ac",
   "metadata": {},
   "outputs": [
    {
     "name": "stderr",
     "output_type": "stream",
     "text": [
      "[Parallel(n_jobs=8)]: Using backend LokyBackend with 8 concurrent workers.\n",
      "[Parallel(n_jobs=8)]: Done   2 out of   5 | elapsed:    4.5s remaining:    6.8s\n",
      "[Parallel(n_jobs=8)]: Done   5 out of   5 | elapsed:    4.5s finished\n"
     ]
    },
    {
     "data": {
      "text/plain": [
       "{'fit_time': array([0.01692629, 0.01948237, 0.02400494, 0.02267146, 0.01927829]),\n",
       " 'score_time': array([0.0094924 , 0.00750256, 0.01230264, 0.00800657, 0.00838614]),\n",
       " 'test_score': array([ 0.75781445,  0.50211018,  0.04310107,  0.33851703, -0.75997942])}"
      ]
     },
     "execution_count": 89,
     "metadata": {},
     "output_type": "execute_result"
    }
   ],
   "source": [
    "estimator = make_pipeline(StandardScaler(), SVR(kernel = 'rbf'))\n",
    "\n",
    "cross_validate(\n",
    "    estimator = estimator, X = X, y = y, \n",
    "    cv = 5, n_jobs = multiprocessing.cpu_count(),\n",
    "    verbose= True)"
   ]
  },
  {
   "cell_type": "markdown",
   "id": "4abe5f78",
   "metadata": {},
   "source": [
    "- gridsearchCV 활용"
   ]
  },
  {
   "cell_type": "code",
   "execution_count": 94,
   "id": "65a53ba6",
   "metadata": {},
   "outputs": [
    {
     "name": "stdout",
     "output_type": "stream",
     "text": [
      "Fitting 5 folds for each of 18 candidates, totalling 90 fits\n"
     ]
    },
    {
     "data": {
      "text/plain": [
       "GridSearchCV(cv=5,\n",
       "             estimator=Pipeline(steps=[('scaler', StandardScaler()),\n",
       "                                       ('model', SVR())]),\n",
       "             n_jobs=8,\n",
       "             param_grid=[{'model__C': [1.0, 0.1, 0.01],\n",
       "                          'model__epsilon': [1.0, 0.1, 0.01],\n",
       "                          'model__gamma': ['scale', 'auto']}],\n",
       "             verbose=True)"
      ]
     },
     "execution_count": 94,
     "metadata": {},
     "output_type": "execute_result"
    }
   ],
   "source": [
    "pipe = Pipeline([('scaler', StandardScaler()),\n",
    "                ('model', SVR(kernel = 'rbf'))]) #기본이 rbf _ 입력 안해줘도 됨\n",
    "\n",
    "param_grid = [{'model__gamma' : ['scale', 'auto'],\n",
    "             'model__C': [1.0, 0.1, 0.01],\n",
    "             'model__epsilon': [1.0, 0.1, 0.01]}]\n",
    "\n",
    "gs = GridSearchCV(\n",
    "    estimator = pipe,\n",
    "    param_grid = param_grid, \n",
    "    n_jobs = multiprocessing.cpu_count(),\n",
    "    cv = 5,\n",
    "    verbose = True\n",
    ")\n",
    "\n",
    "gs.fit(X, y)"
   ]
  },
  {
   "cell_type": "code",
   "execution_count": 95,
   "id": "648c6a3c",
   "metadata": {},
   "outputs": [
    {
     "data": {
      "text/plain": [
       "Pipeline(steps=[('scaler', StandardScaler()), ('model', SVR(epsilon=0.01))])"
      ]
     },
     "execution_count": 95,
     "metadata": {},
     "output_type": "execute_result"
    }
   ],
   "source": [
    "# 최적의 파라미터\n",
    "gs.best_estimator_"
   ]
  },
  {
   "cell_type": "markdown",
   "id": "2a44bd9a",
   "metadata": {},
   "source": [
    "-> GridSearch로 최적의 파라미터 구함"
   ]
  },
  {
   "cell_type": "markdown",
   "id": "8bbbf291",
   "metadata": {},
   "source": [
    "# 2. 당뇨병"
   ]
  },
  {
   "cell_type": "code",
   "execution_count": 97,
   "id": "f4057dfa",
   "metadata": {},
   "outputs": [],
   "source": [
    "X, y = load_diabetes(return_X_y = True)\n",
    "X_train, X_test, y_train, y_test = train_test_split(X, y, test_size = 0.2)"
   ]
  },
  {
   "cell_type": "code",
   "execution_count": 98,
   "id": "70222442",
   "metadata": {},
   "outputs": [
    {
     "data": {
      "text/plain": [
       "SVR()"
      ]
     },
     "execution_count": 98,
     "metadata": {},
     "output_type": "execute_result"
    }
   ],
   "source": [
    "scaler = StandardScaler()\n",
    "scaler.fit(X_train)\n",
    "X_train = scaler.transform(X_train)\n",
    "X_test = scaler.transform(X_test)\n",
    "\n",
    "model = SVR(kernel = 'rbf')\n",
    "model.fit(X_train, y_train)"
   ]
  },
  {
   "cell_type": "code",
   "execution_count": 99,
   "id": "bbeb5a71",
   "metadata": {},
   "outputs": [
    {
     "name": "stdout",
     "output_type": "stream",
     "text": [
      "학습 데이터 점수: 0.1810440976410811\n",
      "평가 데이터 점수: 0.13819559628913136\n"
     ]
    }
   ],
   "source": [
    "print('학습 데이터 점수: {}'.format(model.score(X_train, y_train)))\n",
    "print('평가 데이터 점수: {}'.format(model.score(X_test, y_test)))"
   ]
  },
  {
   "cell_type": "markdown",
   "id": "1a3594d8",
   "metadata": {},
   "source": [
    "### 시각화 \n",
    "- X, y의 분포도"
   ]
  },
  {
   "cell_type": "code",
   "execution_count": 100,
   "id": "2e6ad988",
   "metadata": {},
   "outputs": [
    {
     "data": {
      "image/png": "[encoded data removed]",
      "text/plain": [
       "<Figure size 432x288 with 1 Axes>"
      ]
     },
     "metadata": {},
     "output_type": "display_data"
    }
   ],
   "source": [
    "X_comp = TSNE(n_components=1).fit_transform(X)\n",
    "plt.scatter(X_comp, y);"
   ]
  },
  {
   "cell_type": "markdown",
   "id": "d44dee84",
   "metadata": {},
   "source": [
    "- SVR 결과 확인"
   ]
  },
  {
   "cell_type": "code",
   "execution_count": 101,
   "id": "ea80881d",
   "metadata": {},
   "outputs": [
    {
     "data": {
      "text/plain": [
       "<matplotlib.collections.PathCollection at 0x18745419e80>"
      ]
     },
     "execution_count": 101,
     "metadata": {},
     "output_type": "execute_result"
    },
    {
     "data": {
      "image/png": "[encoded data removed]",
      "text/plain": [
       "<Figure size 432x288 with 1 Axes>"
      ]
     },
     "metadata": {},
     "output_type": "display_data"
    }
   ],
   "source": [
    "model.fit(X_comp, y)\n",
    "predict = model.predict(X_comp)\n",
    "plt.scatter(X_comp, y)\n",
    "plt.scatter(X_comp, predict, color = 'r')"
   ]
  },
  {
   "cell_type": "markdown",
   "id": "ebc6bf9a",
   "metadata": {},
   "source": [
    "-> 데이터가 많이 퍼져있어 맞추기 어려움_비선형으로 나왔으나 예측 결과가 많이 떨어짐"
   ]
  },
  {
   "cell_type": "markdown",
   "id": "e3fbdb2d",
   "metadata": {},
   "source": [
    "- 파이프라인으로 cross validation 확인"
   ]
  },
  {
   "cell_type": "code",
   "execution_count": 102,
   "id": "1007dd15",
   "metadata": {},
   "outputs": [
    {
     "name": "stderr",
     "output_type": "stream",
     "text": [
      "[Parallel(n_jobs=8)]: Using backend LokyBackend with 8 concurrent workers.\n",
      "[Parallel(n_jobs=8)]: Done   2 out of   5 | elapsed:    0.0s remaining:    0.0s\n",
      "[Parallel(n_jobs=8)]: Done   5 out of   5 | elapsed:    0.0s finished\n"
     ]
    },
    {
     "data": {
      "text/plain": [
       "{'fit_time': array([0.01055598, 0.01050043, 0.01050043, 0.00949931, 0.00949979]),\n",
       " 'score_time': array([0.00498962, 0.00598264, 0.00598264, 0.00598598, 0.00598264]),\n",
       " 'test_score': array([0.14580789, 0.12539919, 0.18163816, 0.12223073, 0.15792085])}"
      ]
     },
     "execution_count": 102,
     "metadata": {},
     "output_type": "execute_result"
    }
   ],
   "source": [
    "estimator = make_pipeline(StandardScaler(), SVR(kernel = 'rbf'))\n",
    "\n",
    "cross_validate(\n",
    "    estimator = estimator, X = X, y = y, \n",
    "    cv = 5, n_jobs = multiprocessing.cpu_count(),\n",
    "    verbose= True)"
   ]
  },
  {
   "cell_type": "markdown",
   "id": "99a0802a",
   "metadata": {},
   "source": [
    "- 최적의 파라미터 찾기"
   ]
  },
  {
   "cell_type": "code",
   "execution_count": 103,
   "id": "84364314",
   "metadata": {},
   "outputs": [
    {
     "name": "stdout",
     "output_type": "stream",
     "text": [
      "Fitting 5 folds for each of 3 candidates, totalling 15 fits\n"
     ]
    },
    {
     "data": {
      "text/plain": [
       "GridSearchCV(cv=5,\n",
       "             estimator=Pipeline(steps=[('scaler', StandardScaler()),\n",
       "                                       ('model', SVR())]),\n",
       "             n_jobs=8,\n",
       "             param_grid=[{'model__kernel': ['rbf', 'polynomial', 'sigmoid']}],\n",
       "             verbose=True)"
      ]
     },
     "execution_count": 103,
     "metadata": {},
     "output_type": "execute_result"
    }
   ],
   "source": [
    "pipe = Pipeline([('scaler', StandardScaler()),\n",
    "                ('model', SVR(kernel = 'rbf'))])\n",
    "\n",
    "param_grid = [{'model__kernel' : ['rbf', 'polynomial', 'sigmoid']}]\n",
    "\n",
    "gs = GridSearchCV(\n",
    "    estimator = pipe,\n",
    "    param_grid = param_grid, \n",
    "    n_jobs = multiprocessing.cpu_count(),\n",
    "    cv = 5,\n",
    "    verbose = True\n",
    ")\n",
    "\n",
    "gs.fit(X, y)"
   ]
  },
  {
   "cell_type": "code",
   "execution_count": 104,
   "id": "482ca1f9",
   "metadata": {},
   "outputs": [
    {
     "data": {
      "text/plain": [
       "Pipeline(steps=[('scaler', StandardScaler()), ('model', SVR(kernel='sigmoid'))])"
      ]
     },
     "execution_count": 104,
     "metadata": {},
     "output_type": "execute_result"
    }
   ],
   "source": [
    "# 최적의 커널찾기\n",
    "gs.best_estimator_"
   ]
  },
  {
   "cell_type": "markdown",
   "id": "a2341126",
   "metadata": {},
   "source": [
    "-> 시그모이드 커널이 높게나옴"
   ]
  },
  {
   "cell_type": "code",
   "execution_count": 105,
   "id": "68cfb965",
   "metadata": {},
   "outputs": [
    {
     "name": "stdout",
     "output_type": "stream",
     "text": [
      "Fitting 5 folds for each of 18 candidates, totalling 90 fits\n"
     ]
    },
    {
     "data": {
      "text/plain": [
       "GridSearchCV(cv=5,\n",
       "             estimator=Pipeline(steps=[('scaler', StandardScaler()),\n",
       "                                       ('model', SVR(kernel='sigmoid'))]),\n",
       "             n_jobs=8,\n",
       "             param_grid=[{'model__C': [1.0, 0.1, 0.01],\n",
       "                          'model__epsilon': [1.0, 0.1, 0.01],\n",
       "                          'model__gamma': ['scale', 'auto']}],\n",
       "             verbose=True)"
      ]
     },
     "execution_count": 105,
     "metadata": {},
     "output_type": "execute_result"
    }
   ],
   "source": [
    "pipe = Pipeline([('scaler', StandardScaler()),\n",
    "                ('model', SVR(kernel = 'sigmoid'))])\n",
    "\n",
    "param_grid = [{'model__gamma' : ['scale', 'auto'],\n",
    "             'model__C': [1.0, 0.1, 0.01],\n",
    "             'model__epsilon': [1.0, 0.1, 0.01]}]\n",
    "\n",
    "gs = GridSearchCV(\n",
    "    estimator = pipe,\n",
    "    param_grid = param_grid, \n",
    "    n_jobs = multiprocessing.cpu_count(),\n",
    "    cv = 5,\n",
    "    verbose = True\n",
    ")\n",
    "\n",
    "gs.fit(X, y)"
   ]
  },
  {
   "cell_type": "code",
   "execution_count": 106,
   "id": "0c3f7c1a",
   "metadata": {},
   "outputs": [
    {
     "data": {
      "text/plain": [
       "Pipeline(steps=[('scaler', StandardScaler()),\n",
       "                ('model', SVR(epsilon=1.0, gamma='auto', kernel='sigmoid'))])"
      ]
     },
     "execution_count": 106,
     "metadata": {},
     "output_type": "execute_result"
    }
   ],
   "source": [
    "# 최적의 파라미터\n",
    "gs.best_estimator_"
   ]
  },
  {
   "cell_type": "code",
   "execution_count": 107,
   "id": "d0a859f2",
   "metadata": {},
   "outputs": [
    {
     "data": {
      "text/plain": [
       "Pipeline(steps=[('scaler', StandardScaler()),\n",
       "                ('model', SVR(epsilon=1.0, gamma='auto', kernel='sigmoid'))])"
      ]
     },
     "execution_count": 107,
     "metadata": {},
     "output_type": "execute_result"
    }
   ],
   "source": [
    "model = gs.best_estimator_\n",
    "model.fit(X_train, y_train)"
   ]
  },
  {
   "cell_type": "code",
   "execution_count": 108,
   "id": "a33c994e",
   "metadata": {},
   "outputs": [
    {
     "name": "stdout",
     "output_type": "stream",
     "text": [
      "학습 데이터 점수: 0.38448167103075015\n",
      "평가 데이터 점수: 0.2841249765555398\n"
     ]
    }
   ],
   "source": [
    "print('학습 데이터 점수: {}'.format(model.score(X_train, y_train)))\n",
    "print('평가 데이터 점수: {}'.format(model.score(X_test, y_test)))"
   ]
  },
  {
   "cell_type": "markdown",
   "id": "a8ae079a",
   "metadata": {},
   "source": [
    "-> 처음보다는 성능이 많이 좋아짐"
   ]
  },
  {
   "cell_type": "markdown",
   "id": "5c77af40",
   "metadata": {},
   "source": [
    "# Linear SVC"
   ]
  },
  {
   "cell_type": "markdown",
   "id": "b75c95a3",
   "metadata": {},
   "source": [
    "# 1. 유방암"
   ]
  },
  {
   "cell_type": "code",
   "execution_count": 109,
   "id": "6fb3849d",
   "metadata": {},
   "outputs": [],
   "source": [
    "X, y = load_breast_cancer(return_X_y = True)\n",
    "X_train, X_test, y_train, y_test = train_test_split(X, y, test_size = 0.2)"
   ]
  },
  {
   "cell_type": "code",
   "execution_count": 110,
   "id": "31dc21e9",
   "metadata": {},
   "outputs": [
    {
     "data": {
      "text/plain": [
       "SVC(kernel='linear')"
      ]
     },
     "execution_count": 110,
     "metadata": {},
     "output_type": "execute_result"
    }
   ],
   "source": [
    "scaler = StandardScaler()\n",
    "scaler.fit(X_train)\n",
    "X_train = scaler.transform(X_train)\n",
    "X_test = scaler.transform(X_test)\n",
    "\n",
    "model = SVC(kernel = 'linear')\n",
    "model.fit(X_train, y_train)"
   ]
  },
  {
   "cell_type": "code",
   "execution_count": 111,
   "id": "a14637c9",
   "metadata": {},
   "outputs": [
    {
     "name": "stdout",
     "output_type": "stream",
     "text": [
      "학습 데이터 점수: 0.9868131868131869\n",
      "평가 데이터 점수: 0.9649122807017544\n"
     ]
    }
   ],
   "source": [
    "print('학습 데이터 점수: {}'.format(model.score(X_train, y_train)))\n",
    "print('평가 데이터 점수: {}'.format(model.score(X_test, y_test)))"
   ]
  },
  {
   "cell_type": "markdown",
   "id": "288d0410",
   "metadata": {},
   "source": [
    "### 시각화 "
   ]
  },
  {
   "cell_type": "code",
   "execution_count": 112,
   "id": "e89e9c30",
   "metadata": {},
   "outputs": [],
   "source": [
    "# 구분되는 선을 보여주기\n",
    "def make_meshgrid(x, y, h = .02):\n",
    "    x_min, x_max = x.min()-1, x.max()+1\n",
    "    y_min, y_max = y.min()-1, y.max()+1\n",
    "    xx, yy = np.meshgrid(np.arange(x_min, x_max, h),\n",
    "                        np.arange(y_min, y_max, h))\n",
    "    return xx, yy"
   ]
  },
  {
   "cell_type": "code",
   "execution_count": 113,
   "id": "8178ad49",
   "metadata": {},
   "outputs": [],
   "source": [
    "def plot_contours(clf, xx, yy, **params):\n",
    "    Z = clf.predict(np.c_[xx.ravel(), yy.ravel()]) #x와 y의 값을 넣어주기\n",
    "    Z = Z.reshape(xx.shape)\n",
    "    out = plt.contourf(xx, yy, Z, **params)\n",
    "    \n",
    "    return out"
   ]
  },
  {
   "cell_type": "code",
   "execution_count": 114,
   "id": "3c29accd",
   "metadata": {},
   "outputs": [],
   "source": [
    "X_comp = TSNE(n_components=2).fit_transform(X)\n",
    "X0, X1 = X_comp[:, 0], X_comp[:, 1]\n",
    "xx, yy = make_meshgrid(X0, X1)"
   ]
  },
  {
   "cell_type": "markdown",
   "id": "572f96b8",
   "metadata": {},
   "source": [
    "- SVC 결과 확인"
   ]
  },
  {
   "cell_type": "code",
   "execution_count": 116,
   "id": "ea535578",
   "metadata": {},
   "outputs": [
    {
     "data": {
      "image/png": "[encoded data removed]",
      "text/plain": [
       "<Figure size 432x288 with 1 Axes>"
      ]
     },
     "metadata": {},
     "output_type": "display_data"
    }
   ],
   "source": [
    "model.fit(X_comp, y)\n",
    "\n",
    "plot_contours(model, xx, yy, cmap = plt.cm.coolwarm, alpha = 0.7)\n",
    "plt.scatter(X0, X1,c = y, cmap = plt.cm.coolwarm, s = 20, edgecolors='k');"
   ]
  },
  {
   "cell_type": "markdown",
   "id": "a4d3fca9",
   "metadata": {},
   "source": [
    "-> 유방암 전이가 된 부분과 안된 부분의 구분"
   ]
  },
  {
   "cell_type": "markdown",
   "id": "f7b523f8",
   "metadata": {},
   "source": [
    "- 파이프라인으로 cross validation 확인"
   ]
  },
  {
   "cell_type": "code",
   "execution_count": 117,
   "id": "711c8df6",
   "metadata": {},
   "outputs": [
    {
     "name": "stderr",
     "output_type": "stream",
     "text": [
      "[Parallel(n_jobs=8)]: Using backend LokyBackend with 8 concurrent workers.\n",
      "[Parallel(n_jobs=8)]: Done   2 out of   5 | elapsed:    2.8s remaining:    4.2s\n",
      "[Parallel(n_jobs=8)]: Done   5 out of   5 | elapsed:    2.8s finished\n"
     ]
    },
    {
     "data": {
      "text/plain": [
       "{'fit_time': array([0.00649214, 0.00649858, 0.00424194, 0.01151419, 0.00349569]),\n",
       " 'score_time': array([0.00100255, 0.0009985 , 0.00099683, 0.00199294, 0.00100017]),\n",
       " 'test_score': array([0.96491228, 0.98245614, 0.96491228, 0.96491228, 0.98230088])}"
      ]
     },
     "execution_count": 117,
     "metadata": {},
     "output_type": "execute_result"
    }
   ],
   "source": [
    "estimator = make_pipeline(StandardScaler(), SVC(kernel = 'linear'))\n",
    "\n",
    "cross_validate(\n",
    "    estimator = estimator, X = X, y = y, \n",
    "    cv = 5, n_jobs = multiprocessing.cpu_count(),\n",
    "    verbose= True)"
   ]
  },
  {
   "cell_type": "markdown",
   "id": "2edf39f2",
   "metadata": {},
   "source": [
    "- 최적의 파라미터 찾기"
   ]
  },
  {
   "cell_type": "code",
   "execution_count": 118,
   "id": "0123f734",
   "metadata": {},
   "outputs": [
    {
     "name": "stdout",
     "output_type": "stream",
     "text": [
      "Fitting 5 folds for each of 6 candidates, totalling 30 fits\n"
     ]
    },
    {
     "data": {
      "text/plain": [
       "GridSearchCV(cv=5,\n",
       "             estimator=Pipeline(steps=[('scaler', StandardScaler()),\n",
       "                                       ('model', SVC(kernel='linear'))]),\n",
       "             n_jobs=8,\n",
       "             param_grid=[{'model__C': [1.0, 0.1, 0.01],\n",
       "                          'model__gamma': ['scale', 'auto']}],\n",
       "             verbose=True)"
      ]
     },
     "execution_count": 118,
     "metadata": {},
     "output_type": "execute_result"
    }
   ],
   "source": [
    "pipe = Pipeline([('scaler', StandardScaler()),\n",
    "                ('model', SVC(kernel = 'linear'))])\n",
    "\n",
    "param_grid = [{'model__gamma' : ['scale', 'auto'],\n",
    "             'model__C': [1.0, 0.1, 0.01]}]\n",
    "\n",
    "gs = GridSearchCV(\n",
    "    estimator = pipe,\n",
    "    param_grid = param_grid, \n",
    "    n_jobs = multiprocessing.cpu_count(),\n",
    "    cv = 5,\n",
    "    verbose = True\n",
    ")\n",
    "\n",
    "gs.fit(X, y)"
   ]
  },
  {
   "cell_type": "code",
   "execution_count": 119,
   "id": "75fe8730",
   "metadata": {},
   "outputs": [
    {
     "data": {
      "text/plain": [
       "Pipeline(steps=[('scaler', StandardScaler()),\n",
       "                ('model', SVC(C=0.1, kernel='linear'))])"
      ]
     },
     "execution_count": 119,
     "metadata": {},
     "output_type": "execute_result"
    }
   ],
   "source": [
    "# 최적의 파라미터\n",
    "gs.best_estimator_"
   ]
  },
  {
   "cell_type": "code",
   "execution_count": 120,
   "id": "e6903cd7",
   "metadata": {},
   "outputs": [
    {
     "data": {
      "text/plain": [
       "Pipeline(steps=[('scaler', StandardScaler()),\n",
       "                ('model', SVC(C=0.1, kernel='linear'))])"
      ]
     },
     "execution_count": 120,
     "metadata": {},
     "output_type": "execute_result"
    }
   ],
   "source": [
    "model = gs.best_estimator_\n",
    "model.fit(X_train, y_train)"
   ]
  },
  {
   "cell_type": "code",
   "execution_count": 121,
   "id": "ef04a8f6",
   "metadata": {},
   "outputs": [
    {
     "name": "stdout",
     "output_type": "stream",
     "text": [
      "학습 데이터 점수: 0.989010989010989\n",
      "평가 데이터 점수: 0.9736842105263158\n"
     ]
    }
   ],
   "source": [
    "print('학습 데이터 점수: {}'.format(model.score(X_train, y_train)))\n",
    "print('평가 데이터 점수: {}'.format(model.score(X_test, y_test)))"
   ]
  },
  {
   "cell_type": "markdown",
   "id": "939d6c2c",
   "metadata": {},
   "source": [
    "-> 처음보다는 성능이 0.01정도 좋아짐"
   ]
  },
  {
   "cell_type": "markdown",
   "id": "01b5b268",
   "metadata": {},
   "source": [
    "# 2. 붓꽃"
   ]
  },
  {
   "cell_type": "code",
   "execution_count": 122,
   "id": "a282961b",
   "metadata": {},
   "outputs": [],
   "source": [
    "X, y = load_iris(return_X_y = True)\n",
    "X_train, X_test, y_train, y_test = train_test_split(X, y, test_size = 0.2)"
   ]
  },
  {
   "cell_type": "code",
   "execution_count": 123,
   "id": "8ede000f",
   "metadata": {},
   "outputs": [
    {
     "data": {
      "text/plain": [
       "SVC(kernel='linear')"
      ]
     },
     "execution_count": 123,
     "metadata": {},
     "output_type": "execute_result"
    }
   ],
   "source": [
    "scaler = StandardScaler()\n",
    "scaler.fit(X_train)\n",
    "X_train = scaler.transform(X_train)\n",
    "X_test = scaler.transform(X_test)\n",
    "\n",
    "model = SVC(kernel = 'linear')\n",
    "model.fit(X_train, y_train)"
   ]
  },
  {
   "cell_type": "code",
   "execution_count": 124,
   "id": "b1d5c9da",
   "metadata": {},
   "outputs": [
    {
     "name": "stdout",
     "output_type": "stream",
     "text": [
      "학습 데이터 점수: 0.975\n",
      "평가 데이터 점수: 0.9666666666666667\n"
     ]
    }
   ],
   "source": [
    "print('학습 데이터 점수: {}'.format(model.score(X_train, y_train)))\n",
    "print('평가 데이터 점수: {}'.format(model.score(X_test, y_test)))"
   ]
  },
  {
   "cell_type": "markdown",
   "id": "7b33852c",
   "metadata": {},
   "source": [
    "### 시각화 "
   ]
  },
  {
   "cell_type": "code",
   "execution_count": 125,
   "id": "2fa29a74",
   "metadata": {},
   "outputs": [],
   "source": [
    "# 구분되는 선을 보여주기\n",
    "def make_meshgrid(x, y, h = .02):\n",
    "    x_min, x_max = x.min()-1, x.max()+1\n",
    "    y_min, y_max = y.min()-1, y.max()+1\n",
    "    xx, yy = np.meshgrid(np.arange(x_min, x_max, h),\n",
    "                        np.arange(y_min, y_max, h))\n",
    "    return xx, yy"
   ]
  },
  {
   "cell_type": "code",
   "execution_count": 126,
   "id": "1d6a6f59",
   "metadata": {},
   "outputs": [],
   "source": [
    "def plot_contours(clf, xx, yy, **params):\n",
    "    Z = clf.predict(np.c_[xx.ravel(), yy.ravel()]) #x와 y의 값을 넣어주기\n",
    "    Z = Z.reshape(xx.shape)\n",
    "    out = plt.contourf(xx, yy, Z, **params)\n",
    "    \n",
    "    return out"
   ]
  },
  {
   "cell_type": "code",
   "execution_count": 131,
   "id": "af921d1b",
   "metadata": {},
   "outputs": [],
   "source": [
    "X_comp = TSNE(n_components=2).fit_transform(X)\n",
    "X0, X1 = X_comp[:, 0], X_comp[:, 1]\n",
    "xx, yy = make_meshgrid(X0, X1)"
   ]
  },
  {
   "cell_type": "markdown",
   "id": "f48293fa",
   "metadata": {},
   "source": [
    "- SVC 결과 확인"
   ]
  },
  {
   "cell_type": "code",
   "execution_count": 132,
   "id": "b9176e14",
   "metadata": {},
   "outputs": [
    {
     "data": {
      "image/png": "[encoded data removed]",
      "text/plain": [
       "<Figure size 432x288 with 1 Axes>"
      ]
     },
     "metadata": {},
     "output_type": "display_data"
    }
   ],
   "source": [
    "model.fit(X_comp, y)\n",
    "\n",
    "plot_contours(model, xx, yy, cmap = plt.cm.coolwarm, alpha = 0.7)\n",
    "plt.scatter(X0, X1,c = y, cmap = plt.cm.coolwarm, s = 20, edgecolors='k');"
   ]
  },
  {
   "cell_type": "markdown",
   "id": "ff425fd5",
   "metadata": {},
   "source": [
    "-> 붓꽃 종류 3개로 구분됨"
   ]
  },
  {
   "cell_type": "markdown",
   "id": "cd41be9e",
   "metadata": {},
   "source": [
    "- 파이프라인으로 cross validation 확인"
   ]
  },
  {
   "cell_type": "code",
   "execution_count": 133,
   "id": "0aed56a3",
   "metadata": {},
   "outputs": [
    {
     "name": "stderr",
     "output_type": "stream",
     "text": [
      "[Parallel(n_jobs=8)]: Using backend LokyBackend with 8 concurrent workers.\n",
      "[Parallel(n_jobs=8)]: Done   2 out of   5 | elapsed:    0.0s remaining:    0.0s\n",
      "[Parallel(n_jobs=8)]: Done   5 out of   5 | elapsed:    0.0s finished\n"
     ]
    },
    {
     "data": {
      "text/plain": [
       "{'fit_time': array([0.00099516, 0.00199461, 0.00199461, 0.00199461, 0.00099945]),\n",
       " 'score_time': array([0.        , 0.        , 0.        , 0.00099683, 0.00099683]),\n",
       " 'test_score': array([0.96666667, 1.        , 0.93333333, 0.93333333, 1.        ])}"
      ]
     },
     "execution_count": 133,
     "metadata": {},
     "output_type": "execute_result"
    }
   ],
   "source": [
    "estimator = make_pipeline(StandardScaler(), SVC(kernel = 'linear'))\n",
    "\n",
    "cross_validate(\n",
    "    estimator = estimator, X = X, y = y, \n",
    "    cv = 5, n_jobs = multiprocessing.cpu_count(),\n",
    "    verbose= True)"
   ]
  },
  {
   "cell_type": "markdown",
   "id": "c92c6feb",
   "metadata": {},
   "source": [
    "- 최적의 파라미터 찾기"
   ]
  },
  {
   "cell_type": "code",
   "execution_count": 134,
   "id": "803a4138",
   "metadata": {},
   "outputs": [
    {
     "name": "stdout",
     "output_type": "stream",
     "text": [
      "Fitting 5 folds for each of 6 candidates, totalling 30 fits\n"
     ]
    },
    {
     "data": {
      "text/plain": [
       "GridSearchCV(cv=5,\n",
       "             estimator=Pipeline(steps=[('scaler', StandardScaler()),\n",
       "                                       ('model', SVC(kernel='linear'))]),\n",
       "             n_jobs=8,\n",
       "             param_grid=[{'model__C': [1.0, 0.1, 0.01],\n",
       "                          'model__gamma': ['scale', 'auto']}],\n",
       "             verbose=True)"
      ]
     },
     "execution_count": 134,
     "metadata": {},
     "output_type": "execute_result"
    }
   ],
   "source": [
    "pipe = Pipeline([('scaler', StandardScaler()),\n",
    "                ('model', SVC(kernel = 'linear'))])\n",
    "\n",
    "param_grid = [{'model__gamma' : ['scale', 'auto'],\n",
    "             'model__C': [1.0, 0.1, 0.01]}]\n",
    "\n",
    "gs = GridSearchCV(\n",
    "    estimator = pipe,\n",
    "    param_grid = param_grid, \n",
    "    n_jobs = multiprocessing.cpu_count(),\n",
    "    cv = 5,\n",
    "    verbose = True\n",
    ")\n",
    "\n",
    "gs.fit(X, y)"
   ]
  },
  {
   "cell_type": "code",
   "execution_count": 135,
   "id": "8413db8b",
   "metadata": {},
   "outputs": [
    {
     "data": {
      "text/plain": [
       "Pipeline(steps=[('scaler', StandardScaler()), ('model', SVC(kernel='linear'))])"
      ]
     },
     "execution_count": 135,
     "metadata": {},
     "output_type": "execute_result"
    }
   ],
   "source": [
    "# 최적의 파라미터\n",
    "gs.best_estimator_"
   ]
  },
  {
   "cell_type": "code",
   "execution_count": 136,
   "id": "37033edc",
   "metadata": {},
   "outputs": [
    {
     "data": {
      "text/plain": [
       "Pipeline(steps=[('scaler', StandardScaler()), ('model', SVC(kernel='linear'))])"
      ]
     },
     "execution_count": 136,
     "metadata": {},
     "output_type": "execute_result"
    }
   ],
   "source": [
    "model = gs.best_estimator_\n",
    "model.fit(X_train, y_train)"
   ]
  },
  {
   "cell_type": "code",
   "execution_count": 137,
   "id": "f51a4ad6",
   "metadata": {},
   "outputs": [
    {
     "name": "stdout",
     "output_type": "stream",
     "text": [
      "학습 데이터 점수: 0.975\n",
      "평가 데이터 점수: 0.9666666666666667\n"
     ]
    }
   ],
   "source": [
    "print('학습 데이터 점수: {}'.format(model.score(X_train, y_train)))\n",
    "print('평가 데이터 점수: {}'.format(model.score(X_test, y_test)))"
   ]
  },
  {
   "cell_type": "markdown",
   "id": "4a9c24b3",
   "metadata": {},
   "source": [
    "-> 처음보다는 성능이 거의 똑같음"
   ]
  },
  {
   "cell_type": "markdown",
   "id": "f29cde82",
   "metadata": {},
   "source": [
    "# 3. 와인"
   ]
  },
  {
   "cell_type": "code",
   "execution_count": 145,
   "id": "82cceb25",
   "metadata": {},
   "outputs": [],
   "source": [
    "X, y = load_wine(return_X_y = True)\n",
    "X_train, X_test, y_train, y_test = train_test_split(X, y, test_size = 0.2)"
   ]
  },
  {
   "cell_type": "code",
   "execution_count": 146,
   "id": "7d59fa1c",
   "metadata": {},
   "outputs": [
    {
     "data": {
      "text/plain": [
       "SVC(kernel='linear')"
      ]
     },
     "execution_count": 146,
     "metadata": {},
     "output_type": "execute_result"
    }
   ],
   "source": [
    "scaler = StandardScaler()\n",
    "scaler.fit(X_train)\n",
    "X_train = scaler.transform(X_train)\n",
    "X_test = scaler.transform(X_test)\n",
    "\n",
    "model = SVC(kernel = 'linear')\n",
    "model.fit(X_train, y_train)"
   ]
  },
  {
   "cell_type": "code",
   "execution_count": 147,
   "id": "59323e8c",
   "metadata": {},
   "outputs": [
    {
     "name": "stdout",
     "output_type": "stream",
     "text": [
      "학습 데이터 점수: 1.0\n",
      "평가 데이터 점수: 1.0\n"
     ]
    }
   ],
   "source": [
    "print('학습 데이터 점수: {}'.format(model.score(X_train, y_train)))\n",
    "print('평가 데이터 점수: {}'.format(model.score(X_test, y_test)))"
   ]
  },
  {
   "cell_type": "markdown",
   "id": "5b495636",
   "metadata": {},
   "source": [
    "### 시각화 "
   ]
  },
  {
   "cell_type": "code",
   "execution_count": 148,
   "id": "d3480a37",
   "metadata": {},
   "outputs": [],
   "source": [
    "# 구분되는 선을 보여주기\n",
    "def make_meshgrid(x, y, h = .02):\n",
    "    x_min, x_max = x.min()-1, x.max()+1\n",
    "    y_min, y_max = y.min()-1, y.max()+1\n",
    "    xx, yy = np.meshgrid(np.arange(x_min, x_max, h),\n",
    "                        np.arange(y_min, y_max, h))\n",
    "    return xx, yy"
   ]
  },
  {
   "cell_type": "code",
   "execution_count": 149,
   "id": "f924a68d",
   "metadata": {},
   "outputs": [],
   "source": [
    "def plot_contours(clf, xx, yy, **params):\n",
    "    Z = clf.predict(np.c_[xx.ravel(), yy.ravel()]) #x와 y의 값을 넣어주기\n",
    "    Z = Z.reshape(xx.shape)\n",
    "    out = plt.contourf(xx, yy, Z, **params)\n",
    "    \n",
    "    return out"
   ]
  },
  {
   "cell_type": "code",
   "execution_count": 150,
   "id": "b351477c",
   "metadata": {},
   "outputs": [],
   "source": [
    "X_comp = TSNE(n_components=2).fit_transform(X)\n",
    "X0, X1 = X_comp[:, 0], X_comp[:, 1]\n",
    "xx, yy = make_meshgrid(X0, X1)"
   ]
  },
  {
   "cell_type": "markdown",
   "id": "eecd7985",
   "metadata": {},
   "source": [
    "- SVC 결과 확인"
   ]
  },
  {
   "cell_type": "code",
   "execution_count": 151,
   "id": "d721e216",
   "metadata": {},
   "outputs": [
    {
     "data": {
      "image/png": "[encoded data removed]",
      "text/plain": [
       "<Figure size 432x288 with 1 Axes>"
      ]
     },
     "metadata": {},
     "output_type": "display_data"
    }
   ],
   "source": [
    "model.fit(X_comp, y)\n",
    "\n",
    "plot_contours(model, xx, yy, cmap = plt.cm.coolwarm, alpha = 0.7)\n",
    "plt.scatter(X0, X1,c = y, cmap = plt.cm.coolwarm, s = 20, edgecolors='k');"
   ]
  },
  {
   "cell_type": "markdown",
   "id": "1a18f309",
   "metadata": {},
   "source": [
    "-> 차원이 축소되어 그렇지만 점수가 좋은 걸 보면 잘 구분됨"
   ]
  },
  {
   "cell_type": "markdown",
   "id": "022dfdd4",
   "metadata": {},
   "source": [
    "- 파이프라인으로 cross validation 확인"
   ]
  },
  {
   "cell_type": "code",
   "execution_count": 152,
   "id": "60216ea2",
   "metadata": {},
   "outputs": [
    {
     "name": "stderr",
     "output_type": "stream",
     "text": [
      "[Parallel(n_jobs=8)]: Using backend LokyBackend with 8 concurrent workers.\n",
      "[Parallel(n_jobs=8)]: Done   2 out of   5 | elapsed:    0.0s remaining:    0.0s\n",
      "[Parallel(n_jobs=8)]: Done   5 out of   5 | elapsed:    0.0s finished\n"
     ]
    },
    {
     "data": {
      "text/plain": [
       "{'fit_time': array([0.00199342, 0.00199342, 0.00250387, 0.00250387, 0.00250387]),\n",
       " 'score_time': array([0.       , 0.       , 0.       , 0.       , 0.0010128]),\n",
       " 'test_score': array([0.94444444, 0.97222222, 0.97222222, 0.97142857, 0.94285714])}"
      ]
     },
     "execution_count": 152,
     "metadata": {},
     "output_type": "execute_result"
    }
   ],
   "source": [
    "estimator = make_pipeline(StandardScaler(), SVC(kernel = 'linear'))\n",
    "\n",
    "cross_validate(\n",
    "    estimator = estimator, X = X, y = y, \n",
    "    cv = 5, n_jobs = multiprocessing.cpu_count(),\n",
    "    verbose= True)"
   ]
  },
  {
   "cell_type": "markdown",
   "id": "2bd5697a",
   "metadata": {},
   "source": [
    "- 최적의 파라미터 찾기"
   ]
  },
  {
   "cell_type": "code",
   "execution_count": 153,
   "id": "7c136961",
   "metadata": {},
   "outputs": [
    {
     "name": "stdout",
     "output_type": "stream",
     "text": [
      "Fitting 5 folds for each of 6 candidates, totalling 30 fits\n"
     ]
    },
    {
     "data": {
      "text/plain": [
       "GridSearchCV(cv=5,\n",
       "             estimator=Pipeline(steps=[('scaler', StandardScaler()),\n",
       "                                       ('model', SVC(kernel='linear'))]),\n",
       "             n_jobs=8,\n",
       "             param_grid=[{'model__C': [1.0, 0.1, 0.01],\n",
       "                          'model__gamma': ['scale', 'auto']}],\n",
       "             verbose=True)"
      ]
     },
     "execution_count": 153,
     "metadata": {},
     "output_type": "execute_result"
    }
   ],
   "source": [
    "pipe = Pipeline([('scaler', StandardScaler()),\n",
    "                ('model', SVC(kernel = 'linear'))])\n",
    "\n",
    "param_grid = [{'model__gamma' : ['scale', 'auto'],\n",
    "             'model__C': [1.0, 0.1, 0.01]}]\n",
    "\n",
    "gs = GridSearchCV(\n",
    "    estimator = pipe,\n",
    "    param_grid = param_grid, \n",
    "    n_jobs = multiprocessing.cpu_count(),\n",
    "    cv = 5,\n",
    "    verbose = True\n",
    ")\n",
    "\n",
    "gs.fit(X, y)"
   ]
  },
  {
   "cell_type": "code",
   "execution_count": 154,
   "id": "fa29918e",
   "metadata": {
    "scrolled": true
   },
   "outputs": [
    {
     "data": {
      "text/plain": [
       "Pipeline(steps=[('scaler', StandardScaler()),\n",
       "                ('model', SVC(C=0.1, kernel='linear'))])"
      ]
     },
     "execution_count": 154,
     "metadata": {},
     "output_type": "execute_result"
    }
   ],
   "source": [
    "# 최적의 파라미터\n",
    "gs.best_estimator_"
   ]
  },
  {
   "cell_type": "markdown",
   "id": "ba688071",
   "metadata": {},
   "source": [
    "# kernel SVC"
   ]
  },
  {
   "cell_type": "markdown",
   "id": "1a173493",
   "metadata": {},
   "source": [
    "# 1. 유방암"
   ]
  },
  {
   "cell_type": "code",
   "execution_count": 157,
   "id": "edc3ced7",
   "metadata": {},
   "outputs": [],
   "source": [
    "X, y = load_breast_cancer(return_X_y = True)\n",
    "X_train, X_test, y_train, y_test = train_test_split(X, y, test_size = 0.2)"
   ]
  },
  {
   "cell_type": "code",
   "execution_count": 158,
   "id": "eeaf6b45",
   "metadata": {},
   "outputs": [
    {
     "data": {
      "text/plain": [
       "SVC()"
      ]
     },
     "execution_count": 158,
     "metadata": {},
     "output_type": "execute_result"
    }
   ],
   "source": [
    "scaler = StandardScaler()\n",
    "scaler.fit(X_train)\n",
    "X_train = scaler.transform(X_train)\n",
    "X_test = scaler.transform(X_test)\n",
    "\n",
    "model = SVC(kernel = 'rbf')\n",
    "model.fit(X_train, y_train)"
   ]
  },
  {
   "cell_type": "code",
   "execution_count": 159,
   "id": "ccc47645",
   "metadata": {},
   "outputs": [
    {
     "name": "stdout",
     "output_type": "stream",
     "text": [
      "학습 데이터 점수: 0.989010989010989\n",
      "평가 데이터 점수: 0.9473684210526315\n"
     ]
    }
   ],
   "source": [
    "print('학습 데이터 점수: {}'.format(model.score(X_train, y_train)))\n",
    "print('평가 데이터 점수: {}'.format(model.score(X_test, y_test)))"
   ]
  },
  {
   "cell_type": "markdown",
   "id": "039c53c2",
   "metadata": {},
   "source": [
    "### 시각화 "
   ]
  },
  {
   "cell_type": "code",
   "execution_count": 112,
   "id": "fd7adf3b",
   "metadata": {},
   "outputs": [],
   "source": [
    "# 구분되는 선을 보여주기\n",
    "def make_meshgrid(x, y, h = .02):\n",
    "    x_min, x_max = x.min()-1, x.max()+1\n",
    "    y_min, y_max = y.min()-1, y.max()+1\n",
    "    xx, yy = np.meshgrid(np.arange(x_min, x_max, h),\n",
    "                        np.arange(y_min, y_max, h))\n",
    "    return xx, yy"
   ]
  },
  {
   "cell_type": "code",
   "execution_count": 113,
   "id": "0fe2a9cf",
   "metadata": {},
   "outputs": [],
   "source": [
    "def plot_contours(clf, xx, yy, **params):\n",
    "    Z = clf.predict(np.c_[xx.ravel(), yy.ravel()]) #x와 y의 값을 넣어주기\n",
    "    Z = Z.reshape(xx.shape)\n",
    "    out = plt.contourf(xx, yy, Z, **params)\n",
    "    \n",
    "    return out"
   ]
  },
  {
   "cell_type": "code",
   "execution_count": 160,
   "id": "c79adf9e",
   "metadata": {},
   "outputs": [],
   "source": [
    "X_comp = TSNE(n_components=2).fit_transform(X)\n",
    "X0, X1 = X_comp[:, 0], X_comp[:, 1]\n",
    "xx, yy = make_meshgrid(X0, X1)"
   ]
  },
  {
   "cell_type": "markdown",
   "id": "4589c0b6",
   "metadata": {},
   "source": [
    "- SVC 결과 확인"
   ]
  },
  {
   "cell_type": "code",
   "execution_count": 161,
   "id": "7b6baf31",
   "metadata": {},
   "outputs": [
    {
     "data": {
      "image/png": "[encoded data removed]",
      "text/plain": [
       "<Figure size 432x288 with 1 Axes>"
      ]
     },
     "metadata": {},
     "output_type": "display_data"
    }
   ],
   "source": [
    "model.fit(X_comp, y)\n",
    "\n",
    "plot_contours(model, xx, yy, cmap = plt.cm.coolwarm, alpha = 0.7)\n",
    "plt.scatter(X0, X1,c = y, cmap = plt.cm.coolwarm, s = 20, edgecolors='k');"
   ]
  },
  {
   "cell_type": "markdown",
   "id": "fd5df0e8",
   "metadata": {},
   "source": [
    "-> 유방암 전이가 된 부분과 안된 부분의 구분"
   ]
  },
  {
   "cell_type": "markdown",
   "id": "6aed6747",
   "metadata": {},
   "source": [
    "- 파이프라인으로 cross validation 확인"
   ]
  },
  {
   "cell_type": "code",
   "execution_count": 162,
   "id": "b505eeae",
   "metadata": {},
   "outputs": [
    {
     "name": "stderr",
     "output_type": "stream",
     "text": [
      "[Parallel(n_jobs=8)]: Using backend LokyBackend with 8 concurrent workers.\n",
      "[Parallel(n_jobs=8)]: Done   5 out of   5 | elapsed:    0.0s finished\n"
     ]
    },
    {
     "data": {
      "text/plain": [
       "{'fit_time': array([0.00598383, 0.00549459, 0.00551629, 0.00549293, 0.0054965 ]),\n",
       " 'score_time': array([0.00350881, 0.00299525, 0.00299478, 0.00199842, 0.00301981]),\n",
       " 'test_score': array([0.97368421, 0.95614035, 1.        , 0.96491228, 0.97345133])}"
      ]
     },
     "execution_count": 162,
     "metadata": {},
     "output_type": "execute_result"
    }
   ],
   "source": [
    "estimator = make_pipeline(StandardScaler(), SVC(kernel = 'rbf'))\n",
    "\n",
    "cross_validate(\n",
    "    estimator = estimator, X = X, y = y, \n",
    "    cv = 5, n_jobs = multiprocessing.cpu_count(),\n",
    "    verbose= True)"
   ]
  },
  {
   "cell_type": "markdown",
   "id": "dd67c2a7",
   "metadata": {},
   "source": [
    "- 최적의 파라미터 찾기"
   ]
  },
  {
   "cell_type": "code",
   "execution_count": 163,
   "id": "0bf2cd74",
   "metadata": {},
   "outputs": [
    {
     "name": "stdout",
     "output_type": "stream",
     "text": [
      "Fitting 5 folds for each of 6 candidates, totalling 30 fits\n"
     ]
    },
    {
     "data": {
      "text/plain": [
       "GridSearchCV(cv=5,\n",
       "             estimator=Pipeline(steps=[('scaler', StandardScaler()),\n",
       "                                       ('model', SVC())]),\n",
       "             n_jobs=8,\n",
       "             param_grid=[{'model__C': [1.0, 0.1, 0.01],\n",
       "                          'model__gamma': ['scale', 'auto']}],\n",
       "             verbose=True)"
      ]
     },
     "execution_count": 163,
     "metadata": {},
     "output_type": "execute_result"
    }
   ],
   "source": [
    "pipe = Pipeline([('scaler', StandardScaler()),\n",
    "                ('model', SVC(kernel = 'rbf'))])\n",
    "\n",
    "param_grid = [{'model__gamma' : ['scale', 'auto'],\n",
    "             'model__C': [1.0, 0.1, 0.01]}]\n",
    "\n",
    "gs = GridSearchCV(\n",
    "    estimator = pipe,\n",
    "    param_grid = param_grid, \n",
    "    n_jobs = multiprocessing.cpu_count(),\n",
    "    cv = 5,\n",
    "    verbose = True\n",
    ")\n",
    "\n",
    "gs.fit(X, y)"
   ]
  },
  {
   "cell_type": "code",
   "execution_count": 164,
   "id": "3ce53d1f",
   "metadata": {},
   "outputs": [
    {
     "data": {
      "text/plain": [
       "Pipeline(steps=[('scaler', StandardScaler()), ('model', SVC())])"
      ]
     },
     "execution_count": 164,
     "metadata": {},
     "output_type": "execute_result"
    }
   ],
   "source": [
    "# 최적의 파라미터\n",
    "gs.best_estimator_"
   ]
  },
  {
   "cell_type": "code",
   "execution_count": 165,
   "id": "cc08ce2d",
   "metadata": {},
   "outputs": [
    {
     "data": {
      "text/plain": [
       "Pipeline(steps=[('scaler', StandardScaler()), ('model', SVC())])"
      ]
     },
     "execution_count": 165,
     "metadata": {},
     "output_type": "execute_result"
    }
   ],
   "source": [
    "model = gs.best_estimator_\n",
    "model.fit(X_train, y_train)"
   ]
  },
  {
   "cell_type": "code",
   "execution_count": 166,
   "id": "84605c82",
   "metadata": {},
   "outputs": [
    {
     "name": "stdout",
     "output_type": "stream",
     "text": [
      "학습 데이터 점수: 0.989010989010989\n",
      "평가 데이터 점수: 0.9473684210526315\n"
     ]
    }
   ],
   "source": [
    "print('학습 데이터 점수: {}'.format(model.score(X_train, y_train)))\n",
    "print('평가 데이터 점수: {}'.format(model.score(X_test, y_test)))"
   ]
  },
  {
   "cell_type": "markdown",
   "id": "f32958a5",
   "metadata": {},
   "source": [
    "-> 처음이랑 성능이 같음"
   ]
  },
  {
   "cell_type": "markdown",
   "id": "5003641a",
   "metadata": {},
   "source": [
    "# 2. 붓꽃"
   ]
  },
  {
   "cell_type": "code",
   "execution_count": 167,
   "id": "68873c77",
   "metadata": {},
   "outputs": [],
   "source": [
    "X, y = load_iris(return_X_y = True)\n",
    "X_train, X_test, y_train, y_test = train_test_split(X, y, test_size = 0.2)"
   ]
  },
  {
   "cell_type": "code",
   "execution_count": 168,
   "id": "d2722ec4",
   "metadata": {},
   "outputs": [
    {
     "data": {
      "text/plain": [
       "SVC()"
      ]
     },
     "execution_count": 168,
     "metadata": {},
     "output_type": "execute_result"
    }
   ],
   "source": [
    "scaler = StandardScaler()\n",
    "scaler.fit(X_train)\n",
    "X_train = scaler.transform(X_train)\n",
    "X_test = scaler.transform(X_test)\n",
    "\n",
    "model = SVC(kernel = 'rbf')\n",
    "model.fit(X_train, y_train)"
   ]
  },
  {
   "cell_type": "code",
   "execution_count": 169,
   "id": "dd3290af",
   "metadata": {},
   "outputs": [
    {
     "name": "stdout",
     "output_type": "stream",
     "text": [
      "학습 데이터 점수: 0.975\n",
      "평가 데이터 점수: 0.9666666666666667\n"
     ]
    }
   ],
   "source": [
    "print('학습 데이터 점수: {}'.format(model.score(X_train, y_train)))\n",
    "print('평가 데이터 점수: {}'.format(model.score(X_test, y_test)))"
   ]
  },
  {
   "cell_type": "markdown",
   "id": "7ea45753",
   "metadata": {},
   "source": [
    "### 시각화 "
   ]
  },
  {
   "cell_type": "code",
   "execution_count": 125,
   "id": "b7d007a5",
   "metadata": {},
   "outputs": [],
   "source": [
    "# 구분되는 선을 보여주기\n",
    "def make_meshgrid(x, y, h = .02):\n",
    "    x_min, x_max = x.min()-1, x.max()+1\n",
    "    y_min, y_max = y.min()-1, y.max()+1\n",
    "    xx, yy = np.meshgrid(np.arange(x_min, x_max, h),\n",
    "                        np.arange(y_min, y_max, h))\n",
    "    return xx, yy"
   ]
  },
  {
   "cell_type": "code",
   "execution_count": 126,
   "id": "8757384c",
   "metadata": {},
   "outputs": [],
   "source": [
    "def plot_contours(clf, xx, yy, **params):\n",
    "    Z = clf.predict(np.c_[xx.ravel(), yy.ravel()]) #x와 y의 값을 넣어주기\n",
    "    Z = Z.reshape(xx.shape)\n",
    "    out = plt.contourf(xx, yy, Z, **params)\n",
    "    \n",
    "    return out"
   ]
  },
  {
   "cell_type": "code",
   "execution_count": 170,
   "id": "c8444067",
   "metadata": {},
   "outputs": [],
   "source": [
    "X_comp = TSNE(n_components=2).fit_transform(X)\n",
    "X0, X1 = X_comp[:, 0], X_comp[:, 1]\n",
    "xx, yy = make_meshgrid(X0, X1)"
   ]
  },
  {
   "cell_type": "markdown",
   "id": "9261e1bc",
   "metadata": {},
   "source": [
    "- SVC 결과 확인"
   ]
  },
  {
   "cell_type": "code",
   "execution_count": 171,
   "id": "aea024e1",
   "metadata": {},
   "outputs": [
    {
     "data": {
      "image/png": "[encoded data removed]",
      "text/plain": [
       "<Figure size 432x288 with 1 Axes>"
      ]
     },
     "metadata": {},
     "output_type": "display_data"
    }
   ],
   "source": [
    "model.fit(X_comp, y)\n",
    "\n",
    "plot_contours(model, xx, yy, cmap = plt.cm.coolwarm, alpha = 0.7)\n",
    "plt.scatter(X0, X1,c = y, cmap = plt.cm.coolwarm, s = 20, edgecolors='k');"
   ]
  },
  {
   "cell_type": "markdown",
   "id": "89c7cad1",
   "metadata": {},
   "source": [
    "-> 붓꽃 종류 3개로 구분됨"
   ]
  },
  {
   "cell_type": "markdown",
   "id": "7ceec9e0",
   "metadata": {},
   "source": [
    "- 파이프라인으로 cross validation 확인"
   ]
  },
  {
   "cell_type": "code",
   "execution_count": 172,
   "id": "23f857ad",
   "metadata": {},
   "outputs": [
    {
     "name": "stderr",
     "output_type": "stream",
     "text": [
      "[Parallel(n_jobs=8)]: Using backend LokyBackend with 8 concurrent workers.\n",
      "[Parallel(n_jobs=8)]: Done   2 out of   5 | elapsed:    0.6s remaining:    0.9s\n",
      "[Parallel(n_jobs=8)]: Done   5 out of   5 | elapsed:    0.6s finished\n"
     ]
    },
    {
     "data": {
      "text/plain": [
       "{'fit_time': array([0.00150728, 0.00199771, 0.00099802, 0.00199771, 0.00099802]),\n",
       " 'score_time': array([0.00099945, 0.00099444, 0.00099969, 0.00099444, 0.00099969]),\n",
       " 'test_score': array([0.96666667, 0.96666667, 0.96666667, 0.93333333, 1.        ])}"
      ]
     },
     "execution_count": 172,
     "metadata": {},
     "output_type": "execute_result"
    }
   ],
   "source": [
    "estimator = make_pipeline(StandardScaler(), SVC(kernel = 'rbf'))\n",
    "\n",
    "cross_validate(\n",
    "    estimator = estimator, X = X, y = y, \n",
    "    cv = 5, n_jobs = multiprocessing.cpu_count(),\n",
    "    verbose= True)"
   ]
  },
  {
   "cell_type": "markdown",
   "id": "7ab72de6",
   "metadata": {},
   "source": [
    "- 최적의 파라미터 찾기"
   ]
  },
  {
   "cell_type": "code",
   "execution_count": 173,
   "id": "df88a8cb",
   "metadata": {},
   "outputs": [
    {
     "name": "stdout",
     "output_type": "stream",
     "text": [
      "Fitting 5 folds for each of 6 candidates, totalling 30 fits\n"
     ]
    },
    {
     "data": {
      "text/plain": [
       "GridSearchCV(cv=5,\n",
       "             estimator=Pipeline(steps=[('scaler', StandardScaler()),\n",
       "                                       ('model', SVC())]),\n",
       "             n_jobs=8,\n",
       "             param_grid=[{'model__C': [1.0, 0.1, 0.01],\n",
       "                          'model__gamma': ['scale', 'auto']}],\n",
       "             verbose=True)"
      ]
     },
     "execution_count": 173,
     "metadata": {},
     "output_type": "execute_result"
    }
   ],
   "source": [
    "pipe = Pipeline([('scaler', StandardScaler()),\n",
    "                ('model', SVC(kernel = 'rbf'))])\n",
    "\n",
    "param_grid = [{'model__gamma' : ['scale', 'auto'],\n",
    "             'model__C': [1.0, 0.1, 0.01]}]\n",
    "\n",
    "gs = GridSearchCV(\n",
    "    estimator = pipe,\n",
    "    param_grid = param_grid, \n",
    "    n_jobs = multiprocessing.cpu_count(),\n",
    "    cv = 5,\n",
    "    verbose = True\n",
    ")\n",
    "\n",
    "gs.fit(X, y)"
   ]
  },
  {
   "cell_type": "code",
   "execution_count": 174,
   "id": "6d87fe8d",
   "metadata": {},
   "outputs": [
    {
     "data": {
      "text/plain": [
       "Pipeline(steps=[('scaler', StandardScaler()), ('model', SVC())])"
      ]
     },
     "execution_count": 174,
     "metadata": {},
     "output_type": "execute_result"
    }
   ],
   "source": [
    "# 최적의 파라미터\n",
    "gs.best_estimator_"
   ]
  },
  {
   "cell_type": "code",
   "execution_count": 175,
   "id": "29e81abd",
   "metadata": {},
   "outputs": [
    {
     "data": {
      "text/plain": [
       "Pipeline(steps=[('scaler', StandardScaler()), ('model', SVC())])"
      ]
     },
     "execution_count": 175,
     "metadata": {},
     "output_type": "execute_result"
    }
   ],
   "source": [
    "model = gs.best_estimator_\n",
    "model.fit(X_train, y_train)"
   ]
  },
  {
   "cell_type": "code",
   "execution_count": 176,
   "id": "8ae6e463",
   "metadata": {},
   "outputs": [
    {
     "name": "stdout",
     "output_type": "stream",
     "text": [
      "학습 데이터 점수: 0.975\n",
      "평가 데이터 점수: 0.9666666666666667\n"
     ]
    }
   ],
   "source": [
    "print('학습 데이터 점수: {}'.format(model.score(X_train, y_train)))\n",
    "print('평가 데이터 점수: {}'.format(model.score(X_test, y_test)))"
   ]
  },
  {
   "cell_type": "markdown",
   "id": "33b2d0b7",
   "metadata": {},
   "source": [
    "-> 처음보다는 성능이 거의 똑같음"
   ]
  },
  {
   "cell_type": "markdown",
   "id": "b461e50f",
   "metadata": {},
   "source": [
    "# 3. 와인"
   ]
  },
  {
   "cell_type": "code",
   "execution_count": 177,
   "id": "4434f4da",
   "metadata": {},
   "outputs": [],
   "source": [
    "X, y = load_wine(return_X_y = True)\n",
    "X_train, X_test, y_train, y_test = train_test_split(X, y, test_size = 0.2)"
   ]
  },
  {
   "cell_type": "code",
   "execution_count": 178,
   "id": "9fce34ed",
   "metadata": {},
   "outputs": [
    {
     "data": {
      "text/plain": [
       "SVC()"
      ]
     },
     "execution_count": 178,
     "metadata": {},
     "output_type": "execute_result"
    }
   ],
   "source": [
    "scaler = StandardScaler()\n",
    "scaler.fit(X_train)\n",
    "X_train = scaler.transform(X_train)\n",
    "X_test = scaler.transform(X_test)\n",
    "\n",
    "model = SVC(kernel = 'rbf')\n",
    "model.fit(X_train, y_train)"
   ]
  },
  {
   "cell_type": "code",
   "execution_count": 179,
   "id": "02d83a7f",
   "metadata": {},
   "outputs": [
    {
     "name": "stdout",
     "output_type": "stream",
     "text": [
      "학습 데이터 점수: 1.0\n",
      "평가 데이터 점수: 0.9444444444444444\n"
     ]
    }
   ],
   "source": [
    "print('학습 데이터 점수: {}'.format(model.score(X_train, y_train)))\n",
    "print('평가 데이터 점수: {}'.format(model.score(X_test, y_test)))"
   ]
  },
  {
   "cell_type": "markdown",
   "id": "3c3b97be",
   "metadata": {},
   "source": [
    "### 시각화 "
   ]
  },
  {
   "cell_type": "code",
   "execution_count": 148,
   "id": "25546bc2",
   "metadata": {},
   "outputs": [],
   "source": [
    "# 구분되는 선을 보여주기\n",
    "def make_meshgrid(x, y, h = .02):\n",
    "    x_min, x_max = x.min()-1, x.max()+1\n",
    "    y_min, y_max = y.min()-1, y.max()+1\n",
    "    xx, yy = np.meshgrid(np.arange(x_min, x_max, h),\n",
    "                        np.arange(y_min, y_max, h))\n",
    "    return xx, yy"
   ]
  },
  {
   "cell_type": "code",
   "execution_count": 149,
   "id": "ff89a019",
   "metadata": {},
   "outputs": [],
   "source": [
    "def plot_contours(clf, xx, yy, **params):\n",
    "    Z = clf.predict(np.c_[xx.ravel(), yy.ravel()]) #x와 y의 값을 넣어주기\n",
    "    Z = Z.reshape(xx.shape)\n",
    "    out = plt.contourf(xx, yy, Z, **params)\n",
    "    \n",
    "    return out"
   ]
  },
  {
   "cell_type": "code",
   "execution_count": 180,
   "id": "ff76194f",
   "metadata": {},
   "outputs": [],
   "source": [
    "X_comp = TSNE(n_components=2).fit_transform(X)\n",
    "X0, X1 = X_comp[:, 0], X_comp[:, 1]\n",
    "xx, yy = make_meshgrid(X0, X1)"
   ]
  },
  {
   "cell_type": "markdown",
   "id": "a140d931",
   "metadata": {},
   "source": [
    "- SVC 결과 확인"
   ]
  },
  {
   "cell_type": "code",
   "execution_count": 181,
   "id": "f29882f8",
   "metadata": {},
   "outputs": [
    {
     "data": {
      "image/png": "[encoded data removed]",
      "text/plain": [
       "<Figure size 432x288 with 1 Axes>"
      ]
     },
     "metadata": {},
     "output_type": "display_data"
    }
   ],
   "source": [
    "model.fit(X_comp, y)\n",
    "\n",
    "plot_contours(model, xx, yy, cmap = plt.cm.coolwarm, alpha = 0.7)\n",
    "plt.scatter(X0, X1,c = y, cmap = plt.cm.coolwarm, s = 20, edgecolors='k');"
   ]
  },
  {
   "cell_type": "markdown",
   "id": "c69b983f",
   "metadata": {},
   "source": [
    "-> 차원이 축소되어 그렇지만 점수가 좋은 걸 보면 잘 구분됨"
   ]
  },
  {
   "cell_type": "markdown",
   "id": "450b09bf",
   "metadata": {},
   "source": [
    "- 파이프라인으로 cross validation 확인"
   ]
  },
  {
   "cell_type": "code",
   "execution_count": 182,
   "id": "8cece98a",
   "metadata": {},
   "outputs": [
    {
     "name": "stderr",
     "output_type": "stream",
     "text": [
      "[Parallel(n_jobs=8)]: Using backend LokyBackend with 8 concurrent workers.\n",
      "[Parallel(n_jobs=8)]: Done   2 out of   5 | elapsed:    0.0s remaining:    0.0s\n",
      "[Parallel(n_jobs=8)]: Done   5 out of   5 | elapsed:    0.0s finished\n"
     ]
    },
    {
     "data": {
      "text/plain": [
       "{'fit_time': array([0.0019958 , 0.0019958 , 0.0009985 , 0.00256157, 0.00156307]),\n",
       " 'score_time': array([0.00150943, 0.00156307, 0.00156307, 0.00100112, 0.00100112]),\n",
       " 'test_score': array([1.        , 0.97222222, 0.94444444, 1.        , 1.        ])}"
      ]
     },
     "execution_count": 182,
     "metadata": {},
     "output_type": "execute_result"
    }
   ],
   "source": [
    "estimator = make_pipeline(StandardScaler(), SVC(kernel = 'rbf'))\n",
    "\n",
    "cross_validate(\n",
    "    estimator = estimator, X = X, y = y, \n",
    "    cv = 5, n_jobs = multiprocessing.cpu_count(),\n",
    "    verbose= True)"
   ]
  },
  {
   "cell_type": "markdown",
   "id": "a1acf49b",
   "metadata": {},
   "source": [
    "- 최적의 파라미터 찾기"
   ]
  },
  {
   "cell_type": "code",
   "execution_count": 183,
   "id": "40999866",
   "metadata": {},
   "outputs": [
    {
     "name": "stdout",
     "output_type": "stream",
     "text": [
      "Fitting 5 folds for each of 6 candidates, totalling 30 fits\n"
     ]
    },
    {
     "data": {
      "text/plain": [
       "GridSearchCV(cv=5,\n",
       "             estimator=Pipeline(steps=[('scaler', StandardScaler()),\n",
       "                                       ('model', SVC())]),\n",
       "             n_jobs=8,\n",
       "             param_grid=[{'model__C': [1.0, 0.1, 0.01],\n",
       "                          'model__gamma': ['scale', 'auto']}],\n",
       "             verbose=True)"
      ]
     },
     "execution_count": 183,
     "metadata": {},
     "output_type": "execute_result"
    }
   ],
   "source": [
    "pipe = Pipeline([('scaler', StandardScaler()),\n",
    "                ('model', SVC(kernel = 'rbf'))])\n",
    "\n",
    "param_grid = [{'model__gamma' : ['scale', 'auto'],\n",
    "             'model__C': [1.0, 0.1, 0.01]}]\n",
    "\n",
    "gs = GridSearchCV(\n",
    "    estimator = pipe,\n",
    "    param_grid = param_grid, \n",
    "    n_jobs = multiprocessing.cpu_count(),\n",
    "    cv = 5,\n",
    "    verbose = True\n",
    ")\n",
    "\n",
    "gs.fit(X, y)"
   ]
  },
  {
   "cell_type": "code",
   "execution_count": 184,
   "id": "e6773c89",
   "metadata": {
    "scrolled": true
   },
   "outputs": [
    {
     "data": {
      "text/plain": [
       "Pipeline(steps=[('scaler', StandardScaler()), ('model', SVC())])"
      ]
     },
     "execution_count": 184,
     "metadata": {},
     "output_type": "execute_result"
    }
   ],
   "source": [
    "# 최적의 파라미터\n",
    "gs.best_estimator_"
   ]
  },
  {
   "cell_type": "code",
   "execution_count": 185,
   "id": "72a9f953",
   "metadata": {},
   "outputs": [
    {
     "name": "stdout",
     "output_type": "stream",
     "text": [
      "학습 데이터 점수: 1.0\n",
      "평가 데이터 점수: 0.9444444444444444\n"
     ]
    }
   ],
   "source": [
    "model = gs.best_estimator_\n",
    "model.fit(X_train, y_train)\n",
    "\n",
    "print('학습 데이터 점수: {}'.format(model.score(X_train, y_train)))\n",
    "print('평가 데이터 점수: {}'.format(model.score(X_test, y_test)))"
   ]
  },
  {
   "cell_type": "code",
   "execution_count": null,
   "id": "a6543363",
   "metadata": {},
   "outputs": [],
   "source": []
  }
 ],
 "metadata": {
  "kernelspec": {
   "display_name": "Python 3 (ipykernel)",
   "language": "python",
   "name": "python3"
  },
  "language_info": {
   "codemirror_mode": {
    "name": "ipython",
    "version": 3
   },
   "file_extension": ".py",
   "mimetype": "text/x-python",
   "name": "python",
   "nbconvert_exporter": "python",
   "pygments_lexer": "ipython3",
   "version": "3.9.12"
  }
 },
 "nbformat": 4,
 "nbformat_minor": 5
}
