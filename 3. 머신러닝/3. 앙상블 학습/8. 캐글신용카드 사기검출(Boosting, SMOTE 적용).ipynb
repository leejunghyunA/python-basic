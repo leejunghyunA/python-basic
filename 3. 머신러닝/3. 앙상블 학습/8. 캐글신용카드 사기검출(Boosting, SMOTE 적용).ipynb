{
 "cells": [
  {
   "cell_type": "markdown",
   "id": "54f9fd32",
   "metadata": {},
   "source": [
    "# 캐글신용카드 사기검출\n",
    "## Boosting, SMOTE 오버 샘플링 적용\n",
    "\n",
    "레이블이 불균형한 분포를 가진 데이터 세트를 학습시킬 때 (99 : 0.01_이상레이블을 가진 건수가 정상레이블을 가진 건수에 비해 너무 작을 때) 정상 레이블로 치우친 학습을 수행하게 됨 -> 이상 데이터 검출이 어려움\n",
    "\n",
    "불균형한 레이블 값 분포를 적절한 학습 데이터로 보완하는 방법\n",
    "1. 오버 샘플링 : 적은 레이블을 가진 데이터 세트를 많은 레이블을 가진 데이터 만큼 증식\n",
    "  - 예측 성능상 조금 유리한 경우가 많아 상대적으로 많이 사용됨\n",
    "  - 과적합을 방지하기 위해 원본 데이터 피처 값을 약간씩 변경 필요 (대표적인 방법: SMOTE)\n",
    "  - SMOTE : 적은 데이터 세트에 있는 개별 데이터들의 K 최근접 이웃을 찾아서 해당 데이터와 K개 이웃들의 차이를 일정 값으로 만들어 기존 데이터와 약간 차이가 나는 새로운 데이터들을 생성하는 방식\n",
    "  \n",
    "\n",
    "2. 언더 샘플링 \n",
    "  - 많은 데이터 세트를 적은 데이터 만큼 감소\n",
    "  - 정상 레이블의 경우 제대로 된 학습을 수행할 수 없는 문제 발생"
   ]
  },
  {
   "cell_type": "markdown",
   "id": "75c0c0cb",
   "metadata": {},
   "source": [
    "## 1. 데이터 확인 및 일차 가공 및 모델학습/ 예측/평가"
   ]
  },
  {
   "cell_type": "markdown",
   "id": "b6215d7f",
   "metadata": {},
   "source": [
    "### 1) 데이터 불러오기"
   ]
  },
  {
   "cell_type": "code",
   "execution_count": 4,
   "id": "f34c1049",
   "metadata": {},
   "outputs": [
    {
     "data": {
      "text/html": [
       "<div>\n",
       "<style scoped>\n",
       "    .dataframe tbody tr th:only-of-type {\n",
       "        vertical-align: middle;\n",
       "    }\n",
       "\n",
       "    .dataframe tbody tr th {\n",
       "        vertical-align: top;\n",
       "    }\n",
       "\n",
       "    .dataframe thead th {\n",
       "        text-align: right;\n",
       "    }\n",
       "</style>\n",
       "<table border=\"1\" class=\"dataframe\">\n",
       "  <thead>\n",
       "    <tr style=\"text-align: right;\">\n",
       "      <th></th>\n",
       "      <th>Time</th>\n",
       "      <th>V1</th>\n",
       "      <th>V2</th>\n",
       "      <th>V3</th>\n",
       "      <th>V4</th>\n",
       "      <th>V5</th>\n",
       "      <th>V6</th>\n",
       "      <th>V7</th>\n",
       "      <th>V8</th>\n",
       "      <th>V9</th>\n",
       "      <th>...</th>\n",
       "      <th>V21</th>\n",
       "      <th>V22</th>\n",
       "      <th>V23</th>\n",
       "      <th>V24</th>\n",
       "      <th>V25</th>\n",
       "      <th>V26</th>\n",
       "      <th>V27</th>\n",
       "      <th>V28</th>\n",
       "      <th>Amount</th>\n",
       "      <th>Class</th>\n",
       "    </tr>\n",
       "  </thead>\n",
       "  <tbody>\n",
       "    <tr>\n",
       "      <th>0</th>\n",
       "      <td>0.0</td>\n",
       "      <td>-1.359807</td>\n",
       "      <td>-0.072781</td>\n",
       "      <td>2.536347</td>\n",
       "      <td>1.378155</td>\n",
       "      <td>-0.338321</td>\n",
       "      <td>0.462388</td>\n",
       "      <td>0.239599</td>\n",
       "      <td>0.098698</td>\n",
       "      <td>0.363787</td>\n",
       "      <td>...</td>\n",
       "      <td>-0.018307</td>\n",
       "      <td>0.277838</td>\n",
       "      <td>-0.110474</td>\n",
       "      <td>0.066928</td>\n",
       "      <td>0.128539</td>\n",
       "      <td>-0.189115</td>\n",
       "      <td>0.133558</td>\n",
       "      <td>-0.021053</td>\n",
       "      <td>149.62</td>\n",
       "      <td>0</td>\n",
       "    </tr>\n",
       "    <tr>\n",
       "      <th>1</th>\n",
       "      <td>0.0</td>\n",
       "      <td>1.191857</td>\n",
       "      <td>0.266151</td>\n",
       "      <td>0.166480</td>\n",
       "      <td>0.448154</td>\n",
       "      <td>0.060018</td>\n",
       "      <td>-0.082361</td>\n",
       "      <td>-0.078803</td>\n",
       "      <td>0.085102</td>\n",
       "      <td>-0.255425</td>\n",
       "      <td>...</td>\n",
       "      <td>-0.225775</td>\n",
       "      <td>-0.638672</td>\n",
       "      <td>0.101288</td>\n",
       "      <td>-0.339846</td>\n",
       "      <td>0.167170</td>\n",
       "      <td>0.125895</td>\n",
       "      <td>-0.008983</td>\n",
       "      <td>0.014724</td>\n",
       "      <td>2.69</td>\n",
       "      <td>0</td>\n",
       "    </tr>\n",
       "    <tr>\n",
       "      <th>2</th>\n",
       "      <td>1.0</td>\n",
       "      <td>-1.358354</td>\n",
       "      <td>-1.340163</td>\n",
       "      <td>1.773209</td>\n",
       "      <td>0.379780</td>\n",
       "      <td>-0.503198</td>\n",
       "      <td>1.800499</td>\n",
       "      <td>0.791461</td>\n",
       "      <td>0.247676</td>\n",
       "      <td>-1.514654</td>\n",
       "      <td>...</td>\n",
       "      <td>0.247998</td>\n",
       "      <td>0.771679</td>\n",
       "      <td>0.909412</td>\n",
       "      <td>-0.689281</td>\n",
       "      <td>-0.327642</td>\n",
       "      <td>-0.139097</td>\n",
       "      <td>-0.055353</td>\n",
       "      <td>-0.059752</td>\n",
       "      <td>378.66</td>\n",
       "      <td>0</td>\n",
       "    </tr>\n",
       "    <tr>\n",
       "      <th>3</th>\n",
       "      <td>1.0</td>\n",
       "      <td>-0.966272</td>\n",
       "      <td>-0.185226</td>\n",
       "      <td>1.792993</td>\n",
       "      <td>-0.863291</td>\n",
       "      <td>-0.010309</td>\n",
       "      <td>1.247203</td>\n",
       "      <td>0.237609</td>\n",
       "      <td>0.377436</td>\n",
       "      <td>-1.387024</td>\n",
       "      <td>...</td>\n",
       "      <td>-0.108300</td>\n",
       "      <td>0.005274</td>\n",
       "      <td>-0.190321</td>\n",
       "      <td>-1.175575</td>\n",
       "      <td>0.647376</td>\n",
       "      <td>-0.221929</td>\n",
       "      <td>0.062723</td>\n",
       "      <td>0.061458</td>\n",
       "      <td>123.50</td>\n",
       "      <td>0</td>\n",
       "    </tr>\n",
       "    <tr>\n",
       "      <th>4</th>\n",
       "      <td>2.0</td>\n",
       "      <td>-1.158233</td>\n",
       "      <td>0.877737</td>\n",
       "      <td>1.548718</td>\n",
       "      <td>0.403034</td>\n",
       "      <td>-0.407193</td>\n",
       "      <td>0.095921</td>\n",
       "      <td>0.592941</td>\n",
       "      <td>-0.270533</td>\n",
       "      <td>0.817739</td>\n",
       "      <td>...</td>\n",
       "      <td>-0.009431</td>\n",
       "      <td>0.798278</td>\n",
       "      <td>-0.137458</td>\n",
       "      <td>0.141267</td>\n",
       "      <td>-0.206010</td>\n",
       "      <td>0.502292</td>\n",
       "      <td>0.219422</td>\n",
       "      <td>0.215153</td>\n",
       "      <td>69.99</td>\n",
       "      <td>0</td>\n",
       "    </tr>\n",
       "  </tbody>\n",
       "</table>\n",
       "<p>5 rows × 31 columns</p>\n",
       "</div>"
      ],
      "text/plain": [
       "   Time        V1        V2        V3        V4        V5        V6        V7  \\\n",
       "0   0.0 -1.359807 -0.072781  2.536347  1.378155 -0.338321  0.462388  0.239599   \n",
       "1   0.0  1.191857  0.266151  0.166480  0.448154  0.060018 -0.082361 -0.078803   \n",
       "2   1.0 -1.358354 -1.340163  1.773209  0.379780 -0.503198  1.800499  0.791461   \n",
       "3   1.0 -0.966272 -0.185226  1.792993 -0.863291 -0.010309  1.247203  0.237609   \n",
       "4   2.0 -1.158233  0.877737  1.548718  0.403034 -0.407193  0.095921  0.592941   \n",
       "\n",
       "         V8        V9  ...       V21       V22       V23       V24       V25  \\\n",
       "0  0.098698  0.363787  ... -0.018307  0.277838 -0.110474  0.066928  0.128539   \n",
       "1  0.085102 -0.255425  ... -0.225775 -0.638672  0.101288 -0.339846  0.167170   \n",
       "2  0.247676 -1.514654  ...  0.247998  0.771679  0.909412 -0.689281 -0.327642   \n",
       "3  0.377436 -1.387024  ... -0.108300  0.005274 -0.190321 -1.175575  0.647376   \n",
       "4 -0.270533  0.817739  ... -0.009431  0.798278 -0.137458  0.141267 -0.206010   \n",
       "\n",
       "        V26       V27       V28  Amount  Class  \n",
       "0 -0.189115  0.133558 -0.021053  149.62      0  \n",
       "1  0.125895 -0.008983  0.014724    2.69      0  \n",
       "2 -0.139097 -0.055353 -0.059752  378.66      0  \n",
       "3 -0.221929  0.062723  0.061458  123.50      0  \n",
       "4  0.502292  0.219422  0.215153   69.99      0  \n",
       "\n",
       "[5 rows x 31 columns]"
      ]
     },
     "execution_count": 4,
     "metadata": {},
     "output_type": "execute_result"
    }
   ],
   "source": [
    "import pandas as pd\n",
    "import numpy as np\n",
    "import matplotlib.pyplot as plt\n",
    "import warnings\n",
    "warnings.filterwarnings('ignore')\n",
    "\n",
    "card_df = pd.read_csv('creditcard.csv')\n",
    "card_df.head()"
   ]
  },
  {
   "cell_type": "markdown",
   "id": "9097a3e1",
   "metadata": {},
   "source": [
    "### 2) 필요 값 반환하는 함수 생성(가공데이터반환, 학습용/test용 반환)"
   ]
  },
  {
   "cell_type": "code",
   "execution_count": 6,
   "id": "c593149d",
   "metadata": {},
   "outputs": [],
   "source": [
    "from sklearn.model_selection import train_test_split\n",
    "\n",
    "# 필요컬럼만 추출하는 함수 생성\n",
    "def get_preprocessed_df(df=None):\n",
    "    df_copy = df.copy()\n",
    "    df_copy.drop('Time', axis=1, inplace=True) # Time컬럼은 필요 없어서 삭제\n",
    "    return df_copy\n",
    "\n",
    "# 학습과 test 데이터 세트를 반환하는 함수\n",
    "def get_train_test_dataset(df=None):\n",
    "    df_copy = get_preprocessed_df(df)\n",
    "    \n",
    "    # 데이터의 맨 마지막 칼럼이 레이블, 나머지는 피처\n",
    "    X_fea = df_copy.iloc[:, :-1]\n",
    "    y_la = df_copy.iloc[:, -1]\n",
    "    \n",
    "    # 데이터 학습, 테스트 용 분할\n",
    "    X_train, X_test, y_train, y_test = train_test_split(X_fea, y_la, test_size = 0.3, random_state=0, stratify=y_la) # Stratified 기반 분할\n",
    "    \n",
    "    return X_train, X_test, y_train, y_test\n",
    "\n",
    "X_train, X_test, y_train, y_test = get_train_test_dataset(card_df)"
   ]
  },
  {
   "cell_type": "markdown",
   "id": "9037ff7b",
   "metadata": {},
   "source": [
    "### 3) 값 확인"
   ]
  },
  {
   "cell_type": "code",
   "execution_count": 16,
   "id": "4694fb4c",
   "metadata": {
    "scrolled": true
   },
   "outputs": [
    {
     "name": "stdout",
     "output_type": "stream",
     "text": [
      "학습 데이터 레이블 값 비율\n",
      "0    0.998275\n",
      "1    0.001725\n",
      "Name: Class, dtype: float64\n",
      "테스트 데이터 레이블 값 비율\n",
      "0    0.998268\n",
      "1    0.001732\n",
      "Name: Class, dtype: float64\n"
     ]
    }
   ],
   "source": [
    "# 값 확인\n",
    "print('학습 데이터 레이블 값 비율')\n",
    "print(y_train.value_counts()/len(y_train))\n",
    "print('테스트 데이터 레이블 값 비율')\n",
    "print(y_test.value_counts()/len(y_test))"
   ]
  },
  {
   "cell_type": "markdown",
   "id": "2401aaa2",
   "metadata": {},
   "source": [
    "-> 학습데이터, 테스트데이터 레이블 값 비율이 거의 비슷하게 분할됨"
   ]
  },
  {
   "cell_type": "markdown",
   "id": "f758262a",
   "metadata": {},
   "source": [
    "### 4) 모델 학습 및 예측/평가 "
   ]
  },
  {
   "cell_type": "code",
   "execution_count": 11,
   "id": "ba0c3294",
   "metadata": {},
   "outputs": [],
   "source": [
    "# 오차행렬, 정확도, 정밀도, 재현율, f1, AUC 평가 함수\n",
    "from sklearn.metrics import confusion_matrix, accuracy_score, precision_score, recall_score, f1_score\n",
    "from sklearn.metrics import roc_auc_score\n",
    "\n",
    "def get_clf_eval(y_test, pred, pred_proba):\n",
    "    confusion = confusion_matrix( y_test, pred)\n",
    "    accuracy = accuracy_score(y_test , pred)\n",
    "    precision = precision_score(y_test , pred)\n",
    "    recall = recall_score(y_test , pred)\n",
    "    f1 = f1_score(y_test,pred)\n",
    "    # ROC-AUC 추가 \n",
    "    roc_auc = roc_auc_score(y_test, pred_proba)\n",
    "    print('오차 행렬')\n",
    "    print(confusion)\n",
    "    # ROC-AUC print 추가\n",
    "    print('정확도: {0:.4f}, 정밀도: {1:.4f}, 재현율: {2:.4f},\\\n",
    "    F1: {3:.4f}, AUC:{4:.4f}'.format(accuracy, precision, recall, f1, roc_auc))"
   ]
  },
  {
   "cell_type": "markdown",
   "id": "660946ac",
   "metadata": {},
   "source": [
    "- 로지스틱 모델 학습"
   ]
  },
  {
   "cell_type": "code",
   "execution_count": 12,
   "id": "f31a7326",
   "metadata": {},
   "outputs": [
    {
     "name": "stdout",
     "output_type": "stream",
     "text": [
      "오차 행렬\n",
      "[[85282    13]\n",
      " [   58    90]]\n",
      "정확도: 0.9992, 정밀도: 0.8738, 재현율: 0.6081,    F1: 0.7171, AUC:0.9584\n"
     ]
    }
   ],
   "source": [
    "from sklearn.linear_model import LogisticRegression\n",
    "lr_clf = LogisticRegression()\n",
    "lr_clf.fit(X_train, y_train)\n",
    "lr_pred = lr_clf.predict(X_test)\n",
    "lr_predproba = lr_clf.predict_proba(X_test)[:, 1]\n",
    "\n",
    "get_clf_eval(y_test, lr_pred, lr_predproba)"
   ]
  },
  {
   "cell_type": "code",
   "execution_count": 19,
   "id": "8211a9db",
   "metadata": {},
   "outputs": [],
   "source": [
    "# 위 방법을 좀 더 간단하게 모델도 인자로 집어넣어 구하는 함수 생성\n",
    "def get_model_train_eval(model, ftr_train = None, ftr_test=None, tgt_train=None, tgt_test=None):\n",
    "    model.fit(ftr_train, tgt_train)\n",
    "    pred = model.predict(ftr_test)\n",
    "    pred_proba = model.predict_proba(ftr_test)[:, 1]\n",
    "    get_clf_eval(tgt_test, pred, pred_proba)"
   ]
  },
  {
   "cell_type": "markdown",
   "id": "597d3bc9",
   "metadata": {},
   "source": [
    "- LGBM 모델 학습"
   ]
  },
  {
   "cell_type": "code",
   "execution_count": 20,
   "id": "205a96b8",
   "metadata": {},
   "outputs": [
    {
     "name": "stdout",
     "output_type": "stream",
     "text": [
      "오차 행렬\n",
      "[[85290     5]\n",
      " [   36   112]]\n",
      "정확도: 0.9995, 정밀도: 0.9573, 재현율: 0.7568,    F1: 0.8453, AUC:0.9790\n"
     ]
    }
   ],
   "source": [
    "# LGBM 모델 생성\n",
    "from lightgbm import LGBMClassifier\n",
    "\n",
    "lgbm_clf = LGBMClassifier(n_estimators=1000, num_leaves = 64, n_jobs=-1, boost_from_average=False) # n_jobs 코어수에대한 옵션(-1은 전부 사용한다는 의미)\n",
    "get_model_train_eval(lgbm_clf, ftr_train=X_train, ftr_test=X_test, tgt_train=y_train, tgt_test=y_test)"
   ]
  },
  {
   "cell_type": "markdown",
   "id": "94d1b20b",
   "metadata": {},
   "source": [
    "=> 로지스틱보다 좀 더 개선된 값으로 나옴(정확도: 0.9992, 정밀도: 0.8738, 재현율: 0.6081,    F1: 0.7171, AUC:0.9584)"
   ]
  },
  {
   "cell_type": "markdown",
   "id": "0af40e5f",
   "metadata": {},
   "source": [
    "#### 과제09_22_1. 상기 과제에 대하여 다음을 수행하세요.\n",
    "- 데이터 분포도 변환 후 모델 학습/예측/평가\n",
    "- 이상치 데이터 제거 후 모델 학습/예측/평가\n",
    "- SMOTE 오버 샘플링 적용 후 모델 학습/예측/평가"
   ]
  },
  {
   "cell_type": "markdown",
   "id": "8af2ef31",
   "metadata": {},
   "source": [
    "## 2. 데이터 분포도 변환 후 모델 학습/예측/평가"
   ]
  },
  {
   "cell_type": "code",
   "execution_count": 23,
   "id": "adaabe38",
   "metadata": {},
   "outputs": [
    {
     "data": {
      "text/html": [
       "<div>\n",
       "<style scoped>\n",
       "    .dataframe tbody tr th:only-of-type {\n",
       "        vertical-align: middle;\n",
       "    }\n",
       "\n",
       "    .dataframe tbody tr th {\n",
       "        vertical-align: top;\n",
       "    }\n",
       "\n",
       "    .dataframe thead th {\n",
       "        text-align: right;\n",
       "    }\n",
       "</style>\n",
       "<table border=\"1\" class=\"dataframe\">\n",
       "  <thead>\n",
       "    <tr style=\"text-align: right;\">\n",
       "      <th></th>\n",
       "      <th>Time</th>\n",
       "      <th>V1</th>\n",
       "      <th>V2</th>\n",
       "      <th>V3</th>\n",
       "      <th>V4</th>\n",
       "      <th>V5</th>\n",
       "      <th>V6</th>\n",
       "      <th>V7</th>\n",
       "      <th>V8</th>\n",
       "      <th>V9</th>\n",
       "      <th>...</th>\n",
       "      <th>V21</th>\n",
       "      <th>V22</th>\n",
       "      <th>V23</th>\n",
       "      <th>V24</th>\n",
       "      <th>V25</th>\n",
       "      <th>V26</th>\n",
       "      <th>V27</th>\n",
       "      <th>V28</th>\n",
       "      <th>Amount</th>\n",
       "      <th>Class</th>\n",
       "    </tr>\n",
       "  </thead>\n",
       "  <tbody>\n",
       "    <tr>\n",
       "      <th>count</th>\n",
       "      <td>284807.000000</td>\n",
       "      <td>2.848070e+05</td>\n",
       "      <td>2.848070e+05</td>\n",
       "      <td>2.848070e+05</td>\n",
       "      <td>2.848070e+05</td>\n",
       "      <td>2.848070e+05</td>\n",
       "      <td>2.848070e+05</td>\n",
       "      <td>2.848070e+05</td>\n",
       "      <td>2.848070e+05</td>\n",
       "      <td>2.848070e+05</td>\n",
       "      <td>...</td>\n",
       "      <td>2.848070e+05</td>\n",
       "      <td>2.848070e+05</td>\n",
       "      <td>2.848070e+05</td>\n",
       "      <td>2.848070e+05</td>\n",
       "      <td>2.848070e+05</td>\n",
       "      <td>2.848070e+05</td>\n",
       "      <td>2.848070e+05</td>\n",
       "      <td>2.848070e+05</td>\n",
       "      <td>284807.000000</td>\n",
       "      <td>284807.000000</td>\n",
       "    </tr>\n",
       "    <tr>\n",
       "      <th>mean</th>\n",
       "      <td>94813.859575</td>\n",
       "      <td>1.168375e-15</td>\n",
       "      <td>3.416908e-16</td>\n",
       "      <td>-1.379537e-15</td>\n",
       "      <td>2.074095e-15</td>\n",
       "      <td>9.604066e-16</td>\n",
       "      <td>1.487313e-15</td>\n",
       "      <td>-5.556467e-16</td>\n",
       "      <td>1.213481e-16</td>\n",
       "      <td>-2.406331e-15</td>\n",
       "      <td>...</td>\n",
       "      <td>1.654067e-16</td>\n",
       "      <td>-3.568593e-16</td>\n",
       "      <td>2.578648e-16</td>\n",
       "      <td>4.473266e-15</td>\n",
       "      <td>5.340915e-16</td>\n",
       "      <td>1.683437e-15</td>\n",
       "      <td>-3.660091e-16</td>\n",
       "      <td>-1.227390e-16</td>\n",
       "      <td>88.349619</td>\n",
       "      <td>0.001727</td>\n",
       "    </tr>\n",
       "    <tr>\n",
       "      <th>std</th>\n",
       "      <td>47488.145955</td>\n",
       "      <td>1.958696e+00</td>\n",
       "      <td>1.651309e+00</td>\n",
       "      <td>1.516255e+00</td>\n",
       "      <td>1.415869e+00</td>\n",
       "      <td>1.380247e+00</td>\n",
       "      <td>1.332271e+00</td>\n",
       "      <td>1.237094e+00</td>\n",
       "      <td>1.194353e+00</td>\n",
       "      <td>1.098632e+00</td>\n",
       "      <td>...</td>\n",
       "      <td>7.345240e-01</td>\n",
       "      <td>7.257016e-01</td>\n",
       "      <td>6.244603e-01</td>\n",
       "      <td>6.056471e-01</td>\n",
       "      <td>5.212781e-01</td>\n",
       "      <td>4.822270e-01</td>\n",
       "      <td>4.036325e-01</td>\n",
       "      <td>3.300833e-01</td>\n",
       "      <td>250.120109</td>\n",
       "      <td>0.041527</td>\n",
       "    </tr>\n",
       "    <tr>\n",
       "      <th>min</th>\n",
       "      <td>0.000000</td>\n",
       "      <td>-5.640751e+01</td>\n",
       "      <td>-7.271573e+01</td>\n",
       "      <td>-4.832559e+01</td>\n",
       "      <td>-5.683171e+00</td>\n",
       "      <td>-1.137433e+02</td>\n",
       "      <td>-2.616051e+01</td>\n",
       "      <td>-4.355724e+01</td>\n",
       "      <td>-7.321672e+01</td>\n",
       "      <td>-1.343407e+01</td>\n",
       "      <td>...</td>\n",
       "      <td>-3.483038e+01</td>\n",
       "      <td>-1.093314e+01</td>\n",
       "      <td>-4.480774e+01</td>\n",
       "      <td>-2.836627e+00</td>\n",
       "      <td>-1.029540e+01</td>\n",
       "      <td>-2.604551e+00</td>\n",
       "      <td>-2.256568e+01</td>\n",
       "      <td>-1.543008e+01</td>\n",
       "      <td>0.000000</td>\n",
       "      <td>0.000000</td>\n",
       "    </tr>\n",
       "    <tr>\n",
       "      <th>25%</th>\n",
       "      <td>54201.500000</td>\n",
       "      <td>-9.203734e-01</td>\n",
       "      <td>-5.985499e-01</td>\n",
       "      <td>-8.903648e-01</td>\n",
       "      <td>-8.486401e-01</td>\n",
       "      <td>-6.915971e-01</td>\n",
       "      <td>-7.682956e-01</td>\n",
       "      <td>-5.540759e-01</td>\n",
       "      <td>-2.086297e-01</td>\n",
       "      <td>-6.430976e-01</td>\n",
       "      <td>...</td>\n",
       "      <td>-2.283949e-01</td>\n",
       "      <td>-5.423504e-01</td>\n",
       "      <td>-1.618463e-01</td>\n",
       "      <td>-3.545861e-01</td>\n",
       "      <td>-3.171451e-01</td>\n",
       "      <td>-3.269839e-01</td>\n",
       "      <td>-7.083953e-02</td>\n",
       "      <td>-5.295979e-02</td>\n",
       "      <td>5.600000</td>\n",
       "      <td>0.000000</td>\n",
       "    </tr>\n",
       "    <tr>\n",
       "      <th>50%</th>\n",
       "      <td>84692.000000</td>\n",
       "      <td>1.810880e-02</td>\n",
       "      <td>6.548556e-02</td>\n",
       "      <td>1.798463e-01</td>\n",
       "      <td>-1.984653e-02</td>\n",
       "      <td>-5.433583e-02</td>\n",
       "      <td>-2.741871e-01</td>\n",
       "      <td>4.010308e-02</td>\n",
       "      <td>2.235804e-02</td>\n",
       "      <td>-5.142873e-02</td>\n",
       "      <td>...</td>\n",
       "      <td>-2.945017e-02</td>\n",
       "      <td>6.781943e-03</td>\n",
       "      <td>-1.119293e-02</td>\n",
       "      <td>4.097606e-02</td>\n",
       "      <td>1.659350e-02</td>\n",
       "      <td>-5.213911e-02</td>\n",
       "      <td>1.342146e-03</td>\n",
       "      <td>1.124383e-02</td>\n",
       "      <td>22.000000</td>\n",
       "      <td>0.000000</td>\n",
       "    </tr>\n",
       "    <tr>\n",
       "      <th>75%</th>\n",
       "      <td>139320.500000</td>\n",
       "      <td>1.315642e+00</td>\n",
       "      <td>8.037239e-01</td>\n",
       "      <td>1.027196e+00</td>\n",
       "      <td>7.433413e-01</td>\n",
       "      <td>6.119264e-01</td>\n",
       "      <td>3.985649e-01</td>\n",
       "      <td>5.704361e-01</td>\n",
       "      <td>3.273459e-01</td>\n",
       "      <td>5.971390e-01</td>\n",
       "      <td>...</td>\n",
       "      <td>1.863772e-01</td>\n",
       "      <td>5.285536e-01</td>\n",
       "      <td>1.476421e-01</td>\n",
       "      <td>4.395266e-01</td>\n",
       "      <td>3.507156e-01</td>\n",
       "      <td>2.409522e-01</td>\n",
       "      <td>9.104512e-02</td>\n",
       "      <td>7.827995e-02</td>\n",
       "      <td>77.165000</td>\n",
       "      <td>0.000000</td>\n",
       "    </tr>\n",
       "    <tr>\n",
       "      <th>max</th>\n",
       "      <td>172792.000000</td>\n",
       "      <td>2.454930e+00</td>\n",
       "      <td>2.205773e+01</td>\n",
       "      <td>9.382558e+00</td>\n",
       "      <td>1.687534e+01</td>\n",
       "      <td>3.480167e+01</td>\n",
       "      <td>7.330163e+01</td>\n",
       "      <td>1.205895e+02</td>\n",
       "      <td>2.000721e+01</td>\n",
       "      <td>1.559499e+01</td>\n",
       "      <td>...</td>\n",
       "      <td>2.720284e+01</td>\n",
       "      <td>1.050309e+01</td>\n",
       "      <td>2.252841e+01</td>\n",
       "      <td>4.584549e+00</td>\n",
       "      <td>7.519589e+00</td>\n",
       "      <td>3.517346e+00</td>\n",
       "      <td>3.161220e+01</td>\n",
       "      <td>3.384781e+01</td>\n",
       "      <td>25691.160000</td>\n",
       "      <td>1.000000</td>\n",
       "    </tr>\n",
       "  </tbody>\n",
       "</table>\n",
       "<p>8 rows × 31 columns</p>\n",
       "</div>"
      ],
      "text/plain": [
       "                Time            V1            V2            V3            V4  \\\n",
       "count  284807.000000  2.848070e+05  2.848070e+05  2.848070e+05  2.848070e+05   \n",
       "mean    94813.859575  1.168375e-15  3.416908e-16 -1.379537e-15  2.074095e-15   \n",
       "std     47488.145955  1.958696e+00  1.651309e+00  1.516255e+00  1.415869e+00   \n",
       "min         0.000000 -5.640751e+01 -7.271573e+01 -4.832559e+01 -5.683171e+00   \n",
       "25%     54201.500000 -9.203734e-01 -5.985499e-01 -8.903648e-01 -8.486401e-01   \n",
       "50%     84692.000000  1.810880e-02  6.548556e-02  1.798463e-01 -1.984653e-02   \n",
       "75%    139320.500000  1.315642e+00  8.037239e-01  1.027196e+00  7.433413e-01   \n",
       "max    172792.000000  2.454930e+00  2.205773e+01  9.382558e+00  1.687534e+01   \n",
       "\n",
       "                 V5            V6            V7            V8            V9  \\\n",
       "count  2.848070e+05  2.848070e+05  2.848070e+05  2.848070e+05  2.848070e+05   \n",
       "mean   9.604066e-16  1.487313e-15 -5.556467e-16  1.213481e-16 -2.406331e-15   \n",
       "std    1.380247e+00  1.332271e+00  1.237094e+00  1.194353e+00  1.098632e+00   \n",
       "min   -1.137433e+02 -2.616051e+01 -4.355724e+01 -7.321672e+01 -1.343407e+01   \n",
       "25%   -6.915971e-01 -7.682956e-01 -5.540759e-01 -2.086297e-01 -6.430976e-01   \n",
       "50%   -5.433583e-02 -2.741871e-01  4.010308e-02  2.235804e-02 -5.142873e-02   \n",
       "75%    6.119264e-01  3.985649e-01  5.704361e-01  3.273459e-01  5.971390e-01   \n",
       "max    3.480167e+01  7.330163e+01  1.205895e+02  2.000721e+01  1.559499e+01   \n",
       "\n",
       "       ...           V21           V22           V23           V24  \\\n",
       "count  ...  2.848070e+05  2.848070e+05  2.848070e+05  2.848070e+05   \n",
       "mean   ...  1.654067e-16 -3.568593e-16  2.578648e-16  4.473266e-15   \n",
       "std    ...  7.345240e-01  7.257016e-01  6.244603e-01  6.056471e-01   \n",
       "min    ... -3.483038e+01 -1.093314e+01 -4.480774e+01 -2.836627e+00   \n",
       "25%    ... -2.283949e-01 -5.423504e-01 -1.618463e-01 -3.545861e-01   \n",
       "50%    ... -2.945017e-02  6.781943e-03 -1.119293e-02  4.097606e-02   \n",
       "75%    ...  1.863772e-01  5.285536e-01  1.476421e-01  4.395266e-01   \n",
       "max    ...  2.720284e+01  1.050309e+01  2.252841e+01  4.584549e+00   \n",
       "\n",
       "                V25           V26           V27           V28         Amount  \\\n",
       "count  2.848070e+05  2.848070e+05  2.848070e+05  2.848070e+05  284807.000000   \n",
       "mean   5.340915e-16  1.683437e-15 -3.660091e-16 -1.227390e-16      88.349619   \n",
       "std    5.212781e-01  4.822270e-01  4.036325e-01  3.300833e-01     250.120109   \n",
       "min   -1.029540e+01 -2.604551e+00 -2.256568e+01 -1.543008e+01       0.000000   \n",
       "25%   -3.171451e-01 -3.269839e-01 -7.083953e-02 -5.295979e-02       5.600000   \n",
       "50%    1.659350e-02 -5.213911e-02  1.342146e-03  1.124383e-02      22.000000   \n",
       "75%    3.507156e-01  2.409522e-01  9.104512e-02  7.827995e-02      77.165000   \n",
       "max    7.519589e+00  3.517346e+00  3.161220e+01  3.384781e+01   25691.160000   \n",
       "\n",
       "               Class  \n",
       "count  284807.000000  \n",
       "mean        0.001727  \n",
       "std         0.041527  \n",
       "min         0.000000  \n",
       "25%         0.000000  \n",
       "50%         0.000000  \n",
       "75%         0.000000  \n",
       "max         1.000000  \n",
       "\n",
       "[8 rows x 31 columns]"
      ]
     },
     "execution_count": 23,
     "metadata": {},
     "output_type": "execute_result"
    }
   ],
   "source": [
    "# 중요 피처값의 분포도 확인(왜곡된 분포도를 가지는 데이터를 재가공하기 위해)\n",
    "card_df.describe()"
   ]
  },
  {
   "cell_type": "markdown",
   "id": "a7b9d006",
   "metadata": {},
   "source": [
    "=> 대부분의 컬럼 값의 범위가 비슷 but Amount 컬럼이 표준변차 값 250으로 큼 (확인해보기)"
   ]
  },
  {
   "cell_type": "code",
   "execution_count": 27,
   "id": "3f606b96",
   "metadata": {
    "scrolled": true
   },
   "outputs": [
    {
     "data": {
      "image/png": "[encoded data removed]",
      "text/plain": [
       "<Figure size 576x288 with 1 Axes>"
      ]
     },
     "metadata": {
      "needs_background": "light"
     },
     "output_type": "display_data"
    }
   ],
   "source": [
    "import seaborn as sns\n",
    "\n",
    "plt.figure(figsize = (8, 4))\n",
    "plt.xticks(range(0, 28000, 1000), rotation=60)\n",
    "sns.histplot(card_df['Amount'], bins=100, kde=True)\n",
    "plt.show()"
   ]
  },
  {
   "cell_type": "code",
   "execution_count": 30,
   "id": "7eae94e8",
   "metadata": {},
   "outputs": [
    {
     "data": {
      "text/plain": [
       "1.00       13688\n",
       "1.98        6044\n",
       "0.89        4872\n",
       "9.99        4747\n",
       "15.00       3280\n",
       "           ...  \n",
       "62.09          1\n",
       "552.05         1\n",
       "1467.75        1\n",
       "196.68         1\n",
       "95.63          1\n",
       "Name: Amount, Length: 32767, dtype: int64"
      ]
     },
     "execution_count": 30,
     "metadata": {},
     "output_type": "execute_result"
    }
   ],
   "source": [
    "card_df['Amount'].value_counts()"
   ]
  },
  {
   "cell_type": "markdown",
   "id": "32fbe238",
   "metadata": {},
   "source": [
    "=> 카드 사용금액이 1000불 이하인 데이터가 대부분, 전체 중 약 60%가 2불 미만/\n",
    "(정규분포 형태로 변환하기)"
   ]
  },
  {
   "cell_type": "markdown",
   "id": "05d9db17",
   "metadata": {},
   "source": [
    "### 1) StandardScaler 사용하여 정규분포 형태로 변환"
   ]
  },
  {
   "cell_type": "code",
   "execution_count": 33,
   "id": "51310a67",
   "metadata": {},
   "outputs": [],
   "source": [
    "# Amount 컬럼 정규분포 형태로 변환\n",
    "from sklearn.preprocessing import StandardScaler# 정규분포 형태로 변환해줌\n",
    "\n",
    "def get_preprocessed_df(df=None):\n",
    "    df_copy = df.copy()\n",
    "    scaler = StandardScaler()\n",
    "    amount_n = scaler.fit_transform(df_copy['Amount'].values.reshape(-1, 1))\n",
    "    #변환된 amount데이터를 DF 맨 앞에 입력\n",
    "    df_copy.insert(0, 'Amount_scaled', amount_n) #위치, 컬럼명, 대입 값 입력\n",
    "    df_copy.drop(['Time', 'Amount'], axis=1, inplace = True) # 필요없는 컬럼과 정규화하기전 컬럼 제거\n",
    "    return df_copy # 정규화된 컬럼이 있는 df 반환"
   ]
  },
  {
   "cell_type": "markdown",
   "id": "a0d99057",
   "metadata": {},
   "source": [
    "- 분포도 확인"
   ]
  },
  {
   "cell_type": "code",
   "execution_count": 43,
   "id": "46b91292",
   "metadata": {},
   "outputs": [
    {
     "data": {
      "text/plain": [
       "0.693147    13688\n",
       "1.091923     6044\n",
       "0.636577     4872\n",
       "2.396986     4747\n",
       "2.772589     3280\n",
       "            ...  \n",
       "4.144562        1\n",
       "6.315448        1\n",
       "7.292167        1\n",
       "5.286650        1\n",
       "4.570889        1\n",
       "Name: Amount_scaled, Length: 32767, dtype: int64"
      ]
     },
     "execution_count": 43,
     "metadata": {},
     "output_type": "execute_result"
    }
   ],
   "source": [
    "check_df = get_preprocessed_df(card_df)\n",
    "check_df['Amount_scaled'].value_counts()"
   ]
  },
  {
   "cell_type": "code",
   "execution_count": 44,
   "id": "b4b6d0aa",
   "metadata": {},
   "outputs": [
    {
     "data": {
      "image/png": "[encoded data removed]",
      "text/plain": [
       "<Figure size 576x288 with 1 Axes>"
      ]
     },
     "metadata": {
      "needs_background": "light"
     },
     "output_type": "display_data"
    }
   ],
   "source": [
    "plt.figure(figsize = (8, 4))\n",
    "plt.xticks(range(0, 28000, 1000), rotation=60)\n",
    "sns.histplot(check_df['Amount_scaled'], bins=100, kde=True)\n",
    "plt.show()"
   ]
  },
  {
   "cell_type": "markdown",
   "id": "e8ed9b4d",
   "metadata": {},
   "source": [
    "- 학습용, 테스트용 데이터를 생성 후 로지스틱과 LGBM모델로 학습/예측/평가"
   ]
  },
  {
   "cell_type": "code",
   "execution_count": 35,
   "id": "b4dc21f7",
   "metadata": {
    "scrolled": true
   },
   "outputs": [
    {
     "name": "stdout",
     "output_type": "stream",
     "text": [
      "---------로지스틱 회귀 예측 성능---------\n",
      "오차 행렬\n",
      "[[85281    14]\n",
      " [   58    90]]\n",
      "정확도: 0.9992, 정밀도: 0.8654, 재현율: 0.6081,    F1: 0.7143, AUC:0.9702\n",
      "---------LightGBM 예측 성능<boost_from_average 지정 안했을때>---------\n",
      "오차 행렬\n",
      "[[85256    39]\n",
      " [  121    27]]\n",
      "정확도: 0.9981, 정밀도: 0.4091, 재현율: 0.1824,    F1: 0.2523, AUC:0.5943\n",
      "---------LightGBM 예측 성능<boost_from_average=False로 지정 했을 때>---------\n",
      "오차 행렬\n",
      "[[85290     5]\n",
      " [   37   111]]\n",
      "정확도: 0.9995, 정밀도: 0.9569, 재현율: 0.7500,    F1: 0.8409, AUC:0.9779\n"
     ]
    }
   ],
   "source": [
    "# Amout를 정규 분포 형태로 변환 후 로지스틱 회귀 및 LGBM 수행\n",
    "\n",
    "X_train, X_test, y_train, y_test = get_train_test_dataset(card_df)\n",
    "\n",
    "print('---------로지스틱 회귀 예측 성능---------')\n",
    "lr_clf = LogisticRegression(max_iter=1000) #Gradient Descent 방식을 반복해서 몇번 수행할 것인지 지정\n",
    "get_model_train_eval(lr_clf, ftr_train=X_train, ftr_test=X_test, tgt_train=y_train, tgt_test=y_test) # 모델학습 인자로 집어넣어 평가 값 구하는 함수사용\n",
    "\n",
    "print('---------LightGBM 예측 성능<boost_from_average 지정 안했을때>---------')\n",
    "lgbm_clf = LGBMClassifier(n_estimators=1000, num_leaves=64, n_jobs=-1) \n",
    "get_model_train_eval(lgbm_clf, ftr_train=X_train, ftr_test=X_test, tgt_train=y_train, tgt_test=y_test) \n",
    "\n",
    "print('---------LightGBM 예측 성능<boost_from_average=False로 지정 했을 때>---------')\n",
    "lgbm_clf = LGBMClassifier(n_estimators=1000, num_leaves=64, n_jobs=-1, boost_from_average=False) \n",
    "get_model_train_eval(lgbm_clf, ftr_train=X_train, ftr_test=X_test, tgt_train=y_train, tgt_test=y_test) "
   ]
  },
  {
   "cell_type": "markdown",
   "id": "0a37f76f",
   "metadata": {},
   "source": [
    "- 데이터 변환 하기 전(로지스틱-정확도: 0.9992, 정밀도: 0.8738, 재현율: 0.6081,    F1: 0.7171, AUC:0.9584) 이랑 비교했을 때 큰 차이가 없음\n",
    "- LGBM의 변화 전 값(정확도: 0.9995, 정밀도: 0.9573, 재현율: 0.7568,    F1: 0.8453, AUC:0.9790)\n",
    "- 로지스틱: 정밀도와 재현율 둘다 저하, LGBM: 정밀도와 재현율이 약간 저하"
   ]
  },
  {
   "cell_type": "markdown",
   "id": "7543e9f3",
   "metadata": {},
   "source": [
    "### 2) log1p를 사용해 로그변화 수행\n",
    "-분포도가 심하게 왜곡되어있을 때 적용(원래 값을 log값으로 변환하여 상대적으로 큰 값을 작은 값으로 변환)"
   ]
  },
  {
   "cell_type": "code",
   "execution_count": 39,
   "id": "5c79447a",
   "metadata": {},
   "outputs": [],
   "source": [
    "# numpy 의 log1p 함수 사용하여 로그변화값을 반출하는 함수 생성\n",
    "def get_preprocessed_df(df=None):\n",
    "    df_copy = df.copy()\n",
    "    amount_n = np.log1p(df_copy['Amount'])\n",
    "    df_copy.insert(0, 'Amount_scaled', amount_n)\n",
    "    df_copy.drop(['Time', 'Amount'], axis=1, inplace = True) # 필요없는 컬럼과 정규화하기전 컬럼 제거\n",
    "    return df_copy"
   ]
  },
  {
   "cell_type": "markdown",
   "id": "10bf2ec7",
   "metadata": {},
   "source": [
    "- 학습용, 테스트용 데이터를 생성 후 로지스틱과 LGBM모델로 학습/예측/평가"
   ]
  },
  {
   "cell_type": "code",
   "execution_count": 40,
   "id": "33a14530",
   "metadata": {},
   "outputs": [
    {
     "name": "stdout",
     "output_type": "stream",
     "text": [
      "---------로지스틱 회귀 예측 성능---------\n",
      "오차 행렬\n",
      "[[85283    12]\n",
      " [   59    89]]\n",
      "정확도: 0.9992, 정밀도: 0.8812, 재현율: 0.6014,    F1: 0.7149, AUC:0.9727\n",
      "---------LightGBM 예측 성능<boost_from_average 지정 안했을때>---------\n",
      "오차 행렬\n",
      "[[85219    76]\n",
      " [   58    90]]\n",
      "정확도: 0.9984, 정밀도: 0.5422, 재현율: 0.6081,    F1: 0.5732, AUC:0.8069\n",
      "---------LightGBM 예측 성능<boost_from_average=False로 지정 했을 때>---------\n",
      "오차 행렬\n",
      "[[85290     5]\n",
      " [   35   113]]\n",
      "정확도: 0.9995, 정밀도: 0.9576, 재현율: 0.7635,    F1: 0.8496, AUC:0.9796\n"
     ]
    }
   ],
   "source": [
    "# Amout를 정규 분포 형태로 변환 후 로지스틱 회귀 및 LGBM 수행\n",
    "\n",
    "X_train, X_test, y_train, y_test = get_train_test_dataset(card_df)\n",
    "\n",
    "print('---------로지스틱 회귀 예측 성능---------')\n",
    "lr_clf = LogisticRegression(max_iter=1000) #Gradient Descent 방식을 반복해서 몇번 수행할 것인지 지정\n",
    "get_model_train_eval(lr_clf, ftr_train=X_train, ftr_test=X_test, tgt_train=y_train, tgt_test=y_test) # 모델학습 인자로 집어넣어 평가 값 구하는 함수사용\n",
    "\n",
    "print('---------LightGBM 예측 성능<boost_from_average 지정 안했을때>---------')\n",
    "lgbm_clf = LGBMClassifier(n_estimators=1000, num_leaves=64, n_jobs=-1) \n",
    "get_model_train_eval(lgbm_clf, ftr_train=X_train, ftr_test=X_test, tgt_train=y_train, tgt_test=y_test) \n",
    "\n",
    "print('---------LightGBM 예측 성능<boost_from_average=False로 지정 했을 때>---------')\n",
    "lgbm_clf = LGBMClassifier(n_estimators=1000, num_leaves=64, n_jobs=-1, boost_from_average=False) \n",
    "get_model_train_eval(lgbm_clf, ftr_train=X_train, ftr_test=X_test, tgt_train=y_train, tgt_test=y_test) "
   ]
  },
  {
   "cell_type": "raw",
   "id": "b6ba9109",
   "metadata": {},
   "source": [
    "- 원본데이터\n",
    "\n",
    "<로지스틱>\n",
    "정확도: 0.9992, 정밀도: 0.8738, 재현율: 0.6081,    F1: 0.7171, AUC:0.9584 (원본)\n",
    "정확도: 0.9992, 정밀도: 0.8654, 재현율: 0.6081,    F1: 0.7143, AUC:0.9702 (정규변환)\n",
    "\n",
    "<LGBM>\n",
    "정확도: 0.9995, 정밀도: 0.9573, 재현율: 0.7568,    F1: 0.8453, AUC:0.9790 (원본)\n",
    "정확도: 0.9995, 정밀도: 0.9569, 재현율: 0.7500,    F1: 0.8409, AUC:0.9779 (정규변환)\n",
    "\n",
    "\n",
    "- 원본값 대비 로지스틱 회귀: 정밀도는 향상, 재현율 저하 / LGBM: 재현율 향상\n",
    "- 레이블이 불균형한 데이터의 경우 로지스틱 회귀는 데이터 변환 시 불안정한 성능 결과를 나타냄"
   ]
  },
  {
   "cell_type": "markdown",
   "id": "a2e9ec31",
   "metadata": {},
   "source": [
    "## 3. 이상치 데이터 제거 후 모델 학습/예측/평가"
   ]
  },
  {
   "cell_type": "markdown",
   "id": "5c43130f",
   "metadata": {},
   "source": [
    "### 1) IQR적용하여 이상치 확인"
   ]
  },
  {
   "cell_type": "markdown",
   "id": "c503f109",
   "metadata": {},
   "source": [
    "- 피처별 상관도 출력(모든 컬럼의 이상치를 제거하기엔 시간이 오래 소요되어 상관이 큰 컬럼의 이상치만 확인 후 제거)"
   ]
  },
  {
   "cell_type": "code",
   "execution_count": 47,
   "id": "e37af30c",
   "metadata": {},
   "outputs": [
    {
     "data": {
      "text/plain": [
       "<AxesSubplot:>"
      ]
     },
     "execution_count": 47,
     "metadata": {},
     "output_type": "execute_result"
    },
    {
     "data": {
      "image/png": "[encoded data removed]",
      "text/plain": [
       "<Figure size 648x648 with 2 Axes>"
      ]
     },
     "metadata": {
      "needs_background": "light"
     },
     "output_type": "display_data"
    }
   ],
   "source": [
    "plt.figure(figsize = (9, 9))\n",
    "corr = card_df.corr()\n",
    "sns.heatmap(corr, cmap='RdBu') # RdBu : 값이 클수록 (양의 상관관계일 수록) 색깔이 진한 파란색에 가깝게, 값이 작을 수록 (음의 상관관계일 수록) 빨간색에 가깝게 조정"
   ]
  },
  {
   "cell_type": "markdown",
   "id": "6c2df5b6",
   "metadata": {},
   "source": [
    "=> 'Class'와 V17과 V14가 음의 상관관계가 가장 높음"
   ]
  },
  {
   "cell_type": "code",
   "execution_count": 51,
   "id": "ad7517f9",
   "metadata": {},
   "outputs": [
    {
     "data": {
      "text/plain": [
       "541       -2.830056\n",
       "623        0.599717\n",
       "4920      -4.781831\n",
       "6108     -12.598419\n",
       "6329       6.739384\n",
       "            ...    \n",
       "279863    -4.570529\n",
       "280143    -3.267116\n",
       "280149    -5.035326\n",
       "281144    -4.614717\n",
       "281674     0.903562\n",
       "Name: V17, Length: 492, dtype: float64"
      ]
     },
     "execution_count": 51,
     "metadata": {},
     "output_type": "execute_result"
    }
   ],
   "source": [
    "# 예로 v17 컬럼의 이상치 추출\n",
    "fraud = card_df['V17'][card_df['Class']==1]\n",
    "fraud"
   ]
  },
  {
   "cell_type": "code",
   "execution_count": 58,
   "id": "0d753bb8",
   "metadata": {
    "scrolled": true
   },
   "outputs": [
    {
     "name": "stdout",
     "output_type": "stream",
     "text": [
      "-27.84973307168096 14.562735952416062\n"
     ]
    },
    {
     "data": {
      "text/html": [
       "<div>\n",
       "<style scoped>\n",
       "    .dataframe tbody tr th:only-of-type {\n",
       "        vertical-align: middle;\n",
       "    }\n",
       "\n",
       "    .dataframe tbody tr th {\n",
       "        vertical-align: top;\n",
       "    }\n",
       "\n",
       "    .dataframe thead th {\n",
       "        text-align: right;\n",
       "    }\n",
       "</style>\n",
       "<table border=\"1\" class=\"dataframe\">\n",
       "  <thead>\n",
       "    <tr style=\"text-align: right;\">\n",
       "      <th></th>\n",
       "      <th>Time</th>\n",
       "      <th>V1</th>\n",
       "      <th>V2</th>\n",
       "      <th>V3</th>\n",
       "      <th>V4</th>\n",
       "      <th>V5</th>\n",
       "      <th>V6</th>\n",
       "      <th>V7</th>\n",
       "      <th>V8</th>\n",
       "      <th>V9</th>\n",
       "      <th>...</th>\n",
       "      <th>V21</th>\n",
       "      <th>V22</th>\n",
       "      <th>V23</th>\n",
       "      <th>V24</th>\n",
       "      <th>V25</th>\n",
       "      <th>V26</th>\n",
       "      <th>V27</th>\n",
       "      <th>V28</th>\n",
       "      <th>Amount</th>\n",
       "      <th>Class</th>\n",
       "    </tr>\n",
       "  </thead>\n",
       "  <tbody>\n",
       "  </tbody>\n",
       "</table>\n",
       "<p>0 rows × 31 columns</p>\n",
       "</div>"
      ],
      "text/plain": [
       "Empty DataFrame\n",
       "Columns: [Time, V1, V2, V3, V4, V5, V6, V7, V8, V9, V10, V11, V12, V13, V14, V15, V16, V17, V18, V19, V20, V21, V22, V23, V24, V25, V26, V27, V28, Amount, Class]\n",
       "Index: []\n",
       "\n",
       "[0 rows x 31 columns]"
      ]
     },
     "execution_count": 58,
     "metadata": {},
     "output_type": "execute_result"
    }
   ],
   "source": [
    "fr_25 = np.percentile(fraud.values, 25) #1사분위 지점\n",
    "fr_75 = np.percentile(fraud.values, 75) #3사분위 지점\n",
    "iqr = fr_75-fr_25\n",
    "lower_val = fr_25 - iqr*1.5\n",
    "high_val = fr_75 + iqr*1.5\n",
    "print(lower_val, high_val)\n",
    "# 이상치 \n",
    "card_df[(card_df['Class']==1)&(card_df['V17']<lower_val)|(card_df['V17']>high_val)]"
   ]
  },
  {
   "cell_type": "markdown",
   "id": "8f3b19e9",
   "metadata": {},
   "source": [
    "=> V17에는 이상치가 없음"
   ]
  },
  {
   "cell_type": "code",
   "execution_count": 59,
   "id": "43804605",
   "metadata": {},
   "outputs": [],
   "source": [
    "# V14 컬럼 확인 (df, 컬럼값 넣었을 때 이상치 나오는 함수 생성)\n",
    "def get_outlier(df=None, column=None, weight=1.5):\n",
    "    fraud = df[column][df['Class']==1]\n",
    "    quentile_25 = np.percentile(fraud.values, 25)\n",
    "    quentile_75 = np.percentile(fraud.values, 75)\n",
    "    \n",
    "    #IQR 추출\n",
    "    iqr = quentile_75 - quentile_25\n",
    "    lowest_val = quentile_25 - iqr*weight\n",
    "    highest_val = quentile_75 + iqr*weight\n",
    "    \n",
    "    # 최댓값 보다 크거나 최솟값 보다 작으면 이상치로 출력\n",
    "    outer_index = fraud[(fraud<lowest_val)|(fraud>highest_val)].index # 인덱스 반환\n",
    "    return outer_index"
   ]
  },
  {
   "cell_type": "code",
   "execution_count": 68,
   "id": "54023609",
   "metadata": {
    "scrolled": true
   },
   "outputs": [
    {
     "data": {
      "text/plain": [
       "Int64Index([8296, 8615, 9035, 9252], dtype='int64')"
      ]
     },
     "execution_count": 68,
     "metadata": {},
     "output_type": "execute_result"
    }
   ],
   "source": [
    "out_index = get_outlier(df=card_df, column='V14', weight=1.5) # 총 4개 존재\n",
    "out_index"
   ]
  },
  {
   "cell_type": "code",
   "execution_count": 97,
   "id": "399250d2",
   "metadata": {
    "scrolled": false
   },
   "outputs": [
    {
     "name": "stdout",
     "output_type": "stream",
     "text": [
      "이상치 값\n",
      "-19.2143254902614\n",
      "-18.8220867423816\n",
      "-18.4937733551053\n",
      "-18.0499976898594\n",
      "\n",
      " ---boxplot 시각화---\n"
     ]
    },
    {
     "data": {
      "text/plain": [
       "<AxesSubplot:xlabel='V14'>"
      ]
     },
     "execution_count": 97,
     "metadata": {},
     "output_type": "execute_result"
    },
    {
     "data": {
      "image/png": "[encoded data removed]",
      "text/plain": [
       "<Figure size 432x288 with 1 Axes>"
      ]
     },
     "metadata": {
      "needs_background": "light"
     },
     "output_type": "display_data"
    }
   ],
   "source": [
    "print('이상치 값')\n",
    "for i in out_index.tolist():\n",
    "    value = card_df.loc[i, 'V14']\n",
    "    print(value)\n",
    "    \n",
    "print('\\n','---boxplot 시각화---')\n",
    "sns.boxplot(card_df.V14)"
   ]
  },
  {
   "cell_type": "markdown",
   "id": "c38a5437",
   "metadata": {},
   "source": [
    "### 2) 이상치 제거 및 최종 활용 데이터 추출"
   ]
  },
  {
   "cell_type": "code",
   "execution_count": 98,
   "id": "63281593",
   "metadata": {},
   "outputs": [],
   "source": [
    "# 이상치 제거 및 AMOUT 컬럼 log 변환하는 함수 생성\n",
    "def get_preprocessed_df(df=None):\n",
    "    df_copy = df.copy()\n",
    "    amount_n = np.log1p(df_copy['Amount'])\n",
    "    df_copy.insert(0, 'Amount_scaled', amount_n)\n",
    "    df_copy.drop(['Time', 'Amount'], axis=1, inplace = True) # 필요없는 컬럼과 정규화하기전 컬럼 제거\n",
    "    \n",
    "    # 이상치 삭제 \n",
    "    outlier_index = get_outlier(df=df_copy, column = 'V14', weight=1.5)\n",
    "    df_copy.drop(outlier_index, axis=0, inplace=True)\n",
    "    return df_copy"
   ]
  },
  {
   "cell_type": "markdown",
   "id": "f608aa16",
   "metadata": {},
   "source": [
    "- 학습용, 테스트용 데이터를 생성 후 로지스틱과 LGBM모델로 학습/예측/평가"
   ]
  },
  {
   "cell_type": "code",
   "execution_count": 99,
   "id": "eb378692",
   "metadata": {},
   "outputs": [
    {
     "name": "stdout",
     "output_type": "stream",
     "text": [
      "---------로지스틱 회귀 예측 성능---------\n",
      "오차 행렬\n",
      "[[85281    14]\n",
      " [   48    98]]\n",
      "정확도: 0.9993, 정밀도: 0.8750, 재현율: 0.6712,    F1: 0.7597, AUC:0.9743\n",
      "---------LightGBM 예측 성능<boost_from_average 지정 안했을때>---------\n",
      "오차 행렬\n",
      "[[85268    27]\n",
      " [   36   110]]\n",
      "정확도: 0.9993, 정밀도: 0.8029, 재현율: 0.7534,    F1: 0.7774, AUC:0.9219\n",
      "---------LightGBM 예측 성능<boost_from_average=False로 지정 했을 때>---------\n",
      "오차 행렬\n",
      "[[85290     5]\n",
      " [   25   121]]\n",
      "정확도: 0.9996, 정밀도: 0.9603, 재현율: 0.8288,    F1: 0.8897, AUC:0.9780\n"
     ]
    }
   ],
   "source": [
    "X_train, X_test, y_train, y_test = get_train_test_dataset(card_df)\n",
    "\n",
    "print('---------로지스틱 회귀 예측 성능---------')\n",
    "lr_clf = LogisticRegression(max_iter=1000) #Gradient Descent 방식을 반복해서 몇번 수행할 것인지 지정\n",
    "get_model_train_eval(lr_clf, ftr_train=X_train, ftr_test=X_test, tgt_train=y_train, tgt_test=y_test) # 모델학습 인자로 집어넣어 평가 값 구하는 함수사용\n",
    "\n",
    "print('---------LightGBM 예측 성능<boost_from_average 지정 안했을때>---------')\n",
    "lgbm_clf = LGBMClassifier(n_estimators=1000, num_leaves=64, n_jobs=-1) \n",
    "get_model_train_eval(lgbm_clf, ftr_train=X_train, ftr_test=X_test, tgt_train=y_train, tgt_test=y_test) \n",
    "\n",
    "print('---------LightGBM 예측 성능<boost_from_average=False로 지정 했을 때>---------')\n",
    "lgbm_clf = LGBMClassifier(n_estimators=1000, num_leaves=64, n_jobs=-1, boost_from_average=False) \n",
    "get_model_train_eval(lgbm_clf, ftr_train=X_train, ftr_test=X_test, tgt_train=y_train, tgt_test=y_test) "
   ]
  },
  {
   "cell_type": "markdown",
   "id": "a2048af4",
   "metadata": {},
   "source": [
    "=> 원본데이터 대비 로지스틱 회귀, LGBM 모두 예측성능이 향상됨"
   ]
  },
  {
   "cell_type": "markdown",
   "id": "10936ef4",
   "metadata": {},
   "source": [
    "## 3. SMOTE 오버 샘플링 적용 후 모델 학습/예측/평가"
   ]
  },
  {
   "cell_type": "code",
   "execution_count": 24,
   "id": "0fee72d5",
   "metadata": {},
   "outputs": [
    {
     "name": "stdout",
     "output_type": "stream",
     "text": [
      "Collecting scikit-learn==0.23.1\n",
      "  Downloading scikit_learn-0.23.1-cp38-cp38-win_amd64.whl (6.8 MB)\n",
      "Requirement already satisfied: joblib>=0.11 in c:\\users\\admin\\anaconda3\\envs\\cakd7\\lib\\site-packages (from scikit-learn==0.23.1) (1.1.0)\n",
      "Requirement already satisfied: threadpoolctl>=2.0.0 in c:\\users\\admin\\anaconda3\\envs\\cakd7\\lib\\site-packages (from scikit-learn==0.23.1) (2.2.0)\n",
      "Requirement already satisfied: scipy>=0.19.1 in c:\\users\\admin\\anaconda3\\envs\\cakd7\\lib\\site-packages (from scikit-learn==0.23.1) (1.7.3)\n",
      "Requirement already satisfied: numpy>=1.13.3 in c:\\users\\admin\\anaconda3\\envs\\cakd7\\lib\\site-packages (from scikit-learn==0.23.1) (1.22.4)\n",
      "Installing collected packages: scikit-learn\n",
      "Successfully installed scikit-learn-0.23.1\n",
      "Collecting imbalanced-learn==0.7.0\n",
      "  Downloading imbalanced_learn-0.7.0-py3-none-any.whl (167 kB)\n",
      "Requirement already satisfied: scipy>=0.19.1 in c:\\users\\admin\\anaconda3\\envs\\cakd7\\lib\\site-packages (from imbalanced-learn==0.7.0) (1.7.3)\n",
      "Requirement already satisfied: numpy>=1.13.3 in c:\\users\\admin\\anaconda3\\envs\\cakd7\\lib\\site-packages (from imbalanced-learn==0.7.0) (1.22.4)\n",
      "Requirement already satisfied: joblib>=0.11 in c:\\users\\admin\\anaconda3\\envs\\cakd7\\lib\\site-packages (from imbalanced-learn==0.7.0) (1.1.0)\n",
      "Requirement already satisfied: scikit-learn>=0.23 in c:\\users\\admin\\appdata\\roaming\\python\\python38\\site-packages (from imbalanced-learn==0.7.0) (0.23.1)\n",
      "Requirement already satisfied: threadpoolctl>=2.0.0 in c:\\users\\admin\\anaconda3\\envs\\cakd7\\lib\\site-packages (from scikit-learn>=0.23->imbalanced-learn==0.7.0) (2.2.0)\n",
      "Installing collected packages: imbalanced-learn\n",
      "Successfully installed imbalanced-learn-0.7.0\n"
     ]
    }
   ],
   "source": [
    "#SMOTE 클래스를 위해 설치\n",
    "!pip install scikit-learn==0.23.1 --user\n",
    "!pip install imbalanced-learn==0.7.0 --user"
   ]
  },
  {
   "cell_type": "markdown",
   "id": "3b2aeb63",
   "metadata": {},
   "source": [
    "### 1) 오버 샘플링 적용"
   ]
  },
  {
   "cell_type": "code",
   "execution_count": 25,
   "id": "1861c6ca",
   "metadata": {},
   "outputs": [],
   "source": [
    "from imblearn.over_sampling import SMOTE"
   ]
  },
  {
   "cell_type": "code",
   "execution_count": 102,
   "id": "d8b374d7",
   "metadata": {},
   "outputs": [
    {
     "name": "stdout",
     "output_type": "stream",
     "text": [
      "오버 샘플링 적용 전 피처/ 레이블 데이터 세트: (199362, 29) (199362,)\n",
      "오버 샘플링 적용 후 피처/ 레이블 데이터 세트: (398040, 29) (398040,)\n",
      "오버 샘플링 적용 후 값 분포: \n",
      " 0    199020\n",
      "1    199020\n",
      "Name: Class, dtype: int64\n"
     ]
    }
   ],
   "source": [
    "smote = SMOTE(random_state=0)\n",
    "X_train_over, y_train_over = smote.fit_resample(X_train, y_train) # fit_resample매서드: 소수의 레이블 값을 다수의 레이블 개수 만큼 증식\n",
    "print('오버 샘플링 적용 전 피처/ 레이블 데이터 세트:', X_train.shape, y_train.shape)\n",
    "print('오버 샘플링 적용 후 피처/ 레이블 데이터 세트:', X_train_over.shape, y_train_over.shape)\n",
    "print('오버 샘플링 적용 후 값 분포: \\n', pd.Series(y_train_over).value_counts())"
   ]
  },
  {
   "cell_type": "markdown",
   "id": "d8a9849f",
   "metadata": {},
   "source": [
    "-> 2배가까이 증식이 되었고 레이블 값에대한 분포가 균일해짐"
   ]
  },
  {
   "cell_type": "markdown",
   "id": "38a64e79",
   "metadata": {},
   "source": [
    "### 2) 모델 학습/예측 적용"
   ]
  },
  {
   "cell_type": "code",
   "execution_count": 103,
   "id": "3f659100",
   "metadata": {},
   "outputs": [
    {
     "name": "stdout",
     "output_type": "stream",
     "text": [
      "---------로지스틱 회귀 예측 성능---------\n",
      "오차 행렬\n",
      "[[82937  2358]\n",
      " [   11   135]]\n",
      "정확도: 0.9723, 정밀도: 0.0542, 재현율: 0.9247,    F1: 0.1023, AUC:0.9737\n",
      "---------LightGBM 예측 성능<boost_from_average 지정 안했을때>---------\n",
      "오차 행렬\n",
      "[[85283    12]\n",
      " [   22   124]]\n",
      "정확도: 0.9996, 정밀도: 0.9118, 재현율: 0.8493,    F1: 0.8794, AUC:0.9814\n",
      "---------LightGBM 예측 성능<boost_from_average=False로 지정 했을 때>---------\n",
      "오차 행렬\n",
      "[[85283    12]\n",
      " [   22   124]]\n",
      "정확도: 0.9996, 정밀도: 0.9118, 재현율: 0.8493,    F1: 0.8794, AUC:0.9814\n"
     ]
    }
   ],
   "source": [
    "print('---------로지스틱 회귀 예측 성능---------')\n",
    "lr_clf = LogisticRegression(max_iter=1000) #Gradient Descent 방식을 반복해서 몇번 수행할 것인지 지정\n",
    "get_model_train_eval(lr_clf, ftr_train=X_train_over, ftr_test=X_test, tgt_train=y_train_over, tgt_test=y_test) # 훈련용만 오버 샘플링 데이터로 변경\n",
    "\n",
    "print('---------LightGBM 예측 성능<boost_from_average 지정 안했을때>---------')\n",
    "lgbm_clf = LGBMClassifier(n_estimators=1000, num_leaves=64, n_jobs=-1) \n",
    "get_model_train_eval(lgbm_clf, ftr_train=X_train_over, ftr_test=X_test, tgt_train=y_train_over, tgt_test=y_test) \n",
    "\n",
    "print('---------LightGBM 예측 성능<boost_from_average=False로 지정 했을 때>---------')\n",
    "lgbm_clf = LGBMClassifier(n_estimators=1000, num_leaves=64, n_jobs=-1, boost_from_average=False) \n",
    "get_model_train_eval(lgbm_clf, ftr_train=X_train_over, ftr_test=X_test, tgt_train=y_train_over, tgt_test=y_test) "
   ]
  },
  {
   "cell_type": "markdown",
   "id": "72094599",
   "metadata": {},
   "source": [
    "- 로지스틱 회귀: 재현율 증가 but 정밀도 감소(0.05) => (레이블이 1인 데이터를 너무 많이 학습하여 지나치게 1로 예측하여 정밀도가 떨어지게됨)\n",
    "- LGBM: 재현율 증가 but 정밀도 조금 감소\n",
    "\n",
    "-> 정밀도보다 재현율을 높이는 경우 SMOTE 주사용"
   ]
  },
  {
   "cell_type": "code",
   "execution_count": 107,
   "id": "afbc8ed5",
   "metadata": {},
   "outputs": [
    {
     "name": "stdout",
     "output_type": "stream",
     "text": [
      "로지스틱 회귀에서 임계값이 변하는 정도\n"
     ]
    },
    {
     "data": {
      "image/png": "[encoded data removed]",
      "text/plain": [
       "<Figure size 720x576 with 1 Axes>"
      ]
     },
     "metadata": {
      "needs_background": "light"
     },
     "output_type": "display_data"
    }
   ],
   "source": [
    "# 임계값에 따른 정확도, 정밀도 시각화\n",
    "from sklearn.metrics import precision_recall_curve\n",
    "from matplotlib import font_manager, rc\n",
    "font_path = 'C:/cakd7/git/class/study/m3_통계/data/malgun.ttf' #malgun 폰트 저장 후 불러오기\n",
    "font_name = font_manager.FontProperties(fname = font_path).get_name()\n",
    "rc('font', family = font_name)\n",
    "plt.rcParams['axes.unicode_minus'] = False  #마이너스 부호 출력 하게끔\n",
    "\n",
    "def precision_recall_curve_plot(y_test, pred_proba):\n",
    "    # 임곗값에 따른 정밀도, 재현율 추출\n",
    "    precision, recall, thresholds = precision_recall_curve(y_test, pred_proba) \n",
    "    \n",
    "    # X축 : 임계값, y축 정밀도, 재현율 값\n",
    "    plt.figure(figsize = (10, 8))\n",
    "    threshold_boundary = thresholds.shape[0]\n",
    "    plt.plot(thresholds, precision[0:threshold_boundary], linestyle = '-', label = '정밀도', color = 'red')\n",
    "    plt.plot(thresholds, recall[0: threshold_boundary], label = '재현율', color = 'blue')\n",
    "    \n",
    "    # 임계값 (X)축의 scale을 0.1 단위로 변경\n",
    "    start, end = plt.xlim()\n",
    "    plt.xticks(np.round(np.arange(start, end, 0.1), 2))\n",
    "    \n",
    "    # x, y축 라벨과 범례, 눈금 설정\n",
    "    plt.xlabel('임계값')\n",
    "    plt.ylabel('정밀도와 재현율')\n",
    "    plt.legend()\n",
    "    plt.grid()\n",
    "    plt.show()\n",
    "    \n",
    "pred_proba = lr_clf.predict_proba(X_test)[:, 1]\n",
    "print('로지스틱 회귀에서 임계값이 변하는 정도')\n",
    "precision_recall_curve_plot(y_test, pred_proba)"
   ]
  },
  {
   "cell_type": "code",
   "execution_count": 108,
   "id": "e6d5cf23",
   "metadata": {},
   "outputs": [
    {
     "name": "stdout",
     "output_type": "stream",
     "text": [
      "LGBMBoost에서 임계값이 변하는 정도\n"
     ]
    },
    {
     "data": {
      "image/png": "[encoded data removed]",
      "text/plain": [
       "<Figure size 720x576 with 1 Axes>"
      ]
     },
     "metadata": {
      "needs_background": "light"
     },
     "output_type": "display_data"
    }
   ],
   "source": [
    "pred_proba =lgbm_clf.predict_proba(X_test)[:, 1]\n",
    "print('LGBMBoost에서 임계값이 변하는 정도')\n",
    "precision_recall_curve_plot(y_test, pred_proba)"
   ]
  },
  {
   "cell_type": "raw",
   "id": "7c293315",
   "metadata": {},
   "source": [
    "값 비교 표\n",
    "\n",
    "<로지스틱>\n",
    "정확도: 0.9992, 정밀도: 0.8738, 재현율: 0.6081,    F1: 0.7171, AUC:0.9584 (원본)\n",
    "정확도: 0.9992, 정밀도: 0.8654, 재현율: 0.6081,    F1: 0.7143, AUC:0.9702 (정규변환)\n",
    "정확도: 0.9992, 정밀도: 0.8812, 재현율: 0.6014,    F1: 0.7149, AUC:0.9727 (로그변환)\n",
    "정확도: 0.9993, 정밀도: 0.8750, 재현율: 0.6712,    F1: 0.7597, AUC:0.9743 (이상치 제거)\n",
    "정확도: 0.9723, 정밀도: 0.0542, 재현율: 0.9247,    F1: 0.1023, AUC:0.9737 (SMOTE)\n",
    "\n",
    "<LGBM>\n",
    "정확도: 0.9995, 정밀도: 0.9573, 재현율: 0.7568,    F1: 0.8453, AUC:0.9790 (원본)\n",
    "정확도: 0.9995, 정밀도: 0.9569, 재현율: 0.7500,    F1: 0.8409, AUC:0.9779 (정규변환)\n",
    "정확도: 0.9995, 정밀도: 0.9576, 재현율: 0.7635,    F1: 0.8496, AUC:0.9796 (로그변환)\n",
    "정확도: 0.9996, 정밀도: 0.9603, 재현율: 0.8288,    F1: 0.8897, AUC:0.9780 (이상치 제거)\n",
    "정확도: 0.9996, 정밀도: 0.9118, 재현율: 0.8493,    F1: 0.8794, AUC:0.9814 (SMOTE)"
   ]
  },
  {
   "cell_type": "markdown",
   "id": "e499facc",
   "metadata": {},
   "source": [
    "- SMOTE를 적용하면 재현율은 증가하지만 정밀도는 감소하는게 일반적 (머신러닝 모델의 주목표)"
   ]
  },
  {
   "cell_type": "code",
   "execution_count": null,
   "id": "87cc2b63",
   "metadata": {},
   "outputs": [],
   "source": []
  }
 ],
 "metadata": {
  "kernelspec": {
   "display_name": "Python 3 (ipykernel)",
   "language": "python",
   "name": "python3"
  },
  "language_info": {
   "codemirror_mode": {
    "name": "ipython",
    "version": 3
   },
   "file_extension": ".py",
   "mimetype": "text/x-python",
   "name": "python",
   "nbconvert_exporter": "python",
   "pygments_lexer": "ipython3",
   "version": "3.8.13"
  },
  "toc": {
   "base_numbering": 1,
   "nav_menu": {},
   "number_sections": false,
   "sideBar": true,
   "skip_h1_title": false,
   "title_cell": "Table of Contents",
   "title_sidebar": "Contents",
   "toc_cell": false,
   "toc_position": {
    "height": "calc(100% - 180px)",
    "left": "10px",
    "top": "150px",
    "width": "268.537px"
   },
   "toc_section_display": true,
   "toc_window_display": false
  }
 },
 "nbformat": 4,
 "nbformat_minor": 5
}
