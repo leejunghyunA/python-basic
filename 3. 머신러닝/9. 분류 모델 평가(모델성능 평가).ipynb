{
 "cells": [
  {
   "cell_type": "markdown",
   "id": "b5624202",
   "metadata": {},
   "source": [
    "## Accuracy(정확도)\n",
    "- 불균형한 레이블 값 분포에서 ML 모델의 성능을 판단할 경우 적합한 방법이 아니다."
   ]
  },
  {
   "cell_type": "code",
   "execution_count": 5,
   "id": "023a568b",
   "metadata": {
    "scrolled": true
   },
   "outputs": [
    {
     "ename": "FileNotFoundError",
     "evalue": "[Errno 2] No such file or directory: 'C:\\\\cakd7\\\\git\\\\class\\\\study\\\\m3_통계\\\\data\\\\malgun.ttf'",
     "output_type": "error",
     "traceback": [
      "\u001b[1;31m---------------------------------------------------------------------------\u001b[0m",
      "\u001b[1;31mFileNotFoundError\u001b[0m                         Traceback (most recent call last)",
      "Input \u001b[1;32mIn [5]\u001b[0m, in \u001b[0;36m<cell line: 16>\u001b[1;34m()\u001b[0m\n\u001b[0;32m     14\u001b[0m \u001b[38;5;28;01mfrom\u001b[39;00m \u001b[38;5;21;01mscipy\u001b[39;00m\u001b[38;5;21;01m.\u001b[39;00m\u001b[38;5;21;01mspecial\u001b[39;00m \u001b[38;5;28;01mimport\u001b[39;00m erf\n\u001b[0;32m     15\u001b[0m font_path \u001b[38;5;241m=\u001b[39m \u001b[38;5;124m'\u001b[39m\u001b[38;5;124mC:/cakd7/git/class/study/m3_통계/data/malgun.ttf\u001b[39m\u001b[38;5;124m'\u001b[39m \u001b[38;5;66;03m#malgun 폰트 저장 후 불러오기\u001b[39;00m\n\u001b[1;32m---> 16\u001b[0m font_name \u001b[38;5;241m=\u001b[39m \u001b[43mfont_manager\u001b[49m\u001b[38;5;241;43m.\u001b[39;49m\u001b[43mFontProperties\u001b[49m\u001b[43m(\u001b[49m\u001b[43mfname\u001b[49m\u001b[43m \u001b[49m\u001b[38;5;241;43m=\u001b[39;49m\u001b[43m \u001b[49m\u001b[43mfont_path\u001b[49m\u001b[43m)\u001b[49m\u001b[38;5;241;43m.\u001b[39;49m\u001b[43mget_name\u001b[49m\u001b[43m(\u001b[49m\u001b[43m)\u001b[49m\n\u001b[0;32m     17\u001b[0m rc(\u001b[38;5;124m'\u001b[39m\u001b[38;5;124mfont\u001b[39m\u001b[38;5;124m'\u001b[39m, family \u001b[38;5;241m=\u001b[39m font_name)\n\u001b[0;32m     18\u001b[0m plt\u001b[38;5;241m.\u001b[39mrcParams[\u001b[38;5;124m'\u001b[39m\u001b[38;5;124maxes.unicode_minus\u001b[39m\u001b[38;5;124m'\u001b[39m] \u001b[38;5;241m=\u001b[39m \u001b[38;5;28;01mFalse\u001b[39;00m  \u001b[38;5;66;03m#마이너스 부호 출력 하게끔\u001b[39;00m\n",
      "File \u001b[1;32mC:\\ProgramData\\Anaconda3\\lib\\site-packages\\matplotlib\\font_manager.py:737\u001b[0m, in \u001b[0;36mFontProperties.get_name\u001b[1;34m(self)\u001b[0m\n\u001b[0;32m    733\u001b[0m \u001b[38;5;28;01mdef\u001b[39;00m \u001b[38;5;21mget_name\u001b[39m(\u001b[38;5;28mself\u001b[39m):\n\u001b[0;32m    734\u001b[0m     \u001b[38;5;124;03m\"\"\"\u001b[39;00m\n\u001b[0;32m    735\u001b[0m \u001b[38;5;124;03m    Return the name of the font that best matches the font properties.\u001b[39;00m\n\u001b[0;32m    736\u001b[0m \u001b[38;5;124;03m    \"\"\"\u001b[39;00m\n\u001b[1;32m--> 737\u001b[0m     \u001b[38;5;28;01mreturn\u001b[39;00m \u001b[43mget_font\u001b[49m\u001b[43m(\u001b[49m\u001b[43mfindfont\u001b[49m\u001b[43m(\u001b[49m\u001b[38;5;28;43mself\u001b[39;49m\u001b[43m)\u001b[49m\u001b[43m)\u001b[49m\u001b[38;5;241m.\u001b[39mfamily_name\n",
      "File \u001b[1;32mC:\\ProgramData\\Anaconda3\\lib\\site-packages\\matplotlib\\font_manager.py:1424\u001b[0m, in \u001b[0;36mget_font\u001b[1;34m(filename, hinting_factor)\u001b[0m\n\u001b[0;32m   1422\u001b[0m     hinting_factor \u001b[38;5;241m=\u001b[39m rcParams[\u001b[38;5;124m'\u001b[39m\u001b[38;5;124mtext.hinting_factor\u001b[39m\u001b[38;5;124m'\u001b[39m]\n\u001b[0;32m   1423\u001b[0m \u001b[38;5;66;03m# also key on the thread ID to prevent segfaults with multi-threading\u001b[39;00m\n\u001b[1;32m-> 1424\u001b[0m \u001b[38;5;28;01mreturn\u001b[39;00m \u001b[43m_get_font\u001b[49m\u001b[43m(\u001b[49m\u001b[43mfilename\u001b[49m\u001b[43m,\u001b[49m\u001b[43m \u001b[49m\u001b[43mhinting_factor\u001b[49m\u001b[43m,\u001b[49m\n\u001b[0;32m   1425\u001b[0m \u001b[43m                 \u001b[49m\u001b[43m_kerning_factor\u001b[49m\u001b[38;5;241;43m=\u001b[39;49m\u001b[43mrcParams\u001b[49m\u001b[43m[\u001b[49m\u001b[38;5;124;43m'\u001b[39;49m\u001b[38;5;124;43mtext.kerning_factor\u001b[39;49m\u001b[38;5;124;43m'\u001b[39;49m\u001b[43m]\u001b[49m\u001b[43m,\u001b[49m\n\u001b[0;32m   1426\u001b[0m \u001b[43m                 \u001b[49m\u001b[43mthread_id\u001b[49m\u001b[38;5;241;43m=\u001b[39;49m\u001b[43mthreading\u001b[49m\u001b[38;5;241;43m.\u001b[39;49m\u001b[43mget_ident\u001b[49m\u001b[43m(\u001b[49m\u001b[43m)\u001b[49m\u001b[43m)\u001b[49m\n",
      "File \u001b[1;32mC:\\ProgramData\\Anaconda3\\lib\\site-packages\\matplotlib\\font_manager.py:1405\u001b[0m, in \u001b[0;36m_get_font\u001b[1;34m(filename, hinting_factor, _kerning_factor, thread_id)\u001b[0m\n\u001b[0;32m   1403\u001b[0m \u001b[38;5;129m@lru_cache\u001b[39m(\u001b[38;5;241m64\u001b[39m)\n\u001b[0;32m   1404\u001b[0m \u001b[38;5;28;01mdef\u001b[39;00m \u001b[38;5;21m_get_font\u001b[39m(filename, hinting_factor, \u001b[38;5;241m*\u001b[39m, _kerning_factor, thread_id):\n\u001b[1;32m-> 1405\u001b[0m     \u001b[38;5;28;01mreturn\u001b[39;00m \u001b[43mft2font\u001b[49m\u001b[38;5;241;43m.\u001b[39;49m\u001b[43mFT2Font\u001b[49m\u001b[43m(\u001b[49m\n\u001b[0;32m   1406\u001b[0m \u001b[43m        \u001b[49m\u001b[43mfilename\u001b[49m\u001b[43m,\u001b[49m\u001b[43m \u001b[49m\u001b[43mhinting_factor\u001b[49m\u001b[43m,\u001b[49m\u001b[43m \u001b[49m\u001b[43m_kerning_factor\u001b[49m\u001b[38;5;241;43m=\u001b[39;49m\u001b[43m_kerning_factor\u001b[49m\u001b[43m)\u001b[49m\n",
      "\u001b[1;31mFileNotFoundError\u001b[0m: [Errno 2] No such file or directory: 'C:\\\\cakd7\\\\git\\\\class\\\\study\\\\m3_통계\\\\data\\\\malgun.ttf'"
     ]
    }
   ],
   "source": [
    "import numpy as np\n",
    "import pandas as pd\n",
    "\n",
    "from sklearn.model_selection import train_test_split\n",
    "from sklearn.linear_model import LogisticRegression\n",
    "\n",
    "import matplotlib.pyplot as plt\n",
    "import matplotlib.ticker as ticker\n",
    "%matplotlib inline\n",
    "from matplotlib import font_manager, rc\n",
    "from scipy import stats\n",
    "import warnings \n",
    "warnings.filterwarnings('ignore')\n",
    "from scipy.special import erf\n",
    "font_path = 'C:/cakd7/git/class/study/m3_통계/data/malgun.ttf' #malgun 폰트 저장 후 불러오기\n",
    "font_name = font_manager.FontProperties(fname = font_path).get_name()\n",
    "rc('font', family = font_name)\n",
    "plt.rcParams['axes.unicode_minus'] = False  #마이너스 부호 출력 하게끔\n",
    "\n",
    "tdf = pd.read_csv('titanic_train.csv')\n",
    "tdf.head()"
   ]
  },
  {
   "cell_type": "code",
   "execution_count": 110,
   "id": "aaef00e3",
   "metadata": {},
   "outputs": [
    {
     "data": {
      "text/html": [
       "<div>\n",
       "<style scoped>\n",
       "    .dataframe tbody tr th:only-of-type {\n",
       "        vertical-align: middle;\n",
       "    }\n",
       "\n",
       "    .dataframe tbody tr th {\n",
       "        vertical-align: top;\n",
       "    }\n",
       "\n",
       "    .dataframe thead th {\n",
       "        text-align: right;\n",
       "    }\n",
       "</style>\n",
       "<table border=\"1\" class=\"dataframe\">\n",
       "  <thead>\n",
       "    <tr style=\"text-align: right;\">\n",
       "      <th></th>\n",
       "      <th>PassengerId</th>\n",
       "      <th>Survived</th>\n",
       "      <th>Pclass</th>\n",
       "      <th>Name</th>\n",
       "      <th>Sex</th>\n",
       "      <th>Age</th>\n",
       "      <th>SibSp</th>\n",
       "      <th>Parch</th>\n",
       "      <th>Ticket</th>\n",
       "      <th>Fare</th>\n",
       "      <th>Cabin</th>\n",
       "      <th>Embarked</th>\n",
       "    </tr>\n",
       "  </thead>\n",
       "  <tbody>\n",
       "    <tr>\n",
       "      <th>0</th>\n",
       "      <td>1</td>\n",
       "      <td>0</td>\n",
       "      <td>3</td>\n",
       "      <td>Braund, Mr. Owen Harris</td>\n",
       "      <td>male</td>\n",
       "      <td>22.0</td>\n",
       "      <td>1</td>\n",
       "      <td>0</td>\n",
       "      <td>A/5 21171</td>\n",
       "      <td>7.2500</td>\n",
       "      <td>NaN</td>\n",
       "      <td>S</td>\n",
       "    </tr>\n",
       "    <tr>\n",
       "      <th>1</th>\n",
       "      <td>2</td>\n",
       "      <td>1</td>\n",
       "      <td>1</td>\n",
       "      <td>Cumings, Mrs. John Bradley (Florence Briggs Th...</td>\n",
       "      <td>female</td>\n",
       "      <td>38.0</td>\n",
       "      <td>1</td>\n",
       "      <td>0</td>\n",
       "      <td>PC 17599</td>\n",
       "      <td>71.2833</td>\n",
       "      <td>C85</td>\n",
       "      <td>C</td>\n",
       "    </tr>\n",
       "    <tr>\n",
       "      <th>2</th>\n",
       "      <td>3</td>\n",
       "      <td>1</td>\n",
       "      <td>3</td>\n",
       "      <td>Heikkinen, Miss. Laina</td>\n",
       "      <td>female</td>\n",
       "      <td>26.0</td>\n",
       "      <td>0</td>\n",
       "      <td>0</td>\n",
       "      <td>STON/O2. 3101282</td>\n",
       "      <td>7.9250</td>\n",
       "      <td>NaN</td>\n",
       "      <td>S</td>\n",
       "    </tr>\n",
       "    <tr>\n",
       "      <th>3</th>\n",
       "      <td>4</td>\n",
       "      <td>1</td>\n",
       "      <td>1</td>\n",
       "      <td>Futrelle, Mrs. Jacques Heath (Lily May Peel)</td>\n",
       "      <td>female</td>\n",
       "      <td>35.0</td>\n",
       "      <td>1</td>\n",
       "      <td>0</td>\n",
       "      <td>113803</td>\n",
       "      <td>53.1000</td>\n",
       "      <td>C123</td>\n",
       "      <td>S</td>\n",
       "    </tr>\n",
       "    <tr>\n",
       "      <th>4</th>\n",
       "      <td>5</td>\n",
       "      <td>0</td>\n",
       "      <td>3</td>\n",
       "      <td>Allen, Mr. William Henry</td>\n",
       "      <td>male</td>\n",
       "      <td>35.0</td>\n",
       "      <td>0</td>\n",
       "      <td>0</td>\n",
       "      <td>373450</td>\n",
       "      <td>8.0500</td>\n",
       "      <td>NaN</td>\n",
       "      <td>S</td>\n",
       "    </tr>\n",
       "  </tbody>\n",
       "</table>\n",
       "</div>"
      ],
      "text/plain": [
       "   PassengerId  Survived  Pclass  \\\n",
       "0            1         0       3   \n",
       "1            2         1       1   \n",
       "2            3         1       3   \n",
       "3            4         1       1   \n",
       "4            5         0       3   \n",
       "\n",
       "                                                Name     Sex   Age  SibSp  \\\n",
       "0                            Braund, Mr. Owen Harris    male  22.0      1   \n",
       "1  Cumings, Mrs. John Bradley (Florence Briggs Th...  female  38.0      1   \n",
       "2                             Heikkinen, Miss. Laina  female  26.0      0   \n",
       "3       Futrelle, Mrs. Jacques Heath (Lily May Peel)  female  35.0      1   \n",
       "4                           Allen, Mr. William Henry    male  35.0      0   \n",
       "\n",
       "   Parch            Ticket     Fare Cabin Embarked  \n",
       "0      0         A/5 21171   7.2500   NaN        S  \n",
       "1      0          PC 17599  71.2833   C85        C  \n",
       "2      0  STON/O2. 3101282   7.9250   NaN        S  \n",
       "3      0            113803  53.1000  C123        S  \n",
       "4      0            373450   8.0500   NaN        S  "
      ]
     },
     "execution_count": 110,
     "metadata": {},
     "output_type": "execute_result"
    }
   ],
   "source": [
    "tdf.head(5)"
   ]
  },
  {
   "cell_type": "code",
   "execution_count": 4,
   "id": "a7e66d54",
   "metadata": {},
   "outputs": [],
   "source": [
    "# 전처리 (p.156~)\n",
    "from sklearn.preprocessing import LabelEncoder\n",
    "\n",
    "# Null 처리 함수\n",
    "def fillna(df):\n",
    "    df['Age'].fillna(df['Age'].mean(), inplace=True)\n",
    "    df['Cabin'].fillna('N', inplace=True)\n",
    "    df['Embarked'].fillna('N', inplace=True)\n",
    "    df['Fare'].fillna(0, inplace=True)\n",
    "    return df\n",
    "\n",
    "# 머신러닝 알고리즘에 불필요한 피처 제거\n",
    "def drop_features(df):\n",
    "    df.drop(['PassengerId', 'Name', 'Ticket'], axis=1, inplace=True)\n",
    "    return df\n",
    "\n",
    "# 레이블 인코딩 수행.\n",
    "def format_features(df):\n",
    "    df['Cabin'] = df['Cabin'].str[:1]\n",
    "    features = ['Cabin', 'Sex', 'Embarked']\n",
    "    for feature in features:\n",
    "        le = LabelEncoder()\n",
    "        le = le.fit(df[feature])\n",
    "        df[feature] = le.transform(df[feature])\n",
    "    return df\n",
    "\n",
    "# 앞에서 설정한 데이터 전처리 함수 호출\n",
    "def transform_features(df):\n",
    "    df = fillna(df)\n",
    "    df = drop_features(df)\n",
    "    df = format_features(df)\n",
    "    return df"
   ]
  },
  {
   "cell_type": "code",
   "execution_count": 21,
   "id": "23cf8b63",
   "metadata": {},
   "outputs": [],
   "source": [
    "# 평가 함수(오차행렬)\n",
    "from sklearn.metrics import accuracy_score, precision_score , recall_score , confusion_matrix, f1_score\n",
    "\n",
    "def get_clf_eval(y_test , pred):\n",
    "    confusion = confusion_matrix(y_test, pred)\n",
    "    accuracy = accuracy_score(y_test , pred)\n",
    "    precision = precision_score(y_test , pred)\n",
    "    recall = recall_score(y_test , pred)\n",
    "    f1 = f1_score(y_test, pred)\n",
    "    print('오차 행렬')\n",
    "    print(confusion)\n",
    "    print('정확도: {0:.4f}, 정밀도: {1:.4f}, 재현율: {2:.4f}, F1 :{3: .4f}'.format(accuracy , precision ,recall, f1))"
   ]
  },
  {
   "cell_type": "code",
   "execution_count": 22,
   "id": "d4ae4214",
   "metadata": {},
   "outputs": [
    {
     "name": "stdout",
     "output_type": "stream",
     "text": [
      "오차 행렬\n",
      "[[108  10]\n",
      " [ 14  47]]\n",
      "정확도: 0.8659, 정밀도: 0.8246, 재현율: 0.7705, F1 : 0.7966\n"
     ]
    }
   ],
   "source": [
    "y_tdf = tdf['Survived']\n",
    "X_tdf = tdf.drop('Survived', axis = 1)\n",
    "# 전처리 함수 적용\n",
    "X_tdf = transform_features(X_tdf)\n",
    "\n",
    "X_train, X_test, y_train, y_test = train_test_split(X_tdf, y_tdf, test_size = 0.2, random_state = 11)\n",
    "lr_clf = LogisticRegression(solver = 'liblinear') # solver의 기본값=lbfgs (데이터 세트가 상대적으로 크고 다중 분류인 경우 적합)\n",
    "# solver = linear (로지스틱 회귀의 최적화 알고리즘 유형을 지정하는 것)\n",
    "\n",
    "lr_clf.fit(X_train, y_train)\n",
    "pred = lr_clf.predict(X_test)\n",
    "get_clf_eval(y_test, pred)"
   ]
  },
  {
   "cell_type": "code",
   "execution_count": null,
   "id": "77ccbe4c",
   "metadata": {},
   "outputs": [],
   "source": [
    "y = tdf['Survived']\n",
    "X = tdf.drop('Survived', axis = 1)\n",
    "\n",
    "X_train, X_test, y_train, y_test = train_test_split(X, y, test_size = 0.2, random_state = 11)\n",
    "lr_clf = LogisticRegression(solver = 'liblinear') # solver의 기본값=lbfgs (데이터 세트가 상대적으로 크고 다중 분류인 경우 적합)\n",
    "# solver = linear (로지스틱 회귀의 최적화 알고리즘 유형을 지정하는 것)"
   ]
  },
  {
   "cell_type": "markdown",
   "id": "4b9706b5",
   "metadata": {},
   "source": [
    "#### 과제_0914_1\n",
    "상기 오차 행렬로 수작업으로 정확도, 정밀도, 재현율, F1 score을 구하기"
   ]
  },
  {
   "cell_type": "code",
   "execution_count": 79,
   "id": "9d934c4b",
   "metadata": {},
   "outputs": [
    {
     "name": "stdout",
     "output_type": "stream",
     "text": [
      "[[108  10]\n",
      " [ 14  47]]\n",
      "1. 정확도 = (TN+TP)/전체 예측 데이터 건수\n",
      "=>  0.866\n",
      "2. 정밀도 = TP/(FP+TP)\n",
      "=>  0.825\n",
      "3. 재현율 = TP/(FN+TP)\n",
      "=>  0.770\n",
      "4. F1 = 2/ (1/재현율 + 1/정밀도)\n",
      "=>  0.797\n"
     ]
    }
   ],
   "source": [
    "# 정확도(예측결과가 동일한 데이터 건수/전체 예측 데이터 건수)\n",
    "# 정밀도(P예측이 맞는 값/P로 예측한 모든 값)\n",
    "# 정확도(P예측이 맞는 값/실제 P인 모든 값)\n",
    "confusion = confusion_matrix(y_test, pred)\n",
    "print(confusion)\n",
    "\n",
    "TN = confusion[0,0]\n",
    "FP = confusion[0,1]\n",
    "FN = confusion[1,0]\n",
    "TP = confusion[1,1]\n",
    "print('1. 정확도 = (TN+TP)/전체 예측 데이터 건수') \n",
    "print(f'=> {(TN+TP)/confusion.sum() : .3f}')\n",
    "\n",
    "print('2. 정밀도 = TP/(FP+TP)')\n",
    "print(f'=> {TP/(FP+TP) : .3f}')\n",
    "\n",
    "print('3. 재현율 = TP/(FN+TP)')\n",
    "print(f'=> {TP/(FN+TP) : .3f}')\n",
    "\n",
    "print('4. F1 = 2/ (1/재현율 + 1/정밀도)')\n",
    "p = TP/(FP+TP)\n",
    "r = TP/(FN+TP)\n",
    "print(f'=> {2/(1/p+1/r) : .3f}')"
   ]
  },
  {
   "cell_type": "markdown",
   "id": "687f4112",
   "metadata": {},
   "source": [
    "#### 과제_0914_2 (p.155~ 166)\n",
    "precission과 recall간의 Trade-off 관계를 시각화하여 설명하기"
   ]
  },
  {
   "cell_type": "markdown",
   "id": "d84023b4",
   "metadata": {},
   "source": [
    "### **정밀도와 재현율 Trade-off**\n",
    "\n",
    "- 정의: 업무 특성상 정밀도 또는 재현율 중 어느 하나가 특별히 강조되어야 할 경우 임계값을 조정해 정밀도 or 재현율의 수치를 높일 수 있음 (어느 한쪽을 높이면 다른 하나의 수치는 떨어지기 쉬움)\n",
    "- sklearn의 predict_proba 사용 (개별 데이터 별로 예측 확률을 반환하는 메서드)\n",
    "    ⇒ 학습이 완료된 사이킷런 Classfier 객체에서 호출 가능 (파라미터: 테스트 피처 데이터 세트, 반환: 테스트 피처 레코드의 개별 클래스 예측 확률)"
   ]
  },
  {
   "cell_type": "code",
   "execution_count": 51,
   "id": "0fd4b7e3",
   "metadata": {},
   "outputs": [
    {
     "name": "stdout",
     "output_type": "stream",
     "text": [
      "pred_proba 결과 shape : (179, 2)\n",
      "pred_proba 결과값\n",
      "[[0.44935228 0.55064772]\n",
      " [0.86335513 0.13664487]\n",
      " [0.86429645 0.13570355]]\n",
      "pred 결과 shape : (179,)\n",
      "pred 결과값\n",
      "[1 0 0 0 0 0 0 1 0 1 0 0 0 0 0 0 0 0 0 1 0 0 0 0 0 0 0 0 0 0 1 1 0 1 0 0 0\n",
      " 1 0 0 0 0 1 1 1 1 1 0 1 0 0 0 0 1 0 0 0 0 0 0 0 0 0 0 0 0 1 1 1 0 0 0 0 1\n",
      " 0 0 0 0 1 0 1 1 1 0 1 1 0 0 1 0 0 0 0 0 1 0 1 0 0 1 1 0 1 0 1 0 0 0 0 0 0\n",
      " 0 0 1 0 0 0 0 1 0 0 0 0 0 0 0 0 0 1 0 1 0 1 1 1 0 1 0 0 1 1 0 0 0 0 1 0 0\n",
      " 1 0 0 1 1 0 1 1 0 0 1 1 0 1 0 1 0 1 1 0 0 1 0 1 0 0 0 0 0 0 1]\n"
     ]
    },
    {
     "data": {
      "text/plain": [
       "179"
      ]
     },
     "execution_count": 51,
     "metadata": {},
     "output_type": "execute_result"
    }
   ],
   "source": [
    "# proba 메서드 수행한 후의 반환값과 predict 메서드 결과 비교\n",
    "pred_proba = lr_clf.predict_proba(X_test)\n",
    "pred = lr_clf.predict(X_test)\n",
    "print(f'pred_proba 결과 shape : {pred_proba.shape}')\n",
    "print('pred_proba 결과값')\n",
    "print(f'{pred_proba[:3]}')\n",
    "print(f'pred 결과 shape : {pred.shape}')\n",
    "print(f'pred 결과값')\n",
    "print(pred)\n",
    "len(pred)"
   ]
  },
  {
   "cell_type": "code",
   "execution_count": 42,
   "id": "13fa6f7d",
   "metadata": {},
   "outputs": [
    {
     "data": {
      "text/plain": [
       "178.20000000000002"
      ]
     },
     "execution_count": 42,
     "metadata": {},
     "output_type": "execute_result"
    }
   ],
   "source": [
    "len(tdf)*0.2"
   ]
  },
  {
   "cell_type": "code",
   "execution_count": 52,
   "id": "a0a93845",
   "metadata": {},
   "outputs": [
    {
     "name": "stdout",
     "output_type": "stream",
     "text": [
      "두 개의 class 중에서 더 큰 확률을 클래스 값으로 예측\n",
      "[[0.44935228 0.55064772 1.        ]\n",
      " [0.86335513 0.13664487 0.        ]\n",
      " [0.86429645 0.13570355 0.        ]]\n"
     ]
    }
   ],
   "source": [
    "# 예측 확률 배열과 예측 결과값 배열을 병합해 예측 확률과 결괏값을 한눈에 확인\n",
    "pred_proba_result = np.concatenate([pred_proba, pred.reshape(-1, 1)], axis = 1)\n",
    "print('두 개의 class 중에서 더 큰 확률을 클래스 값으로 예측')\n",
    "print(pred_proba_result[:3])"
   ]
  },
  {
   "cell_type": "raw",
   "id": "47ed2b85",
   "metadata": {},
   "source": [
    "=> 행별로 더하면 각 1이 나옴\n",
    "=> 각각 0과 1에 대한 확률 (더 큰 값이 predict메서드가 최종 예측) ==>predict메서드가 predict_proba메서드에 기반해 생성된 API"
   ]
  },
  {
   "cell_type": "code",
   "execution_count": null,
   "id": "b7297feb",
   "metadata": {},
   "outputs": [],
   "source": [
    "# 위 로직을 직접 코드로 구현하기 (트레이드오프 방식 이해)\n",
    "\n",
    "# Binarizer 클래스 사용_임계 값에 따라 데이터를 이진화합니다 (특성 값을 0 또는 1로 설정)\n",
    "# (fit_transfor으로 입력된 배열 값이 지정한 변수보다 작으면 0, 크면 1값으로 변환해 반환해주는 메소드)"
   ]
  },
  {
   "cell_type": "code",
   "execution_count": 53,
   "id": "49d3e861",
   "metadata": {},
   "outputs": [
    {
     "data": {
      "text/plain": [
       "array([[0, 0, 1],\n",
       "       [1, 0, 0]])"
      ]
     },
     "execution_count": 53,
     "metadata": {},
     "output_type": "execute_result"
    }
   ],
   "source": [
    "# Binarizer 예시\n",
    "from sklearn.preprocessing import Binarizer\n",
    "\n",
    "X = [[1, -1, 2],\n",
    "    [2, 0, 0]]\n",
    "binarizer = Binarizer(threshold=1.1)\n",
    "binarizer.fit_transform(X)"
   ]
  },
  {
   "cell_type": "markdown",
   "id": "5edcfe43",
   "metadata": {},
   "source": [
    "- 코드 구현"
   ]
  },
  {
   "cell_type": "code",
   "execution_count": 55,
   "id": "ed5fd878",
   "metadata": {
    "scrolled": true
   },
   "outputs": [
    {
     "name": "stdout",
     "output_type": "stream",
     "text": [
      "오차 행렬\n",
      "[[108  10]\n",
      " [ 14  47]]\n",
      "정확도: 0.8659, 정밀도: 0.8246, 재현율: 0.7705, F1 : 0.7966\n"
     ]
    }
   ],
   "source": [
    "# 임계값\n",
    "custom_threshold = 0.5\n",
    "\n",
    "# predict_proba 반환값 중 1 인(Positive) 칼럼 하나만 추출해 적용\n",
    "pred_proba_1 = pred_proba[:, 1].reshape(-1, 1)\n",
    "\n",
    "binarizer = Binarizer(threshold = custom_threshold).fit(pred_proba_1)\n",
    "custom_predict = binarizer.transform(pred_proba_1)\n",
    "\n",
    "get_clf_eval(y_test, custom_predict)"
   ]
  },
  {
   "cell_type": "markdown",
   "id": "3e52c9d7",
   "metadata": {},
   "source": [
    "=> predict메서드로만 계산된 지표와 같음"
   ]
  },
  {
   "cell_type": "code",
   "execution_count": 56,
   "id": "e0fd682c",
   "metadata": {
    "scrolled": true
   },
   "outputs": [
    {
     "name": "stdout",
     "output_type": "stream",
     "text": [
      "오차 행렬\n",
      "[[97 21]\n",
      " [11 50]]\n",
      "정확도: 0.8212, 정밀도: 0.7042, 재현율: 0.8197, F1 : 0.7576\n"
     ]
    }
   ],
   "source": [
    "# 임곗값을 0.4로 낮춤\n",
    "custom_threshold = 0.4\n",
    "\n",
    "# predict_proba 반환값 중 1 인(Positive) 칼럼 하나만 추출해 적용\n",
    "pred_proba_1 = pred_proba[:, 1].reshape(-1, 1)\n",
    "\n",
    "binarizer = Binarizer(threshold = custom_threshold).fit(pred_proba_1)\n",
    "custom_predict = binarizer.transform(pred_proba_1)\n",
    "\n",
    "get_clf_eval(y_test, custom_predict)"
   ]
  },
  {
   "cell_type": "raw",
   "id": "8bbd1207",
   "metadata": {},
   "source": [
    "=> 재현율이 올라가고 정밀도가 떨어짐 (실제 N인 경우 11씩 감소증가, 실제 P인 경우가 3씩 증가)\n",
    "=> 실제 P일 확률이 더 높아짐 (N은 감소)"
   ]
  },
  {
   "cell_type": "code",
   "execution_count": 80,
   "id": "50f92d42",
   "metadata": {},
   "outputs": [
    {
     "name": "stdout",
     "output_type": "stream",
     "text": [
      "임계값: 0.4\n",
      "오차 행렬\n",
      "[[97 21]\n",
      " [11 50]]\n",
      "정확도: 0.8212, 정밀도: 0.7042, 재현율: 0.8197, F1 :  0.7576\n",
      "재현율 - 정밀도 =  0.12\n",
      "-------------\n",
      "임계값: 0.45\n",
      "오차 행렬\n",
      "[[105  13]\n",
      " [ 13  48]]\n",
      "정확도: 0.8547, 정밀도: 0.7869, 재현율: 0.7869, F1 :  0.7869\n",
      "재현율 - 정밀도 =  0.00\n",
      "-------------\n",
      "임계값: 0.5\n",
      "오차 행렬\n",
      "[[108  10]\n",
      " [ 14  47]]\n",
      "정확도: 0.8659, 정밀도: 0.8246, 재현율: 0.7705, F1 :  0.7966\n",
      "재현율 - 정밀도 = -0.05\n",
      "-------------\n",
      "임계값: 0.55\n",
      "오차 행렬\n",
      "[[111   7]\n",
      " [ 16  45]]\n",
      "정확도: 0.8715, 정밀도: 0.8654, 재현율: 0.7377, F1 :  0.7965\n",
      "재현율 - 정밀도 = -0.13\n",
      "-------------\n",
      "임계값: 0.6\n",
      "오차 행렬\n",
      "[[113   5]\n",
      " [ 17  44]]\n",
      "정확도: 0.8771, 정밀도: 0.8980, 재현율: 0.7213, F1 :  0.8000\n",
      "재현율 - 정밀도 = -0.18\n",
      "-------------\n"
     ]
    }
   ],
   "source": [
    "# 임계값을 0.4~0.6까지 0.05단위로 계산\n",
    "thresholds = [0.4, 0.45, 0.5, 0.55, 0.6]\n",
    "\n",
    "# 재현율과 정밀도 차이 값 추가\n",
    "def get_clf_eval1(y_test , pred):\n",
    "    confusion = confusion_matrix(y_test, pred)\n",
    "    accuracy = accuracy_score(y_test , pred)\n",
    "    precision = precision_score(y_test , pred)\n",
    "    recall = recall_score(y_test , pred)\n",
    "    f1 = f1_score(y_test, pred)\n",
    "    print('오차 행렬')\n",
    "    print(confusion)\n",
    "    print('정확도: {0:.4f}, 정밀도: {1:.4f}, 재현율: {2:.4f}, F1 : {3: .4f}'.format(accuracy , precision ,recall, f1))\n",
    "    print(f'재현율 - 정밀도 = {recall-precision : .2f}')\n",
    "\n",
    "def get_eval_by_thredshold(y_test, pred_proba_1, thresholds):\n",
    "    for threshold in thresholds:\n",
    "        binarizer = Binarizer(threshold=threshold).fit(pred_proba_1)\n",
    "        custom_predict = binarizer.transform(pred_proba_1)\n",
    "        print(f'임계값: {threshold}')\n",
    "        get_clf_eval1(y_test, custom_predict)\n",
    "        print('-------------')\n",
    "get_eval_by_thredshold(y_test, pred_proba_1, thresholds)"
   ]
  },
  {
   "cell_type": "raw",
   "id": "cab716c6",
   "metadata": {},
   "source": [
    "=> 임계값이 커질 수록 실제 P일 확률이 감소, 재현율 감소, 정밀도 증가 (실제 N일 확률은 각 동일한 비율로 증가 감소, 실제 P일 확률은 동일한 비율로 감소)\n",
    "=> 재현율과 정밀도가 가장 비슷한 0.45가 적절\n",
    "=> 임계값이 0.6일 때 F1이 가장 크지만 재현율이 크게 감소하여 이에 주의해야함"
   ]
  },
  {
   "cell_type": "code",
   "execution_count": 62,
   "id": "d74f478d",
   "metadata": {},
   "outputs": [
    {
     "name": "stdout",
     "output_type": "stream",
     "text": [
      "반환된 분류 결정 임곗값 배열의 shape: (147,)\n"
     ]
    }
   ],
   "source": [
    "# 위와 유사한 API => precision_recall_curve() \n",
    "# 파라미터 : y_true (실제 클래스값 배열), probas_pred (P칼럼의 예측 확률 배열)\n",
    "# 반환 : 정밀도, 재현율 (임곗값별 값)\n",
    "\n",
    "# 임계값0.11~0.95 중 10건만 추출\n",
    "\n",
    "from sklearn.metrics import precision_recall_curve\n",
    "\n",
    "# 레이블 값이 1일 때 예측 확률 추출 (P칼럼의 예측 확률 배열)\n",
    "pred_proba_class1 = lr_clf.predict_proba(X_test)[:, 1]\n",
    "\n",
    "# 실제값 데이터 시트와 레이블 값이 1일 때 예측확률\n",
    "precisions, recalls, thresholds = precision_recall_curve(y_test, pred_proba_class1)\n",
    "print('반환된 분류 결정 임곗값 배열의 shape:', thresholds.shape)"
   ]
  },
  {
   "cell_type": "code",
   "execution_count": 64,
   "id": "405a71a0",
   "metadata": {},
   "outputs": [
    {
     "name": "stdout",
     "output_type": "stream",
     "text": [
      "샘플 추출을 위한 임계값 배열의 index 10개: [  0  15  30  45  60  75  90 105 120 135]\n",
      "샘플용 10개의 임계값: [0.12 0.13 0.15 0.17 0.26 0.38 0.49 0.63 0.76 0.9 ]\n",
      "샘플 임계값별 정밀도: [0.379 0.424 0.455 0.519 0.618 0.676 0.797 0.93  0.964 1.   ]\n",
      "샘플 임계값별 재현율: [1.    0.967 0.902 0.902 0.902 0.82  0.77  0.656 0.443 0.213]\n"
     ]
    }
   ],
   "source": [
    "# 반환된 임계값 배열 로우 중 10개만 샘플 추출(15단계)\n",
    "thr_index = np.arange(0, thresholds.shape[0], 15)\n",
    "print('샘플 추출을 위한 임계값 배열의 index 10개:', thr_index)\n",
    "print('샘플용 10개의 임계값:', np.round(thresholds[thr_index], 2))\n",
    "\n",
    "# 15step 단위로 추출된 임계값에 따른 정밀도와 재현율 값\n",
    "print('샘플 임계값별 정밀도:', np.round(precisions[thr_index], 3))\n",
    "print('샘플 임계값별 재현율:', np.round(recalls[thr_index], 3))"
   ]
  },
  {
   "cell_type": "code",
   "execution_count": 74,
   "id": "5b2715db",
   "metadata": {},
   "outputs": [
    {
     "data": {
      "image/png": "[encoded data removed]",
      "text/plain": [
       "<Figure size 720x576 with 1 Axes>"
      ]
     },
     "metadata": {
      "needs_background": "light"
     },
     "output_type": "display_data"
    }
   ],
   "source": [
    "# 시각화\n",
    "def precision_recall_curve_plot(y_test, pred_proba_1):\n",
    "    precisions, recalls, thresholds = precision_recall_curve(y_test, pred_proba_1)\n",
    "    \n",
    "    # x축을 임계값, y축은 정밀도, 재현율 값.\n",
    "    plt.figure(figsize = (10, 8))\n",
    "    threshold_boundary = thresholds.shape[0]\n",
    "    plt.plot(thresholds, precisions[0:threshold_boundary], linestyle = '-', label='정밀도', color='red')\n",
    "    plt.plot(thresholds, recalls[0:threshold_boundary], label = '재현율', color = 'blue')\n",
    "    \n",
    "    # x축 0.1단위\n",
    "    start, end = plt.xlim()\n",
    "    plt.xticks(np.round(np.arange(start, end, 0.1), 2))\n",
    "    \n",
    "    # x축, y축 라벨, 범례 설정\n",
    "    plt.xlabel('임계값', size=15)\n",
    "    plt.ylabel('정밀도, 재현율 값', size = 15)\n",
    "    plt.legend()\n",
    "    plt.show()\n",
    "    \n",
    "precision_recall_curve_plot(y_test, lr_clf.predict_proba(X_test)[:, -1])"
   ]
  },
  {
   "cell_type": "markdown",
   "id": "a4854d4a",
   "metadata": {},
   "source": [
    "- 정밀도가 100%가 되는 법 : 확실한 경우에만 P로 예측 (TP는 무조건 1, FP는 0 => TP/(TP+FP) = 1)\n",
    "- 재현율이 100%가 되는 법 : 모두 P로 예측 (FN은 무조건 0 => TP/(FN+TP) = 1)"
   ]
  },
  {
   "cell_type": "markdown",
   "id": "a9249be1",
   "metadata": {},
   "source": [
    "#### 과제_0914_3\n",
    "ROC Curve와 AUC를 시각화하여 의미를 설명하고 ROC AUC 값을 구하기"
   ]
  },
  {
   "cell_type": "markdown",
   "id": "bd2decbe",
   "metadata": {},
   "source": [
    "**ROC 곡선** (receiver operation characteristic curve)\n",
    "\n",
    "→ FPR(False Positive Rate) 가 변할 때 TPR(True Positive Rate)가 어떻게 변화하는지 나타낸 곡선\n",
    "\n",
    "(x축: FPR, y축: TPR _ 서로 반비례 관계)\n",
    "\n",
    "TPR = 재현율(민감도) ↔ TNR = 특이성\n",
    "\n",
    "TPR = TP / (FN+TP)\n",
    "\n",
    "TNR = TN / (FP+TN)\n",
    "\n",
    "FPR = FP / (FP+TN) = 1 - TNR  *(FPR+TNR = 1)*\n",
    "임계값이 0일 수록 FPR이 1에 가까워짐, 임계값이 1일 수록 FPR이 0에 가까워짐\n",
    "- sklearn의 roc_curve 사용(입력값: 실제 클래스 값, predict_proba의 반환값에서 P칼럼의 예측 확률_주사용됨/ 반환: FPR, TPR, 임계값 배열)"
   ]
  },
  {
   "cell_type": "code",
   "execution_count": 85,
   "id": "21f8d63b",
   "metadata": {},
   "outputs": [
    {
     "name": "stdout",
     "output_type": "stream",
     "text": [
      "(48,)\n"
     ]
    },
    {
     "data": {
      "text/plain": [
       "array([1.94326279, 0.94326279, 0.94040086])"
      ]
     },
     "execution_count": 85,
     "metadata": {},
     "output_type": "execute_result"
    }
   ],
   "source": [
    "from sklearn.metrics import roc_curve\n",
    "\n",
    "pred_proba_1 = lr_clf.predict_proba(X_test)[:, 1]\n",
    "\n",
    "fprs, tprs, thresholds = roc_curve(y_test, pred_proba_1)\n",
    "print(thresholds.shape)\n",
    "thresholds[:3]"
   ]
  },
  {
   "cell_type": "code",
   "execution_count": 95,
   "id": "2292ca62",
   "metadata": {},
   "outputs": [
    {
     "name": "stdout",
     "output_type": "stream",
     "text": [
      "샘플 추출을 위한 임곗값 배열의 index: [ 1  6 11 16 21 26 31 36 41 46]\n",
      "샘플 index로 추출한 임곗값: [0.94 0.73 0.62 0.52 0.44 0.28 0.15 0.14 0.13 0.12]\n",
      "샘플 임곗값 별 FPR: [0.    0.008 0.025 0.076 0.127 0.254 0.576 0.61  0.746 0.847]\n",
      "샘플 임곗값 별 TPR: [0.016 0.492 0.705 0.738 0.803 0.885 0.902 0.951 0.967 1.   ]\n",
      "FPR 변화 [0.008 0.017 0.051 0.051 0.127 0.322 0.034 0.136 0.102]\n",
      "TPR 변화 [0.475 0.213 0.033 0.066 0.082 0.016 0.049 0.016 0.033]\n"
     ]
    }
   ],
   "source": [
    "# 임계값 중 5 step으로 샘플 추출, 0번째 값은 max(예측확률)+1 로 임의 설정되어 제외하고 추출\n",
    "\n",
    "thr_index = np.arange(1, thresholds.shape[0], 5)\n",
    "print('샘플 추출을 위한 임곗값 배열의 index:', thr_index)\n",
    "print('샘플 index로 추출한 임곗값:', np.round(thresholds[thr_index], 2))\n",
    "\n",
    "# 5 단위로 추출한 임계값에 따른 FPR, TPR값\n",
    "print('샘플 임곗값 별 FPR:', np.round(fprs[thr_index], 3))\n",
    "print('샘플 임곗값 별 TPR:', np.round(tprs[thr_index], 3))\n",
    "\n",
    "fpli = []\n",
    "tpli = []\n",
    "for i in range(len(thr_index)-1):\n",
    "    fp = fprs[thr_index][i+1]-fprs[thr_index][i]\n",
    "    tp = tprs[thr_index][i+1]-tprs[thr_index][i]\n",
    "    fpli.append(fp)\n",
    "    tpli.append(tp)\n",
    "print('FPR 변화', np.round(fpli, 3))\n",
    "print('TPR 변화', np.round(tpli, 3))"
   ]
  },
  {
   "cell_type": "raw",
   "id": "081ccabe",
   "metadata": {},
   "source": [
    "-> 임계값이 1에 가까울 수록 FPR이 작아짐, FPR보다 TPR이 더 가파르게 커짐"
   ]
  },
  {
   "cell_type": "code",
   "execution_count": 103,
   "id": "a55f2a1f",
   "metadata": {},
   "outputs": [
    {
     "data": {
      "image/png": "[encoded data removed]",
      "text/plain": [
       "<Figure size 720x576 with 1 Axes>"
      ]
     },
     "metadata": {
      "needs_background": "light"
     },
     "output_type": "display_data"
    }
   ],
   "source": [
    "# ROC곡선으로 시각화\n",
    "\n",
    "def roc_curve_plot(y_test, pred_proba_1):\n",
    "    fprs, tprs, thresholds = roc_curve(y_test, pred_proba_1)\n",
    "    fig = plt.figure(figsize = (10, 8))\n",
    "    ax = fig.add_subplot(111)\n",
    "    # ROC 곡선\n",
    "    ax.plot(fprs, tprs, label = 'ROC')\n",
    "    # 가운데 직선\n",
    "    ax.plot([0,1], [0,1], 'k--', label = 'Random')\n",
    "    \n",
    "    # FPR X축을 0.1단위로 변경\n",
    "    start, end = ax.set_xlim()\n",
    "    ax.set_xticks(np.round(np.arange(start, end, 0.1), 2))\n",
    "    ax.set_xlim(0, 1)\n",
    "    ax.set_ylim(0,1)\n",
    "    ax.set_xlabel('FPR(1-TNR)', size = 15)\n",
    "    ax.set_ylabel('TPR(재현율)', size = 15)\n",
    "    ax.legend()\n",
    "roc_curve_plot(y_test, pred_proba_1)"
   ]
  },
  {
   "cell_type": "markdown",
   "id": "49d42fe5",
   "metadata": {},
   "source": [
    "=> AUC값 : ROC곡선 밑의 면적 (1에 가까울수록 좋은 수치)"
   ]
  },
  {
   "cell_type": "code",
   "execution_count": 104,
   "id": "b9625458",
   "metadata": {},
   "outputs": [
    {
     "name": "stdout",
     "output_type": "stream",
     "text": [
      "ROC AUC값 : 0.8986524034454015\n"
     ]
    }
   ],
   "source": [
    "# AUC 값\n",
    "from sklearn.metrics import roc_auc_score\n",
    "\n",
    "pred_proba = lr_clf.predict_proba(X_test)[:, 1]\n",
    "roc_score = roc_auc_score(y_test, pred_proba)\n",
    "print(f'ROC AUC값 : {roc_score}')"
   ]
  },
  {
   "cell_type": "markdown",
   "id": "863ebf89",
   "metadata": {},
   "source": [
    "## 피마 인디언 당뇨병 예측\n",
    "* 데이터 세트는 북아메리카 피마 지역 원주민의 Type-2 당뇨병 결과 데이터임.\n",
    "* 고립된 지역에서 인디언 고유의 혈통이 지속돼 왔지만 20세기 후반에 들어서면서 서구화된 식습관으로 많은 당뇨 환자 발생"
   ]
  },
  {
   "cell_type": "markdown",
   "id": "dc250da9",
   "metadata": {},
   "source": [
    "[0914_도전과제] diabetes.csv 데이터세트를 이용해 다음사항을 수행하여 당뇨병 여부를 판단하는 머신러닝 예측 모델을 작성하고 평가하세요.\n",
    "- SkinThickness 와 Insulin의 0 값은 상당히 많기 때문에 일괄 삭제가 어려우며 평균값으로 대체\n",
    "- 정확도, 정밀도, 재현율, F1 Score, ROC_AUC Score를 포함하는 평가지표 사용자 함수 작성\n",
    "- 정밀도와 재현율의 임곗값에 따른 값 변화를 곡선 형태로 시각화\n",
    "- 전체적인 성능 평가 지표를 유지하면서 재현율을 약간 향상시키는 임계값 산출\n",
    "- 산출된 임계값을 적용한 평가\n",
    "\n",
    "※ 피처 정보  \n",
    "'Pregnancies'(임신 횟수), 'Glucose'(포도당 부하 검사 수치), 'BloodPressure'(혈압), \n",
    "'SkinThickness'(팔 삼두근 뒤쪽의 피하지방 측정값, 'Insulin'(혈청 인슈린),\n",
    "'BMI'(체질량 지수), 'DiabetesPedigreeFunction'(당뇨 내력 가중치 값), 'Age', 'Outcome'\n"
   ]
  },
  {
   "cell_type": "code",
   "execution_count": 72,
   "id": "2d7eee27",
   "metadata": {},
   "outputs": [],
   "source": [
    "import numpy as np\n",
    "import pandas as pd\n",
    "import warnings \n",
    "warnings.filterwarnings('ignore')\n",
    "\n",
    "from sklearn.model_selection import train_test_split\n",
    "from sklearn.linear_model import LogisticRegression\n",
    "from sklearn.preprocessing import LabelEncoder, StandardScaler, Binarizer\n",
    "from sklearn.metrics import accuracy_score, precision_score , recall_score , confusion_matrix, f1_score, roc_auc_score, precision_recall_curve, roc_curve"
   ]
  },
  {
   "cell_type": "code",
   "execution_count": 64,
   "id": "28191271",
   "metadata": {},
   "outputs": [
    {
     "data": {
      "text/html": [
       "<div>\n",
       "<style scoped>\n",
       "    .dataframe tbody tr th:only-of-type {\n",
       "        vertical-align: middle;\n",
       "    }\n",
       "\n",
       "    .dataframe tbody tr th {\n",
       "        vertical-align: top;\n",
       "    }\n",
       "\n",
       "    .dataframe thead th {\n",
       "        text-align: right;\n",
       "    }\n",
       "</style>\n",
       "<table border=\"1\" class=\"dataframe\">\n",
       "  <thead>\n",
       "    <tr style=\"text-align: right;\">\n",
       "      <th></th>\n",
       "      <th>Pregnancies</th>\n",
       "      <th>Glucose</th>\n",
       "      <th>BloodPressure</th>\n",
       "      <th>SkinThickness</th>\n",
       "      <th>Insulin</th>\n",
       "      <th>BMI</th>\n",
       "      <th>DiabetesPedigreeFunction</th>\n",
       "      <th>Age</th>\n",
       "      <th>Outcome</th>\n",
       "    </tr>\n",
       "  </thead>\n",
       "  <tbody>\n",
       "    <tr>\n",
       "      <th>0</th>\n",
       "      <td>6</td>\n",
       "      <td>148</td>\n",
       "      <td>72</td>\n",
       "      <td>35</td>\n",
       "      <td>0</td>\n",
       "      <td>33.6</td>\n",
       "      <td>0.627</td>\n",
       "      <td>50</td>\n",
       "      <td>1</td>\n",
       "    </tr>\n",
       "    <tr>\n",
       "      <th>1</th>\n",
       "      <td>1</td>\n",
       "      <td>85</td>\n",
       "      <td>66</td>\n",
       "      <td>29</td>\n",
       "      <td>0</td>\n",
       "      <td>26.6</td>\n",
       "      <td>0.351</td>\n",
       "      <td>31</td>\n",
       "      <td>0</td>\n",
       "    </tr>\n",
       "    <tr>\n",
       "      <th>2</th>\n",
       "      <td>8</td>\n",
       "      <td>183</td>\n",
       "      <td>64</td>\n",
       "      <td>0</td>\n",
       "      <td>0</td>\n",
       "      <td>23.3</td>\n",
       "      <td>0.672</td>\n",
       "      <td>32</td>\n",
       "      <td>1</td>\n",
       "    </tr>\n",
       "    <tr>\n",
       "      <th>3</th>\n",
       "      <td>1</td>\n",
       "      <td>89</td>\n",
       "      <td>66</td>\n",
       "      <td>23</td>\n",
       "      <td>94</td>\n",
       "      <td>28.1</td>\n",
       "      <td>0.167</td>\n",
       "      <td>21</td>\n",
       "      <td>0</td>\n",
       "    </tr>\n",
       "    <tr>\n",
       "      <th>4</th>\n",
       "      <td>0</td>\n",
       "      <td>137</td>\n",
       "      <td>40</td>\n",
       "      <td>35</td>\n",
       "      <td>168</td>\n",
       "      <td>43.1</td>\n",
       "      <td>2.288</td>\n",
       "      <td>33</td>\n",
       "      <td>1</td>\n",
       "    </tr>\n",
       "  </tbody>\n",
       "</table>\n",
       "</div>"
      ],
      "text/plain": [
       "   Pregnancies  Glucose  BloodPressure  SkinThickness  Insulin   BMI  \\\n",
       "0            6      148             72             35        0  33.6   \n",
       "1            1       85             66             29        0  26.6   \n",
       "2            8      183             64              0        0  23.3   \n",
       "3            1       89             66             23       94  28.1   \n",
       "4            0      137             40             35      168  43.1   \n",
       "\n",
       "   DiabetesPedigreeFunction  Age  Outcome  \n",
       "0                     0.627   50        1  \n",
       "1                     0.351   31        0  \n",
       "2                     0.672   32        1  \n",
       "3                     0.167   21        0  \n",
       "4                     2.288   33        1  "
      ]
     },
     "execution_count": 64,
     "metadata": {},
     "output_type": "execute_result"
    }
   ],
   "source": [
    "dia_df = pd.read_csv('diabetes.csv')\n",
    "dia_df.head()"
   ]
  },
  {
   "cell_type": "markdown",
   "id": "4a76dfe4",
   "metadata": {},
   "source": [
    "- 값 확인"
   ]
  },
  {
   "cell_type": "code",
   "execution_count": 65,
   "id": "9000bedb",
   "metadata": {},
   "outputs": [
    {
     "name": "stdout",
     "output_type": "stream",
     "text": [
      "<class 'pandas.core.frame.DataFrame'>\n",
      "RangeIndex: 768 entries, 0 to 767\n",
      "Data columns (total 9 columns):\n",
      " #   Column                    Non-Null Count  Dtype  \n",
      "---  ------                    --------------  -----  \n",
      " 0   Pregnancies               768 non-null    int64  \n",
      " 1   Glucose                   768 non-null    int64  \n",
      " 2   BloodPressure             768 non-null    int64  \n",
      " 3   SkinThickness             768 non-null    int64  \n",
      " 4   Insulin                   768 non-null    int64  \n",
      " 5   BMI                       768 non-null    float64\n",
      " 6   DiabetesPedigreeFunction  768 non-null    float64\n",
      " 7   Age                       768 non-null    int64  \n",
      " 8   Outcome                   768 non-null    int64  \n",
      "dtypes: float64(2), int64(7)\n",
      "memory usage: 54.1 KB\n"
     ]
    }
   ],
   "source": [
    "dia_df.info()"
   ]
  },
  {
   "cell_type": "code",
   "execution_count": 66,
   "id": "4f6c6a26",
   "metadata": {},
   "outputs": [
    {
     "data": {
      "text/plain": [
       "0    500\n",
       "1    268\n",
       "Name: Outcome, dtype: int64"
      ]
     },
     "execution_count": 66,
     "metadata": {},
     "output_type": "execute_result"
    }
   ],
   "source": [
    "dia_df.Outcome.value_counts()"
   ]
  },
  {
   "cell_type": "code",
   "execution_count": 68,
   "id": "795fa8af",
   "metadata": {
    "scrolled": true
   },
   "outputs": [
    {
     "data": {
      "text/html": [
       "<div>\n",
       "<style scoped>\n",
       "    .dataframe tbody tr th:only-of-type {\n",
       "        vertical-align: middle;\n",
       "    }\n",
       "\n",
       "    .dataframe tbody tr th {\n",
       "        vertical-align: top;\n",
       "    }\n",
       "\n",
       "    .dataframe thead th {\n",
       "        text-align: right;\n",
       "    }\n",
       "</style>\n",
       "<table border=\"1\" class=\"dataframe\">\n",
       "  <thead>\n",
       "    <tr style=\"text-align: right;\">\n",
       "      <th></th>\n",
       "      <th>Pregnancies</th>\n",
       "      <th>Glucose</th>\n",
       "      <th>BloodPressure</th>\n",
       "      <th>SkinThickness</th>\n",
       "      <th>Insulin</th>\n",
       "      <th>BMI</th>\n",
       "      <th>DiabetesPedigreeFunction</th>\n",
       "      <th>Age</th>\n",
       "      <th>Outcome</th>\n",
       "    </tr>\n",
       "  </thead>\n",
       "  <tbody>\n",
       "    <tr>\n",
       "      <th>count</th>\n",
       "      <td>768.000000</td>\n",
       "      <td>768.000000</td>\n",
       "      <td>768.000000</td>\n",
       "      <td>768.000000</td>\n",
       "      <td>768.000000</td>\n",
       "      <td>768.000000</td>\n",
       "      <td>768.000000</td>\n",
       "      <td>768.000000</td>\n",
       "      <td>768.000000</td>\n",
       "    </tr>\n",
       "    <tr>\n",
       "      <th>mean</th>\n",
       "      <td>3.845052</td>\n",
       "      <td>120.894531</td>\n",
       "      <td>69.105469</td>\n",
       "      <td>20.536458</td>\n",
       "      <td>79.799479</td>\n",
       "      <td>31.992578</td>\n",
       "      <td>0.471876</td>\n",
       "      <td>33.240885</td>\n",
       "      <td>0.348958</td>\n",
       "    </tr>\n",
       "    <tr>\n",
       "      <th>std</th>\n",
       "      <td>3.369578</td>\n",
       "      <td>31.972618</td>\n",
       "      <td>19.355807</td>\n",
       "      <td>15.952218</td>\n",
       "      <td>115.244002</td>\n",
       "      <td>7.884160</td>\n",
       "      <td>0.331329</td>\n",
       "      <td>11.760232</td>\n",
       "      <td>0.476951</td>\n",
       "    </tr>\n",
       "    <tr>\n",
       "      <th>min</th>\n",
       "      <td>0.000000</td>\n",
       "      <td>0.000000</td>\n",
       "      <td>0.000000</td>\n",
       "      <td>0.000000</td>\n",
       "      <td>0.000000</td>\n",
       "      <td>0.000000</td>\n",
       "      <td>0.078000</td>\n",
       "      <td>21.000000</td>\n",
       "      <td>0.000000</td>\n",
       "    </tr>\n",
       "    <tr>\n",
       "      <th>25%</th>\n",
       "      <td>1.000000</td>\n",
       "      <td>99.000000</td>\n",
       "      <td>62.000000</td>\n",
       "      <td>0.000000</td>\n",
       "      <td>0.000000</td>\n",
       "      <td>27.300000</td>\n",
       "      <td>0.243750</td>\n",
       "      <td>24.000000</td>\n",
       "      <td>0.000000</td>\n",
       "    </tr>\n",
       "    <tr>\n",
       "      <th>50%</th>\n",
       "      <td>3.000000</td>\n",
       "      <td>117.000000</td>\n",
       "      <td>72.000000</td>\n",
       "      <td>23.000000</td>\n",
       "      <td>30.500000</td>\n",
       "      <td>32.000000</td>\n",
       "      <td>0.372500</td>\n",
       "      <td>29.000000</td>\n",
       "      <td>0.000000</td>\n",
       "    </tr>\n",
       "    <tr>\n",
       "      <th>75%</th>\n",
       "      <td>6.000000</td>\n",
       "      <td>140.250000</td>\n",
       "      <td>80.000000</td>\n",
       "      <td>32.000000</td>\n",
       "      <td>127.250000</td>\n",
       "      <td>36.600000</td>\n",
       "      <td>0.626250</td>\n",
       "      <td>41.000000</td>\n",
       "      <td>1.000000</td>\n",
       "    </tr>\n",
       "    <tr>\n",
       "      <th>max</th>\n",
       "      <td>17.000000</td>\n",
       "      <td>199.000000</td>\n",
       "      <td>122.000000</td>\n",
       "      <td>99.000000</td>\n",
       "      <td>846.000000</td>\n",
       "      <td>67.100000</td>\n",
       "      <td>2.420000</td>\n",
       "      <td>81.000000</td>\n",
       "      <td>1.000000</td>\n",
       "    </tr>\n",
       "  </tbody>\n",
       "</table>\n",
       "</div>"
      ],
      "text/plain": [
       "       Pregnancies     Glucose  BloodPressure  SkinThickness     Insulin  \\\n",
       "count   768.000000  768.000000     768.000000     768.000000  768.000000   \n",
       "mean      3.845052  120.894531      69.105469      20.536458   79.799479   \n",
       "std       3.369578   31.972618      19.355807      15.952218  115.244002   \n",
       "min       0.000000    0.000000       0.000000       0.000000    0.000000   \n",
       "25%       1.000000   99.000000      62.000000       0.000000    0.000000   \n",
       "50%       3.000000  117.000000      72.000000      23.000000   30.500000   \n",
       "75%       6.000000  140.250000      80.000000      32.000000  127.250000   \n",
       "max      17.000000  199.000000     122.000000      99.000000  846.000000   \n",
       "\n",
       "              BMI  DiabetesPedigreeFunction         Age     Outcome  \n",
       "count  768.000000                768.000000  768.000000  768.000000  \n",
       "mean    31.992578                  0.471876   33.240885    0.348958  \n",
       "std      7.884160                  0.331329   11.760232    0.476951  \n",
       "min      0.000000                  0.078000   21.000000    0.000000  \n",
       "25%     27.300000                  0.243750   24.000000    0.000000  \n",
       "50%     32.000000                  0.372500   29.000000    0.000000  \n",
       "75%     36.600000                  0.626250   41.000000    1.000000  \n",
       "max     67.100000                  2.420000   81.000000    1.000000  "
      ]
     },
     "execution_count": 68,
     "metadata": {},
     "output_type": "execute_result"
    }
   ],
   "source": [
    "dia_df.describe()"
   ]
  },
  {
   "cell_type": "markdown",
   "id": "18915f7f",
   "metadata": {},
   "source": [
    "-> min이 0인곳이 많음"
   ]
  },
  {
   "cell_type": "code",
   "execution_count": 69,
   "id": "35e92c27",
   "metadata": {},
   "outputs": [
    {
     "name": "stdout",
     "output_type": "stream",
     "text": [
      "오차 행렬\n",
      "[[88 12]\n",
      " [23 31]]\n",
      "정확도: 0.7727, 정밀도: 0.7209, 재현율: 0.5741, F1 : 0.6392, AUC : 0.7919\n",
      "재현율 - 정밀도 =  -0.1468561584840654\n"
     ]
    }
   ],
   "source": [
    "def get_clf_eval(y_test , pred=None, pred_proba=None):\n",
    "    confusion = confusion_matrix(y_test, pred)\n",
    "    accuracy = accuracy_score(y_test , pred)\n",
    "    precision = precision_score(y_test , pred)\n",
    "    recall = recall_score(y_test , pred)\n",
    "    f1 = f1_score(y_test, pred)\n",
    "    \n",
    "    # ROC-AUC\n",
    "    roc_auc = roc_auc_score(y_test, pred_proba)\n",
    "    \n",
    "    print('오차 행렬')\n",
    "    print(confusion)\n",
    "    print('정확도: {0:.4f}, 정밀도: {1:.4f}, 재현율: {2:.4f}, F1 :{3: .4f}, AUC :{4: .4f}'.format(accuracy , precision ,recall, f1, roc_auc))\n",
    "    print('재현율 - 정밀도 = ', recall - precision)\n",
    "\n",
    "# outcome빼고 추출\n",
    "X = dia_df.iloc[:, :-1]\n",
    "y = dia_df.iloc[:, -1]\n",
    "\n",
    "X_train, X_test, y_train, y_test = train_test_split(X, y, test_size=0.2, random_state=156, stratify=y) # stratify=y 계층화(train_test_split 함수가 나눠놓은 클래스 레이블 비율을 입력 데이터 셋과 동일하게 맞추는 과정)\n",
    "_ \n",
    "# 로지스틱 회귀로 학습, 예측, 평가 수행\n",
    "lr_clf = LogisticRegression()\n",
    "lr_clf.fit(X_train, y_train)\n",
    "pred = lr_clf.predict(X_test)\n",
    "pred_proba = lr_clf.predict_proba(X_test)[:, 1]\n",
    "\n",
    "get_clf_eval(y_test, pred, pred_proba)"
   ]
  },
  {
   "cell_type": "code",
   "execution_count": 70,
   "id": "24945f72",
   "metadata": {},
   "outputs": [
    {
     "data": {
      "image/png": "[encoded data removed]",
      "text/plain": [
       "<Figure size 720x576 with 1 Axes>"
      ]
     },
     "metadata": {
      "needs_background": "light"
     },
     "output_type": "display_data"
    }
   ],
   "source": [
    "# 임계값에 따른 정밀도 재현율 곡선 변화\n",
    "def precision_recall_curve_plot(y_test=None, pred_proba_c1=None):\n",
    "    # threshold ndarray와 이 threshold에 따른 정밀도, 재현율 ndarray 추출. \n",
    "    precisions, recalls, thresholds = precision_recall_curve( y_test, pred_proba_c1)\n",
    "    \n",
    "    # X축을 threshold값으로, Y축은 정밀도, 재현율 값으로 각각 Plot 수행. 정밀도는 점선으로 표시\n",
    "    plt.figure(figsize=(10,8))\n",
    "    threshold_boundary = thresholds.shape[0]\n",
    "    plt.plot(thresholds, precisions[0:threshold_boundary], linestyle='--', label='정밀도')\n",
    "    plt.plot(thresholds, recalls[0:threshold_boundary],label='재현율')\n",
    "    \n",
    "    # threshold 값 X 축의 Scale을 0.1 단위로 변경\n",
    "    start, end = plt.xlim()\n",
    "    plt.xticks(np.round(np.arange(start, end, 0.1),2))\n",
    "    \n",
    "    # x축, y축 label과 legend, 그리고 grid 설정\n",
    "    plt.xlabel('정밀도', size = 15)\n",
    "    plt.ylabel('재현율', size = 15)\n",
    "    plt.legend()\n",
    "    plt.grid()\n",
    "    plt.show()\n",
    "    \n",
    "pred_proba_1 = lr_clf.predict_proba(X_test)[:, 1]\n",
    "precision_recall_curve_plot(y_test, pred_proba_1)"
   ]
  },
  {
   "cell_type": "markdown",
   "id": "4bcc9ffe",
   "metadata": {},
   "source": [
    "=> 두 곡선이 마주치는 지점의 임계값이 가장 적절 but 정밀도, 재현율 둘 다 0.7 미만의 수치(데이터 조작 필요_min값이 0인 컬럼 조작)"
   ]
  },
  {
   "cell_type": "code",
   "execution_count": 74,
   "id": "faa0c94c",
   "metadata": {},
   "outputs": [
    {
     "data": {
      "image/png": "[encoded data removed]",
      "text/plain": [
       "<Figure size 432x288 with 1 Axes>"
      ]
     },
     "metadata": {
      "needs_background": "light"
     },
     "output_type": "display_data"
    }
   ],
   "source": [
    "# 0값 확인 (한 컬럼만)\n",
    "plt.hist(dia_df['Glucose'], bins = 100)\n",
    "plt.show()"
   ]
  },
  {
   "cell_type": "markdown",
   "id": "fdc1bb53",
   "metadata": {},
   "source": [
    "=> 0값에 어느정도 존재"
   ]
  },
  {
   "cell_type": "code",
   "execution_count": 77,
   "id": "24dfef02",
   "metadata": {},
   "outputs": [
    {
     "name": "stdout",
     "output_type": "stream",
     "text": [
      "Glucose컬럼의 0건수= 5개, 퍼센트=  0.65%\n",
      "BloodPressure컬럼의 0건수= 35개, 퍼센트=  4.56%\n",
      "SkinThickness컬럼의 0건수= 227개, 퍼센트=  29.56%\n",
      "Insulin컬럼의 0건수= 374개, 퍼센트=  48.70%\n",
      "BMI컬럼의 0건수= 11개, 퍼센트=  1.43%\n"
     ]
    }
   ],
   "source": [
    "# 0값 검사\n",
    "zero_features = ['Glucose', 'BloodPressure', 'SkinThickness', 'Insulin', 'BMI']\n",
    "\n",
    "total_count = dia_df['Glucose'].count()\n",
    "\n",
    "for feature in zero_features:\n",
    "    zero_count = dia_df[dia_df[feature]==0][feature].count()\n",
    "    print(f'{feature}컬럼의 0건수= {zero_count}개, 퍼센트= {100*zero_count/total_count : .2f}%')"
   ]
  },
  {
   "cell_type": "markdown",
   "id": "7e43fc96",
   "metadata": {},
   "source": [
    "- 1. 0 값은 상당히 많기 때문에 일괄 삭제가 어려우며 평균값으로 대체"
   ]
  },
  {
   "cell_type": "code",
   "execution_count": 17,
   "id": "00c68d1a",
   "metadata": {},
   "outputs": [],
   "source": [
    "# 1. 0 값은 상당히 많기 때문에 일괄 삭제가 어려우며 평균값으로 대체\n",
    "mean_zero_features = dia_df[zero_features].mean()\n",
    "dia_df[zero_features] = dia_df[zero_features].replace(0, mean_zero_features)"
   ]
  },
  {
   "cell_type": "markdown",
   "id": "b83b5574",
   "metadata": {},
   "source": [
    "- 2. 정확도, 정밀도, 재현율, F1 Score, ROC_AUC Score를 포함하는 평가지표 사용자 함수 작성"
   ]
  },
  {
   "cell_type": "code",
   "execution_count": 21,
   "id": "d3664cfa",
   "metadata": {},
   "outputs": [
    {
     "name": "stdout",
     "output_type": "stream",
     "text": [
      "오차 행렬\n",
      "[[90 10]\n",
      " [21 33]]\n",
      "정확도: 0.7987, 정밀도: 0.7674, 재현율: 0.6111, F1 : 0.6804, AUC : 0.8433\n"
     ]
    }
   ],
   "source": [
    "# outcome 칼럼 제외 추출\n",
    "X = dia_df.iloc[:, :-1]\n",
    "# outcome 칼럼 추출\n",
    "y = dia_df.iloc[:, -1]\n",
    "\n",
    "# 스케일링 적용 (standard 클래스 이용)\n",
    "scaler = StandardScaler()\n",
    "X_scaled = scaler.fit_transform(X)\n",
    "\n",
    "X_train, X_test, y_train, y_test = train_test_split(X_scaled, y, test_size = 0.2, random_state=156, stratify=y)\n",
    "\n",
    "# 로지스틱 회귀로 학습, 예측 및 평가 수행\n",
    "lr_clf = LogisticRegression()\n",
    "lr_clf.fit(X_train, y_train)\n",
    "\n",
    "# 예측\n",
    "pred = lr_clf.predict(X_test)\n",
    "pred_proba = lr_clf.predict_proba(X_test)[:, 1]\n",
    "\n",
    "def get_clf_eval(y_test , pred=None, pred_proba=None):\n",
    "    confusion = confusion_matrix(y_test, pred)\n",
    "    accuracy = accuracy_score(y_test , pred)\n",
    "    precision = precision_score(y_test , pred)\n",
    "    recall = recall_score(y_test , pred)\n",
    "    f1 = f1_score(y_test, pred)\n",
    "    \n",
    "    # ROC-AUC\n",
    "    roc_auc = roc_auc_score(y_test, pred_proba)\n",
    "    \n",
    "    print('오차 행렬')\n",
    "    print(confusion)\n",
    "    print('정확도: {0:.4f}, 정밀도: {1:.4f}, 재현율: {2:.4f}, F1 :{3: .4f}, AUC :{4: .4f}'.format(accuracy , precision ,recall, f1, roc_auc))\n",
    "\n",
    "get_clf_eval(y_test, pred, pred_proba)"
   ]
  },
  {
   "cell_type": "markdown",
   "id": "15dadd9c",
   "metadata": {},
   "source": [
    "=> 재현율 수치 개선 필요"
   ]
  },
  {
   "cell_type": "markdown",
   "id": "80c17d76",
   "metadata": {},
   "source": [
    "- 3. 정밀도와 재현율의 임곗값에 따른 값 변화를 곡선 형태로 시각화"
   ]
  },
  {
   "cell_type": "code",
   "execution_count": 88,
   "id": "82ac99b0",
   "metadata": {
    "scrolled": false
   },
   "outputs": [
    {
     "name": "stdout",
     "output_type": "stream",
     "text": [
      "임계값: 0.3\n",
      "오차 행렬\n",
      "[[63 37]\n",
      " [13 41]]\n",
      "정확도: 0.6753, 정밀도: 0.5256, 재현율: 0.7593, F1 : 0.6212, AUC : 0.7919\n",
      "재현율 - 정밀도 =  0.23361823361823364\n",
      "-------------\n",
      "임계값: 0.33\n",
      "오차 행렬\n",
      "[[67 33]\n",
      " [14 40]]\n",
      "정확도: 0.6948, 정밀도: 0.5479, 재현율: 0.7407, F1 : 0.6299, AUC : 0.7919\n",
      "재현율 - 정밀도 =  0.19279553526128868\n",
      "-------------\n",
      "임계값: 0.36\n",
      "오차 행렬\n",
      "[[73 27]\n",
      " [17 37]]\n",
      "정확도: 0.7143, 정밀도: 0.5781, 재현율: 0.6852, F1 : 0.6271, AUC : 0.7919\n",
      "재현율 - 정밀도 =  0.10706018518518523\n",
      "-------------\n",
      "임계값: 0.39\n",
      "오차 행렬\n",
      "[[77 23]\n",
      " [17 37]]\n",
      "정확도: 0.7403, 정밀도: 0.6167, 재현율: 0.6852, F1 : 0.6491, AUC : 0.7919\n",
      "재현율 - 정밀도 =  0.06851851851851853\n",
      "-------------\n",
      "임계값: 0.41\n",
      "오차 행렬\n",
      "[[81 19]\n",
      " [19 35]]\n",
      "정확도: 0.7532, 정밀도: 0.6481, 재현율: 0.6481, F1 : 0.6481, AUC : 0.7919\n",
      "재현율 - 정밀도 =  0.0\n",
      "-------------\n",
      "임계값: 0.42\n",
      "오차 행렬\n",
      "[[82 18]\n",
      " [19 35]]\n",
      "정확도: 0.7597, 정밀도: 0.6604, 재현율: 0.6481, F1 : 0.6542, AUC : 0.7919\n",
      "재현율 - 정밀도 =  -0.012229210342417862\n",
      "-------------\n",
      "임계값: 0.48\n",
      "오차 행렬\n",
      "[[86 14]\n",
      " [22 32]]\n",
      "정확도: 0.7662, 정밀도: 0.6957, 재현율: 0.5926, F1 : 0.6400, AUC : 0.7919\n",
      "재현율 - 정밀도 =  -0.1030595813204509\n",
      "-------------\n",
      "임계값: 0.5\n",
      "오차 행렬\n",
      "[[88 12]\n",
      " [23 31]]\n",
      "정확도: 0.7727, 정밀도: 0.7209, 재현율: 0.5741, F1 : 0.6392, AUC : 0.7919\n",
      "재현율 - 정밀도 =  -0.1468561584840654\n",
      "-------------\n"
     ]
    }
   ],
   "source": [
    "def get_clf_eval(y_test , pred=None, pred_proba=None):\n",
    "    confusion = confusion_matrix(y_test, pred)\n",
    "    accuracy = accuracy_score(y_test , pred)\n",
    "    precision = precision_score(y_test , pred)\n",
    "    recall = recall_score(y_test , pred)\n",
    "    f1 = f1_score(y_test, pred)\n",
    "    \n",
    "    # ROC-AUC\n",
    "    roc_auc = roc_auc_score(y_test, pred_proba)\n",
    "    \n",
    "    print('오차 행렬')\n",
    "    print(confusion)\n",
    "    print('정확도: {0:.4f}, 정밀도: {1:.4f}, 재현율: {2:.4f}, F1 :{3: .4f}, AUC :{4: .4f}'.format(accuracy , precision ,recall, f1, roc_auc))\n",
    "    print('재현율 - 정밀도 = ', recall - precision)\n",
    "    \n",
    "def get_eval_by_thredshold(y_test, pred_proba_1, thresholds):\n",
    "    for threshold in thresholds:\n",
    "        binarizer = Binarizer(threshold=threshold).fit(pred_proba_1)\n",
    "        custom_predict = binarizer.transform(pred_proba_1)\n",
    "        print(f'임계값: {threshold}')\n",
    "        get_clf_eval(y_test, custom_predict, pred_proba_1)\n",
    "        print('-------------')\n",
    "        \n",
    "# 임계값 변화        \n",
    "thresholds = [0.3, 0.33, 0.36, 0.39, 0.41, 0.42, 0.48, 0.50] # 0.41추가\n",
    "pred_proba = lr_clf.predict_proba(X_test)\n",
    "\n",
    "get_eval_by_thredshold(y_test, pred_proba[:, 1].reshape(-1, 1), thresholds)"
   ]
  },
  {
   "cell_type": "code",
   "execution_count": 83,
   "id": "60a04ac6",
   "metadata": {},
   "outputs": [
    {
     "data": {
      "image/png": "[encoded data removed]",
      "text/plain": [
       "<Figure size 720x576 with 1 Axes>"
      ]
     },
     "metadata": {
      "needs_background": "light"
     },
     "output_type": "display_data"
    }
   ],
   "source": [
    "# 임계값에 따른 정확도, 정밀도 시각화\n",
    "def precision_recall_curve_plot(y_test, pred_proba_c1):\n",
    "    # 임곗값에 따른 정밀도, 재현율 추출\n",
    "    precision, recall, thresholds = precision_recall_curve(y_test, pred_proba_c1) \n",
    "    \n",
    "    # X축 : 임계값, y축 정밀도, 재현율 값\n",
    "    plt.figure(figsize = (10, 8))\n",
    "    threshold_boundary = thresholds.shape[0]\n",
    "    plt.plot(thresholds, precision[0:threshold_boundary], linestyle = '-', label = '정밀도', color = 'red')\n",
    "    plt.plot(thresholds, recall[0: threshold_boundary], label = '재현율', color = 'blue')\n",
    "    \n",
    "    # 임계값 (X)축의 scale을 0.1 단위로 변경\n",
    "    start, end = plt.xlim()\n",
    "    plt.xticks(np.round(np.arange(start, end, 0.1), 2))\n",
    "    \n",
    "    # x, y축 라벨과 범례, 눈금 설정\n",
    "    plt.xlabel('임계값')\n",
    "    plt.ylabel('정밀도와 재현율')\n",
    "    plt.legend()\n",
    "    plt.grid()\n",
    "    plt.show()\n",
    "    \n",
    "precision_recall_curve_plot(y_test, pred_proba[:, 1]) "
   ]
  },
  {
   "cell_type": "markdown",
   "id": "03397e8b",
   "metadata": {},
   "source": [
    "=> 임계값이 0.42일 때 F1이 가장 크고, 정밀도와 재현율의 차이가 가장 적음"
   ]
  },
  {
   "cell_type": "code",
   "execution_count": 90,
   "id": "2b1f81a2",
   "metadata": {},
   "outputs": [
    {
     "data": {
      "image/png": "[encoded data removed]",
      "text/plain": [
       "<Figure size 720x576 with 1 Axes>"
      ]
     },
     "metadata": {
      "needs_background": "light"
     },
     "output_type": "display_data"
    }
   ],
   "source": [
    "# ROC곡선으로 시각화\n",
    "\n",
    "def roc_curve_plot(y_test, pred_proba_1):\n",
    "    fprs, tprs, thresholds = roc_curve(y_test, pred_proba_1)\n",
    "    fig = plt.figure(figsize = (10, 8))\n",
    "    ax = fig.add_subplot(111)\n",
    "    # ROC 곡선\n",
    "    ax.plot(fprs, tprs, label = 'ROC')\n",
    "    # 가운데 직선\n",
    "    ax.plot([0,1], [0,1], 'k--', label = 'Random')\n",
    "    \n",
    "    # FPR X축을 0.1단위로 변경\n",
    "    start, end = ax.set_xlim()\n",
    "    ax.set_xticks(np.round(np.arange(start, end, 0.1), 2))\n",
    "    ax.set_xlim(0, 1)\n",
    "    ax.set_ylim(0,1)\n",
    "    ax.set_xlabel('FPR(1-TNR)', size = 15)\n",
    "    ax.set_ylabel('TPR(재현율)', size = 15)\n",
    "    ax.legend()\n",
    "pred_proba_1 = pred_proba[:, 1].reshape(-1, 1)\n",
    "roc_curve_plot(y_test, pred_proba_1)"
   ]
  },
  {
   "cell_type": "code",
   "execution_count": 91,
   "id": "ec4ac45a",
   "metadata": {},
   "outputs": [
    {
     "name": "stdout",
     "output_type": "stream",
     "text": [
      "오차 행렬\n",
      "[[82 18]\n",
      " [19 35]]\n",
      "정확도: 0.7597, 정밀도: 0.6604, 재현율: 0.6481, F1 : 0.6542, AUC : 0.7919\n",
      "재현율 - 정밀도 =  -0.012229210342417862\n"
     ]
    }
   ],
   "source": [
    "# 임계값이 0.42일 때 값 확인\n",
    "binarizer = Binarizer(threshold = 0.42)\n",
    "pred_th = binarizer.fit_transform(pred_proba_1)\n",
    "get_clf_eval(y_test, pred_th, pred_proba[:, 1])"
   ]
  },
  {
   "cell_type": "markdown",
   "id": "d872cd1c",
   "metadata": {},
   "source": [
    "# 교차검증"
   ]
  },
  {
   "cell_type": "markdown",
   "id": "200d89e9",
   "metadata": {},
   "source": [
    "#### 과제_0916_1\n",
    "p.100 ~ 115 예제 풀기"
   ]
  },
  {
   "cell_type": "markdown",
   "id": "ddea730e",
   "metadata": {},
   "source": [
    "- k 폴드 교차 검증"
   ]
  },
  {
   "cell_type": "code",
   "execution_count": 6,
   "id": "64f1884f",
   "metadata": {},
   "outputs": [
    {
     "name": "stdout",
     "output_type": "stream",
     "text": [
      "붓꽃 데이터 세트 크기: 150\n"
     ]
    }
   ],
   "source": [
    "from sklearn.datasets import load_iris\n",
    "from sklearn.tree import DecisionTreeClassifier\n",
    "from sklearn.metrics import accuracy_score\n",
    "from sklearn.model_selection import KFold # k폴드 구현\n",
    "import numpy as np\n",
    "\n",
    "# 붓꽃 데이터 불러오기\n",
    "iris = load_iris()\n",
    "features = iris.data\n",
    "label = iris.target\n",
    "dt_clf = DecisionTreeClassifier(random_state=156)\n",
    "\n",
    "# 5개의 폴드 세트로 분리\n",
    "kfold = KFold(n_splits=5)\n",
    "# 포드 세트별 정확도 담는 리스트\n",
    "cv_accuracy = []\n",
    "print('붓꽃 데이터 세트 크기:', features.shape[0])"
   ]
  },
  {
   "cell_type": "code",
   "execution_count": 7,
   "id": "a52d9610",
   "metadata": {},
   "outputs": [
    {
     "name": "stdout",
     "output_type": "stream",
     "text": [
      "-------------------------------------------------\n",
      "#1 교차 검증 정확도: 1.0, 학습 데이터 크기: 120, 검증 데이터 크기: 30\n",
      "#1 검증 세트 인덱스: [ 0  1  2  3  4  5  6  7  8  9 10 11 12 13 14 15 16 17 18 19 20 21 22 23\n",
      " 24 25 26 27 28 29]\n",
      "-------------------------------------------------\n",
      "#2 교차 검증 정확도: 0.9667, 학습 데이터 크기: 120, 검증 데이터 크기: 30\n",
      "#2 검증 세트 인덱스: [30 31 32 33 34 35 36 37 38 39 40 41 42 43 44 45 46 47 48 49 50 51 52 53\n",
      " 54 55 56 57 58 59]\n",
      "-------------------------------------------------\n",
      "#3 교차 검증 정확도: 0.8667, 학습 데이터 크기: 120, 검증 데이터 크기: 30\n",
      "#3 검증 세트 인덱스: [60 61 62 63 64 65 66 67 68 69 70 71 72 73 74 75 76 77 78 79 80 81 82 83\n",
      " 84 85 86 87 88 89]\n",
      "-------------------------------------------------\n",
      "#4 교차 검증 정확도: 0.9333, 학습 데이터 크기: 120, 검증 데이터 크기: 30\n",
      "#4 검증 세트 인덱스: [ 90  91  92  93  94  95  96  97  98  99 100 101 102 103 104 105 106 107\n",
      " 108 109 110 111 112 113 114 115 116 117 118 119]\n",
      "-------------------------------------------------\n",
      "#5 교차 검증 정확도: 0.7333, 학습 데이터 크기: 120, 검증 데이터 크기: 30\n",
      "#5 검증 세트 인덱스: [120 121 122 123 124 125 126 127 128 129 130 131 132 133 134 135 136 137\n",
      " 138 139 140 141 142 143 144 145 146 147 148 149]\n",
      "===================전체 확인====================\n",
      "전체 검증 정확도: [1.0, 0.9667, 0.8667, 0.9333, 0.7333]\n",
      "평균 검증 정확도: 0.9\n"
     ]
    }
   ],
   "source": [
    "# k 폴드로 나눈 데이터를 학습용/검증용 테스트의 인덱스 반환\n",
    "n_iter = 0\n",
    "\n",
    "for train_index, test_index in kfold.split(features): # split을 사용하여 전체 데이터를 k개의 폴드 데이터 세트로 분리(학습용 = (k-1)/k, 테스트용 = 1/k)\n",
    "    # 반환된 인덱스로 학습용, 테스트용 데이터 추출\n",
    "    X_train, X_test = features[train_index], features[test_index]\n",
    "    y_train, y_test = label[train_index], label[test_index]\n",
    "    \n",
    "    # 학습, 예측\n",
    "    dt_clf.fit(X_train, y_train)\n",
    "    pred = dt_clf.predict(X_test)\n",
    "    n_iter +=1\n",
    "\n",
    "    # 반복 할 때마다 정확도 측정\n",
    "    accuracy = np.round(accuracy_score(y_test, pred), 4)\n",
    "    train_size = X_train.shape[0]\n",
    "    test_size = X_test.shape[0]\n",
    "    print('-------------------------------------------------')\n",
    "    print(f'#{n_iter} 교차 검증 정확도: {accuracy}, 학습 데이터 크기: {train_size}, 검증 데이터 크기: {test_size}')\n",
    "    print(f'#{n_iter} 검증 세트 인덱스: {test_index}')\n",
    "    cv_accuracy.append(accuracy)\n",
    "\n",
    "# 개별 정확도를 합하여 평균 정확도 계산\n",
    "print('===================전체 확인====================')\n",
    "print('전체 검증 정확도:', cv_accuracy)\n",
    "print(f'평균 검증 정확도: {np.mean(cv_accuracy)}')"
   ]
  },
  {
   "cell_type": "markdown",
   "id": "4d6b65f4",
   "metadata": {},
   "source": [
    "=> 인덱스가 순서대로 쪼개지는걸 알 수 있음 (불균형한 분포를 가진 데이터에는 적합하지 않음)_이를 보완한게 Stratified K폴드"
   ]
  },
  {
   "cell_type": "markdown",
   "id": "c305353a",
   "metadata": {},
   "source": [
    "- Stratified K 폴드\n",
    "  - 원본 데이터의 레이블 분포를 고려 후 해당 분포와 동일하게 학습과 검정 데이터 세트를 분배하는 검증\n"
   ]
  },
  {
   "cell_type": "code",
   "execution_count": 8,
   "id": "c5f01f98",
   "metadata": {},
   "outputs": [],
   "source": [
    "# K폴드 교차 검정의 부적합 예시"
   ]
  },
  {
   "cell_type": "code",
   "execution_count": 9,
   "id": "92ac537e",
   "metadata": {},
   "outputs": [
    {
     "data": {
      "text/plain": [
       "0    50\n",
       "1    50\n",
       "2    50\n",
       "Name: label, dtype: int64"
      ]
     },
     "execution_count": 9,
     "metadata": {},
     "output_type": "execute_result"
    }
   ],
   "source": [
    "# 먼저 원본데이터의 분포 확인\n",
    "\n",
    "iris = load_iris()\n",
    "iris_df = pd.DataFrame(data = iris.data, columns = iris.feature_names)\n",
    "iris_df['label'] = iris.target\n",
    "iris_df['label'].value_counts()"
   ]
  },
  {
   "cell_type": "code",
   "execution_count": 10,
   "id": "ff5dd132",
   "metadata": {},
   "outputs": [
    {
     "name": "stdout",
     "output_type": "stream",
     "text": [
      "교차 검증: 1\n",
      "학습 레이블 분포: \n",
      " 1    50\n",
      "2    50\n",
      "Name: label, dtype: int64\n",
      "검증 레이블 분포: \n",
      " 0    50\n",
      "Name: label, dtype: int64\n",
      "교차 검증: 2\n",
      "학습 레이블 분포: \n",
      " 0    50\n",
      "2    50\n",
      "Name: label, dtype: int64\n",
      "검증 레이블 분포: \n",
      " 1    50\n",
      "Name: label, dtype: int64\n",
      "교차 검증: 3\n",
      "학습 레이블 분포: \n",
      " 0    50\n",
      "1    50\n",
      "Name: label, dtype: int64\n",
      "검증 레이블 분포: \n",
      " 2    50\n",
      "Name: label, dtype: int64\n"
     ]
    }
   ],
   "source": [
    "# 위의 데이터를 토대로 3개의 폴드 세트 생성 후 분포도 확인\n",
    "\n",
    "kfold = KFold(n_splits=3)\n",
    "n_iter = 0\n",
    "for train_index, test_index in kfold.split(iris_df):\n",
    "    n_iter+=1\n",
    "    label_train = iris_df['label'].iloc[train_index]\n",
    "    label_test = iris_df['label'].iloc[test_index]\n",
    "    print(f'교차 검증: {n_iter}')\n",
    "    print('학습 레이블 분포:', '\\n', label_train.value_counts())\n",
    "    print('검증 레이블 분포:', '\\n', label_test.value_counts())"
   ]
  },
  {
   "cell_type": "markdown",
   "id": "5cb660b9",
   "metadata": {},
   "source": [
    "=> 학습 레이블과 검증 레이블이 완전 다른 값으로 추출(kfold방법 적합하지 않음)"
   ]
  },
  {
   "cell_type": "code",
   "execution_count": 11,
   "id": "c9a00d5a",
   "metadata": {},
   "outputs": [
    {
     "name": "stdout",
     "output_type": "stream",
     "text": [
      "교차 검증: 1\n",
      "학습 레이블 분포: \n",
      " 2    34\n",
      "0    33\n",
      "1    33\n",
      "Name: label, dtype: int64\n",
      "검증 레이블 분포: \n",
      " 0    17\n",
      "1    17\n",
      "2    16\n",
      "Name: label, dtype: int64\n",
      "교차 검증: 2\n",
      "학습 레이블 분포: \n",
      " 1    34\n",
      "0    33\n",
      "2    33\n",
      "Name: label, dtype: int64\n",
      "검증 레이블 분포: \n",
      " 0    17\n",
      "2    17\n",
      "1    16\n",
      "Name: label, dtype: int64\n",
      "교차 검증: 3\n",
      "학습 레이블 분포: \n",
      " 0    34\n",
      "1    33\n",
      "2    33\n",
      "Name: label, dtype: int64\n",
      "검증 레이블 분포: \n",
      " 1    17\n",
      "2    17\n",
      "0    16\n",
      "Name: label, dtype: int64\n"
     ]
    }
   ],
   "source": [
    "# SF 사용\n",
    "from sklearn.model_selection import StratifiedKFold\n",
    "\n",
    "skf = StratifiedKFold(n_splits=3)\n",
    "n_iter = 0\n",
    "\n",
    "for train_index, test_index in skf.split(iris_df, iris_df['label']): # 피처 데이터 세트와 레이블 데이터 세트 입력\n",
    "    n_iter +=1\n",
    "    label_train = iris_df['label'].iloc[train_index]\n",
    "    label_test = iris_df['label'].iloc[test_index]\n",
    "    print(f'교차 검증: {n_iter}')\n",
    "    print('학습 레이블 분포:', '\\n', label_train.value_counts())\n",
    "    print('검증 레이블 분포:', '\\n', label_test.value_counts())"
   ]
  },
  {
   "cell_type": "markdown",
   "id": "bab32be1",
   "metadata": {},
   "source": [
    "=> 레이블 별로 거의 동일하게 분포됨"
   ]
  },
  {
   "cell_type": "code",
   "execution_count": 12,
   "id": "d36ab6e7",
   "metadata": {},
   "outputs": [
    {
     "name": "stdout",
     "output_type": "stream",
     "text": [
      "================================\n",
      "1 교차 검증 정확도: 0.98, 학습 데이터 크기: 100, 검증 데이터 크기: 50\n",
      "1 검증 세트 인덱스: [  0   1   2   3   4   5   6   7   8   9  10  11  12  13  14  15  16  50\n",
      "  51  52  53  54  55  56  57  58  59  60  61  62  63  64  65  66 100 101\n",
      " 102 103 104 105 106 107 108 109 110 111 112 113 114 115]\n",
      "================================\n",
      "2 교차 검증 정확도: 0.94, 학습 데이터 크기: 100, 검증 데이터 크기: 50\n",
      "2 검증 세트 인덱스: [ 17  18  19  20  21  22  23  24  25  26  27  28  29  30  31  32  33  67\n",
      "  68  69  70  71  72  73  74  75  76  77  78  79  80  81  82 116 117 118\n",
      " 119 120 121 122 123 124 125 126 127 128 129 130 131 132]\n",
      "================================\n",
      "3 교차 검증 정확도: 0.98, 학습 데이터 크기: 100, 검증 데이터 크기: 50\n",
      "3 검증 세트 인덱스: [ 34  35  36  37  38  39  40  41  42  43  44  45  46  47  48  49  83  84\n",
      "  85  86  87  88  89  90  91  92  93  94  95  96  97  98  99 133 134 135\n",
      " 136 137 138 139 140 141 142 143 144 145 146 147 148 149]\n",
      "<최종확인>\n",
      "교차 검증별 정확도 [0.98, 0.94, 0.98]\n",
      "평균 검증 정확도: 0.9666666666666667\n"
     ]
    }
   ],
   "source": [
    "# 검증 정확도 확인\n",
    "\n",
    "dt_clf = DecisionTreeClassifier(random_state = 156)\n",
    "\n",
    "skfold = StratifiedKFold(n_splits = 3)\n",
    "n_iter = 0\n",
    "cv_accuracy = [] #검증 정확도\n",
    "\n",
    "for train_index, test_index in  skfold.split(features, label):\n",
    "    X_train, X_test = features[train_index], features[test_index]\n",
    "    y_train, y_test = label[train_index], label[test_index]\n",
    "    \n",
    "    #학습, 예측\n",
    "    dt_clf.fit(X_train, y_train)\n",
    "    y_preds = dt_clf.predict(X_test)\n",
    "    \n",
    "    # 반복 시마다 정확도 측정\n",
    "    n_iter+=1\n",
    "    accuracy = np.round(accuracy_score(y_test, y_preds), 4)\n",
    "    train_size = X_train.shape[0]\n",
    "    test_size = X_test.shape[0]\n",
    "    \n",
    "    print('================================')\n",
    "    print(f'{n_iter} 교차 검증 정확도: {accuracy}, 학습 데이터 크기: {train_size}, 검증 데이터 크기: {test_size }')\n",
    "    print(f'{n_iter} 검증 세트 인덱스: {test_index}')\n",
    "    cv_accuracy.append(accuracy)\n",
    "    \n",
    "print('<최종확인>')\n",
    "print(f'교차 검증별 정확도', cv_accuracy)\n",
    "print(f'평균 검증 정확도: {np.mean(cv_accuracy)}')"
   ]
  },
  {
   "cell_type": "markdown",
   "id": "0bb80107",
   "metadata": {},
   "source": [
    "=> 정확도가 약 96.67%"
   ]
  },
  {
   "cell_type": "code",
   "execution_count": 13,
   "id": "ac411b52",
   "metadata": {},
   "outputs": [
    {
     "name": "stdout",
     "output_type": "stream",
     "text": [
      "교차 검증별 정확도 [0.98 0.94 0.98]\n",
      "평균 점증 정확도 0.9666666666666667\n"
     ]
    }
   ],
   "source": [
    "# 교차 검증 보다 간단히 사용(cross_val_score활용)\n",
    "\n",
    "from sklearn.model_selection import cross_val_score, cross_validate\n",
    "iris_data = load_iris()\n",
    "data = iris_data.data\n",
    "label = iris_data.target\n",
    "dt_clf = DecisionTreeClassifier(random_state = 156)\n",
    "\n",
    "# 성능 지표의 정확도\n",
    "scores = cross_val_score(dt_clf, data, label, scoring='accuracy', cv=3)\n",
    "print('교차 검증별 정확도', scores)\n",
    "print('평균 점증 정확도', np.mean(scores))"
   ]
  },
  {
   "cell_type": "markdown",
   "id": "58f47405",
   "metadata": {},
   "source": [
    "- GridSearchCV(최적의 하이퍼 파라미터 값 튜닝)"
   ]
  },
  {
   "cell_type": "code",
   "execution_count": 14,
   "id": "15b36413",
   "metadata": {},
   "outputs": [],
   "source": [
    "# 파라미터 집합 생성\n",
    "grid_parameters = {'max_depth': [1, 2, 3],\n",
    "                  'min_samples_split' : [2, 3]}"
   ]
  },
  {
   "cell_type": "code",
   "execution_count": 15,
   "id": "6ee067e6",
   "metadata": {},
   "outputs": [],
   "source": [
    "from sklearn.datasets import load_iris\n",
    "from sklearn.tree import DecisionTreeClassifier\n",
    "from sklearn.model_selection import GridSearchCV\n",
    "\n",
    "# 데이터 로딩 후 학습 데이터 테스트 데이터 분리\n",
    "iris_data = load_iris()\n",
    "X_train, X_test, y_train, y_test = train_test_split(iris_data.data, iris_data.target, test_size=0.2, random_state=21)\n",
    "\n",
    "dtree = DecisionTreeClassifier()\n",
    "\n",
    "#파라미터를 딕셔너리 형태로 설정\n",
    "parameters = {'max_depth': [1, 2, 3], 'min_samples_split':[2, 3]}"
   ]
  },
  {
   "cell_type": "code",
   "execution_count": 16,
   "id": "15146973",
   "metadata": {},
   "outputs": [
    {
     "data": {
      "text/html": [
       "<div>\n",
       "<style scoped>\n",
       "    .dataframe tbody tr th:only-of-type {\n",
       "        vertical-align: middle;\n",
       "    }\n",
       "\n",
       "    .dataframe tbody tr th {\n",
       "        vertical-align: top;\n",
       "    }\n",
       "\n",
       "    .dataframe thead th {\n",
       "        text-align: right;\n",
       "    }\n",
       "</style>\n",
       "<table border=\"1\" class=\"dataframe\">\n",
       "  <thead>\n",
       "    <tr style=\"text-align: right;\">\n",
       "      <th></th>\n",
       "      <th>mean_fit_time</th>\n",
       "      <th>std_fit_time</th>\n",
       "      <th>mean_score_time</th>\n",
       "      <th>std_score_time</th>\n",
       "      <th>param_max_depth</th>\n",
       "      <th>param_min_samples_split</th>\n",
       "      <th>params</th>\n",
       "      <th>split0_test_score</th>\n",
       "      <th>split1_test_score</th>\n",
       "      <th>split2_test_score</th>\n",
       "      <th>mean_test_score</th>\n",
       "      <th>std_test_score</th>\n",
       "      <th>rank_test_score</th>\n",
       "    </tr>\n",
       "  </thead>\n",
       "  <tbody>\n",
       "    <tr>\n",
       "      <th>0</th>\n",
       "      <td>0.000386</td>\n",
       "      <td>0.000546</td>\n",
       "      <td>0.000431</td>\n",
       "      <td>0.000609</td>\n",
       "      <td>1</td>\n",
       "      <td>2</td>\n",
       "      <td>{'max_depth': 1, 'min_samples_split': 2}</td>\n",
       "      <td>0.700</td>\n",
       "      <td>0.675</td>\n",
       "      <td>0.675</td>\n",
       "      <td>0.683333</td>\n",
       "      <td>0.011785</td>\n",
       "      <td>5</td>\n",
       "    </tr>\n",
       "    <tr>\n",
       "      <th>1</th>\n",
       "      <td>0.002975</td>\n",
       "      <td>0.004208</td>\n",
       "      <td>0.000000</td>\n",
       "      <td>0.000000</td>\n",
       "      <td>1</td>\n",
       "      <td>3</td>\n",
       "      <td>{'max_depth': 1, 'min_samples_split': 3}</td>\n",
       "      <td>0.700</td>\n",
       "      <td>0.675</td>\n",
       "      <td>0.675</td>\n",
       "      <td>0.683333</td>\n",
       "      <td>0.011785</td>\n",
       "      <td>5</td>\n",
       "    </tr>\n",
       "    <tr>\n",
       "      <th>2</th>\n",
       "      <td>0.002928</td>\n",
       "      <td>0.002059</td>\n",
       "      <td>0.000667</td>\n",
       "      <td>0.000471</td>\n",
       "      <td>2</td>\n",
       "      <td>2</td>\n",
       "      <td>{'max_depth': 2, 'min_samples_split': 2}</td>\n",
       "      <td>0.950</td>\n",
       "      <td>0.975</td>\n",
       "      <td>1.000</td>\n",
       "      <td>0.975000</td>\n",
       "      <td>0.020412</td>\n",
       "      <td>3</td>\n",
       "    </tr>\n",
       "    <tr>\n",
       "      <th>3</th>\n",
       "      <td>0.001053</td>\n",
       "      <td>0.000077</td>\n",
       "      <td>0.001351</td>\n",
       "      <td>0.000428</td>\n",
       "      <td>2</td>\n",
       "      <td>3</td>\n",
       "      <td>{'max_depth': 2, 'min_samples_split': 3}</td>\n",
       "      <td>0.950</td>\n",
       "      <td>0.975</td>\n",
       "      <td>1.000</td>\n",
       "      <td>0.975000</td>\n",
       "      <td>0.020412</td>\n",
       "      <td>3</td>\n",
       "    </tr>\n",
       "    <tr>\n",
       "      <th>4</th>\n",
       "      <td>0.000000</td>\n",
       "      <td>0.000000</td>\n",
       "      <td>0.000000</td>\n",
       "      <td>0.000000</td>\n",
       "      <td>3</td>\n",
       "      <td>2</td>\n",
       "      <td>{'max_depth': 3, 'min_samples_split': 2}</td>\n",
       "      <td>0.975</td>\n",
       "      <td>1.000</td>\n",
       "      <td>1.000</td>\n",
       "      <td>0.991667</td>\n",
       "      <td>0.011785</td>\n",
       "      <td>1</td>\n",
       "    </tr>\n",
       "    <tr>\n",
       "      <th>5</th>\n",
       "      <td>0.000000</td>\n",
       "      <td>0.000000</td>\n",
       "      <td>0.000000</td>\n",
       "      <td>0.000000</td>\n",
       "      <td>3</td>\n",
       "      <td>3</td>\n",
       "      <td>{'max_depth': 3, 'min_samples_split': 3}</td>\n",
       "      <td>0.975</td>\n",
       "      <td>1.000</td>\n",
       "      <td>1.000</td>\n",
       "      <td>0.991667</td>\n",
       "      <td>0.011785</td>\n",
       "      <td>1</td>\n",
       "    </tr>\n",
       "  </tbody>\n",
       "</table>\n",
       "</div>"
      ],
      "text/plain": [
       "   mean_fit_time  std_fit_time  mean_score_time  std_score_time  \\\n",
       "0       0.000386      0.000546         0.000431        0.000609   \n",
       "1       0.002975      0.004208         0.000000        0.000000   \n",
       "2       0.002928      0.002059         0.000667        0.000471   \n",
       "3       0.001053      0.000077         0.001351        0.000428   \n",
       "4       0.000000      0.000000         0.000000        0.000000   \n",
       "5       0.000000      0.000000         0.000000        0.000000   \n",
       "\n",
       "  param_max_depth param_min_samples_split  \\\n",
       "0               1                       2   \n",
       "1               1                       3   \n",
       "2               2                       2   \n",
       "3               2                       3   \n",
       "4               3                       2   \n",
       "5               3                       3   \n",
       "\n",
       "                                     params  split0_test_score  \\\n",
       "0  {'max_depth': 1, 'min_samples_split': 2}              0.700   \n",
       "1  {'max_depth': 1, 'min_samples_split': 3}              0.700   \n",
       "2  {'max_depth': 2, 'min_samples_split': 2}              0.950   \n",
       "3  {'max_depth': 2, 'min_samples_split': 3}              0.950   \n",
       "4  {'max_depth': 3, 'min_samples_split': 2}              0.975   \n",
       "5  {'max_depth': 3, 'min_samples_split': 3}              0.975   \n",
       "\n",
       "   split1_test_score  split2_test_score  mean_test_score  std_test_score  \\\n",
       "0              0.675              0.675         0.683333        0.011785   \n",
       "1              0.675              0.675         0.683333        0.011785   \n",
       "2              0.975              1.000         0.975000        0.020412   \n",
       "3              0.975              1.000         0.975000        0.020412   \n",
       "4              1.000              1.000         0.991667        0.011785   \n",
       "5              1.000              1.000         0.991667        0.011785   \n",
       "\n",
       "   rank_test_score  \n",
       "0                5  \n",
       "1                5  \n",
       "2                3  \n",
       "3                3  \n",
       "4                1  \n",
       "5                1  "
      ]
     },
     "execution_count": 16,
     "metadata": {},
     "output_type": "execute_result"
    }
   ],
   "source": [
    "# GridSearchCV 객체의 학습 데이터 세트 메서드에 인자로 입력\n",
    "# param_grid에 파라미터를 입력하면 순차적으로 학습 및 평가 수행\n",
    "# cv에 나눌 숫자 n을 입력-> pram_grid 하이퍼 파라미터를 n개의 훈련(train)용, test set fold로 나눠 테스트 수행\n",
    "\n",
    "grid_dtree = GridSearchCV(dtree, param_grid=parameters, cv=3, refit = True) # refit =True (default값) : 가장 좋은 파라미터 설정으로 재학습\n",
    "\n",
    "# 붓꽃 데이터 적용\n",
    "grid_dtree.fit(X_train, y_train)\n",
    "\n",
    "# 결과 추출\n",
    "score_df = pd.DataFrame(grid_dtree.cv_results_)\n",
    "score_df"
   ]
  },
  {
   "cell_type": "raw",
   "id": "b7737600",
   "metadata": {},
   "source": [
    "=> rank_test_score 이 예측 성능 등수 (1일 수록 좋음)\n",
    "=> mean_test_score 은 CV의 폴딩 테스트 세트에 대해 총 수행한 평가 평균값"
   ]
  },
  {
   "cell_type": "code",
   "execution_count": 17,
   "id": "10b0c942",
   "metadata": {},
   "outputs": [
    {
     "name": "stdout",
     "output_type": "stream",
     "text": [
      "최적파라미터: {'max_depth': 3, 'min_samples_split': 2}\n",
      "최고 정확도: 0.9916666666666667\n"
     ]
    }
   ],
   "source": [
    "print('최적파라미터:', grid_dtree.best_params_)\n",
    "print('최고 정확도:', grid_dtree.best_score_)"
   ]
  },
  {
   "cell_type": "code",
   "execution_count": 18,
   "id": "f43935b3",
   "metadata": {},
   "outputs": [
    {
     "name": "stdout",
     "output_type": "stream",
     "text": [
      "테스트 데이터 세트 정확도:  0.9333333333333333\n"
     ]
    }
   ],
   "source": [
    "# refit=True로 설정하여 최적의 하이퍼 파라미터로 estimator을 학습해 best_estimator_ 인자에 저장됨\n",
    "# best_estimator로 예측 후 성능 평가\n",
    "\n",
    "estimator = grid_dtree.best_estimator_\n",
    "\n",
    "pred = estimator.predict(X_test)\n",
    "print('테스트 데이터 세트 정확도: ', accuracy_score(y_test, pred))"
   ]
  },
  {
   "cell_type": "markdown",
   "id": "794f3ddf",
   "metadata": {},
   "source": [
    "#### 과제_0916_2\n",
    "- tdf1 데이터 셋 RandomForest 알고리즘을 사용하여 모델링하고 사용자 함수를 작성하여 평가하기(분류 평가 방법 전부 적용)\n",
    "- 상기 모델에 대하여 교차검증(cv=5)을 수행하고 평균 정확도를 출력하기\n",
    "- 상기 모델에 대하여 교차검증 및 성능 개선을 수행한 후 사용자 함수를 사용하여 평가 결과를 도출하기. (GridSearchCV 활용)\n",
    "\n",
    "  - 하이퍼파라미터 : \n",
    "        params = {'n_estimators':[50,100,200],\n",
    "                         'max_depth':[2, 4, 6, 8, 10],\n",
    "                         'min_samples_leaf':[2,8,14,20],\n",
    "                         'min_samples_split':[2,8.14,20]}"
   ]
  },
  {
   "cell_type": "markdown",
   "id": "f9a35b9d",
   "metadata": {},
   "source": [
    "##### 1. 파일 불러오기, 값 확인"
   ]
  },
  {
   "cell_type": "code",
   "execution_count": 22,
   "id": "23cb33ca",
   "metadata": {},
   "outputs": [
    {
     "data": {
      "text/html": [
       "<div>\n",
       "<style scoped>\n",
       "    .dataframe tbody tr th:only-of-type {\n",
       "        vertical-align: middle;\n",
       "    }\n",
       "\n",
       "    .dataframe tbody tr th {\n",
       "        vertical-align: top;\n",
       "    }\n",
       "\n",
       "    .dataframe thead th {\n",
       "        text-align: right;\n",
       "    }\n",
       "</style>\n",
       "<table border=\"1\" class=\"dataframe\">\n",
       "  <thead>\n",
       "    <tr style=\"text-align: right;\">\n",
       "      <th></th>\n",
       "      <th>Survived</th>\n",
       "      <th>Sex</th>\n",
       "      <th>Town_0</th>\n",
       "      <th>Town_1</th>\n",
       "      <th>Town_2</th>\n",
       "      <th>Family_Big</th>\n",
       "      <th>Family_Single</th>\n",
       "      <th>Family_Small</th>\n",
       "      <th>Age_10s</th>\n",
       "      <th>Age_20s</th>\n",
       "      <th>Age_30s</th>\n",
       "      <th>Age_40s</th>\n",
       "      <th>Age_50s</th>\n",
       "      <th>Age_Elderly</th>\n",
       "      <th>Fare_cat</th>\n",
       "    </tr>\n",
       "  </thead>\n",
       "  <tbody>\n",
       "    <tr>\n",
       "      <th>0</th>\n",
       "      <td>0</td>\n",
       "      <td>1</td>\n",
       "      <td>0</td>\n",
       "      <td>0</td>\n",
       "      <td>1</td>\n",
       "      <td>0</td>\n",
       "      <td>0</td>\n",
       "      <td>1</td>\n",
       "      <td>0</td>\n",
       "      <td>0</td>\n",
       "      <td>1</td>\n",
       "      <td>0</td>\n",
       "      <td>0</td>\n",
       "      <td>0</td>\n",
       "      <td>1</td>\n",
       "    </tr>\n",
       "    <tr>\n",
       "      <th>1</th>\n",
       "      <td>1</td>\n",
       "      <td>0</td>\n",
       "      <td>1</td>\n",
       "      <td>0</td>\n",
       "      <td>0</td>\n",
       "      <td>0</td>\n",
       "      <td>0</td>\n",
       "      <td>1</td>\n",
       "      <td>0</td>\n",
       "      <td>0</td>\n",
       "      <td>0</td>\n",
       "      <td>1</td>\n",
       "      <td>0</td>\n",
       "      <td>0</td>\n",
       "      <td>4</td>\n",
       "    </tr>\n",
       "    <tr>\n",
       "      <th>2</th>\n",
       "      <td>1</td>\n",
       "      <td>0</td>\n",
       "      <td>0</td>\n",
       "      <td>0</td>\n",
       "      <td>1</td>\n",
       "      <td>0</td>\n",
       "      <td>1</td>\n",
       "      <td>0</td>\n",
       "      <td>0</td>\n",
       "      <td>0</td>\n",
       "      <td>1</td>\n",
       "      <td>0</td>\n",
       "      <td>0</td>\n",
       "      <td>0</td>\n",
       "      <td>1</td>\n",
       "    </tr>\n",
       "    <tr>\n",
       "      <th>3</th>\n",
       "      <td>1</td>\n",
       "      <td>0</td>\n",
       "      <td>0</td>\n",
       "      <td>0</td>\n",
       "      <td>1</td>\n",
       "      <td>0</td>\n",
       "      <td>0</td>\n",
       "      <td>1</td>\n",
       "      <td>0</td>\n",
       "      <td>0</td>\n",
       "      <td>0</td>\n",
       "      <td>1</td>\n",
       "      <td>0</td>\n",
       "      <td>0</td>\n",
       "      <td>4</td>\n",
       "    </tr>\n",
       "    <tr>\n",
       "      <th>4</th>\n",
       "      <td>0</td>\n",
       "      <td>1</td>\n",
       "      <td>0</td>\n",
       "      <td>0</td>\n",
       "      <td>1</td>\n",
       "      <td>0</td>\n",
       "      <td>1</td>\n",
       "      <td>0</td>\n",
       "      <td>0</td>\n",
       "      <td>0</td>\n",
       "      <td>0</td>\n",
       "      <td>1</td>\n",
       "      <td>0</td>\n",
       "      <td>0</td>\n",
       "      <td>2</td>\n",
       "    </tr>\n",
       "  </tbody>\n",
       "</table>\n",
       "</div>"
      ],
      "text/plain": [
       "   Survived  Sex  Town_0  Town_1  Town_2  Family_Big  Family_Single  \\\n",
       "0         0    1       0       0       1           0              0   \n",
       "1         1    0       1       0       0           0              0   \n",
       "2         1    0       0       0       1           0              1   \n",
       "3         1    0       0       0       1           0              0   \n",
       "4         0    1       0       0       1           0              1   \n",
       "\n",
       "   Family_Small  Age_10s  Age_20s  Age_30s  Age_40s  Age_50s  Age_Elderly  \\\n",
       "0             1        0        0        1        0        0            0   \n",
       "1             1        0        0        0        1        0            0   \n",
       "2             0        0        0        1        0        0            0   \n",
       "3             1        0        0        0        1        0            0   \n",
       "4             0        0        0        0        1        0            0   \n",
       "\n",
       "  Fare_cat  \n",
       "0        1  \n",
       "1        4  \n",
       "2        1  \n",
       "3        4  \n",
       "4        2  "
      ]
     },
     "execution_count": 22,
     "metadata": {},
     "output_type": "execute_result"
    }
   ],
   "source": [
    "import pandas as pd\n",
    "import numpy as np\n",
    "df = pd.read_pickle('tdf1.pkl')\n",
    "df.head()"
   ]
  },
  {
   "cell_type": "code",
   "execution_count": 11,
   "id": "713a7752",
   "metadata": {},
   "outputs": [
    {
     "name": "stdout",
     "output_type": "stream",
     "text": [
      "0    549\n",
      "1    342\n",
      "Name: Survived, dtype: int64 \n",
      "\n",
      "1    577\n",
      "0    314\n",
      "Name: Sex, dtype: int64 \n",
      "\n",
      "3    232\n",
      "1    226\n",
      "4    222\n",
      "2    196\n",
      "0     15\n",
      "Name: Fare_cat, dtype: int64 \n",
      "\n"
     ]
    }
   ],
   "source": [
    "print(df['Survived'].value_counts(), '\\n')\n",
    "print(df['Sex'].value_counts(), '\\n')\n",
    "print(df['Fare_cat'].value_counts(), '\\n')"
   ]
  },
  {
   "cell_type": "markdown",
   "id": "368ed88a",
   "metadata": {},
   "source": [
    "=> sex - 1: 남성, 2: 여성/ fare_cat - 0~4(5개)"
   ]
  },
  {
   "cell_type": "markdown",
   "id": "08355d7a",
   "metadata": {},
   "source": [
    "##### 2. RandomForest 모델 학습 및 평가"
   ]
  },
  {
   "cell_type": "code",
   "execution_count": 16,
   "id": "4dcc1bc9",
   "metadata": {},
   "outputs": [],
   "source": [
    "# Randomforest 모델 학습 / 평가\n",
    "\n",
    "from sklearn.model_selection import train_test_split\n",
    "from sklearn.linear_model import LogisticRegression\n",
    "from sklearn.ensemble import RandomForestClassifier\n",
    "from sklearn.metrics import accuracy_score, precision_score, recall_score, confusion_matrix, f1_score, roc_auc_score, precision_recall_curve, roc_curve\n",
    "\n",
    "X = df.drop(['Survived'], axis=1)\n",
    "y = df['Survived']\n",
    "\n",
    "X_train, X_test, y_train, y_test = train_test_split(X, y, test_size = 0.2, random_state=11)\n",
    "\n",
    "rl_clf = RandomForestClassifier(random_state=11)\n",
    "\n",
    "# 학습/예측/평가\n",
    "rl_clf.fit(X_train, y_train)\n",
    "df_pred = rl_clf.predict(X_test)"
   ]
  },
  {
   "cell_type": "code",
   "execution_count": 20,
   "id": "a0a5191e",
   "metadata": {},
   "outputs": [
    {
     "name": "stdout",
     "output_type": "stream",
     "text": [
      "오차 행렬\n",
      "[[99 19]\n",
      " [13 48]]\n",
      "정확도: 0.8212, 정밀도: 0.7164, 재현율: 0.7869, F1 : 0.7500\n"
     ]
    }
   ],
   "source": [
    "# 평가값 구하는 함수 생성\n",
    "def get_clf_eval(y_test, pred):\n",
    "    confusion = confusion_matrix(y_test, pred)\n",
    "    accuracy = accuracy_score(y_test, pred)\n",
    "    precision = precision_score(y_test, pred)\n",
    "    recall = recall_score(y_test, pred)\n",
    "    f1 = f1_score(y_test, pred)\n",
    "    \n",
    "    print('오차 행렬')\n",
    "    print(confusion)\n",
    "    print('정확도: {0:.4f}, 정밀도: {1:.4f}, 재현율: {2:.4f}, F1 :{3: .4f}'.format(accuracy , precision ,recall, f1))\n",
    "    \n",
    "get_clf_eval(y_test, df_pred)"
   ]
  },
  {
   "cell_type": "markdown",
   "id": "3b243bda",
   "metadata": {},
   "source": [
    "##### 3. 교차검증 수행 후 평균 정확도 출력"
   ]
  },
  {
   "cell_type": "code",
   "execution_count": 23,
   "id": "faf423e3",
   "metadata": {},
   "outputs": [
    {
     "name": "stdout",
     "output_type": "stream",
     "text": [
      "교차 검증별 정확도 [0.7877095  0.78651685 0.76404494 0.78089888 0.83707865]\n",
      "평균 검증 정확도:  0.7912497646098802\n"
     ]
    }
   ],
   "source": [
    "from sklearn.model_selection import cross_val_score, cross_validate\n",
    "\n",
    "scores = cross_val_score(rl_clf, X, y, cv=5)\n",
    "print('교차 검증별 정확도', scores)\n",
    "print('평균 검증 정확도: ', np.mean(scores))"
   ]
  },
  {
   "cell_type": "markdown",
   "id": "1ee59888",
   "metadata": {},
   "source": [
    "##### 4. GridSearchCV 활용하여 성능 생선 수행 후 평가 결과 도출"
   ]
  },
  {
   "cell_type": "code",
   "execution_count": 28,
   "id": "1eba7c0a",
   "metadata": {},
   "outputs": [],
   "source": [
    "# 주어진 하이퍼파라미터 사용\n",
    "params = {'n_estimators':[50,100,200],\n",
    "         'max_depth':[2, 4, 6, 8, 10],\n",
    "         'min_samples_leaf':[2,8,14,20],\n",
    "         'min_samples_split':[2,8.14,20]}"
   ]
  },
  {
   "cell_type": "code",
   "execution_count": 31,
   "id": "16cd3cf6",
   "metadata": {},
   "outputs": [
    {
     "name": "stderr",
     "output_type": "stream",
     "text": [
      "C:\\Users\\jeoun\\AppData\\Roaming\\Python\\Python39\\site-packages\\sklearn\\model_selection\\_validation.py:378: FitFailedWarning: \n",
      "300 fits failed out of a total of 900.\n",
      "The score on these train-test partitions for these parameters will be set to nan.\n",
      "If these failures are not expected, you can try to debug them by setting error_score='raise'.\n",
      "\n",
      "Below are more details about the failures:\n",
      "--------------------------------------------------------------------------------\n",
      "300 fits failed with the following error:\n",
      "Traceback (most recent call last):\n",
      "  File \"C:\\Users\\jeoun\\AppData\\Roaming\\Python\\Python39\\site-packages\\sklearn\\model_selection\\_validation.py\", line 686, in _fit_and_score\n",
      "    estimator.fit(X_train, y_train, **fit_params)\n",
      "  File \"C:\\Users\\jeoun\\AppData\\Roaming\\Python\\Python39\\site-packages\\sklearn\\ensemble\\_forest.py\", line 476, in fit\n",
      "    trees = Parallel(\n",
      "  File \"C:\\ProgramData\\Anaconda3\\lib\\site-packages\\joblib\\parallel.py\", line 1043, in __call__\n",
      "    if self.dispatch_one_batch(iterator):\n",
      "  File \"C:\\ProgramData\\Anaconda3\\lib\\site-packages\\joblib\\parallel.py\", line 861, in dispatch_one_batch\n",
      "    self._dispatch(tasks)\n",
      "  File \"C:\\ProgramData\\Anaconda3\\lib\\site-packages\\joblib\\parallel.py\", line 779, in _dispatch\n",
      "    job = self._backend.apply_async(batch, callback=cb)\n",
      "  File \"C:\\ProgramData\\Anaconda3\\lib\\site-packages\\joblib\\_parallel_backends.py\", line 208, in apply_async\n",
      "    result = ImmediateResult(func)\n",
      "  File \"C:\\ProgramData\\Anaconda3\\lib\\site-packages\\joblib\\_parallel_backends.py\", line 572, in __init__\n",
      "    self.results = batch()\n",
      "  File \"C:\\ProgramData\\Anaconda3\\lib\\site-packages\\joblib\\parallel.py\", line 262, in __call__\n",
      "    return [func(*args, **kwargs)\n",
      "  File \"C:\\ProgramData\\Anaconda3\\lib\\site-packages\\joblib\\parallel.py\", line 262, in <listcomp>\n",
      "    return [func(*args, **kwargs)\n",
      "  File \"C:\\Users\\jeoun\\AppData\\Roaming\\Python\\Python39\\site-packages\\sklearn\\utils\\fixes.py\", line 117, in __call__\n",
      "    return self.function(*args, **kwargs)\n",
      "  File \"C:\\Users\\jeoun\\AppData\\Roaming\\Python\\Python39\\site-packages\\sklearn\\ensemble\\_forest.py\", line 189, in _parallel_build_trees\n",
      "    tree.fit(X, y, sample_weight=curr_sample_weight, check_input=False)\n",
      "  File \"C:\\Users\\jeoun\\AppData\\Roaming\\Python\\Python39\\site-packages\\sklearn\\tree\\_classes.py\", line 969, in fit\n",
      "    super().fit(\n",
      "  File \"C:\\Users\\jeoun\\AppData\\Roaming\\Python\\Python39\\site-packages\\sklearn\\tree\\_classes.py\", line 273, in fit\n",
      "    check_scalar(\n",
      "  File \"C:\\Users\\jeoun\\AppData\\Roaming\\Python\\Python39\\site-packages\\sklearn\\utils\\validation.py\", line 1489, in check_scalar\n",
      "    raise ValueError(\n",
      "ValueError: min_samples_split == 8.14, must be <= 1.0.\n",
      "\n",
      "  warnings.warn(some_fits_failed_message, FitFailedWarning)\n",
      "C:\\Users\\jeoun\\AppData\\Roaming\\Python\\Python39\\site-packages\\sklearn\\model_selection\\_search.py:953: UserWarning: One or more of the test scores are non-finite: [0.975      0.975      0.975             nan        nan        nan\n",
      " 0.975      0.96666667 0.975      0.975      0.96666667 0.975\n",
      "        nan        nan        nan 0.975      0.96666667 0.975\n",
      " 0.975      0.96666667 0.96666667        nan        nan        nan\n",
      " 0.975      0.96666667 0.96666667 0.95833333 0.95833333 0.96666667\n",
      "        nan        nan        nan 0.95833333 0.95833333 0.96666667\n",
      " 0.975      0.96666667 0.98333333        nan        nan        nan\n",
      " 0.95833333 0.96666667 0.96666667 0.96666667 0.96666667 0.975\n",
      "        nan        nan        nan 0.96666667 0.96666667 0.975\n",
      " 0.975      0.96666667 0.96666667        nan        nan        nan\n",
      " 0.975      0.96666667 0.96666667 0.95833333 0.95833333 0.96666667\n",
      "        nan        nan        nan 0.95833333 0.95833333 0.96666667\n",
      " 0.975      0.96666667 0.98333333        nan        nan        nan\n",
      " 0.95833333 0.96666667 0.96666667 0.96666667 0.96666667 0.975\n",
      "        nan        nan        nan 0.96666667 0.96666667 0.975\n",
      " 0.975      0.96666667 0.96666667        nan        nan        nan\n",
      " 0.975      0.96666667 0.96666667 0.95833333 0.95833333 0.96666667\n",
      "        nan        nan        nan 0.95833333 0.95833333 0.96666667\n",
      " 0.975      0.96666667 0.98333333        nan        nan        nan\n",
      " 0.95833333 0.96666667 0.96666667 0.96666667 0.96666667 0.975\n",
      "        nan        nan        nan 0.96666667 0.96666667 0.975\n",
      " 0.975      0.96666667 0.96666667        nan        nan        nan\n",
      " 0.975      0.96666667 0.96666667 0.95833333 0.95833333 0.96666667\n",
      "        nan        nan        nan 0.95833333 0.95833333 0.96666667\n",
      " 0.975      0.96666667 0.98333333        nan        nan        nan\n",
      " 0.95833333 0.96666667 0.96666667 0.96666667 0.96666667 0.975\n",
      "        nan        nan        nan 0.96666667 0.96666667 0.975\n",
      " 0.975      0.96666667 0.96666667        nan        nan        nan\n",
      " 0.975      0.96666667 0.96666667 0.95833333 0.95833333 0.96666667\n",
      "        nan        nan        nan 0.95833333 0.95833333 0.96666667]\n",
      "  warnings.warn(\n"
     ]
    },
    {
     "data": {
      "text/html": [
       "<div>\n",
       "<style scoped>\n",
       "    .dataframe tbody tr th:only-of-type {\n",
       "        vertical-align: middle;\n",
       "    }\n",
       "\n",
       "    .dataframe tbody tr th {\n",
       "        vertical-align: top;\n",
       "    }\n",
       "\n",
       "    .dataframe thead th {\n",
       "        text-align: right;\n",
       "    }\n",
       "</style>\n",
       "<table border=\"1\" class=\"dataframe\">\n",
       "  <thead>\n",
       "    <tr style=\"text-align: right;\">\n",
       "      <th></th>\n",
       "      <th>mean_fit_time</th>\n",
       "      <th>std_fit_time</th>\n",
       "      <th>mean_score_time</th>\n",
       "      <th>std_score_time</th>\n",
       "      <th>param_max_depth</th>\n",
       "      <th>param_min_samples_leaf</th>\n",
       "      <th>param_min_samples_split</th>\n",
       "      <th>param_n_estimators</th>\n",
       "      <th>params</th>\n",
       "      <th>split0_test_score</th>\n",
       "      <th>split1_test_score</th>\n",
       "      <th>split2_test_score</th>\n",
       "      <th>split3_test_score</th>\n",
       "      <th>split4_test_score</th>\n",
       "      <th>mean_test_score</th>\n",
       "      <th>std_test_score</th>\n",
       "      <th>rank_test_score</th>\n",
       "    </tr>\n",
       "  </thead>\n",
       "  <tbody>\n",
       "    <tr>\n",
       "      <th>0</th>\n",
       "      <td>0.138300</td>\n",
       "      <td>0.030176</td>\n",
       "      <td>0.010025</td>\n",
       "      <td>0.008207</td>\n",
       "      <td>2</td>\n",
       "      <td>2</td>\n",
       "      <td>2</td>\n",
       "      <td>50</td>\n",
       "      <td>{'max_depth': 2, 'min_samples_leaf': 2, 'min_s...</td>\n",
       "      <td>1.000000</td>\n",
       "      <td>0.916667</td>\n",
       "      <td>1.0</td>\n",
       "      <td>1.000000</td>\n",
       "      <td>0.958333</td>\n",
       "      <td>0.975000</td>\n",
       "      <td>0.033333</td>\n",
       "      <td>5</td>\n",
       "    </tr>\n",
       "    <tr>\n",
       "      <th>1</th>\n",
       "      <td>0.246077</td>\n",
       "      <td>0.004663</td>\n",
       "      <td>0.022802</td>\n",
       "      <td>0.006583</td>\n",
       "      <td>2</td>\n",
       "      <td>2</td>\n",
       "      <td>2</td>\n",
       "      <td>100</td>\n",
       "      <td>{'max_depth': 2, 'min_samples_leaf': 2, 'min_s...</td>\n",
       "      <td>1.000000</td>\n",
       "      <td>0.916667</td>\n",
       "      <td>1.0</td>\n",
       "      <td>1.000000</td>\n",
       "      <td>0.958333</td>\n",
       "      <td>0.975000</td>\n",
       "      <td>0.033333</td>\n",
       "      <td>5</td>\n",
       "    </tr>\n",
       "    <tr>\n",
       "      <th>2</th>\n",
       "      <td>0.504200</td>\n",
       "      <td>0.038230</td>\n",
       "      <td>0.043029</td>\n",
       "      <td>0.006053</td>\n",
       "      <td>2</td>\n",
       "      <td>2</td>\n",
       "      <td>2</td>\n",
       "      <td>200</td>\n",
       "      <td>{'max_depth': 2, 'min_samples_leaf': 2, 'min_s...</td>\n",
       "      <td>1.000000</td>\n",
       "      <td>0.916667</td>\n",
       "      <td>1.0</td>\n",
       "      <td>1.000000</td>\n",
       "      <td>0.958333</td>\n",
       "      <td>0.975000</td>\n",
       "      <td>0.033333</td>\n",
       "      <td>5</td>\n",
       "    </tr>\n",
       "    <tr>\n",
       "      <th>3</th>\n",
       "      <td>0.034653</td>\n",
       "      <td>0.006137</td>\n",
       "      <td>0.000000</td>\n",
       "      <td>0.000000</td>\n",
       "      <td>2</td>\n",
       "      <td>2</td>\n",
       "      <td>8.14</td>\n",
       "      <td>50</td>\n",
       "      <td>{'max_depth': 2, 'min_samples_leaf': 2, 'min_s...</td>\n",
       "      <td>NaN</td>\n",
       "      <td>NaN</td>\n",
       "      <td>NaN</td>\n",
       "      <td>NaN</td>\n",
       "      <td>NaN</td>\n",
       "      <td>NaN</td>\n",
       "      <td>NaN</td>\n",
       "      <td>143</td>\n",
       "    </tr>\n",
       "    <tr>\n",
       "      <th>4</th>\n",
       "      <td>0.070824</td>\n",
       "      <td>0.008444</td>\n",
       "      <td>0.000000</td>\n",
       "      <td>0.000000</td>\n",
       "      <td>2</td>\n",
       "      <td>2</td>\n",
       "      <td>8.14</td>\n",
       "      <td>100</td>\n",
       "      <td>{'max_depth': 2, 'min_samples_leaf': 2, 'min_s...</td>\n",
       "      <td>NaN</td>\n",
       "      <td>NaN</td>\n",
       "      <td>NaN</td>\n",
       "      <td>NaN</td>\n",
       "      <td>NaN</td>\n",
       "      <td>NaN</td>\n",
       "      <td>NaN</td>\n",
       "      <td>129</td>\n",
       "    </tr>\n",
       "    <tr>\n",
       "      <th>...</th>\n",
       "      <td>...</td>\n",
       "      <td>...</td>\n",
       "      <td>...</td>\n",
       "      <td>...</td>\n",
       "      <td>...</td>\n",
       "      <td>...</td>\n",
       "      <td>...</td>\n",
       "      <td>...</td>\n",
       "      <td>...</td>\n",
       "      <td>...</td>\n",
       "      <td>...</td>\n",
       "      <td>...</td>\n",
       "      <td>...</td>\n",
       "      <td>...</td>\n",
       "      <td>...</td>\n",
       "      <td>...</td>\n",
       "      <td>...</td>\n",
       "    </tr>\n",
       "    <tr>\n",
       "      <th>175</th>\n",
       "      <td>0.062822</td>\n",
       "      <td>0.000649</td>\n",
       "      <td>0.000000</td>\n",
       "      <td>0.000000</td>\n",
       "      <td>10</td>\n",
       "      <td>20</td>\n",
       "      <td>8.14</td>\n",
       "      <td>100</td>\n",
       "      <td>{'max_depth': 10, 'min_samples_leaf': 20, 'min...</td>\n",
       "      <td>NaN</td>\n",
       "      <td>NaN</td>\n",
       "      <td>NaN</td>\n",
       "      <td>NaN</td>\n",
       "      <td>NaN</td>\n",
       "      <td>NaN</td>\n",
       "      <td>NaN</td>\n",
       "      <td>140</td>\n",
       "    </tr>\n",
       "    <tr>\n",
       "      <th>176</th>\n",
       "      <td>0.137879</td>\n",
       "      <td>0.009167</td>\n",
       "      <td>0.000000</td>\n",
       "      <td>0.000000</td>\n",
       "      <td>10</td>\n",
       "      <td>20</td>\n",
       "      <td>8.14</td>\n",
       "      <td>200</td>\n",
       "      <td>{'max_depth': 10, 'min_samples_leaf': 20, 'min...</td>\n",
       "      <td>NaN</td>\n",
       "      <td>NaN</td>\n",
       "      <td>NaN</td>\n",
       "      <td>NaN</td>\n",
       "      <td>NaN</td>\n",
       "      <td>NaN</td>\n",
       "      <td>NaN</td>\n",
       "      <td>141</td>\n",
       "    </tr>\n",
       "    <tr>\n",
       "      <th>177</th>\n",
       "      <td>0.118387</td>\n",
       "      <td>0.005471</td>\n",
       "      <td>0.013088</td>\n",
       "      <td>0.006570</td>\n",
       "      <td>10</td>\n",
       "      <td>20</td>\n",
       "      <td>20</td>\n",
       "      <td>50</td>\n",
       "      <td>{'max_depth': 10, 'min_samples_leaf': 20, 'min...</td>\n",
       "      <td>0.916667</td>\n",
       "      <td>0.958333</td>\n",
       "      <td>1.0</td>\n",
       "      <td>0.958333</td>\n",
       "      <td>0.958333</td>\n",
       "      <td>0.958333</td>\n",
       "      <td>0.026352</td>\n",
       "      <td>97</td>\n",
       "    </tr>\n",
       "    <tr>\n",
       "      <th>178</th>\n",
       "      <td>0.240602</td>\n",
       "      <td>0.005220</td>\n",
       "      <td>0.020354</td>\n",
       "      <td>0.005741</td>\n",
       "      <td>10</td>\n",
       "      <td>20</td>\n",
       "      <td>20</td>\n",
       "      <td>100</td>\n",
       "      <td>{'max_depth': 10, 'min_samples_leaf': 20, 'min...</td>\n",
       "      <td>0.916667</td>\n",
       "      <td>0.958333</td>\n",
       "      <td>1.0</td>\n",
       "      <td>0.958333</td>\n",
       "      <td>0.958333</td>\n",
       "      <td>0.958333</td>\n",
       "      <td>0.026352</td>\n",
       "      <td>97</td>\n",
       "    </tr>\n",
       "    <tr>\n",
       "      <th>179</th>\n",
       "      <td>0.478607</td>\n",
       "      <td>0.006462</td>\n",
       "      <td>0.033220</td>\n",
       "      <td>0.003937</td>\n",
       "      <td>10</td>\n",
       "      <td>20</td>\n",
       "      <td>20</td>\n",
       "      <td>200</td>\n",
       "      <td>{'max_depth': 10, 'min_samples_leaf': 20, 'min...</td>\n",
       "      <td>0.916667</td>\n",
       "      <td>0.958333</td>\n",
       "      <td>1.0</td>\n",
       "      <td>1.000000</td>\n",
       "      <td>0.958333</td>\n",
       "      <td>0.966667</td>\n",
       "      <td>0.031180</td>\n",
       "      <td>36</td>\n",
       "    </tr>\n",
       "  </tbody>\n",
       "</table>\n",
       "<p>180 rows × 17 columns</p>\n",
       "</div>"
      ],
      "text/plain": [
       "     mean_fit_time  std_fit_time  mean_score_time  std_score_time  \\\n",
       "0         0.138300      0.030176         0.010025        0.008207   \n",
       "1         0.246077      0.004663         0.022802        0.006583   \n",
       "2         0.504200      0.038230         0.043029        0.006053   \n",
       "3         0.034653      0.006137         0.000000        0.000000   \n",
       "4         0.070824      0.008444         0.000000        0.000000   \n",
       "..             ...           ...              ...             ...   \n",
       "175       0.062822      0.000649         0.000000        0.000000   \n",
       "176       0.137879      0.009167         0.000000        0.000000   \n",
       "177       0.118387      0.005471         0.013088        0.006570   \n",
       "178       0.240602      0.005220         0.020354        0.005741   \n",
       "179       0.478607      0.006462         0.033220        0.003937   \n",
       "\n",
       "    param_max_depth param_min_samples_leaf param_min_samples_split  \\\n",
       "0                 2                      2                       2   \n",
       "1                 2                      2                       2   \n",
       "2                 2                      2                       2   \n",
       "3                 2                      2                    8.14   \n",
       "4                 2                      2                    8.14   \n",
       "..              ...                    ...                     ...   \n",
       "175              10                     20                    8.14   \n",
       "176              10                     20                    8.14   \n",
       "177              10                     20                      20   \n",
       "178              10                     20                      20   \n",
       "179              10                     20                      20   \n",
       "\n",
       "    param_n_estimators                                             params  \\\n",
       "0                   50  {'max_depth': 2, 'min_samples_leaf': 2, 'min_s...   \n",
       "1                  100  {'max_depth': 2, 'min_samples_leaf': 2, 'min_s...   \n",
       "2                  200  {'max_depth': 2, 'min_samples_leaf': 2, 'min_s...   \n",
       "3                   50  {'max_depth': 2, 'min_samples_leaf': 2, 'min_s...   \n",
       "4                  100  {'max_depth': 2, 'min_samples_leaf': 2, 'min_s...   \n",
       "..                 ...                                                ...   \n",
       "175                100  {'max_depth': 10, 'min_samples_leaf': 20, 'min...   \n",
       "176                200  {'max_depth': 10, 'min_samples_leaf': 20, 'min...   \n",
       "177                 50  {'max_depth': 10, 'min_samples_leaf': 20, 'min...   \n",
       "178                100  {'max_depth': 10, 'min_samples_leaf': 20, 'min...   \n",
       "179                200  {'max_depth': 10, 'min_samples_leaf': 20, 'min...   \n",
       "\n",
       "     split0_test_score  split1_test_score  split2_test_score  \\\n",
       "0             1.000000           0.916667                1.0   \n",
       "1             1.000000           0.916667                1.0   \n",
       "2             1.000000           0.916667                1.0   \n",
       "3                  NaN                NaN                NaN   \n",
       "4                  NaN                NaN                NaN   \n",
       "..                 ...                ...                ...   \n",
       "175                NaN                NaN                NaN   \n",
       "176                NaN                NaN                NaN   \n",
       "177           0.916667           0.958333                1.0   \n",
       "178           0.916667           0.958333                1.0   \n",
       "179           0.916667           0.958333                1.0   \n",
       "\n",
       "     split3_test_score  split4_test_score  mean_test_score  std_test_score  \\\n",
       "0             1.000000           0.958333         0.975000        0.033333   \n",
       "1             1.000000           0.958333         0.975000        0.033333   \n",
       "2             1.000000           0.958333         0.975000        0.033333   \n",
       "3                  NaN                NaN              NaN             NaN   \n",
       "4                  NaN                NaN              NaN             NaN   \n",
       "..                 ...                ...              ...             ...   \n",
       "175                NaN                NaN              NaN             NaN   \n",
       "176                NaN                NaN              NaN             NaN   \n",
       "177           0.958333           0.958333         0.958333        0.026352   \n",
       "178           0.958333           0.958333         0.958333        0.026352   \n",
       "179           1.000000           0.958333         0.966667        0.031180   \n",
       "\n",
       "     rank_test_score  \n",
       "0                  5  \n",
       "1                  5  \n",
       "2                  5  \n",
       "3                143  \n",
       "4                129  \n",
       "..               ...  \n",
       "175              140  \n",
       "176              141  \n",
       "177               97  \n",
       "178               97  \n",
       "179               36  \n",
       "\n",
       "[180 rows x 17 columns]"
      ]
     },
     "execution_count": 31,
     "metadata": {},
     "output_type": "execute_result"
    }
   ],
   "source": [
    "from sklearn.model_selection import GridSearchCV\n",
    "\n",
    "grid_dtree = GridSearchCV(rl_clf, param_grid=params, cv=5, refit=True)\n",
    "\n",
    "# 데이터 적용\n",
    "grid_dtree.fit(X_train, y_train)\n",
    "\n",
    "# 결과 추출\n",
    "score_df = pd.DataFrame(grid_dtree.cv_results_)\n",
    "score_df"
   ]
  },
  {
   "cell_type": "code",
   "execution_count": 33,
   "id": "fc903e51",
   "metadata": {},
   "outputs": [
    {
     "name": "stdout",
     "output_type": "stream",
     "text": [
      "최적파라미터: {'max_depth': 4, 'min_samples_leaf': 2, 'min_samples_split': 2, 'n_estimators': 200}\n",
      "최고 정확도: 0.9833333333333332\n"
     ]
    }
   ],
   "source": [
    "print('최적파라미터:', grid_dtree.best_params_)\n",
    "print('최고 정확도:', grid_dtree.best_score_)"
   ]
  },
  {
   "cell_type": "code",
   "execution_count": 46,
   "id": "983ac87f",
   "metadata": {},
   "outputs": [
    {
     "name": "stdout",
     "output_type": "stream",
     "text": [
      "정확도: 0.9333333333333333\n"
     ]
    }
   ],
   "source": [
    "# 평가값 구하는 함수 생성\n",
    "def get_clf_eval(y_test, pred):\n",
    "    accuracy = accuracy_score(y_test, pred)\n",
    "    \n",
    "    print(f'정확도: {accuracy}')\n",
    "    \n",
    "estimator = grid_dtree.best_estimator_\n",
    "\n",
    "pred = estimator.predict(X_test)\n",
    "get_clf_eval(y_test, pred)"
   ]
  },
  {
   "cell_type": "code",
   "execution_count": null,
   "id": "f0dee3cc",
   "metadata": {},
   "outputs": [],
   "source": []
  }
 ],
 "metadata": {
  "kernelspec": {
   "display_name": "Python 3 (ipykernel)",
   "language": "python",
   "name": "python3"
  },
  "language_info": {
   "codemirror_mode": {
    "name": "ipython",
    "version": 3
   },
   "file_extension": ".py",
   "mimetype": "text/x-python",
   "name": "python",
   "nbconvert_exporter": "python",
   "pygments_lexer": "ipython3",
   "version": "3.9.12"
  },
  "toc": {
   "base_numbering": 1,
   "nav_menu": {},
   "number_sections": false,
   "sideBar": true,
   "skip_h1_title": false,
   "title_cell": "Table of Contents",
   "title_sidebar": "Contents",
   "toc_cell": false,
   "toc_position": {
    "height": "calc(100% - 180px)",
    "left": "10px",
    "top": "150px",
    "width": "165px"
   },
   "toc_section_display": true,
   "toc_window_display": false
  }
 },
 "nbformat": 4,
 "nbformat_minor": 5
}
