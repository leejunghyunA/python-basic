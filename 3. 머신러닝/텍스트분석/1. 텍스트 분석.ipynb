{
 "cells": [
  {
   "cell_type": "markdown",
   "id": "2e2ff117",
   "metadata": {},
   "source": [
    "#### 과제:\n",
    "p496까지 예제풀기"
   ]
  },
  {
   "cell_type": "code",
   "execution_count": 1,
   "id": "691a9516",
   "metadata": {},
   "outputs": [
    {
     "name": "stdout",
     "output_type": "stream",
     "text": [
      "Requirement already satisfied: nltk in c:\\users\\admin\\anaconda3\\envs\\cakd7\\lib\\site-packages (3.7)\n",
      "Requirement already satisfied: regex>=2021.8.3 in c:\\users\\admin\\anaconda3\\envs\\cakd7\\lib\\site-packages (from nltk) (2022.9.13)\n",
      "Requirement already satisfied: joblib in c:\\users\\admin\\anaconda3\\envs\\cakd7\\lib\\site-packages (from nltk) (1.1.0)\n",
      "Requirement already satisfied: tqdm in c:\\users\\admin\\appdata\\roaming\\python\\python38\\site-packages (from nltk) (4.64.1)\n",
      "Requirement already satisfied: click in c:\\users\\admin\\appdata\\roaming\\python\\python38\\site-packages (from nltk) (8.1.3)\n",
      "Requirement already satisfied: colorama in c:\\users\\admin\\anaconda3\\envs\\cakd7\\lib\\site-packages (from click->nltk) (0.4.4)\n"
     ]
    }
   ],
   "source": [
    "!pip install nltk"
   ]
  },
  {
   "cell_type": "code",
   "execution_count": 2,
   "id": "5f5248c1",
   "metadata": {},
   "outputs": [],
   "source": [
    "from nltk import sent_tokenize #nltk : 방대한 데이터 세트와 서브모듈, 다양한 데이터 세트를 지원(가장 보편적)\n",
    "import nltk\n",
    "\n",
    "# nltk.download('punkt')\n",
    "text_sample = 'The Matrix is everywhere its all around us, here even in this room. \\\n",
    "                        You can see it out your window or on your television. \\\n",
    "                        You feel it when you do to work, or go to church or pay your taxes.'\n",
    "sentences = sent_tokenize(text = text_sample)"
   ]
  },
  {
   "cell_type": "code",
   "execution_count": null,
   "id": "612c7f97",
   "metadata": {},
   "outputs": [],
   "source": []
  },
  {
   "cell_type": "markdown",
   "id": "a00c8afc",
   "metadata": {},
   "source": [
    "# Stemming 과 Lemmatization"
   ]
  },
  {
   "cell_type": "markdown",
   "id": "26796f6f",
   "metadata": {},
   "source": [
    "1) Stemming"
   ]
  },
  {
   "cell_type": "code",
   "execution_count": 3,
   "id": "1c1d76be",
   "metadata": {},
   "outputs": [
    {
     "name": "stdout",
     "output_type": "stream",
     "text": [
      "work work work\n",
      "happy happiest happin\n",
      "amus amus amus\n"
     ]
    }
   ],
   "source": [
    "from nltk.stem import LancasterStemmer\n",
    "stemmer = LancasterStemmer()\n",
    "\n",
    "print(stemmer.stem('working'), stemmer.stem('works'), stemmer.stem('worked'))\n",
    "print(stemmer.stem('happier'), stemmer.stem('happiest'), stemmer.stem('happinist'))\n",
    "print(stemmer.stem('amusing'), stemmer.stem('amuses'), stemmer.stem('amused'))"
   ]
  },
  {
   "cell_type": "markdown",
   "id": "af930326",
   "metadata": {},
   "source": [
    "-> work 말고는 원형 추출을 잘 못함(품사 인식을 못함)"
   ]
  },
  {
   "cell_type": "markdown",
   "id": "0328ea93",
   "metadata": {},
   "source": [
    "2) Lemmatization"
   ]
  },
  {
   "cell_type": "code",
   "execution_count": 4,
   "id": "3bf6b7b3",
   "metadata": {},
   "outputs": [
    {
     "name": "stderr",
     "output_type": "stream",
     "text": [
      "[nltk_data] Downloading package wordnet to\n",
      "[nltk_data]     C:\\Users\\admin\\AppData\\Roaming\\nltk_data...\n",
      "[nltk_data]   Package wordnet is already up-to-date!\n",
      "[nltk_data] Downloading package omw-1.4 to\n",
      "[nltk_data]     C:\\Users\\admin\\AppData\\Roaming\\nltk_data...\n",
      "[nltk_data]   Package omw-1.4 is already up-to-date!\n"
     ]
    },
    {
     "name": "stdout",
     "output_type": "stream",
     "text": [
      "amuse amuse amuse\n",
      "happy happy happinist\n"
     ]
    }
   ],
   "source": [
    "from nltk.stem import WordNetLemmatizer\n",
    "import nltk\n",
    "nltk.download('wordnet')\n",
    "nltk.download('omw-1.4')\n",
    "\n",
    "lemma = WordNetLemmatizer()\n",
    "\n",
    "print(lemma.lemmatize('amusing', 'v'), lemma.lemmatize('amuses', 'v'), lemma.lemmatize('amused', 'v'))\n",
    "print(lemma.lemmatize('happier', 'a'), lemma.lemmatize('happiest', 'a'), lemma.lemmatize('happinist', 'n'))"
   ]
  },
  {
   "cell_type": "markdown",
   "id": "5b4bffa9",
   "metadata": {},
   "source": [
    "# 희소행렬"
   ]
  },
  {
   "cell_type": "markdown",
   "id": "324d74b7",
   "metadata": {},
   "source": [
    "## COO 형식"
   ]
  },
  {
   "cell_type": "code",
   "execution_count": 5,
   "id": "7166321c",
   "metadata": {},
   "outputs": [
    {
     "name": "stdout",
     "output_type": "stream",
     "text": [
      "  (0, 0)\t3\n",
      "  (0, 2)\t1\n",
      "  (1, 1)\t2\n"
     ]
    },
    {
     "data": {
      "text/plain": [
       "array([[3, 0, 1],\n",
       "       [0, 2, 0]])"
      ]
     },
     "execution_count": 5,
     "metadata": {},
     "output_type": "execute_result"
    }
   ],
   "source": [
    "from scipy import sparse\n",
    "import numpy as np\n",
    "\n",
    "# 데이터\n",
    "data = np.array([3, 1, 2]) # 0이 아닌 데이터\n",
    "\n",
    "# 각 데이터의 행과 열의 위치\n",
    "row_pos = np.array([0, 0, 1])\n",
    "col_pos = np.array([0, 2, 1])\n",
    "\n",
    "# sparse 패키지의 coo_matrix 이용 COO 형식으로 희소 행렬 생성\n",
    "sparse_coo = sparse.coo_matrix((data, (row_pos, col_pos)))\n",
    "print(sparse_coo)\n",
    "\n",
    "# 다시 밀집형태의 행렬로 출력\n",
    "sparse_coo.toarray()"
   ]
  },
  {
   "cell_type": "code",
   "execution_count": 6,
   "id": "6848726a",
   "metadata": {},
   "outputs": [
    {
     "name": "stdout",
     "output_type": "stream",
     "text": [
      "  (0, 2)\t1\n",
      "  (0, 5)\t5\n",
      "  (1, 0)\t1\n",
      "  (1, 1)\t4\n",
      "  (1, 3)\t3\n",
      "  (1, 4)\t2\n",
      "  (1, 5)\t5\n",
      "  (2, 1)\t6\n",
      "  (2, 3)\t3\n",
      "  (3, 0)\t2\n",
      "  (4, 3)\t7\n",
      "  (4, 5)\t8\n",
      "  (5, 0)\t1 \n",
      "\n",
      "밀집형태\n"
     ]
    },
    {
     "data": {
      "text/plain": [
       "array([[0, 0, 1, 0, 0, 5],\n",
       "       [1, 4, 0, 3, 2, 5],\n",
       "       [0, 6, 0, 3, 0, 0],\n",
       "       [2, 0, 0, 0, 0, 0],\n",
       "       [0, 0, 0, 7, 0, 8],\n",
       "       [1, 0, 0, 0, 0, 0]])"
      ]
     },
     "execution_count": 6,
     "metadata": {},
     "output_type": "execute_result"
    }
   ],
   "source": [
    "dense2 = np.array([[0, 0, 1, 0, 0, 5], \n",
    "                               [1, 4, 0, 3, 2, 5],\n",
    "                               [0, 6, 0, 3, 0, 0],\n",
    "                               [2, 0, 0, 0, 0, 0],\n",
    "                               [0, 0, 0, 7, 0, 8],\n",
    "                               [1, 0, 0, 0, 0, 0]])\n",
    "\n",
    "# 0이 아닌 데이터 추출\n",
    "data2 = np.array([1, 5, 1, 4, 3, 2, 5, 6, 3, 2, 7, 8, 1])\n",
    "\n",
    "row_pos = np.array([0, 0, 1, 1, 1, 1, 1, 2, 2, 3, 4, 4, 5])\n",
    "col_pos = np.array([2, 5, 0, 1, 3, 4, 5, 1, 3, 0, 3, 5, 0])\n",
    "\n",
    "spars_coo = sparse.coo_matrix((data2, (row_pos, col_pos)))\n",
    "print(spars_coo, '\\n')\n",
    "print('밀집형태')\n",
    "spars_coo.toarray()"
   ]
  },
  {
   "cell_type": "code",
   "execution_count": 7,
   "id": "af1e2a0f",
   "metadata": {},
   "outputs": [
    {
     "name": "stdout",
     "output_type": "stream",
     "text": [
      "  (0, 2)\t1\n",
      "  (0, 5)\t5\n",
      "  (1, 0)\t1\n",
      "  (1, 1)\t4\n",
      "  (1, 3)\t3\n",
      "  (1, 4)\t2\n",
      "  (1, 5)\t5\n",
      "  (2, 1)\t6\n",
      "  (2, 3)\t3\n",
      "  (3, 0)\t2\n",
      "  (4, 3)\t7\n",
      "  (4, 5)\t8\n",
      "  (5, 0)\t1 \n",
      "\n",
      "CSR 변환된 데이터 다시 Dense로 출력 확인\n"
     ]
    },
    {
     "data": {
      "text/plain": [
       "array([[0, 0, 1, 0, 0, 5],\n",
       "       [1, 4, 0, 3, 2, 5],\n",
       "       [0, 6, 0, 3, 0, 0],\n",
       "       [2, 0, 0, 0, 0, 0],\n",
       "       [0, 0, 0, 7, 0, 8],\n",
       "       [1, 0, 0, 0, 0, 0]])"
      ]
     },
     "execution_count": 7,
     "metadata": {},
     "output_type": "execute_result"
    }
   ],
   "source": [
    "# CSR\n",
    "# 행위치 배열의 고유한 값들의 시작 위치 인덱스를 배열로 생성\n",
    "row_pos_ind = np.array([0, 2, 7, 9, 10, 12, 13])\n",
    "\n",
    "sparse_csr = sparse.csr_matrix((data2, col_pos, row_pos_ind))\n",
    "print(sparse_csr, '\\n')\n",
    "print('CSR 변환된 데이터 다시 Dense로 출력 확인')\n",
    "sparse_csr.toarray()"
   ]
  },
  {
   "cell_type": "markdown",
   "id": "1df00937",
   "metadata": {},
   "source": [
    "#### 과제 1019_1. 10행 10열 희소행렬(0의 비중을 70% 이상)을 생성한 후 COO, CSR 방식으로 변환 후 다시 희소행렬로 출력"
   ]
  },
  {
   "cell_type": "code",
   "execution_count": 90,
   "id": "7601e9ea",
   "metadata": {},
   "outputs": [
    {
     "name": "stdout",
     "output_type": "stream",
     "text": [
      "[[0. 0. 0. 0. 0. 0. 0. 0. 0. 0.]\n",
      " [0. 0. 0. 0. 0. 0. 0. 0. 0. 0.]\n",
      " [0. 0. 0. 0. 0. 0. 0. 0. 0. 0.]\n",
      " [0. 0. 0. 0. 0. 0. 0. 0. 0. 0.]\n",
      " [0. 0. 0. 0. 0. 0. 0. 0. 0. 0.]\n",
      " [0. 0. 0. 0. 0. 0. 0. 0. 0. 0.]\n",
      " [0. 0. 0. 0. 0. 0. 0. 0. 0. 0.]\n",
      " [0. 0. 0. 0. 0. 0. 0. 0. 0. 0.]\n",
      " [0. 0. 0. 0. 0. 0. 0. 0. 0. 0.]\n",
      " [0. 0. 0. 0. 0. 0. 0. 0. 0. 0.]]\n"
     ]
    }
   ],
   "source": [
    "array = np.zeros((10, 10))\n",
    "print(array)"
   ]
  },
  {
   "cell_type": "code",
   "execution_count": 91,
   "id": "7a01c85f",
   "metadata": {},
   "outputs": [
    {
     "name": "stdout",
     "output_type": "stream",
     "text": [
      "[2, 2, 5, 5]\n",
      "[9, 4, 9, 6, 1, 7, 6, 2, 2, 6]\n"
     ]
    },
    {
     "data": {
      "text/plain": [
       "array([[0., 0., 0., 0., 0., 0., 0., 0., 0., 0.],\n",
       "       [0., 0., 1., 0., 0., 7., 0., 0., 0., 0.],\n",
       "       [0., 0., 4., 0., 0., 5., 0., 0., 0., 0.],\n",
       "       [0., 0., 0., 0., 0., 0., 0., 0., 0., 0.],\n",
       "       [0., 0., 5., 0., 0., 4., 0., 0., 0., 0.],\n",
       "       [0., 0., 0., 0., 0., 0., 0., 0., 0., 0.],\n",
       "       [0., 0., 2., 0., 0., 3., 0., 0., 0., 0.],\n",
       "       [0., 0., 8., 0., 0., 1., 0., 0., 0., 0.],\n",
       "       [0., 0., 0., 0., 0., 0., 0., 0., 0., 0.],\n",
       "       [0., 0., 3., 0., 0., 6., 0., 0., 0., 0.]])"
      ]
     },
     "execution_count": 91,
     "metadata": {},
     "output_type": "execute_result"
    }
   ],
   "source": [
    "# 나머지 다른 숫자로 채워주기\n",
    "# 열부분\n",
    "row = []\n",
    "for ind in range(4):\n",
    "    row.append(np.random.randint(1, 10))\n",
    "\n",
    "# 행부분\n",
    "col = []\n",
    "for co in range(10):\n",
    "    col.append(np.random.randint(1, 10))\n",
    "    \n",
    "print(row)\n",
    "print(col)\n",
    "\n",
    "for ro in row:\n",
    "    for co in col:\n",
    "        array[co, ro] = np.random.randint(1, 10)\n",
    "array        "
   ]
  },
  {
   "cell_type": "markdown",
   "id": "e32de814",
   "metadata": {},
   "source": [
    "## 1) COO 방식으로 변환"
   ]
  },
  {
   "cell_type": "code",
   "execution_count": 102,
   "id": "05b74edd",
   "metadata": {},
   "outputs": [
    {
     "name": "stdout",
     "output_type": "stream",
     "text": [
      "[1, 1, 2, 2, 4, 4, 6, 6, 7, 7, 9, 9]\n",
      "[2, 5, 2, 5, 2, 5, 2, 5, 2, 5, 2, 5]\n",
      "[1.0, 7.0, 4.0, 5.0, 5.0, 4.0, 2.0, 3.0, 8.0, 1.0, 3.0, 6.0]\n"
     ]
    }
   ],
   "source": [
    "from scipy import sparse\n",
    "\n",
    "# 0이 아닌 데이터의 위치 \n",
    "row_pos = []\n",
    "col_pos = []\n",
    "data_ = []\n",
    "\n",
    "for co, arr in enumerate(array):\n",
    "    for ro, num in enumerate(arr):\n",
    "        if num != 0:\n",
    "            row_pos.append(ro)\n",
    "            col_pos.append(co)\n",
    "            data_.append(num)\n",
    "            \n",
    "print(col_pos)\n",
    "print(row_pos)\n",
    "print(data_)\n",
    "\n",
    "# sparse 패키지의 coo_matrix 이용\n",
    "sparse_coo = sparse.coo_matrix((data_, (np.array(col_pos), np.array(row_pos))))"
   ]
  },
  {
   "cell_type": "code",
   "execution_count": 103,
   "id": "005fe03a",
   "metadata": {},
   "outputs": [
    {
     "data": {
      "text/plain": [
       "array([[0., 0., 0., 0., 0., 0.],\n",
       "       [0., 0., 1., 0., 0., 7.],\n",
       "       [0., 0., 4., 0., 0., 5.],\n",
       "       [0., 0., 0., 0., 0., 0.],\n",
       "       [0., 0., 5., 0., 0., 4.],\n",
       "       [0., 0., 0., 0., 0., 0.],\n",
       "       [0., 0., 2., 0., 0., 3.],\n",
       "       [0., 0., 8., 0., 0., 1.],\n",
       "       [0., 0., 0., 0., 0., 0.],\n",
       "       [0., 0., 3., 0., 0., 6.]])"
      ]
     },
     "execution_count": 103,
     "metadata": {},
     "output_type": "execute_result"
    }
   ],
   "source": [
    "# 다시 밀집 형태의 행렬로 출력\n",
    "sparse_coo.toarray()"
   ]
  },
  {
   "cell_type": "markdown",
   "id": "c25d0793",
   "metadata": {},
   "source": [
    "## 2) CSR 방식"
   ]
  },
  {
   "cell_type": "code",
   "execution_count": 111,
   "id": "ec17aa5d",
   "metadata": {},
   "outputs": [
    {
     "data": {
      "text/plain": [
       "array([[0., 0., 0., 0., 0., 0., 0., 0., 0., 0.],\n",
       "       [0., 0., 1., 0., 0., 7., 0., 0., 0., 0.],\n",
       "       [0., 0., 4., 0., 0., 5., 0., 0., 0., 0.],\n",
       "       [0., 0., 0., 0., 0., 0., 0., 0., 0., 0.],\n",
       "       [0., 0., 5., 0., 0., 4., 0., 0., 0., 0.],\n",
       "       [0., 0., 0., 0., 0., 0., 0., 0., 0., 0.],\n",
       "       [0., 0., 2., 0., 0., 3., 0., 0., 0., 0.],\n",
       "       [0., 0., 8., 0., 0., 1., 0., 0., 0., 0.],\n",
       "       [0., 0., 0., 0., 0., 0., 0., 0., 0., 0.],\n",
       "       [0., 0., 3., 0., 0., 6., 0., 0., 0., 0.]])"
      ]
     },
     "execution_count": 111,
     "metadata": {},
     "output_type": "execute_result"
    }
   ],
   "source": [
    "array"
   ]
  },
  {
   "cell_type": "code",
   "execution_count": 115,
   "id": "39f18178",
   "metadata": {},
   "outputs": [
    {
     "name": "stdout",
     "output_type": "stream",
     "text": [
      "[1 1 2 2 4 4 6 6 7 7 9 9]\n",
      "[0, 2, 4, 6, 8, 10]\n"
     ]
    },
    {
     "data": {
      "text/plain": [
       "[0, 2, 4, 6, 8, 10, 11]"
      ]
     },
     "execution_count": 115,
     "metadata": {},
     "output_type": "execute_result"
    }
   ],
   "source": [
    "# 행 위치 배열의 고유 값 시작위치 인덱스 저장\n",
    "\n",
    "# 행 위치 인덱스\n",
    "print(np.array(col_pos))\n",
    "\n",
    "csr_col = []\n",
    "fir_arr = 0\n",
    "for ind, num in enumerate(col_pos):\n",
    "    if fir_arr != num:\n",
    "        csr_col.append(ind)\n",
    "        fir_arr = num\n",
    "    else: pass\n",
    "\n",
    "print(csr_col)\n",
    "# 마지막 행 추가\n",
    "csr_col.append(11)\n",
    "csr_col"
   ]
  },
  {
   "cell_type": "code",
   "execution_count": 116,
   "id": "fb625b1e",
   "metadata": {},
   "outputs": [
    {
     "data": {
      "text/plain": [
       "array([[0., 0., 1., 0., 0., 7.],\n",
       "       [0., 0., 4., 0., 0., 5.],\n",
       "       [0., 0., 5., 0., 0., 4.],\n",
       "       [0., 0., 2., 0., 0., 3.],\n",
       "       [0., 0., 8., 0., 0., 1.],\n",
       "       [0., 0., 3., 0., 0., 0.]])"
      ]
     },
     "execution_count": 116,
     "metadata": {},
     "output_type": "execute_result"
    }
   ],
   "source": [
    "# csr 형식으로 변환\n",
    "sparse_csr = sparse.csr_matrix((data_, np.array(row_pos), np.array(csr_col)))\n",
    "\n",
    "# CSR 다시 밀집 형태의 행렬로 출력\n",
    "sparse_csr.toarray()"
   ]
  },
  {
   "cell_type": "markdown",
   "id": "a82e956c",
   "metadata": {},
   "source": [
    "# 텍스트 분류 실습 - 20 뉴스그룹 분류"
   ]
  },
  {
   "cell_type": "code",
   "execution_count": 8,
   "id": "8ef5302d",
   "metadata": {},
   "outputs": [
    {
     "name": "stdout",
     "output_type": "stream",
     "text": [
      "dict_keys(['data', 'filenames', 'target_names', 'target', 'DESCR'])\n"
     ]
    }
   ],
   "source": [
    "from sklearn.datasets import fetch_20newsgroups\n",
    "\n",
    "news_data = fetch_20newsgroups(subset = 'all', random_state = 156)\n",
    "\n",
    "print(news_data.keys())"
   ]
  },
  {
   "cell_type": "markdown",
   "id": "95509462",
   "metadata": {},
   "source": [
    "-> filenames : API가 인터넷에서 내려받아 로컬 컴퓨터에 저장하는 디렉터리와 파일명"
   ]
  },
  {
   "cell_type": "markdown",
   "id": "69c8d282",
   "metadata": {},
   "source": [
    "## 1. 데이터 확인"
   ]
  },
  {
   "cell_type": "markdown",
   "id": "93ea6bfc",
   "metadata": {},
   "source": [
    "target 클래스 구성 확인"
   ]
  },
  {
   "cell_type": "code",
   "execution_count": 9,
   "id": "5f927d53",
   "metadata": {},
   "outputs": [
    {
     "name": "stdout",
     "output_type": "stream",
     "text": [
      "Target 클래스의 값과 분포도\n",
      "0     799\n",
      "1     973\n",
      "2     985\n",
      "3     982\n",
      "4     963\n",
      "5     988\n",
      "6     975\n",
      "7     990\n",
      "8     996\n",
      "9     994\n",
      "10    999\n",
      "11    991\n",
      "12    984\n",
      "13    990\n",
      "14    987\n",
      "15    997\n",
      "16    910\n",
      "17    940\n",
      "18    775\n",
      "19    628\n",
      "dtype: int64 \n",
      "\n",
      "Target 클래스의 이름\n"
     ]
    },
    {
     "data": {
      "text/plain": [
       "['alt.atheism',\n",
       " 'comp.graphics',\n",
       " 'comp.os.ms-windows.misc',\n",
       " 'comp.sys.ibm.pc.hardware',\n",
       " 'comp.sys.mac.hardware',\n",
       " 'comp.windows.x',\n",
       " 'misc.forsale',\n",
       " 'rec.autos',\n",
       " 'rec.motorcycles',\n",
       " 'rec.sport.baseball',\n",
       " 'rec.sport.hockey',\n",
       " 'sci.crypt',\n",
       " 'sci.electronics',\n",
       " 'sci.med',\n",
       " 'sci.space',\n",
       " 'soc.religion.christian',\n",
       " 'talk.politics.guns',\n",
       " 'talk.politics.mideast',\n",
       " 'talk.politics.misc',\n",
       " 'talk.religion.misc']"
      ]
     },
     "execution_count": 9,
     "metadata": {},
     "output_type": "execute_result"
    }
   ],
   "source": [
    "import pandas as pd\n",
    "\n",
    "print('Target 클래스의 값과 분포도')\n",
    "print(pd.Series(news_data.target).value_counts().sort_index(), '\\n')\n",
    "print('Target 클래스의 이름')\n",
    "news_data.target_names"
   ]
  },
  {
   "cell_type": "markdown",
   "id": "ad2c5698",
   "metadata": {},
   "source": [
    "data 구성 확인"
   ]
  },
  {
   "cell_type": "code",
   "execution_count": 10,
   "id": "d1cde9b3",
   "metadata": {},
   "outputs": [
    {
     "data": {
      "text/plain": [
       "'From: egreen@east.sun.com (Ed Green - Pixel Cruncher)\\nSubject: Re: Observation re: helmets\\nOrganization: Sun Microsystems, RTP, NC\\nLines: 21\\nDistribution: world\\nReply-To: egreen@east.sun.com\\nNNTP-Posting-Host: laser.east.sun.com\\n\\nIn article 211353@mavenry.altcit.eskimo.com, maven@mavenry.altcit.eskimo.com (Norman Hamer) writes:\\n> \\n> The question for the day is re: passenger helmets, if you don\\'t know for \\n>certain who\\'s gonna ride with you (like say you meet them at a .... church \\n>meeting, yeah, that\\'s the ticket)... What are some guidelines? Should I just \\n>pick up another shoei in my size to have a backup helmet (XL), or should I \\n>maybe get an inexpensive one of a smaller size to accomodate my likely \\n>passenger? \\n\\nIf your primary concern is protecting the passenger in the event of a\\ncrash, have him or her fitted for a helmet that is their size.  If your\\nprimary concern is complying with stupid helmet laws, carry a real big\\nspare (you can put a big or small head in a big helmet, but not in a\\nsmall one).\\n\\n---\\nEd Green, former Ninjaite |I was drinking last night with a biker,\\n  Ed.Green@East.Sun.COM   |and I showed him a picture of you.  I said,\\nDoD #0111  (919)460-8302  |\"Go on, get to know her, you\\'ll like her!\"\\n (The Grateful Dead) -->  |It seemed like the least I could do...\\n\\n'"
      ]
     },
     "execution_count": 10,
     "metadata": {},
     "output_type": "execute_result"
    }
   ],
   "source": [
    "news_data.data[0]"
   ]
  },
  {
   "cell_type": "markdown",
   "id": "8c957174",
   "metadata": {},
   "source": [
    "- 뉴스그룹 제목, 작성자, 소속, 이메일 등 다양한 정보 포함\n",
    "\n",
    "-> 뉴스 내용을 제외한 나머지 정보는 제거 (Target 클래스 값과 유사한 데이터를 가지고 있는 경우가 많아서)"
   ]
  },
  {
   "cell_type": "code",
   "execution_count": 11,
   "id": "e17a6a45",
   "metadata": {},
   "outputs": [],
   "source": [
    "## "
   ]
  },
  {
   "cell_type": "code",
   "execution_count": 12,
   "id": "7fcf26d8",
   "metadata": {},
   "outputs": [
    {
     "name": "stdout",
     "output_type": "stream",
     "text": [
      "11314 7532\n"
     ]
    }
   ],
   "source": [
    "# subset = train 으로 학습용 데이터만 추출\n",
    "train_news = fetch_20newsgroups(subset = 'train', remove = ('headers', 'footers', 'quotes'), random_state = 156)\n",
    "X_train = train_news.data\n",
    "y_train = train_news.target\n",
    "\n",
    "# subset = test 으로 테스트 데이터만 추출\n",
    "test_news = fetch_20newsgroups(subset = 'test', remove = ('headers', 'footers', 'quotes'), random_state = 156)\n",
    "\n",
    "X_test = test_news.data\n",
    "y_test = test_news.target\n",
    "print(len(train_news.data), len(test_news.data))"
   ]
  },
  {
   "cell_type": "markdown",
   "id": "041f5987",
   "metadata": {},
   "source": [
    "## 피처 벡터화 변환"
   ]
  },
  {
   "cell_type": "markdown",
   "id": "c3046dca",
   "metadata": {},
   "source": [
    "### 1) Count 기반의 피처 벡터화"
   ]
  },
  {
   "cell_type": "code",
   "execution_count": 13,
   "id": "4410b727",
   "metadata": {},
   "outputs": [
    {
     "name": "stdout",
     "output_type": "stream",
     "text": [
      "(11314, 101631)\n",
      "(7532, 101631)\n"
     ]
    }
   ],
   "source": [
    "from sklearn.feature_extraction.text import CountVectorizer\n",
    "\n",
    "# Count Vectorization으로 피처 벡터화 변환 수행\n",
    "cnt_vect = CountVectorizer()\n",
    "cnt_vect.fit(X_train)\n",
    "X_train_cnt_vect = cnt_vect.transform(X_train) \n",
    "\n",
    "# 학습데이터로 fit 된 CountVectorizer를 이용해 텍스트를 피처 벡터화 변환 수행 (왜???_훈련용과 test 용의 피처를 동일하게 하기위해)\n",
    "X_test_cnt_vect = cnt_vect.transform(X_test) \n",
    "\n",
    "print(X_train_cnt_vect.shape)\n",
    "print(X_test_cnt_vect.shape)"
   ]
  },
  {
   "cell_type": "markdown",
   "id": "5da1af40",
   "metadata": {},
   "source": [
    "-> 컬럼수가 많이 늘어남"
   ]
  },
  {
   "cell_type": "markdown",
   "id": "45921b0b",
   "metadata": {},
   "source": [
    "### 2) TF-IDF기반의 피처 벡터화"
   ]
  },
  {
   "cell_type": "code",
   "execution_count": 14,
   "id": "43a2b2f0",
   "metadata": {},
   "outputs": [
    {
     "name": "stdout",
     "output_type": "stream",
     "text": [
      "(11314, 101631)\n",
      "(7532, 101631)\n"
     ]
    }
   ],
   "source": [
    "from sklearn.feature_extraction.text import TfidfVectorizer\n",
    "\n",
    "# TF-IDF 벡터화\n",
    "tfidf_vect = TfidfVectorizer()\n",
    "tfidf_vect.fit(X_train)\n",
    "\n",
    "X_train_tfidf_vect = tfidf_vect.transform(X_train)\n",
    "X_test_tfidf_vect = tfidf_vect.transform(X_test)\n",
    "\n",
    "print(X_train_tfidf_vect.shape)\n",
    "print(X_test_tfidf_vect.shape)"
   ]
  },
  {
   "cell_type": "markdown",
   "id": "df994341",
   "metadata": {},
   "source": [
    "## 머신러닝 모델 학습/예습/평가"
   ]
  },
  {
   "cell_type": "markdown",
   "id": "d5c9231a",
   "metadata": {},
   "source": [
    "### 1) Count기반의 피처 벡터화 데이터"
   ]
  },
  {
   "cell_type": "code",
   "execution_count": 15,
   "id": "77c98db1",
   "metadata": {},
   "outputs": [
    {
     "name": "stdout",
     "output_type": "stream",
     "text": [
      "정확도:  0.6167020711630377\n"
     ]
    }
   ],
   "source": [
    "from sklearn.linear_model import LogisticRegression\n",
    "from sklearn.metrics import accuracy_score\n",
    "import warnings\n",
    "warnings.filterwarnings('ignore')\n",
    "\n",
    "lr_clf = LogisticRegression(solver = 'liblinear')\n",
    "lr_clf.fit(X_train_cnt_vect, y_train)\n",
    "pred = lr_clf.predict(X_test_cnt_vect)\n",
    "print('정확도: ', accuracy_score(y_test, pred))"
   ]
  },
  {
   "cell_type": "markdown",
   "id": "e309c555",
   "metadata": {},
   "source": [
    "### 2) TF-IDF기반의 피처 벡터화 데이터"
   ]
  },
  {
   "cell_type": "code",
   "execution_count": 16,
   "id": "81acaf76",
   "metadata": {},
   "outputs": [
    {
     "name": "stdout",
     "output_type": "stream",
     "text": [
      "TF-IDF 정확도:  0.6775092936802974\n"
     ]
    }
   ],
   "source": [
    "lr_clf = LogisticRegression(solver = 'liblinear')\n",
    "lr_clf.fit(X_train_tfidf_vect, y_train)\n",
    "pred_td = lr_clf.predict(X_test_tfidf_vect)\n",
    "\n",
    "print('TF-IDF 정확도: ', accuracy_score(y_test, pred_td))"
   ]
  },
  {
   "cell_type": "markdown",
   "id": "a9c15bce",
   "metadata": {},
   "source": [
    "-> TF-IDF가 단순 Count 기반보다 훨씬 높은 예측 정확도 제공\n",
    "\n",
    "- 일반적으로 문서 내에 텍스트가 많고 많은 문서를 가지는 텍스트 분석에서 카운트 벡터화보다는 TF-IDF벡터화가 좋은 예측결과 도출"
   ]
  },
  {
   "cell_type": "markdown",
   "id": "beb05b06",
   "metadata": {},
   "source": [
    "텍스트 분석에서 머신러인 모델의 성능을 향상시키는 중요한 2가지 방법\n",
    "- 1) 최적의 ml 알고리즘을 선택\n",
    "- 2) 최상의 피처 전처리를 수행"
   ]
  },
  {
   "cell_type": "markdown",
   "id": "e98acae2",
   "metadata": {},
   "source": [
    "#### 과제 1019_2. TfidfVectorizer 클래스의 stopword를 'english'로 변경, ngram_range는 (1, 2)로 max_df = 300 으로 변경후 다시 예측 성능을 수행"
   ]
  },
  {
   "cell_type": "markdown",
   "id": "cc0d4cfa",
   "metadata": {},
   "source": [
    "## TF-IDF 벡터화의 파라미터 변경 적용"
   ]
  },
  {
   "cell_type": "code",
   "execution_count": 17,
   "id": "fab1f17f",
   "metadata": {},
   "outputs": [
    {
     "name": "stdout",
     "output_type": "stream",
     "text": [
      "TF-IDF 벡터화의 파라미터 변경 된 예측 정확도:  0.6901221455124801\n"
     ]
    }
   ],
   "source": [
    "# stop words 필터링 추가, ngram : (1,1) -> (1, 2) 변경, max-df = 300 로 변경\n",
    "\n",
    "tfidf_vect = TfidfVectorizer(stop_words='english', ngram_range = (1,2), max_df = 300)\n",
    "tfidf_vect.fit(X_train)\n",
    "X_train_tfidf_vect = tfidf_vect.transform(X_train)\n",
    "X_test_tfidf_vect = tfidf_vect.transform(X_test)\n",
    "\n",
    "lr_clf = LogisticRegression(solver= 'liblinear')\n",
    "lr_clf.fit(X_train_tfidf_vect, y_train)\n",
    "pred = lr_clf.predict(X_test_tfidf_vect)\n",
    "\n",
    "print('TF-IDF 벡터화의 파라미터 변경 된 예측 정확도: ', accuracy_score(y_test, pred))"
   ]
  },
  {
   "cell_type": "markdown",
   "id": "e1791172",
   "metadata": {},
   "source": [
    "-> 단순 파라미터보다 더 향상 됨 (2% 향상)"
   ]
  },
  {
   "cell_type": "markdown",
   "id": "bc52ebfa",
   "metadata": {},
   "source": [
    "#### 과제 1019_3. GridSearchCV를 이용해 하이퍼파라미터 튜닝을 수행하여 예측 성능을 개선"
   ]
  },
  {
   "cell_type": "markdown",
   "id": "dad284c0",
   "metadata": {},
   "source": [
    "## GridSearchCV를 이용한 로지스틱 회귀의 하이퍼 파라미터 최적화 수행"
   ]
  },
  {
   "cell_type": "code",
   "execution_count": 18,
   "id": "855d0f85",
   "metadata": {},
   "outputs": [
    {
     "name": "stdout",
     "output_type": "stream",
     "text": [
      "Fitting 3 folds for each of 5 candidates, totalling 15 fits\n"
     ]
    },
    {
     "name": "stderr",
     "output_type": "stream",
     "text": [
      "[Parallel(n_jobs=1)]: Using backend SequentialBackend with 1 concurrent workers.\n",
      "[Parallel(n_jobs=1)]: Done  15 out of  15 | elapsed:  2.3min finished\n"
     ]
    },
    {
     "name": "stdout",
     "output_type": "stream",
     "text": [
      "로지스틱 회귀 best C parameter : {'C': 10}\n",
      "TF-IDF 벡터화의 로지스틱 예측 정확도 : 0.7039298990971854\n"
     ]
    }
   ],
   "source": [
    "from sklearn.model_selection import GridSearchCV\n",
    "\n",
    "# 최적 C값 도출 튜닝 수행. CV는 3폴드 세트로 설정\n",
    "\n",
    "params = {'C' : [0.01, 0.1, 1, 5, 10]}\n",
    "grid_cv_lr = GridSearchCV(lr_clf, param_grid = params, cv = 3, scoring = 'accuracy', verbose = 1)\n",
    "grid_cv_lr.fit(X_train_tfidf_vect, y_train)\n",
    "print('로지스틱 회귀 best C parameter :', grid_cv_lr.best_params_)\n",
    "\n",
    "# 최적 C값으로 학습된 grid_cv로 예측 및 정확도 평가\n",
    "pred = grid_cv_lr.predict(X_test_tfidf_vect)\n",
    "print('TF-IDF 벡터화의 로지스틱 예측 정확도 :', accuracy_score(y_test, pred))"
   ]
  },
  {
   "cell_type": "markdown",
   "id": "b5bab7a1",
   "metadata": {},
   "source": [
    "-> C (알파의 역수) 의 최적의 파라미터가 10 : 높을 수록 규제가 약해짐\n",
    "\n",
    "[Count 벡터화]\n",
    "예측 정확도 : 0.6167\n",
    "    \n",
    "[단순 TF-IDF 벡터화]\n",
    "예측 정확도 : 0.677\n",
    "\n",
    "[TF-IDF 벡터화의 파라미터 변경 적용]\n",
    "예측 정확도 : 0.690"
   ]
  },
  {
   "cell_type": "markdown",
   "id": "c6ebae8c",
   "metadata": {},
   "source": [
    "# 감성 분석"
   ]
  },
  {
   "cell_type": "markdown",
   "id": "eaa39570",
   "metadata": {},
   "source": [
    "## 1. 지도학습 - [실습] IMDB 영화평\n",
    "- 영화평의 텍스트를 분석해 감성 분석 결과가 긍정 or 부정인지 예측하는 모델 생성"
   ]
  },
  {
   "cell_type": "code",
   "execution_count": 19,
   "id": "772a3d53",
   "metadata": {},
   "outputs": [
    {
     "data": {
      "text/html": [
       "<div>\n",
       "<style scoped>\n",
       "    .dataframe tbody tr th:only-of-type {\n",
       "        vertical-align: middle;\n",
       "    }\n",
       "\n",
       "    .dataframe tbody tr th {\n",
       "        vertical-align: top;\n",
       "    }\n",
       "\n",
       "    .dataframe thead th {\n",
       "        text-align: right;\n",
       "    }\n",
       "</style>\n",
       "<table border=\"1\" class=\"dataframe\">\n",
       "  <thead>\n",
       "    <tr style=\"text-align: right;\">\n",
       "      <th></th>\n",
       "      <th>id</th>\n",
       "      <th>sentiment</th>\n",
       "      <th>review</th>\n",
       "    </tr>\n",
       "  </thead>\n",
       "  <tbody>\n",
       "    <tr>\n",
       "      <th>0</th>\n",
       "      <td>\"5814_8\"</td>\n",
       "      <td>1</td>\n",
       "      <td>\"With all this stuff going down at the moment ...</td>\n",
       "    </tr>\n",
       "    <tr>\n",
       "      <th>1</th>\n",
       "      <td>\"2381_9\"</td>\n",
       "      <td>1</td>\n",
       "      <td>\"\\\"The Classic War of the Worlds\\\" by Timothy ...</td>\n",
       "    </tr>\n",
       "    <tr>\n",
       "      <th>2</th>\n",
       "      <td>\"7759_3\"</td>\n",
       "      <td>0</td>\n",
       "      <td>\"The film starts with a manager (Nicholas Bell...</td>\n",
       "    </tr>\n",
       "    <tr>\n",
       "      <th>3</th>\n",
       "      <td>\"3630_4\"</td>\n",
       "      <td>0</td>\n",
       "      <td>\"It must be assumed that those who praised thi...</td>\n",
       "    </tr>\n",
       "    <tr>\n",
       "      <th>4</th>\n",
       "      <td>\"9495_8\"</td>\n",
       "      <td>1</td>\n",
       "      <td>\"Superbly trashy and wondrously unpretentious ...</td>\n",
       "    </tr>\n",
       "  </tbody>\n",
       "</table>\n",
       "</div>"
      ],
      "text/plain": [
       "         id  sentiment                                             review\n",
       "0  \"5814_8\"          1  \"With all this stuff going down at the moment ...\n",
       "1  \"2381_9\"          1  \"\\\"The Classic War of the Worlds\\\" by Timothy ...\n",
       "2  \"7759_3\"          0  \"The film starts with a manager (Nicholas Bell...\n",
       "3  \"3630_4\"          0  \"It must be assumed that those who praised thi...\n",
       "4  \"9495_8\"          1  \"Superbly trashy and wondrously unpretentious ..."
      ]
     },
     "execution_count": 19,
     "metadata": {},
     "output_type": "execute_result"
    }
   ],
   "source": [
    "review_df = pd.read_csv('labeledTrainData.tsv', header=0, sep = '\\t', quoting = 3)\n",
    "review_df.head()"
   ]
  },
  {
   "cell_type": "markdown",
   "id": "68f93f01",
   "metadata": {},
   "source": [
    "id : 각 데이터의 id\n",
    "\n",
    "sentiment : 영화평의 Sentiment 결과 값(Target Label) 1은 긍정적 평가, 0은 부정적 평가\n",
    "\n",
    "review : 영화평의 텍스트"
   ]
  },
  {
   "cell_type": "code",
   "execution_count": 20,
   "id": "6fd5a835",
   "metadata": {},
   "outputs": [
    {
     "data": {
      "text/plain": [
       "'\"With all this stuff going down at the moment with MJ i\\'ve started listening to his music, watching the odd documentary here and there, watched The Wiz and watched Moonwalker again. Maybe i just want to get a certain insight into this guy who i thought was really cool in the eighties just to maybe make up my mind whether he is guilty or innocent. Moonwalker is part biography, part feature film which i remember going to see at the cinema when it was originally released. Some of it has subtle messages about MJ\\'s feeling towards the press and also the obvious message of drugs are bad m\\'kay.<br /><br />Visually impressive but of course this is all about Michael Jackson so unless you remotely like MJ in anyway then you are going to hate this and find it boring. Some may call MJ an egotist for consenting to the making of this movie BUT MJ and most of his fans would say that he made it for the fans which if true is really nice of him.<br /><br />The actual feature film bit when it finally starts is only on for 20 minutes or so excluding the Smooth Criminal sequence and Joe Pesci is convincing as a psychopathic all powerful drug lord. Why he wants MJ dead so bad is beyond me. Because MJ overheard his plans? Nah, Joe Pesci\\'s character ranted that he wanted people to know it is he who is supplying drugs etc so i dunno, maybe he just hates MJ\\'s music.<br /><br />Lots of cool things in this like MJ turning into a car and a robot and the whole Speed Demon sequence. Also, the director must have had the patience of a saint when it came to filming the kiddy Bad sequence as usually directors hate working with one kid let alone a whole bunch of them performing a complex dance scene.<br /><br />Bottom line, this movie is for people who like MJ on one level or another (which i think is most people). If not, then stay away. It does try and give off a wholesome message and ironically MJ\\'s bestest buddy in this movie is a girl! Michael Jackson is truly one of the most talented people ever to grace this planet but is he guilty? Well, with all the attention i\\'ve gave this subject....hmmm well i don\\'t know because people can be different behind closed doors, i know this for a fact. He is either an extremely nice but stupid guy or one of the most sickest liars. I hope he is not the latter.\"'"
      ]
     },
     "execution_count": 20,
     "metadata": {},
     "output_type": "execute_result"
    }
   ],
   "source": [
    "review_df['review'][0]"
   ]
  },
  {
   "cell_type": "markdown",
   "id": "87c3b341",
   "metadata": {},
   "source": [
    "\"< br >\" 태그 삭제 필요, 숫자/특수문자 변경 필요"
   ]
  },
  {
   "cell_type": "code",
   "execution_count": 22,
   "id": "3c002a34",
   "metadata": {},
   "outputs": [
    {
     "data": {
      "text/plain": [
       "' With all this stuff going down at the moment with MJ i ve started listening to his music  watching the odd documentary here and there  watched The Wiz and watched Moonwalker again  Maybe i just want to get a certain insight into this guy who i thought was really cool in the eighties just to maybe make up my mind whether he is guilty or innocent  Moonwalker is part biography  part feature film which i remember going to see at the cinema when it was originally released  Some of it has subtle messages about MJ s feeling towards the press and also the obvious message of drugs are bad m kay   Visually impressive but of course this is all about Michael Jackson so unless you remotely like MJ in anyway then you are going to hate this and find it boring  Some may call MJ an egotist for consenting to the making of this movie BUT MJ and most of his fans would say that he made it for the fans which if true is really nice of him   The actual feature film bit when it finally starts is only on for    minutes or so excluding the Smooth Criminal sequence and Joe Pesci is convincing as a psychopathic all powerful drug lord  Why he wants MJ dead so bad is beyond me  Because MJ overheard his plans  Nah  Joe Pesci s character ranted that he wanted people to know it is he who is supplying drugs etc so i dunno  maybe he just hates MJ s music   Lots of cool things in this like MJ turning into a car and a robot and the whole Speed Demon sequence  Also  the director must have had the patience of a saint when it came to filming the kiddy Bad sequence as usually directors hate working with one kid let alone a whole bunch of them performing a complex dance scene   Bottom line  this movie is for people who like MJ on one level or another  which i think is most people   If not  then stay away  It does try and give off a wholesome message and ironically MJ s bestest buddy in this movie is a girl  Michael Jackson is truly one of the most talented people ever to grace this planet but is he guilty  Well  with all the attention i ve gave this subject    hmmm well i don t know because people can be different behind closed doors  i know this for a fact  He is either an extremely nice but stupid guy or one of the most sickest liars  I hope he is not the latter  '"
      ]
     },
     "execution_count": 22,
     "metadata": {},
     "output_type": "execute_result"
    }
   ],
   "source": [
    "import re\n",
    "\n",
    "# < br >태그 공백 전환\n",
    "review_df['review'] = review_df['review'].str.replace('<br />', ' ')\n",
    "\n",
    "# 영어 문자열이 아닌 문자 전부 공백으로 전환\n",
    "review_df['review'] = review_df['review'].apply(lambda x :re.sub(\"[^a-zA-Z]\", \" \", x))\n",
    "\n",
    "review_df['review'][0]"
   ]
  },
  {
   "cell_type": "markdown",
   "id": "fc026658",
   "metadata": {},
   "source": [
    "## 데이터 분류"
   ]
  },
  {
   "cell_type": "code",
   "execution_count": 24,
   "id": "4d7f1a67",
   "metadata": {},
   "outputs": [
    {
     "data": {
      "text/plain": [
       "((17500, 1), (7500, 1))"
      ]
     },
     "execution_count": 24,
     "metadata": {},
     "output_type": "execute_result"
    }
   ],
   "source": [
    "# 결정 값 클래스인 sentiment 칼럼을 Target 값 데이터 세트로 생성\n",
    "# 피처 데이터 : id, sentiment 칼럼을 삭제 후 생성\n",
    "\n",
    "from sklearn.model_selection import train_test_split\n",
    "\n",
    "class_df = review_df['sentiment']\n",
    "feature_df = review_df.drop(['id', 'sentiment'], axis = 1, inplace = False)\n",
    "\n",
    "X_train, X_test, y_train, y_test = train_test_split(feature_df, class_df, test_size = 0.3, random_state = 156)\n",
    "X_train.shape, X_test.shape"
   ]
  },
  {
   "cell_type": "markdown",
   "id": "b1b3d263",
   "metadata": {},
   "source": [
    "## review 텍스트 피처 벡터화 및 모델 훈련/예측/평가"
   ]
  },
  {
   "cell_type": "markdown",
   "id": "06cf8e3c",
   "metadata": {},
   "source": [
    "### 1) Count 벡터화"
   ]
  },
  {
   "cell_type": "code",
   "execution_count": 27,
   "id": "413d35e0",
   "metadata": {},
   "outputs": [
    {
     "name": "stdout",
     "output_type": "stream",
     "text": [
      "예측 정확도 : 0.886\n",
      "ROC_AUC : 0.9502646966765308\n"
     ]
    }
   ],
   "source": [
    "from sklearn.feature_extraction.text import CountVectorizer, TfidfVectorizer\n",
    "from sklearn.pipeline import Pipeline\n",
    "from sklearn.linear_model import LogisticRegression\n",
    "from sklearn.metrics import accuracy_score, roc_auc_score\n",
    "\n",
    "# Pipeline 객체 이용 (피처 벡터화, ML 분류 알고리즘 생성)\n",
    "# 스톱 워드 Emglish, filtering, ngram 은 (1, 2) 설정 후 CountVectorization 수행\n",
    "# 로지스틱 C는 10으로 설정\n",
    "\n",
    "pipeline = Pipeline([\n",
    "    ('cnt_vect', CountVectorizer(stop_words='english', ngram_range=(1, 2) )),\n",
    "    ('lr_clf', LogisticRegression(solver = 'liblinear', C = 10) )])\n",
    "\n",
    "# 모델 학습, 예측, 수행\n",
    "pipeline.fit(X_train['review'], y_train)\n",
    "pred = pipeline.predict(X_test['review'])\n",
    "pred_probs = pipeline.predict_proba(X_test['review'])[:, 1]\n",
    "\n",
    "print('예측 정확도 :', accuracy_score(y_test, pred))\n",
    "print('ROC_AUC :', roc_auc_score(y_test, pred_probs))"
   ]
  },
  {
   "cell_type": "markdown",
   "id": "b3cbb0de",
   "metadata": {},
   "source": [
    "#### 과제 1019_4. TF-IDF 벡터화를 적용하여 수행(스톱워드, ngram을 추가)"
   ]
  },
  {
   "cell_type": "markdown",
   "id": "3d60f36e",
   "metadata": {},
   "source": [
    "### 2) TF-IDF 벡터화"
   ]
  },
  {
   "cell_type": "code",
   "execution_count": 28,
   "id": "f1501f04",
   "metadata": {},
   "outputs": [
    {
     "name": "stdout",
     "output_type": "stream",
     "text": [
      "TF-IDF 벡터화 예측 정확도 : 0.8936\n",
      "TF-IDF 벡터화 ROC_AUC : 0.959800534941953\n"
     ]
    }
   ],
   "source": [
    "# Pipeline 객체 이용 (피처 벡터화, ML 분류 알고리즘 생성)\n",
    "# 스톱 워드 Emglish, filtering, ngram 은 (1, 2) 설정 후 CountVectorization 수행\n",
    "# 로지스틱 C는 10으로 설정\n",
    "\n",
    "pipeline = Pipeline([\n",
    "    ('cnt_vect', TfidfVectorizer(stop_words='english', ngram_range=(1, 2) )),\n",
    "    ('lr_clf', LogisticRegression(solver = 'liblinear', C = 10) )])\n",
    "\n",
    "# 모델 학습, 예측, 수행\n",
    "pipeline.fit(X_train['review'], y_train)\n",
    "pred = pipeline.predict(X_test['review'])\n",
    "pred_probs = pipeline.predict_proba(X_test['review'])[:, 1]\n",
    "\n",
    "print('TF-IDF 벡터화 예측 정확도 :', accuracy_score(y_test, pred))\n",
    "print('TF-IDF 벡터화 ROC_AUC :', roc_auc_score(y_test, pred_probs))"
   ]
  },
  {
   "cell_type": "markdown",
   "id": "199e7421",
   "metadata": {},
   "source": [
    "-> TF_IDF 기반 피처 벡터화의 예측 성능이 조금 더 나아짐"
   ]
  },
  {
   "cell_type": "markdown",
   "id": "782e8a9d",
   "metadata": {},
   "source": [
    "## 2. 비지도학습"
   ]
  },
  {
   "cell_type": "code",
   "execution_count": 30,
   "id": "973e9be6",
   "metadata": {
    "scrolled": true
   },
   "outputs": [
    {
     "name": "stderr",
     "output_type": "stream",
     "text": [
      "[nltk_data] Downloading collection 'all'\n",
      "[nltk_data]    | \n",
      "[nltk_data]    | Downloading package abc to\n",
      "[nltk_data]    |     C:\\Users\\admin\\AppData\\Roaming\\nltk_data...\n",
      "[nltk_data]    |   Unzipping corpora\\abc.zip.\n",
      "[nltk_data]    | Downloading package alpino to\n",
      "[nltk_data]    |     C:\\Users\\admin\\AppData\\Roaming\\nltk_data...\n",
      "[nltk_data]    |   Unzipping corpora\\alpino.zip.\n",
      "[nltk_data]    | Downloading package averaged_perceptron_tagger to\n",
      "[nltk_data]    |     C:\\Users\\admin\\AppData\\Roaming\\nltk_data...\n",
      "[nltk_data]    |   Unzipping taggers\\averaged_perceptron_tagger.zip.\n",
      "[nltk_data]    | Downloading package averaged_perceptron_tagger_ru to\n",
      "[nltk_data]    |     C:\\Users\\admin\\AppData\\Roaming\\nltk_data...\n",
      "[nltk_data]    |   Unzipping\n",
      "[nltk_data]    |       taggers\\averaged_perceptron_tagger_ru.zip.\n",
      "[nltk_data]    | Downloading package basque_grammars to\n",
      "[nltk_data]    |     C:\\Users\\admin\\AppData\\Roaming\\nltk_data...\n",
      "[nltk_data]    |   Unzipping grammars\\basque_grammars.zip.\n",
      "[nltk_data]    | Downloading package biocreative_ppi to\n",
      "[nltk_data]    |     C:\\Users\\admin\\AppData\\Roaming\\nltk_data...\n",
      "[nltk_data]    |   Unzipping corpora\\biocreative_ppi.zip.\n",
      "[nltk_data]    | Downloading package bllip_wsj_no_aux to\n",
      "[nltk_data]    |     C:\\Users\\admin\\AppData\\Roaming\\nltk_data...\n",
      "[nltk_data]    |   Unzipping models\\bllip_wsj_no_aux.zip.\n",
      "[nltk_data]    | Downloading package book_grammars to\n",
      "[nltk_data]    |     C:\\Users\\admin\\AppData\\Roaming\\nltk_data...\n",
      "[nltk_data]    |   Unzipping grammars\\book_grammars.zip.\n",
      "[nltk_data]    | Downloading package brown to\n",
      "[nltk_data]    |     C:\\Users\\admin\\AppData\\Roaming\\nltk_data...\n",
      "[nltk_data]    |   Unzipping corpora\\brown.zip.\n",
      "[nltk_data]    | Downloading package brown_tei to\n",
      "[nltk_data]    |     C:\\Users\\admin\\AppData\\Roaming\\nltk_data...\n",
      "[nltk_data]    |   Unzipping corpora\\brown_tei.zip.\n",
      "[nltk_data]    | Downloading package cess_cat to\n",
      "[nltk_data]    |     C:\\Users\\admin\\AppData\\Roaming\\nltk_data...\n",
      "[nltk_data]    |   Unzipping corpora\\cess_cat.zip.\n",
      "[nltk_data]    | Downloading package cess_esp to\n",
      "[nltk_data]    |     C:\\Users\\admin\\AppData\\Roaming\\nltk_data...\n",
      "[nltk_data]    |   Unzipping corpora\\cess_esp.zip.\n",
      "[nltk_data]    | Downloading package chat80 to\n",
      "[nltk_data]    |     C:\\Users\\admin\\AppData\\Roaming\\nltk_data...\n",
      "[nltk_data]    |   Unzipping corpora\\chat80.zip.\n",
      "[nltk_data]    | Downloading package city_database to\n",
      "[nltk_data]    |     C:\\Users\\admin\\AppData\\Roaming\\nltk_data...\n",
      "[nltk_data]    |   Unzipping corpora\\city_database.zip.\n",
      "[nltk_data]    | Downloading package cmudict to\n",
      "[nltk_data]    |     C:\\Users\\admin\\AppData\\Roaming\\nltk_data...\n",
      "[nltk_data]    |   Unzipping corpora\\cmudict.zip.\n",
      "[nltk_data]    | Downloading package comparative_sentences to\n",
      "[nltk_data]    |     C:\\Users\\admin\\AppData\\Roaming\\nltk_data...\n",
      "[nltk_data]    |   Unzipping corpora\\comparative_sentences.zip.\n",
      "[nltk_data]    | Downloading package comtrans to\n",
      "[nltk_data]    |     C:\\Users\\admin\\AppData\\Roaming\\nltk_data...\n",
      "[nltk_data]    | Downloading package conll2000 to\n",
      "[nltk_data]    |     C:\\Users\\admin\\AppData\\Roaming\\nltk_data...\n",
      "[nltk_data]    |   Unzipping corpora\\conll2000.zip.\n",
      "[nltk_data]    | Downloading package conll2002 to\n",
      "[nltk_data]    |     C:\\Users\\admin\\AppData\\Roaming\\nltk_data...\n",
      "[nltk_data]    |   Unzipping corpora\\conll2002.zip.\n",
      "[nltk_data]    | Downloading package conll2007 to\n",
      "[nltk_data]    |     C:\\Users\\admin\\AppData\\Roaming\\nltk_data...\n",
      "[nltk_data]    | Downloading package crubadan to\n",
      "[nltk_data]    |     C:\\Users\\admin\\AppData\\Roaming\\nltk_data...\n",
      "[nltk_data]    |   Unzipping corpora\\crubadan.zip.\n",
      "[nltk_data]    | Downloading package dependency_treebank to\n",
      "[nltk_data]    |     C:\\Users\\admin\\AppData\\Roaming\\nltk_data...\n",
      "[nltk_data]    |   Unzipping corpora\\dependency_treebank.zip.\n",
      "[nltk_data]    | Downloading package dolch to\n",
      "[nltk_data]    |     C:\\Users\\admin\\AppData\\Roaming\\nltk_data...\n",
      "[nltk_data]    |   Unzipping corpora\\dolch.zip.\n",
      "[nltk_data]    | Downloading package europarl_raw to\n",
      "[nltk_data]    |     C:\\Users\\admin\\AppData\\Roaming\\nltk_data...\n",
      "[nltk_data]    |   Unzipping corpora\\europarl_raw.zip.\n",
      "[nltk_data]    | Downloading package extended_omw to\n",
      "[nltk_data]    |     C:\\Users\\admin\\AppData\\Roaming\\nltk_data...\n",
      "[nltk_data]    | Downloading package floresta to\n",
      "[nltk_data]    |     C:\\Users\\admin\\AppData\\Roaming\\nltk_data...\n",
      "[nltk_data]    |   Unzipping corpora\\floresta.zip.\n",
      "[nltk_data]    | Downloading package framenet_v15 to\n",
      "[nltk_data]    |     C:\\Users\\admin\\AppData\\Roaming\\nltk_data...\n",
      "[nltk_data]    |   Unzipping corpora\\framenet_v15.zip.\n",
      "[nltk_data]    | Downloading package framenet_v17 to\n",
      "[nltk_data]    |     C:\\Users\\admin\\AppData\\Roaming\\nltk_data...\n",
      "[nltk_data]    |   Unzipping corpora\\framenet_v17.zip.\n",
      "[nltk_data]    | Downloading package gazetteers to\n",
      "[nltk_data]    |     C:\\Users\\admin\\AppData\\Roaming\\nltk_data...\n",
      "[nltk_data]    |   Unzipping corpora\\gazetteers.zip.\n",
      "[nltk_data]    | Downloading package genesis to\n",
      "[nltk_data]    |     C:\\Users\\admin\\AppData\\Roaming\\nltk_data...\n",
      "[nltk_data]    |   Unzipping corpora\\genesis.zip.\n",
      "[nltk_data]    | Downloading package gutenberg to\n",
      "[nltk_data]    |     C:\\Users\\admin\\AppData\\Roaming\\nltk_data...\n",
      "[nltk_data]    |   Unzipping corpora\\gutenberg.zip.\n",
      "[nltk_data]    | Downloading package ieer to\n",
      "[nltk_data]    |     C:\\Users\\admin\\AppData\\Roaming\\nltk_data...\n",
      "[nltk_data]    |   Unzipping corpora\\ieer.zip.\n",
      "[nltk_data]    | Downloading package inaugural to\n",
      "[nltk_data]    |     C:\\Users\\admin\\AppData\\Roaming\\nltk_data...\n",
      "[nltk_data]    |   Unzipping corpora\\inaugural.zip.\n",
      "[nltk_data]    | Downloading package indian to\n",
      "[nltk_data]    |     C:\\Users\\admin\\AppData\\Roaming\\nltk_data...\n",
      "[nltk_data]    |   Unzipping corpora\\indian.zip.\n",
      "[nltk_data]    | Downloading package jeita to\n",
      "[nltk_data]    |     C:\\Users\\admin\\AppData\\Roaming\\nltk_data...\n",
      "[nltk_data]    | Downloading package kimmo to\n",
      "[nltk_data]    |     C:\\Users\\admin\\AppData\\Roaming\\nltk_data...\n",
      "[nltk_data]    |   Unzipping corpora\\kimmo.zip.\n",
      "[nltk_data]    | Downloading package knbc to\n",
      "[nltk_data]    |     C:\\Users\\admin\\AppData\\Roaming\\nltk_data...\n",
      "[nltk_data]    | Downloading package large_grammars to\n",
      "[nltk_data]    |     C:\\Users\\admin\\AppData\\Roaming\\nltk_data...\n",
      "[nltk_data]    |   Unzipping grammars\\large_grammars.zip.\n",
      "[nltk_data]    | Downloading package lin_thesaurus to\n",
      "[nltk_data]    |     C:\\Users\\admin\\AppData\\Roaming\\nltk_data...\n",
      "[nltk_data]    |   Unzipping corpora\\lin_thesaurus.zip.\n",
      "[nltk_data]    | Downloading package mac_morpho to\n",
      "[nltk_data]    |     C:\\Users\\admin\\AppData\\Roaming\\nltk_data...\n",
      "[nltk_data]    |   Unzipping corpora\\mac_morpho.zip.\n",
      "[nltk_data]    | Downloading package machado to\n",
      "[nltk_data]    |     C:\\Users\\admin\\AppData\\Roaming\\nltk_data...\n",
      "[nltk_data]    | Downloading package masc_tagged to\n",
      "[nltk_data]    |     C:\\Users\\admin\\AppData\\Roaming\\nltk_data...\n",
      "[nltk_data]    | Downloading package maxent_ne_chunker to\n",
      "[nltk_data]    |     C:\\Users\\admin\\AppData\\Roaming\\nltk_data...\n",
      "[nltk_data]    |   Unzipping chunkers\\maxent_ne_chunker.zip.\n",
      "[nltk_data]    | Downloading package maxent_treebank_pos_tagger to\n",
      "[nltk_data]    |     C:\\Users\\admin\\AppData\\Roaming\\nltk_data...\n",
      "[nltk_data]    |   Unzipping taggers\\maxent_treebank_pos_tagger.zip.\n",
      "[nltk_data]    | Downloading package moses_sample to\n",
      "[nltk_data]    |     C:\\Users\\admin\\AppData\\Roaming\\nltk_data...\n",
      "[nltk_data]    |   Unzipping models\\moses_sample.zip.\n",
      "[nltk_data]    | Downloading package movie_reviews to\n",
      "[nltk_data]    |     C:\\Users\\admin\\AppData\\Roaming\\nltk_data...\n",
      "[nltk_data]    |   Unzipping corpora\\movie_reviews.zip.\n",
      "[nltk_data]    | Downloading package mte_teip5 to\n",
      "[nltk_data]    |     C:\\Users\\admin\\AppData\\Roaming\\nltk_data...\n",
      "[nltk_data]    |   Unzipping corpora\\mte_teip5.zip.\n",
      "[nltk_data]    | Downloading package mwa_ppdb to\n",
      "[nltk_data]    |     C:\\Users\\admin\\AppData\\Roaming\\nltk_data...\n",
      "[nltk_data]    |   Unzipping misc\\mwa_ppdb.zip.\n",
      "[nltk_data]    | Downloading package names to\n",
      "[nltk_data]    |     C:\\Users\\admin\\AppData\\Roaming\\nltk_data...\n",
      "[nltk_data]    |   Unzipping corpora\\names.zip.\n",
      "[nltk_data]    | Downloading package nombank.1.0 to\n",
      "[nltk_data]    |     C:\\Users\\admin\\AppData\\Roaming\\nltk_data...\n"
     ]
    },
    {
     "name": "stderr",
     "output_type": "stream",
     "text": [
      "[nltk_data]    | Downloading package nonbreaking_prefixes to\n",
      "[nltk_data]    |     C:\\Users\\admin\\AppData\\Roaming\\nltk_data...\n",
      "[nltk_data]    |   Unzipping corpora\\nonbreaking_prefixes.zip.\n",
      "[nltk_data]    | Downloading package nps_chat to\n",
      "[nltk_data]    |     C:\\Users\\admin\\AppData\\Roaming\\nltk_data...\n",
      "[nltk_data]    |   Unzipping corpora\\nps_chat.zip.\n",
      "[nltk_data]    | Downloading package omw to\n",
      "[nltk_data]    |     C:\\Users\\admin\\AppData\\Roaming\\nltk_data...\n",
      "[nltk_data]    | Downloading package omw-1.4 to\n",
      "[nltk_data]    |     C:\\Users\\admin\\AppData\\Roaming\\nltk_data...\n",
      "[nltk_data]    |   Package omw-1.4 is already up-to-date!\n",
      "[nltk_data]    | Downloading package opinion_lexicon to\n",
      "[nltk_data]    |     C:\\Users\\admin\\AppData\\Roaming\\nltk_data...\n",
      "[nltk_data]    |   Unzipping corpora\\opinion_lexicon.zip.\n",
      "[nltk_data]    | Downloading package panlex_swadesh to\n",
      "[nltk_data]    |     C:\\Users\\admin\\AppData\\Roaming\\nltk_data...\n",
      "[nltk_data]    | Downloading package paradigms to\n",
      "[nltk_data]    |     C:\\Users\\admin\\AppData\\Roaming\\nltk_data...\n",
      "[nltk_data]    |   Unzipping corpora\\paradigms.zip.\n",
      "[nltk_data]    | Downloading package pe08 to\n",
      "[nltk_data]    |     C:\\Users\\admin\\AppData\\Roaming\\nltk_data...\n",
      "[nltk_data]    |   Unzipping corpora\\pe08.zip.\n",
      "[nltk_data]    | Downloading package perluniprops to\n",
      "[nltk_data]    |     C:\\Users\\admin\\AppData\\Roaming\\nltk_data...\n",
      "[nltk_data]    |   Unzipping misc\\perluniprops.zip.\n",
      "[nltk_data]    | Downloading package pil to\n",
      "[nltk_data]    |     C:\\Users\\admin\\AppData\\Roaming\\nltk_data...\n",
      "[nltk_data]    |   Unzipping corpora\\pil.zip.\n",
      "[nltk_data]    | Downloading package pl196x to\n",
      "[nltk_data]    |     C:\\Users\\admin\\AppData\\Roaming\\nltk_data...\n",
      "[nltk_data]    |   Unzipping corpora\\pl196x.zip.\n",
      "[nltk_data]    | Downloading package porter_test to\n",
      "[nltk_data]    |     C:\\Users\\admin\\AppData\\Roaming\\nltk_data...\n",
      "[nltk_data]    |   Unzipping stemmers\\porter_test.zip.\n",
      "[nltk_data]    | Downloading package ppattach to\n",
      "[nltk_data]    |     C:\\Users\\admin\\AppData\\Roaming\\nltk_data...\n",
      "[nltk_data]    |   Unzipping corpora\\ppattach.zip.\n",
      "[nltk_data]    | Downloading package problem_reports to\n",
      "[nltk_data]    |     C:\\Users\\admin\\AppData\\Roaming\\nltk_data...\n",
      "[nltk_data]    |   Unzipping corpora\\problem_reports.zip.\n",
      "[nltk_data]    | Downloading package product_reviews_1 to\n",
      "[nltk_data]    |     C:\\Users\\admin\\AppData\\Roaming\\nltk_data...\n",
      "[nltk_data]    |   Unzipping corpora\\product_reviews_1.zip.\n",
      "[nltk_data]    | Downloading package product_reviews_2 to\n",
      "[nltk_data]    |     C:\\Users\\admin\\AppData\\Roaming\\nltk_data...\n",
      "[nltk_data]    |   Unzipping corpora\\product_reviews_2.zip.\n",
      "[nltk_data]    | Downloading package propbank to\n",
      "[nltk_data]    |     C:\\Users\\admin\\AppData\\Roaming\\nltk_data...\n",
      "[nltk_data]    | Downloading package pros_cons to\n",
      "[nltk_data]    |     C:\\Users\\admin\\AppData\\Roaming\\nltk_data...\n",
      "[nltk_data]    |   Unzipping corpora\\pros_cons.zip.\n",
      "[nltk_data]    | Downloading package ptb to\n",
      "[nltk_data]    |     C:\\Users\\admin\\AppData\\Roaming\\nltk_data...\n",
      "[nltk_data]    |   Unzipping corpora\\ptb.zip.\n",
      "[nltk_data]    | Downloading package punkt to\n",
      "[nltk_data]    |     C:\\Users\\admin\\AppData\\Roaming\\nltk_data...\n",
      "[nltk_data]    |   Package punkt is already up-to-date!\n",
      "[nltk_data]    | Downloading package qc to\n",
      "[nltk_data]    |     C:\\Users\\admin\\AppData\\Roaming\\nltk_data...\n",
      "[nltk_data]    |   Unzipping corpora\\qc.zip.\n",
      "[nltk_data]    | Downloading package reuters to\n",
      "[nltk_data]    |     C:\\Users\\admin\\AppData\\Roaming\\nltk_data...\n",
      "[nltk_data]    | Downloading package rslp to\n",
      "[nltk_data]    |     C:\\Users\\admin\\AppData\\Roaming\\nltk_data...\n",
      "[nltk_data]    |   Unzipping stemmers\\rslp.zip.\n",
      "[nltk_data]    | Downloading package rte to\n",
      "[nltk_data]    |     C:\\Users\\admin\\AppData\\Roaming\\nltk_data...\n",
      "[nltk_data]    |   Unzipping corpora\\rte.zip.\n",
      "[nltk_data]    | Downloading package sample_grammars to\n",
      "[nltk_data]    |     C:\\Users\\admin\\AppData\\Roaming\\nltk_data...\n",
      "[nltk_data]    |   Unzipping grammars\\sample_grammars.zip.\n",
      "[nltk_data]    | Downloading package semcor to\n",
      "[nltk_data]    |     C:\\Users\\admin\\AppData\\Roaming\\nltk_data...\n",
      "[nltk_data]    | Downloading package senseval to\n",
      "[nltk_data]    |     C:\\Users\\admin\\AppData\\Roaming\\nltk_data...\n",
      "[nltk_data]    |   Unzipping corpora\\senseval.zip.\n",
      "[nltk_data]    | Downloading package sentence_polarity to\n",
      "[nltk_data]    |     C:\\Users\\admin\\AppData\\Roaming\\nltk_data...\n",
      "[nltk_data]    |   Unzipping corpora\\sentence_polarity.zip.\n",
      "[nltk_data]    | Downloading package sentiwordnet to\n",
      "[nltk_data]    |     C:\\Users\\admin\\AppData\\Roaming\\nltk_data...\n",
      "[nltk_data]    |   Unzipping corpora\\sentiwordnet.zip.\n",
      "[nltk_data]    | Downloading package shakespeare to\n",
      "[nltk_data]    |     C:\\Users\\admin\\AppData\\Roaming\\nltk_data...\n",
      "[nltk_data]    |   Unzipping corpora\\shakespeare.zip.\n",
      "[nltk_data]    | Downloading package sinica_treebank to\n",
      "[nltk_data]    |     C:\\Users\\admin\\AppData\\Roaming\\nltk_data...\n",
      "[nltk_data]    |   Unzipping corpora\\sinica_treebank.zip.\n",
      "[nltk_data]    | Downloading package smultron to\n",
      "[nltk_data]    |     C:\\Users\\admin\\AppData\\Roaming\\nltk_data...\n",
      "[nltk_data]    |   Unzipping corpora\\smultron.zip.\n",
      "[nltk_data]    | Downloading package snowball_data to\n",
      "[nltk_data]    |     C:\\Users\\admin\\AppData\\Roaming\\nltk_data...\n",
      "[nltk_data]    | Downloading package spanish_grammars to\n",
      "[nltk_data]    |     C:\\Users\\admin\\AppData\\Roaming\\nltk_data...\n",
      "[nltk_data]    |   Unzipping grammars\\spanish_grammars.zip.\n",
      "[nltk_data]    | Downloading package state_union to\n",
      "[nltk_data]    |     C:\\Users\\admin\\AppData\\Roaming\\nltk_data...\n",
      "[nltk_data]    |   Unzipping corpora\\state_union.zip.\n",
      "[nltk_data]    | Downloading package stopwords to\n",
      "[nltk_data]    |     C:\\Users\\admin\\AppData\\Roaming\\nltk_data...\n",
      "[nltk_data]    |   Unzipping corpora\\stopwords.zip.\n",
      "[nltk_data]    | Downloading package subjectivity to\n",
      "[nltk_data]    |     C:\\Users\\admin\\AppData\\Roaming\\nltk_data...\n",
      "[nltk_data]    |   Unzipping corpora\\subjectivity.zip.\n",
      "[nltk_data]    | Downloading package swadesh to\n",
      "[nltk_data]    |     C:\\Users\\admin\\AppData\\Roaming\\nltk_data...\n",
      "[nltk_data]    |   Unzipping corpora\\swadesh.zip.\n",
      "[nltk_data]    | Downloading package switchboard to\n",
      "[nltk_data]    |     C:\\Users\\admin\\AppData\\Roaming\\nltk_data...\n",
      "[nltk_data]    |   Unzipping corpora\\switchboard.zip.\n",
      "[nltk_data]    | Downloading package tagsets to\n",
      "[nltk_data]    |     C:\\Users\\admin\\AppData\\Roaming\\nltk_data...\n",
      "[nltk_data]    |   Unzipping help\\tagsets.zip.\n",
      "[nltk_data]    | Downloading package timit to\n",
      "[nltk_data]    |     C:\\Users\\admin\\AppData\\Roaming\\nltk_data...\n",
      "[nltk_data]    |   Unzipping corpora\\timit.zip.\n",
      "[nltk_data]    | Downloading package toolbox to\n",
      "[nltk_data]    |     C:\\Users\\admin\\AppData\\Roaming\\nltk_data...\n",
      "[nltk_data]    |   Unzipping corpora\\toolbox.zip.\n",
      "[nltk_data]    | Downloading package treebank to\n",
      "[nltk_data]    |     C:\\Users\\admin\\AppData\\Roaming\\nltk_data...\n",
      "[nltk_data]    |   Unzipping corpora\\treebank.zip.\n",
      "[nltk_data]    | Downloading package twitter_samples to\n",
      "[nltk_data]    |     C:\\Users\\admin\\AppData\\Roaming\\nltk_data...\n",
      "[nltk_data]    |   Unzipping corpora\\twitter_samples.zip.\n",
      "[nltk_data]    | Downloading package udhr to\n",
      "[nltk_data]    |     C:\\Users\\admin\\AppData\\Roaming\\nltk_data...\n",
      "[nltk_data]    |   Unzipping corpora\\udhr.zip.\n",
      "[nltk_data]    | Downloading package udhr2 to\n",
      "[nltk_data]    |     C:\\Users\\admin\\AppData\\Roaming\\nltk_data...\n",
      "[nltk_data]    |   Unzipping corpora\\udhr2.zip.\n",
      "[nltk_data]    | Downloading package unicode_samples to\n",
      "[nltk_data]    |     C:\\Users\\admin\\AppData\\Roaming\\nltk_data...\n",
      "[nltk_data]    |   Unzipping corpora\\unicode_samples.zip.\n",
      "[nltk_data]    | Downloading package universal_tagset to\n",
      "[nltk_data]    |     C:\\Users\\admin\\AppData\\Roaming\\nltk_data...\n",
      "[nltk_data]    |   Unzipping taggers\\universal_tagset.zip.\n",
      "[nltk_data]    | Downloading package universal_treebanks_v20 to\n",
      "[nltk_data]    |     C:\\Users\\admin\\AppData\\Roaming\\nltk_data...\n",
      "[nltk_data]    | Downloading package vader_lexicon to\n",
      "[nltk_data]    |     C:\\Users\\admin\\AppData\\Roaming\\nltk_data...\n",
      "[nltk_data]    | Downloading package verbnet to\n",
      "[nltk_data]    |     C:\\Users\\admin\\AppData\\Roaming\\nltk_data...\n",
      "[nltk_data]    |   Unzipping corpora\\verbnet.zip.\n",
      "[nltk_data]    | Downloading package verbnet3 to\n",
      "[nltk_data]    |     C:\\Users\\admin\\AppData\\Roaming\\nltk_data...\n"
     ]
    },
    {
     "name": "stderr",
     "output_type": "stream",
     "text": [
      "[nltk_data]    |   Unzipping corpora\\verbnet3.zip.\n",
      "[nltk_data]    | Downloading package webtext to\n",
      "[nltk_data]    |     C:\\Users\\admin\\AppData\\Roaming\\nltk_data...\n",
      "[nltk_data]    |   Unzipping corpora\\webtext.zip.\n",
      "[nltk_data]    | Downloading package wmt15_eval to\n",
      "[nltk_data]    |     C:\\Users\\admin\\AppData\\Roaming\\nltk_data...\n",
      "[nltk_data]    |   Unzipping models\\wmt15_eval.zip.\n",
      "[nltk_data]    | Downloading package word2vec_sample to\n",
      "[nltk_data]    |     C:\\Users\\admin\\AppData\\Roaming\\nltk_data...\n",
      "[nltk_data]    |   Unzipping models\\word2vec_sample.zip.\n",
      "[nltk_data]    | Downloading package wordnet to\n",
      "[nltk_data]    |     C:\\Users\\admin\\AppData\\Roaming\\nltk_data...\n",
      "[nltk_data]    |   Package wordnet is already up-to-date!\n",
      "[nltk_data]    | Downloading package wordnet2021 to\n",
      "[nltk_data]    |     C:\\Users\\admin\\AppData\\Roaming\\nltk_data...\n",
      "[nltk_data]    | Downloading package wordnet31 to\n",
      "[nltk_data]    |     C:\\Users\\admin\\AppData\\Roaming\\nltk_data...\n",
      "[nltk_data]    | Downloading package wordnet_ic to\n",
      "[nltk_data]    |     C:\\Users\\admin\\AppData\\Roaming\\nltk_data...\n",
      "[nltk_data]    |   Unzipping corpora\\wordnet_ic.zip.\n",
      "[nltk_data]    | Downloading package words to\n",
      "[nltk_data]    |     C:\\Users\\admin\\AppData\\Roaming\\nltk_data...\n",
      "[nltk_data]    |   Unzipping corpora\\words.zip.\n",
      "[nltk_data]    | Downloading package ycoe to\n",
      "[nltk_data]    |     C:\\Users\\admin\\AppData\\Roaming\\nltk_data...\n",
      "[nltk_data]    |   Unzipping corpora\\ycoe.zip.\n",
      "[nltk_data]    | \n",
      "[nltk_data]  Done downloading collection all\n"
     ]
    },
    {
     "data": {
      "text/plain": [
       "True"
      ]
     },
     "execution_count": 30,
     "metadata": {},
     "output_type": "execute_result"
    }
   ],
   "source": [
    "import nltk\n",
    "nltk.download('all')"
   ]
  },
  {
   "cell_type": "markdown",
   "id": "266e6316",
   "metadata": {},
   "source": [
    "### 1) SentiWordNet 이용한 감정 분석"
   ]
  },
  {
   "cell_type": "code",
   "execution_count": 31,
   "id": "8af5aba5",
   "metadata": {},
   "outputs": [
    {
     "name": "stdout",
     "output_type": "stream",
     "text": [
      "synsets 반환 type:  <class 'list'>\n",
      "synsets 반환 값 개수:  18\n",
      "synsets 반환 값:  [Synset('present.n.01'), Synset('present.n.02'), Synset('present.n.03'), Synset('show.v.01'), Synset('present.v.02'), Synset('stage.v.01'), Synset('present.v.04'), Synset('present.v.05'), Synset('award.v.01'), Synset('give.v.08'), Synset('deliver.v.01'), Synset('introduce.v.01'), Synset('portray.v.04'), Synset('confront.v.03'), Synset('present.v.12'), Synset('salute.v.06'), Synset('present.a.01'), Synset('present.a.02')]\n"
     ]
    }
   ],
   "source": [
    "from nltk.corpus import wordnet as wn\n",
    "\n",
    "term = 'present'\n",
    "\n",
    "# present 라는 단어로 wordnet 의 synsets생성\n",
    "synsets = wn.synsets(term)\n",
    "print('synsets 반환 type: ', type(synsets))\n",
    "print('synsets 반환 값 개수: ', len(synsets))\n",
    "print('synsets 반환 값: ', synsets)"
   ]
  },
  {
   "cell_type": "markdown",
   "id": "c45894e5",
   "metadata": {},
   "source": [
    "- 서로 다른 총 18개의 semantic을 가지는 synset 객체를 가지는 리스트\n",
    "- present.n.01 -> present는 의미, n 은 명사, 01은 명사로서 가지는 의미를 구분하는 인덱스\n",
    "\n",
    "-> synset 객체는 POS(품사), 정의, 부명제 등 시맨틱적인 요소를 표현"
   ]
  },
  {
   "cell_type": "code",
   "execution_count": 33,
   "id": "f0b12177",
   "metadata": {},
   "outputs": [
    {
     "name": "stdout",
     "output_type": "stream",
     "text": [
      "#### Synset name :  present.n.01 ####\n",
      "POS(품사) : noun.time\n",
      "Definition(정의) : the period of time that is happening now; any continuous stretch of time including the moment of speech\n",
      "Lemmas(부명제) : ['present', 'nowadays'] \n",
      "\n",
      "#### Synset name :  present.n.02 ####\n",
      "POS(품사) : noun.possession\n",
      "Definition(정의) : something presented as a gift\n",
      "Lemmas(부명제) : ['present'] \n",
      "\n",
      "#### Synset name :  present.n.03 ####\n",
      "POS(품사) : noun.communication\n",
      "Definition(정의) : a verb tense that expresses actions or states at the time of speaking\n",
      "Lemmas(부명제) : ['present', 'present_tense'] \n",
      "\n",
      "#### Synset name :  show.v.01 ####\n",
      "POS(품사) : verb.perception\n",
      "Definition(정의) : give an exhibition of to an interested audience\n",
      "Lemmas(부명제) : ['show', 'demo', 'exhibit', 'present', 'demonstrate'] \n",
      "\n",
      "#### Synset name :  present.v.02 ####\n",
      "POS(품사) : verb.communication\n",
      "Definition(정의) : bring forward and present to the mind\n",
      "Lemmas(부명제) : ['present', 'represent', 'lay_out'] \n",
      "\n",
      "#### Synset name :  stage.v.01 ####\n",
      "POS(품사) : verb.creation\n",
      "Definition(정의) : perform (a play), especially on a stage\n",
      "Lemmas(부명제) : ['stage', 'present', 'represent'] \n",
      "\n",
      "#### Synset name :  present.v.04 ####\n",
      "POS(품사) : verb.possession\n",
      "Definition(정의) : hand over formally\n",
      "Lemmas(부명제) : ['present', 'submit'] \n",
      "\n",
      "#### Synset name :  present.v.05 ####\n",
      "POS(품사) : verb.stative\n",
      "Definition(정의) : introduce\n",
      "Lemmas(부명제) : ['present', 'pose'] \n",
      "\n",
      "#### Synset name :  award.v.01 ####\n",
      "POS(품사) : verb.possession\n",
      "Definition(정의) : give, especially as an honor or reward\n",
      "Lemmas(부명제) : ['award', 'present'] \n",
      "\n",
      "#### Synset name :  give.v.08 ####\n",
      "POS(품사) : verb.possession\n",
      "Definition(정의) : give as a present; make a gift of\n",
      "Lemmas(부명제) : ['give', 'gift', 'present'] \n",
      "\n",
      "#### Synset name :  deliver.v.01 ####\n",
      "POS(품사) : verb.communication\n",
      "Definition(정의) : deliver (a speech, oration, or idea)\n",
      "Lemmas(부명제) : ['deliver', 'present'] \n",
      "\n",
      "#### Synset name :  introduce.v.01 ####\n",
      "POS(품사) : verb.communication\n",
      "Definition(정의) : cause to come to know personally\n",
      "Lemmas(부명제) : ['introduce', 'present', 'acquaint'] \n",
      "\n",
      "#### Synset name :  portray.v.04 ####\n",
      "POS(품사) : verb.creation\n",
      "Definition(정의) : represent abstractly, for example in a painting, drawing, or sculpture\n",
      "Lemmas(부명제) : ['portray', 'present'] \n",
      "\n",
      "#### Synset name :  confront.v.03 ####\n",
      "POS(품사) : verb.communication\n",
      "Definition(정의) : present somebody with something, usually to accuse or criticize\n",
      "Lemmas(부명제) : ['confront', 'face', 'present'] \n",
      "\n",
      "#### Synset name :  present.v.12 ####\n",
      "POS(품사) : verb.communication\n",
      "Definition(정의) : formally present a debutante, a representative of a country, etc.\n",
      "Lemmas(부명제) : ['present'] \n",
      "\n",
      "#### Synset name :  salute.v.06 ####\n",
      "POS(품사) : verb.communication\n",
      "Definition(정의) : recognize with a gesture prescribed by a military regulation; assume a prescribed position\n",
      "Lemmas(부명제) : ['salute', 'present'] \n",
      "\n",
      "#### Synset name :  present.a.01 ####\n",
      "POS(품사) : adj.all\n",
      "Definition(정의) : temporal sense; intermediate between past and future; now existing or happening or in consideration\n",
      "Lemmas(부명제) : ['present'] \n",
      "\n",
      "#### Synset name :  present.a.02 ####\n",
      "POS(품사) : adj.all\n",
      "Definition(정의) : being or existing in a specified place\n",
      "Lemmas(부명제) : ['present'] \n",
      "\n"
     ]
    }
   ],
   "source": [
    "for synset in synsets:\n",
    "    print('#### Synset name : ', synset.name(), '####')\n",
    "    print(f'POS(품사) : {synset.lexname()}')\n",
    "    print(f'Definition(정의) : {synset.definition()}')\n",
    "    print(f'Lemmas(부명제) : {synset.lemma_names()}', '\\n')"
   ]
  },
  {
   "cell_type": "markdown",
   "id": "32c6b655",
   "metadata": {},
   "source": [
    "### WordNet : 어떤 어휘와 다른 어휘 간의 관계를 유사도로 나타낸 것"
   ]
  },
  {
   "cell_type": "code",
   "execution_count": 35,
   "id": "62312099",
   "metadata": {},
   "outputs": [
    {
     "data": {
      "text/html": [
       "<div>\n",
       "<style scoped>\n",
       "    .dataframe tbody tr th:only-of-type {\n",
       "        vertical-align: middle;\n",
       "    }\n",
       "\n",
       "    .dataframe tbody tr th {\n",
       "        vertical-align: top;\n",
       "    }\n",
       "\n",
       "    .dataframe thead th {\n",
       "        text-align: right;\n",
       "    }\n",
       "</style>\n",
       "<table border=\"1\" class=\"dataframe\">\n",
       "  <thead>\n",
       "    <tr style=\"text-align: right;\">\n",
       "      <th></th>\n",
       "      <th>tree</th>\n",
       "      <th>lion</th>\n",
       "      <th>tiger</th>\n",
       "      <th>cat</th>\n",
       "      <th>dog</th>\n",
       "    </tr>\n",
       "  </thead>\n",
       "  <tbody>\n",
       "    <tr>\n",
       "      <th>tree</th>\n",
       "      <td>1.00</td>\n",
       "      <td>0.07</td>\n",
       "      <td>0.07</td>\n",
       "      <td>0.08</td>\n",
       "      <td>0.12</td>\n",
       "    </tr>\n",
       "    <tr>\n",
       "      <th>lion</th>\n",
       "      <td>0.07</td>\n",
       "      <td>1.00</td>\n",
       "      <td>0.33</td>\n",
       "      <td>0.25</td>\n",
       "      <td>0.17</td>\n",
       "    </tr>\n",
       "    <tr>\n",
       "      <th>tiger</th>\n",
       "      <td>0.07</td>\n",
       "      <td>0.33</td>\n",
       "      <td>1.00</td>\n",
       "      <td>0.25</td>\n",
       "      <td>0.17</td>\n",
       "    </tr>\n",
       "    <tr>\n",
       "      <th>cat</th>\n",
       "      <td>0.08</td>\n",
       "      <td>0.25</td>\n",
       "      <td>0.25</td>\n",
       "      <td>1.00</td>\n",
       "      <td>0.20</td>\n",
       "    </tr>\n",
       "    <tr>\n",
       "      <th>dog</th>\n",
       "      <td>0.12</td>\n",
       "      <td>0.17</td>\n",
       "      <td>0.17</td>\n",
       "      <td>0.20</td>\n",
       "      <td>1.00</td>\n",
       "    </tr>\n",
       "  </tbody>\n",
       "</table>\n",
       "</div>"
      ],
      "text/plain": [
       "       tree  lion  tiger   cat   dog\n",
       "tree   1.00  0.07   0.07  0.08  0.12\n",
       "lion   0.07  1.00   0.33  0.25  0.17\n",
       "tiger  0.07  0.33   1.00  0.25  0.17\n",
       "cat    0.08  0.25   0.25  1.00  0.20\n",
       "dog    0.12  0.17   0.17  0.20  1.00"
      ]
     },
     "execution_count": 35,
     "metadata": {},
     "output_type": "execute_result"
    }
   ],
   "source": [
    "tree = wn.synset('tree.n.01')\n",
    "lion = wn.synset('lion.n.01')\n",
    "tiger = wn.synset('tiger.n.02')\n",
    "cat = wn.synset('cat.n.01')\n",
    "dog = wn.synset('dog.n.01')\n",
    "\n",
    "entities = [tree, lion, tiger, cat, dog]\n",
    "similarities = []\n",
    "entity_names = [entity.name().split('.')[0] for entity in entities]\n",
    "\n",
    "# 단어별 synset 을 반복하면서 다른 단어의 synset과 유사도를 측정\n",
    "for entity in entities:\n",
    "    similarity = [round(entity.path_similarity(compared_entity), 2)\n",
    "                 for compared_entity in entities]\n",
    "    similarities.append(similarity)\n",
    "    \n",
    "# 개별 단어별 synset과 다른 단어의 synset과의 유사도를 df로 저장\n",
    "similarity_df = pd.DataFrame(similarities, columns = entity_names, index = entity_names)\n",
    "similarity_df"
   ]
  },
  {
   "cell_type": "markdown",
   "id": "6f2c968d",
   "metadata": {},
   "source": [
    "### SentiWordNet : WordNet의 Synset과 유사한 클래스 (Senti_Synset 클래스를 리스트 형태로 반환)"
   ]
  },
  {
   "cell_type": "code",
   "execution_count": 37,
   "id": "d462e15f",
   "metadata": {},
   "outputs": [
    {
     "name": "stdout",
     "output_type": "stream",
     "text": [
      "senti_synsets 반환 type:  <class 'list'>\n",
      "senti_synsets 반환 값 개수:  11\n",
      "senti_synsets 반환 type:  [SentiSynset('decelerate.v.01'), SentiSynset('slow.v.02'), SentiSynset('slow.v.03'), SentiSynset('slow.a.01'), SentiSynset('slow.a.02'), SentiSynset('dense.s.04'), SentiSynset('slow.a.04'), SentiSynset('boring.s.01'), SentiSynset('dull.s.08'), SentiSynset('slowly.r.01'), SentiSynset('behind.r.03')]\n"
     ]
    }
   ],
   "source": [
    "import nltk\n",
    "from nltk.corpus import sentiwordnet as swn\n",
    "\n",
    "senti_synsets = list(swn.senti_synsets('slow'))\n",
    "print('senti_synsets 반환 type: ', type(senti_synsets))\n",
    "print('senti_synsets 반환 값 개수: ', len(senti_synsets))\n",
    "print('senti_synsets 반환 type: ', senti_synsets)"
   ]
  },
  {
   "cell_type": "markdown",
   "id": "80f59d66",
   "metadata": {},
   "source": [
    "- 단어의 감성을 나타내는 감성 지수와 객관성을 나타내는 객관성 지수를 가지고있음\n",
    "\n",
    "- 감성 지수 : 긍정 감성 지수, 부정 감성 지수로 나뉨 (감성적이지 않으면 객관성 지수 :1, 감성 지수 : 0)"
   ]
  },
  {
   "cell_type": "code",
   "execution_count": 38,
   "id": "54d58fec",
   "metadata": {},
   "outputs": [
    {
     "name": "stdout",
     "output_type": "stream",
     "text": [
      "father 긍정감성 지수:  0.0\n",
      "father 부정감성 지수:  0.0\n",
      "father 객관성 지수:  1.0\n"
     ]
    }
   ],
   "source": [
    "father = swn.senti_synset('father.n.01')\n",
    "print('father 긍정감성 지수: ', father.pos_score())\n",
    "print('father 부정감성 지수: ', father.neg_score())\n",
    "print('father 객관성 지수: ', father.obj_score())"
   ]
  },
  {
   "cell_type": "code",
   "execution_count": 39,
   "id": "8e87822f",
   "metadata": {},
   "outputs": [
    {
     "name": "stdout",
     "output_type": "stream",
     "text": [
      "fabulous  긍정감성 지수:  0.875\n",
      "fabulous  부정감성 지수:  0.125\n",
      "fabulous  객관성 지수:  0.0\n"
     ]
    }
   ],
   "source": [
    "fabulous = swn.senti_synset('fabulous.a.01')\n",
    "print('fabulous  긍정감성 지수: ', fabulous .pos_score())\n",
    "print('fabulous  부정감성 지수: ', fabulous .neg_score())\n",
    "print('fabulous  객관성 지수: ', fabulous .obj_score())"
   ]
  },
  {
   "cell_type": "markdown",
   "id": "1de44169",
   "metadata": {},
   "source": [
    "#### 과제 1019_5. SentiWordNet 을 이용한 영화 감상평 감성분석을 수행"
   ]
  },
  {
   "cell_type": "markdown",
   "id": "50ff0227",
   "metadata": {},
   "source": [
    "[감성 분석 순서]\n",
    "1. 문서를 문장단위로 분해\n",
    "2. 다시 문장을 단어 단위로 토큰화하고 품사 태깅\n",
    "3. 품사 태깅된 단어 기반으로 synset 객체와 senti_synset 객체를 생성\n",
    "4. Senti_synset에서 긍정 감성/부정 감성 지수를 구하고 이를 모두 합산해 특정 임계치 값 이상일 때 긍정 감성으로, 그렇지 않을 때는 부정 감성으로 결정"
   ]
  },
  {
   "cell_type": "markdown",
   "id": "787111c2",
   "metadata": {},
   "source": [
    "## [실습]: SentiWordNet 을 이용한 영화 감상평 감성분석을 수행"
   ]
  },
  {
   "cell_type": "markdown",
   "id": "9ca16739",
   "metadata": {},
   "source": [
    "## 1. 감성 분석"
   ]
  },
  {
   "cell_type": "code",
   "execution_count": null,
   "id": "8db451fc",
   "metadata": {},
   "outputs": [],
   "source": [
    "# WordNet을 이용해 문서를 단어로 토큰화한 후 어근 추출과 품사 태깅을 적용"
   ]
  },
  {
   "cell_type": "code",
   "execution_count": 43,
   "id": "30cbf696",
   "metadata": {},
   "outputs": [],
   "source": [
    "# 품사 태깅을 수행하는 내부 함수 생성\n",
    "from nltk.corpus import wordnet as wn\n",
    "\n",
    "# NLTK PennTreebank Tag 기반으로 WordNet 기반의 품사 Tag로 변환\n",
    "def penn_to_wn(tag):\n",
    "    if tag.startswith('J'):\n",
    "        return wn.ADJ\n",
    "    elif tag.startswith('N'):\n",
    "        return wn.NOUN\n",
    "    elif tag.startswith('R'):\n",
    "        return wn.ADV\n",
    "    elif tag.startswith('V'):\n",
    "        return wn.VERB"
   ]
  },
  {
   "cell_type": "code",
   "execution_count": 45,
   "id": "a7b95219",
   "metadata": {},
   "outputs": [],
   "source": [
    "# 문장 -> 단어 토큰 -> 품사 태깅 후 SentiSynet클래스 생성, Polarity Score를 합산하는 함수 생성\n",
    "from nltk.stem import WordNetLemmatizer\n",
    "from nltk.corpus import sentiwordnet as swn\n",
    "from nltk import sent_tokenize, word_tokenize, pos_tag\n",
    "\n",
    "def swn_polarity(text):\n",
    "    # 감성 지수 초기화\n",
    "    sentiment = 0.0\n",
    "    tokens_count = 0\n",
    "    \n",
    "    lemmatizer = WordNetLemmatizer() # 어근추출\n",
    "    raw_sentences = sent_tokenize(text) # 문장으로 토큰화\n",
    "    \n",
    "    # 분해된 문장별로 단어 토큰 -> 품사 태깅 후 SentiSynset 생성 -> 감성 지수 합산\n",
    "    for raw_sentence in raw_sentences:\n",
    "        # NLTK 기반의 품사 태깅 문장 추출\n",
    "        tagged_sentence = pos_tag(word_tokenize(raw_sentence)) #단어토큰화 후 품사 태깅\n",
    "        for word, tag in tagged_sentence:\n",
    "            \n",
    "            #WordNet 기반 품사 태깅과 어근 추출(함수 적용)\n",
    "            wn_tag = penn_to_wn(tag)\n",
    "            if wn_tag not in (wn.NOUN, wn.ADJ, wn.ADV): # 동사는 제외 (명사, 형용사, 부사 나오지 않으면 다시 돌아감)\n",
    "                continue\n",
    "                \n",
    "            lemma = lemmatizer.lemmatize(word, pos = wn_tag) # 해당 품사인 단어의 원형을 찾음\n",
    "            if not lemma:\n",
    "                continue\n",
    "            \n",
    "            # 어근을 추출한 단어와 WordNet기반 품사 태깅을 입력 -> Synset 객체 생성\n",
    "            synsets = wn.synsets(lemma, pos = wn_tag)\n",
    "            if not synsets:\n",
    "                continue\n",
    "                \n",
    "            # sentiwordnet의 감성 단어 분석으로 감성 synset 추출\n",
    "            # 긍정 감성 지수 : +, 부정 감성 지수 : - 로 합산\n",
    "            \n",
    "            synset = synsets[0]\n",
    "            swn_synset = swn.senti_synset(synset.name())\n",
    "            sentiment += (swn_synset.pos_score() - swn_synset.neg_score()) # 긍정지수 - 부정지수\n",
    "            tokens_count += 1\n",
    "            \n",
    "    if not tokens_count:\n",
    "        return 0\n",
    "    \n",
    "    # 총 score 가 0 이상일 경우 긍정 1, 그렇지 않을 경우 부정 0 반환\n",
    "    \n",
    "    if sentiment >= 0:\n",
    "        return 1 # 긍정\n",
    "    \n",
    "    return 0 # 부정"
   ]
  },
  {
   "cell_type": "markdown",
   "id": "460f7733",
   "metadata": {},
   "source": [
    "## 2. 데이터 대입"
   ]
  },
  {
   "cell_type": "markdown",
   "id": "78bd7a16",
   "metadata": {},
   "source": [
    "### 1) 데이터 생성"
   ]
  },
  {
   "cell_type": "code",
   "execution_count": 47,
   "id": "096ec759",
   "metadata": {},
   "outputs": [
    {
     "data": {
      "text/html": [
       "<div>\n",
       "<style scoped>\n",
       "    .dataframe tbody tr th:only-of-type {\n",
       "        vertical-align: middle;\n",
       "    }\n",
       "\n",
       "    .dataframe tbody tr th {\n",
       "        vertical-align: top;\n",
       "    }\n",
       "\n",
       "    .dataframe thead th {\n",
       "        text-align: right;\n",
       "    }\n",
       "</style>\n",
       "<table border=\"1\" class=\"dataframe\">\n",
       "  <thead>\n",
       "    <tr style=\"text-align: right;\">\n",
       "      <th></th>\n",
       "      <th>id</th>\n",
       "      <th>sentiment</th>\n",
       "      <th>review</th>\n",
       "    </tr>\n",
       "  </thead>\n",
       "  <tbody>\n",
       "    <tr>\n",
       "      <th>0</th>\n",
       "      <td>\"5814_8\"</td>\n",
       "      <td>1</td>\n",
       "      <td>\"With all this stuff going down at the moment ...</td>\n",
       "    </tr>\n",
       "    <tr>\n",
       "      <th>1</th>\n",
       "      <td>\"2381_9\"</td>\n",
       "      <td>1</td>\n",
       "      <td>\"\\\"The Classic War of the Worlds\\\" by Timothy ...</td>\n",
       "    </tr>\n",
       "    <tr>\n",
       "      <th>2</th>\n",
       "      <td>\"7759_3\"</td>\n",
       "      <td>0</td>\n",
       "      <td>\"The film starts with a manager (Nicholas Bell...</td>\n",
       "    </tr>\n",
       "    <tr>\n",
       "      <th>3</th>\n",
       "      <td>\"3630_4\"</td>\n",
       "      <td>0</td>\n",
       "      <td>\"It must be assumed that those who praised thi...</td>\n",
       "    </tr>\n",
       "    <tr>\n",
       "      <th>4</th>\n",
       "      <td>\"9495_8\"</td>\n",
       "      <td>1</td>\n",
       "      <td>\"Superbly trashy and wondrously unpretentious ...</td>\n",
       "    </tr>\n",
       "  </tbody>\n",
       "</table>\n",
       "</div>"
      ],
      "text/plain": [
       "         id  sentiment                                             review\n",
       "0  \"5814_8\"          1  \"With all this stuff going down at the moment ...\n",
       "1  \"2381_9\"          1  \"\\\"The Classic War of the Worlds\\\" by Timothy ...\n",
       "2  \"7759_3\"          0  \"The film starts with a manager (Nicholas Bell...\n",
       "3  \"3630_4\"          0  \"It must be assumed that those who praised thi...\n",
       "4  \"9495_8\"          1  \"Superbly trashy and wondrously unpretentious ..."
      ]
     },
     "execution_count": 47,
     "metadata": {},
     "output_type": "execute_result"
    }
   ],
   "source": [
    "# 데이터 생성\n",
    "\n",
    "review_df = pd.read_csv('labeledTrainData.tsv', header=0, sep = '\\t', quoting = 3)\n",
    "review_df.head()"
   ]
  },
  {
   "cell_type": "code",
   "execution_count": 48,
   "id": "2129f0e1",
   "metadata": {},
   "outputs": [
    {
     "data": {
      "text/plain": [
       "' With all this stuff going down at the moment with MJ i ve started listening to his music  watching the odd documentary here and there  watched The Wiz and watched Moonwalker again  Maybe i just want to get a certain insight into this guy who i thought was really cool in the eighties just to maybe make up my mind whether he is guilty or innocent  Moonwalker is part biography  part feature film which i remember going to see at the cinema when it was originally released  Some of it has subtle messages about MJ s feeling towards the press and also the obvious message of drugs are bad m kay   Visually impressive but of course this is all about Michael Jackson so unless you remotely like MJ in anyway then you are going to hate this and find it boring  Some may call MJ an egotist for consenting to the making of this movie BUT MJ and most of his fans would say that he made it for the fans which if true is really nice of him   The actual feature film bit when it finally starts is only on for    minutes or so excluding the Smooth Criminal sequence and Joe Pesci is convincing as a psychopathic all powerful drug lord  Why he wants MJ dead so bad is beyond me  Because MJ overheard his plans  Nah  Joe Pesci s character ranted that he wanted people to know it is he who is supplying drugs etc so i dunno  maybe he just hates MJ s music   Lots of cool things in this like MJ turning into a car and a robot and the whole Speed Demon sequence  Also  the director must have had the patience of a saint when it came to filming the kiddy Bad sequence as usually directors hate working with one kid let alone a whole bunch of them performing a complex dance scene   Bottom line  this movie is for people who like MJ on one level or another  which i think is most people   If not  then stay away  It does try and give off a wholesome message and ironically MJ s bestest buddy in this movie is a girl  Michael Jackson is truly one of the most talented people ever to grace this planet but is he guilty  Well  with all the attention i ve gave this subject    hmmm well i don t know because people can be different behind closed doors  i know this for a fact  He is either an extremely nice but stupid guy or one of the most sickest liars  I hope he is not the latter  '"
      ]
     },
     "execution_count": 48,
     "metadata": {},
     "output_type": "execute_result"
    }
   ],
   "source": [
    "import re\n",
    "\n",
    "# < br >태그 공백 전환\n",
    "review_df['review'] = review_df['review'].str.replace('<br />', ' ')\n",
    "\n",
    "# 영어 문자열이 아닌 문자 전부 공백으로 전환\n",
    "review_df['review'] = review_df['review'].apply(lambda x :re.sub(\"[^a-zA-Z]\", \" \", x))\n",
    "\n",
    "review_df['review'][0]"
   ]
  },
  {
   "cell_type": "markdown",
   "id": "ec9597b7",
   "metadata": {},
   "source": [
    "### 2) 데이터 대입"
   ]
  },
  {
   "cell_type": "code",
   "execution_count": 50,
   "id": "08ed6391",
   "metadata": {},
   "outputs": [],
   "source": [
    "# 긍정인지 부정인지 예측해주는 함수 대입\n",
    "review_df['preds'] = review_df['review'].apply(lambda x : swn_polarity(x))\n",
    "\n",
    "# 실제 강성 평가를 타깃값으로 \n",
    "y_target = review_df['sentiment'].values\n",
    "\n",
    "# 함수를 대입한 값을 예측값으로\n",
    "preds = review_df['preds'].values"
   ]
  },
  {
   "cell_type": "code",
   "execution_count": 52,
   "id": "a4450223",
   "metadata": {},
   "outputs": [
    {
     "data": {
      "text/html": [
       "<div>\n",
       "<style scoped>\n",
       "    .dataframe tbody tr th:only-of-type {\n",
       "        vertical-align: middle;\n",
       "    }\n",
       "\n",
       "    .dataframe tbody tr th {\n",
       "        vertical-align: top;\n",
       "    }\n",
       "\n",
       "    .dataframe thead th {\n",
       "        text-align: right;\n",
       "    }\n",
       "</style>\n",
       "<table border=\"1\" class=\"dataframe\">\n",
       "  <thead>\n",
       "    <tr style=\"text-align: right;\">\n",
       "      <th></th>\n",
       "      <th>sentiment</th>\n",
       "      <th>preds</th>\n",
       "    </tr>\n",
       "  </thead>\n",
       "  <tbody>\n",
       "    <tr>\n",
       "      <th>0</th>\n",
       "      <td>1</td>\n",
       "      <td>0</td>\n",
       "    </tr>\n",
       "    <tr>\n",
       "      <th>1</th>\n",
       "      <td>1</td>\n",
       "      <td>1</td>\n",
       "    </tr>\n",
       "    <tr>\n",
       "      <th>2</th>\n",
       "      <td>0</td>\n",
       "      <td>0</td>\n",
       "    </tr>\n",
       "    <tr>\n",
       "      <th>3</th>\n",
       "      <td>0</td>\n",
       "      <td>0</td>\n",
       "    </tr>\n",
       "    <tr>\n",
       "      <th>4</th>\n",
       "      <td>1</td>\n",
       "      <td>0</td>\n",
       "    </tr>\n",
       "    <tr>\n",
       "      <th>...</th>\n",
       "      <td>...</td>\n",
       "      <td>...</td>\n",
       "    </tr>\n",
       "    <tr>\n",
       "      <th>24995</th>\n",
       "      <td>0</td>\n",
       "      <td>0</td>\n",
       "    </tr>\n",
       "    <tr>\n",
       "      <th>24996</th>\n",
       "      <td>0</td>\n",
       "      <td>1</td>\n",
       "    </tr>\n",
       "    <tr>\n",
       "      <th>24997</th>\n",
       "      <td>0</td>\n",
       "      <td>1</td>\n",
       "    </tr>\n",
       "    <tr>\n",
       "      <th>24998</th>\n",
       "      <td>0</td>\n",
       "      <td>0</td>\n",
       "    </tr>\n",
       "    <tr>\n",
       "      <th>24999</th>\n",
       "      <td>1</td>\n",
       "      <td>0</td>\n",
       "    </tr>\n",
       "  </tbody>\n",
       "</table>\n",
       "<p>25000 rows × 2 columns</p>\n",
       "</div>"
      ],
      "text/plain": [
       "       sentiment  preds\n",
       "0              1      0\n",
       "1              1      1\n",
       "2              0      0\n",
       "3              0      0\n",
       "4              1      0\n",
       "...          ...    ...\n",
       "24995          0      0\n",
       "24996          0      1\n",
       "24997          0      1\n",
       "24998          0      0\n",
       "24999          1      0\n",
       "\n",
       "[25000 rows x 2 columns]"
      ]
     },
     "execution_count": 52,
     "metadata": {},
     "output_type": "execute_result"
    }
   ],
   "source": [
    "# 예측값, 실제 감성 평가 결과만 봐보기\n",
    "review_df[['sentiment', 'preds']]"
   ]
  },
  {
   "cell_type": "markdown",
   "id": "fe83b85d",
   "metadata": {},
   "source": [
    "## 3. 예측 성능 평가"
   ]
  },
  {
   "cell_type": "code",
   "execution_count": 65,
   "id": "db92f85c",
   "metadata": {},
   "outputs": [
    {
     "name": "stdout",
     "output_type": "stream",
     "text": [
      "오차행렬:  \n",
      " [[7668 4832]\n",
      " [3636 8864]]\n",
      "정확도 : 0.661\n",
      "정밀도 : 0.647\n",
      "재현율 : 0.709\n",
      "F1 : 0.677\n"
     ]
    }
   ],
   "source": [
    "from sklearn.metrics import accuracy_score, confusion_matrix, precision_score, recall_score, f1_score, roc_auc_score\n",
    "\n",
    "print( '오차행렬: ', '\\n', confusion_matrix(y_target, preds))\n",
    "print(f'정확도 : {accuracy_score(y_target, preds):.3f}')\n",
    "print(f'정밀도 : {precision_score(y_target, preds):.3f}')\n",
    "print(f'재현율 : {recall_score(y_target, preds):.3f}')\n",
    "print(f'F1 : {f1_score(y_target, preds):.3f}')"
   ]
  },
  {
   "cell_type": "markdown",
   "id": "5ea45bc7",
   "metadata": {},
   "source": [
    "## 2) VADER를 이용한 감성 분석"
   ]
  },
  {
   "cell_type": "markdown",
   "id": "13c29eaa",
   "metadata": {},
   "source": [
    "소셜 미디어의 감성 분석 용도로 만들어진 룰 기반의 Lexicon"
   ]
  },
  {
   "cell_type": "markdown",
   "id": "86262e2c",
   "metadata": {},
   "source": [
    "## [실습]: VADER를 이용한 영화 감상평 감성 분석"
   ]
  },
  {
   "cell_type": "markdown",
   "id": "bbec4e32",
   "metadata": {},
   "source": [
    "## 1. 데이터 생성"
   ]
  },
  {
   "cell_type": "code",
   "execution_count": 104,
   "id": "5f4afe0a",
   "metadata": {},
   "outputs": [
    {
     "data": {
      "text/plain": [
       "' With all this stuff going down at the moment with MJ i ve started listening to his music  watching the odd documentary here and there  watched The Wiz and watched Moonwalker again  Maybe i just want to get a certain insight into this guy who i thought was really cool in the eighties just to maybe make up my mind whether he is guilty or innocent  Moonwalker is part biography  part feature film which i remember going to see at the cinema when it was originally released  Some of it has subtle messages about MJ s feeling towards the press and also the obvious message of drugs are bad m kay   Visually impressive but of course this is all about Michael Jackson so unless you remotely like MJ in anyway then you are going to hate this and find it boring  Some may call MJ an egotist for consenting to the making of this movie BUT MJ and most of his fans would say that he made it for the fans which if true is really nice of him   The actual feature film bit when it finally starts is only on for    minutes or so excluding the Smooth Criminal sequence and Joe Pesci is convincing as a psychopathic all powerful drug lord  Why he wants MJ dead so bad is beyond me  Because MJ overheard his plans  Nah  Joe Pesci s character ranted that he wanted people to know it is he who is supplying drugs etc so i dunno  maybe he just hates MJ s music   Lots of cool things in this like MJ turning into a car and a robot and the whole Speed Demon sequence  Also  the director must have had the patience of a saint when it came to filming the kiddy Bad sequence as usually directors hate working with one kid let alone a whole bunch of them performing a complex dance scene   Bottom line  this movie is for people who like MJ on one level or another  which i think is most people   If not  then stay away  It does try and give off a wholesome message and ironically MJ s bestest buddy in this movie is a girl  Michael Jackson is truly one of the most talented people ever to grace this planet but is he guilty  Well  with all the attention i ve gave this subject    hmmm well i don t know because people can be different behind closed doors  i know this for a fact  He is either an extremely nice but stupid guy or one of the most sickest liars  I hope he is not the latter  '"
      ]
     },
     "execution_count": 104,
     "metadata": {},
     "output_type": "execute_result"
    }
   ],
   "source": [
    "# 데이터 생성\n",
    "\n",
    "review_df = pd.read_csv('labeledTrainData.tsv', header=0, sep = '\\t', quoting = 3)\n",
    "\n",
    "import re\n",
    "\n",
    "# < br >태그 공백 전환\n",
    "review_df['review'] = review_df['review'].str.replace('<br />', ' ')\n",
    "\n",
    "# 영어 문자열이 아닌 문자 전부 공백으로 전환\n",
    "review_df['review'] = review_df['review'].apply(lambda x :re.sub(\"[^a-zA-Z]\", \" \", x))\n",
    "\n",
    "review_df['review'][0]"
   ]
  },
  {
   "cell_type": "markdown",
   "id": "945cb05b",
   "metadata": {},
   "source": [
    "### (예시) 감상평 한 개만 VADER를 이용해 감성 분석"
   ]
  },
  {
   "cell_type": "code",
   "execution_count": 105,
   "id": "ecc72993",
   "metadata": {},
   "outputs": [
    {
     "name": "stdout",
     "output_type": "stream",
     "text": [
      "{'neg': 0.13, 'neu': 0.743, 'pos': 0.127, 'compound': -0.7943}\n"
     ]
    }
   ],
   "source": [
    "from nltk.sentiment.vader import SentimentIntensityAnalyzer\n",
    "\n",
    "senti_analyzer = SentimentIntensityAnalyzer() # 객체 생성\n",
    "senti_scores = senti_analyzer.polarity_scores(review_df['review'][0]) # polarity_scores : 감성 점수 추출 매서드(neg : 부정 감성 지수, neu : 중립적인 감성 지수, pos : 긍정 감성 지수, compund : neg, neu, pos를 적절히 조합해 -1~1사이의 감성 지수를 표현한 값)\n",
    "print(senti_scores)"
   ]
  },
  {
   "cell_type": "markdown",
   "id": "c1413a75",
   "metadata": {},
   "source": [
    "[polarity_scores 매서드]\n",
    "\n",
    "추출값\n",
    "\n",
    "neg : 부정 감성 지수, neu : 중립적인 감성 지수, pos : 긍정 감성 지수, compund : neg, neu, pos를 적절히 조합해 -1~1사이의 감성 지수를 표현한 값\n",
    "\n",
    "-> compund 값으로 부정 감성 또는 긍정 감성 여부를 결정 (주로 0.1이상이면 긍정 감성) _ 임계값 조정 가능"
   ]
  },
  {
   "cell_type": "code",
   "execution_count": 107,
   "id": "cfb4a9d5",
   "metadata": {},
   "outputs": [
    {
     "data": {
      "text/plain": [
       "{'neg': 0.13, 'neu': 0.743, 'pos': 0.127, 'compound': -0.7943}"
      ]
     },
     "execution_count": 107,
     "metadata": {},
     "output_type": "execute_result"
    }
   ],
   "source": [
    "analyzer = SentimentIntensityAnalyzer()\n",
    "scores = analyzer.polarity_scores(review_df['review'][0])\n",
    "scores"
   ]
  },
  {
   "cell_type": "code",
   "execution_count": 108,
   "id": "15e67de4",
   "metadata": {},
   "outputs": [
    {
     "data": {
      "text/plain": [
       "-0.7943"
      ]
     },
     "execution_count": 108,
     "metadata": {},
     "output_type": "execute_result"
    }
   ],
   "source": [
    "scores['compound']"
   ]
  },
  {
   "cell_type": "code",
   "execution_count": 109,
   "id": "161a10c1",
   "metadata": {},
   "outputs": [
    {
     "data": {
      "text/html": [
       "<div>\n",
       "<style scoped>\n",
       "    .dataframe tbody tr th:only-of-type {\n",
       "        vertical-align: middle;\n",
       "    }\n",
       "\n",
       "    .dataframe tbody tr th {\n",
       "        vertical-align: top;\n",
       "    }\n",
       "\n",
       "    .dataframe thead th {\n",
       "        text-align: right;\n",
       "    }\n",
       "</style>\n",
       "<table border=\"1\" class=\"dataframe\">\n",
       "  <thead>\n",
       "    <tr style=\"text-align: right;\">\n",
       "      <th></th>\n",
       "      <th>sentiment</th>\n",
       "      <th>vader_preds</th>\n",
       "    </tr>\n",
       "  </thead>\n",
       "  <tbody>\n",
       "    <tr>\n",
       "      <th>0</th>\n",
       "      <td>1</td>\n",
       "      <td>0</td>\n",
       "    </tr>\n",
       "    <tr>\n",
       "      <th>1</th>\n",
       "      <td>1</td>\n",
       "      <td>1</td>\n",
       "    </tr>\n",
       "    <tr>\n",
       "      <th>2</th>\n",
       "      <td>0</td>\n",
       "      <td>0</td>\n",
       "    </tr>\n",
       "    <tr>\n",
       "      <th>3</th>\n",
       "      <td>0</td>\n",
       "      <td>1</td>\n",
       "    </tr>\n",
       "    <tr>\n",
       "      <th>4</th>\n",
       "      <td>1</td>\n",
       "      <td>1</td>\n",
       "    </tr>\n",
       "    <tr>\n",
       "      <th>...</th>\n",
       "      <td>...</td>\n",
       "      <td>...</td>\n",
       "    </tr>\n",
       "    <tr>\n",
       "      <th>24995</th>\n",
       "      <td>0</td>\n",
       "      <td>1</td>\n",
       "    </tr>\n",
       "    <tr>\n",
       "      <th>24996</th>\n",
       "      <td>0</td>\n",
       "      <td>1</td>\n",
       "    </tr>\n",
       "    <tr>\n",
       "      <th>24997</th>\n",
       "      <td>0</td>\n",
       "      <td>1</td>\n",
       "    </tr>\n",
       "    <tr>\n",
       "      <th>24998</th>\n",
       "      <td>0</td>\n",
       "      <td>0</td>\n",
       "    </tr>\n",
       "    <tr>\n",
       "      <th>24999</th>\n",
       "      <td>1</td>\n",
       "      <td>0</td>\n",
       "    </tr>\n",
       "  </tbody>\n",
       "</table>\n",
       "<p>25000 rows × 2 columns</p>\n",
       "</div>"
      ],
      "text/plain": [
       "       sentiment  vader_preds\n",
       "0              1            0\n",
       "1              1            1\n",
       "2              0            0\n",
       "3              0            1\n",
       "4              1            1\n",
       "...          ...          ...\n",
       "24995          0            1\n",
       "24996          0            1\n",
       "24997          0            1\n",
       "24998          0            0\n",
       "24999          1            0\n",
       "\n",
       "[25000 rows x 2 columns]"
      ]
     },
     "execution_count": 109,
     "metadata": {},
     "output_type": "execute_result"
    }
   ],
   "source": [
    "# 감상평, 임계값을 입력하면 compound 값을 기반으로 긍정인지 부정인지 예측 하는 함수 생성\n",
    "\n",
    "def vader_polarity(review, threshold = 0.1):\n",
    "    analyzer = SentimentIntensityAnalyzer()\n",
    "    scores = analyzer.polarity_scores(review) # 감상평에 감성 점수 추출 \n",
    "    \n",
    "    # compund 값이 임계값보다 크면 긍정, 아니면 부정으로 인식\n",
    "    agg_score = scores['compound']\n",
    "    final_sentiment = 1 if agg_score >= threshold else 0\n",
    "    return final_sentiment\n",
    "\n",
    "# 레코드별로 함수 수행\n",
    "review_df['vader_preds'] = review_df['review'].apply(lambda x : vader_polarity(x, 0.1)) #임계값 \n",
    "y_target = review_df['sentiment'].values\n",
    "preds = review_df['vader_preds'].values\n",
    "\n",
    "review_df[['sentiment', 'vader_preds']]"
   ]
  },
  {
   "cell_type": "code",
   "execution_count": 110,
   "id": "4dbaac88",
   "metadata": {},
   "outputs": [
    {
     "name": "stdout",
     "output_type": "stream",
     "text": [
      "오차행렬:  \n",
      " [[ 6747  5753]\n",
      " [ 1858 10642]]\n",
      "정확도 : 0.696\n",
      "정밀도 : 0.649\n",
      "재현율 : 0.851\n",
      "F1 : 0.737\n"
     ]
    }
   ],
   "source": [
    "print( '오차행렬: ', '\\n', confusion_matrix(y_target, preds))\n",
    "print(f'정확도 : {accuracy_score(y_target, preds):.3f}')\n",
    "print(f'정밀도 : {precision_score(y_target, preds):.3f}')\n",
    "print(f'재현율 : {recall_score(y_target, preds):.3f}')\n",
    "print(f'F1 : {f1_score(y_target, preds):.3f}')"
   ]
  },
  {
   "cell_type": "markdown",
   "id": "f6f34ea7",
   "metadata": {},
   "source": [
    "[SentiWordNet 의 감성 분석 결과]\n",
    "\n",
    "오차행렬:  \n",
    " [[7668 4832]\n",
    " [3636 8864]]\n",
    "정확도 : 0.661\n",
    "정밀도 : 0.647\n",
    "재현율 : 0.709\n",
    "F1 : 0.677\n",
    "\n",
    "VADER 을 활용한 분석 결과가 더 정확"
   ]
  },
  {
   "cell_type": "code",
   "execution_count": null,
   "id": "8aa121a1",
   "metadata": {},
   "outputs": [],
   "source": []
  }
 ],
 "metadata": {
  "kernelspec": {
   "display_name": "Python 3 (ipykernel)",
   "language": "python",
   "name": "python3"
  },
  "language_info": {
   "codemirror_mode": {
    "name": "ipython",
    "version": 3
   },
   "file_extension": ".py",
   "mimetype": "text/x-python",
   "name": "python",
   "nbconvert_exporter": "python",
   "pygments_lexer": "ipython3",
   "version": "3.8.13"
  },
  "toc": {
   "base_numbering": 1,
   "nav_menu": {},
   "number_sections": false,
   "sideBar": true,
   "skip_h1_title": false,
   "title_cell": "Table of Contents",
   "title_sidebar": "Contents",
   "toc_cell": false,
   "toc_position": {
    "height": "calc(100% - 180px)",
    "left": "10px",
    "top": "150px",
    "width": "384px"
   },
   "toc_section_display": true,
   "toc_window_display": false
  }
 },
 "nbformat": 4,
 "nbformat_minor": 5
}
