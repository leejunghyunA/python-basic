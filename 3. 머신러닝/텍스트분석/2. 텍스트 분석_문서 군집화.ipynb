{
 "cells": [
  {
   "cell_type": "code",
   "execution_count": 8,
   "id": "2c93c8fa",
   "metadata": {},
   "outputs": [],
   "source": [
    "import pandas as pd\n",
    "import glob, os\n",
    "import warnings\n",
    "warnings.filterwarnings('ignore')"
   ]
  },
  {
   "cell_type": "markdown",
   "id": "dcd26f8b",
   "metadata": {},
   "source": [
    "# 문서 군집화"
   ]
  },
  {
   "cell_type": "markdown",
   "id": "af3e27f7",
   "metadata": {},
   "source": [
    "# [실습] : Opinion Review 데이터 세트를 이용한 문서 군집화 수행\n",
    "자동차, 전자제품 사이트에서 가져온 리뷰 문서"
   ]
  },
  {
   "cell_type": "markdown",
   "id": "d664a662",
   "metadata": {},
   "source": [
    "## 1 데이터 파일명과, 리뷰 데이터 가져오기"
   ]
  },
  {
   "cell_type": "code",
   "execution_count": 12,
   "id": "196f8280",
   "metadata": {},
   "outputs": [
    {
     "name": "stdout",
     "output_type": "stream",
     "text": [
      "accuracy_garmin_nuvi_255W_gps.txt.data\n",
      "accuracy_garmin_nuvi_255W_gps\n",
      "bathroom_bestwestern_hotel_sfo.txt.data\n",
      "bathroom_bestwestern_hotel_sfo\n",
      "battery-life_amazon_kindle.txt.data\n",
      "battery-life_amazon_kindle\n",
      "battery-life_ipod_nano_8gb.txt.data\n",
      "battery-life_ipod_nano_8gb\n",
      "battery-life_netbook_1005ha.txt.data\n",
      "battery-life_netbook_1005ha\n",
      "buttons_amazon_kindle.txt.data\n",
      "buttons_amazon_kindle\n",
      "comfort_honda_accord_2008.txt.data\n",
      "comfort_honda_accord_2008\n",
      "comfort_toyota_camry_2007.txt.data\n",
      "comfort_toyota_camry_2007\n",
      "directions_garmin_nuvi_255W_gps.txt.data\n",
      "directions_garmin_nuvi_255W_gps\n",
      "display_garmin_nuvi_255W_gps.txt.data\n",
      "display_garmin_nuvi_255W_gps\n",
      "eyesight-issues_amazon_kindle.txt.data\n",
      "eyesight-issues_amazon_kindle\n",
      "features_windows7.txt.data\n",
      "features_windows7\n",
      "fonts_amazon_kindle.txt.data\n",
      "fonts_amazon_kindle\n",
      "food_holiday_inn_london.txt.data\n",
      "food_holiday_inn_london\n",
      "food_swissotel_chicago.txt.data\n",
      "food_swissotel_chicago\n",
      "free_bestwestern_hotel_sfo.txt.data\n",
      "free_bestwestern_hotel_sfo\n",
      "gas_mileage_toyota_camry_2007.txt.data\n",
      "gas_mileage_toyota_camry_2007\n",
      "interior_honda_accord_2008.txt.data\n",
      "interior_honda_accord_2008\n",
      "interior_toyota_camry_2007.txt.data\n",
      "interior_toyota_camry_2007\n",
      "keyboard_netbook_1005ha.txt.data\n",
      "keyboard_netbook_1005ha\n",
      "location_bestwestern_hotel_sfo.txt.data\n",
      "location_bestwestern_hotel_sfo\n",
      "location_holiday_inn_london.txt.data\n",
      "location_holiday_inn_london\n",
      "mileage_honda_accord_2008.txt.data\n",
      "mileage_honda_accord_2008\n",
      "navigation_amazon_kindle.txt.data\n",
      "navigation_amazon_kindle\n",
      "parking_bestwestern_hotel_sfo.txt.data\n",
      "parking_bestwestern_hotel_sfo\n",
      "performance_honda_accord_2008.txt.data\n",
      "performance_honda_accord_2008\n",
      "performance_netbook_1005ha.txt.data\n",
      "performance_netbook_1005ha\n",
      "price_amazon_kindle.txt.data\n",
      "price_amazon_kindle\n",
      "price_holiday_inn_london.txt.data\n",
      "price_holiday_inn_london\n",
      "quality_toyota_camry_2007.txt.data\n",
      "quality_toyota_camry_2007\n",
      "rooms_bestwestern_hotel_sfo.txt.data\n",
      "rooms_bestwestern_hotel_sfo\n",
      "rooms_swissotel_chicago.txt.data\n",
      "rooms_swissotel_chicago\n",
      "room_holiday_inn_london.txt.data\n",
      "room_holiday_inn_london\n",
      "satellite_garmin_nuvi_255W_gps.txt.data\n",
      "satellite_garmin_nuvi_255W_gps\n",
      "screen_garmin_nuvi_255W_gps.txt.data\n",
      "screen_garmin_nuvi_255W_gps\n",
      "screen_ipod_nano_8gb.txt.data\n",
      "screen_ipod_nano_8gb\n",
      "screen_netbook_1005ha.txt.data\n",
      "screen_netbook_1005ha\n",
      "seats_honda_accord_2008.txt.data\n",
      "seats_honda_accord_2008\n",
      "service_bestwestern_hotel_sfo.txt.data\n",
      "service_bestwestern_hotel_sfo\n",
      "service_holiday_inn_london.txt.data\n",
      "service_holiday_inn_london\n",
      "service_swissotel_hotel_chicago.txt.data\n",
      "service_swissotel_hotel_chicago\n",
      "size_asus_netbook_1005ha.txt.data\n",
      "size_asus_netbook_1005ha\n",
      "sound_ipod_nano_8gb.txt.data\n",
      "sound_ipod_nano_8gb\n",
      "speed_garmin_nuvi_255W_gps.txt.data\n",
      "speed_garmin_nuvi_255W_gps\n",
      "speed_windows7.txt.data\n",
      "speed_windows7\n",
      "staff_bestwestern_hotel_sfo.txt.data\n",
      "staff_bestwestern_hotel_sfo\n",
      "staff_swissotel_chicago.txt.data\n",
      "staff_swissotel_chicago\n",
      "transmission_toyota_camry_2007.txt.data\n",
      "transmission_toyota_camry_2007\n",
      "updates_garmin_nuvi_255W_gps.txt.data\n",
      "updates_garmin_nuvi_255W_gps\n",
      "video_ipod_nano_8gb.txt.data\n",
      "video_ipod_nano_8gb\n",
      "voice_garmin_nuvi_255W_gps.txt.data\n",
      "voice_garmin_nuvi_255W_gps\n",
      "데이터 길이\n",
      "51\n",
      "51\n"
     ]
    },
    {
     "data": {
      "text/plain": [
       "\"                                                                                                                                                                                                                                                               , and is very, very accurate .\\n0                                                                                                                                                                           but for the most part, we find that the Garmin software provides accurate directions, whereever we intend to go .\\n1                                                                                                              This function is not accurate if you don't leave it in battery mode say, when you stop at the Cracker Barrell for lunch and to play one of those trangle games with the tees .\\n2                                                                                                                                                                      It provides immediate alternatives if the route from the online map program was inaccurate or blocked by an obstacle .\\n3                                                                                                                                                                    I've used other GPS units, as well as GPS built into cars   and to this day NOTHING beats the accuracy of a Garmin GPS .\\n4                                                                                                                                                                                                                            It got me from point A to point B with 100% accuracy everytime .\\n5                                                                                                                                                                                                                        It has yet to disappoint, getting me everywhere with 100% accuracy .\\n6                                                                                                                                                                                                                                   0 out of 5 stars Honest, accurate review, , PLEASE READ !\\n7                                                                                                                                                                                                                  Aside from that, every destination I've thrown at has been 100% accurate .\\n8                                                                                                                                                                                       In closing, this is a fantastic GPS with some very nice features and is very accurate in directions .\\n9                                                                                                                                                                                             Plus, I've always heard that there are  quirks  with any GPS being accurate, having POIs, etc .\\n10                                                                                                                                                                                                                                          DESTINATION TIME, , This is pretty accurate too .\\n11                                                                                                                                                                                                                                                           But, it's always very accurate .\\n12                                                                                                                                                                                                               The map is pretty accurate and the Point of interest database also is good .\\n13                                                                                                                                                                                                                                           Most of the times, this info was very accurate .\\n14                                                                                                                                                                                                          I've even used it in the  pedestrian  mode, and it's amazing how accurate it is .\\n15                                                                                                                                                                                                                      ONLY  is only accurate when an ad says,  Top sirloin steak, ONLY $1 .\\n16                                                                                                                                                                                The most accurate review stated that these machines are adjunct to a good map and signs on the interstate .\\n17                                                                                                                                                                                                                                         The directions are highly accurate down to a  T  .\\n18                                                                                                                                   Depending on what you are using it for, it is a nice adjunct to a travel trip and the directions are accurate and usually the quickest, but not always .\\n19                                                                                                                                                                                                      The screen is easy to see, the voice tells you where you are and it's very accurate .\\n20                                                                                                                                                                                                                   It was accurate to the minute when it told me when I would arrive home .\\n21                                                                                                                                                                                                            0 out of 5 stars GPS Navigator doesn't navigate accurately on a straight road .\\n22                                                                                                                                                                                          I was familiar with the streets and only used the Nuvi to get an accurate arrival time estimate .\\n23                                                                                                                                                                                                                                 but after that it is very easy and quite accurate to use .\\n24                                                                                                                                                                                                                                                  The accuracy at this point is very good .\\n25                                                                                                                                              While the 255W routing seems generally accurate and logical, on my first use I discovered that it does have some errors in its internal map .\\n26                                                                                                                                                                                                    Bottom line is I wanted a unit that is accurate and had reliable satellite connection .\\n27                                                                                                                                                                                                                            I've used it around town and find it to be extremely accurate .\\n28                                                                                                                                                                          I found the maps to be inaccurate at first, but after I updated them from Garmin's website everything is golden .\\n29                                                                                                                                                                                                                                 A lot of my friends' addresses are inaccurate by any GPS .\\n30                                                                                                                                                                                        It loads quickly, have pretty accurate directions, and can recalculate quickly when I miss a turn .\\n31                                                                                                                            Because the accuracy is good to the street address level, it may not be able to guide you to the exact location if your destination is inside a shopping mall .\\n32                                                                                                                                                                                            I updated to the latest 2010 map soon after I received the unit, so the map is accurate to me .\\n33                                                                                                                                                                                                                   I was blown away at the accuracy and routing capability this thing had .\\n34   I used it the day I bought it,   and then this morning, and as soon as it comes on it is  ready to navigate  The only downfall of this product, and the only reason I did not give it 5 stars is the fact that the speed limit it displays for the road you are on isn't 100% accurate .\\n35                                                                                                                                                                                                        If your looking for a nice, accurate GPS for not so much money, got with this one .\\n36                                                                                                                                                                                                                 0 out of 5 stars Inexpensive, accurate, plenty of features, August 6, 2009\\n37                                                                                                     The only glitch I have found so far is that the speed limits are not 100% accurate, although the GPS, amazingly, is able to very accurately tell you how fast your vehicle is moving .\\n38                                                                I was a little disappointed in the inaccuracy of the posted speed limit, as I'm guilty of not paying close enough attention to those signs, especially w  interstate speed traps that are constantly changing up and down .\\n39                                                                                                                                                                                                    The closest one that gives the most accurate route that I usually take is the Navigon .\\n40                                                                                                                          After 2 weeks, it has yet to make a mistake, and is always completely accurate ,  even to the point of telling me which side of the street my destination is on .\\n41                                                                                                                                                                                                    It has worked well for local driving giving accurate directions for roads and streets .\\n42                                                                                                                                                                                                  The estimated time to arrival does not seem to calculate the travelling time accurately .\\n43                                                                                                                          Accuracy is as good as any other unit, they all sometimes tell you you have arrived when you haven't, or continue to tell you to turn when you're already there .\\n44                                                                                                                                                                                                                                                       Accuracy is determined by the maps .\\n45                                                                                                                                                                                                                               Less traveled rural roads will not be accurate on any unit .\\n46                                                                                                                                                                                                                                                           Accuracy is within a few yards .\\n47                                                                                                                          What the 255w does best is find a street address, business, point of interest, hospital or airport and give you turn, by, turn directions with amazing accuracy .\\n48                                                                                                                                                                                    The Garmin is loaded with very accurate maps that generally know the roads in even the remotest areas .\\n49                                                        I'm really glad I bought it though, and like the easy to read graphics, the voice used to tell you the name of the street you are to turn on, the uncannily accurate estimates of mileage and time of arrival at your destination .\\n50                                                                                                                                                       My new Garmin 255w had very Easy Set Up, Accurate Directions to locations, User Friendly Unit to anyone in my vehicle who tried it .\\n51                                                                                                                                 I had a GPS 10, years ago when I owned a boat that was difficult to use and with very poor accuracy so I had assumed that the road GPS wasn't any better .\\n52                                                                                                                                                                                            Practiced visiting places I already knew to see how accurate the directions and maps would be .\\n53                                                                                                                                                                                                                            Easy to use, excellent accuracy, nice and intuitive interface .\\n54                                                                                                                                                                                                                            The directions provided have all been quite accurate thus far .\\n55                                                                                                                                                                                                             ,  Very Accurate but with one small glitch I found ,  I'll explain in the CONS\\n56                                                                                                                                                                                                                      This is a great GPS, it is so easy to use and it is always accurate .\\n57                                                                                                                                        Very easy to operate and pretty accurate as well, only led me astray once and that was in northern Maine where roads are few and paved ones fewer .\\n58                                                                                                                                                                                                                                      Easy to use and amazed at how accurate this item is .\\n59                                                                                                                                                                                                                                        To date it's been a very easy to use and accurate .\\n60                                                                                                                                                                                                                                         Mounted really easily and has been very accurate .\\n61                                                                                                                                                                                                                                                              seems to be rather accurate .\\n62                                                                                                                                                                                                        It was accurate on determing original directions and recalculating when necessary .\\n63                                                                                                                                                                                                                                                          Highly accurate, POIs are great .\\n64                                                                                                                               I can't believe how accurate and detailed the information estimated time of arrival,speed limits along the way,and detailed map of my route, to name a few .\\n65                                                                                                                                                                                                                Speed of calculation, accuracy, and simplicity of operation are top notch .\""
      ]
     },
     "execution_count": 12,
     "metadata": {},
     "output_type": "execute_result"
    }
   ],
   "source": [
    "# pd.set_option('display.max_colwidth', 700)\n",
    "\n",
    "# 데이터 파일 위치\n",
    "path = r'C:\\cakd7\\git\\class\\study\\m8_머신러닝 응용\\OpinosisDataset1.0\\topics'\n",
    "\n",
    "# 지정 위치에 있는 모든 하위 .data 파일들의 파일명을 리스트로 취합\n",
    "all_files = glob.glob(os.path.join(path, \"*.data\"))\n",
    "filename_list = []\n",
    "opinion_text = []\n",
    "\n",
    "for file_ in all_files:\n",
    "    # 개별 파일을 읽어서 df로 생성\n",
    "    df = pd.read_table(file_, index_col = None, header = 0, encoding = 'latin1')\n",
    "    \n",
    "    # 마지막 파일명을 가공\n",
    "    filename_ = file_.split('\\\\')[-1] # 경로 \\\\ 표시를 기준으로 마지막 파일명만 추출 \n",
    "    filename = filename_.split('.')[0] # . data 제거\n",
    "    \n",
    "    # 파일명 리스트와 파일 내용 리스트에 파일명과 파일 내용 추가\n",
    "    filename_list.append(filename)\n",
    "    opinion_text.append(df.to_string())\n",
    "\n",
    "    print(filename_)\n",
    "    print(filename)\n",
    "    \n",
    "print('데이터 길이')\n",
    "print(len(filename_list))\n",
    "print(len(opinion_text))\n",
    "filename_list[0]\n",
    "opinion_text[0]"
   ]
  },
  {
   "cell_type": "code",
   "execution_count": 14,
   "id": "470cc7e6",
   "metadata": {},
   "outputs": [
    {
     "data": {
      "text/html": [
       "<div>\n",
       "<style scoped>\n",
       "    .dataframe tbody tr th:only-of-type {\n",
       "        vertical-align: middle;\n",
       "    }\n",
       "\n",
       "    .dataframe tbody tr th {\n",
       "        vertical-align: top;\n",
       "    }\n",
       "\n",
       "    .dataframe thead th {\n",
       "        text-align: right;\n",
       "    }\n",
       "</style>\n",
       "<table border=\"1\" class=\"dataframe\">\n",
       "  <thead>\n",
       "    <tr style=\"text-align: right;\">\n",
       "      <th></th>\n",
       "      <th>filename</th>\n",
       "      <th>opinion_text</th>\n",
       "    </tr>\n",
       "  </thead>\n",
       "  <tbody>\n",
       "    <tr>\n",
       "      <th>0</th>\n",
       "      <td>accuracy_garmin_nuvi_255W_gps</td>\n",
       "      <td>...</td>\n",
       "    </tr>\n",
       "    <tr>\n",
       "      <th>1</th>\n",
       "      <td>bathroom_bestwestern_hotel_sfo</td>\n",
       "      <td>...</td>\n",
       "    </tr>\n",
       "    <tr>\n",
       "      <th>2</th>\n",
       "      <td>battery-life_amazon_kindle</td>\n",
       "      <td>...</td>\n",
       "    </tr>\n",
       "    <tr>\n",
       "      <th>3</th>\n",
       "      <td>battery-life_ipod_nano_8gb</td>\n",
       "      <td>...</td>\n",
       "    </tr>\n",
       "    <tr>\n",
       "      <th>4</th>\n",
       "      <td>battery-life_netbook_1005ha</td>\n",
       "      <td>...</td>\n",
       "    </tr>\n",
       "  </tbody>\n",
       "</table>\n",
       "</div>"
      ],
      "text/plain": [
       "                         filename  \\\n",
       "0   accuracy_garmin_nuvi_255W_gps   \n",
       "1  bathroom_bestwestern_hotel_sfo   \n",
       "2      battery-life_amazon_kindle   \n",
       "3      battery-life_ipod_nano_8gb   \n",
       "4     battery-life_netbook_1005ha   \n",
       "\n",
       "                                        opinion_text  \n",
       "0                                                ...  \n",
       "1                                                ...  \n",
       "2                                                ...  \n",
       "3                                                ...  \n",
       "4                                                ...  "
      ]
     },
     "execution_count": 14,
     "metadata": {},
     "output_type": "execute_result"
    }
   ],
   "source": [
    "# 파일명 리스트와 파일 내용 리스트를 df로 생성\n",
    "document_df = pd.DataFrame({'filename' : filename_list, 'opinion_text' : opinion_text})\n",
    "document_df.head()"
   ]
  },
  {
   "cell_type": "code",
   "execution_count": 15,
   "id": "ae1d0907",
   "metadata": {},
   "outputs": [
    {
     "data": {
      "text/plain": [
       "\"                                                                                                                                                                                                                                                               , and is very, very accurate .\\n0                                                                                                                                                                           but for the most part, we find that the Garmin software provides accurate directions, whereever we intend to go .\\n1                                                                                                              This function is not accurate if you don't leave it in battery mode say, when you stop at the Cracker Barrell for lunch and to play one of those trangle games with the tees .\\n2                                                                                                                                                                      It provides immediate alternatives if the route from the online map program was inaccurate or blocked by an obstacle .\\n3                                                                                                                                                                    I've used other GPS units, as well as GPS built into cars   and to this day NOTHING beats the accuracy of a Garmin GPS .\\n4                                                                                                                                                                                                                            It got me from point A to point B with 100% accuracy everytime .\\n5                                                                                                                                                                                                                        It has yet to disappoint, getting me everywhere with 100% accuracy .\\n6                                                                                                                                                                                                                                   0 out of 5 stars Honest, accurate review, , PLEASE READ !\\n7                                                                                                                                                                                                                  Aside from that, every destination I've thrown at has been 100% accurate .\\n8                                                                                                                                                                                       In closing, this is a fantastic GPS with some very nice features and is very accurate in directions .\\n9                                                                                                                                                                                             Plus, I've always heard that there are  quirks  with any GPS being accurate, having POIs, etc .\\n10                                                                                                                                                                                                                                          DESTINATION TIME, , This is pretty accurate too .\\n11                                                                                                                                                                                                                                                           But, it's always very accurate .\\n12                                                                                                                                                                                                               The map is pretty accurate and the Point of interest database also is good .\\n13                                                                                                                                                                                                                                           Most of the times, this info was very accurate .\\n14                                                                                                                                                                                                          I've even used it in the  pedestrian  mode, and it's amazing how accurate it is .\\n15                                                                                                                                                                                                                      ONLY  is only accurate when an ad says,  Top sirloin steak, ONLY $1 .\\n16                                                                                                                                                                                The most accurate review stated that these machines are adjunct to a good map and signs on the interstate .\\n17                                                                                                                                                                                                                                         The directions are highly accurate down to a  T  .\\n18                                                                                                                                   Depending on what you are using it for, it is a nice adjunct to a travel trip and the directions are accurate and usually the quickest, but not always .\\n19                                                                                                                                                                                                      The screen is easy to see, the voice tells you where you are and it's very accurate .\\n20                                                                                                                                                                                                                   It was accurate to the minute when it told me when I would arrive home .\\n21                                                                                                                                                                                                            0 out of 5 stars GPS Navigator doesn't navigate accurately on a straight road .\\n22                                                                                                                                                                                          I was familiar with the streets and only used the Nuvi to get an accurate arrival time estimate .\\n23                                                                                                                                                                                                                                 but after that it is very easy and quite accurate to use .\\n24                                                                                                                                                                                                                                                  The accuracy at this point is very good .\\n25                                                                                                                                              While the 255W routing seems generally accurate and logical, on my first use I discovered that it does have some errors in its internal map .\\n26                                                                                                                                                                                                    Bottom line is I wanted a unit that is accurate and had reliable satellite connection .\\n27                                                                                                                                                                                                                            I've used it around town and find it to be extremely accurate .\\n28                                                                                                                                                                          I found the maps to be inaccurate at first, but after I updated them from Garmin's website everything is golden .\\n29                                                                                                                                                                                                                                 A lot of my friends' addresses are inaccurate by any GPS .\\n30                                                                                                                                                                                        It loads quickly, have pretty accurate directions, and can recalculate quickly when I miss a turn .\\n31                                                                                                                            Because the accuracy is good to the street address level, it may not be able to guide you to the exact location if your destination is inside a shopping mall .\\n32                                                                                                                                                                                            I updated to the latest 2010 map soon after I received the unit, so the map is accurate to me .\\n33                                                                                                                                                                                                                   I was blown away at the accuracy and routing capability this thing had .\\n34   I used it the day I bought it,   and then this morning, and as soon as it comes on it is  ready to navigate  The only downfall of this product, and the only reason I did not give it 5 stars is the fact that the speed limit it displays for the road you are on isn't 100% accurate .\\n35                                                                                                                                                                                                        If your looking for a nice, accurate GPS for not so much money, got with this one .\\n36                                                                                                                                                                                                                 0 out of 5 stars Inexpensive, accurate, plenty of features, August 6, 2009\\n37                                                                                                     The only glitch I have found so far is that the speed limits are not 100% accurate, although the GPS, amazingly, is able to very accurately tell you how fast your vehicle is moving .\\n38                                                                I was a little disappointed in the inaccuracy of the posted speed limit, as I'm guilty of not paying close enough attention to those signs, especially w  interstate speed traps that are constantly changing up and down .\\n39                                                                                                                                                                                                    The closest one that gives the most accurate route that I usually take is the Navigon .\\n40                                                                                                                          After 2 weeks, it has yet to make a mistake, and is always completely accurate ,  even to the point of telling me which side of the street my destination is on .\\n41                                                                                                                                                                                                    It has worked well for local driving giving accurate directions for roads and streets .\\n42                                                                                                                                                                                                  The estimated time to arrival does not seem to calculate the travelling time accurately .\\n43                                                                                                                          Accuracy is as good as any other unit, they all sometimes tell you you have arrived when you haven't, or continue to tell you to turn when you're already there .\\n44                                                                                                                                                                                                                                                       Accuracy is determined by the maps .\\n45                                                                                                                                                                                                                               Less traveled rural roads will not be accurate on any unit .\\n46                                                                                                                                                                                                                                                           Accuracy is within a few yards .\\n47                                                                                                                          What the 255w does best is find a street address, business, point of interest, hospital or airport and give you turn, by, turn directions with amazing accuracy .\\n48                                                                                                                                                                                    The Garmin is loaded with very accurate maps that generally know the roads in even the remotest areas .\\n49                                                        I'm really glad I bought it though, and like the easy to read graphics, the voice used to tell you the name of the street you are to turn on, the uncannily accurate estimates of mileage and time of arrival at your destination .\\n50                                                                                                                                                       My new Garmin 255w had very Easy Set Up, Accurate Directions to locations, User Friendly Unit to anyone in my vehicle who tried it .\\n51                                                                                                                                 I had a GPS 10, years ago when I owned a boat that was difficult to use and with very poor accuracy so I had assumed that the road GPS wasn't any better .\\n52                                                                                                                                                                                            Practiced visiting places I already knew to see how accurate the directions and maps would be .\\n53                                                                                                                                                                                                                            Easy to use, excellent accuracy, nice and intuitive interface .\\n54                                                                                                                                                                                                                            The directions provided have all been quite accurate thus far .\\n55                                                                                                                                                                                                             ,  Very Accurate but with one small glitch I found ,  I'll explain in the CONS\\n56                                                                                                                                                                                                                      This is a great GPS, it is so easy to use and it is always accurate .\\n57                                                                                                                                        Very easy to operate and pretty accurate as well, only led me astray once and that was in northern Maine where roads are few and paved ones fewer .\\n58                                                                                                                                                                                                                                      Easy to use and amazed at how accurate this item is .\\n59                                                                                                                                                                                                                                        To date it's been a very easy to use and accurate .\\n60                                                                                                                                                                                                                                         Mounted really easily and has been very accurate .\\n61                                                                                                                                                                                                                                                              seems to be rather accurate .\\n62                                                                                                                                                                                                        It was accurate on determing original directions and recalculating when necessary .\\n63                                                                                                                                                                                                                                                          Highly accurate, POIs are great .\\n64                                                                                                                               I can't believe how accurate and detailed the information estimated time of arrival,speed limits along the way,and detailed map of my route, to name a few .\\n65                                                                                                                                                                                                                Speed of calculation, accuracy, and simplicity of operation are top notch .\""
      ]
     },
     "execution_count": 15,
     "metadata": {},
     "output_type": "execute_result"
    }
   ],
   "source": [
    "document_df['opinion_text'][0]"
   ]
  },
  {
   "cell_type": "markdown",
   "id": "68008d73",
   "metadata": {},
   "source": [
    "## 2. 리뷰 문서 피처 벡터화"
   ]
  },
  {
   "cell_type": "markdown",
   "id": "5b1c2e1f",
   "metadata": {},
   "source": [
    "TfidfVectorizer 는 Lemmatization 같은 어근 변환 지원을 안함\n",
    "\n",
    "-> tokenizer 인자에 커스텀 어근 변환 함수를 적용해 어근 변환 수행"
   ]
  },
  {
   "cell_type": "code",
   "execution_count": 19,
   "id": "0a39e265",
   "metadata": {},
   "outputs": [],
   "source": [
    "# LemNormalize 함수 생성"
   ]
  },
  {
   "cell_type": "code",
   "execution_count": 22,
   "id": "dcf574a6",
   "metadata": {},
   "outputs": [],
   "source": [
    "from nltk.stem import WordNetLemmatizer\n",
    "import nltk\n",
    "import string\n",
    "\n",
    "# 제거할 부분 문장부호 딕셔너리로 저장\n",
    "# ord : 하나의 문자를 인자로 받고 해당 문자에 해당하는 유니코드 정수화\n",
    "# string.punctuation : 따옴표, 마침표 물음표 등의 문장 부호\n",
    "remove_punct_dict = dict((ord(punct), None) for punct in string.punctuation) # 문장부호에있는 부호의 유니코드 정수화 값을 None값으로 저장\n",
    "print(remove_punct_dict)\n",
    "\n",
    "# 표제어 추출: 어간 추출과 달리 단어의 형태가 적절히 보존되는 양상을 보이는 특징\n",
    "lemmar = WordNetLemmatizer()\n",
    "\n",
    "# 입력으로 들어온 token단어들에 대해서 lemmatization 어근 변환. \n",
    "def LemTokens(tokens):\n",
    "    return [lemmar.lemmatize(token) for token in tokens]\n",
    "\n",
    "# 입력으로 문장을 받아서 stop words 제거-> lower : 소문자 변환 -> nltk.word_tokenize : 단어 토큰화 -> lemmatization 어근 변환. \n",
    "def LemNormalize(text):\n",
    "    return LemTokens(nltk.word_tokenize(text.lower().translate(remove_punct_dict))) # 문장부호 제거"
   ]
  },
  {
   "cell_type": "code",
   "execution_count": 25,
   "id": "aa348d96",
   "metadata": {},
   "outputs": [],
   "source": [
    "# TF-IDF 형태로 피처 벡터화\n",
    "from sklearn.feature_extraction.text import TfidfVectorizer\n",
    "\n",
    "# 객체생성 (토큰화 방법 : LemNormalize 함수 사용)\n",
    "tfidf_vect = TfidfVectorizer(tokenizer = LemNormalize, stop_words = 'english', ngram_range = (1, 2), min_df = 0.05, max_df = 0.85) "
   ]
  },
  {
   "cell_type": "code",
   "execution_count": 26,
   "id": "5ffcbaa0",
   "metadata": {
    "scrolled": true
   },
   "outputs": [
    {
     "data": {
      "text/plain": [
       "<51x4611 sparse matrix of type '<class 'numpy.float64'>'\n",
       "\twith 30124 stored elements in Compressed Sparse Row format>"
      ]
     },
     "execution_count": 26,
     "metadata": {},
     "output_type": "execute_result"
    }
   ],
   "source": [
    "# 값 대입 (문서를 피처 벡터화)\n",
    "feature_vect = tfidf_vect.fit_transform(document_df['opinion_text'])\n",
    "feature_vect"
   ]
  },
  {
   "cell_type": "code",
   "execution_count": 38,
   "id": "4869a9cf",
   "metadata": {},
   "outputs": [
    {
     "data": {
      "text/plain": [
       "<5x7372 sparse matrix of type '<class 'numpy.float64'>'\n",
       "\twith 8161 stored elements in Compressed Sparse Row format>"
      ]
     },
     "execution_count": 38,
     "metadata": {},
     "output_type": "execute_result"
    }
   ],
   "source": [
    "tfidf_vect.fit_transform(document_df['opinion_text'][:5])"
   ]
  },
  {
   "cell_type": "markdown",
   "id": "c9a6c5ee",
   "metadata": {},
   "source": [
    "## 3. 군집화 수행"
   ]
  },
  {
   "cell_type": "markdown",
   "id": "e647c912",
   "metadata": {},
   "source": [
    "### 1) 군집 개수 5개로 수행"
   ]
  },
  {
   "cell_type": "code",
   "execution_count": 28,
   "id": "b70c2c18",
   "metadata": {
    "scrolled": true
   },
   "outputs": [
    {
     "name": "stdout",
     "output_type": "stream",
     "text": [
      "[0 1 3 3 3 4 2 2 0 0 4 4 4 1 1 1 2 2 2 4 1 1 2 4 1 2 3 4 1 2 1 1 1 0 0 4 4\n",
      " 2 1 1 1 4 3 0 4 1 1 0 0 3 4]\n"
     ]
    },
    {
     "data": {
      "text/plain": [
       "array([[0.00857792, 0.        , 0.        , ..., 0.01710556, 0.        ,\n",
       "        0.        ],\n",
       "       [0.        , 0.00099499, 0.00174637, ..., 0.        , 0.00183397,\n",
       "        0.00144581],\n",
       "       [0.        , 0.00102835, 0.        , ..., 0.        , 0.        ,\n",
       "        0.        ],\n",
       "       [0.01282853, 0.        , 0.        , ..., 0.        , 0.        ,\n",
       "        0.        ],\n",
       "       [0.00881133, 0.        , 0.        , ..., 0.00331061, 0.        ,\n",
       "        0.        ]])"
      ]
     },
     "execution_count": 28,
     "metadata": {},
     "output_type": "execute_result"
    }
   ],
   "source": [
    "## 3. 군집화 수행\n",
    "\n",
    "from sklearn.cluster import KMeans\n",
    "\n",
    "# 5개의 집합으로 군집화 수행. \n",
    "km_cluster = KMeans(n_clusters=5, max_iter = 10000, random_state=0)\n",
    "km_cluster.fit(feature_vect)\n",
    "cluster_label = km_cluster.labels_\n",
    "cluster_centers = km_cluster.cluster_centers_\n",
    "\n",
    "print(cluster_label)\n",
    "cluster_centers"
   ]
  },
  {
   "cell_type": "code",
   "execution_count": 29,
   "id": "32765cb6",
   "metadata": {},
   "outputs": [
    {
     "data": {
      "text/html": [
       "<div>\n",
       "<style scoped>\n",
       "    .dataframe tbody tr th:only-of-type {\n",
       "        vertical-align: middle;\n",
       "    }\n",
       "\n",
       "    .dataframe tbody tr th {\n",
       "        vertical-align: top;\n",
       "    }\n",
       "\n",
       "    .dataframe thead th {\n",
       "        text-align: right;\n",
       "    }\n",
       "</style>\n",
       "<table border=\"1\" class=\"dataframe\">\n",
       "  <thead>\n",
       "    <tr style=\"text-align: right;\">\n",
       "      <th></th>\n",
       "      <th>filename</th>\n",
       "      <th>opinion_text</th>\n",
       "      <th>cluster_label</th>\n",
       "    </tr>\n",
       "  </thead>\n",
       "  <tbody>\n",
       "    <tr>\n",
       "      <th>0</th>\n",
       "      <td>accuracy_garmin_nuvi_255W_gps</td>\n",
       "      <td>...</td>\n",
       "      <td>0</td>\n",
       "    </tr>\n",
       "    <tr>\n",
       "      <th>1</th>\n",
       "      <td>bathroom_bestwestern_hotel_sfo</td>\n",
       "      <td>...</td>\n",
       "      <td>1</td>\n",
       "    </tr>\n",
       "    <tr>\n",
       "      <th>2</th>\n",
       "      <td>battery-life_amazon_kindle</td>\n",
       "      <td>...</td>\n",
       "      <td>3</td>\n",
       "    </tr>\n",
       "    <tr>\n",
       "      <th>3</th>\n",
       "      <td>battery-life_ipod_nano_8gb</td>\n",
       "      <td>...</td>\n",
       "      <td>3</td>\n",
       "    </tr>\n",
       "    <tr>\n",
       "      <th>4</th>\n",
       "      <td>battery-life_netbook_1005ha</td>\n",
       "      <td>...</td>\n",
       "      <td>3</td>\n",
       "    </tr>\n",
       "  </tbody>\n",
       "</table>\n",
       "</div>"
      ],
      "text/plain": [
       "                         filename  \\\n",
       "0   accuracy_garmin_nuvi_255W_gps   \n",
       "1  bathroom_bestwestern_hotel_sfo   \n",
       "2      battery-life_amazon_kindle   \n",
       "3      battery-life_ipod_nano_8gb   \n",
       "4     battery-life_netbook_1005ha   \n",
       "\n",
       "                                        opinion_text  cluster_label  \n",
       "0                                                ...              0  \n",
       "1                                                ...              1  \n",
       "2                                                ...              3  \n",
       "3                                                ...              3  \n",
       "4                                                ...              3  "
      ]
     },
     "execution_count": 29,
     "metadata": {},
     "output_type": "execute_result"
    }
   ],
   "source": [
    "# 군집화 값 컬럼 생성\n",
    "document_df['cluster_label'] = cluster_label\n",
    "document_df.head()"
   ]
  },
  {
   "cell_type": "code",
   "execution_count": 32,
   "id": "05a6516f",
   "metadata": {},
   "outputs": [
    {
     "data": {
      "text/plain": [
       "1    16\n",
       "4    12\n",
       "2     9\n",
       "0     8\n",
       "3     6\n",
       "Name: cluster_label, dtype: int64"
      ]
     },
     "execution_count": 32,
     "metadata": {},
     "output_type": "execute_result"
    }
   ],
   "source": [
    "document_df['cluster_label'].value_counts()"
   ]
  },
  {
   "cell_type": "markdown",
   "id": "710f941d",
   "metadata": {},
   "source": [
    "### 1-2) 군집화 결과 확인"
   ]
  },
  {
   "cell_type": "code",
   "execution_count": 39,
   "id": "ac0f907b",
   "metadata": {
    "scrolled": false
   },
   "outputs": [
    {
     "name": "stdout",
     "output_type": "stream",
     "text": [
      "Cluster # 0의 데이터\n",
      "                           filename  \\\n",
      "0     accuracy_garmin_nuvi_255W_gps   \n",
      "8   directions_garmin_nuvi_255W_gps   \n",
      "9      display_garmin_nuvi_255W_gps   \n",
      "33   satellite_garmin_nuvi_255W_gps   \n",
      "34      screen_garmin_nuvi_255W_gps   \n",
      "43       speed_garmin_nuvi_255W_gps   \n",
      "47   transmission_toyota_camry_2007   \n",
      "48     updates_garmin_nuvi_255W_gps   \n",
      "\n",
      "                                         opinion_text  cluster_label  \n",
      "0                                                 ...              0  \n",
      "8                                                 ...              0  \n",
      "9                                                 ...              0  \n",
      "33                                                ...              0  \n",
      "34                                                ...              0  \n",
      "43                                                ...              0  \n",
      "47                                                ...              0  \n",
      "48                                                ...              0   \n",
      "\n",
      "Cluster # 1의 데이터\n",
      "                          filename  \\\n",
      "1   bathroom_bestwestern_hotel_sfo   \n",
      "13         food_holiday_inn_london   \n",
      "14          food_swissotel_chicago   \n",
      "15      free_bestwestern_hotel_sfo   \n",
      "20  location_bestwestern_hotel_sfo   \n",
      "21     location_holiday_inn_london   \n",
      "24   parking_bestwestern_hotel_sfo   \n",
      "28        price_holiday_inn_london   \n",
      "32         room_holiday_inn_london   \n",
      "30     rooms_bestwestern_hotel_sfo   \n",
      "\n",
      "                                         opinion_text  cluster_label  \n",
      "1                                                 ...              1  \n",
      "13                                                ...              1  \n",
      "14                                                ...              1  \n",
      "15                                                ...              1  \n",
      "20                                                ...              1  \n",
      "21                                                ...              1  \n",
      "24                                                ...              1  \n",
      "28                                                ...              1  \n",
      "32                                                ...              1  \n",
      "30                                                ...              1   \n",
      "\n",
      "Cluster # 2의 데이터\n",
      "                         filename  \\\n",
      "6       comfort_honda_accord_2008   \n",
      "7       comfort_toyota_camry_2007   \n",
      "16  gas_mileage_toyota_camry_2007   \n",
      "17     interior_honda_accord_2008   \n",
      "18     interior_toyota_camry_2007   \n",
      "22      mileage_honda_accord_2008   \n",
      "25  performance_honda_accord_2008   \n",
      "29      quality_toyota_camry_2007   \n",
      "37        seats_honda_accord_2008   \n",
      "\n",
      "                                         opinion_text  cluster_label  \n",
      "6                                                 ...              2  \n",
      "7                                                 ...              2  \n",
      "16                                                ...              2  \n",
      "17                                                ...              2  \n",
      "18                                                ...              2  \n",
      "22                                                ...              2  \n",
      "25                                                ...              2  \n",
      "29                                                ...              2  \n",
      "37                                                ...              2   \n",
      "\n",
      "Cluster # 3의 데이터\n",
      "                       filename  \\\n",
      "2    battery-life_amazon_kindle   \n",
      "3    battery-life_ipod_nano_8gb   \n",
      "4   battery-life_netbook_1005ha   \n",
      "26   performance_netbook_1005ha   \n",
      "42          sound_ipod_nano_8gb   \n",
      "49          video_ipod_nano_8gb   \n",
      "\n",
      "                                         opinion_text  cluster_label  \n",
      "2                                                 ...              3  \n",
      "3                                                 ...              3  \n",
      "4                                                 ...              3  \n",
      "26                                                ...              3  \n",
      "42      headphone jack i got a clear case for it a...              3  \n",
      "49                                                ...              3   \n",
      "\n",
      "Cluster # 4의 데이터\n",
      "                         filename  \\\n",
      "5           buttons_amazon_kindle   \n",
      "10  eyesight-issues_amazon_kindle   \n",
      "11              features_windows7   \n",
      "12            fonts_amazon_kindle   \n",
      "19        keyboard_netbook_1005ha   \n",
      "23       navigation_amazon_kindle   \n",
      "27            price_amazon_kindle   \n",
      "35           screen_ipod_nano_8gb   \n",
      "36          screen_netbook_1005ha   \n",
      "41       size_asus_netbook_1005ha   \n",
      "\n",
      "                                         opinion_text  cluster_label  \n",
      "5                                                 ...              4  \n",
      "10                                                ...              4  \n",
      "11                                                ...              4  \n",
      "12                                                ...              4  \n",
      "19                                                ...              4  \n",
      "23                                                ...              4  \n",
      "27                                                ...              4  \n",
      "35                                                ...              4  \n",
      "36                                                ...              4  \n",
      "41                                                ...              4   \n",
      "\n"
     ]
    }
   ],
   "source": [
    "for label in range(len(document_df['cluster_label'].value_counts())):\n",
    "    df = document_df[document_df['cluster_label']==label].sort_values(by = 'filename')\n",
    "    print(f'Cluster # {label}의 데이터')\n",
    "    print(df.head(10), '\\n')"
   ]
  },
  {
   "cell_type": "markdown",
   "id": "187d4e48",
   "metadata": {},
   "source": [
    "- 전자기기와 호텔, 자동차 리뷰가 조금씩 섞여있음 (군집 개수 조절 필요)"
   ]
  },
  {
   "cell_type": "markdown",
   "id": "a9ae7bec",
   "metadata": {},
   "source": [
    "### 2) 재군집"
   ]
  },
  {
   "cell_type": "code",
   "execution_count": 55,
   "id": "4100d460",
   "metadata": {},
   "outputs": [
    {
     "data": {
      "text/plain": [
       "0    25\n",
       "1    16\n",
       "2    10\n",
       "Name: cluster_label, dtype: int64"
      ]
     },
     "execution_count": 55,
     "metadata": {},
     "output_type": "execute_result"
    }
   ],
   "source": [
    "from sklearn.cluster import KMeans\n",
    "\n",
    "# 3개의 집합으로 군집화\n",
    "km_cluster = KMeans(n_clusters = 3, max_iter = 10000, random_state=0)\n",
    "km_cluster.fit(feature_vect)\n",
    "cluster_label = km_cluster.labels_\n",
    "\n",
    "# 군집라벨 컬럼 다시 생성\n",
    "document_df['cluster_label'] = cluster_label\n",
    "document_df['cluster_label'].value_counts()"
   ]
  },
  {
   "cell_type": "markdown",
   "id": "14d63f56",
   "metadata": {},
   "source": [
    "### 2-2) 재군집 결과 확인"
   ]
  },
  {
   "cell_type": "code",
   "execution_count": 56,
   "id": "45792b30",
   "metadata": {
    "scrolled": false
   },
   "outputs": [
    {
     "name": "stdout",
     "output_type": "stream",
     "text": [
      "Cluster # 0의 데이터\n"
     ]
    },
    {
     "data": {
      "text/html": [
       "<div>\n",
       "<style scoped>\n",
       "    .dataframe tbody tr th:only-of-type {\n",
       "        vertical-align: middle;\n",
       "    }\n",
       "\n",
       "    .dataframe tbody tr th {\n",
       "        vertical-align: top;\n",
       "    }\n",
       "\n",
       "    .dataframe thead th {\n",
       "        text-align: right;\n",
       "    }\n",
       "</style>\n",
       "<table border=\"1\" class=\"dataframe\">\n",
       "  <thead>\n",
       "    <tr style=\"text-align: right;\">\n",
       "      <th></th>\n",
       "      <th>filename</th>\n",
       "      <th>opinion_text</th>\n",
       "      <th>cluster_label</th>\n",
       "    </tr>\n",
       "  </thead>\n",
       "  <tbody>\n",
       "    <tr>\n",
       "      <th>0</th>\n",
       "      <td>accuracy_garmin_nuvi_255W_gps</td>\n",
       "      <td>...</td>\n",
       "      <td>0</td>\n",
       "    </tr>\n",
       "    <tr>\n",
       "      <th>2</th>\n",
       "      <td>battery-life_amazon_kindle</td>\n",
       "      <td>...</td>\n",
       "      <td>0</td>\n",
       "    </tr>\n",
       "    <tr>\n",
       "      <th>3</th>\n",
       "      <td>battery-life_ipod_nano_8gb</td>\n",
       "      <td>...</td>\n",
       "      <td>0</td>\n",
       "    </tr>\n",
       "    <tr>\n",
       "      <th>4</th>\n",
       "      <td>battery-life_netbook_1005ha</td>\n",
       "      <td>...</td>\n",
       "      <td>0</td>\n",
       "    </tr>\n",
       "    <tr>\n",
       "      <th>5</th>\n",
       "      <td>buttons_amazon_kindle</td>\n",
       "      <td>...</td>\n",
       "      <td>0</td>\n",
       "    </tr>\n",
       "    <tr>\n",
       "      <th>8</th>\n",
       "      <td>directions_garmin_nuvi_255W_gps</td>\n",
       "      <td>...</td>\n",
       "      <td>0</td>\n",
       "    </tr>\n",
       "    <tr>\n",
       "      <th>9</th>\n",
       "      <td>display_garmin_nuvi_255W_gps</td>\n",
       "      <td>...</td>\n",
       "      <td>0</td>\n",
       "    </tr>\n",
       "    <tr>\n",
       "      <th>10</th>\n",
       "      <td>eyesight-issues_amazon_kindle</td>\n",
       "      <td>...</td>\n",
       "      <td>0</td>\n",
       "    </tr>\n",
       "    <tr>\n",
       "      <th>11</th>\n",
       "      <td>features_windows7</td>\n",
       "      <td>...</td>\n",
       "      <td>0</td>\n",
       "    </tr>\n",
       "    <tr>\n",
       "      <th>12</th>\n",
       "      <td>fonts_amazon_kindle</td>\n",
       "      <td>...</td>\n",
       "      <td>0</td>\n",
       "    </tr>\n",
       "    <tr>\n",
       "      <th>19</th>\n",
       "      <td>keyboard_netbook_1005ha</td>\n",
       "      <td>...</td>\n",
       "      <td>0</td>\n",
       "    </tr>\n",
       "    <tr>\n",
       "      <th>23</th>\n",
       "      <td>navigation_amazon_kindle</td>\n",
       "      <td>...</td>\n",
       "      <td>0</td>\n",
       "    </tr>\n",
       "    <tr>\n",
       "      <th>26</th>\n",
       "      <td>performance_netbook_1005ha</td>\n",
       "      <td>...</td>\n",
       "      <td>0</td>\n",
       "    </tr>\n",
       "    <tr>\n",
       "      <th>27</th>\n",
       "      <td>price_amazon_kindle</td>\n",
       "      <td>...</td>\n",
       "      <td>0</td>\n",
       "    </tr>\n",
       "    <tr>\n",
       "      <th>33</th>\n",
       "      <td>satellite_garmin_nuvi_255W_gps</td>\n",
       "      <td>...</td>\n",
       "      <td>0</td>\n",
       "    </tr>\n",
       "    <tr>\n",
       "      <th>34</th>\n",
       "      <td>screen_garmin_nuvi_255W_gps</td>\n",
       "      <td>...</td>\n",
       "      <td>0</td>\n",
       "    </tr>\n",
       "    <tr>\n",
       "      <th>35</th>\n",
       "      <td>screen_ipod_nano_8gb</td>\n",
       "      <td>...</td>\n",
       "      <td>0</td>\n",
       "    </tr>\n",
       "    <tr>\n",
       "      <th>36</th>\n",
       "      <td>screen_netbook_1005ha</td>\n",
       "      <td>...</td>\n",
       "      <td>0</td>\n",
       "    </tr>\n",
       "    <tr>\n",
       "      <th>41</th>\n",
       "      <td>size_asus_netbook_1005ha</td>\n",
       "      <td>...</td>\n",
       "      <td>0</td>\n",
       "    </tr>\n",
       "    <tr>\n",
       "      <th>42</th>\n",
       "      <td>sound_ipod_nano_8gb</td>\n",
       "      <td>headphone jack i got a clear case for it a...</td>\n",
       "      <td>0</td>\n",
       "    </tr>\n",
       "    <tr>\n",
       "      <th>43</th>\n",
       "      <td>speed_garmin_nuvi_255W_gps</td>\n",
       "      <td>...</td>\n",
       "      <td>0</td>\n",
       "    </tr>\n",
       "    <tr>\n",
       "      <th>44</th>\n",
       "      <td>speed_windows7</td>\n",
       "      <td>...</td>\n",
       "      <td>0</td>\n",
       "    </tr>\n",
       "    <tr>\n",
       "      <th>48</th>\n",
       "      <td>updates_garmin_nuvi_255W_gps</td>\n",
       "      <td>...</td>\n",
       "      <td>0</td>\n",
       "    </tr>\n",
       "    <tr>\n",
       "      <th>49</th>\n",
       "      <td>video_ipod_nano_8gb</td>\n",
       "      <td>...</td>\n",
       "      <td>0</td>\n",
       "    </tr>\n",
       "    <tr>\n",
       "      <th>50</th>\n",
       "      <td>voice_garmin_nuvi_255W_gps</td>\n",
       "      <td>...</td>\n",
       "      <td>0</td>\n",
       "    </tr>\n",
       "  </tbody>\n",
       "</table>\n",
       "</div>"
      ],
      "text/plain": [
       "                           filename  \\\n",
       "0     accuracy_garmin_nuvi_255W_gps   \n",
       "2        battery-life_amazon_kindle   \n",
       "3        battery-life_ipod_nano_8gb   \n",
       "4       battery-life_netbook_1005ha   \n",
       "5             buttons_amazon_kindle   \n",
       "8   directions_garmin_nuvi_255W_gps   \n",
       "9      display_garmin_nuvi_255W_gps   \n",
       "10    eyesight-issues_amazon_kindle   \n",
       "11                features_windows7   \n",
       "12              fonts_amazon_kindle   \n",
       "19          keyboard_netbook_1005ha   \n",
       "23         navigation_amazon_kindle   \n",
       "26       performance_netbook_1005ha   \n",
       "27              price_amazon_kindle   \n",
       "33   satellite_garmin_nuvi_255W_gps   \n",
       "34      screen_garmin_nuvi_255W_gps   \n",
       "35             screen_ipod_nano_8gb   \n",
       "36            screen_netbook_1005ha   \n",
       "41         size_asus_netbook_1005ha   \n",
       "42              sound_ipod_nano_8gb   \n",
       "43       speed_garmin_nuvi_255W_gps   \n",
       "44                   speed_windows7   \n",
       "48     updates_garmin_nuvi_255W_gps   \n",
       "49              video_ipod_nano_8gb   \n",
       "50       voice_garmin_nuvi_255W_gps   \n",
       "\n",
       "                                         opinion_text  cluster_label  \n",
       "0                                                 ...              0  \n",
       "2                                                 ...              0  \n",
       "3                                                 ...              0  \n",
       "4                                                 ...              0  \n",
       "5                                                 ...              0  \n",
       "8                                                 ...              0  \n",
       "9                                                 ...              0  \n",
       "10                                                ...              0  \n",
       "11                                                ...              0  \n",
       "12                                                ...              0  \n",
       "19                                                ...              0  \n",
       "23                                                ...              0  \n",
       "26                                                ...              0  \n",
       "27                                                ...              0  \n",
       "33                                                ...              0  \n",
       "34                                                ...              0  \n",
       "35                                                ...              0  \n",
       "36                                                ...              0  \n",
       "41                                                ...              0  \n",
       "42      headphone jack i got a clear case for it a...              0  \n",
       "43                                                ...              0  \n",
       "44                                                ...              0  \n",
       "48                                                ...              0  \n",
       "49                                                ...              0  \n",
       "50                                                ...              0  "
      ]
     },
     "metadata": {},
     "output_type": "display_data"
    },
    {
     "data": {
      "text/plain": [
       "'\\n'"
      ]
     },
     "metadata": {},
     "output_type": "display_data"
    },
    {
     "name": "stdout",
     "output_type": "stream",
     "text": [
      "Cluster # 1의 데이터\n"
     ]
    },
    {
     "data": {
      "text/html": [
       "<div>\n",
       "<style scoped>\n",
       "    .dataframe tbody tr th:only-of-type {\n",
       "        vertical-align: middle;\n",
       "    }\n",
       "\n",
       "    .dataframe tbody tr th {\n",
       "        vertical-align: top;\n",
       "    }\n",
       "\n",
       "    .dataframe thead th {\n",
       "        text-align: right;\n",
       "    }\n",
       "</style>\n",
       "<table border=\"1\" class=\"dataframe\">\n",
       "  <thead>\n",
       "    <tr style=\"text-align: right;\">\n",
       "      <th></th>\n",
       "      <th>filename</th>\n",
       "      <th>opinion_text</th>\n",
       "      <th>cluster_label</th>\n",
       "    </tr>\n",
       "  </thead>\n",
       "  <tbody>\n",
       "    <tr>\n",
       "      <th>1</th>\n",
       "      <td>bathroom_bestwestern_hotel_sfo</td>\n",
       "      <td>...</td>\n",
       "      <td>1</td>\n",
       "    </tr>\n",
       "    <tr>\n",
       "      <th>13</th>\n",
       "      <td>food_holiday_inn_london</td>\n",
       "      <td>...</td>\n",
       "      <td>1</td>\n",
       "    </tr>\n",
       "    <tr>\n",
       "      <th>14</th>\n",
       "      <td>food_swissotel_chicago</td>\n",
       "      <td>...</td>\n",
       "      <td>1</td>\n",
       "    </tr>\n",
       "    <tr>\n",
       "      <th>15</th>\n",
       "      <td>free_bestwestern_hotel_sfo</td>\n",
       "      <td>...</td>\n",
       "      <td>1</td>\n",
       "    </tr>\n",
       "    <tr>\n",
       "      <th>20</th>\n",
       "      <td>location_bestwestern_hotel_sfo</td>\n",
       "      <td>...</td>\n",
       "      <td>1</td>\n",
       "    </tr>\n",
       "    <tr>\n",
       "      <th>21</th>\n",
       "      <td>location_holiday_inn_london</td>\n",
       "      <td>...</td>\n",
       "      <td>1</td>\n",
       "    </tr>\n",
       "    <tr>\n",
       "      <th>24</th>\n",
       "      <td>parking_bestwestern_hotel_sfo</td>\n",
       "      <td>...</td>\n",
       "      <td>1</td>\n",
       "    </tr>\n",
       "    <tr>\n",
       "      <th>28</th>\n",
       "      <td>price_holiday_inn_london</td>\n",
       "      <td>...</td>\n",
       "      <td>1</td>\n",
       "    </tr>\n",
       "    <tr>\n",
       "      <th>32</th>\n",
       "      <td>room_holiday_inn_london</td>\n",
       "      <td>...</td>\n",
       "      <td>1</td>\n",
       "    </tr>\n",
       "    <tr>\n",
       "      <th>30</th>\n",
       "      <td>rooms_bestwestern_hotel_sfo</td>\n",
       "      <td>...</td>\n",
       "      <td>1</td>\n",
       "    </tr>\n",
       "    <tr>\n",
       "      <th>31</th>\n",
       "      <td>rooms_swissotel_chicago</td>\n",
       "      <td>...</td>\n",
       "      <td>1</td>\n",
       "    </tr>\n",
       "    <tr>\n",
       "      <th>38</th>\n",
       "      <td>service_bestwestern_hotel_sfo</td>\n",
       "      <td>...</td>\n",
       "      <td>1</td>\n",
       "    </tr>\n",
       "    <tr>\n",
       "      <th>39</th>\n",
       "      <td>service_holiday_inn_london</td>\n",
       "      <td>...</td>\n",
       "      <td>1</td>\n",
       "    </tr>\n",
       "    <tr>\n",
       "      <th>40</th>\n",
       "      <td>service_swissotel_hotel_chicago</td>\n",
       "      <td>...</td>\n",
       "      <td>1</td>\n",
       "    </tr>\n",
       "    <tr>\n",
       "      <th>45</th>\n",
       "      <td>staff_bestwestern_hotel_sfo</td>\n",
       "      <td>...</td>\n",
       "      <td>1</td>\n",
       "    </tr>\n",
       "    <tr>\n",
       "      <th>46</th>\n",
       "      <td>staff_swissotel_chicago</td>\n",
       "      <td>...</td>\n",
       "      <td>1</td>\n",
       "    </tr>\n",
       "  </tbody>\n",
       "</table>\n",
       "</div>"
      ],
      "text/plain": [
       "                           filename  \\\n",
       "1    bathroom_bestwestern_hotel_sfo   \n",
       "13          food_holiday_inn_london   \n",
       "14           food_swissotel_chicago   \n",
       "15       free_bestwestern_hotel_sfo   \n",
       "20   location_bestwestern_hotel_sfo   \n",
       "21      location_holiday_inn_london   \n",
       "24    parking_bestwestern_hotel_sfo   \n",
       "28         price_holiday_inn_london   \n",
       "32          room_holiday_inn_london   \n",
       "30      rooms_bestwestern_hotel_sfo   \n",
       "31          rooms_swissotel_chicago   \n",
       "38    service_bestwestern_hotel_sfo   \n",
       "39       service_holiday_inn_london   \n",
       "40  service_swissotel_hotel_chicago   \n",
       "45      staff_bestwestern_hotel_sfo   \n",
       "46          staff_swissotel_chicago   \n",
       "\n",
       "                                         opinion_text  cluster_label  \n",
       "1                                                 ...              1  \n",
       "13                                                ...              1  \n",
       "14                                                ...              1  \n",
       "15                                                ...              1  \n",
       "20                                                ...              1  \n",
       "21                                                ...              1  \n",
       "24                                                ...              1  \n",
       "28                                                ...              1  \n",
       "32                                                ...              1  \n",
       "30                                                ...              1  \n",
       "31                                                ...              1  \n",
       "38                                                ...              1  \n",
       "39                                                ...              1  \n",
       "40                                                ...              1  \n",
       "45                                                ...              1  \n",
       "46                                                ...              1  "
      ]
     },
     "metadata": {},
     "output_type": "display_data"
    },
    {
     "data": {
      "text/plain": [
       "'\\n'"
      ]
     },
     "metadata": {},
     "output_type": "display_data"
    },
    {
     "name": "stdout",
     "output_type": "stream",
     "text": [
      "Cluster # 2의 데이터\n"
     ]
    },
    {
     "data": {
      "text/html": [
       "<div>\n",
       "<style scoped>\n",
       "    .dataframe tbody tr th:only-of-type {\n",
       "        vertical-align: middle;\n",
       "    }\n",
       "\n",
       "    .dataframe tbody tr th {\n",
       "        vertical-align: top;\n",
       "    }\n",
       "\n",
       "    .dataframe thead th {\n",
       "        text-align: right;\n",
       "    }\n",
       "</style>\n",
       "<table border=\"1\" class=\"dataframe\">\n",
       "  <thead>\n",
       "    <tr style=\"text-align: right;\">\n",
       "      <th></th>\n",
       "      <th>filename</th>\n",
       "      <th>opinion_text</th>\n",
       "      <th>cluster_label</th>\n",
       "    </tr>\n",
       "  </thead>\n",
       "  <tbody>\n",
       "    <tr>\n",
       "      <th>6</th>\n",
       "      <td>comfort_honda_accord_2008</td>\n",
       "      <td>...</td>\n",
       "      <td>2</td>\n",
       "    </tr>\n",
       "    <tr>\n",
       "      <th>7</th>\n",
       "      <td>comfort_toyota_camry_2007</td>\n",
       "      <td>...</td>\n",
       "      <td>2</td>\n",
       "    </tr>\n",
       "    <tr>\n",
       "      <th>16</th>\n",
       "      <td>gas_mileage_toyota_camry_2007</td>\n",
       "      <td>...</td>\n",
       "      <td>2</td>\n",
       "    </tr>\n",
       "    <tr>\n",
       "      <th>17</th>\n",
       "      <td>interior_honda_accord_2008</td>\n",
       "      <td>...</td>\n",
       "      <td>2</td>\n",
       "    </tr>\n",
       "    <tr>\n",
       "      <th>18</th>\n",
       "      <td>interior_toyota_camry_2007</td>\n",
       "      <td>...</td>\n",
       "      <td>2</td>\n",
       "    </tr>\n",
       "    <tr>\n",
       "      <th>22</th>\n",
       "      <td>mileage_honda_accord_2008</td>\n",
       "      <td>...</td>\n",
       "      <td>2</td>\n",
       "    </tr>\n",
       "    <tr>\n",
       "      <th>25</th>\n",
       "      <td>performance_honda_accord_2008</td>\n",
       "      <td>...</td>\n",
       "      <td>2</td>\n",
       "    </tr>\n",
       "    <tr>\n",
       "      <th>29</th>\n",
       "      <td>quality_toyota_camry_2007</td>\n",
       "      <td>...</td>\n",
       "      <td>2</td>\n",
       "    </tr>\n",
       "    <tr>\n",
       "      <th>37</th>\n",
       "      <td>seats_honda_accord_2008</td>\n",
       "      <td>...</td>\n",
       "      <td>2</td>\n",
       "    </tr>\n",
       "    <tr>\n",
       "      <th>47</th>\n",
       "      <td>transmission_toyota_camry_2007</td>\n",
       "      <td>...</td>\n",
       "      <td>2</td>\n",
       "    </tr>\n",
       "  </tbody>\n",
       "</table>\n",
       "</div>"
      ],
      "text/plain": [
       "                          filename  \\\n",
       "6        comfort_honda_accord_2008   \n",
       "7        comfort_toyota_camry_2007   \n",
       "16   gas_mileage_toyota_camry_2007   \n",
       "17      interior_honda_accord_2008   \n",
       "18      interior_toyota_camry_2007   \n",
       "22       mileage_honda_accord_2008   \n",
       "25   performance_honda_accord_2008   \n",
       "29       quality_toyota_camry_2007   \n",
       "37         seats_honda_accord_2008   \n",
       "47  transmission_toyota_camry_2007   \n",
       "\n",
       "                                         opinion_text  cluster_label  \n",
       "6                                                 ...              2  \n",
       "7                                                 ...              2  \n",
       "16                                                ...              2  \n",
       "17                                                ...              2  \n",
       "18                                                ...              2  \n",
       "22                                                ...              2  \n",
       "25                                                ...              2  \n",
       "29                                                ...              2  \n",
       "37                                                ...              2  \n",
       "47                                                ...              2  "
      ]
     },
     "metadata": {},
     "output_type": "display_data"
    },
    {
     "data": {
      "text/plain": [
       "'\\n'"
      ]
     },
     "metadata": {},
     "output_type": "display_data"
    }
   ],
   "source": [
    "for label in range(len(document_df['cluster_label'].value_counts())):\n",
    "    df = document_df[document_df['cluster_label']==label].sort_values(by = 'filename')\n",
    "    print(f'Cluster # {label}의 데이터')\n",
    "    display(df, '\\n')"
   ]
  },
  {
   "cell_type": "markdown",
   "id": "a61adf6f",
   "metadata": {},
   "source": [
    "[군집 결과]\n",
    "\n",
    "군집 0 : 전자기기 리뷰\n",
    "\n",
    "군집 1 : 호텔 리뷰\n",
    "\n",
    "군집 2 : 자동차 리뷰"
   ]
  },
  {
   "cell_type": "markdown",
   "id": "524314f3",
   "metadata": {},
   "source": [
    "#### 과제 1020_1. 상기 군집별 핵심 단어 10개를 아래와 같은 형태로 출력\n",
    "- 개별 군집번호, 핵심단어-중요도 순서, 파일명"
   ]
  },
  {
   "cell_type": "markdown",
   "id": "7e4a3fca",
   "metadata": {},
   "source": [
    "## 4. 군집별 핵심 단어 추출"
   ]
  },
  {
   "cell_type": "markdown",
   "id": "29741f9d",
   "metadata": {},
   "source": [
    "clusters_centers_ :  단어 피처가 군집의 중심을 기준으로 얼마나 가깝게 위치해 있는지 제공\n",
    "\n",
    "[출력 형태]\n",
    "\n",
    "배열 값\n",
    "\n",
    "행 : 개별 군집 <br>\n",
    "열 : 개별 피처 _ (개별 군집 내의 상대 위치를 값으로 표현한 좌표 값_ 0~1까지의 값, 1에 가까울 수록 중심과 가까운 값)"
   ]
  },
  {
   "cell_type": "code",
   "execution_count": 57,
   "id": "4f488141",
   "metadata": {},
   "outputs": [
    {
     "name": "stdout",
     "output_type": "stream",
     "text": [
      "cluster_centers 모양 : (3, 4611)\n",
      "[[0.01005322 0.         0.         ... 0.00706287 0.         0.        ]\n",
      " [0.         0.00099499 0.00174637 ... 0.         0.00183397 0.00144581]\n",
      " [0.         0.00092551 0.         ... 0.         0.         0.        ]]\n"
     ]
    }
   ],
   "source": [
    "# 위에서 군집화한 KMeans 객체 활용\n",
    "cluster_centers = km_cluster.cluster_centers_\n",
    "print('cluster_centers 모양 :', cluster_centers.shape)\n",
    "print(cluster_centers)"
   ]
  },
  {
   "cell_type": "markdown",
   "id": "38b4a24f",
   "metadata": {},
   "source": [
    "-> 3행 4611열 배열 형태 (군집이 3개, 단어 피처가 4611개로 구성됨)"
   ]
  },
  {
   "cell_type": "code",
   "execution_count": 60,
   "id": "8e6c7564",
   "metadata": {},
   "outputs": [
    {
     "name": "stdout",
     "output_type": "stream",
     "text": [
      "[[3572  685 2342 ... 1750 3647 4610]\n",
      " [3466 2095 3648 ... 2272 2275    0]\n",
      " [2252 3612 2706 ... 2791 2789    0]]\n"
     ]
    },
    {
     "data": {
      "text/plain": [
       "3"
      ]
     },
     "execution_count": 60,
     "metadata": {},
     "output_type": "execute_result"
    }
   ],
   "source": [
    "# argsort()[:, ::-1] : 값이 큰 순서로 정렬된 위치 인덱스 값을 반환\n",
    "print(cluster_centers.argsort()[:, ::-1])\n",
    "len(cluster_centers.argsort()[:, ::-1])"
   ]
  },
  {
   "cell_type": "code",
   "execution_count": 61,
   "id": "27e7d24d",
   "metadata": {},
   "outputs": [
    {
     "data": {
      "text/plain": [
       "array([3572,  685, 2342,  690, 2443, 2357, 1353, 4306, 3736, 4330],\n",
       "      dtype=int64)"
      ]
     },
     "execution_count": 61,
     "metadata": {},
     "output_type": "execute_result"
    }
   ],
   "source": [
    "# cluster_centers 배열 값이 큰 순으로 정렬된 인덱스 값 반환\n",
    "centroid_feature_ordered_ind = cluster_centers.argsort()[:, ::-1]\n",
    "\n",
    "centroid_feature_ordered_ind[0, :10] # 해당 군집(0)의 top 10 피처 단어의 인덱스 위치 "
   ]
  },
  {
   "cell_type": "code",
   "execution_count": 69,
   "id": "8b071506",
   "metadata": {
    "scrolled": false
   },
   "outputs": [
    {
     "data": {
      "text/plain": [
       "['0 5',\n",
       " '0 58',\n",
       " '0 garmin',\n",
       " '0 love',\n",
       " '0 mention',\n",
       " '0 paged',\n",
       " '0 second',\n",
       " '1 0',\n",
       " '1 16',\n",
       " '1 18']"
      ]
     },
     "execution_count": 69,
     "metadata": {},
     "output_type": "execute_result"
    }
   ],
   "source": [
    "# 위에서 벡터화한 객체에서 피처명 리스트 추출\n",
    "# get_feature_names() 사용 \n",
    "feature_names_ex = tfidf_vect.get_feature_names()\n",
    "feature_names_ex[:10]"
   ]
  },
  {
   "cell_type": "code",
   "execution_count": 71,
   "id": "91d87649",
   "metadata": {},
   "outputs": [
    {
     "data": {
      "text/plain": [
       "['headphone',\n",
       " '313 took',\n",
       " 'compact easy',\n",
       " '316',\n",
       " 'contraint',\n",
       " 'complainer',\n",
       " 'annoying le',\n",
       " 'life screen',\n",
       " 'im new',\n",
       " 'light 9']"
      ]
     },
     "execution_count": 71,
     "metadata": {},
     "output_type": "execute_result"
    }
   ],
   "source": [
    "# 피처명 리스트값의 인덱스가 있는 단어 추출\n",
    "[feature_names_ex[ind] for ind in centroid_feature_ordered_ind[0, :10]]"
   ]
  },
  {
   "cell_type": "code",
   "execution_count": 72,
   "id": "6de4b821",
   "metadata": {},
   "outputs": [
    {
     "data": {
      "text/plain": [
       "'headphone'"
      ]
     },
     "execution_count": 72,
     "metadata": {},
     "output_type": "execute_result"
    }
   ],
   "source": [
    "feature_names_ex[3572]"
   ]
  },
  {
   "cell_type": "code",
   "execution_count": 73,
   "id": "df4ad3f2",
   "metadata": {},
   "outputs": [
    {
     "data": {
      "text/plain": [
       "0.13738120192560713"
      ]
     },
     "execution_count": 73,
     "metadata": {},
     "output_type": "execute_result"
    }
   ],
   "source": [
    "# 해당 피처 단어의 중심 위치 상댓값 추출\n",
    "km_cluster.cluster_centers_[0, 3572]"
   ]
  },
  {
   "cell_type": "code",
   "execution_count": 74,
   "id": "d0c40cee",
   "metadata": {},
   "outputs": [
    {
     "data": {
      "text/plain": [
       "{0: {'cluster': 0,\n",
       "  'top_features': 'headphone',\n",
       "  'top_features_value': 0.13738120192560713}}"
      ]
     },
     "execution_count": 74,
     "metadata": {},
     "output_type": "execute_result"
    }
   ],
   "source": [
    "# 해당 단어 딕셔너리형태로 핵심단어, 상대 위치 값을 저장\n",
    "cluster_details = {}\n",
    "\n",
    "cluster_details[0] = {}\n",
    "# 0번 군집\n",
    "cluster_details[0]['cluster'] = 0\n",
    "cluster_details[0]['top_features'] = 'headphone' # 0번 군집의 핵심 단어\n",
    "cluster_details[0]['top_features_value'] = 0.13738120192560713 # 해당 피처 단어의 중심 위치 상대 값 저장\n",
    "cluster_details"
   ]
  },
  {
   "cell_type": "code",
   "execution_count": 78,
   "id": "bc6bb6cd",
   "metadata": {},
   "outputs": [
    {
     "data": {
      "text/plain": [
       "['accuracy_garmin_nuvi_255W_gps',\n",
       " 'battery-life_amazon_kindle',\n",
       " 'battery-life_ipod_nano_8gb',\n",
       " 'battery-life_netbook_1005ha',\n",
       " 'buttons_amazon_kindle',\n",
       " 'directions_garmin_nuvi_255W_gps',\n",
       " 'display_garmin_nuvi_255W_gps',\n",
       " 'eyesight-issues_amazon_kindle',\n",
       " 'features_windows7',\n",
       " 'fonts_amazon_kindle',\n",
       " 'keyboard_netbook_1005ha',\n",
       " 'navigation_amazon_kindle',\n",
       " 'performance_netbook_1005ha',\n",
       " 'price_amazon_kindle',\n",
       " 'satellite_garmin_nuvi_255W_gps',\n",
       " 'screen_garmin_nuvi_255W_gps',\n",
       " 'screen_ipod_nano_8gb',\n",
       " 'screen_netbook_1005ha',\n",
       " 'size_asus_netbook_1005ha',\n",
       " 'sound_ipod_nano_8gb',\n",
       " 'speed_garmin_nuvi_255W_gps',\n",
       " 'speed_windows7',\n",
       " 'updates_garmin_nuvi_255W_gps',\n",
       " 'video_ipod_nano_8gb',\n",
       " 'voice_garmin_nuvi_255W_gps']"
      ]
     },
     "execution_count": 78,
     "metadata": {},
     "output_type": "execute_result"
    }
   ],
   "source": [
    "# 0번 군집의 파일이름 \n",
    "document_df[document_df['cluster_label']==0]['filename'].values.tolist()"
   ]
  },
  {
   "cell_type": "code",
   "execution_count": 79,
   "id": "5c30d34f",
   "metadata": {},
   "outputs": [],
   "source": [
    "# 위를 한번에 출력해주는 함수 생성 (입력값 : 군집 모델, 군집 값, 피처 단어, 군집 개수, topN (각 군집 별 추출할 인덱스 개수))\n",
    "\n",
    "def get_cluster_details(cluster_model, cluster_data, feature_names, clusters_num, top_n_features=10):\n",
    "    # 빈 딕셔너리 (최종 출력 값 : 1. 개별 군집번호, 2. 핵심 단어 3. 핵심단어의 중심 위치 상댓값, 4. 파일명 속성 값 정보)\n",
    "    cluster_details = {}\n",
    "    \n",
    "    # 개별 군집 내의 상대 위치 값이 가까운 값 순으로 정렬 후 해당 값 인덱스 반환\n",
    "    centorid_feature_ordered_ind = cluster_model.cluster_centers_.argsort()[:, ::-1]\n",
    "    \n",
    "    # 개별 군집별로 반복하면서 핵심 단어, 그 단어의 중심 위치 상댓값 딕셔너리에 저장\n",
    "    for cluster_num in range(clusters_num):\n",
    "        # 개별 군집별 정보를 담을 데이터 초기화\n",
    "        cluster_details[cluster_num] = {}\n",
    "        cluster_details[cluster_num]['cluster'] = cluster_num # 1. 개별 군집 번호 (군집 id)\n",
    "        \n",
    "        # 해당 군집 id 의 top 10 피처 단어의 인덱스 추출 [10개의 리스트 형태]\n",
    "        top_feature_indexes = centorid_feature_ordered_ind[cluster_num, :top_n_features]\n",
    "        # 해당 인덱스로 단어 추출 \n",
    "        top_features = [feature_names[ind] for ind in top_feature_indexes] \n",
    "        \n",
    "        # top_feature_indexes로 해당 피처 단어의 중심 위치 상대값 추출\n",
    "        top_feature_values = cluster_model.cluster_centers_[cluster_num, top_feature_indexes].tolist() \n",
    "        \n",
    "        # 출력할 빈 딕셔너리 객체에 개별 군집별 핵심단어와 중심위치 상댓값 입력\n",
    "        cluster_details[cluster_num]['top_features'] = top_features # 2. 핵심 단어\n",
    "        cluster_details[cluster_num]['top_features_value'] = top_feature_values # 3. 핵심단어의 중심 위치 상댓값\n",
    "        \n",
    "        # 해당 군집의 파일이름 리스트로 저장\n",
    "        filenames = cluster_data[cluster_data['cluster_label'] == cluster_num]['filename'] \n",
    "        filenames = filenames.values.tolist()\n",
    "        \n",
    "        cluster_details[cluster_num]['filenames'] = filenames # 4. 파일명 속성 값 정보\n",
    "        \n",
    "    return cluster_details"
   ]
  },
  {
   "cell_type": "code",
   "execution_count": 80,
   "id": "778cd91e",
   "metadata": {
    "scrolled": false
   },
   "outputs": [
    {
     "data": {
      "text/plain": [
       "{0: {'cluster': 0,\n",
       "  'top_features': ['headphone',\n",
       "   '313 took',\n",
       "   'compact easy',\n",
       "   '316',\n",
       "   'contraint',\n",
       "   'complainer',\n",
       "   'annoying le',\n",
       "   'life screen',\n",
       "   'im new',\n",
       "   'light 9'],\n",
       "  'top_features_value': [0.13738120192560713,\n",
       "   0.12029588637881046,\n",
       "   0.06416898221290011,\n",
       "   0.06330587553655656,\n",
       "   0.058609811414901014,\n",
       "   0.05646823079053855,\n",
       "   0.05393721234628231,\n",
       "   0.05389363145594924,\n",
       "   0.05127615400589759,\n",
       "   0.05119379623996657],\n",
       "  'filenames': ['accuracy_garmin_nuvi_255W_gps',\n",
       "   'battery-life_amazon_kindle',\n",
       "   'battery-life_ipod_nano_8gb',\n",
       "   'battery-life_netbook_1005ha',\n",
       "   'buttons_amazon_kindle',\n",
       "   'directions_garmin_nuvi_255W_gps',\n",
       "   'display_garmin_nuvi_255W_gps',\n",
       "   'eyesight-issues_amazon_kindle',\n",
       "   'features_windows7',\n",
       "   'fonts_amazon_kindle',\n",
       "   'keyboard_netbook_1005ha',\n",
       "   'navigation_amazon_kindle',\n",
       "   'performance_netbook_1005ha',\n",
       "   'price_amazon_kindle',\n",
       "   'satellite_garmin_nuvi_255W_gps',\n",
       "   'screen_garmin_nuvi_255W_gps',\n",
       "   'screen_ipod_nano_8gb',\n",
       "   'screen_netbook_1005ha',\n",
       "   'size_asus_netbook_1005ha',\n",
       "   'sound_ipod_nano_8gb',\n",
       "   'speed_garmin_nuvi_255W_gps',\n",
       "   'speed_windows7',\n",
       "   'updates_garmin_nuvi_255W_gps',\n",
       "   'video_ipod_nano_8gb',\n",
       "   'voice_garmin_nuvi_255W_gps']},\n",
       " 1: {'cluster': 1,\n",
       "  'top_features': ['great unit',\n",
       "   'case',\n",
       "   'hour battery',\n",
       "   'iphone',\n",
       "   'battery meter',\n",
       "   'cut',\n",
       "   '310',\n",
       "   '7 eat',\n",
       "   'fax',\n",
       "   'everytime'],\n",
       "  'top_features_value': [0.26083463293785525,\n",
       "   0.20029241494780795,\n",
       "   0.17546706020591651,\n",
       "   0.14901486167147948,\n",
       "   0.1277265040158775,\n",
       "   0.12576707418420113,\n",
       "   0.07042395128821588,\n",
       "   0.06971189120637236,\n",
       "   0.059533968934674365,\n",
       "   0.05842875064534637],\n",
       "  'filenames': ['bathroom_bestwestern_hotel_sfo',\n",
       "   'food_holiday_inn_london',\n",
       "   'food_swissotel_chicago',\n",
       "   'free_bestwestern_hotel_sfo',\n",
       "   'location_bestwestern_hotel_sfo',\n",
       "   'location_holiday_inn_london',\n",
       "   'parking_bestwestern_hotel_sfo',\n",
       "   'price_holiday_inn_london',\n",
       "   'rooms_bestwestern_hotel_sfo',\n",
       "   'rooms_swissotel_chicago',\n",
       "   'room_holiday_inn_london',\n",
       "   'service_bestwestern_hotel_sfo',\n",
       "   'service_holiday_inn_london',\n",
       "   'service_swissotel_hotel_chicago',\n",
       "   'staff_bestwestern_hotel_sfo',\n",
       "   'staff_swissotel_chicago']},\n",
       " 2: {'cluster': 2,\n",
       "  'top_features': ['clean',\n",
       "   'holder',\n",
       "   'direction',\n",
       "   '85 long',\n",
       "   'beautifully',\n",
       "   'beautifully 152',\n",
       "   'life 15',\n",
       "   '58 gave',\n",
       "   'exhibited precise',\n",
       "   'follow'],\n",
       "  'top_features_value': [0.2278046916838381,\n",
       "   0.1939512034790141,\n",
       "   0.17730089408820418,\n",
       "   0.12790439933840922,\n",
       "   0.12265896733770874,\n",
       "   0.1165812335567078,\n",
       "   0.10486543788164414,\n",
       "   0.1015256988633988,\n",
       "   0.09562358109597213,\n",
       "   0.09233847022967973],\n",
       "  'filenames': ['comfort_honda_accord_2008',\n",
       "   'comfort_toyota_camry_2007',\n",
       "   'gas_mileage_toyota_camry_2007',\n",
       "   'interior_honda_accord_2008',\n",
       "   'interior_toyota_camry_2007',\n",
       "   'mileage_honda_accord_2008',\n",
       "   'performance_honda_accord_2008',\n",
       "   'quality_toyota_camry_2007',\n",
       "   'seats_honda_accord_2008',\n",
       "   'transmission_toyota_camry_2007']}}"
      ]
     },
     "execution_count": 80,
     "metadata": {},
     "output_type": "execute_result"
    }
   ],
   "source": [
    "# 데이터 대입\n",
    "\n",
    "feature_names = tfidf_vect.get_feature_names() # TF-IDF 변환된 객체에서 피처명 리스트 값 추출\n",
    "\n",
    "# 함수 적용\n",
    "\n",
    "cluster_details = get_cluster_details(cluster_model=km_cluster, cluster_data = document_df, feature_names=feature_names, clusters_num=3, top_n_features=10)\n",
    "\n",
    "cluster_details"
   ]
  },
  {
   "cell_type": "code",
   "execution_count": 94,
   "id": "31c4b1c9",
   "metadata": {},
   "outputs": [
    {
     "name": "stdout",
     "output_type": "stream",
     "text": [
      "----------------------Cluster 0----------------------\n",
      "TOP 10 핵심 단어\n",
      "['headphone', '313 took', 'compact easy', '316', 'contraint', 'complainer', 'annoying le', 'life screen', 'im new', 'light 9'] \n",
      "\n",
      "TOP 10 핵심 단어의 중심 위치 상댓값\n",
      "[0.13738120192560713, 0.12029588637881046, 0.06416898221290011, 0.06330587553655656, 0.058609811414901014, 0.05646823079053855, 0.05393721234628231, 0.05389363145594924, 0.05127615400589759, 0.05119379623996657] \n",
      "\n",
      "Review 파일명\n",
      "['accuracy_garmin_nuvi_255W_gps', 'battery-life_amazon_kindle', 'battery-life_ipod_nano_8gb', 'battery-life_netbook_1005ha', 'buttons_amazon_kindle', 'directions_garmin_nuvi_255W_gps', 'display_garmin_nuvi_255W_gps', 'eyesight-issues_amazon_kindle', 'features_windows7', 'fonts_amazon_kindle', 'keyboard_netbook_1005ha', 'navigation_amazon_kindle', 'performance_netbook_1005ha', 'price_amazon_kindle', 'satellite_garmin_nuvi_255W_gps', 'screen_garmin_nuvi_255W_gps', 'screen_ipod_nano_8gb', 'screen_netbook_1005ha', 'size_asus_netbook_1005ha', 'sound_ipod_nano_8gb', 'speed_garmin_nuvi_255W_gps', 'speed_windows7', 'updates_garmin_nuvi_255W_gps', 'video_ipod_nano_8gb', 'voice_garmin_nuvi_255W_gps'] \n",
      "\n",
      "----------------------Cluster 1----------------------\n",
      "TOP 10 핵심 단어\n",
      "['great unit', 'case', 'hour battery', 'iphone', 'battery meter', 'cut', '310', '7 eat', 'fax', 'everytime'] \n",
      "\n",
      "TOP 10 핵심 단어의 중심 위치 상댓값\n",
      "[0.26083463293785525, 0.20029241494780795, 0.17546706020591651, 0.14901486167147948, 0.1277265040158775, 0.12576707418420113, 0.07042395128821588, 0.06971189120637236, 0.059533968934674365, 0.05842875064534637] \n",
      "\n",
      "Review 파일명\n",
      "['bathroom_bestwestern_hotel_sfo', 'food_holiday_inn_london', 'food_swissotel_chicago', 'free_bestwestern_hotel_sfo', 'location_bestwestern_hotel_sfo', 'location_holiday_inn_london', 'parking_bestwestern_hotel_sfo', 'price_holiday_inn_london', 'rooms_bestwestern_hotel_sfo', 'rooms_swissotel_chicago', 'room_holiday_inn_london', 'service_bestwestern_hotel_sfo', 'service_holiday_inn_london', 'service_swissotel_hotel_chicago', 'staff_bestwestern_hotel_sfo', 'staff_swissotel_chicago'] \n",
      "\n",
      "----------------------Cluster 2----------------------\n",
      "TOP 10 핵심 단어\n",
      "['clean', 'holder', 'direction', '85 long', 'beautifully', 'beautifully 152', 'life 15', '58 gave', 'exhibited precise', 'follow'] \n",
      "\n",
      "TOP 10 핵심 단어의 중심 위치 상댓값\n",
      "[0.2278046916838381, 0.1939512034790141, 0.17730089408820418, 0.12790439933840922, 0.12265896733770874, 0.1165812335567078, 0.10486543788164414, 0.1015256988633988, 0.09562358109597213, 0.09233847022967973] \n",
      "\n",
      "Review 파일명\n",
      "['comfort_honda_accord_2008', 'comfort_toyota_camry_2007', 'gas_mileage_toyota_camry_2007', 'interior_honda_accord_2008', 'interior_toyota_camry_2007', 'mileage_honda_accord_2008', 'performance_honda_accord_2008', 'quality_toyota_camry_2007', 'seats_honda_accord_2008', 'transmission_toyota_camry_2007'] \n",
      "\n"
     ]
    }
   ],
   "source": [
    "# 보기 편하게 출력\n",
    "for cluster_num, cluster_detail in cluster_details.items():\n",
    "    print(f'----------------------Cluster {cluster_num}----------------------')\n",
    "    \n",
    "    print('TOP 10 핵심 단어')\n",
    "    print(cluster_detail['top_features'], '\\n')\n",
    "    print('TOP 10 핵심 단어의 중심 위치 상댓값')\n",
    "    print(cluster_detail['top_features_value'], '\\n')\n",
    "    print('Review 파일명')\n",
    "    print(cluster_detail['filenames'], '\\n')"
   ]
  },
  {
   "cell_type": "markdown",
   "id": "91e02baa",
   "metadata": {},
   "source": [
    "[출력]\n",
    "\n",
    "군집 0 : headphone, "
   ]
  },
  {
   "cell_type": "code",
   "execution_count": null,
   "id": "00b6d232",
   "metadata": {},
   "outputs": [],
   "source": []
  }
 ],
 "metadata": {
  "kernelspec": {
   "display_name": "Python 3 (ipykernel)",
   "language": "python",
   "name": "python3"
  },
  "language_info": {
   "codemirror_mode": {
    "name": "ipython",
    "version": 3
   },
   "file_extension": ".py",
   "mimetype": "text/x-python",
   "name": "python",
   "nbconvert_exporter": "python",
   "pygments_lexer": "ipython3",
   "version": "3.8.13"
  },
  "toc": {
   "base_numbering": 1,
   "nav_menu": {},
   "number_sections": false,
   "sideBar": true,
   "skip_h1_title": false,
   "title_cell": "Table of Contents",
   "title_sidebar": "Contents",
   "toc_cell": false,
   "toc_position": {
    "height": "calc(100% - 180px)",
    "left": "10px",
    "top": "150px",
    "width": "222px"
   },
   "toc_section_display": true,
   "toc_window_display": false
  }
 },
 "nbformat": 4,
 "nbformat_minor": 5
}
