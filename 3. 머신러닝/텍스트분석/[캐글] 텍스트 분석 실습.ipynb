{
 "cells": [
  {
   "cell_type": "markdown",
   "id": "00ceee22",
   "metadata": {},
   "source": [
    "# 일본 대형 온라인 쇼핑몰 Mercari사의 제품에 대해 가격을 예측\n",
    "- Mercari Price Suggestion Challenge"
   ]
  },
  {
   "cell_type": "code",
   "execution_count": 1,
   "id": "1f92374c",
   "metadata": {},
   "outputs": [
    {
     "name": "stdout",
     "output_type": "stream",
     "text": [
      "Defaulting to user installation because normal site-packages is not writeable\n",
      "Requirement already satisfied: konlpy in c:\\users\\jeoun\\appdata\\roaming\\python\\python39\\site-packages (0.6.0)\n",
      "Requirement already satisfied: numpy>=1.6 in c:\\programdata\\anaconda3\\lib\\site-packages (from konlpy) (1.21.5)\n",
      "Requirement already satisfied: JPype1>=0.7.0 in c:\\users\\jeoun\\appdata\\roaming\\python\\python39\\site-packages (from konlpy) (1.4.0)\n",
      "Requirement already satisfied: lxml>=4.1.0 in c:\\programdata\\anaconda3\\lib\\site-packages (from konlpy) (4.8.0)\n"
     ]
    }
   ],
   "source": [
    "!pip install konlpy"
   ]
  },
  {
   "cell_type": "code",
   "execution_count": 37,
   "id": "e3754f6b",
   "metadata": {},
   "outputs": [],
   "source": [
    "import pandas as pd\n",
    "import numpy as np\n",
    "import warnings\n",
    "warnings.filterwarnings('ignore')\n",
    "\n",
    "import seaborn as sns\n",
    "import matplotlib.pyplot as plt"
   ]
  },
  {
   "cell_type": "code",
   "execution_count": 14,
   "id": "5225163b",
   "metadata": {},
   "outputs": [
    {
     "name": "stdout",
     "output_type": "stream",
     "text": [
      "Defaulting to user installation because normal site-packages is not writeable\n",
      "Collecting py7zr\n",
      "  Downloading py7zr-0.20.0-py3-none-any.whl (64 kB)\n",
      "Collecting texttable\n",
      "  Downloading texttable-1.6.4-py2.py3-none-any.whl (10 kB)\n",
      "Requirement already satisfied: psutil in c:\\programdata\\anaconda3\\lib\\site-packages (from py7zr) (5.8.0)\n",
      "Collecting pybcj>=0.6.0\n",
      "  Downloading pybcj-1.0.1-cp39-cp39-win_amd64.whl (24 kB)\n",
      "Collecting pyzstd>=0.14.4\n",
      "  Downloading pyzstd-0.15.3-cp39-cp39-win_amd64.whl (206 kB)\n",
      "Collecting brotli>=1.0.9\n",
      "  Downloading Brotli-1.0.9-cp39-cp39-win_amd64.whl (383 kB)\n",
      "Collecting pycryptodomex>=3.6.6\n",
      "  Downloading pycryptodomex-3.15.0-cp35-abi3-win_amd64.whl (1.9 MB)\n",
      "Collecting multivolumefile>=0.2.3\n",
      "  Downloading multivolumefile-0.2.3-py3-none-any.whl (17 kB)\n",
      "Collecting inflate64>=0.3.0\n",
      "  Downloading inflate64-0.3.0-cp39-cp39-win_amd64.whl (35 kB)\n",
      "Collecting pyppmd<0.19.0,>=0.18.1\n",
      "  Downloading pyppmd-0.18.3-cp39-cp39-win_amd64.whl (46 kB)\n",
      "Installing collected packages: texttable, pyzstd, pyppmd, pycryptodomex, pybcj, multivolumefile, inflate64, brotli, py7zr\n",
      "Successfully installed brotli-1.0.9 inflate64-0.3.0 multivolumefile-0.2.3 py7zr-0.20.0 pybcj-1.0.1 pycryptodomex-3.15.0 pyppmd-0.18.3 pyzstd-0.15.3 texttable-1.6.4\n"
     ]
    },
    {
     "name": "stderr",
     "output_type": "stream",
     "text": [
      "  WARNING: The script py7zr.exe is installed in 'C:\\Users\\jeoun\\AppData\\Roaming\\Python\\Python39\\Scripts' which is not on PATH.\n",
      "  Consider adding this directory to PATH or, if you prefer to suppress this warning, use --no-warn-script-location.\n"
     ]
    }
   ],
   "source": [
    "!pip install py7zr"
   ]
  },
  {
   "cell_type": "code",
   "execution_count": 15,
   "id": "02ee88bf",
   "metadata": {},
   "outputs": [],
   "source": [
    "import py7zr"
   ]
  },
  {
   "cell_type": "markdown",
   "id": "d200d8a3",
   "metadata": {},
   "source": [
    "# 1. 데이터 불러오기"
   ]
  },
  {
   "cell_type": "markdown",
   "id": "6884fe4f",
   "metadata": {},
   "source": [
    "[학습용]"
   ]
  },
  {
   "cell_type": "code",
   "execution_count": 19,
   "id": "b84834ff",
   "metadata": {},
   "outputs": [
    {
     "name": "stdout",
     "output_type": "stream",
     "text": [
      "(1482535, 8)\n"
     ]
    },
    {
     "data": {
      "text/html": [
       "<div>\n",
       "<style scoped>\n",
       "    .dataframe tbody tr th:only-of-type {\n",
       "        vertical-align: middle;\n",
       "    }\n",
       "\n",
       "    .dataframe tbody tr th {\n",
       "        vertical-align: top;\n",
       "    }\n",
       "\n",
       "    .dataframe thead th {\n",
       "        text-align: right;\n",
       "    }\n",
       "</style>\n",
       "<table border=\"1\" class=\"dataframe\">\n",
       "  <thead>\n",
       "    <tr style=\"text-align: right;\">\n",
       "      <th></th>\n",
       "      <th>train_id</th>\n",
       "      <th>name</th>\n",
       "      <th>item_condition_id</th>\n",
       "      <th>category_name</th>\n",
       "      <th>brand_name</th>\n",
       "      <th>price</th>\n",
       "      <th>shipping</th>\n",
       "      <th>item_description</th>\n",
       "    </tr>\n",
       "  </thead>\n",
       "  <tbody>\n",
       "    <tr>\n",
       "      <th>0</th>\n",
       "      <td>0</td>\n",
       "      <td>MLB Cincinnati Reds T Shirt Size XL</td>\n",
       "      <td>3</td>\n",
       "      <td>Men/Tops/T-shirts</td>\n",
       "      <td>NaN</td>\n",
       "      <td>10.0</td>\n",
       "      <td>1</td>\n",
       "      <td>No description yet</td>\n",
       "    </tr>\n",
       "    <tr>\n",
       "      <th>1</th>\n",
       "      <td>1</td>\n",
       "      <td>Razer BlackWidow Chroma Keyboard</td>\n",
       "      <td>3</td>\n",
       "      <td>Electronics/Computers &amp; Tablets/Components &amp; P...</td>\n",
       "      <td>Razer</td>\n",
       "      <td>52.0</td>\n",
       "      <td>0</td>\n",
       "      <td>This keyboard is in great condition and works ...</td>\n",
       "    </tr>\n",
       "    <tr>\n",
       "      <th>2</th>\n",
       "      <td>2</td>\n",
       "      <td>AVA-VIV Blouse</td>\n",
       "      <td>1</td>\n",
       "      <td>Women/Tops &amp; Blouses/Blouse</td>\n",
       "      <td>Target</td>\n",
       "      <td>10.0</td>\n",
       "      <td>1</td>\n",
       "      <td>Adorable top with a hint of lace and a key hol...</td>\n",
       "    </tr>\n",
       "    <tr>\n",
       "      <th>3</th>\n",
       "      <td>3</td>\n",
       "      <td>Leather Horse Statues</td>\n",
       "      <td>1</td>\n",
       "      <td>Home/Home Décor/Home Décor Accents</td>\n",
       "      <td>NaN</td>\n",
       "      <td>35.0</td>\n",
       "      <td>1</td>\n",
       "      <td>New with tags. Leather horses. Retail for [rm]...</td>\n",
       "    </tr>\n",
       "    <tr>\n",
       "      <th>4</th>\n",
       "      <td>4</td>\n",
       "      <td>24K GOLD plated rose</td>\n",
       "      <td>1</td>\n",
       "      <td>Women/Jewelry/Necklaces</td>\n",
       "      <td>NaN</td>\n",
       "      <td>44.0</td>\n",
       "      <td>0</td>\n",
       "      <td>Complete with certificate of authenticity</td>\n",
       "    </tr>\n",
       "  </tbody>\n",
       "</table>\n",
       "</div>"
      ],
      "text/plain": [
       "   train_id                                 name  item_condition_id  \\\n",
       "0         0  MLB Cincinnati Reds T Shirt Size XL                  3   \n",
       "1         1     Razer BlackWidow Chroma Keyboard                  3   \n",
       "2         2                       AVA-VIV Blouse                  1   \n",
       "3         3                Leather Horse Statues                  1   \n",
       "4         4                 24K GOLD plated rose                  1   \n",
       "\n",
       "                                       category_name brand_name  price  \\\n",
       "0                                  Men/Tops/T-shirts        NaN   10.0   \n",
       "1  Electronics/Computers & Tablets/Components & P...      Razer   52.0   \n",
       "2                        Women/Tops & Blouses/Blouse     Target   10.0   \n",
       "3                 Home/Home Décor/Home Décor Accents        NaN   35.0   \n",
       "4                            Women/Jewelry/Necklaces        NaN   44.0   \n",
       "\n",
       "   shipping                                   item_description  \n",
       "0         1                                 No description yet  \n",
       "1         0  This keyboard is in great condition and works ...  \n",
       "2         1  Adorable top with a hint of lace and a key hol...  \n",
       "3         1  New with tags. Leather horses. Retail for [rm]...  \n",
       "4         0          Complete with certificate of authenticity  "
      ]
     },
     "execution_count": 19,
     "metadata": {},
     "output_type": "execute_result"
    }
   ],
   "source": [
    "train_df = pd.read_csv('kaggle/train.tsv', sep = '\\t')\n",
    "print(train_df.shape)\n",
    "train_df.head()"
   ]
  },
  {
   "cell_type": "markdown",
   "id": "30c9f850",
   "metadata": {},
   "source": [
    "[test용]"
   ]
  },
  {
   "cell_type": "code",
   "execution_count": 20,
   "id": "6e4bf90b",
   "metadata": {},
   "outputs": [
    {
     "name": "stdout",
     "output_type": "stream",
     "text": [
      "(1482535, 8)\n"
     ]
    },
    {
     "data": {
      "text/html": [
       "<div>\n",
       "<style scoped>\n",
       "    .dataframe tbody tr th:only-of-type {\n",
       "        vertical-align: middle;\n",
       "    }\n",
       "\n",
       "    .dataframe tbody tr th {\n",
       "        vertical-align: top;\n",
       "    }\n",
       "\n",
       "    .dataframe thead th {\n",
       "        text-align: right;\n",
       "    }\n",
       "</style>\n",
       "<table border=\"1\" class=\"dataframe\">\n",
       "  <thead>\n",
       "    <tr style=\"text-align: right;\">\n",
       "      <th></th>\n",
       "      <th>test_id</th>\n",
       "      <th>name</th>\n",
       "      <th>item_condition_id</th>\n",
       "      <th>category_name</th>\n",
       "      <th>brand_name</th>\n",
       "      <th>shipping</th>\n",
       "      <th>item_description</th>\n",
       "    </tr>\n",
       "  </thead>\n",
       "  <tbody>\n",
       "    <tr>\n",
       "      <th>0</th>\n",
       "      <td>0</td>\n",
       "      <td>Breast cancer \"I fight like a girl\" ring</td>\n",
       "      <td>1</td>\n",
       "      <td>Women/Jewelry/Rings</td>\n",
       "      <td>NaN</td>\n",
       "      <td>1</td>\n",
       "      <td>Size 7</td>\n",
       "    </tr>\n",
       "    <tr>\n",
       "      <th>1</th>\n",
       "      <td>1</td>\n",
       "      <td>25 pcs NEW 7.5\"x12\" Kraft Bubble Mailers</td>\n",
       "      <td>1</td>\n",
       "      <td>Other/Office supplies/Shipping Supplies</td>\n",
       "      <td>NaN</td>\n",
       "      <td>1</td>\n",
       "      <td>25 pcs NEW 7.5\"x12\" Kraft Bubble Mailers Lined...</td>\n",
       "    </tr>\n",
       "    <tr>\n",
       "      <th>2</th>\n",
       "      <td>2</td>\n",
       "      <td>Coach bag</td>\n",
       "      <td>1</td>\n",
       "      <td>Vintage &amp; Collectibles/Bags and Purses/Handbag</td>\n",
       "      <td>Coach</td>\n",
       "      <td>1</td>\n",
       "      <td>Brand new coach bag. Bought for [rm] at a Coac...</td>\n",
       "    </tr>\n",
       "    <tr>\n",
       "      <th>3</th>\n",
       "      <td>3</td>\n",
       "      <td>Floral Kimono</td>\n",
       "      <td>2</td>\n",
       "      <td>Women/Sweaters/Cardigan</td>\n",
       "      <td>NaN</td>\n",
       "      <td>0</td>\n",
       "      <td>-floral kimono -never worn -lightweight and pe...</td>\n",
       "    </tr>\n",
       "    <tr>\n",
       "      <th>4</th>\n",
       "      <td>4</td>\n",
       "      <td>Life after Death</td>\n",
       "      <td>3</td>\n",
       "      <td>Other/Books/Religion &amp; Spirituality</td>\n",
       "      <td>NaN</td>\n",
       "      <td>1</td>\n",
       "      <td>Rediscovering life after the loss of a loved o...</td>\n",
       "    </tr>\n",
       "  </tbody>\n",
       "</table>\n",
       "</div>"
      ],
      "text/plain": [
       "   test_id                                      name  item_condition_id  \\\n",
       "0        0  Breast cancer \"I fight like a girl\" ring                  1   \n",
       "1        1  25 pcs NEW 7.5\"x12\" Kraft Bubble Mailers                  1   \n",
       "2        2                                 Coach bag                  1   \n",
       "3        3                             Floral Kimono                  2   \n",
       "4        4                          Life after Death                  3   \n",
       "\n",
       "                                    category_name brand_name  shipping  \\\n",
       "0                             Women/Jewelry/Rings        NaN         1   \n",
       "1         Other/Office supplies/Shipping Supplies        NaN         1   \n",
       "2  Vintage & Collectibles/Bags and Purses/Handbag      Coach         1   \n",
       "3                         Women/Sweaters/Cardigan        NaN         0   \n",
       "4             Other/Books/Religion & Spirituality        NaN         1   \n",
       "\n",
       "                                    item_description  \n",
       "0                                             Size 7  \n",
       "1  25 pcs NEW 7.5\"x12\" Kraft Bubble Mailers Lined...  \n",
       "2  Brand new coach bag. Bought for [rm] at a Coac...  \n",
       "3  -floral kimono -never worn -lightweight and pe...  \n",
       "4  Rediscovering life after the loss of a loved o...  "
      ]
     },
     "execution_count": 20,
     "metadata": {},
     "output_type": "execute_result"
    }
   ],
   "source": [
    "test_df = pd.read_csv('kaggle/test.tsv/test.tsv', sep = '\\t')\n",
    "print(train_df.shape)\n",
    "test_df.head()"
   ]
  },
  {
   "cell_type": "markdown",
   "id": "e7534349",
   "metadata": {},
   "source": [
    "[데이터 확인]\n",
    "\n",
    "- name : 제품명\n",
    "- item_condition_id : 제품상태\n",
    "- category_name : 카테고리 명\n",
    "- brand_name : 브랜드 이름\n",
    "- shipping : 배송비 무료 여부 (1 - 무료, 0 - 유료)\n",
    "- item_description : 제품에 대한 설명\n",
    "- price : 제품 가격. 타깃값"
   ]
  },
  {
   "cell_type": "markdown",
   "id": "76f98f70",
   "metadata": {},
   "source": [
    "# 2. 데이터 확인"
   ]
  },
  {
   "cell_type": "markdown",
   "id": "f5dfd3b3",
   "metadata": {},
   "source": [
    "[학습용]"
   ]
  },
  {
   "cell_type": "code",
   "execution_count": 21,
   "id": "6026b500",
   "metadata": {},
   "outputs": [
    {
     "name": "stdout",
     "output_type": "stream",
     "text": [
      "<class 'pandas.core.frame.DataFrame'>\n",
      "RangeIndex: 1482535 entries, 0 to 1482534\n",
      "Data columns (total 8 columns):\n",
      " #   Column             Non-Null Count    Dtype  \n",
      "---  ------             --------------    -----  \n",
      " 0   train_id           1482535 non-null  int64  \n",
      " 1   name               1482535 non-null  object \n",
      " 2   item_condition_id  1482535 non-null  int64  \n",
      " 3   category_name      1476208 non-null  object \n",
      " 4   brand_name         849853 non-null   object \n",
      " 5   price              1482535 non-null  float64\n",
      " 6   shipping           1482535 non-null  int64  \n",
      " 7   item_description   1482531 non-null  object \n",
      "dtypes: float64(1), int64(3), object(4)\n",
      "memory usage: 90.5+ MB\n"
     ]
    }
   ],
   "source": [
    "train_df.info()"
   ]
  },
  {
   "cell_type": "code",
   "execution_count": 22,
   "id": "b1d66411",
   "metadata": {},
   "outputs": [
    {
     "data": {
      "text/plain": [
       "train_id                  0\n",
       "name                      0\n",
       "item_condition_id         0\n",
       "category_name          6327\n",
       "brand_name           632682\n",
       "price                     0\n",
       "shipping                  0\n",
       "item_description          4\n",
       "dtype: int64"
      ]
     },
     "execution_count": 22,
     "metadata": {},
     "output_type": "execute_result"
    }
   ],
   "source": [
    "train_df.isnull().sum()"
   ]
  },
  {
   "cell_type": "markdown",
   "id": "791bb210",
   "metadata": {},
   "source": [
    "-> null 값 확인"
   ]
  },
  {
   "cell_type": "code",
   "execution_count": 31,
   "id": "78c898ef",
   "metadata": {},
   "outputs": [
    {
     "name": "stdout",
     "output_type": "stream",
     "text": [
      "1    640549\n",
      "3    432161\n",
      "2    375479\n",
      "4     31962\n",
      "5      2384\n",
      "Name: item_condition_id, dtype: int64\n",
      "10.0      99416\n",
      "12.0      78986\n",
      "14.0      76655\n",
      "16.0      66413\n",
      "9.0       63643\n",
      "          ...  \n",
      "1081.0        1\n",
      "1213.0        1\n",
      "1355.0        1\n",
      "859.0         1\n",
      "1708.0        1\n",
      "Name: price, Length: 828, dtype: int64\n",
      "0    819435\n",
      "1    663100\n",
      "Name: shipping, dtype: int64\n"
     ]
    },
    {
     "data": {
      "image/png": "[encoded data removed]",
      "text/plain": [
       "<Figure size 1728x576 with 3 Axes>"
      ]
     },
     "metadata": {
      "needs_background": "light"
     },
     "output_type": "display_data"
    }
   ],
   "source": [
    "fig, axs = plt.subplots(figsize = (24, 8), nrows = 1, ncols = 3) #1행 3열\n",
    "feature_ = ['item_condition_id', 'price', 'shipping']\n",
    "\n",
    "for index_, feature in enumerate(feature_):\n",
    "    sns.histplot(train_df[feature], ax = axs[index_])\n",
    "#     plt.title(f'{feature}_')\n",
    "    print(train_df[feature].value_counts())"
   ]
  },
  {
   "cell_type": "markdown",
   "id": "75dfacf1",
   "metadata": {},
   "source": [
    "-> price 분포도 조절 필요"
   ]
  },
  {
   "cell_type": "markdown",
   "id": "7bb98d8f",
   "metadata": {},
   "source": [
    "[test용]"
   ]
  },
  {
   "cell_type": "code",
   "execution_count": 32,
   "id": "afbd70b1",
   "metadata": {},
   "outputs": [
    {
     "name": "stdout",
     "output_type": "stream",
     "text": [
      "<class 'pandas.core.frame.DataFrame'>\n",
      "RangeIndex: 693359 entries, 0 to 693358\n",
      "Data columns (total 7 columns):\n",
      " #   Column             Non-Null Count   Dtype \n",
      "---  ------             --------------   ----- \n",
      " 0   test_id            693359 non-null  int64 \n",
      " 1   name               693359 non-null  object\n",
      " 2   item_condition_id  693359 non-null  int64 \n",
      " 3   category_name      690301 non-null  object\n",
      " 4   brand_name         397834 non-null  object\n",
      " 5   shipping           693359 non-null  int64 \n",
      " 6   item_description   693359 non-null  object\n",
      "dtypes: int64(3), object(4)\n",
      "memory usage: 37.0+ MB\n"
     ]
    }
   ],
   "source": [
    "test_df.info()"
   ]
  },
  {
   "cell_type": "code",
   "execution_count": 33,
   "id": "22e49a49",
   "metadata": {},
   "outputs": [
    {
     "data": {
      "text/plain": [
       "test_id                   0\n",
       "name                      0\n",
       "item_condition_id         0\n",
       "category_name          3058\n",
       "brand_name           295525\n",
       "shipping                  0\n",
       "item_description          0\n",
       "dtype: int64"
      ]
     },
     "execution_count": 33,
     "metadata": {},
     "output_type": "execute_result"
    }
   ],
   "source": [
    "test_df.isnull().sum()"
   ]
  },
  {
   "cell_type": "code",
   "execution_count": 34,
   "id": "167d335a",
   "metadata": {},
   "outputs": [
    {
     "name": "stdout",
     "output_type": "stream",
     "text": [
      "1    300081\n",
      "3    201673\n",
      "2    175553\n",
      "4     14853\n",
      "5      1199\n",
      "Name: item_condition_id, dtype: int64\n",
      "0    382929\n",
      "1    310430\n",
      "Name: shipping, dtype: int64\n"
     ]
    },
    {
     "data": {
      "image/png": "[encoded data removed]",
      "text/plain": [
       "<Figure size 1728x576 with 2 Axes>"
      ]
     },
     "metadata": {
      "needs_background": "light"
     },
     "output_type": "display_data"
    }
   ],
   "source": [
    "fig, axs = plt.subplots(figsize = (24, 8), nrows = 1, ncols = 2) #1행 2열\n",
    "feature_ = ['item_condition_id', 'shipping']\n",
    "\n",
    "for index_, feature in enumerate(feature_):\n",
    "    sns.histplot(test_df[feature], ax = axs[index_])\n",
    "#     plt.title(f'{feature}_')\n",
    "    print(test_df[feature].value_counts())"
   ]
  },
  {
   "cell_type": "markdown",
   "id": "fe443b7d",
   "metadata": {},
   "source": [
    "# 3. 데이터 조작"
   ]
  },
  {
   "cell_type": "markdown",
   "id": "18814bc0",
   "metadata": {},
   "source": [
    "## 1) price값 로그변환"
   ]
  },
  {
   "cell_type": "code",
   "execution_count": 38,
   "id": "08e483c6",
   "metadata": {},
   "outputs": [
    {
     "data": {
      "text/plain": [
       "<AxesSubplot:xlabel='price', ylabel='Count'>"
      ]
     },
     "execution_count": 38,
     "metadata": {},
     "output_type": "execute_result"
    },
    {
     "data": {
      "image/png": "[encoded data removed]",
      "text/plain": [
       "<Figure size 432x288 with 1 Axes>"
      ]
     },
     "metadata": {
      "needs_background": "light"
     },
     "output_type": "display_data"
    }
   ],
   "source": [
    "log_train_df = train_df.copy()\n",
    "\n",
    "log_train_df['price'] = np.log1p(log_train_df['price'])\n",
    "sns.histplot(log_train_df['price'])"
   ]
  },
  {
   "cell_type": "markdown",
   "id": "be1f9dd0",
   "metadata": {},
   "source": [
    "## 2) null값 채우기"
   ]
  },
  {
   "cell_type": "code",
   "execution_count": 40,
   "id": "25e33de1",
   "metadata": {},
   "outputs": [
    {
     "data": {
      "text/plain": [
       "train_id                  0\n",
       "name                      0\n",
       "item_condition_id         0\n",
       "category_name          6327\n",
       "brand_name           632682\n",
       "price                     0\n",
       "shipping                  0\n",
       "item_description          4\n",
       "dtype: int64"
      ]
     },
     "execution_count": 40,
     "metadata": {},
     "output_type": "execute_result"
    }
   ],
   "source": [
    "log_train_df.isnull().sum()"
   ]
  },
  {
   "cell_type": "markdown",
   "id": "5f973502",
   "metadata": {},
   "source": [
    "### category_name , brand_name, item_description 확인"
   ]
  },
  {
   "cell_type": "code",
   "execution_count": 47,
   "id": "b43cc3f5",
   "metadata": {},
   "outputs": [
    {
     "data": {
      "text/plain": [
       "PINK                    54088\n",
       "Nike                    54043\n",
       "Victoria's Secret       48036\n",
       "LuLaRoe                 31024\n",
       "Apple                   17322\n",
       "                        ...  \n",
       "The Learning Journey        1\n",
       "Pampers Baby Fresh          1\n",
       "Huggies One & Done          1\n",
       "Classic Media               1\n",
       "Kids Only                   1\n",
       "Name: brand_name, Length: 4809, dtype: int64"
      ]
     },
     "execution_count": 47,
     "metadata": {},
     "output_type": "execute_result"
    }
   ],
   "source": [
    "log_train_df['brand_name'].value_counts()"
   ]
  },
  {
   "cell_type": "code",
   "execution_count": 48,
   "id": "80092656",
   "metadata": {},
   "outputs": [
    {
     "data": {
      "text/plain": [
       "No description yet                                                                                                                                                                                                                                                                                                                                                                                                                                                                                                                                                                                                                                                                                                                                                                                                                                                                                                              82489\n",
       "New                                                                                                                                                                                                                                                                                                                                                                                                                                                                                                                                                                                                                                                                                                                                                                                                                                                                                                                              4099\n",
       "Brand new                                                                                                                                                                                                                                                                                                                                                                                                                                                                                                                                                                                                                                                                                                                                                                                                                                                                                                                        3058\n",
       "Good condition                                                                                                                                                                                                                                                                                                                                                                                                                                                                                                                                                                                                                                                                                                                                                                                                                                                                                                                   1274\n",
       "Great condition                                                                                                                                                                                                                                                                                                                                                                                                                                                                                                                                                                                                                                                                                                                                                                                                                                                                                                                  1158\n",
       "                                                                                                                                                                                                                                                                                                                                                                                                                                                                                                                                                                                                                                                                                                                                                                                                                                                                                                                                ...  \n",
       "Well made denim vest with studs. Size small. Cute vest perfect over a dress or shirt. Korean brand                                                                                                                                                                                                                                                                                                                                                                                                                                                                                                                                                                                                                                                                                                                                                                                                                                  1\n",
       "1\" buttons, price is firm and is homemade :D                                                                                                                                                                                                                                                                                                                                                                                                                                                                                                                                                                                                                                                                                                                                                                                                                                                                                        1\n",
       "This skirt is new with tags and a great print for fall! Cross posted Skirt/shirt/scarf/fall/winter/women's/juniors *CHECK OUT MY DAILY DEALS* SUNDAY SALE! 2PM - 10PM EST SAVE [rm] off every item. BUY MORE SAVE MORE. Buy 2 items get [rm] off each item. Limit 5 items/[rm] off each. MONDAY FUNDAY! [rm] off when you purchase 2 or more items from my shop! 10AM-2PM EST ONLY. [rm] TUESDAY! [rm] off any legging purchase including singles, sets, and outfits. No Limit. ALL DAY. WACKY WEDNESDAY! [rm] off any outfit, set or skirt purchase 12PM-7PM EST ONLY. THIRSTY THURSDAY HAPPY HOUR! Free gift with every purchase 4PM-6PM EST ONLY. FREEBIE FRIDAY! Mystery savings coupon with any purchase for future use! All day! EVERY ITEM EVEN IF YOU DONT SEE THIS POST IN DETAILS. How it works: Comment sold on the items you want & allow me to change prices when you're finished shopping. Thanks for looking!        1\n",
       "Victoria Secret Boyfriend fit pants. Bling Logo graphic \"VS\" on leg. RETAIL [rm] ✔NEW WITH TAGS ✔SIZE MEDIUM ✔ Check out my other listings!!  Tons of VS PINK, VICTORIA'S SECRET, and other name brands! ✔ BUNDLE DISCOUNTS!                                                                                                                                                                                                                                                                                                                                                                                                                                                                                                                                                                                                                                                                                                        1\n",
       "New with tag, red with sparkle. Firm price, no free shipping.                                                                                                                                                                                                                                                                                                                                                                                                                                                                                                                                                                                                                                                                                                                                                                                                                                                                       1\n",
       "Name: item_description, Length: 1281426, dtype: int64"
      ]
     },
     "execution_count": 48,
     "metadata": {},
     "output_type": "execute_result"
    }
   ],
   "source": [
    "log_train_df['item_description'].value_counts()"
   ]
  },
  {
   "cell_type": "code",
   "execution_count": 50,
   "id": "ebd7d058",
   "metadata": {},
   "outputs": [
    {
     "data": {
      "text/html": [
       "<div>\n",
       "<style scoped>\n",
       "    .dataframe tbody tr th:only-of-type {\n",
       "        vertical-align: middle;\n",
       "    }\n",
       "\n",
       "    .dataframe tbody tr th {\n",
       "        vertical-align: top;\n",
       "    }\n",
       "\n",
       "    .dataframe thead th {\n",
       "        text-align: right;\n",
       "    }\n",
       "</style>\n",
       "<table border=\"1\" class=\"dataframe\">\n",
       "  <thead>\n",
       "    <tr style=\"text-align: right;\">\n",
       "      <th></th>\n",
       "      <th>train_id</th>\n",
       "      <th>name</th>\n",
       "      <th>item_condition_id</th>\n",
       "      <th>category_name</th>\n",
       "      <th>brand_name</th>\n",
       "      <th>price</th>\n",
       "      <th>shipping</th>\n",
       "      <th>item_description</th>\n",
       "    </tr>\n",
       "  </thead>\n",
       "  <tbody>\n",
       "    <tr>\n",
       "      <th>511535</th>\n",
       "      <td>511535</td>\n",
       "      <td>Shoes for Michelle</td>\n",
       "      <td>4</td>\n",
       "      <td>Kids/Girls 0-24 Mos/Shoes</td>\n",
       "      <td>NaN</td>\n",
       "      <td>2.302585</td>\n",
       "      <td>0</td>\n",
       "      <td>NaN</td>\n",
       "    </tr>\n",
       "    <tr>\n",
       "      <th>861230</th>\n",
       "      <td>861230</td>\n",
       "      <td>Lipgloss</td>\n",
       "      <td>4</td>\n",
       "      <td>Beauty/Makeup/Lips</td>\n",
       "      <td>NaN</td>\n",
       "      <td>3.912023</td>\n",
       "      <td>0</td>\n",
       "      <td>NaN</td>\n",
       "    </tr>\n",
       "    <tr>\n",
       "      <th>1224924</th>\n",
       "      <td>1224924</td>\n",
       "      <td>Disney Minnie Head band</td>\n",
       "      <td>3</td>\n",
       "      <td>Women/Women's Accessories/Hair Accessories</td>\n",
       "      <td>Disney</td>\n",
       "      <td>2.302585</td>\n",
       "      <td>0</td>\n",
       "      <td>NaN</td>\n",
       "    </tr>\n",
       "    <tr>\n",
       "      <th>1264242</th>\n",
       "      <td>1264242</td>\n",
       "      <td>For Bianca</td>\n",
       "      <td>3</td>\n",
       "      <td>Women/Women's Accessories/Scarves &amp; Wraps</td>\n",
       "      <td>NaN</td>\n",
       "      <td>2.397895</td>\n",
       "      <td>1</td>\n",
       "      <td>NaN</td>\n",
       "    </tr>\n",
       "  </tbody>\n",
       "</table>\n",
       "</div>"
      ],
      "text/plain": [
       "         train_id                     name  item_condition_id  \\\n",
       "511535     511535       Shoes for Michelle                  4   \n",
       "861230     861230                 Lipgloss                  4   \n",
       "1224924   1224924  Disney Minnie Head band                  3   \n",
       "1264242   1264242               For Bianca                  3   \n",
       "\n",
       "                                      category_name brand_name     price  \\\n",
       "511535                    Kids/Girls 0-24 Mos/Shoes        NaN  2.302585   \n",
       "861230                           Beauty/Makeup/Lips        NaN  3.912023   \n",
       "1224924  Women/Women's Accessories/Hair Accessories     Disney  2.302585   \n",
       "1264242   Women/Women's Accessories/Scarves & Wraps        NaN  2.397895   \n",
       "\n",
       "         shipping item_description  \n",
       "511535          0              NaN  \n",
       "861230          0              NaN  \n",
       "1224924         0              NaN  \n",
       "1264242         1              NaN  "
      ]
     },
     "execution_count": 50,
     "metadata": {},
     "output_type": "execute_result"
    }
   ],
   "source": [
    "log_train_df[log_train_df['item_description'].isnull() == True]"
   ]
  },
  {
   "cell_type": "code",
   "execution_count": 51,
   "id": "de686245",
   "metadata": {},
   "outputs": [
    {
     "data": {
      "text/html": [
       "<div>\n",
       "<style scoped>\n",
       "    .dataframe tbody tr th:only-of-type {\n",
       "        vertical-align: middle;\n",
       "    }\n",
       "\n",
       "    .dataframe tbody tr th {\n",
       "        vertical-align: top;\n",
       "    }\n",
       "\n",
       "    .dataframe thead th {\n",
       "        text-align: right;\n",
       "    }\n",
       "</style>\n",
       "<table border=\"1\" class=\"dataframe\">\n",
       "  <thead>\n",
       "    <tr style=\"text-align: right;\">\n",
       "      <th></th>\n",
       "      <th>train_id</th>\n",
       "      <th>name</th>\n",
       "      <th>item_condition_id</th>\n",
       "      <th>category_name</th>\n",
       "      <th>brand_name</th>\n",
       "      <th>price</th>\n",
       "      <th>shipping</th>\n",
       "      <th>item_description</th>\n",
       "    </tr>\n",
       "  </thead>\n",
       "  <tbody>\n",
       "    <tr>\n",
       "      <th>0</th>\n",
       "      <td>0</td>\n",
       "      <td>MLB Cincinnati Reds T Shirt Size XL</td>\n",
       "      <td>3</td>\n",
       "      <td>Men/Tops/T-shirts</td>\n",
       "      <td>NaN</td>\n",
       "      <td>2.397895</td>\n",
       "      <td>1</td>\n",
       "      <td>No description yet</td>\n",
       "    </tr>\n",
       "    <tr>\n",
       "      <th>13</th>\n",
       "      <td>13</td>\n",
       "      <td>Sharpener and eraser</td>\n",
       "      <td>1</td>\n",
       "      <td>Other/Office supplies/School Supplies</td>\n",
       "      <td>Scholastic</td>\n",
       "      <td>1.609438</td>\n",
       "      <td>1</td>\n",
       "      <td>No description yet</td>\n",
       "    </tr>\n",
       "    <tr>\n",
       "      <th>31</th>\n",
       "      <td>31</td>\n",
       "      <td>New Lularoe OS leggings, stars</td>\n",
       "      <td>1</td>\n",
       "      <td>Women/Athletic Apparel/Pants, Tights, Leggings</td>\n",
       "      <td>NaN</td>\n",
       "      <td>3.931826</td>\n",
       "      <td>1</td>\n",
       "      <td>No description yet</td>\n",
       "    </tr>\n",
       "    <tr>\n",
       "      <th>90</th>\n",
       "      <td>90</td>\n",
       "      <td>Jewel holder</td>\n",
       "      <td>2</td>\n",
       "      <td>Home/Storage &amp; Organization/Jewelry Boxes &amp; Or...</td>\n",
       "      <td>Target</td>\n",
       "      <td>2.079442</td>\n",
       "      <td>1</td>\n",
       "      <td>No description yet</td>\n",
       "    </tr>\n",
       "    <tr>\n",
       "      <th>117</th>\n",
       "      <td>117</td>\n",
       "      <td>Eyeko liquid eyeliner</td>\n",
       "      <td>1</td>\n",
       "      <td>Beauty/Makeup/Eyes</td>\n",
       "      <td>NaN</td>\n",
       "      <td>1.791759</td>\n",
       "      <td>1</td>\n",
       "      <td>No description yet</td>\n",
       "    </tr>\n",
       "    <tr>\n",
       "      <th>...</th>\n",
       "      <td>...</td>\n",
       "      <td>...</td>\n",
       "      <td>...</td>\n",
       "      <td>...</td>\n",
       "      <td>...</td>\n",
       "      <td>...</td>\n",
       "      <td>...</td>\n",
       "      <td>...</td>\n",
       "    </tr>\n",
       "    <tr>\n",
       "      <th>1482430</th>\n",
       "      <td>1482430</td>\n",
       "      <td>Nike Jordan's 5c</td>\n",
       "      <td>3</td>\n",
       "      <td>Kids/Girls 2T-5T/Shoes</td>\n",
       "      <td>Nike</td>\n",
       "      <td>2.708050</td>\n",
       "      <td>0</td>\n",
       "      <td>No description yet</td>\n",
       "    </tr>\n",
       "    <tr>\n",
       "      <th>1482447</th>\n",
       "      <td>1482447</td>\n",
       "      <td>Wet n Wild Eyelashes</td>\n",
       "      <td>2</td>\n",
       "      <td>Beauty/Makeup/Eyes</td>\n",
       "      <td>Wet n Wild</td>\n",
       "      <td>1.386294</td>\n",
       "      <td>1</td>\n",
       "      <td>No description yet</td>\n",
       "    </tr>\n",
       "    <tr>\n",
       "      <th>1482470</th>\n",
       "      <td>1482470</td>\n",
       "      <td>Adidas ultra boost</td>\n",
       "      <td>2</td>\n",
       "      <td>Men/Shoes/Athletic</td>\n",
       "      <td>Adidas</td>\n",
       "      <td>2.302585</td>\n",
       "      <td>0</td>\n",
       "      <td>No description yet</td>\n",
       "    </tr>\n",
       "    <tr>\n",
       "      <th>1482496</th>\n",
       "      <td>1482496</td>\n",
       "      <td>Benefit they're real mascara</td>\n",
       "      <td>1</td>\n",
       "      <td>Beauty/Makeup/Eyes</td>\n",
       "      <td>Benefit</td>\n",
       "      <td>2.197225</td>\n",
       "      <td>1</td>\n",
       "      <td>No description yet</td>\n",
       "    </tr>\n",
       "    <tr>\n",
       "      <th>1482498</th>\n",
       "      <td>1482498</td>\n",
       "      <td>Cupquake beauty rush mist ON HOLD</td>\n",
       "      <td>3</td>\n",
       "      <td>Beauty/Fragrance/Women</td>\n",
       "      <td>NaN</td>\n",
       "      <td>3.332205</td>\n",
       "      <td>0</td>\n",
       "      <td>No description yet</td>\n",
       "    </tr>\n",
       "  </tbody>\n",
       "</table>\n",
       "<p>82489 rows × 8 columns</p>\n",
       "</div>"
      ],
      "text/plain": [
       "         train_id                                 name  item_condition_id  \\\n",
       "0               0  MLB Cincinnati Reds T Shirt Size XL                  3   \n",
       "13             13                 Sharpener and eraser                  1   \n",
       "31             31       New Lularoe OS leggings, stars                  1   \n",
       "90             90                         Jewel holder                  2   \n",
       "117           117                Eyeko liquid eyeliner                  1   \n",
       "...           ...                                  ...                ...   \n",
       "1482430   1482430                     Nike Jordan's 5c                  3   \n",
       "1482447   1482447                 Wet n Wild Eyelashes                  2   \n",
       "1482470   1482470                   Adidas ultra boost                  2   \n",
       "1482496   1482496         Benefit they're real mascara                  1   \n",
       "1482498   1482498    Cupquake beauty rush mist ON HOLD                  3   \n",
       "\n",
       "                                             category_name  brand_name  \\\n",
       "0                                        Men/Tops/T-shirts         NaN   \n",
       "13                   Other/Office supplies/School Supplies  Scholastic   \n",
       "31          Women/Athletic Apparel/Pants, Tights, Leggings         NaN   \n",
       "90       Home/Storage & Organization/Jewelry Boxes & Or...      Target   \n",
       "117                                     Beauty/Makeup/Eyes         NaN   \n",
       "...                                                    ...         ...   \n",
       "1482430                             Kids/Girls 2T-5T/Shoes        Nike   \n",
       "1482447                                 Beauty/Makeup/Eyes  Wet n Wild   \n",
       "1482470                                 Men/Shoes/Athletic      Adidas   \n",
       "1482496                                 Beauty/Makeup/Eyes     Benefit   \n",
       "1482498                             Beauty/Fragrance/Women         NaN   \n",
       "\n",
       "            price  shipping    item_description  \n",
       "0        2.397895         1  No description yet  \n",
       "13       1.609438         1  No description yet  \n",
       "31       3.931826         1  No description yet  \n",
       "90       2.079442         1  No description yet  \n",
       "117      1.791759         1  No description yet  \n",
       "...           ...       ...                 ...  \n",
       "1482430  2.708050         0  No description yet  \n",
       "1482447  1.386294         1  No description yet  \n",
       "1482470  2.302585         0  No description yet  \n",
       "1482496  2.197225         1  No description yet  \n",
       "1482498  3.332205         0  No description yet  \n",
       "\n",
       "[82489 rows x 8 columns]"
      ]
     },
     "execution_count": 51,
     "metadata": {},
     "output_type": "execute_result"
    }
   ],
   "source": [
    "log_train_df[log_train_df['item_description'] == 'No description yet']"
   ]
  },
  {
   "cell_type": "code",
   "execution_count": 53,
   "id": "b1065891",
   "metadata": {},
   "outputs": [
    {
     "data": {
      "text/html": [
       "<div>\n",
       "<style scoped>\n",
       "    .dataframe tbody tr th:only-of-type {\n",
       "        vertical-align: middle;\n",
       "    }\n",
       "\n",
       "    .dataframe tbody tr th {\n",
       "        vertical-align: top;\n",
       "    }\n",
       "\n",
       "    .dataframe thead th {\n",
       "        text-align: right;\n",
       "    }\n",
       "</style>\n",
       "<table border=\"1\" class=\"dataframe\">\n",
       "  <thead>\n",
       "    <tr style=\"text-align: right;\">\n",
       "      <th></th>\n",
       "      <th>train_id</th>\n",
       "      <th>name</th>\n",
       "      <th>item_condition_id</th>\n",
       "      <th>category_name</th>\n",
       "      <th>brand_name</th>\n",
       "      <th>price</th>\n",
       "      <th>shipping</th>\n",
       "      <th>item_description</th>\n",
       "    </tr>\n",
       "  </thead>\n",
       "  <tbody>\n",
       "    <tr>\n",
       "      <th>0</th>\n",
       "      <td>0</td>\n",
       "      <td>MLB Cincinnati Reds T Shirt Size XL</td>\n",
       "      <td>3</td>\n",
       "      <td>Men/Tops/T-shirts</td>\n",
       "      <td>NaN</td>\n",
       "      <td>2.397895</td>\n",
       "      <td>1</td>\n",
       "      <td>No description yet</td>\n",
       "    </tr>\n",
       "    <tr>\n",
       "      <th>3</th>\n",
       "      <td>3</td>\n",
       "      <td>Leather Horse Statues</td>\n",
       "      <td>1</td>\n",
       "      <td>Home/Home Décor/Home Décor Accents</td>\n",
       "      <td>NaN</td>\n",
       "      <td>3.583519</td>\n",
       "      <td>1</td>\n",
       "      <td>New with tags. Leather horses. Retail for [rm]...</td>\n",
       "    </tr>\n",
       "    <tr>\n",
       "      <th>4</th>\n",
       "      <td>4</td>\n",
       "      <td>24K GOLD plated rose</td>\n",
       "      <td>1</td>\n",
       "      <td>Women/Jewelry/Necklaces</td>\n",
       "      <td>NaN</td>\n",
       "      <td>3.806662</td>\n",
       "      <td>0</td>\n",
       "      <td>Complete with certificate of authenticity</td>\n",
       "    </tr>\n",
       "    <tr>\n",
       "      <th>5</th>\n",
       "      <td>5</td>\n",
       "      <td>Bundled items requested for Ruie</td>\n",
       "      <td>3</td>\n",
       "      <td>Women/Other/Other</td>\n",
       "      <td>NaN</td>\n",
       "      <td>4.094345</td>\n",
       "      <td>0</td>\n",
       "      <td>Banana republic bottoms, Candies skirt with ma...</td>\n",
       "    </tr>\n",
       "    <tr>\n",
       "      <th>9</th>\n",
       "      <td>9</td>\n",
       "      <td>Porcelain clown doll checker pants VTG</td>\n",
       "      <td>3</td>\n",
       "      <td>Vintage &amp; Collectibles/Collectibles/Doll</td>\n",
       "      <td>NaN</td>\n",
       "      <td>2.197225</td>\n",
       "      <td>0</td>\n",
       "      <td>I realized his pants are on backwards after th...</td>\n",
       "    </tr>\n",
       "    <tr>\n",
       "      <th>...</th>\n",
       "      <td>...</td>\n",
       "      <td>...</td>\n",
       "      <td>...</td>\n",
       "      <td>...</td>\n",
       "      <td>...</td>\n",
       "      <td>...</td>\n",
       "      <td>...</td>\n",
       "      <td>...</td>\n",
       "    </tr>\n",
       "    <tr>\n",
       "      <th>1482526</th>\n",
       "      <td>1482526</td>\n",
       "      <td>Harry Potter Shirt! Women M/ Girl XL</td>\n",
       "      <td>2</td>\n",
       "      <td>Women/Tops &amp; Blouses/T-Shirts</td>\n",
       "      <td>NaN</td>\n",
       "      <td>2.564949</td>\n",
       "      <td>0</td>\n",
       "      <td>Great Harry Potter Shirt! \"Hogwarts, School of...</td>\n",
       "    </tr>\n",
       "    <tr>\n",
       "      <th>1482527</th>\n",
       "      <td>1482527</td>\n",
       "      <td>Blk/white ribbed mock neck bodysuit M</td>\n",
       "      <td>1</td>\n",
       "      <td>Women/Tops &amp; Blouses/Blouse</td>\n",
       "      <td>NaN</td>\n",
       "      <td>2.397895</td>\n",
       "      <td>1</td>\n",
       "      <td>Brand new black and white ribbed mock neck bod...</td>\n",
       "    </tr>\n",
       "    <tr>\n",
       "      <th>1482532</th>\n",
       "      <td>1482532</td>\n",
       "      <td>21 day fix containers and eating plan</td>\n",
       "      <td>2</td>\n",
       "      <td>Sports &amp; Outdoors/Exercise/Fitness accessories</td>\n",
       "      <td>NaN</td>\n",
       "      <td>2.564949</td>\n",
       "      <td>0</td>\n",
       "      <td>Used once or twice, still in great shape.</td>\n",
       "    </tr>\n",
       "    <tr>\n",
       "      <th>1482533</th>\n",
       "      <td>1482533</td>\n",
       "      <td>World markets lanterns</td>\n",
       "      <td>3</td>\n",
       "      <td>Home/Home Décor/Home Décor Accents</td>\n",
       "      <td>NaN</td>\n",
       "      <td>3.828641</td>\n",
       "      <td>1</td>\n",
       "      <td>There is 2 of each one that you see! So 2 red ...</td>\n",
       "    </tr>\n",
       "    <tr>\n",
       "      <th>1482534</th>\n",
       "      <td>1482534</td>\n",
       "      <td>Brand new lux de ville wallet</td>\n",
       "      <td>1</td>\n",
       "      <td>Women/Women's Accessories/Wallets</td>\n",
       "      <td>NaN</td>\n",
       "      <td>3.135494</td>\n",
       "      <td>0</td>\n",
       "      <td>New with tag, red with sparkle. Firm price, no...</td>\n",
       "    </tr>\n",
       "  </tbody>\n",
       "</table>\n",
       "<p>632682 rows × 8 columns</p>\n",
       "</div>"
      ],
      "text/plain": [
       "         train_id                                    name  item_condition_id  \\\n",
       "0               0     MLB Cincinnati Reds T Shirt Size XL                  3   \n",
       "3               3                   Leather Horse Statues                  1   \n",
       "4               4                    24K GOLD plated rose                  1   \n",
       "5               5        Bundled items requested for Ruie                  3   \n",
       "9               9  Porcelain clown doll checker pants VTG                  3   \n",
       "...           ...                                     ...                ...   \n",
       "1482526   1482526    Harry Potter Shirt! Women M/ Girl XL                  2   \n",
       "1482527   1482527   Blk/white ribbed mock neck bodysuit M                  1   \n",
       "1482532   1482532   21 day fix containers and eating plan                  2   \n",
       "1482533   1482533                  World markets lanterns                  3   \n",
       "1482534   1482534           Brand new lux de ville wallet                  1   \n",
       "\n",
       "                                          category_name brand_name     price  \\\n",
       "0                                     Men/Tops/T-shirts        NaN  2.397895   \n",
       "3                    Home/Home Décor/Home Décor Accents        NaN  3.583519   \n",
       "4                               Women/Jewelry/Necklaces        NaN  3.806662   \n",
       "5                                     Women/Other/Other        NaN  4.094345   \n",
       "9              Vintage & Collectibles/Collectibles/Doll        NaN  2.197225   \n",
       "...                                                 ...        ...       ...   \n",
       "1482526                   Women/Tops & Blouses/T-Shirts        NaN  2.564949   \n",
       "1482527                     Women/Tops & Blouses/Blouse        NaN  2.397895   \n",
       "1482532  Sports & Outdoors/Exercise/Fitness accessories        NaN  2.564949   \n",
       "1482533              Home/Home Décor/Home Décor Accents        NaN  3.828641   \n",
       "1482534               Women/Women's Accessories/Wallets        NaN  3.135494   \n",
       "\n",
       "         shipping                                   item_description  \n",
       "0               1                                 No description yet  \n",
       "3               1  New with tags. Leather horses. Retail for [rm]...  \n",
       "4               0          Complete with certificate of authenticity  \n",
       "5               0  Banana republic bottoms, Candies skirt with ma...  \n",
       "9               0  I realized his pants are on backwards after th...  \n",
       "...           ...                                                ...  \n",
       "1482526         0  Great Harry Potter Shirt! \"Hogwarts, School of...  \n",
       "1482527         1  Brand new black and white ribbed mock neck bod...  \n",
       "1482532         0          Used once or twice, still in great shape.  \n",
       "1482533         1  There is 2 of each one that you see! So 2 red ...  \n",
       "1482534         0  New with tag, red with sparkle. Firm price, no...  \n",
       "\n",
       "[632682 rows x 8 columns]"
      ]
     },
     "execution_count": 53,
     "metadata": {},
     "output_type": "execute_result"
    }
   ],
   "source": [
    "log_train_df[log_train_df['brand_name'].isnull() == True]"
   ]
  },
  {
   "cell_type": "code",
   "execution_count": 56,
   "id": "de93c61d",
   "metadata": {},
   "outputs": [
    {
     "data": {
      "text/html": [
       "<div>\n",
       "<style scoped>\n",
       "    .dataframe tbody tr th:only-of-type {\n",
       "        vertical-align: middle;\n",
       "    }\n",
       "\n",
       "    .dataframe tbody tr th {\n",
       "        vertical-align: top;\n",
       "    }\n",
       "\n",
       "    .dataframe thead th {\n",
       "        text-align: right;\n",
       "    }\n",
       "</style>\n",
       "<table border=\"1\" class=\"dataframe\">\n",
       "  <thead>\n",
       "    <tr style=\"text-align: right;\">\n",
       "      <th></th>\n",
       "      <th>train_id</th>\n",
       "      <th>name</th>\n",
       "      <th>item_condition_id</th>\n",
       "      <th>category_name</th>\n",
       "      <th>brand_name</th>\n",
       "      <th>price</th>\n",
       "      <th>shipping</th>\n",
       "      <th>item_description</th>\n",
       "    </tr>\n",
       "  </thead>\n",
       "  <tbody>\n",
       "    <tr>\n",
       "      <th>122</th>\n",
       "      <td>122</td>\n",
       "      <td>Bundle</td>\n",
       "      <td>3</td>\n",
       "      <td>NaN</td>\n",
       "      <td>NaN</td>\n",
       "      <td>4.094345</td>\n",
       "      <td>0</td>\n",
       "      <td>Sizes and info of clothes can be found on thei...</td>\n",
       "    </tr>\n",
       "    <tr>\n",
       "      <th>155</th>\n",
       "      <td>155</td>\n",
       "      <td>3 Nora Roberts Books</td>\n",
       "      <td>3</td>\n",
       "      <td>NaN</td>\n",
       "      <td>NaN</td>\n",
       "      <td>2.397895</td>\n",
       "      <td>1</td>\n",
       "      <td>For aferg16.</td>\n",
       "    </tr>\n",
       "    <tr>\n",
       "      <th>258</th>\n",
       "      <td>258</td>\n",
       "      <td>ACER Laptop</td>\n",
       "      <td>5</td>\n",
       "      <td>NaN</td>\n",
       "      <td>NaN</td>\n",
       "      <td>2.708050</td>\n",
       "      <td>0</td>\n",
       "      <td>Powers on, no screen display, no external dama...</td>\n",
       "    </tr>\n",
       "    <tr>\n",
       "      <th>984</th>\n",
       "      <td>984</td>\n",
       "      <td>AUTHENTIC BRWN MICHAEL KORS MAKEUP STAIN</td>\n",
       "      <td>4</td>\n",
       "      <td>NaN</td>\n",
       "      <td>Michael Kors</td>\n",
       "      <td>2.944439</td>\n",
       "      <td>0</td>\n",
       "      <td>No description yet</td>\n",
       "    </tr>\n",
       "    <tr>\n",
       "      <th>1185</th>\n",
       "      <td>1185</td>\n",
       "      <td>Teenage Mutant Ninja Turtle Van/ Extras</td>\n",
       "      <td>3</td>\n",
       "      <td>NaN</td>\n",
       "      <td>Nickelodeon</td>\n",
       "      <td>2.302585</td>\n",
       "      <td>0</td>\n",
       "      <td>Teenage Mutant Ninja Turtle Van, April O'Neil ...</td>\n",
       "    </tr>\n",
       "    <tr>\n",
       "      <th>...</th>\n",
       "      <td>...</td>\n",
       "      <td>...</td>\n",
       "      <td>...</td>\n",
       "      <td>...</td>\n",
       "      <td>...</td>\n",
       "      <td>...</td>\n",
       "      <td>...</td>\n",
       "      <td>...</td>\n",
       "    </tr>\n",
       "    <tr>\n",
       "      <th>1481249</th>\n",
       "      <td>1481249</td>\n",
       "      <td>Only For Erin. Do Not Buy</td>\n",
       "      <td>3</td>\n",
       "      <td>NaN</td>\n",
       "      <td>NaN</td>\n",
       "      <td>3.465736</td>\n",
       "      <td>0</td>\n",
       "      <td>No description yet</td>\n",
       "    </tr>\n",
       "    <tr>\n",
       "      <th>1481750</th>\n",
       "      <td>1481750</td>\n",
       "      <td>American Eagle Jeggings</td>\n",
       "      <td>2</td>\n",
       "      <td>NaN</td>\n",
       "      <td>American Eagle</td>\n",
       "      <td>2.890372</td>\n",
       "      <td>0</td>\n",
       "      <td>Worn a couple of time Size 4</td>\n",
       "    </tr>\n",
       "    <tr>\n",
       "      <th>1482252</th>\n",
       "      <td>1482252</td>\n",
       "      <td>Bundle For All Honey :)</td>\n",
       "      <td>3</td>\n",
       "      <td>NaN</td>\n",
       "      <td>NaN</td>\n",
       "      <td>3.713572</td>\n",
       "      <td>0</td>\n",
       "      <td>No description yet</td>\n",
       "    </tr>\n",
       "    <tr>\n",
       "      <th>1482443</th>\n",
       "      <td>1482443</td>\n",
       "      <td>HOLD 14g Purple Prong Nipple Bars Rings</td>\n",
       "      <td>1</td>\n",
       "      <td>NaN</td>\n",
       "      <td>NaN</td>\n",
       "      <td>3.135494</td>\n",
       "      <td>1</td>\n",
       "      <td>14g Purple Prong Set Nipple Bars Rings [surgic...</td>\n",
       "    </tr>\n",
       "    <tr>\n",
       "      <th>1482473</th>\n",
       "      <td>1482473</td>\n",
       "      <td>Puma Suede Emboss</td>\n",
       "      <td>2</td>\n",
       "      <td>NaN</td>\n",
       "      <td>PUMA</td>\n",
       "      <td>3.433987</td>\n",
       "      <td>1</td>\n",
       "      <td>Worn Once!!! Great condition!!!</td>\n",
       "    </tr>\n",
       "  </tbody>\n",
       "</table>\n",
       "<p>6327 rows × 8 columns</p>\n",
       "</div>"
      ],
      "text/plain": [
       "         train_id                                      name  \\\n",
       "122           122                                    Bundle   \n",
       "155           155                      3 Nora Roberts Books   \n",
       "258           258                               ACER Laptop   \n",
       "984           984  AUTHENTIC BRWN MICHAEL KORS MAKEUP STAIN   \n",
       "1185         1185   Teenage Mutant Ninja Turtle Van/ Extras   \n",
       "...           ...                                       ...   \n",
       "1481249   1481249                 Only For Erin. Do Not Buy   \n",
       "1481750   1481750                   American Eagle Jeggings   \n",
       "1482252   1482252                   Bundle For All Honey :)   \n",
       "1482443   1482443   HOLD 14g Purple Prong Nipple Bars Rings   \n",
       "1482473   1482473                         Puma Suede Emboss   \n",
       "\n",
       "         item_condition_id category_name      brand_name     price  shipping  \\\n",
       "122                      3           NaN             NaN  4.094345         0   \n",
       "155                      3           NaN             NaN  2.397895         1   \n",
       "258                      5           NaN             NaN  2.708050         0   \n",
       "984                      4           NaN    Michael Kors  2.944439         0   \n",
       "1185                     3           NaN     Nickelodeon  2.302585         0   \n",
       "...                    ...           ...             ...       ...       ...   \n",
       "1481249                  3           NaN             NaN  3.465736         0   \n",
       "1481750                  2           NaN  American Eagle  2.890372         0   \n",
       "1482252                  3           NaN             NaN  3.713572         0   \n",
       "1482443                  1           NaN             NaN  3.135494         1   \n",
       "1482473                  2           NaN            PUMA  3.433987         1   \n",
       "\n",
       "                                          item_description  \n",
       "122      Sizes and info of clothes can be found on thei...  \n",
       "155                                           For aferg16.  \n",
       "258      Powers on, no screen display, no external dama...  \n",
       "984                                     No description yet  \n",
       "1185     Teenage Mutant Ninja Turtle Van, April O'Neil ...  \n",
       "...                                                    ...  \n",
       "1481249                                 No description yet  \n",
       "1481750                       Worn a couple of time Size 4  \n",
       "1482252                                 No description yet  \n",
       "1482443  14g Purple Prong Set Nipple Bars Rings [surgic...  \n",
       "1482473                    Worn Once!!! Great condition!!!  \n",
       "\n",
       "[6327 rows x 8 columns]"
      ]
     },
     "execution_count": 56,
     "metadata": {},
     "output_type": "execute_result"
    }
   ],
   "source": [
    "log_train_df[log_train_df['category_name'].isnull() == True]"
   ]
  },
  {
   "cell_type": "code",
   "execution_count": 46,
   "id": "1299c86d",
   "metadata": {},
   "outputs": [
    {
     "data": {
      "text/plain": [
       "Women/Athletic Apparel/Pants, Tights, Leggings    60177\n",
       "Women/Tops & Blouses/T-Shirts                     46380\n",
       "Beauty/Makeup/Face                                34335\n",
       "Beauty/Makeup/Lips                                29910\n",
       "Electronics/Video Games & Consoles/Games          26557\n",
       "                                                  ...  \n",
       "Handmade/Dolls and Miniatures/Primitive               1\n",
       "Handmade/Pets/Tag                                     1\n",
       "Handmade/Patterns/Accessories                         1\n",
       "Home/Kids' Home Store/Nursery Furniture               1\n",
       "Handmade/Pets/Blanket                                 1\n",
       "Name: category_name, Length: 1287, dtype: int64"
      ]
     },
     "execution_count": 46,
     "metadata": {},
     "output_type": "execute_result"
    }
   ],
   "source": [
    "log_train_df['category_name'].value_counts()"
   ]
  },
  {
   "cell_type": "markdown",
   "id": "9e62eb82",
   "metadata": {},
   "source": [
    "### category_name / 기준으로 분류"
   ]
  },
  {
   "cell_type": "code",
   "execution_count": 55,
   "id": "6c741919",
   "metadata": {},
   "outputs": [
    {
     "data": {
      "text/plain": [
       "['Electronics', 'Computers & Tablets', 'Components & Parts']"
      ]
     },
     "execution_count": 55,
     "metadata": {},
     "output_type": "execute_result"
    }
   ],
   "source": [
    "log_train_df.loc[1, 'category_name'].split('/')"
   ]
  },
  {
   "cell_type": "code",
   "execution_count": 60,
   "id": "95bd2489",
   "metadata": {},
   "outputs": [
    {
     "data": {
      "text/plain": [
       "'Electronics'"
      ]
     },
     "execution_count": 60,
     "metadata": {},
     "output_type": "execute_result"
    }
   ],
   "source": [
    "log_train_df.loc[1, 'category_name'].split('/')[0]"
   ]
  },
  {
   "cell_type": "code",
   "execution_count": 59,
   "id": "6b08437c",
   "metadata": {},
   "outputs": [
    {
     "data": {
      "text/plain": [
       "nan"
      ]
     },
     "execution_count": 59,
     "metadata": {},
     "output_type": "execute_result"
    }
   ],
   "source": [
    "log_train_df.loc[122, 'category_name']"
   ]
  },
  {
   "cell_type": "markdown",
   "id": "2f603aaf",
   "metadata": {},
   "source": [
    "값 채우기"
   ]
  },
  {
   "cell_type": "code",
   "execution_count": 67,
   "id": "7ebee1f9",
   "metadata": {},
   "outputs": [
    {
     "data": {
      "text/html": [
       "<div>\n",
       "<style scoped>\n",
       "    .dataframe tbody tr th:only-of-type {\n",
       "        vertical-align: middle;\n",
       "    }\n",
       "\n",
       "    .dataframe tbody tr th {\n",
       "        vertical-align: top;\n",
       "    }\n",
       "\n",
       "    .dataframe thead th {\n",
       "        text-align: right;\n",
       "    }\n",
       "</style>\n",
       "<table border=\"1\" class=\"dataframe\">\n",
       "  <thead>\n",
       "    <tr style=\"text-align: right;\">\n",
       "      <th></th>\n",
       "      <th>train_id</th>\n",
       "      <th>name</th>\n",
       "      <th>item_condition_id</th>\n",
       "      <th>category_name</th>\n",
       "      <th>brand_name</th>\n",
       "      <th>price</th>\n",
       "      <th>shipping</th>\n",
       "      <th>item_description</th>\n",
       "      <th>category_대분류</th>\n",
       "      <th>category_중분류</th>\n",
       "      <th>category_소분류</th>\n",
       "    </tr>\n",
       "  </thead>\n",
       "  <tbody>\n",
       "    <tr>\n",
       "      <th>0</th>\n",
       "      <td>0</td>\n",
       "      <td>MLB Cincinnati Reds T Shirt Size XL</td>\n",
       "      <td>3</td>\n",
       "      <td>Men/Tops/T-shirts</td>\n",
       "      <td>NaN</td>\n",
       "      <td>2.397895</td>\n",
       "      <td>1</td>\n",
       "      <td>No description yet</td>\n",
       "      <td>Men</td>\n",
       "      <td>Tops</td>\n",
       "      <td>T-shirts</td>\n",
       "    </tr>\n",
       "    <tr>\n",
       "      <th>1</th>\n",
       "      <td>1</td>\n",
       "      <td>Razer BlackWidow Chroma Keyboard</td>\n",
       "      <td>3</td>\n",
       "      <td>Electronics/Computers &amp; Tablets/Components &amp; P...</td>\n",
       "      <td>Razer</td>\n",
       "      <td>3.970292</td>\n",
       "      <td>0</td>\n",
       "      <td>This keyboard is in great condition and works ...</td>\n",
       "      <td>Electronics</td>\n",
       "      <td>Computers &amp; Tablets</td>\n",
       "      <td>Components &amp; Parts</td>\n",
       "    </tr>\n",
       "    <tr>\n",
       "      <th>2</th>\n",
       "      <td>2</td>\n",
       "      <td>AVA-VIV Blouse</td>\n",
       "      <td>1</td>\n",
       "      <td>Women/Tops &amp; Blouses/Blouse</td>\n",
       "      <td>Target</td>\n",
       "      <td>2.397895</td>\n",
       "      <td>1</td>\n",
       "      <td>Adorable top with a hint of lace and a key hol...</td>\n",
       "      <td>Women</td>\n",
       "      <td>Tops &amp; Blouses</td>\n",
       "      <td>Blouse</td>\n",
       "    </tr>\n",
       "    <tr>\n",
       "      <th>3</th>\n",
       "      <td>3</td>\n",
       "      <td>Leather Horse Statues</td>\n",
       "      <td>1</td>\n",
       "      <td>Home/Home Décor/Home Décor Accents</td>\n",
       "      <td>NaN</td>\n",
       "      <td>3.583519</td>\n",
       "      <td>1</td>\n",
       "      <td>New with tags. Leather horses. Retail for [rm]...</td>\n",
       "      <td>Home</td>\n",
       "      <td>Home Décor</td>\n",
       "      <td>Home Décor Accents</td>\n",
       "    </tr>\n",
       "    <tr>\n",
       "      <th>4</th>\n",
       "      <td>4</td>\n",
       "      <td>24K GOLD plated rose</td>\n",
       "      <td>1</td>\n",
       "      <td>Women/Jewelry/Necklaces</td>\n",
       "      <td>NaN</td>\n",
       "      <td>3.806662</td>\n",
       "      <td>0</td>\n",
       "      <td>Complete with certificate of authenticity</td>\n",
       "      <td>Women</td>\n",
       "      <td>Jewelry</td>\n",
       "      <td>Necklaces</td>\n",
       "    </tr>\n",
       "  </tbody>\n",
       "</table>\n",
       "</div>"
      ],
      "text/plain": [
       "   train_id                                 name  item_condition_id  \\\n",
       "0         0  MLB Cincinnati Reds T Shirt Size XL                  3   \n",
       "1         1     Razer BlackWidow Chroma Keyboard                  3   \n",
       "2         2                       AVA-VIV Blouse                  1   \n",
       "3         3                Leather Horse Statues                  1   \n",
       "4         4                 24K GOLD plated rose                  1   \n",
       "\n",
       "                                       category_name brand_name     price  \\\n",
       "0                                  Men/Tops/T-shirts        NaN  2.397895   \n",
       "1  Electronics/Computers & Tablets/Components & P...      Razer  3.970292   \n",
       "2                        Women/Tops & Blouses/Blouse     Target  2.397895   \n",
       "3                 Home/Home Décor/Home Décor Accents        NaN  3.583519   \n",
       "4                            Women/Jewelry/Necklaces        NaN  3.806662   \n",
       "\n",
       "   shipping                                   item_description category_대분류  \\\n",
       "0         1                                 No description yet          Men   \n",
       "1         0  This keyboard is in great condition and works ...  Electronics   \n",
       "2         1  Adorable top with a hint of lace and a key hol...        Women   \n",
       "3         1  New with tags. Leather horses. Retail for [rm]...         Home   \n",
       "4         0          Complete with certificate of authenticity        Women   \n",
       "\n",
       "          category_중분류        category_소분류  \n",
       "0                 Tops            T-shirts  \n",
       "1  Computers & Tablets  Components & Parts  \n",
       "2       Tops & Blouses              Blouse  \n",
       "3           Home Décor  Home Décor Accents  \n",
       "4              Jewelry           Necklaces  "
      ]
     },
     "execution_count": 67,
     "metadata": {},
     "output_type": "execute_result"
    }
   ],
   "source": [
    "for ind in log_train_df.index:\n",
    "    try:\n",
    "        cat_li = log_train_df.loc[ind, 'category_name'].split('/')\n",
    "    except:\n",
    "        cat_li = ['Other_Null', 'Other_Null', 'Other_Null']\n",
    "    log_train_df.loc[ind, 'category_대분류'] = cat_li[0]\n",
    "    log_train_df.loc[ind, 'category_중분류'] = cat_li[1]\n",
    "    log_train_df.loc[ind, 'category_소분류'] = cat_li[2]\n",
    "    \n",
    "log_train_df.head()"
   ]
  },
  {
   "cell_type": "markdown",
   "id": "78738919",
   "metadata": {},
   "source": [
    "#### 대/중/소분류 값 확인"
   ]
  },
  {
   "cell_type": "code",
   "execution_count": 69,
   "id": "62f26623",
   "metadata": {},
   "outputs": [
    {
     "data": {
      "text/plain": [
       "Women                     664385\n",
       "Beauty                    207828\n",
       "Kids                      171689\n",
       "Electronics               122690\n",
       "Men                        93680\n",
       "Home                       67871\n",
       "Vintage & Collectibles     46530\n",
       "Other                      45351\n",
       "Handmade                   30842\n",
       "Sports & Outdoors          25342\n",
       "Other_Null                  6327\n",
       "Name: category_대분류, dtype: int64"
      ]
     },
     "execution_count": 69,
     "metadata": {},
     "output_type": "execute_result"
    }
   ],
   "source": [
    "log_train_df['category_대분류'].value_counts()"
   ]
  },
  {
   "cell_type": "code",
   "execution_count": 71,
   "id": "59a9fab0",
   "metadata": {},
   "outputs": [
    {
     "data": {
      "text/plain": [
       "114"
      ]
     },
     "execution_count": 71,
     "metadata": {},
     "output_type": "execute_result"
    }
   ],
   "source": [
    "log_train_df['category_중분류'].nunique()"
   ]
  },
  {
   "cell_type": "code",
   "execution_count": 72,
   "id": "f347d9f3",
   "metadata": {},
   "outputs": [
    {
     "data": {
      "text/plain": [
       "871"
      ]
     },
     "execution_count": 72,
     "metadata": {},
     "output_type": "execute_result"
    }
   ],
   "source": [
    "log_train_df['category_소분류'].nunique()"
   ]
  },
  {
   "cell_type": "markdown",
   "id": "f1482b57",
   "metadata": {},
   "source": [
    "#### 나머지 null값 채우기"
   ]
  },
  {
   "cell_type": "code",
   "execution_count": 73,
   "id": "e95914da",
   "metadata": {},
   "outputs": [
    {
     "data": {
      "text/plain": [
       "train_id             0\n",
       "name                 0\n",
       "item_condition_id    0\n",
       "category_name        0\n",
       "brand_name           0\n",
       "price                0\n",
       "shipping             0\n",
       "item_description     0\n",
       "category_대분류         0\n",
       "category_중분류         0\n",
       "category_소분류         0\n",
       "dtype: int64"
      ]
     },
     "execution_count": 73,
     "metadata": {},
     "output_type": "execute_result"
    }
   ],
   "source": [
    "log_train_df_null = log_train_df.copy()\n",
    "\n",
    "fill_null_li = ['category_name' , 'brand_name', 'item_description']\n",
    "\n",
    "for null_ in fill_null_li:\n",
    "    log_train_df_null[null_] = log_train_df_null[null_].fillna(value = 'Other_Null')\n",
    "    \n",
    "log_train_df_null.isnull().sum()"
   ]
  },
  {
   "cell_type": "markdown",
   "id": "8426b2b4",
   "metadata": {},
   "source": [
    "# 4. 피처 인코딩, 벡터화"
   ]
  },
  {
   "cell_type": "markdown",
   "id": "38de8263",
   "metadata": {},
   "source": [
    "## 1) 피처 인코딩"
   ]
  },
  {
   "cell_type": "markdown",
   "id": "b1cd0891",
   "metadata": {},
   "source": [
    "### 피처 값 개수 확인"
   ]
  },
  {
   "cell_type": "code",
   "execution_count": 76,
   "id": "67c82929",
   "metadata": {},
   "outputs": [
    {
     "name": "stdout",
     "output_type": "stream",
     "text": [
      "<class 'pandas.core.frame.DataFrame'>\n",
      "RangeIndex: 1482535 entries, 0 to 1482534\n",
      "Data columns (total 11 columns):\n",
      " #   Column             Non-Null Count    Dtype  \n",
      "---  ------             --------------    -----  \n",
      " 0   train_id           1482535 non-null  int64  \n",
      " 1   name               1482535 non-null  object \n",
      " 2   item_condition_id  1482535 non-null  int64  \n",
      " 3   category_name      1482535 non-null  object \n",
      " 4   brand_name         1482535 non-null  object \n",
      " 5   price              1482535 non-null  float64\n",
      " 6   shipping           1482535 non-null  int64  \n",
      " 7   item_description   1482535 non-null  object \n",
      " 8   category_대분류       1482535 non-null  object \n",
      " 9   category_중분류       1482535 non-null  object \n",
      " 10  category_소분류       1482535 non-null  object \n",
      "dtypes: float64(1), int64(3), object(7)\n",
      "memory usage: 124.4+ MB\n"
     ]
    }
   ],
   "source": [
    "log_train_df_null.info()"
   ]
  },
  {
   "cell_type": "code",
   "execution_count": 82,
   "id": "bbec875d",
   "metadata": {},
   "outputs": [
    {
     "name": "stdout",
     "output_type": "stream",
     "text": [
      "name의 유형\n",
      "피처 값 형태 : \n",
      " Bundle                                  2232\n",
      "Reserved                                 453\n",
      "Converse                                 445\n",
      "BUNDLE                                   418\n",
      "Dress                                    410\n",
      "                                        ... \n",
      "Medium Le Pliage Longchamp bag, pink       1\n",
      "Victoria secret dream angel heavenly       1\n",
      "American Eagle kickboot Khakis 8L          1\n",
      "Jack slippers                              1\n",
      "Brand new lux de ville wallet              1\n",
      "Name: name, Length: 1225273, dtype: int64\n",
      "\n",
      "brand_name의 유형\n",
      "피처 값 형태 : \n",
      " Other_Null              632682\n",
      "PINK                     54088\n",
      "Nike                     54043\n",
      "Victoria's Secret        48036\n",
      "LuLaRoe                  31024\n",
      "                         ...  \n",
      "The Learning Journey         1\n",
      "Pampers Baby Fresh           1\n",
      "Huggies One & Done           1\n",
      "Classic Media                1\n",
      "Kids Only                    1\n",
      "Name: brand_name, Length: 4810, dtype: int64\n",
      "\n",
      "item_description의 유형\n",
      "피처 값 형태 : \n",
      " No description yet                                                                                                                                                                                                                                                                                                                                                                                                                                                                                                                                                                                                                                                                                                                                                                                                                                                                                                              82489\n",
      "New                                                                                                                                                                                                                                                                                                                                                                                                                                                                                                                                                                                                                                                                                                                                                                                                                                                                                                                              4099\n",
      "Brand new                                                                                                                                                                                                                                                                                                                                                                                                                                                                                                                                                                                                                                                                                                                                                                                                                                                                                                                        3058\n",
      "Good condition                                                                                                                                                                                                                                                                                                                                                                                                                                                                                                                                                                                                                                                                                                                                                                                                                                                                                                                   1274\n",
      "Great condition                                                                                                                                                                                                                                                                                                                                                                                                                                                                                                                                                                                                                                                                                                                                                                                                                                                                                                                  1158\n",
      "                                                                                                                                                                                                                                                                                                                                                                                                                                                                                                                                                                                                                                                                                                                                                                                                                                                                                                                                ...  \n",
      "Well made denim vest with studs. Size small. Cute vest perfect over a dress or shirt. Korean brand                                                                                                                                                                                                                                                                                                                                                                                                                                                                                                                                                                                                                                                                                                                                                                                                                                  1\n",
      "1\" buttons, price is firm and is homemade :D                                                                                                                                                                                                                                                                                                                                                                                                                                                                                                                                                                                                                                                                                                                                                                                                                                                                                        1\n",
      "This skirt is new with tags and a great print for fall! Cross posted Skirt/shirt/scarf/fall/winter/women's/juniors *CHECK OUT MY DAILY DEALS* SUNDAY SALE! 2PM - 10PM EST SAVE [rm] off every item. BUY MORE SAVE MORE. Buy 2 items get [rm] off each item. Limit 5 items/[rm] off each. MONDAY FUNDAY! [rm] off when you purchase 2 or more items from my shop! 10AM-2PM EST ONLY. [rm] TUESDAY! [rm] off any legging purchase including singles, sets, and outfits. No Limit. ALL DAY. WACKY WEDNESDAY! [rm] off any outfit, set or skirt purchase 12PM-7PM EST ONLY. THIRSTY THURSDAY HAPPY HOUR! Free gift with every purchase 4PM-6PM EST ONLY. FREEBIE FRIDAY! Mystery savings coupon with any purchase for future use! All day! EVERY ITEM EVEN IF YOU DONT SEE THIS POST IN DETAILS. How it works: Comment sold on the items you want & allow me to change prices when you're finished shopping. Thanks for looking!        1\n",
      "Victoria Secret Boyfriend fit pants. Bling Logo graphic \"VS\" on leg. RETAIL [rm] ✔NEW WITH TAGS ✔SIZE MEDIUM ✔ Check out my other listings!!  Tons of VS PINK, VICTORIA'S SECRET, and other name brands! ✔ BUNDLE DISCOUNTS!                                                                                                                                                                                                                                                                                                                                                                                                                                                                                                                                                                                                                                                                                                        1\n",
      "New with tag, red with sparkle. Firm price, no free shipping.                                                                                                                                                                                                                                                                                                                                                                                                                                                                                                                                                                                                                                                                                                                                                                                                                                                                       1\n",
      "Name: item_description, Length: 1281427, dtype: int64\n",
      "\n"
     ]
    }
   ],
   "source": [
    "columns_ = ['name', 'brand_name', 'item_description']\n",
    "\n",
    "for column in columns_:\n",
    "    print(f'{column}의 유형')\n",
    "    print(f'피처 값 형태 : \\n {log_train_df_null[column].value_counts()}')\n",
    "    print()"
   ]
  },
  {
   "cell_type": "markdown",
   "id": "52f0d138",
   "metadata": {},
   "source": [
    "[인코딩, 벡터화 방법]\n",
    "\n",
    "name : 짧은 단어 위주_count 벡터화 <br>\n",
    "brand_name, category_대/중/소, shipping(카테고리형태_0, 1), item_condition(카테고리형태_1, 2, 3, 4, 5): 원_핫인코딩 <br>\n",
    "item_description : 문자열이 길어 TF-IDF 변환"
   ]
  },
  {
   "cell_type": "markdown",
   "id": "0f53959d",
   "metadata": {},
   "source": [
    "### name 컬럼 Count 벡터화"
   ]
  },
  {
   "cell_type": "code",
   "execution_count": 115,
   "id": "e2710528",
   "metadata": {},
   "outputs": [
    {
     "data": {
      "text/plain": [
       "(1482535, 105757)"
      ]
     },
     "execution_count": 115,
     "metadata": {},
     "output_type": "execute_result"
    }
   ],
   "source": [
    "from sklearn.feature_extraction.text import CountVectorizer\n",
    "\n",
    "# 객체 생성\n",
    "cnt_vec = CountVectorizer()\n",
    "\n",
    "# 최종 output 형태\n",
    "X_name = cnt_vec.fit_transform(log_train_df_null.name)\n",
    "\n",
    "X_name.shape"
   ]
  },
  {
   "cell_type": "markdown",
   "id": "9c0fbfcf",
   "metadata": {},
   "source": [
    "### item_description 컬럼 TF-IDF 벡터화"
   ]
  },
  {
   "cell_type": "code",
   "execution_count": 86,
   "id": "95e5003f",
   "metadata": {},
   "outputs": [
    {
     "data": {
      "text/plain": [
       "(1482535, 50000)"
      ]
     },
     "execution_count": 86,
     "metadata": {},
     "output_type": "execute_result"
    }
   ],
   "source": [
    "from sklearn.feature_extraction.text import TfidfVectorizer\n",
    "\n",
    "# 객체 생성\n",
    "tfid_desc = TfidfVectorizer(max_features = 50000, ngram_range = (1, 3), stop_words = 'english')\n",
    "\n",
    "# 최종 output 형태\n",
    "X_desc = tfid_desc.fit_transform(log_train_df_null['item_description'])\n",
    "\n",
    "X_desc.shape"
   ]
  },
  {
   "cell_type": "markdown",
   "id": "e39a41d7",
   "metadata": {},
   "source": [
    "※ name, item_description 벡터화 출력 값은 희소행렬 형태 <br>\n",
    "-> 나머지 원핫 인코딩 후 형태도 희소행렬 형태로 변환 필요\n",
    "\n",
    "*LabelBinarizer 클래스 : 사이킷런에서 제공하는 원 - 핫 인코딩 클래스로 희소 행렬 형태로 출력해줌 <br>\n",
    "이때, 파라미터 값을 sparse_out = True로 설정 "
   ]
  },
  {
   "cell_type": "markdown",
   "id": "37e4e54b",
   "metadata": {},
   "source": [
    "### 나머지 컬럼 희소행렬 형태의 One_Hot 인코딩 변환"
   ]
  },
  {
   "cell_type": "code",
   "execution_count": 89,
   "id": "31e19091",
   "metadata": {},
   "outputs": [],
   "source": [
    "from sklearn.preprocessing import LabelBinarizer\n",
    "\n",
    "# 함수 생성\n",
    "def change_one_hot(column):\n",
    "    lb_ = LabelBinarizer(sparse_output=True)\n",
    "    X_column = lb_.fit_transform(log_train_df_null[column])\n",
    "    \n",
    "    return X_column\n",
    "\n",
    "# 함수 대입\n",
    "X_brand = change_one_hot('brand_name')\n",
    "X_cate_대분류 = change_one_hot('category_대분류')\n",
    "X_cate_중분류 = change_one_hot('category_중분류')\n",
    "X_cate_소분류 = change_one_hot('category_소분류')\n",
    "X_shipping = change_one_hot('shipping')\n",
    "X_con = change_one_hot('item_condition_id')    "
   ]
  },
  {
   "cell_type": "markdown",
   "id": "e0274c5d",
   "metadata": {},
   "source": [
    "#### 변환 값 확인"
   ]
  },
  {
   "cell_type": "code",
   "execution_count": 91,
   "id": "4194a7e5",
   "metadata": {},
   "outputs": [
    {
     "name": "stdout",
     "output_type": "stream",
     "text": [
      "<class 'scipy.sparse.csr.csr_matrix'> <class 'scipy.sparse.csr.csr_matrix'> <class 'scipy.sparse.csr.csr_matrix'>\n",
      "(1482535, 4810)\n",
      "(1482535, 11)\n",
      "(1482535, 114)\n",
      "(1482535, 871)\n",
      "(1482535, 1)\n",
      "(1482535, 5)\n"
     ]
    }
   ],
   "source": [
    "print(type(X_brand), type(X_con), type(X_shipping))\n",
    "\n",
    "for i in [X_brand, X_cate_대분류, X_cate_중분류, X_cate_소분류, X_shipping, X_con]:\n",
    "    print(f'{i.shape}')"
   ]
  },
  {
   "cell_type": "markdown",
   "id": "2806a08a",
   "metadata": {},
   "source": [
    "#### 데이터 결합\n",
    "- hstack()을 이용해 결합_메모리 차지를 많이해서 생략\n",
    "- 총 데이터 크기(1482535, 161569)"
   ]
  },
  {
   "cell_type": "code",
   "execution_count": null,
   "id": "a7eda6c2",
   "metadata": {},
   "outputs": [],
   "source": [
    "# hstack 사용 코드\n",
    "hstack([인코딩, 벡터화한 컬럼 리스트]).tocsr()\n",
    "# 지울때\n",
    "del hstack([인코딩, 벡터화한 컬럼 리스트]).tocsr()\n",
    "gc.collect()"
   ]
  },
  {
   "cell_type": "markdown",
   "id": "e5a29c68",
   "metadata": {},
   "source": [
    "# 5. 릿지 회귀 모델 구축 및 평가"
   ]
  },
  {
   "cell_type": "markdown",
   "id": "c34e1d91",
   "metadata": {},
   "source": [
    "평가 방법 : RMSLE"
   ]
  },
  {
   "cell_type": "code",
   "execution_count": 109,
   "id": "2f21b44e",
   "metadata": {},
   "outputs": [],
   "source": [
    "# RMSLE 방식 사용\n",
    "\n",
    "def rmsle(y, y_pred):\n",
    "    return np.sqrt(np.mean(np.power(np.log1p(y)-np.log1p(y_pred), 2))) # 오류값에 로그를 취해 RMSE를 구하는 방식 \n",
    "\n",
    "\n",
    "def evaluate_org_price(y_test, preds):\n",
    "    \n",
    "    # (1) 로그변환 전 다시 원복\n",
    "    preds_exmpm = np.expm1(preds) \n",
    "    y_test_exmpm = np.expm1(y_test)\n",
    "    \n",
    "    rmslt_result = rmsle(y_test_exmpm, preds_exmpm) # 여기서 로그변환을 위해 (1)을 수행\n",
    "    return rmslt_result"
   ]
  },
  {
   "cell_type": "markdown",
   "id": "8409b88e",
   "metadata": {},
   "source": [
    "모델 학습/예측"
   ]
  },
  {
   "cell_type": "code",
   "execution_count": 110,
   "id": "8c62d456",
   "metadata": {},
   "outputs": [],
   "source": [
    "# 훈련용, 테스트용 나누기\n",
    "\n",
    "# 여기서 hstack 사용해 test용 train용 추출\n",
    "from scipy.sparse import hstack\n",
    "import gc\n",
    "\n",
    "from sklearn.model_selection import train_test_split, cross_val_score\n",
    "\n",
    "def model_train_predict(model, matrix_list):\n",
    "    #희소행렬 형태의 컬럼 결합\n",
    "    \n",
    "    X = hstack(matrix_list).tocsr() # 한번에 여러컬럼을 밀집행렬로 변환\n",
    "    \n",
    "    X_train, X_test, y_train, y_test = train_test_split(X, log_train_df_null['price'], test_size = 0.2, random_state = 156)\n",
    "    \n",
    "    # 모델 학습 및 예측\n",
    "    \n",
    "    model.fit(X_train, y_train)\n",
    "    preds = model.predict(X_test)\n",
    "    \n",
    "    del X, X_train, X_test, y_train\n",
    "    gc.collect()\n",
    "    \n",
    "    return preds, y_test"
   ]
  },
  {
   "cell_type": "markdown",
   "id": "5386ee41",
   "metadata": {},
   "source": [
    "## [적용]"
   ]
  },
  {
   "cell_type": "markdown",
   "id": "0962c49d",
   "metadata": {},
   "source": [
    "릿지 사용"
   ]
  },
  {
   "cell_type": "code",
   "execution_count": 111,
   "id": "7079ed75",
   "metadata": {},
   "outputs": [
    {
     "data": {
      "text/plain": [
       "Index(['train_id', 'name', 'item_condition_id', 'category_name', 'brand_name',\n",
       "       'price', 'shipping', 'item_description', 'category_대분류', 'category_중분류',\n",
       "       'category_소분류'],\n",
       "      dtype='object')"
      ]
     },
     "execution_count": 111,
     "metadata": {},
     "output_type": "execute_result"
    }
   ],
   "source": [
    "log_train_df_null.columns"
   ]
  },
  {
   "cell_type": "code",
   "execution_count": 118,
   "id": "500216ae",
   "metadata": {},
   "outputs": [
    {
     "name": "stdout",
     "output_type": "stream",
     "text": [
      "Item Description 을 제외했을 때 rmsle값\n",
      "0.5825744319395965 \n",
      "\n",
      "Item Description 을 포함했을 때 rmsle값\n",
      "0.5168790239876937\n"
     ]
    }
   ],
   "source": [
    "from sklearn.linear_model import Ridge, LogisticRegression\n",
    "\n",
    "linear_model = Ridge(solver = 'lsqr', fit_intercept = False) #lsqr : 전용 정규화된 최소 제곱 루틴 scipy.sparse.linalg.lsqr을 사용, 가장 빠르며 반복적 인 절차를 사용\n",
    "\n",
    "# 1. 상품 설명 제외하고 넣어보기 (텍스트 형태의 속성이 얼마나 영향을 미치는지 확인)\n",
    "sparse_matrix_list = (X_brand, X_con, X_shipping, X_cate_대분류, X_cate_중분류, X_cate_소분류)\n",
    "# X_brand, X_con, X_shipping, X_cate_대분류, X_cate_중분류, X_cate_소분류\n",
    "\n",
    "# 함수 적용(모델 분류)\n",
    "linear_preds, y_test = model_train_predict(model = linear_model, matrix_list = sparse_matrix_list)\n",
    "\n",
    "print('Item Description 을 제외했을 때 rmsle값')\n",
    "# rmsle 함수 적용\n",
    "print(evaluate_org_price(y_test, linear_preds), '\\n')\n",
    "\n",
    "# 2. 상품 설명 포함하고 넣어보기\n",
    "sparse_matrix_list = (X_brand, X_desc, X_con, X_shipping, X_cate_대분류, X_cate_중분류, X_cate_소분류)\n",
    "\n",
    "linear_preds, y_test = model_train_predict(model = linear_model, matrix_list = sparse_matrix_list)\n",
    "\n",
    "print('Item Description 을 포함했을 때 rmsle값')\n",
    "# rmsle 함수 적용\n",
    "print(evaluate_org_price(y_test, linear_preds))"
   ]
  },
  {
   "cell_type": "markdown",
   "id": "fe7229bf",
   "metadata": {},
   "source": [
    "[최종 예측 평가]"
   ]
  },
  {
   "cell_type": "code",
   "execution_count": 117,
   "id": "a77ef3c5",
   "metadata": {},
   "outputs": [
    {
     "name": "stdout",
     "output_type": "stream",
     "text": [
      "LGBM rmsle 값\n",
      "0.49510782342649334\n"
     ]
    }
   ],
   "source": [
    "from lightgbm import LGBMRegressor\n",
    "\n",
    "sparse_matrix_list = (X_brand, X_desc, X_con, X_shipping, X_cate_대분류, X_cate_중분류, X_cate_소분류)\n",
    "\n",
    "lgbm_model = LGBMRegressor(n_estimators = 200, learning_rate = 0.5, num_leaves = 125, random_state = 156)\n",
    "lgbm_preds, y_test = model_train_predict(model = lgbm_model, matrix_list = sparse_matrix_list)\n",
    "print('LGBM rmsle 값')\n",
    "print(evaluate_org_price(y_test, lgbm_preds))"
   ]
  },
  {
   "cell_type": "markdown",
   "id": "a5b65d21",
   "metadata": {},
   "source": [
    "# 6. 최종 예측값 도출"
   ]
  },
  {
   "cell_type": "code",
   "execution_count": 121,
   "id": "5a210b66",
   "metadata": {},
   "outputs": [
    {
     "name": "stdout",
     "output_type": "stream",
     "text": [
      "############### gbm * 0.3 + ridge * 0.7 일때 RMSLE값 ###############\n",
      "0.49940304325522195\n",
      "\n",
      "############### gbm * 0.35 + ridge * 0.65 일때 RMSLE값 ###############\n",
      "0.49736561157587517\n",
      "\n",
      "############### gbm * 0.45 + ridge * 0.55 일때 RMSLE값 ###############\n",
      "0.4940722078787095\n",
      "\n",
      "############### gbm * 0.5 + ridge * 0.5 일때 RMSLE값 ###############\n",
      "0.4928214581898318\n",
      "\n",
      "############### gbm * 0.55 + ridge * 0.45 일때 RMSLE값 ###############\n",
      "0.4918375033851103\n",
      "\n",
      "############### gbm * 0.6 + ridge * 0.4 일때 RMSLE값 ###############\n",
      "0.49112194702472073\n",
      "\n"
     ]
    }
   ],
   "source": [
    "# LightGBM 과 Ridge 예측값 결합\n",
    "# LightGBM 결괏값 * 0.45 + Ridge 결괏값 * 0.55 (배율 산정 _ 임의_전부 확인해보기)\n",
    "\n",
    "gbm_ = [0.3, 0.35, 0.45, 0.5, 0.55, 0.6]\n",
    "righ_ = [0.7, 0.65, 0.55, 0.5, 0.45, 0.4]\n",
    "\n",
    "for gbm, rig in zip(gbm_, righ_):\n",
    "    preds = lgbm_preds * gbm + linear_preds * rig\n",
    "    print(f'############### gbm * {gbm} + ridge * {rig} 일때 RMSLE값 ###############')\n",
    "    print(evaluate_org_price(y_test, preds))\n",
    "    print()"
   ]
  },
  {
   "cell_type": "markdown",
   "id": "b17fb757",
   "metadata": {},
   "source": [
    "gbm * 0.6 + ridge * 0.4 일 때, RMSLE값이 가장 좋게 나옴"
   ]
  },
  {
   "cell_type": "code",
   "execution_count": null,
   "id": "8fd66b4e",
   "metadata": {},
   "outputs": [],
   "source": []
  }
 ],
 "metadata": {
  "kernelspec": {
   "display_name": "Python 3 (ipykernel)",
   "language": "python",
   "name": "python3"
  },
  "language_info": {
   "codemirror_mode": {
    "name": "ipython",
    "version": 3
   },
   "file_extension": ".py",
   "mimetype": "text/x-python",
   "name": "python",
   "nbconvert_exporter": "python",
   "pygments_lexer": "ipython3",
   "version": "3.9.12"
  },
  "toc": {
   "base_numbering": 1,
   "nav_menu": {},
   "number_sections": true,
   "sideBar": true,
   "skip_h1_title": false,
   "title_cell": "Table of Contents",
   "title_sidebar": "Contents",
   "toc_cell": false,
   "toc_position": {},
   "toc_section_display": true,
   "toc_window_display": false
  }
 },
 "nbformat": 4,
 "nbformat_minor": 5
}
