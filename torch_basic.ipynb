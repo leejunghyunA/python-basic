{
  "nbformat": 4,
  "nbformat_minor": 0,
  "metadata": {
    "colab": {
      "provenance": [],
      "include_colab_link": true
    },
    "kernelspec": {
      "name": "python3",
      "display_name": "Python 3"
    },
    "language_info": {
      "name": "python"
    }
  },
  "cells": [
    {
      "cell_type": "markdown",
      "metadata": {
        "id": "view-in-github",
        "colab_type": "text"
      },
      "source": [
        "<a href=\"https://colab.research.google.com/github/leejunghyunA/python-basic/blob/main/torch_basic.ipynb\" target=\"_parent\"><img src=\"https://colab.research.google.com/assets/colab-badge.svg\" alt=\"Open In Colab\"/></a>"
      ]
    },
    {
      "cell_type": "markdown",
      "source": [
        "## torch 본격적으로"
      ],
      "metadata": {
        "id": "RzMsP9hsc36l"
      }
    },
    {
      "cell_type": "code",
      "source": [
        "import torch\n",
        "a=torch.tensor([1,2,3,4])\n",
        "print(a)\n",
        "print(type(a))\n",
        "print(a.dtype) # data type\n",
        "print(a.shape)\n",
        "b=torch.tensor([1,2, 3.1   , 4])\n",
        "print(b.dtype) # 하나라도 실수면 자동으로 실수 타입으로\n",
        "print(b)"
      ],
      "metadata": {
        "colab": {
          "base_uri": "https://localhost:8080/"
        },
        "id": "SAmMX78Lc3Iy",
        "outputId": "4a41c18d-12f8-4b0a-8744-a35af479b883"
      },
      "execution_count": null,
      "outputs": [
        {
          "output_type": "stream",
          "name": "stdout",
          "text": [
            "tensor([1, 2, 3, 4])\n",
            "<class 'torch.Tensor'>\n",
            "torch.int64\n",
            "torch.Size([4])\n",
            "torch.float32\n",
            "tensor([1.0000, 2.0000, 3.1000, 4.0000])\n"
          ]
        }
      ]
    },
    {
      "cell_type": "code",
      "source": [
        "A=torch.tensor([[1,2,3],[3,4,5]]) # 이 셀부터는 import torch 는 실행 했다 치고 작성\n",
        "# A=torch.tensor([[1,2],[3,4,5]]) # 리스트와는 달리 이제는 행렬이라서 각 행에 해당하는 숫자의 개수가 같아야 함\n",
        "print(A)\n",
        "print(A.shape)\n",
        "print(A.ndim) # 차원의 수\n",
        "print(A.numel()) # 전체 성분의 수"
      ],
      "metadata": {
        "colab": {
          "base_uri": "https://localhost:8080/"
        },
        "id": "QRPA6o3EdDy5",
        "outputId": "dd219291-b787-4171-9f35-2c19207a63a6"
      },
      "execution_count": null,
      "outputs": [
        {
          "output_type": "stream",
          "name": "stdout",
          "text": [
            "tensor([[1, 2, 3],\n",
            "        [3, 4, 5]])\n",
            "torch.Size([2, 3])\n",
            "2\n",
            "6\n"
          ]
        }
      ]
    },
    {
      "cell_type": "code",
      "source": [
        "print(torch.zeros(5))\n",
        "print(torch.zeros_like(A))\n",
        "print(torch.ones(5))\n",
        "print(torch.zeros( (3,3) )) \n",
        "print(torch.arange(4,10,2)) # range랑 같은데 torch로 만들어줌\n",
        "print(torch.arange(0,1,0.1)) # 소수점 가능 (np는 불가능)\n",
        "print(torch.linspace(0,1,10)) # 0 에서부터 1 포함(default) 10개로"
      ],
      "metadata": {
        "colab": {
          "base_uri": "https://localhost:8080/"
        },
        "id": "DtQ20sP8dv8i",
        "outputId": "de2a7825-805b-437f-eadc-4b5e9d6b2260"
      },
      "execution_count": null,
      "outputs": [
        {
          "output_type": "stream",
          "name": "stdout",
          "text": [
            "tensor([0., 0., 0., 0., 0.])\n",
            "tensor([[0, 0, 0],\n",
            "        [0, 0, 0]])\n",
            "tensor([1., 1., 1., 1., 1.])\n",
            "tensor([[0., 0., 0.],\n",
            "        [0., 0., 0.],\n",
            "        [0., 0., 0.]])\n",
            "tensor([4, 6, 8])\n",
            "tensor([0.0000, 0.1000, 0.2000, 0.3000, 0.4000, 0.5000, 0.6000, 0.7000, 0.8000,\n",
            "        0.9000])\n",
            "tensor([0.0000, 0.1111, 0.2222, 0.3333, 0.4444, 0.5556, 0.6667, 0.7778, 0.8889,\n",
            "        1.0000])\n"
          ]
        }
      ]
    },
    {
      "cell_type": "code",
      "source": [
        "a=torch.tensor([1,2,3])\n",
        "b=torch.tensor([4,5,6])\n",
        "c=a+b\n",
        "print(c) # 드디어! 양 옆으로 길어지는 게 아닌 벡터의 합이 나옴!"
      ],
      "metadata": {
        "colab": {
          "base_uri": "https://localhost:8080/"
        },
        "id": "mEY_M0PPfRCz",
        "outputId": "b69436de-fb61-4d83-c954-e4018b06d316"
      },
      "execution_count": null,
      "outputs": [
        {
          "output_type": "stream",
          "name": "stdout",
          "text": [
            "tensor([5, 7, 9])\n"
          ]
        }
      ]
    },
    {
      "cell_type": "code",
      "source": [
        "A=torch.tensor([[1,2,3],[1,2,3]])\n",
        "B=torch.tensor([[4,5,6],[1,1,1]])\n",
        "C=A+B\n",
        "D=A-B\n",
        "print(C) \n",
        "print(D)\n",
        "print()\n",
        "print(A*B) # 곱셈은? 성분끼리의 곱! (Hadamard product)\n",
        "print(A/B) # 나누기도 마찬가지\n",
        "print(B**2) # 제곱도 각 성분에 대해서 해준다"
      ],
      "metadata": {
        "colab": {
          "base_uri": "https://localhost:8080/"
        },
        "id": "zRGH_ASMfY5q",
        "outputId": "076ddccd-07e3-45ed-f3f1-6d3ed95d877a"
      },
      "execution_count": null,
      "outputs": [
        {
          "output_type": "stream",
          "name": "stdout",
          "text": [
            "tensor([[5, 7, 9],\n",
            "        [2, 3, 4]])\n",
            "tensor([[-3, -3, -3],\n",
            "        [ 0,  1,  2]])\n",
            "\n",
            "tensor([[ 4, 10, 18],\n",
            "        [ 1,  2,  3]])\n",
            "tensor([[0.2500, 0.4000, 0.5000],\n",
            "        [1.0000, 2.0000, 3.0000]])\n",
            "tensor([[16, 25, 36],\n",
            "        [ 1,  1,  1]])\n"
          ]
        }
      ]
    },
    {
      "cell_type": "code",
      "source": [
        "A=torch.tensor([[1,2],[3,4]])\n",
        "B=torch.tensor([[1,2],[3,4]])\n",
        "print(A*B)\n",
        "print(A@B) # 이게 진짜 행렬 곱하기 (행렬의 곱셈은 앞의 행과 뒤의 열이 같아야함, 결과의 모양은 앞의 열과 뒤의 행 개수로 나타남)"
      ],
      "metadata": {
        "colab": {
          "base_uri": "https://localhost:8080/"
        },
        "id": "LDMR3HebgeIS",
        "outputId": "da828815-a815-4945-b5c2-146f8e7d6a04"
      },
      "execution_count": null,
      "outputs": [
        {
          "output_type": "stream",
          "name": "stdout",
          "text": [
            "tensor([[ 1,  4],\n",
            "        [ 9, 16]])\n",
            "tensor([[ 7, 10],\n",
            "        [15, 22]])\n"
          ]
        }
      ]
    },
    {
      "cell_type": "markdown",
      "source": [
        "## numpy 의 인덱싱 슬라이스"
      ],
      "metadata": {
        "id": "lwIW_G6ThRuW"
      }
    },
    {
      "cell_type": "code",
      "source": [
        "a=torch.tensor([1,2,3,4,5,6,7,8,9]) \n",
        "# 인덱싱과 슬라이싱, list할 때와 동일!\n",
        "print(a[0]) \n",
        "print(a[1])\n",
        "print(a[-1])\n",
        "print(a[1:4])\n",
        "print(a[7:])\n",
        "print(a[:7])\n",
        "print(a[:])"
      ],
      "metadata": {
        "colab": {
          "base_uri": "https://localhost:8080/"
        },
        "id": "EvEXUodtlOyq",
        "outputId": "b946c4d0-7624-4e77-fcc9-bd23ab98e6da"
      },
      "execution_count": null,
      "outputs": [
        {
          "output_type": "stream",
          "name": "stdout",
          "text": [
            "tensor(1)\n",
            "tensor(2)\n",
            "tensor(9)\n",
            "tensor([2, 3, 4])\n",
            "tensor([8, 9])\n",
            "tensor([1, 2, 3, 4, 5, 6, 7])\n",
            "tensor([1, 2, 3, 4, 5, 6, 7, 8, 9])\n"
          ]
        }
      ]
    },
    {
      "cell_type": "code",
      "source": [
        "# 행렬에 대한 인덱싱과 슬라이싱\n",
        "A=torch.tensor([[1,2,3],[4,5,6],[7,8,9]])\n",
        "print(A[0]) # 하나만 쓰면 행에 대한 인덱싱 (리스트 속 리스트 생각)\n",
        "print(A[-1])\n",
        "print(A[1:])\n",
        "print(A[:])\n",
        "print(A[0][2])\n",
        "print(A[0,2]) # 2차원 행렬도 동일한데, 리스트와 달리 이런 것도 됨\n",
        "B=[[1,2,3,4], [5,6,7,8]] \n",
        "print(B)\n",
        "print(B[0][2])\n",
        "# print(B[0,2]) # error! (리스트는 안됨!)\n",
        "print(A[1,:]) # 1 행, 전부\n",
        "print(A[1,0:3:2])\n",
        "print(A[:,2]) # 전부, 2 열\n",
        "print(A[:][2])"
      ],
      "metadata": {
        "colab": {
          "base_uri": "https://localhost:8080/"
        },
        "id": "4PSLeE0flTMC",
        "outputId": "0af7d0ed-35c1-4d73-9e0b-261436ddbd75"
      },
      "execution_count": null,
      "outputs": [
        {
          "output_type": "stream",
          "name": "stdout",
          "text": [
            "tensor([1, 2, 3])\n",
            "tensor([7, 8, 9])\n",
            "tensor([[4, 5, 6],\n",
            "        [7, 8, 9]])\n",
            "tensor([[1, 2, 3],\n",
            "        [4, 5, 6],\n",
            "        [7, 8, 9]])\n",
            "tensor(3)\n",
            "tensor(3)\n",
            "[[1, 2, 3, 4], [5, 6, 7, 8]]\n",
            "3\n",
            "tensor([4, 5, 6])\n",
            "tensor([4, 6])\n",
            "tensor([3, 6, 9])\n",
            "tensor([7, 8, 9])\n"
          ]
        }
      ]
    },
    {
      "cell_type": "code",
      "source": [
        "# 3차원 행렬 인덱싱\n",
        "A=torch.tensor([ [[0,1,2,3],[4,5,6,7],[8,9,10,11]] ,   \n",
        "             [[12,13,14,15],[16,17,18,19],[20,21,22,23]] ])\n",
        "print(A)\n",
        "print(A.shape) \n",
        "print(A[0,1,2])\n",
        "\n",
        "a=torch.tensor([[[[1,2,3,4]]]]) # 대괄호가 하나 늘어나면 왼쪽에 shape 값이 추가 된다.\n",
        "print(a.shape)\n",
        "print(a.ndim)"
      ],
      "metadata": {
        "colab": {
          "base_uri": "https://localhost:8080/"
        },
        "id": "y6Zg1lZ9ZIBe",
        "outputId": "afd7b8a5-cb59-42e6-f764-7686378c4004"
      },
      "execution_count": null,
      "outputs": [
        {
          "output_type": "stream",
          "name": "stdout",
          "text": [
            "tensor([[[ 0,  1,  2,  3],\n",
            "         [ 4,  5,  6,  7],\n",
            "         [ 8,  9, 10, 11]],\n",
            "\n",
            "        [[12, 13, 14, 15],\n",
            "         [16, 17, 18, 19],\n",
            "         [20, 21, 22, 23]]])\n",
            "torch.Size([2, 3, 4])\n",
            "tensor(6)\n",
            "torch.Size([1, 1, 1, 4])\n",
            "4\n"
          ]
        }
      ]
    },
    {
      "cell_type": "code",
      "source": [
        "# boolean 인덱싱\n",
        "a=[1,2,3,4,5,3,3]\n",
        "print(a==3) # 여러개 값 들어있는 리스트랑 3 달랑 하나랑 같냐? 다르다!\n",
        "A=torch.tensor([[1,2,3,4],[5,3,7,3]])\n",
        "print(A==3) # 리스트와 달리 각 성분에 대해 비교해줌\n",
        "print(A[A!=3]) # True, False가 담긴 행렬로 인덱싱 가능!!\n",
        "print(A[A==3])\n",
        "print(A[A>3])\n",
        "\n",
        "A[A==3] = 100\n",
        "print(A) # 그러면 이런 것도 가능하다! (3과 같은 애를 100으로 바꿔줘)\n",
        "\n",
        "A=torch.tensor([[1,2],[3,4],[5,6],[7,8]])\n",
        "B=torch.tensor([True, False, False, True]) # 참고로 그냥 리스트여도 됨\n",
        "print(A[B,:]) # 0행, 3행 슬라이싱\n",
        "\n",
        "b=torch.tensor([1,2,3,4])\n",
        "print(b[[True,True,False,False]])\n",
        "c=[1,2,3,4]\n",
        "# c[[True,True,False,False]] # error!"
      ],
      "metadata": {
        "colab": {
          "base_uri": "https://localhost:8080/"
        },
        "id": "DBjH6loolzdS",
        "outputId": "f6ee57e4-4637-4fb7-d337-f934f6e2840d"
      },
      "execution_count": null,
      "outputs": [
        {
          "output_type": "stream",
          "name": "stdout",
          "text": [
            "False\n",
            "tensor([[False, False,  True, False],\n",
            "        [False,  True, False,  True]])\n",
            "tensor([1, 2, 4, 5, 7])\n",
            "tensor([3, 3, 3])\n",
            "tensor([4, 5, 7])\n",
            "tensor([[  1,   2, 100,   4],\n",
            "        [  5, 100,   7, 100]])\n",
            "tensor([[1, 2],\n",
            "        [7, 8]])\n",
            "tensor([1, 2])\n"
          ]
        }
      ]
    },
    {
      "cell_type": "code",
      "source": [
        "# tensor로 인덱싱\n",
        "a=torch.tensor([1,2,3,4,5])\n",
        "A=a[2]\n",
        "print(A)\n",
        "A=a[ torch.tensor(2) ] # np.array를 안에다가?\n",
        "print(A)\n",
        "A=a[ torch.tensor([2,3,4]) ]\n",
        "print(A)\n",
        "A=a[ torch.tensor([[2,2,2],[3,3,3]]) ]\n",
        "print(A) # 인덱싱된 애들로 2행 3열짜리 행렬을 만든다\n",
        "\n",
        "a=[1,2,3]\n",
        "# a[ [1,1,1,1,2,2,2] ] # error!\n",
        "\n",
        "a=torch.tensor([[1,2,3],[4,5,6]])\n",
        "print(a[0])\n",
        "A=a[ torch.tensor([[0,1],[1,1]]) ]\n",
        "print(A.shape) # 예를 들어, a[0] = array([1,2,3])과 같이 1차원 데이터이므로 한 차원이 뒤에 늘어나서 2,2, \"3\" 이 된다!\n",
        "print(A) # segmentation 결과 그림 보여줄 때 사용!"
      ],
      "metadata": {
        "colab": {
          "base_uri": "https://localhost:8080/"
        },
        "id": "FzKn6wIJZAgn",
        "outputId": "ac42e352-1bbc-4979-965e-8b40eabe6bea"
      },
      "execution_count": null,
      "outputs": [
        {
          "output_type": "stream",
          "name": "stdout",
          "text": [
            "tensor(3)\n",
            "tensor(3)\n",
            "tensor([3, 4, 5])\n",
            "tensor([[3, 3, 3],\n",
            "        [4, 4, 4]])\n",
            "tensor([1, 2, 3])\n",
            "torch.Size([2, 2, 3])\n",
            "tensor([[[1, 2, 3],\n",
            "         [4, 5, 6]],\n",
            "\n",
            "        [[4, 5, 6],\n",
            "         [4, 5, 6]]])\n"
          ]
        }
      ]
    },
    {
      "cell_type": "code",
      "source": [
        "A=torch.tensor([[1,2],[3,4],[5,6],[7,8]])\n",
        "print(A)\n",
        "print(A.shape)\n",
        "\n",
        "# 1. A[몇 번째 행이냐, 몇 번째 열이냐]\n",
        "print(A[0,1])\n",
        "# 2. A[ tensor(bool) ] => A와 같은 shape을 가지는 tensor형 bool이 어디에 True를 가지고 있냐\n",
        "print(A[ torch.tensor([[False,True],[False,False],[False,False],[False,False]]) ])\n",
        "print(A[A==2])\n",
        "# 3. A[몇 번째 값에 True가 있냐, 몇 번째 값에 True가 있냐]\n",
        "print(A[ [True,False,False,False], [False,True] ])\n",
        "# 4. A[ array ] # 몇 번째 것을 어떻게 쌓을거냐\n",
        "print(A[ torch.tensor([1,1,2,2,2]) ])"
      ],
      "metadata": {
        "colab": {
          "base_uri": "https://localhost:8080/"
        },
        "id": "BBEF3i6xl1sK",
        "outputId": "9d6d0c48-8e21-4916-ee79-7ff8f881ca51"
      },
      "execution_count": null,
      "outputs": [
        {
          "output_type": "stream",
          "name": "stdout",
          "text": [
            "tensor([[1, 2],\n",
            "        [3, 4],\n",
            "        [5, 6],\n",
            "        [7, 8]])\n",
            "torch.Size([4, 2])\n",
            "tensor(2)\n",
            "tensor([2])\n",
            "tensor([2])\n",
            "tensor([2])\n",
            "tensor([[3, 4],\n",
            "        [3, 4],\n",
            "        [5, 6],\n",
            "        [5, 6],\n",
            "        [5, 6]])\n"
          ]
        }
      ]
    },
    {
      "cell_type": "markdown",
      "source": [
        "## pytorch의 여러 함수들"
      ],
      "metadata": {
        "id": "QYBXKfCupHU9"
      }
    },
    {
      "cell_type": "code",
      "source": [
        "A=torch.randn(3,3) # Normal의 n (각각이 평균 0, 분산 1을 따르는것)\n",
        "B=torch.rand(3,3) # 이건 uniform\n",
        "print(A)\n",
        "print(B)\n",
        "print(A[A[:,0]<0,:]) # 0 번째 열이 음수인 행들"
      ],
      "metadata": {
        "colab": {
          "base_uri": "https://localhost:8080/"
        },
        "id": "0lfFqRGOpI-0",
        "outputId": "445f16ca-e0ab-4f56-fffd-afafd4b21558"
      },
      "execution_count": null,
      "outputs": [
        {
          "output_type": "stream",
          "name": "stdout",
          "text": [
            "tensor([[-0.7650,  1.9498,  1.4863],\n",
            "        [-0.2893, -1.3442, -0.7432],\n",
            "        [ 1.6335, -0.3826, -1.1882]])\n",
            "tensor([[0.2836, 0.7118, 0.1106],\n",
            "        [0.6412, 0.6402, 0.9147],\n",
            "        [0.0308, 0.7323, 0.3063]])\n",
            "tensor([[-0.7650,  1.9498,  1.4863],\n",
            "        [-0.2893, -1.3442, -0.7432]])\n"
          ]
        }
      ]
    },
    {
      "cell_type": "code",
      "source": [
        "A=torch.randn(3,3)\n",
        "print(A)\n",
        "print(torch.abs(A))\n",
        "print(torch.sqrt(torch.abs(A)))\n",
        "print(torch.exp(A)) # e 의 제곱근으로 올려줌\n",
        "print(torch.log(torch.abs(A)))\n",
        "print(torch.log(torch.exp(torch.tensor(1)))) # torch.exp(torch.tensor(1)) = e^1 # 안에 tensor형이 아니면 에러 발생함\n",
        "print(torch.log10(torch.tensor(10)))\n",
        "print(torch.log2(torch.tensor(2)))\n",
        "print(torch.round(A)) # 반올림\n",
        "print(torch.round(A, decimals = 2)) # 소수점 둘째자리까지\n",
        "print(torch.floor(A)) # 내림\n",
        "print(torch.ceil(A)) # 올림"
      ],
      "metadata": {
        "colab": {
          "base_uri": "https://localhost:8080/"
        },
        "id": "J6KxUXALpniU",
        "outputId": "cf4ddf3a-c197-4c25-856c-c915282e1b7a"
      },
      "execution_count": null,
      "outputs": [
        {
          "output_type": "stream",
          "name": "stdout",
          "text": [
            "tensor([[-1.3924, -0.2383, -0.3938],\n",
            "        [ 0.4683, -0.1041,  2.0363],\n",
            "        [-0.1907, -0.9669, -0.0330]])\n",
            "tensor([[1.3924, 0.2383, 0.3938],\n",
            "        [0.4683, 0.1041, 2.0363],\n",
            "        [0.1907, 0.9669, 0.0330]])\n",
            "tensor([[1.1800, 0.4881, 0.6275],\n",
            "        [0.6843, 0.3226, 1.4270],\n",
            "        [0.4367, 0.9833, 0.1815]])\n",
            "tensor([[0.2485, 0.7880, 0.6745],\n",
            "        [1.5973, 0.9012, 7.6624],\n",
            "        [0.8263, 0.3803, 0.9676]])\n",
            "tensor([[ 0.3310, -1.4343, -0.9319],\n",
            "        [-0.7586, -2.2629,  0.7111],\n",
            "        [-1.6568, -0.0337, -3.4127]])\n",
            "tensor(1.)\n",
            "tensor(1.)\n",
            "tensor(1.)\n",
            "tensor([[-1., -0., -0.],\n",
            "        [ 0., -0.,  2.],\n",
            "        [-0., -1., -0.]])\n",
            "tensor([[-1.3900, -0.2400, -0.3900],\n",
            "        [ 0.4700, -0.1000,  2.0400],\n",
            "        [-0.1900, -0.9700, -0.0300]])\n",
            "tensor([[-2., -1., -1.],\n",
            "        [ 0., -1.,  2.],\n",
            "        [-1., -1., -1.]])\n",
            "tensor([[-1., -0., -0.],\n",
            "        [ 1., -0.,  3.],\n",
            "        [-0., -0., -0.]])\n"
          ]
        }
      ]
    },
    {
      "cell_type": "code",
      "source": [
        "print(torch.sin(torch.tensor(torch.pi/6))) # type(torch.pi) <- float 형태임 만약 tensor와 연산하면 tensor로 바꿔줌 \n",
        "print(torch.cos(torch.tensor(torch.pi/3)))\n",
        "print(torch.tan(torch.tensor(torch.pi/4)))\n",
        "print(torch.tanh(torch.tensor(-10))) \n",
        "\n",
        "type(torch.tensor(1)/6)"
      ],
      "metadata": {
        "colab": {
          "base_uri": "https://localhost:8080/"
        },
        "id": "PFPjWX54qaXi",
        "outputId": "c58872ad-21de-492a-bf73-7fa90c7894c9"
      },
      "execution_count": null,
      "outputs": [
        {
          "output_type": "stream",
          "name": "stdout",
          "text": [
            "tensor(0.5000)\n",
            "tensor(0.5000)\n",
            "tensor(1.)\n",
            "tensor(-1.)\n"
          ]
        },
        {
          "output_type": "execute_result",
          "data": {
            "text/plain": [
              "torch.Tensor"
            ]
          },
          "metadata": {},
          "execution_count": 37
        }
      ]
    },
    {
      "cell_type": "code",
      "source": [
        "torch.nan # not a number\n",
        "print(torch.log(torch.tensor(-1)))\n",
        "print(torch.isnan(torch.tensor([1,2,torch.nan,3,4])))\n",
        "print(torch.isinf(torch.tensor([1,2,3,4,torch.inf])))"
      ],
      "metadata": {
        "colab": {
          "base_uri": "https://localhost:8080/"
        },
        "id": "huDfIsJoqdDa",
        "outputId": "55008a02-4e8d-47d7-a1fe-ddba631168a4"
      },
      "execution_count": null,
      "outputs": [
        {
          "output_type": "stream",
          "name": "stdout",
          "text": [
            "tensor(nan)\n",
            "tensor([False, False,  True, False, False])\n",
            "tensor([False, False, False, False,  True])\n"
          ]
        }
      ]
    },
    {
      "cell_type": "code",
      "source": [
        "A=torch.randn(3,4)\n",
        "print(A)\n",
        "print(torch.max(A))\n",
        "print(torch.max(A,dim=0))\n",
        "print(torch.max(A,dim=1)) # 1D array로 바꿔버림\n",
        "print()\n",
        "print(torch.max(A,dim=0, keepdims=True))\n",
        "print(torch.max(A,dim=1, keepdims=True)) # 3 행 1열 짜리 2D array\n",
        "print(torch.min(A))\n",
        "print(torch.min(A,dim=0))\n",
        "print(torch.min(A,dim=1))\n",
        "print()\n",
        "print(torch.argmax(A))\n",
        "print(torch.argmax(A,dim=0)) # 각 열에서 가장 큰 애가 존재하는 인덱스\n",
        "print(torch.argmax(A,dim=1)) # 각 행에서 가장 큰 애가 존재하는 인덱스"
      ],
      "metadata": {
        "colab": {
          "base_uri": "https://localhost:8080/"
        },
        "id": "C9G0Rdhiqn3a",
        "outputId": "1f260b07-b556-4710-8b80-4d253dd61a26"
      },
      "execution_count": null,
      "outputs": [
        {
          "output_type": "stream",
          "name": "stdout",
          "text": [
            "tensor([[-0.8974, -2.7317,  0.8347,  0.6830],\n",
            "        [ 0.4392,  0.0942, -0.9916, -0.7166],\n",
            "        [-1.9151, -1.3035,  0.9160,  0.7870]])\n",
            "tensor(0.9160)\n",
            "torch.return_types.max(\n",
            "values=tensor([0.4392, 0.0942, 0.9160, 0.7870]),\n",
            "indices=tensor([1, 1, 2, 2]))\n",
            "torch.return_types.max(\n",
            "values=tensor([0.8347, 0.4392, 0.9160]),\n",
            "indices=tensor([2, 0, 2]))\n",
            "\n",
            "torch.return_types.max(\n",
            "values=tensor([[0.4392, 0.0942, 0.9160, 0.7870]]),\n",
            "indices=tensor([[1, 1, 2, 2]]))\n",
            "torch.return_types.max(\n",
            "values=tensor([[0.8347],\n",
            "        [0.4392],\n",
            "        [0.9160]]),\n",
            "indices=tensor([[2],\n",
            "        [0],\n",
            "        [2]]))\n",
            "tensor(-2.7317)\n",
            "torch.return_types.min(\n",
            "values=tensor([-1.9151, -2.7317, -0.9916, -0.7166]),\n",
            "indices=tensor([2, 0, 1, 1]))\n",
            "torch.return_types.min(\n",
            "values=tensor([-2.7317, -0.9916, -1.9151]),\n",
            "indices=tensor([1, 2, 0]))\n",
            "\n",
            "tensor(10)\n",
            "tensor([1, 1, 2, 2])\n",
            "tensor([2, 0, 2])\n"
          ]
        }
      ]
    },
    {
      "cell_type": "code",
      "source": [
        "# 내림차순\n",
        "a=torch.randn(6,1)\n",
        "print(a)\n",
        "a_sorted=torch.sort(a, dim = 0)\n",
        "print(a_sorted)\n",
        "\n",
        "#오름차순\n",
        "a=torch.randn(6,1)\n",
        "print(a.sort(dim = 0)) # torch.대신 사용가능\n",
        "print(a.sort(dim = 0, descending = True))\n",
        "\n",
        "# torch. 대신 사용가능\n",
        "print(torch.max(a))\n",
        "print(a.max())\n",
        "print(torch.abs(a))\n",
        "print(a.abs())"
      ],
      "metadata": {
        "colab": {
          "base_uri": "https://localhost:8080/"
        },
        "id": "5h8JeQ8bqsrv",
        "outputId": "44e73da3-f1c4-44e5-eeda-48dfff7ec3f1"
      },
      "execution_count": null,
      "outputs": [
        {
          "output_type": "stream",
          "name": "stdout",
          "text": [
            "tensor([[-0.2092],\n",
            "        [ 0.9812],\n",
            "        [ 1.8423],\n",
            "        [-1.0897],\n",
            "        [-0.6632],\n",
            "        [-1.4241]])\n",
            "torch.return_types.sort(\n",
            "values=tensor([[-1.4241],\n",
            "        [-1.0897],\n",
            "        [-0.6632],\n",
            "        [-0.2092],\n",
            "        [ 0.9812],\n",
            "        [ 1.8423]]),\n",
            "indices=tensor([[5],\n",
            "        [3],\n",
            "        [4],\n",
            "        [0],\n",
            "        [1],\n",
            "        [2]]))\n",
            "torch.return_types.sort(\n",
            "values=tensor([[-1.8551],\n",
            "        [ 0.2315],\n",
            "        [ 0.2411],\n",
            "        [ 1.6854],\n",
            "        [ 1.8894],\n",
            "        [ 2.6248]]),\n",
            "indices=tensor([[4],\n",
            "        [1],\n",
            "        [2],\n",
            "        [3],\n",
            "        [0],\n",
            "        [5]]))\n",
            "torch.return_types.sort(\n",
            "values=tensor([[ 2.6248],\n",
            "        [ 1.8894],\n",
            "        [ 1.6854],\n",
            "        [ 0.2411],\n",
            "        [ 0.2315],\n",
            "        [-1.8551]]),\n",
            "indices=tensor([[5],\n",
            "        [0],\n",
            "        [3],\n",
            "        [2],\n",
            "        [1],\n",
            "        [4]]))\n",
            "tensor(2.6248)\n",
            "tensor(2.6248)\n",
            "tensor([[1.8894],\n",
            "        [0.2315],\n",
            "        [0.2411],\n",
            "        [1.6854],\n",
            "        [1.8551],\n",
            "        [2.6248]])\n",
            "tensor([[1.8894],\n",
            "        [0.2315],\n",
            "        [0.2411],\n",
            "        [1.6854],\n",
            "        [1.8551],\n",
            "        [2.6248]])\n"
          ]
        }
      ]
    },
    {
      "cell_type": "code",
      "source": [
        "A=torch.randn(3,4)\n",
        "print(A)\n",
        "print(torch.sum(A))\n",
        "print(torch.sum(A,dim=1))\n",
        "print(torch.sum(A,dim=1,keepdims=True))\n",
        "print(torch.mean(A))\n",
        "print(torch.mean(A,dim=1))\n",
        "print(torch.mean(A,dim=1,keepdims=True))\n",
        "print(torch.std(A)) # standard deviation 표준 편차\n",
        "\n",
        "print(A.sum(dim=1, keepdims=True))\n",
        "print(A.mean(dim=1, keepdims=True))\n",
        "print(A.std())"
      ],
      "metadata": {
        "colab": {
          "base_uri": "https://localhost:8080/"
        },
        "id": "KJUEZtB4rglS",
        "outputId": "dbba1f4c-0394-4974-d6e7-f845de83c380"
      },
      "execution_count": null,
      "outputs": [
        {
          "output_type": "stream",
          "name": "stdout",
          "text": [
            "tensor([[ 1.0798,  0.0666, -1.4715,  1.6267],\n",
            "        [-0.8860,  0.5169, -0.0713, -1.0711],\n",
            "        [ 1.6799,  0.2912,  0.7663, -0.5829]])\n",
            "tensor(1.9448)\n",
            "tensor([ 1.3017, -1.5115,  2.1546])\n",
            "tensor([[ 1.3017],\n",
            "        [-1.5115],\n",
            "        [ 2.1546]])\n",
            "tensor(0.1621)\n",
            "tensor([ 0.3254, -0.3779,  0.5386])\n",
            "tensor([[ 0.3254],\n",
            "        [-0.3779],\n",
            "        [ 0.5386]])\n",
            "tensor(1.0316)\n",
            "tensor([[ 1.3017],\n",
            "        [-1.5115],\n",
            "        [ 2.1546]])\n",
            "tensor([[ 0.3254],\n",
            "        [-0.3779],\n",
            "        [ 0.5386]])\n",
            "tensor(1.0316)\n"
          ]
        }
      ]
    },
    {
      "cell_type": "code",
      "source": [
        "A=torch.randint(1,5,size=(12,)) # 1부터 5미만 12개 정수 (1 차원은 (N,) 과 같이 표현)\n",
        "print(A)\n",
        "print(A.shape)\n",
        "\n",
        "B=A.reshape(2,2,3)\n",
        "print(B)\n",
        "print(B.ndim) # 3 차원 행렬이다"
      ],
      "metadata": {
        "colab": {
          "base_uri": "https://localhost:8080/"
        },
        "id": "CmuensVlsERE",
        "outputId": "b463215a-aeec-4106-ec6d-ccef1eb16c20"
      },
      "execution_count": null,
      "outputs": [
        {
          "output_type": "stream",
          "name": "stdout",
          "text": [
            "tensor([1, 4, 3, 1, 2, 4, 4, 3, 4, 3, 1, 4])\n",
            "torch.Size([12])\n",
            "tensor([[[1, 4, 3],\n",
            "         [1, 2, 4]],\n",
            "\n",
            "        [[4, 3, 4],\n",
            "         [3, 1, 4]]])\n",
            "3\n"
          ]
        }
      ]
    },
    {
      "cell_type": "code",
      "source": [
        "a=torch.tensor([1,2,3])\n",
        "b=torch.tensor([2,2,1])\n",
        "print(torch.sum(a*b))\n",
        "\n",
        "a=a.reshape(3,1)\n",
        "b=b.reshape(3,1)\n",
        "print(a.transpose(1, 0)@b) \n",
        "print(a.permute(1, 0)@b)\n",
        "print(a.T@b)\n",
        "\n",
        "A=torch.randn(4,3,6) \n",
        "print(A.permute(0,2,1).shape) # permute 원래의 것의 몇번째를 넣는지 표현현"
      ],
      "metadata": {
        "colab": {
          "base_uri": "https://localhost:8080/"
        },
        "id": "VdXu_OZ1sgNK",
        "outputId": "899fa3b7-f27f-4606-b7a8-9790836ac0f2"
      },
      "execution_count": null,
      "outputs": [
        {
          "output_type": "stream",
          "name": "stdout",
          "text": [
            "tensor(9)\n",
            "tensor([[9]])\n",
            "tensor([[9]])\n",
            "tensor([[9]])\n",
            "torch.Size([4, 6, 3])\n"
          ]
        }
      ]
    },
    {
      "cell_type": "code",
      "source": [
        "A=torch.arange(20)\n",
        "print(A)\n",
        "print(A.reshape(4,5))\n",
        "print(A.reshape(4,-1).shape) # 4개 행이 될 수 있도록 열의 수를 맞춰라\n",
        "print(A.reshape(2,5,-1).shape)\n",
        "print(A.reshape(2,-1,5).shape)\n",
        "print(A.reshape(1,-1).shape) # 2차원 행 벡터\n",
        "print(A.reshape(-1,1).shape) # 2차원 열 벡터"
      ],
      "metadata": {
        "colab": {
          "base_uri": "https://localhost:8080/"
        },
        "id": "aYsTsVD7sjmj",
        "outputId": "51e29133-aa5f-4e58-a1b5-4f15d0b57807"
      },
      "execution_count": null,
      "outputs": [
        {
          "output_type": "stream",
          "name": "stdout",
          "text": [
            "tensor([ 0,  1,  2,  3,  4,  5,  6,  7,  8,  9, 10, 11, 12, 13, 14, 15, 16, 17,\n",
            "        18, 19])\n",
            "tensor([[ 0,  1,  2,  3,  4],\n",
            "        [ 5,  6,  7,  8,  9],\n",
            "        [10, 11, 12, 13, 14],\n",
            "        [15, 16, 17, 18, 19]])\n",
            "torch.Size([4, 5])\n",
            "torch.Size([2, 5, 2])\n",
            "torch.Size([2, 2, 5])\n",
            "torch.Size([1, 20])\n",
            "torch.Size([20, 1])\n"
          ]
        }
      ]
    },
    {
      "cell_type": "code",
      "source": [
        "x=torch.randn(2,3,4,5,6)\n",
        "print(x[1,2,:,:,:].shape) \n",
        "print(x[1,2,...].shape) # x[1, 2, …] 는 x[1, 2, :, :, :] 와 같습니다.\n",
        "print(x[:,:,:,:,3].shape)\n",
        "print(x[...,3].shape) # x[…, 3] 는 x[:, :, :, :, 3] 와 같습니다.\n",
        "print(x[1,:,:,3,:].shape)\n",
        "print(x[1,...,3,:].shape) # x[1, …, 3, :] 는 x[1, :, :, 3, :] 와 같습니다."
      ],
      "metadata": {
        "colab": {
          "base_uri": "https://localhost:8080/"
        },
        "id": "VFBBHxp2zFyr",
        "outputId": "c3d0be96-6285-44b5-de57-121bfb9fe7b7"
      },
      "execution_count": null,
      "outputs": [
        {
          "output_type": "stream",
          "name": "stdout",
          "text": [
            "torch.Size([4, 5, 6])\n",
            "torch.Size([4, 5, 6])\n",
            "torch.Size([2, 3, 4, 5])\n",
            "torch.Size([2, 3, 4, 5])\n",
            "torch.Size([3, 4, 6])\n",
            "torch.Size([3, 4, 6])\n"
          ]
        }
      ]
    },
    {
      "cell_type": "code",
      "source": [
        "A=torch.ones(2,3,4)\n",
        "B=torch.zeros(2,3,4)\n",
        "C=torch.vstack([A,B])\n",
        "D=torch.hstack([A,B]) # v는 0번째 차원, h는 1번째 차원에 쌓는다. (A,B 사이즈 (2,3,4)로 추가 해보기)\n",
        "E = torch.cat([A, B], dim = 0) # 0차원의 개수가 더해짐 \n",
        "F = torch.cat([A, B], dim = 1) # 1차원의 개수가 더해짐 \n",
        "G = torch.cat([A, B], dim = 2)\n",
        "\n",
        "print(C)\n",
        "print(D)\n",
        "print(E)\n",
        "print(F)\n",
        "print(G)"
      ],
      "metadata": {
        "colab": {
          "base_uri": "https://localhost:8080/"
        },
        "id": "VsBKRAiJzbBz",
        "outputId": "5dce9bcd-98aa-4bd6-884d-d8159bdfcb34"
      },
      "execution_count": null,
      "outputs": [
        {
          "output_type": "stream",
          "name": "stdout",
          "text": [
            "tensor([[[1., 1., 1., 1.],\n",
            "         [1., 1., 1., 1.],\n",
            "         [1., 1., 1., 1.]],\n",
            "\n",
            "        [[1., 1., 1., 1.],\n",
            "         [1., 1., 1., 1.],\n",
            "         [1., 1., 1., 1.]],\n",
            "\n",
            "        [[0., 0., 0., 0.],\n",
            "         [0., 0., 0., 0.],\n",
            "         [0., 0., 0., 0.]],\n",
            "\n",
            "        [[0., 0., 0., 0.],\n",
            "         [0., 0., 0., 0.],\n",
            "         [0., 0., 0., 0.]]])\n",
            "tensor([[[1., 1., 1., 1.],\n",
            "         [1., 1., 1., 1.],\n",
            "         [1., 1., 1., 1.],\n",
            "         [0., 0., 0., 0.],\n",
            "         [0., 0., 0., 0.],\n",
            "         [0., 0., 0., 0.]],\n",
            "\n",
            "        [[1., 1., 1., 1.],\n",
            "         [1., 1., 1., 1.],\n",
            "         [1., 1., 1., 1.],\n",
            "         [0., 0., 0., 0.],\n",
            "         [0., 0., 0., 0.],\n",
            "         [0., 0., 0., 0.]]])\n",
            "tensor([[[1., 1., 1., 1.],\n",
            "         [1., 1., 1., 1.],\n",
            "         [1., 1., 1., 1.]],\n",
            "\n",
            "        [[1., 1., 1., 1.],\n",
            "         [1., 1., 1., 1.],\n",
            "         [1., 1., 1., 1.]],\n",
            "\n",
            "        [[0., 0., 0., 0.],\n",
            "         [0., 0., 0., 0.],\n",
            "         [0., 0., 0., 0.]],\n",
            "\n",
            "        [[0., 0., 0., 0.],\n",
            "         [0., 0., 0., 0.],\n",
            "         [0., 0., 0., 0.]]])\n",
            "tensor([[[1., 1., 1., 1.],\n",
            "         [1., 1., 1., 1.],\n",
            "         [1., 1., 1., 1.],\n",
            "         [0., 0., 0., 0.],\n",
            "         [0., 0., 0., 0.],\n",
            "         [0., 0., 0., 0.]],\n",
            "\n",
            "        [[1., 1., 1., 1.],\n",
            "         [1., 1., 1., 1.],\n",
            "         [1., 1., 1., 1.],\n",
            "         [0., 0., 0., 0.],\n",
            "         [0., 0., 0., 0.],\n",
            "         [0., 0., 0., 0.]]])\n",
            "tensor([[[1., 1., 1., 1., 0., 0., 0., 0.],\n",
            "         [1., 1., 1., 1., 0., 0., 0., 0.],\n",
            "         [1., 1., 1., 1., 0., 0., 0., 0.]],\n",
            "\n",
            "        [[1., 1., 1., 1., 0., 0., 0., 0.],\n",
            "         [1., 1., 1., 1., 0., 0., 0., 0.],\n",
            "         [1., 1., 1., 1., 0., 0., 0., 0.]]])\n"
          ]
        }
      ]
    },
    {
      "cell_type": "code",
      "source": [
        "A = torch.randn(1,1,1,3,1,1,4,1)\n",
        "print(A)\n",
        "print(A.shape)\n",
        "print(A.squeeze().shape)"
      ],
      "metadata": {
        "colab": {
          "base_uri": "https://localhost:8080/"
        },
        "id": "EOsKnQTvzeAL",
        "outputId": "c17641aa-31b1-4255-e99f-8f06478aca31"
      },
      "execution_count": null,
      "outputs": [
        {
          "output_type": "stream",
          "name": "stdout",
          "text": [
            "tensor([[[[[[[[-0.2810],\n",
            "              [ 0.6291],\n",
            "              [-0.6260],\n",
            "              [ 0.6938]]]],\n",
            "\n",
            "\n",
            "\n",
            "           [[[[ 1.6495],\n",
            "              [ 1.4260],\n",
            "              [-1.8152],\n",
            "              [ 1.0892]]]],\n",
            "\n",
            "\n",
            "\n",
            "           [[[[-0.6984],\n",
            "              [-0.2921],\n",
            "              [ 2.0855],\n",
            "              [ 0.8850]]]]]]]])\n",
            "torch.Size([1, 1, 1, 3, 1, 1, 4, 1])\n",
            "torch.Size([3, 4])\n"
          ]
        }
      ]
    },
    {
      "cell_type": "code",
      "source": [
        "A = torch.randn(3, 4)\n",
        "print(A)\n",
        "print(A.unsqueeze(dim = 0).shape) #해당 차원에 추가할래\n",
        "# print(A.unsqueeze(dim = 0)) #확인용\n",
        "print(A.unsqueeze(dim = 1).shape)\n",
        "print(A.unsqueeze(dim = 2).shape)"
      ],
      "metadata": {
        "colab": {
          "base_uri": "https://localhost:8080/"
        },
        "id": "P7KuF58i0NY3",
        "outputId": "65959818-438c-4a8b-bcd6-61fd0ec90439"
      },
      "execution_count": null,
      "outputs": [
        {
          "output_type": "stream",
          "name": "stdout",
          "text": [
            "tensor([[ 0.3588, -1.5741,  0.6962,  0.1422],\n",
            "        [-1.3708,  1.0426,  0.0475,  0.0659],\n",
            "        [ 0.8377,  1.1831, -0.2119, -1.9403]])\n",
            "torch.Size([1, 3, 4])\n",
            "tensor([[[ 0.3588, -1.5741,  0.6962,  0.1422],\n",
            "         [-1.3708,  1.0426,  0.0475,  0.0659],\n",
            "         [ 0.8377,  1.1831, -0.2119, -1.9403]]])\n",
            "torch.Size([3, 1, 4])\n",
            "torch.Size([3, 4, 1])\n"
          ]
        }
      ]
    },
    {
      "cell_type": "code",
      "source": [
        "# 이렇게도 되는데 reshape는 추가하는 차원말고 나머지 형태도 일일히 적어줘야함\n",
        "print(A.reshape(1,3,4).shape)\n",
        "print(A.reshape(3,1,4).shape)\n",
        "print(A.reshape(3,4,1).shape)"
      ],
      "metadata": {
        "colab": {
          "base_uri": "https://localhost:8080/"
        },
        "id": "9C5w_BIW0esh",
        "outputId": "4c269317-a7f3-4d5b-c639-6a9b6434da7d"
      },
      "execution_count": null,
      "outputs": [
        {
          "output_type": "stream",
          "name": "stdout",
          "text": [
            "torch.Size([1, 3, 4])\n",
            "torch.Size([3, 1, 4])\n",
            "torch.Size([3, 4, 1])\n"
          ]
        }
      ]
    },
    {
      "cell_type": "code",
      "source": [
        "A = torch.ones(3, 4)\n",
        "B = torch.zeros(3, 4)\n",
        "\n",
        "# (2, 3, 4)로 변경하기\n",
        "A = A.unsqueeze(dim=0) #(1,3,4)\n",
        "B = B.unsqueeze(dim=0) #(1,3,4)\n",
        "C = torch.cat([A, B], dim = 0) # 0차원끼리 합해주기\n",
        "print(C)\n",
        "print(C.shape)"
      ],
      "metadata": {
        "colab": {
          "base_uri": "https://localhost:8080/"
        },
        "id": "-g-sVkQK0788",
        "outputId": "91ca305d-c897-4f3a-d485-5a93d76d1600"
      },
      "execution_count": null,
      "outputs": [
        {
          "output_type": "stream",
          "name": "stdout",
          "text": [
            "tensor([[[1., 1., 1., 1.],\n",
            "         [1., 1., 1., 1.],\n",
            "         [1., 1., 1., 1.]],\n",
            "\n",
            "        [[0., 0., 0., 0.],\n",
            "         [0., 0., 0., 0.],\n",
            "         [0., 0., 0., 0.]]])\n",
            "torch.Size([2, 3, 4])\n"
          ]
        }
      ]
    },
    {
      "cell_type": "code",
      "source": [
        "A = torch.tensor([[1,2],[3,4]])\n",
        "B = A\n",
        "B[0,0] = 100\n",
        "\n",
        "print(B)\n",
        "print(A) #A도 바껴있음"
      ],
      "metadata": {
        "colab": {
          "base_uri": "https://localhost:8080/"
        },
        "id": "DFapTvp42Zcx",
        "outputId": "b8aa66fc-ff39-44c3-bec8-af4d844a2b44"
      },
      "execution_count": null,
      "outputs": [
        {
          "output_type": "stream",
          "name": "stdout",
          "text": [
            "tensor([[100,   2],\n",
            "        [  3,   4]])\n",
            "tensor([[100,   2],\n",
            "        [  3,   4]])\n"
          ]
        }
      ]
    },
    {
      "cell_type": "code",
      "source": [
        "# A는 바뀌지 않게 하려면? clone을 이용\n",
        "A = torch.tensor([[1,2],[3,4]])\n",
        "B = A.clone() \n",
        "B[0,0] = 100\n",
        "\n",
        "print(B)\n",
        "print(A) "
      ],
      "metadata": {
        "colab": {
          "base_uri": "https://localhost:8080/"
        },
        "id": "_UEp1ksP4X_z",
        "outputId": "73379315-92c9-420e-83c5-f8e01c797c80"
      },
      "execution_count": null,
      "outputs": [
        {
          "output_type": "stream",
          "name": "stdout",
          "text": [
            "tensor([[100,   2],\n",
            "        [  3,   4]])\n",
            "tensor([[1, 2],\n",
            "        [3, 4]])\n"
          ]
        }
      ]
    },
    {
      "cell_type": "markdown",
      "source": [
        "## @에 좀만 더"
      ],
      "metadata": {
        "id": "KjKSEDgi4bvI"
      }
    },
    {
      "cell_type": "code",
      "source": [
        "A=torch.randn(5,7)\n",
        "B=torch.randn(7,10)\n",
        "C=A@B\n",
        "print(C.shape)\n",
        "\n",
        "A=torch.randn(32,5,7) \n",
        "B=torch.randn(32,7,10) \n",
        "C=A@B\n",
        "print(C.shape)"
      ],
      "metadata": {
        "colab": {
          "base_uri": "https://localhost:8080/"
        },
        "id": "3yKH43Wc4ds5",
        "outputId": "d71bc820-1987-42a3-dc1a-3eecb3232f58"
      },
      "execution_count": null,
      "outputs": [
        {
          "output_type": "stream",
          "name": "stdout",
          "text": [
            "torch.Size([5, 10])\n",
            "torch.Size([32, 5, 10])\n"
          ]
        }
      ]
    },
    {
      "cell_type": "code",
      "source": [
        "A=torch.randn(32,5,7) \n",
        "B=torch.randn(7,10) \n",
        "\n",
        "C=A@B.repeat(32, 1, 1) \n",
        "D = A@B\n",
        "\n",
        "print(C.shape)\n",
        "print(D.shape)\n",
        "\n",
        "# C와 D가 거의 비슷함 @가 이런 안맞는 부분을 알아서 채워줌줌\n",
        "print((C-D).abs().max())"
      ],
      "metadata": {
        "colab": {
          "base_uri": "https://localhost:8080/"
        },
        "id": "iINTmVCW5q_P",
        "outputId": "adfef134-ddc0-41d0-d8fe-af585ada7d95"
      },
      "execution_count": null,
      "outputs": [
        {
          "output_type": "stream",
          "name": "stdout",
          "text": [
            "torch.Size([32, 5, 10])\n",
            "torch.Size([32, 5, 10])\n",
            "tensor(9.5367e-07)\n"
          ]
        }
      ]
    },
    {
      "cell_type": "code",
      "source": [
        "# repeat\n",
        "\n",
        "A = torch.rand(2,3)\n",
        "A_repeat = A.repeat(3,1,3,2) #뒤에서부터 => 2가 2번 반복, 3이 3번 반복한 덩어리가 1번 반복, 그 덩어리가 3번더 반복된거\n",
        "print(A)\n",
        "print(A_repeat)\n",
        "print(A_repeat.shape)"
      ],
      "metadata": {
        "colab": {
          "base_uri": "https://localhost:8080/"
        },
        "id": "gSHXTWwb6Foj",
        "outputId": "7198647a-8811-4ae9-e2d6-755bcb2cfcd9"
      },
      "execution_count": null,
      "outputs": [
        {
          "output_type": "stream",
          "name": "stdout",
          "text": [
            "tensor([[0.2612, 0.9477, 0.2327],\n",
            "        [0.3515, 0.2217, 0.4104]])\n",
            "tensor([[[[0.2612, 0.9477, 0.2327, 0.2612, 0.9477, 0.2327],\n",
            "          [0.3515, 0.2217, 0.4104, 0.3515, 0.2217, 0.4104],\n",
            "          [0.2612, 0.9477, 0.2327, 0.2612, 0.9477, 0.2327],\n",
            "          [0.3515, 0.2217, 0.4104, 0.3515, 0.2217, 0.4104],\n",
            "          [0.2612, 0.9477, 0.2327, 0.2612, 0.9477, 0.2327],\n",
            "          [0.3515, 0.2217, 0.4104, 0.3515, 0.2217, 0.4104]]],\n",
            "\n",
            "\n",
            "        [[[0.2612, 0.9477, 0.2327, 0.2612, 0.9477, 0.2327],\n",
            "          [0.3515, 0.2217, 0.4104, 0.3515, 0.2217, 0.4104],\n",
            "          [0.2612, 0.9477, 0.2327, 0.2612, 0.9477, 0.2327],\n",
            "          [0.3515, 0.2217, 0.4104, 0.3515, 0.2217, 0.4104],\n",
            "          [0.2612, 0.9477, 0.2327, 0.2612, 0.9477, 0.2327],\n",
            "          [0.3515, 0.2217, 0.4104, 0.3515, 0.2217, 0.4104]]],\n",
            "\n",
            "\n",
            "        [[[0.2612, 0.9477, 0.2327, 0.2612, 0.9477, 0.2327],\n",
            "          [0.3515, 0.2217, 0.4104, 0.3515, 0.2217, 0.4104],\n",
            "          [0.2612, 0.9477, 0.2327, 0.2612, 0.9477, 0.2327],\n",
            "          [0.3515, 0.2217, 0.4104, 0.3515, 0.2217, 0.4104],\n",
            "          [0.2612, 0.9477, 0.2327, 0.2612, 0.9477, 0.2327],\n",
            "          [0.3515, 0.2217, 0.4104, 0.3515, 0.2217, 0.4104]]]])\n",
            "torch.Size([3, 1, 6, 6])\n"
          ]
        }
      ]
    },
    {
      "cell_type": "markdown",
      "source": [
        "## numpy <-> torch 왔다갔다 가능"
      ],
      "metadata": {
        "id": "eMVxJdwP7NRD"
      }
    },
    {
      "cell_type": "code",
      "source": [
        "import numpy as np\n",
        "import torch\n",
        "\n",
        "a=np.array([1,2,3])\n",
        "b=torch.tensor([1,2,3])\n",
        "\n",
        "#numpy를 tensor로 변환\n",
        "A=torch.tensor(a) # A=torch.from_numpy(a)\n",
        "\n",
        "# tensor를 numpy로 변환\n",
        "B=b.numpy() # B=np.array(b)\n",
        "print(type(A))\n",
        "print(type(B))"
      ],
      "metadata": {
        "colab": {
          "base_uri": "https://localhost:8080/"
        },
        "id": "pVdV6ZHX7LcO",
        "outputId": "27fa5e0d-3f88-4436-8e4a-889343887ede"
      },
      "execution_count": null,
      "outputs": [
        {
          "output_type": "stream",
          "name": "stdout",
          "text": [
            "<class 'torch.Tensor'>\n",
            "<class 'numpy.ndarray'>\n"
          ]
        }
      ]
    },
    {
      "cell_type": "markdown",
      "source": [
        "## 딥러닝을 가능케한 autograd"
      ],
      "metadata": {
        "id": "xlb4cLGD7n7z"
      }
    },
    {
      "cell_type": "code",
      "source": [
        "x = torch.tensor([1.], requires_grad = True) # grad : 미분 , 안에 int는 불가능 실수형태여야함\n",
        "print(x)"
      ],
      "metadata": {
        "colab": {
          "base_uri": "https://localhost:8080/"
        },
        "id": "aESmt0n27a27",
        "outputId": "12171d69-d53c-448d-eeb6-316e572ec9f5"
      },
      "execution_count": null,
      "outputs": [
        {
          "output_type": "stream",
          "name": "stdout",
          "text": [
            "tensor([1.], requires_grad=True)\n"
          ]
        }
      ]
    },
    {
      "cell_type": "code",
      "source": [
        "x = torch.tensor([1.])\n",
        "print(x)\n",
        "print(x.requires_grad) # 원래는 False 형태"
      ],
      "metadata": {
        "colab": {
          "base_uri": "https://localhost:8080/"
        },
        "id": "2-xqKe3B7-Rh",
        "outputId": "a16a23b1-c736-4e66-b255-fa7090ef0d03"
      },
      "execution_count": null,
      "outputs": [
        {
          "output_type": "stream",
          "name": "stdout",
          "text": [
            "tensor([1.])\n",
            "False\n"
          ]
        }
      ]
    },
    {
      "cell_type": "code",
      "source": [
        "# 미분실행\n",
        "x = torch.tensor([1.], requires_grad = True) # grad : 미분 , 안에 int는 불가능 실수형태여야함\n",
        "y = x**2\n",
        "print(y) # PowBackward0 가 붙어있다!\n",
        "\n",
        "print(x.grad) \n",
        "y.backward() # 미분 \n",
        "print(x.grad) # y = x**2을 미분한 2x의 x값에 1을 대입한 gradient값"
      ],
      "metadata": {
        "colab": {
          "base_uri": "https://localhost:8080/"
        },
        "id": "ycYsn1KI8MEX",
        "outputId": "c1867f8a-9878-4ba8-eeaa-8e334570f1ce"
      },
      "execution_count": null,
      "outputs": [
        {
          "output_type": "stream",
          "name": "stdout",
          "text": [
            "tensor([1.], grad_fn=<PowBackward0>)\n",
            "None\n",
            "tensor([2.])\n"
          ]
        }
      ]
    },
    {
      "cell_type": "code",
      "source": [
        "x = torch.tensor([1.], requires_grad = True) # grad : 미분 , 안에 int는 불가능 실수형태여야함\n",
        "y = x**2\n",
        "print(y) # PowBackward0 가 붙어있다!\n",
        "#y.requires_grad = True -> erro발생, 처음 탄생한 아이 (x) 에만 적용됨\n",
        "# y.retain_grad() # 이걸 하면 y.grad도 볼 수 있다.\n",
        "\n",
        "z = 3*y\n",
        "print(z) # MulBackward0 가 붙어있음. (마지막에 한 연산이 나타남)\n",
        "\n",
        "z.backward()\n",
        "print(x.grad) # chain rule로 알아냄\n",
        "print(y.grad) # 뿌리 : x , 줄기 : x^2, 잎사귀 : x, 중간 단계인 y는 출력값이 안나옴"
      ],
      "metadata": {
        "colab": {
          "base_uri": "https://localhost:8080/"
        },
        "id": "UgHvQTst8cWn",
        "outputId": "d0d438c4-cf75-49aa-f464-e279f388052b"
      },
      "execution_count": null,
      "outputs": [
        {
          "output_type": "stream",
          "name": "stdout",
          "text": [
            "tensor([1.], grad_fn=<PowBackward0>)\n",
            "tensor([3.], grad_fn=<MulBackward0>)\n",
            "tensor([6.])\n",
            "None\n"
          ]
        },
        {
          "output_type": "stream",
          "name": "stderr",
          "text": [
            "<ipython-input-105-23dda4e5c5f0>:11: UserWarning: The .grad attribute of a Tensor that is not a leaf Tensor is being accessed. Its .grad attribute won't be populated during autograd.backward(). If you indeed want the .grad field to be populated for a non-leaf Tensor, use .retain_grad() on the non-leaf Tensor. If you access the non-leaf Tensor by mistake, make sure you access the leaf Tensor instead. See github.com/pytorch/pytorch/pull/30531 for more informations. (Triggered internally at aten/src/ATen/core/TensorBody.h:480.)\n",
            "  print(y.grad) # 뿌리 : x , 줄기 : x^2, 잎사귀 : x, 중간 단계인 y는 출력값이 안나옴\n"
          ]
        }
      ]
    },
    {
      "cell_type": "code",
      "source": [
        "x = torch.tensor([1.], requires_grad = True)\n",
        "y = x**2\n",
        "z = 3*y\n",
        "\n",
        "y.backward() # 이렇게하면 y에서부터 뒤로 넘어감(backward)\n",
        "print(x.grad)"
      ],
      "metadata": {
        "colab": {
          "base_uri": "https://localhost:8080/"
        },
        "id": "5Al7q3oA9NqX",
        "outputId": "2d70fbf7-9508-446d-cedb-243310fcfc6b"
      },
      "execution_count": null,
      "outputs": [
        {
          "output_type": "stream",
          "name": "stdout",
          "text": [
            "tensor([2.])\n",
            "tensor([2.])\n"
          ]
        }
      ]
    },
    {
      "cell_type": "code",
      "source": [
        "x = torch.tensor([1.], requires_grad = True)\n",
        "a = x**2\n",
        "b = a+1\n",
        "\n",
        "print(b) #AddBackward0 가 붙어있다. \n",
        "\n",
        "c = b**2\n",
        "c.backward()\n",
        "print(x.grad)"
      ],
      "metadata": {
        "colab": {
          "base_uri": "https://localhost:8080/"
        },
        "id": "nNWvh0py_XHa",
        "outputId": "c92d1bb1-1b15-487d-c64f-475317e118e1"
      },
      "execution_count": null,
      "outputs": [
        {
          "output_type": "stream",
          "name": "stdout",
          "text": [
            "tensor([2.], grad_fn=<AddBackward0>)\n",
            "tensor([8.])\n"
          ]
        }
      ]
    },
    {
      "cell_type": "code",
      "source": [
        "# leaf 텐서가 2개 \n",
        "x=torch.tensor([1.],requires_grad=True)\n",
        "y=torch.tensor([1.],requires_grad=True)\n",
        "\n",
        "z= 2*x**2 + y**2\n",
        "print(z)\n",
        "z.backward()\n",
        "\n",
        "# 편미분\n",
        "print(x.grad)\n",
        "print(y.grad)"
      ],
      "metadata": {
        "colab": {
          "base_uri": "https://localhost:8080/"
        },
        "id": "QggUcPOIAZFf",
        "outputId": "ecdef1fb-7b13-41c0-ca18-b0a09700eb6b"
      },
      "execution_count": null,
      "outputs": [
        {
          "output_type": "stream",
          "name": "stdout",
          "text": [
            "tensor([3.], grad_fn=<AddBackward0>)\n",
            "tensor([4.])\n",
            "tensor([2.])\n"
          ]
        }
      ]
    },
    {
      "cell_type": "code",
      "source": [
        "x=torch.tensor([1.],requires_grad=True)\n",
        "y=torch.tensor([1.],requires_grad=True)\n",
        "z= y*x**2\n",
        "z.backward()\n",
        "print(x.grad) # 2yx\n",
        "print(y.grad) # x^2"
      ],
      "metadata": {
        "colab": {
          "base_uri": "https://localhost:8080/"
        },
        "id": "SlR444VoA_ht",
        "outputId": "3f3ecb04-13a9-46d9-cebc-1f2805e8a345"
      },
      "execution_count": null,
      "outputs": [
        {
          "output_type": "stream",
          "name": "stdout",
          "text": [
            "tensor([2.])\n",
            "tensor([1.])\n"
          ]
        }
      ]
    },
    {
      "cell_type": "code",
      "source": [
        "x=torch.tensor([1., 2., 3.] ,requires_grad=True)\n",
        "y=torch.sum(x**2) # x1**2 + x2**2 + x3**2\n",
        "y.backward()\n",
        "\n",
        "print(y)\n",
        "print(x.grad) # 스칼라를 벡터로 미분"
      ],
      "metadata": {
        "colab": {
          "base_uri": "https://localhost:8080/"
        },
        "id": "V_68m2ehBNkr",
        "outputId": "9ba60092-45f0-4aab-c115-59c0491891a9"
      },
      "execution_count": null,
      "outputs": [
        {
          "output_type": "stream",
          "name": "stdout",
          "text": [
            "tensor(14., grad_fn=<SumBackward0>)\n",
            "tensor([2., 4., 6.])\n"
          ]
        }
      ]
    },
    {
      "cell_type": "code",
      "source": [
        "x=torch.tensor([1.] ,requires_grad=True)\n",
        "x.requires_grad=False \n",
        "# tranfer learning 할 때 필요\n",
        "y=x**2\n",
        "print(y)\n",
        "# y.backward() # error! "
      ],
      "metadata": {
        "colab": {
          "base_uri": "https://localhost:8080/"
        },
        "id": "xjEHC2p5Bda2",
        "outputId": "2d1ef1ce-b0cf-426c-cf56-c3880bb41067"
      },
      "execution_count": null,
      "outputs": [
        {
          "output_type": "stream",
          "name": "stdout",
          "text": [
            "tensor([1.])\n"
          ]
        }
      ]
    },
    {
      "cell_type": "code",
      "source": [
        "x=torch.tensor([2.] ,requires_grad=True)\n",
        "x=x.detach() # detach도 많이 쓰이는 듯 -> 뒤에 requires_grad 조건이 때어져버림림\n",
        "print(x)\n",
        "y=x**2\n",
        "print(y)"
      ],
      "metadata": {
        "colab": {
          "base_uri": "https://localhost:8080/"
        },
        "id": "WqRCMMDfBuDA",
        "outputId": "ba38101b-fded-48b4-eea3-a3599221cbd6"
      },
      "execution_count": null,
      "outputs": [
        {
          "output_type": "stream",
          "name": "stdout",
          "text": [
            "tensor([2.])\n",
            "tensor([4.])\n"
          ]
        }
      ]
    },
    {
      "cell_type": "code",
      "source": [
        "# detach 와 torch.no_grad\n",
        "x=torch.tensor([1.], requires_grad=True)\n",
        "# chain rule을 위해 계속 grad_fn을 update 하니까 grad_fn 잠시 안 계산하고 싶을 때 torch.no_grad\n",
        "# 모델 테스트 시에는 불필요하게 메모리 쓸 필요 없기 때문!\n",
        "with torch.no_grad(): \n",
        "    y = x**2\n",
        "    print(x.requires_grad)\n",
        "    print(y) # with 안에서 계산되는 애는 grad_fn 이 안붙음\n",
        "print(x.requires_grad)\n",
        "# y.backward() # error!\n",
        "y=x**2\n",
        "print(y)\n",
        "\n",
        "x=torch.tensor([1.], requires_grad=True)\n",
        "x=x.detach()\n",
        "y = x**2\n",
        "print(x.requires_grad) # detach때문에 False로 출력됨\n",
        "print(y)\n",
        "# y.backward() # error!"
      ],
      "metadata": {
        "colab": {
          "base_uri": "https://localhost:8080/"
        },
        "id": "qFocXGyHB531",
        "outputId": "52886209-e9fa-43a8-ab39-f9af34b5aef3"
      },
      "execution_count": null,
      "outputs": [
        {
          "output_type": "stream",
          "name": "stdout",
          "text": [
            "True\n",
            "tensor([1.])\n",
            "True\n",
            "tensor([1.], grad_fn=<PowBackward0>)\n",
            "False\n",
            "tensor([1.])\n"
          ]
        }
      ]
    },
    {
      "cell_type": "code",
      "source": [
        "!pip install torchviz\n",
        "from torchviz import make_dot\n",
        "x=torch.tensor([1.],requires_grad=True)\n",
        "make_dot(x)"
      ],
      "metadata": {
        "colab": {
          "base_uri": "https://localhost:8080/",
          "height": 349
        },
        "id": "XAqwcnKeCWn4",
        "outputId": "110e6be9-118a-46e0-f1cf-b6912aaad71f"
      },
      "execution_count": null,
      "outputs": [
        {
          "output_type": "stream",
          "name": "stdout",
          "text": [
            "Looking in indexes: https://pypi.org/simple, https://us-python.pkg.dev/colab-wheels/public/simple/\n",
            "Collecting torchviz\n",
            "  Downloading torchviz-0.0.2.tar.gz (4.9 kB)\n",
            "  Preparing metadata (setup.py) ... \u001b[?25l\u001b[?25hdone\n",
            "Requirement already satisfied: torch in /usr/local/lib/python3.8/dist-packages (from torchviz) (1.13.1+cu116)\n",
            "Requirement already satisfied: graphviz in /usr/local/lib/python3.8/dist-packages (from torchviz) (0.10.1)\n",
            "Requirement already satisfied: typing-extensions in /usr/local/lib/python3.8/dist-packages (from torch->torchviz) (4.4.0)\n",
            "Building wheels for collected packages: torchviz\n",
            "  Building wheel for torchviz (setup.py) ... \u001b[?25l\u001b[?25hdone\n",
            "  Created wheel for torchviz: filename=torchviz-0.0.2-py3-none-any.whl size=4151 sha256=5d57b7d3177e22192b09dcfb50c235d8653ac3c72d28b78851945e9c8c496674\n",
            "  Stored in directory: /root/.cache/pip/wheels/05/7d/1b/8306781244e42ede119edbb053bdcda1c1f424ca226165a417\n",
            "Successfully built torchviz\n",
            "Installing collected packages: torchviz\n",
            "Successfully installed torchviz-0.0.2\n"
          ]
        },
        {
          "output_type": "execute_result",
          "data": {
            "text/plain": [
              "<graphviz.dot.Digraph at 0x7f7f92664dc0>"
            ],
            "image/svg+xml": "<?xml version=\"1.0\" encoding=\"UTF-8\" standalone=\"no\"?>\n<!DOCTYPE svg PUBLIC \"-//W3C//DTD SVG 1.1//EN\"\n \"http://www.w3.org/Graphics/SVG/1.1/DTD/svg11.dtd\">\n<!-- Generated by graphviz version 2.43.0 (0)\n -->\n<!-- Title: %3 Pages: 1 -->\n<svg width=\"62pt\" height=\"39pt\"\n viewBox=\"0.00 0.00 62.00 39.00\" xmlns=\"http://www.w3.org/2000/svg\" xmlns:xlink=\"http://www.w3.org/1999/xlink\">\n<g id=\"graph0\" class=\"graph\" transform=\"scale(1 1) rotate(0) translate(4 35)\">\n<title>%3</title>\n<polygon fill=\"white\" stroke=\"transparent\" points=\"-4,4 -4,-35 58,-35 58,4 -4,4\"/>\n<!-- 140182645390368 -->\n<g id=\"node1\" class=\"node\">\n<title>140182645390368</title>\n<polygon fill=\"#caff70\" stroke=\"black\" points=\"54,-31 0,-31 0,0 54,0 54,-31\"/>\n<text text-anchor=\"middle\" x=\"27\" y=\"-7\" font-family=\"monospace\" font-size=\"10.00\"> (1)</text>\n</g>\n</g>\n</svg>\n"
          },
          "metadata": {},
          "execution_count": 118
        }
      ]
    },
    {
      "cell_type": "code",
      "source": [
        "x=torch.tensor([1., 2., 3.],requires_grad=True)\n",
        "# make_dot(x)\n",
        "make_dot(x**2) #AccumulateGrad : 누적이된다는 뜻"
      ],
      "metadata": {
        "colab": {
          "base_uri": "https://localhost:8080/",
          "height": 308
        },
        "id": "e1hHh9FuC-FR",
        "outputId": "46e1ba9a-0e20-409a-de04-0018f1c7f71d"
      },
      "execution_count": null,
      "outputs": [
        {
          "output_type": "execute_result",
          "data": {
            "text/plain": [
              "<graphviz.dot.Digraph at 0x7f7ed01a1220>"
            ],
            "image/svg+xml": "<?xml version=\"1.0\" encoding=\"UTF-8\" standalone=\"no\"?>\n<!DOCTYPE svg PUBLIC \"-//W3C//DTD SVG 1.1//EN\"\n \"http://www.w3.org/Graphics/SVG/1.1/DTD/svg11.dtd\">\n<!-- Generated by graphviz version 2.43.0 (0)\n -->\n<!-- Title: %3 Pages: 1 -->\n<svg width=\"109pt\" height=\"216pt\"\n viewBox=\"0.00 0.00 109.00 216.00\" xmlns=\"http://www.w3.org/2000/svg\" xmlns:xlink=\"http://www.w3.org/1999/xlink\">\n<g id=\"graph0\" class=\"graph\" transform=\"scale(1 1) rotate(0) translate(4 212)\">\n<title>%3</title>\n<polygon fill=\"white\" stroke=\"transparent\" points=\"-4,4 -4,-212 105,-212 105,4 -4,4\"/>\n<!-- 140182645426992 -->\n<g id=\"node1\" class=\"node\">\n<title>140182645426992</title>\n<polygon fill=\"#caff70\" stroke=\"black\" points=\"77.5,-31 23.5,-31 23.5,0 77.5,0 77.5,-31\"/>\n<text text-anchor=\"middle\" x=\"50.5\" y=\"-7\" font-family=\"monospace\" font-size=\"10.00\"> (3)</text>\n</g>\n<!-- 140182633976400 -->\n<g id=\"node2\" class=\"node\">\n<title>140182633976400</title>\n<polygon fill=\"lightgrey\" stroke=\"black\" points=\"95,-86 6,-86 6,-67 95,-67 95,-86\"/>\n<text text-anchor=\"middle\" x=\"50.5\" y=\"-74\" font-family=\"monospace\" font-size=\"10.00\">PowBackward0</text>\n</g>\n<!-- 140182633976400&#45;&gt;140182645426992 -->\n<g id=\"edge3\" class=\"edge\">\n<title>140182633976400&#45;&gt;140182645426992</title>\n<path fill=\"none\" stroke=\"black\" d=\"M50.5,-66.79C50.5,-60.07 50.5,-50.4 50.5,-41.34\"/>\n<polygon fill=\"black\" stroke=\"black\" points=\"54,-41.19 50.5,-31.19 47,-41.19 54,-41.19\"/>\n</g>\n<!-- 140182633976448 -->\n<g id=\"node3\" class=\"node\">\n<title>140182633976448</title>\n<polygon fill=\"lightgrey\" stroke=\"black\" points=\"101,-141 0,-141 0,-122 101,-122 101,-141\"/>\n<text text-anchor=\"middle\" x=\"50.5\" y=\"-129\" font-family=\"monospace\" font-size=\"10.00\">AccumulateGrad</text>\n</g>\n<!-- 140182633976448&#45;&gt;140182633976400 -->\n<g id=\"edge1\" class=\"edge\">\n<title>140182633976448&#45;&gt;140182633976400</title>\n<path fill=\"none\" stroke=\"black\" d=\"M50.5,-121.75C50.5,-114.8 50.5,-104.85 50.5,-96.13\"/>\n<polygon fill=\"black\" stroke=\"black\" points=\"54,-96.09 50.5,-86.09 47,-96.09 54,-96.09\"/>\n</g>\n<!-- 140182634346832 -->\n<g id=\"node4\" class=\"node\">\n<title>140182634346832</title>\n<polygon fill=\"lightblue\" stroke=\"black\" points=\"77.5,-208 23.5,-208 23.5,-177 77.5,-177 77.5,-208\"/>\n<text text-anchor=\"middle\" x=\"50.5\" y=\"-184\" font-family=\"monospace\" font-size=\"10.00\"> (3)</text>\n</g>\n<!-- 140182634346832&#45;&gt;140182633976448 -->\n<g id=\"edge2\" class=\"edge\">\n<title>140182634346832&#45;&gt;140182633976448</title>\n<path fill=\"none\" stroke=\"black\" d=\"M50.5,-176.92C50.5,-169.22 50.5,-159.69 50.5,-151.43\"/>\n<polygon fill=\"black\" stroke=\"black\" points=\"54,-151.25 50.5,-141.25 47,-151.25 54,-151.25\"/>\n</g>\n</g>\n</svg>\n"
          },
          "metadata": {},
          "execution_count": 121
        }
      ]
    },
    {
      "cell_type": "code",
      "source": [
        "make_dot(x**2+1) # 제곱이 먼저 -> 더하기1"
      ],
      "metadata": {
        "colab": {
          "base_uri": "https://localhost:8080/",
          "height": 382
        },
        "id": "Jp4KGrsADLqZ",
        "outputId": "eb9ba344-eafb-4a86-d66b-9ecd4b2a36af"
      },
      "execution_count": null,
      "outputs": [
        {
          "output_type": "execute_result",
          "data": {
            "text/plain": [
              "<graphviz.dot.Digraph at 0x7f7ed01a11c0>"
            ],
            "image/svg+xml": "<?xml version=\"1.0\" encoding=\"UTF-8\" standalone=\"no\"?>\n<!DOCTYPE svg PUBLIC \"-//W3C//DTD SVG 1.1//EN\"\n \"http://www.w3.org/Graphics/SVG/1.1/DTD/svg11.dtd\">\n<!-- Generated by graphviz version 2.43.0 (0)\n -->\n<!-- Title: %3 Pages: 1 -->\n<svg width=\"109pt\" height=\"271pt\"\n viewBox=\"0.00 0.00 109.00 271.00\" xmlns=\"http://www.w3.org/2000/svg\" xmlns:xlink=\"http://www.w3.org/1999/xlink\">\n<g id=\"graph0\" class=\"graph\" transform=\"scale(1 1) rotate(0) translate(4 267)\">\n<title>%3</title>\n<polygon fill=\"white\" stroke=\"transparent\" points=\"-4,4 -4,-267 105,-267 105,4 -4,4\"/>\n<!-- 140182633953456 -->\n<g id=\"node1\" class=\"node\">\n<title>140182633953456</title>\n<polygon fill=\"#caff70\" stroke=\"black\" points=\"77.5,-31 23.5,-31 23.5,0 77.5,0 77.5,-31\"/>\n<text text-anchor=\"middle\" x=\"50.5\" y=\"-7\" font-family=\"monospace\" font-size=\"10.00\"> (3)</text>\n</g>\n<!-- 140182633976496 -->\n<g id=\"node2\" class=\"node\">\n<title>140182633976496</title>\n<polygon fill=\"lightgrey\" stroke=\"black\" points=\"95,-86 6,-86 6,-67 95,-67 95,-86\"/>\n<text text-anchor=\"middle\" x=\"50.5\" y=\"-74\" font-family=\"monospace\" font-size=\"10.00\">AddBackward0</text>\n</g>\n<!-- 140182633976496&#45;&gt;140182633953456 -->\n<g id=\"edge4\" class=\"edge\">\n<title>140182633976496&#45;&gt;140182633953456</title>\n<path fill=\"none\" stroke=\"black\" d=\"M50.5,-66.79C50.5,-60.07 50.5,-50.4 50.5,-41.34\"/>\n<polygon fill=\"black\" stroke=\"black\" points=\"54,-41.19 50.5,-31.19 47,-41.19 54,-41.19\"/>\n</g>\n<!-- 140182633976688 -->\n<g id=\"node3\" class=\"node\">\n<title>140182633976688</title>\n<polygon fill=\"lightgrey\" stroke=\"black\" points=\"95,-141 6,-141 6,-122 95,-122 95,-141\"/>\n<text text-anchor=\"middle\" x=\"50.5\" y=\"-129\" font-family=\"monospace\" font-size=\"10.00\">PowBackward0</text>\n</g>\n<!-- 140182633976688&#45;&gt;140182633976496 -->\n<g id=\"edge1\" class=\"edge\">\n<title>140182633976688&#45;&gt;140182633976496</title>\n<path fill=\"none\" stroke=\"black\" d=\"M50.5,-121.75C50.5,-114.8 50.5,-104.85 50.5,-96.13\"/>\n<polygon fill=\"black\" stroke=\"black\" points=\"54,-96.09 50.5,-86.09 47,-96.09 54,-96.09\"/>\n</g>\n<!-- 140182633976448 -->\n<g id=\"node4\" class=\"node\">\n<title>140182633976448</title>\n<polygon fill=\"lightgrey\" stroke=\"black\" points=\"101,-196 0,-196 0,-177 101,-177 101,-196\"/>\n<text text-anchor=\"middle\" x=\"50.5\" y=\"-184\" font-family=\"monospace\" font-size=\"10.00\">AccumulateGrad</text>\n</g>\n<!-- 140182633976448&#45;&gt;140182633976688 -->\n<g id=\"edge2\" class=\"edge\">\n<title>140182633976448&#45;&gt;140182633976688</title>\n<path fill=\"none\" stroke=\"black\" d=\"M50.5,-176.75C50.5,-169.8 50.5,-159.85 50.5,-151.13\"/>\n<polygon fill=\"black\" stroke=\"black\" points=\"54,-151.09 50.5,-141.09 47,-151.09 54,-151.09\"/>\n</g>\n<!-- 140182634346832 -->\n<g id=\"node5\" class=\"node\">\n<title>140182634346832</title>\n<polygon fill=\"lightblue\" stroke=\"black\" points=\"77.5,-263 23.5,-263 23.5,-232 77.5,-232 77.5,-263\"/>\n<text text-anchor=\"middle\" x=\"50.5\" y=\"-239\" font-family=\"monospace\" font-size=\"10.00\"> (3)</text>\n</g>\n<!-- 140182634346832&#45;&gt;140182633976448 -->\n<g id=\"edge3\" class=\"edge\">\n<title>140182634346832&#45;&gt;140182633976448</title>\n<path fill=\"none\" stroke=\"black\" d=\"M50.5,-231.92C50.5,-224.22 50.5,-214.69 50.5,-206.43\"/>\n<polygon fill=\"black\" stroke=\"black\" points=\"54,-206.25 50.5,-196.25 47,-206.25 54,-206.25\"/>\n</g>\n</g>\n</svg>\n"
          },
          "metadata": {},
          "execution_count": 122
        }
      ]
    },
    {
      "cell_type": "code",
      "source": [
        "make_dot((x**2+1)**2) # 제곱이 먼저 -> 더하기1 -> 다시 제곱"
      ],
      "metadata": {
        "colab": {
          "base_uri": "https://localhost:8080/",
          "height": 455
        },
        "id": "pwYxvhO-DWxE",
        "outputId": "eb4d42dd-5062-4fda-9f82-5347047101eb"
      },
      "execution_count": null,
      "outputs": [
        {
          "output_type": "execute_result",
          "data": {
            "text/plain": [
              "<graphviz.dot.Digraph at 0x7f7ed01a16d0>"
            ],
            "image/svg+xml": "<?xml version=\"1.0\" encoding=\"UTF-8\" standalone=\"no\"?>\n<!DOCTYPE svg PUBLIC \"-//W3C//DTD SVG 1.1//EN\"\n \"http://www.w3.org/Graphics/SVG/1.1/DTD/svg11.dtd\">\n<!-- Generated by graphviz version 2.43.0 (0)\n -->\n<!-- Title: %3 Pages: 1 -->\n<svg width=\"109pt\" height=\"326pt\"\n viewBox=\"0.00 0.00 109.00 326.00\" xmlns=\"http://www.w3.org/2000/svg\" xmlns:xlink=\"http://www.w3.org/1999/xlink\">\n<g id=\"graph0\" class=\"graph\" transform=\"scale(1 1) rotate(0) translate(4 322)\">\n<title>%3</title>\n<polygon fill=\"white\" stroke=\"transparent\" points=\"-4,4 -4,-322 105,-322 105,4 -4,4\"/>\n<!-- 140182634347472 -->\n<g id=\"node1\" class=\"node\">\n<title>140182634347472</title>\n<polygon fill=\"#caff70\" stroke=\"black\" points=\"77.5,-31 23.5,-31 23.5,0 77.5,0 77.5,-31\"/>\n<text text-anchor=\"middle\" x=\"50.5\" y=\"-7\" font-family=\"monospace\" font-size=\"10.00\"> (3)</text>\n</g>\n<!-- 140182633977456 -->\n<g id=\"node2\" class=\"node\">\n<title>140182633977456</title>\n<polygon fill=\"lightgrey\" stroke=\"black\" points=\"95,-86 6,-86 6,-67 95,-67 95,-86\"/>\n<text text-anchor=\"middle\" x=\"50.5\" y=\"-74\" font-family=\"monospace\" font-size=\"10.00\">PowBackward0</text>\n</g>\n<!-- 140182633977456&#45;&gt;140182634347472 -->\n<g id=\"edge5\" class=\"edge\">\n<title>140182633977456&#45;&gt;140182634347472</title>\n<path fill=\"none\" stroke=\"black\" d=\"M50.5,-66.79C50.5,-60.07 50.5,-50.4 50.5,-41.34\"/>\n<polygon fill=\"black\" stroke=\"black\" points=\"54,-41.19 50.5,-31.19 47,-41.19 54,-41.19\"/>\n</g>\n<!-- 140182633977072 -->\n<g id=\"node3\" class=\"node\">\n<title>140182633977072</title>\n<polygon fill=\"lightgrey\" stroke=\"black\" points=\"95,-141 6,-141 6,-122 95,-122 95,-141\"/>\n<text text-anchor=\"middle\" x=\"50.5\" y=\"-129\" font-family=\"monospace\" font-size=\"10.00\">AddBackward0</text>\n</g>\n<!-- 140182633977072&#45;&gt;140182633977456 -->\n<g id=\"edge1\" class=\"edge\">\n<title>140182633977072&#45;&gt;140182633977456</title>\n<path fill=\"none\" stroke=\"black\" d=\"M50.5,-121.75C50.5,-114.8 50.5,-104.85 50.5,-96.13\"/>\n<polygon fill=\"black\" stroke=\"black\" points=\"54,-96.09 50.5,-86.09 47,-96.09 54,-96.09\"/>\n</g>\n<!-- 140182633976976 -->\n<g id=\"node4\" class=\"node\">\n<title>140182633976976</title>\n<polygon fill=\"lightgrey\" stroke=\"black\" points=\"95,-196 6,-196 6,-177 95,-177 95,-196\"/>\n<text text-anchor=\"middle\" x=\"50.5\" y=\"-184\" font-family=\"monospace\" font-size=\"10.00\">PowBackward0</text>\n</g>\n<!-- 140182633976976&#45;&gt;140182633977072 -->\n<g id=\"edge2\" class=\"edge\">\n<title>140182633976976&#45;&gt;140182633977072</title>\n<path fill=\"none\" stroke=\"black\" d=\"M50.5,-176.75C50.5,-169.8 50.5,-159.85 50.5,-151.13\"/>\n<polygon fill=\"black\" stroke=\"black\" points=\"54,-151.09 50.5,-141.09 47,-151.09 54,-151.09\"/>\n</g>\n<!-- 140182633976448 -->\n<g id=\"node5\" class=\"node\">\n<title>140182633976448</title>\n<polygon fill=\"lightgrey\" stroke=\"black\" points=\"101,-251 0,-251 0,-232 101,-232 101,-251\"/>\n<text text-anchor=\"middle\" x=\"50.5\" y=\"-239\" font-family=\"monospace\" font-size=\"10.00\">AccumulateGrad</text>\n</g>\n<!-- 140182633976448&#45;&gt;140182633976976 -->\n<g id=\"edge3\" class=\"edge\">\n<title>140182633976448&#45;&gt;140182633976976</title>\n<path fill=\"none\" stroke=\"black\" d=\"M50.5,-231.75C50.5,-224.8 50.5,-214.85 50.5,-206.13\"/>\n<polygon fill=\"black\" stroke=\"black\" points=\"54,-206.09 50.5,-196.09 47,-206.09 54,-206.09\"/>\n</g>\n<!-- 140182634346832 -->\n<g id=\"node6\" class=\"node\">\n<title>140182634346832</title>\n<polygon fill=\"lightblue\" stroke=\"black\" points=\"77.5,-318 23.5,-318 23.5,-287 77.5,-287 77.5,-318\"/>\n<text text-anchor=\"middle\" x=\"50.5\" y=\"-294\" font-family=\"monospace\" font-size=\"10.00\"> (3)</text>\n</g>\n<!-- 140182634346832&#45;&gt;140182633976448 -->\n<g id=\"edge4\" class=\"edge\">\n<title>140182634346832&#45;&gt;140182633976448</title>\n<path fill=\"none\" stroke=\"black\" d=\"M50.5,-286.92C50.5,-279.22 50.5,-269.69 50.5,-261.43\"/>\n<polygon fill=\"black\" stroke=\"black\" points=\"54,-261.25 50.5,-251.25 47,-261.25 54,-261.25\"/>\n</g>\n</g>\n</svg>\n"
          },
          "metadata": {},
          "execution_count": 123
        }
      ]
    },
    {
      "cell_type": "code",
      "source": [],
      "metadata": {
        "id": "SF1aq2WGDjeD"
      },
      "execution_count": null,
      "outputs": []
    }
  ]
}