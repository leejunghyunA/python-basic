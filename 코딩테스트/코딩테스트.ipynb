{
 "cells": [
  {
   "cell_type": "markdown",
   "id": "6a32ab52",
   "metadata": {},
   "source": [
    "## 1. 문제\n",
    "\n",
    "입력된 리스트에서 가장 작은 수 빼고 출력, 만약 리스트의 원소가 1개면 [-1] return"
   ]
  },
  {
   "cell_type": "markdown",
   "id": "efb78d65",
   "metadata": {},
   "source": [
    "# ✍️나의 풀이"
   ]
  },
  {
   "cell_type": "code",
   "execution_count": null,
   "id": "11321506",
   "metadata": {},
   "outputs": [],
   "source": [
    "def solution(arr):\n",
    "    ex = min(arr)\n",
    "    if len(arr) == 1:\n",
    "        answer = [-1]\n",
    "    else:\n",
    "        arr.remove(ex) # 실수한 부분1\n",
    "        answer = arr\n",
    "    print(answer)"
   ]
  },
  {
   "cell_type": "markdown",
   "id": "36f03145",
   "metadata": {},
   "source": [
    "*실수했던 부분\n",
    "\n",
    "arr.remove(ex)\n",
    "\n",
    "remove는 리스트에서 입력받은 원소를 지워주는 역할\n",
    "\n",
    "처음에 코드를 한줄이라도 줄이고자 answer = arr.remove(ex) 로 입력했는데 자꾸 null로 오류가 뜸…..\n",
    "\n",
    "→ 🤔 remove는 정의를 내리면 입력이 안받아짐… 옛날에는 그냥 그렇구나 하고 넘겼는데 왜지…?"
   ]
  },
  {
   "cell_type": "markdown",
   "id": "e0fb910e",
   "metadata": {},
   "source": [
    "- 다른사람 풀이"
   ]
  },
  {
   "cell_type": "code",
   "execution_count": null,
   "id": "eff9e27d",
   "metadata": {},
   "outputs": [],
   "source": [
    "def solution(arr):\n",
    "    return [i for i in arr if i > min(mylist)]"
   ]
  },
  {
   "cell_type": "markdown",
   "id": "3ca10db6",
   "metadata": {},
   "source": [
    "한줄로 정리됨…"
   ]
  },
  {
   "cell_type": "markdown",
   "id": "a8536bb0",
   "metadata": {},
   "source": [
    "## 2. 문제\n",
    "### 가장 가까운 글자 찾기\n",
    "\n",
    "문자열 `s`가 주어졌을 때, `s`의 각 위치마다 자신보다 앞에 나왔으면서, 자신과 가장 가까운 곳에 있는 같은 글자가 어디 있는지 알고 싶습니다.예를 들어, `s`=\"banana\"라고 할 때,  각 글자들을 왼쪽부터 오른쪽으로 읽어 나가면서 다음과 같이 진행할 수 있습니다.\n",
    "\n",
    "- b는 처음 나왔기 때문에 자신의 앞에 같은 글자가 없습니다. 이는 -1로 표현합니다.\n",
    "- a는 처음 나왔기 때문에 자신의 앞에 같은 글자가 없습니다. 이는 -1로 표현합니다.\n",
    "- n은 처음 나왔기 때문에 자신의 앞에 같은 글자가 없습니다. 이는 -1로 표현합니다.\n",
    "- a는 자신보다 두 칸 앞에 a가 있습니다. 이는 2로 표현합니다.\n",
    "- n도 자신보다 두 칸 앞에 n이 있습니다. 이는 2로 표현합니다.\n",
    "- a는 자신보다 두 칸, 네 칸 앞에 a가 있습니다. 이 중 가까운 것은 두 칸 앞이고, 이는 2로 표현합니다.\n",
    "\n",
    "따라서 최종 결과물은 [-1, -1, -1, 2, 2, 2]가 됩니다.\n",
    "\n",
    "문자열 `s`이 주어질 때, 위와 같이 정의된 연산을 수행하는 함수 solution을 완성해주세요.\n",
    "\n",
    "*주의사항: 모든 문자는 알파벳 소문자로 구성됨"
   ]
  },
  {
   "cell_type": "markdown",
   "id": "b2e968f3",
   "metadata": {},
   "source": [
    "# ✍️나의 풀이"
   ]
  },
  {
   "cell_type": "code",
   "execution_count": null,
   "id": "644ff8a0",
   "metadata": {},
   "outputs": [],
   "source": [
    "def solution(s):\n",
    "    answer = []\n",
    "    \n",
    "    # 리스트 형태로 만든 후 순서 뒤짚기\n",
    "    lis = list(s)\n",
    "    lis.reverse()\n",
    "    lis = ''.join(lis)\n",
    "    \n",
    "    for ind, i in enumerate(lis):\n",
    "        b = lis.find(i, ind+1)\n",
    "        \n",
    "        if b > 0:\n",
    "            # 맨 앞에 해당하는 숫자 채우기(거꾸로 저장)\n",
    "            answer.insert(0, b-ind)\n",
    "        else:\n",
    "            answer.insert(0, b)\n",
    "    return answer"
   ]
  },
  {
   "cell_type": "markdown",
   "id": "d06fc24d",
   "metadata": {},
   "source": [
    "### 풀이순서\n",
    "\n",
    "- 1)문자열 뒤짚기 → 2)find 함수로 인덱스 찾기 → 3)차례대로 맨 앞에 추가해주기\n",
    "\n",
    "1) 먼저 이 문제는 뒤에있는 아이를 찾는게 아닌 앞에 있는 문자의 유무를 따짐 → 문자열을 뒤짚어서 사용하기로 결정"
   ]
  },
  {
   "cell_type": "code",
   "execution_count": null,
   "id": "35d4b861",
   "metadata": {},
   "outputs": [],
   "source": [
    "s = 'banana'\n",
    "s = list(s) # 1) reverse를 사용하기 위해 리스트로 먼저 변경\n",
    "s.reverse() # 이때도 전에 문제처럼 lia = s.reverse()로 하면 적용 안됨\n",
    "lis = ''.join(s) # 문자 형태로 인덱스를 찾는 법을 선택해서 다시 문자로 변경"
   ]
  },
  {
   "cell_type": "markdown",
   "id": "85b2a2d0",
   "metadata": {},
   "source": [
    "2) 문자열.**find**(찾는 문자) 이용\n",
    "\n",
    "문자열에서 찾는 문자의 가장 처음에 나오는 인덱스를 배출"
   ]
  },
  {
   "cell_type": "code",
   "execution_count": null,
   "id": "bb7d84f8",
   "metadata": {},
   "outputs": [],
   "source": [
    "lis = 'banana'\n",
    "lis.find('a') # a가 가장 처음 나오는 인덱스 1을 배출\n",
    "\n",
    "# key1 . 이때 시작하는 위치를 정할 수 있음\n",
    "lis.find('a', 2) # 2번째 인덱스인 nana에서 a가 가장 처음 나오는 3을 배출\n",
    "\n",
    "# key2. 찾는 문자가 없는 경우 -1을 배출\n",
    "lis.find('c') # 찾는 문자가 없어서 -1을 배출"
   ]
  },
  {
   "cell_type": "markdown",
   "id": "7272d49a",
   "metadata": {},
   "source": [
    "3) 가장 근접해있는 인덱스 - 현재 인덱스 \n",
    "\n",
    "‘an**a**nab’에서 **‘a’** 즉, 인덱스 2와 근접한 인덱스를 찾아보자. 답은 ‘a’인 4\n",
    "\n",
    "최종적으로 원하는 답은 4-2인 2 == 가장 근접해있는 인덱스 - 현재 인덱스 \n",
    "\n",
    "문자열을 거꾸로 뒤짚어서 사용했기 때문에 최종 결과에는 반대순서로 저장 (최종 output)\n",
    "\n",
    "→ insert 함수 사용"
   ]
  },
  {
   "cell_type": "code",
   "execution_count": null,
   "id": "ef52c5cf",
   "metadata": {},
   "outputs": [],
   "source": [
    "answer = [] # 최종 output\n",
    "\n",
    "for ind, i in enumerate(lis):\n",
    "    b = lis.find(i, ind+1) # 해당 문자열 다음부터 찾아하기때문에 ind+1을 해줌\n",
    "    \n",
    "    if b > 0:\n",
    "  # li.insert(x, y) : 리스트 x번째 인덱스에 y 추가\n",
    "        answer.insert(0, b-ind) # 0번째 인덱스에 b-ind를 저장해줌\n",
    "    \n",
    "    else:\n",
    "        answer.insert(0, b) # -1인 경우는 그대로 저장"
   ]
  },
  {
   "cell_type": "markdown",
   "id": "cc151378",
   "metadata": {},
   "source": [
    "### 😢나의 소감\n",
    "\n",
    "이거하고 뇌 좀 쓴 기분이 드는건 왜 일까…. Logistic 공부하다 삘 받아서 코딩 했는데 너무 기빨린다…. list 개념도 부족해서 어떻게 할지 계속 구글링하고 만약 reverse나 insert 등 함수 기능을 더 다양하게 알았다면 좀 더 간략하고 효율적이게 풀었을텐뎅,,, 언젠가 그 날이 오겠쥐…?"
   ]
  },
  {
   "cell_type": "markdown",
   "id": "3367ecdf",
   "metadata": {},
   "source": [
    "- 다른분 코드"
   ]
  },
  {
   "cell_type": "code",
   "execution_count": null,
   "id": "536bc0c1",
   "metadata": {},
   "outputs": [],
   "source": [
    "def solution(s):\n",
    "    last = dict() # 1. 빈 딕셔너리를 만들어주고\n",
    "    answer = []\n",
    "    for i, c in enumerate(s):\n",
    "        answer.append(i - last[c] if c in last else -1) \n",
    "# i : 현재 인덱스 - last[c] : 현재 문자의 최근 인덱스 번호\n",
    "        last[c] = i # {'b' : 1} 처럼 마지막 문자열로 업데이트\n",
    "    return answer"
   ]
  },
  {
   "cell_type": "markdown",
   "id": "db32db9a",
   "metadata": {},
   "source": [
    "→ 내가 1, 2 번에서 사용한 reverse와 find를 사용안하고 이렇게 간단히 풀다니… 당신 천잰걸 "
   ]
  },
  {
   "cell_type": "markdown",
   "id": "778dfc7a",
   "metadata": {},
   "source": [
    "## 3. 문제\n",
    "고객의 약관 동의를 얻어서 수집된 1~`n`번으로 분류되는 개인정보 `n`개가 있습니다. 약관 종류는 여러 가지 있으며 각 약관마다 개인정보 보관 유효기간이 정해져 있습니다. 당신은 각 개인정보가 어떤 약관으로 수집됐는지 알고 있습니다. 수집된 개인정보는 유효기간 전까지만 보관 가능하며, 유효기간이 지났다면 반드시 파기해야 합니다.\n",
    "\n",
    "예를 들어, A라는 약관의 유효기간이 12 달이고, 2021년 1월 5일에 수집된 개인정보가 A약관으로 수집되었다면 해당 개인정보는 2022년 1월 4일까지 보관 가능하며 2022년 1월 5일부터 파기해야 할 개인정보입니다.당신은 오늘 날짜로 파기해야 할 개인정보 번호들을 구하려 합니다.\n",
    "\n",
    "**모든 달은 28일까지 있다고 가정합니다.**\n",
    "\n",
    "다음은 오늘 날짜가 `2022.05.19`일 때의 예시입니다.\n",
    "\n",
    "| 약관 종류 | 유효기간 |\n",
    "| --- | --- |\n",
    "| A | 6 달 |\n",
    "| B | 12 달 |\n",
    "| C | 3 달 |\n",
    "\n",
    "| 번호 | 개인정보 수집 일자 | 약관 종류 |\n",
    "| --- | --- | --- |\n",
    "| 1 | 2021.05.02 | A |\n",
    "| 2 | 2021.07.01 | B |\n",
    "| 3 | 2022.02.19 | C |\n",
    "| 4 | 2022.02.20 | C |\n",
    "- 첫 번째 개인정보는 A약관에 의해 2021년 11월 1일까지 보관 가능하며, 유효기간이 지났으므로 파기해야 할 개인정보입니다.\n",
    "- 두 번째 개인정보는 B약관에 의해 2022년 6월 28일까지 보관 가능하며, 유효기간이 지나지 않았으므로 아직 보관 가능합니다.\n",
    "- 세 번째 개인정보는 C약관에 의해 2022년 5월 18일까지 보관 가능하며, 유효기간이 지났으므로 파기해야 할 개인정보입니다.\n",
    "- 네 번째 개인정보는 C약관에 의해 2022년 5월 19일까지 보관 가능하며, 유효기간이 지나지 않았으므로 아직 보관 가능합니다.\n",
    "\n",
    "따라서 파기해야 할 개인정보 번호는 [1, 3]입니다.\n",
    "\n",
    "오늘 날짜를 의미하는 문자열 `today`, 약관의 유효기간을 담은 1차원 문자열 배열 `terms`와 수집된 개인정보의 정보를 담은 1차원 문자열 배열 `privacies`가 매개변수로 주어집니다. 이때 파기해야 할 개인정보의 번호를 오름차순으로 1차원 정수 배열에 담아 return 하도록 solution 함수를 완성해 주세요.\n",
    "\n",
    "---\n",
    "\n",
    "### 제한사항\n",
    "\n",
    "- `today`는 \"`YYYY`.`MM`.`DD`\" 형태로 오늘 날짜를 나타냅니다.\n",
    "- 1 ≤ `terms`의 길이 ≤ 20\n",
    "    - `terms`의 원소는 \"`약관 종류` `유효기간`\" 형태의 `약관 종류`와 `유효기간`을 공백 하나로 구분한 문자열입니다.\n",
    "    - `약관 종류`는 `A`~`Z`중 알파벳 대문자 하나이며, `terms` 배열에서 `약관 종류`는 중복되지 않습니다.\n",
    "    - `유효기간`은 개인정보를 보관할 수 있는 달 수를 나타내는 정수이며, 1 이상 100 이하입니다.\n",
    "- 1 ≤ `privacies`의 길이 ≤ 100\n",
    "    - `privacies[i]`는 `i+1`번 개인정보의 수집 일자와 약관 종류를 나타냅니다.\n",
    "    - `privacies`의 원소는 \"`날짜` `약관 종류`\" 형태의 `날짜`와 `약관 종류`를 공백 하나로 구분한 문자열입니다.\n",
    "    - `날짜`는 \"`YYYY`.`MM`.`DD`\" 형태의 개인정보가 수집된 날짜를 나타내며, `today` 이전의 날짜만 주어집니다.\n",
    "    - `privacies`의 `약관 종류`는 항상 `terms`에 나타난 `약관 종류`만 주어집니다.\n",
    "- `today`와 `privacies`에 등장하는 `날짜`의 `YYYY`는 연도, `MM`은 월, `DD`는 일을 나타내며 점(`.`) 하나로 구분되어 있습니다.\n",
    "    - 2000 ≤ `YYYY` ≤ 2022\n",
    "    - 1 ≤ `MM` ≤ 12\n",
    "    - `MM`이 한 자릿수인 경우 앞에 0이 붙습니다.\n",
    "    - 1 ≤ `DD` ≤ 28\n",
    "    - `DD`가 한 자릿수인 경우 앞에 0이 붙습니다.\n",
    "- 파기해야 할 개인정보가 하나 이상 존재하는 입력만 주어집니다.\n",
    "---\n",
    "# ✍️나의 풀이"
   ]
  },
  {
   "cell_type": "code",
   "execution_count": null,
   "id": "643008b2",
   "metadata": {},
   "outputs": [],
   "source": [
    "def solution(today, terms, privacies):\n",
    "    answer = []\n",
    "    # tems와 privacies 형태 변경해주기\n",
    "    \n",
    "    # 비교할 오늘 날짜\n",
    "    today_ = ''.join(x for x in today if x not in '.')\n",
    "    \n",
    "    termsdict = {} # term담을 딕셔너리\n",
    "    for j in range(len(terms)):\n",
    "        # terms 나누기 (알파벳, 유효기간 달)\n",
    "        type_, termnum = terms[j].split(' ')\n",
    "        termsdict[type_] = int(termnum)\n",
    "        \n",
    "    for i in range(len(privacies)):\n",
    "        # privacies 나누기\n",
    "        joindate, jointype = privacies[i].split(' ')\n",
    "        \n",
    "        # joindate 나누기\n",
    "        year, month, day = joindate.split('.')\n",
    "        \n",
    "        # 최종 결과\n",
    "        total_month = int(month) + termsdict[jointype]\n",
    "        \n",
    "        y_, m_ = divmod(total_month, 12)\n",
    "        \n",
    "        if m_ == 0:\n",
    "            year = str(int(year) + y_ -1)\n",
    "            total_month = 12\n",
    "        else:\n",
    "            year = str(int(year)+y_)\n",
    "            total_month = m_\n",
    "        \n",
    "        month = str(total_month)\n",
    "        if len(month) == 1 :\n",
    "            month = '0' + month\n",
    "        \n",
    "        total_date = year+month+day\n",
    "        \n",
    "        if int(today_) >= int(total_date) :\n",
    "            answer.append(i+1)\n",
    "            \n",
    "    return answer"
   ]
  },
  {
   "cell_type": "markdown",
   "id": "d48aa31d",
   "metadata": {},
   "source": [
    "## *풀이과정\n",
    "\n",
    "<조건>\n",
    "\n",
    "> today = yyyy. mm.dd\n",
    "terms = 약관종류(알파벳), 유효기간(달)\n",
    "privacies = 가입 날짜(yyyy.mm.dd), 약관 종류\n",
    "> \n",
    "\n",
    "→ 구하려는 답: 유효기간이 종료한 번호 ex. [1. 3]\n",
    "\n",
    "1) **최종 유효기간 일** = 가입날짜인 mm + 유효기간(달) \n",
    "\n",
    "2) **최종 유효기간 일 ≥ today(오늘 날짜)**"
   ]
  },
  {
   "cell_type": "markdown",
   "id": "8a8e07d7",
   "metadata": {},
   "source": [
    "## 상세풀이\n",
    "\n",
    "1) **최종 유효기간 일** = 가입날짜인 mm + 유효기간(달)"
   ]
  },
  {
   "cell_type": "code",
   "execution_count": null,
   "id": "ebbfe84a",
   "metadata": {},
   "outputs": [],
   "source": [
    "# 1. terms 형태 딕셔너리로 저장\n",
    "termsdict = {} # term담을 딕셔너리\n",
    "\n",
    "for j in range(len(terms)):\n",
    "# terms 나누기 (알파벳, 유효기간 달)\n",
    "    type_, termnum = terms[j].split(' ')\n",
    "    termsdict[type_] = int(termnum)\n",
    "\n",
    "# 2. privacies 형태 변환 후 해당하는 약관 종류의 유효기간 더하기 (이를 위해 1.을 먼저 해줌)\n",
    "\n",
    "for i in range(len(privacies)):\n",
    "    # privacies 나누기\n",
    "    joindate, jointype = privacies[i].split(' ')\n",
    "        \n",
    "    # joindate 년, 월, 일로 나누기 \n",
    "    year, month, day = joindate.split('.')\n",
    "        \n",
    "    # 최종 결과 (월만 추출)\n",
    "    total_month = int(month) + termsdict[jointype]"
   ]
  },
  {
   "cell_type": "markdown",
   "id": "fd359db7",
   "metadata": {},
   "source": [
    "이때, 고려사항!\n",
    "\n",
    "1) total_month가 23, 13 등 12월을 넘어가는 경우 고려 _ *ex. 2001.23.03 → 2002.11.03*\n",
    "\n",
    "2) 딱 12월인 경우 - 만약 24, 12 등 딱 12의 배수인 경우 _ *ex. 2001.24.03 → 2002.12.03*\n",
    "\n",
    "두 가지 조건 모두 12의 나머지와 몫을 이용!\n",
    "\n",
    "- divmod함수 사용\n",
    "    \n",
    "    > divmod(total_month, 12) = 몫, 나머지\n",
    "    > \n",
    "    \n",
    "    ***최종 년도 = 가입 년도 + 몫, 최종 월 = 나머지***\n",
    "    \n",
    "    **이때, 2) 조건인 경우는 나머지가 0이므로 0월이 됨\n",
    "    \n",
    "    ***→ 최종 년도 = 가입 년도 + 몫 - 1, 최종 월 = 12***"
   ]
  },
  {
   "cell_type": "code",
   "execution_count": null,
   "id": "45d42c29",
   "metadata": {},
   "outputs": [],
   "source": [
    "# 몫, 나머지\n",
    "y_, m_ = divmod(total_month, 12)\n",
    "\n",
    "# 2)의 조건\n",
    "if m_ == 0:\n",
    "    year = str(int(year) + y_ -1)\n",
    "    total_month = 12\n",
    "\n",
    "# 1)의 조건\n",
    "else:\n",
    "    year = str(int(year)+y_)\n",
    "    total_month = m_"
   ]
  },
  {
   "cell_type": "markdown",
   "id": "f638ffa4",
   "metadata": {},
   "source": [
    "2) **최종 유효기간 일 ≥ today(오늘 날짜)**\n",
    "\n",
    "- 위에서 구한 year + total_month + day를 다시 문자형으로 변환\n",
    "- today 와 최종 비교\n",
    "\n",
    "*고려사항, total_month가 int형이라 9, 7을 바로 str 형태로 변환하면 ‘09’가 아닌 ‘9’로 변경됨* \n",
    "\n",
    "→ 이때, today가 ‘20240905’ 인데 최종 유효기간이 ‘2024905’로 비교 조건에 맞지 않게됨\n",
    "\n",
    "이를 고려해서 코드 생성"
   ]
  },
  {
   "cell_type": "code",
   "execution_count": null,
   "id": "30c2d425",
   "metadata": {},
   "outputs": [],
   "source": [
    "month = str(total_month)\n",
    "\n",
    "# 10 이하 일때, 0 붙이기\n",
    "if len(month) == 1 :\n",
    "    month = '0' + month\n",
    "\n",
    "total_date = year+month+day\n",
    "\n",
    "# today 날자 형태 변환\n",
    "today_ = ''.join(x for x in today if x not in '.')\n",
    "\n",
    "# 최종 비교 (최종 조건은 유효기간의 하루 전날 까지 이므로 같은 경우도 포함)\n",
    "if int(today_) >= int(total_date) :\n",
    "    answer.append(i+1)"
   ]
  },
  {
   "cell_type": "markdown",
   "id": "13b2e538",
   "metadata": {},
   "source": [
    "### ☠️실수투성이 Top3\n",
    "\n",
    "### 실수한 점1.\n",
    "\n",
    "날짜 문제라고 **datetime** 포맷으로 푸려다 돌아옴…. \n",
    "\n",
    "*오늘의 깨달음 : 함수가 정답은 아니다 머리가 좋아야한다…*\n",
    "\n",
    "### 실수한 점2.\n",
    "\n",
    "day day 왜 생각했뉘\n",
    "\n",
    "[처음 했던 코드]"
   ]
  },
  {
   "cell_type": "code",
   "execution_count": 26,
   "id": "11339e11",
   "metadata": {},
   "outputs": [],
   "source": [
    "day = '25'\n",
    "\n",
    "total_day = int(day) - 1\n",
    "\n",
    "if total_day == 0:\n",
    "    day = '28'\n",
    "    month = str(total_month - 1)"
   ]
  },
  {
   "cell_type": "markdown",
   "id": "d6a7e600",
   "metadata": {},
   "source": [
    "day가 28일까지라 처음 조건에 day-1을 한 후 다시 이 최종 day가 0이면 28로 바꾸고 최종 달은 -1 해주고 그랬는데 이 코드 때문에 더 복잡해져서 시간이 많이 잡혀버렸다….ㅠㅠ (그냥 -1 안하고 같은 날짜도 포함시키면 되는데…. 나는 멍청이~"
   ]
  },
  {
   "cell_type": "markdown",
   "id": "3ada220a",
   "metadata": {},
   "source": [
    "### 실수한 점3.\n",
    "\n",
    "처음에 유효기간이 12까지만 생각함… \n",
    "\n",
    "당연히 유효기간이 14, 15여서 최종 월이 25, 26 을 넘는걸 생각해야하는데 단순히 12만 넘어가는것만 생각함…\n",
    "\n",
    "[처음 했던 코드]"
   ]
  },
  {
   "cell_type": "code",
   "execution_count": 29,
   "id": "b11c7b1b",
   "metadata": {},
   "outputs": [],
   "source": [
    "total_month = 10\n",
    "# 마지막에 했던 월 방식\n",
    "y_, m_ = divmod(total_month, 12) #이거 말고\n",
    "\n",
    "# 처음에 잘못한 방식\n",
    "if total_month > 12:\n",
    "    year = str(int(year) + 1)\n",
    "    total_month -= 12 # 이러니 오류가나지... 25이면 13월인데 13월이 어딨니 정현아 뚜시따쉬"
   ]
  },
  {
   "cell_type": "markdown",
   "id": "0678696e",
   "metadata": {},
   "source": [
    "→ 이래놓고 17, 18에 자꾸 오답 떠서 나 코드 엄청 잘짰는데 왜 그래 프로그래머스 문제 있나 함… 허허 (항상 문제는 나지)\n",
    "\n",
    "---\n",
    "\n",
    "### 다른 분 코드\n",
    "\n",
    "이건 혁명임"
   ]
  },
  {
   "cell_type": "code",
   "execution_count": 31,
   "id": "0d701441",
   "metadata": {},
   "outputs": [],
   "source": [
    "def solution(today, terms, privacies):\n",
    "    return [i+1 for i,x in enumerate(privacies) if {x[0]:int(today[:4])*12*28+int(today[5:7])*28+int(today[8:10])-(int(x[2:])*28) for x in terms}[x[11]] >= int(x[:4])*12*28+int(x[5:7])*28+int(x[8:10])]"
   ]
  },
  {
   "cell_type": "markdown",
   "id": "39863f1e",
   "metadata": {},
   "source": [
    "아니 이걸 한 줄로 풀다니…. 근데 뭐랄까 슬라이싱 쓰면 노가다 느낌이라 쌉고수 느낌 안나는데 여긴 그 느낌이 난다. 당신멋져 \n",
    "\n",
    "다들 list comprehension 겁니 좋아하네.. 난 안 친한데…."
   ]
  },
  {
   "cell_type": "markdown",
   "id": "82ed6982",
   "metadata": {},
   "source": [
    "## 4. 문제\n",
    "숫자로 이루어진 문자열 `t`와 `p`가 주어질 때, `t`에서 `p`와 길이가 같은 부분문자열 중에서, 이 부분문자열이 나타내는 수가 `p`가 나타내는 수보다 작거나 같은 것이 나오는 횟수를 return하는 함수 solution을 완성하세요.\n",
    "\n",
    "예를 들어, `t`=\"3141592\"이고 `p`=\"271\" 인 경우, `t`의 길이가 3인 부분 문자열은 314, 141, 415, 159, 592입니다. 이 문자열이 나타내는 수 중 271보다 작거나 같은 수는 141, 159 2개 입니다.\n",
    "\n",
    "---\n",
    "\n",
    "### 제한사항\n",
    "\n",
    "- 1 ≤ `p`의 길이 ≤ 18\n",
    "- `p`의 길이 ≤ `t`의 길이 ≤ 10,000\n",
    "- `t`와 `p`는 숫자로만 이루어진 문자열이며, 0으로 시작하지 않습니다.\n",
    "\n",
    "---\n",
    "\n",
    "### 입출력 예\n",
    "\n",
    "| t | p | result |\n",
    "| --- | --- | --- |\n",
    "| \"3141592\" | \"271\" | 2 |\n",
    "| \"500220839878\" | \"7\" | 8 |\n",
    "| \"10203\" | \"15\" | 3 |\n",
    "\n",
    "---\n",
    "\n",
    "### 입출력 예 설명\n",
    "\n",
    "입출력 예 #1본문과 같습니다.\n",
    "\n",
    "입출력 예 #2`p`의 길이가 1이므로 `t`의 부분문자열은 \"5\", \"0\", 0\", \"2\", \"2\", \"0\", \"8\", \"3\", \"9\", \"8\", \"7\", \"8\"이며 이중 7보다 작거나 같은 숫자는 \"5\", \"0\", \"0\", \"2\", \"2\", \"0\", \"3\", \"7\" 이렇게 8개가 있습니다.\n",
    "\n",
    "입출력 예 #3`p`의 길이가 2이므로 `t`의 부분문자열은 \"10\", \"02\", \"20\", \"03\"이며, 이중 15보다 작거나 같은 숫자는 \"10\", \"02\", \"03\" 이렇게 3개입니다. \"02\"와 \"03\"은 각각 2, 3에 해당한다는 점에 주의하세요\n",
    "\n",
    "---\n",
    "\n",
    "# ✍️나의 풀이"
   ]
  },
  {
   "cell_type": "code",
   "execution_count": 32,
   "id": "43c9607c",
   "metadata": {},
   "outputs": [],
   "source": [
    "def solution(t, p):\n",
    "    answer = 0\n",
    "    for i in range(0,len(t) - len(p)+1):\n",
    "        if int(t[i:i+len(p)]) <= int(p):\n",
    "            answer+=1\n",
    "    return answer"
   ]
  },
  {
   "cell_type": "markdown",
   "id": "4edc86c7",
   "metadata": {},
   "source": [
    "## 풀이 방법\n",
    "\n",
    "1. **t’**(p의 숫자 길이 만큼)와 p와  계속 비교\n",
    "2. **t’** 가 작거나 같으면 answer+=1\n",
    "\n",
    "[상세 풀이]\n",
    "\n",
    "1. **t’**(p의 숫자 길이 만큼)와 p와  계속 비교\n",
    "- **t’** = t[0+i:p의 길이+i] _ 여기서 i는 0부터 1씩 증가\n",
    "\n",
    "*(*이때, t의 문자열의 길이를 넘으면 오류 발생하기 때문에 이부분 주의)*\n",
    "\n",
    "1. **t’** 가 작거나 같으면 answer+=1\n",
    "\n",
    "[종합 풀이]"
   ]
  },
  {
   "cell_type": "code",
   "execution_count": 36,
   "id": "c363ffcd",
   "metadata": {},
   "outputs": [],
   "source": [
    "# 예\n",
    "t, p = \"3141592\", \"271\"\n",
    "answer = 0\n",
    "\n",
    "# 1. i를 0~p의 개수만큼 끊었을 때 나오는 처음 인덱스 번호까지만 허용해주기\n",
    "for i in range(0,len(t) - len(p)+1):\n",
    "# 2. p보다 작거나 같은 경우만 카운트\n",
    "    if int(t[i:i+len(p)]) <= int(p):\n",
    "        answer+=1"
   ]
  },
  {
   "cell_type": "markdown",
   "id": "707b8eb4",
   "metadata": {},
   "source": [
    "다른 사람 풀이"
   ]
  },
  {
   "cell_type": "code",
   "execution_count": 37,
   "id": "7f31a62b",
   "metadata": {},
   "outputs": [],
   "source": [
    "def solution(t, p):\n",
    "    return len([t[i: i+len(p)] for i in range(len(t)-len(p)+1) if int(t[i: i+len(p)]) <= int(p)])"
   ]
  },
  {
   "cell_type": "markdown",
   "id": "befd160c",
   "metadata": {},
   "source": [
    "## 5. 문제\n",
    "\n",
    "***(21년 카카오 채용연계형 인턴십 문제)***\n",
    "\n",
    "![https://grepp-programmers.s3.ap-northeast-2.amazonaws.com/files/production/d31cb063-4025-4412-8cbc-6ac6909cf93e/img1.png](https://grepp-programmers.s3.ap-northeast-2.amazonaws.com/files/production/d31cb063-4025-4412-8cbc-6ac6909cf93e/img1.png)\n",
    "\n",
    "네오와 프로도가 숫자놀이를 하고 있습니다. 네오가 프로도에게 숫자를 건넬 때 일부 자릿수를 영단어로 바꾼 카드를 건네주면 프로도는 원래 숫자를 찾는 게임입니다.다음은 숫자의 일부 자릿수를 영단어로 바꾸는 예시입니다.\n",
    "\n",
    "- 1478 → \"one4seveneight\"\n",
    "- 234567 → \"23four5six7\"\n",
    "- 10203 → \"1zerotwozero3\"\n",
    "\n",
    "이렇게 숫자의 일부 자릿수가 영단어로 바뀌어졌거나, 혹은 바뀌지 않고 그대로인 문자열 `s`가 매개변수로 주어집니다. `s`가 의미하는 원래 숫자를 return 하도록 solution 함수를 완성해주세요.\n",
    "\n",
    "참고로 각 숫자에 대응되는 영단어는 다음 표와 같습니다.\n",
    "\n",
    "| 숫자 | 영단어 |\n",
    "| --- | --- |\n",
    "| 0 | zero |\n",
    "| 1 | one |\n",
    "| 2 | two |\n",
    "| 3 | three |\n",
    "| 4 | four |\n",
    "| 5 | five |\n",
    "| 6 | six |\n",
    "| 7 | seven |\n",
    "| 8 | eight |\n",
    "| 9 | nine |\n",
    "\n",
    "---\n",
    "\n",
    "### 제한사항\n",
    "\n",
    "- 1 ≤ `s`의 길이 ≤ 50\n",
    "- `s`가 \"zero\" 또는 \"0\"으로 시작하는 경우는 주어지지 않습니다.\n",
    "- return 값이 1 이상 2,000,000,000 이하의 정수가 되는 올바른 입력만 `s`로 주어집니다.\n",
    "\n",
    "---\n",
    "\n",
    "### 입출력 예\n",
    "\n",
    "| s | result |\n",
    "| --- | --- |\n",
    "| \"one4seveneight\" | 1478 |\n",
    "| \"23four5six7\" | 234567 |\n",
    "| \"2three45sixseven\" | 234567 |\n",
    "| \"123\" | 123 |\n",
    "\n",
    "---\n",
    "\n",
    "### 입출력 예 설명\n",
    "\n",
    "**입출력 예 #1**\n",
    "\n",
    "- 문제 예시와 같습니다.\n",
    "\n",
    "**입출력 예 #2**\n",
    "\n",
    "- 문제 예시와 같습니다.\n",
    "\n",
    "**입출력 예 #3**\n",
    "\n",
    "- \"three\"는 3, \"six\"는 6, \"seven\"은 7에 대응되기 때문에 정답은 입출력 예 #2와 같은 234567이 됩니다.\n",
    "- 입출력 예 #2와 #3과 같이 같은 정답을 가리키는 문자열이 여러 가지가 나올 수 있습니다.\n",
    "\n",
    "**입출력 예 #4**\n",
    "\n",
    "- `s`에는 영단어로 바뀐 부분이 없습니다.\n",
    "\n",
    "### 제한시간 안내\n",
    "\n",
    "- 정확성 테스트 : 10초\n",
    "\n",
    "---\n",
    "\n",
    "# ✍️나의 풀이"
   ]
  },
  {
   "cell_type": "code",
   "execution_count": 38,
   "id": "7fa77c96",
   "metadata": {},
   "outputs": [],
   "source": [
    "def solution(s):\n",
    "    dic = {'zero':0, 'one':1, 'two':2, 'three':3, 'four':4, 'five':5, 'six':6, 'seven':7, 'eight':8, 'nine':9}\n",
    "    \n",
    "    for key in dic:\n",
    "        s = s.replace(key, str(dic[key]))\n",
    "    \n",
    "    return int(s)"
   ]
  },
  {
   "cell_type": "markdown",
   "id": "f1987d00",
   "metadata": {},
   "source": [
    "→ replace를 사용하기 위해 숫자와 문자 형태의 딕셔너리를 새로 생성해줬는데 이 문제의 핵심은 10초안에 푸는 것 같던데… 난 그래도 5분정도가 걸렸다…. (시무룩)\n",
    "\n",
    "---\n",
    "\n",
    "### 다른 사람 풀이\n",
    "\n",
    "풀이1."
   ]
  },
  {
   "cell_type": "code",
   "execution_count": 39,
   "id": "1c42e266",
   "metadata": {},
   "outputs": [],
   "source": [
    "num_dic = {\"zero\":\"0\", \"one\":\"1\", \"two\":\"2\", \"three\":\"3\", \"four\":\"4\", \"five\":\"5\", \"six\":\"6\", \"seven\":\"7\", \"eight\":\"8\", \"nine\":\"9\"}\n",
    "\n",
    "def solution(s):\n",
    "    answer = s\n",
    "    for key, value in num_dic.items():\n",
    "        answer = answer.replace(key, value)\n",
    "    return int(answer)"
   ]
  },
  {
   "cell_type": "markdown",
   "id": "8e817693",
   "metadata": {},
   "source": [
    "→ 좋아요 157개로 가장 좋은 풀이 중 하나 인듯_ 근데 뭐야…! 내가 푼거랑 비슷한걸 (뿌듯😗)\n",
    "\n",
    "풀이2."
   ]
  },
  {
   "cell_type": "code",
   "execution_count": 40,
   "id": "2d546ff0",
   "metadata": {},
   "outputs": [],
   "source": [
    "def solution(s):\n",
    "    words = ['zero', 'one', 'two', 'three', 'four', 'five', 'six', 'seven', 'eight', 'nine']\n",
    "\n",
    "    for i in range(len(words)):\n",
    "        s = s.replace(words[i], str(i))\n",
    "\n",
    "    return int(s)"
   ]
  },
  {
   "cell_type": "markdown",
   "id": "b909040b",
   "metadata": {},
   "source": [
    "→ 오 0~9까지를 인덱스로 풀어서 쓰다니 이 방법이 더 효율적이넹 \n",
    "\n",
    "---\n",
    "\n",
    "그래도 오늘 2문제 풀었는데 둘 다 20분 안넘겨서 좋댜~ 2번은 카카오 문제라 좀 쫄았는데 가장 쉬운걸~ 훗(level 1 풀어놓고 뿌듯해하는중, 아몰랑)"
   ]
  },
  {
   "cell_type": "markdown",
   "id": "0b971669",
   "metadata": {},
   "source": [
    "## 6. 문제\n",
    "수웅이는 매달 주어진 음식을 빨리 먹는 푸드 파이트 대회를 개최합니다. 이 대회에서 선수들은 1대 1로 대결하며, 매 대결마다 음식의 종류와 양이 바뀝니다. 대결은 준비된 음식들을 일렬로 배치한 뒤, 한 선수는 제일 왼쪽에 있는 음식부터 오른쪽으로, 다른 선수는 제일 오른쪽에 있는 음식부터 왼쪽으로 순서대로 먹는 방식으로 진행됩니다. 중앙에는 물을 배치하고, 물을 먼저 먹는 선수가 승리하게 됩니다.\n",
    "\n",
    "이때, 대회의 공정성을 위해 두 선수가 먹는 음식의 종류와 양이 같아야 하며, 음식을 먹는 순서도 같아야 합니다. 또한, 이번 대회부터는 칼로리가 낮은 음식을 먼저 먹을 수 있게 배치하여 선수들이 음식을 더 잘 먹을 수 있게 하려고 합니다. 이번 대회를 위해 수웅이는 음식을 주문했는데, 대회의 조건을 고려하지 않고 음식을 주문하여 몇 개의 음식은 대회에 사용하지 못하게 되었습니다.\n",
    "\n",
    "예를 들어, 3가지의 음식이 준비되어 있으며, 칼로리가 적은 순서대로 1번 음식을 3개, 2번 음식을 4개, 3번 음식을 6개 준비했으며, 물을 편의상 0번 음식이라고 칭한다면, 두 선수는 1번 음식 1개, 2번 음식 2개, 3번 음식 3개씩을 먹게 되므로 음식의 배치는 \"1223330333221\"이 됩니다. 따라서 1번 음식 1개는 대회에 사용하지 못합니다.\n",
    "\n",
    "수웅이가 준비한 음식의 양을 칼로리가 적은 순서대로 나타내는 정수 배열 `food`가 주어졌을 때, 대회를 위한 음식의 배치를 나타내는 문자열을 return 하는 solution 함수를 완성해주세요.\n",
    "\n",
    "---\n",
    "\n",
    "### 제한사항\n",
    "\n",
    "- 2 ≤ `food`의 길이 ≤ 9\n",
    "- 1 ≤ `food`의 각 원소 ≤ 1,000\n",
    "- `food`에는 칼로리가 적은 순서대로 음식의 양이 담겨 있습니다.\n",
    "- `food[i]`는 i번 음식의 수입니다.\n",
    "- `food[0]`은 수웅이가 준비한 물의 양이며, 항상 1입니다.\n",
    "- 정답의 길이가 3 이상인 경우만 입력으로 주어집니다.\n",
    "\n",
    "---\n",
    "\n",
    "### 입출력 예\n",
    "\n",
    "| food | result |\n",
    "| --- | --- |\n",
    "| [1, 3, 4, 6] | \"1223330333221\" |\n",
    "| [1, 7, 1, 2] | \"111303111\" |\n",
    "\n",
    "---\n",
    "\n",
    "### 입출력 예 설명\n",
    "\n",
    "**입출력 예 #1**\n",
    "\n",
    "- 문제 예시와 같습니다.\n",
    "\n",
    "**입출력 예 #1**\n",
    "\n",
    "- 두 선수는 1번 음식 3개, 3번 음식 1개를 먹게 되므로 음식의 배치는 \"111303111\"입니다.\n",
    "\n",
    "---\n",
    "\n",
    "# ✍️나의 풀이"
   ]
  },
  {
   "cell_type": "code",
   "execution_count": 41,
   "id": "c339d151",
   "metadata": {},
   "outputs": [],
   "source": [
    "def solution(food):\n",
    "    answer = ['0']\n",
    "    food.reverse() # 1. 거꾸로 추가 하기위해 반대로 돌려주기\n",
    "    for i in range(len(food)):\n",
    "        result = food[i]//2 # 2. 2로 나눈 몫만큼 추가되기 때문에 몫구해주기\n",
    "        \n",
    "        for t in range(result):\n",
    "            answer.insert(0, str(len(food)-1-i)) # 3. 2에서 나온 몫만큼 해당 숫자 왼쪽부터 추가해주기\n",
    "            answer.append(str(len(food)-1-i)) # 3. 위와 동일하게 오른쪽 부터 추가\n",
    "    answer = ''.join(answer)\n",
    "    \n",
    "    return answer"
   ]
  },
  {
   "cell_type": "markdown",
   "id": "7938dbaf",
   "metadata": {},
   "source": [
    "---\n",
    "\n",
    "### 다른 분 풀이"
   ]
  },
  {
   "cell_type": "code",
   "execution_count": 42,
   "id": "1b6afe54",
   "metadata": {},
   "outputs": [],
   "source": [
    "def solution(food):\n",
    "    answer = ''\n",
    "    for i,n in enumerate(food[1:]):\n",
    "        answer += str(i+1) * (n//2)\n",
    "    return answer + \"0\" + answer[::-1] # 와 데칼코마니 형태니 왼쪽만 구하고 반대 방향으로 돌려서 붙여줬넹"
   ]
  },
  {
   "cell_type": "markdown",
   "id": "2d463ea0",
   "metadata": {},
   "source": [
    "→ 데칼코마니 형태로 나오니 한쪽만 구하고 나머지는 붙이면 되는걸 생각 못했을까…. \n",
    "\n",
    "#느끼점\n",
    "\n",
    "→ 너무 복잡하게 생각하지 말고 문제를 단순하게 푸는걸 연습해야겠당"
   ]
  },
  {
   "cell_type": "markdown",
   "id": "4378fb75",
   "metadata": {},
   "source": [
    "## 7. 문제\n",
    "나만의 카카오 성격 유형 검사지를 만들려고 합니다.성격 유형 검사는 다음과 같은 4개 지표로 성격 유형을 구분합니다. 성격은 각 지표에서 두 유형 중 하나로 결정됩니다.\n",
    "\n",
    "| 지표 번호 | 성격 유형 |\n",
    "| --- | --- |\n",
    "| 1번 지표 | 라이언형(R), 튜브형(T) |\n",
    "| 2번 지표 | 콘형(C), 프로도형(F) |\n",
    "| 3번 지표 | 제이지형(J), 무지형(M) |\n",
    "| 4번 지표 | 어피치형(A), 네오형(N) |\n",
    "\n",
    "4개의 지표가 있으므로 성격 유형은 총 16(=2 x 2 x 2 x 2)가지가 나올 수 있습니다. 예를 들어, \"RFMN\"이나 \"TCMA\"와 같은 성격 유형이 있습니다.\n",
    "\n",
    "검사지에는 총 `n`개의 질문이 있고, 각 질문에는 아래와 같은 7개의 선택지가 있습니다.\n",
    "\n",
    "- `매우 비동의`\n",
    "- `비동의`\n",
    "- `약간 비동의`\n",
    "- `모르겠음`\n",
    "- `약간 동의`\n",
    "- `동의`\n",
    "- `매우 동의`\n",
    "\n",
    "각 질문은 1가지 지표로 성격 유형 점수를 판단합니다.\n",
    "\n",
    "예를 들어, 어떤 한 질문에서 4번 지표로 아래 표처럼 점수를 매길 수 있습니다.\n",
    "\n",
    "| 선택지 | 성격 유형 점수 |\n",
    "| --- | --- |\n",
    "| 매우 비동의 | 네오형 3점 |\n",
    "| 비동의 | 네오형 2점 |\n",
    "| 약간 비동의 | 네오형 1점 |\n",
    "| 모르겠음 | 어떤 성격 유형도 점수를 얻지 않습니다 |\n",
    "| 약간 동의 | 어피치형 1점 |\n",
    "| 동의 | 어피치형 2점 |\n",
    "| 매우 동의 | 어피치형 3점 |\n",
    "\n",
    "이때 검사자가 질문에서 `약간 동의` 선택지를 선택할 경우 어피치형(A) 성격 유형 1점을 받게 됩니다. 만약 검사자가 `매우 비동의` 선택지를 선택할 경우 네오형(N) 성격 유형 3점을 받게 됩니다.\n",
    "\n",
    "**위 예시처럼 네오형이 비동의, 어피치형이 동의인 경우만 주어지지 않고, 질문에 따라 네오형이 동의, 어피치형이 비동의인 경우도 주어질 수 있습니다.**하지만 각 선택지는 고정적인 크기의 점수를 가지고 있습니다.\n",
    "\n",
    "- `매우 동의`나 `매우 비동의` 선택지를 선택하면 3점을 얻습니다.\n",
    "- `동의`나 `비동의` 선택지를 선택하면 2점을 얻습니다.\n",
    "- `약간 동의`나 `약간 비동의` 선택지를 선택하면 1점을 얻습니다.\n",
    "- `모르겠음` 선택지를 선택하면 점수를 얻지 않습니다.\n",
    "\n",
    "검사 결과는 모든 질문의 성격 유형 점수를 더하여 각 지표에서 더 높은 점수를 받은 성격 유형이 검사자의 성격 유형이라고 판단합니다. 단, 하나의 지표에서 각 성격 유형 점수가 같으면, 두 성격 유형 중 사전 순으로 빠른 성격 유형을 검사자의 성격 유형이라고 판단합니다.\n",
    "\n",
    "질문마다 판단하는 지표를 담은 1차원 문자열 배열 `survey`와 검사자가 각 질문마다 선택한 선택지를 담은 1차원 정수 배열 `choices`가 매개변수로 주어집니다. 이때, 검사자의 성격 유형 검사 결과를 지표 번호 순서대로 return 하도록 solution 함수를 완성해주세요.\n",
    "\n",
    "---\n",
    "\n",
    "### 제한사항\n",
    "\n",
    "- 1 ≤ `survey`의 길이 ( = `n`) ≤ 1,000\n",
    "    - `survey`의 원소는 `\"RT\", \"TR\", \"FC\", \"CF\", \"MJ\", \"JM\", \"AN\", \"NA\"` 중 하나입니다.\n",
    "    - `survey[i]`의 첫 번째 캐릭터는 i+1번 질문의 비동의 관련 선택지를 선택하면 받는 성격 유형을 의미합니다.\n",
    "    - `survey[i]`의 두 번째 캐릭터는 i+1번 질문의 동의 관련 선택지를 선택하면 받는 성격 유형을 의미합니다.\n",
    "- `choices`의 길이 = `survey`의 길이\n",
    "    - `choices[i]`는 검사자가 선택한 i+1번째 질문의 선택지를 의미합니다.\n",
    "    - 1 ≤ `choices`의 원소 ≤ 7\n",
    "    \n",
    "    | choices | 뜻 |\n",
    "    | --- | --- |\n",
    "    | 1 | 매우 비동의 |\n",
    "    | 2 | 비동의 |\n",
    "    | 3 | 약간 비동의 |\n",
    "    | 4 | 모르겠음 |\n",
    "    | 5 | 약간 동의 |\n",
    "    | 6 | 동의 |\n",
    "    | 7 | 매우 동의 |\n",
    "\n",
    "---\n",
    "\n",
    "### 입출력 예\n",
    "\n",
    "| survey | choices | result |\n",
    "| --- | --- | --- |\n",
    "| [\"AN\", \"CF\", \"MJ\", \"RT\", \"NA\"] | [5, 3, 2, 7, 5] | \"TCMA\" |\n",
    "| [\"TR\", \"RT\", \"TR\"] | [7, 1, 3] | \"RCJA\" |\n",
    "\n",
    "---\n",
    "\n",
    "# ✍️나의 풀이"
   ]
  },
  {
   "cell_type": "code",
   "execution_count": 43,
   "id": "ed852df4",
   "metadata": {},
   "outputs": [],
   "source": [
    "def solution(survey, choices):\n",
    "    li = 'RTCFJMAN'\n",
    "    dic = {'R':0, 'T':0, 'C':0, 'F':0, 'J':0, 'M':0, 'A':0, 'N':0}\n",
    "    \n",
    "    for i, j in zip(survey, choices):\n",
    "        if j < 4:\n",
    "            dic[i[0]] = dic[i[0]] + 4-j # 1. 점수 설정해주기 \n",
    "        else:\n",
    "            dic[i[-1]] = dic[i[-1]] + j-4\n",
    "    \n",
    "    return ''.join([li[i] if dic[li[i]] >= dic[li[i+1]] else li[i+1] for i in range(0, 7, 2)]) # 2. 해당 문자 점수비교 후 점수 추가"
   ]
  },
  {
   "cell_type": "markdown",
   "id": "dceeae85",
   "metadata": {},
   "source": [
    "### 문제 풀이\n",
    "\n",
    "1. 점수가 1, 2, 3 → 앞에 있는 문자의 점수가 3, 2, 1점 추가\n",
    "    \n",
    "                5, 6, 7 → 뒤에 있는 문자의 점수가 1, 2, 3점 추가\n",
    "    \n",
    "    *이를 이용해서 \n",
    "    \n",
    "    > 4점 이상이면 앞에 있는 문자에 **4점 - 점수**를 추가, \n",
    "      4점 미만이면 뒤에 있는 문자에 **점수 - 4점** 추가\n",
    "    > \n",
    "\n",
    "→ 딕셔너리 이용\n",
    "\n",
    "1. 'RTCFJMAN' 순서대로 2개씩 딕셔너리에 저장되어있는 문자의 점수를 비교 \n",
    "    \n",
    "    > 앞에 있는 문자의 점수가 크거나 같으면 앞에 있는 문자를.\n",
    "      뒤에 있는 문자의 점수가 작으면 뒤에 있는 문자를 최종 결과에 저장\n",
    "    > \n",
    "\n",
    "---\n",
    "\n",
    "→ 다른 분의 코드에서 나보다 짧거나 기깔난 코드를 찾지 못해 아쉬웠다… 이번엔 나름 list comprehension을 사용해보았는데 딕셔너리를 다루다 보니 코드가 길어진게 아쉽…. 더 짧게 할 수 있을것같은데!!\n",
    "\n",
    "#그나마 좋아요 22를 받은 코드"
   ]
  },
  {
   "cell_type": "code",
   "execution_count": 44,
   "id": "f0398431",
   "metadata": {},
   "outputs": [],
   "source": [
    "def solution(survey, choices):\n",
    "\n",
    "    my_dict = {\"RT\":0,\"CF\":0,\"JM\":0,\"AN\":0}\n",
    "    for A,B in zip(survey,choices):\n",
    "        if A not in my_dict.keys():\n",
    "            A = A[::-1]\n",
    "            my_dict[A] -= B-4\n",
    "        else:\n",
    "            my_dict[A] += B-4\n",
    "\n",
    "    result = \"\"\n",
    "    for name in my_dict.keys():\n",
    "        if my_dict[name] > 0:\n",
    "            result += name[1]\n",
    "        elif my_dict[name] < 0:\n",
    "            result += name[0]\n",
    "        else:\n",
    "            result += sorted(name)[0]\n",
    "\n",
    "    return result"
   ]
  },
  {
   "cell_type": "markdown",
   "id": "fd234ee4",
   "metadata": {},
   "source": [
    "→ 나보다 어렵게 푼것같은 느낌적인 느낌…!!? 아님말고…."
   ]
  },
  {
   "cell_type": "markdown",
   "id": "dccdf3cb",
   "metadata": {},
   "source": [
    "## 8. 문제\n",
    "어느 공원 놀이터에는 시소가 하나 설치되어 있습니다. 이 시소는 중심으로부터 2(m), 3(m), 4(m) 거리의 지점에 좌석이 하나씩 있습니다.\n",
    "\n",
    "이 시소를 두 명이 마주 보고 탄다고 할 때, 시소가 평형인 상태에서 각각에 의해 시소에 걸리는 토크의 크기가 서로 상쇄되어 완전한 균형을 이룰 수 있다면 그 두 사람을 시소 짝꿍이라고 합니다. 즉, 탑승한 사람의 무게와 시소 축과 좌석 간의 거리의 곱이 양쪽 다 같다면 시소 짝꿍이라고 할 수 있습니다.\n",
    "\n",
    "사람들의 몸무게 목록 weights이 주어질 때, 시소 짝꿍이 몇 쌍 존재하는지 구하여 return 하도록 solution 함수를 완성해주세요.\n",
    "\n",
    "---\n",
    "\n",
    "### 제한 사항\n",
    "\n",
    "- 2 ≤ `weights`의 길이 ≤ 100,000\n",
    "- 100 ≤ `weights`[i] ≤ 1,000\n",
    "    - 몸무게 단위는 N(뉴턴)으로 주어집니다.\n",
    "    - 몸무게는 모두 정수입니다.\n",
    "\n",
    "---\n",
    "\n",
    "### 입출력 예\n",
    "\n",
    "| weights | result |\n",
    "| --- | --- |\n",
    "| [100,180,360,100,270] | 4 |\n",
    "\n",
    "---\n",
    "\n",
    "# 문제풀이\n",
    "\n",
    "**✍️ 나의 풀이**\n",
    "\n",
    "→ 이 풀이는 4번 부터 계속 시간초과 오류가 떠서 다른 사람 풀이 보다가 되는 걸 보고 그 풀이로 풀어버렸다… 일단 그 오류가 생긴 풀이….\n",
    "\n",
    "*조합, 최대공약수를 이용해서 풀이함*"
   ]
  },
  {
   "cell_type": "code",
   "execution_count": 45,
   "id": "b8516c5a",
   "metadata": {},
   "outputs": [],
   "source": [
    "from itertools import combinations # 중복없이 조합\n",
    "answer = 0\n",
    "\n",
    "def solution(weights):\n",
    "    answer = 0\n",
    "    for x, y in list(combinations(weights, 2)):\n",
    "        x1, y1 = x, y \n",
    "\n",
    "# 최대공약수 구하기 (유클리드 호제법)\n",
    "        while(y1):\n",
    "            x1, y1 = y1 , x1%y1\n",
    "\n",
    "# [1:1, 1:2, 2:3, 3:4] 의 경우의 수가 있기 때문에 두 수의 곱을 이용\n",
    "        if (x/x1)*(y/x1) in [1, 2, 6, 12]:\n",
    "            answer+=1"
   ]
  },
  {
   "cell_type": "markdown",
   "id": "74de4135",
   "metadata": {},
   "source": [
    "***유클리드 호제법**\n",
    "\n",
    "x, y의 최대공약수는 y, r 의 최대공약수와 같다는 원리를 이용하는 것.\n",
    "\n",
    "(x%y = r(x를 y로 나눈 나머지 값 == r))\n",
    "\n",
    "> x와 y 최대공약수 == y와 r의 최대공약수\n",
    "> \n",
    "\n",
    "\n",
    "**즉,** 계속해서 x에는 y값을 대입하고 y에는 (x%y)값인 r을 대입하다보면 언젠가는 x%y == 0일 때가 있는데 이때 **y 자리**에 있는 값이 **x와 y의 최대 공약수**\n",
    "\n",
    "유클리드 호제법을 활용한 알고리즘(최대공약수, 최소공배수)"
   ]
  },
  {
   "cell_type": "code",
   "execution_count": 46,
   "id": "e763a7fb",
   "metadata": {},
   "outputs": [
    {
     "name": "stdout",
     "output_type": "stream",
     "text": [
      "2\n",
      "60\n"
     ]
    }
   ],
   "source": [
    "# 1. 최대공약수\n",
    "def GCD(x, y):\n",
    "\twhile(y): # y가 참일 동안 = 자연수일 때 (a%b != 0으로 수정가능)\n",
    "\t\tx, y = y, x%y\n",
    "\treturn x\n",
    "\n",
    "print(GCD(10, 12)) # 2\n",
    "\n",
    "# 2. 최소공배수\n",
    "def LCM(x, y):\n",
    "\tresult = (x*y)//GCD(x,y)\n",
    "\treturn result\n",
    "\n",
    "print(LCM(10, 12)) # 60"
   ]
  },
  {
   "cell_type": "markdown",
   "id": "257fbd22",
   "metadata": {},
   "source": [
    "아니 근데 세상에….\n",
    "\n",
    "최대 공약수 정리하다가 math로 쉽게 풀 수 있는 걸 발견함… 나님… 30분동안 뻘짓했다….\n",
    "\n",
    "***math 사용**"
   ]
  },
  {
   "cell_type": "code",
   "execution_count": 48,
   "id": "b62828f9",
   "metadata": {},
   "outputs": [
    {
     "name": "stdout",
     "output_type": "stream",
     "text": [
      "5\n",
      "20\n"
     ]
    }
   ],
   "source": [
    "import math\n",
    "\n",
    "# 1. 최대공약수 _ math.gcd\n",
    "print(math.gcd(20, 45)) # 5\n",
    " \n",
    "# 2. 최소공배수 _ math.lcm\n",
    "print(math.lcm(10, 20)) # 20"
   ]
  },
  {
   "cell_type": "markdown",
   "id": "8d2a842d",
   "metadata": {},
   "source": [
    "만약 math를 사용한다면"
   ]
  },
  {
   "cell_type": "code",
   "execution_count": 49,
   "id": "394815b2",
   "metadata": {},
   "outputs": [],
   "source": [
    "from itertools import combinations\n",
    "import math\n",
    "\n",
    "def solution(weights):\n",
    "    answer = 0\n",
    "    for x, y in list(combinations(weights, 2)):\n",
    "    \n",
    "\t# 최대 공약수\n",
    "        z = math.gcd(x, y) # <- 여기가 깔끔하게 바뀜\n",
    "\t\t# [1:1, 1:2, 2:3, 3:4] 의 경우의 수가 있기 때문에 두 수의 곱을 이용\n",
    "        if (x/z)*(y/z) in [1, 2, 6, 12]:\n",
    "            answer+=1\n",
    "\n",
    "    return answer"
   ]
  },
  {
   "cell_type": "markdown",
   "id": "1407ea4d",
   "metadata": {},
   "source": [
    "그런데 이것도 시간초과로 계속 오류가 발생.\n",
    "\n",
    "그 이유를 찾아보니 길이가 최대 10만이라 무턱대고 조합 or 2차 반복문 작성하면 100억번 걸려 시간초과가 발생한다는거…\n",
    "\n",
    "핵심은 반복문 1번으로만 해결하기!!!\n",
    "\n",
    "---\n",
    "\n",
    "### 다른 분 코드"
   ]
  },
  {
   "cell_type": "code",
   "execution_count": 50,
   "id": "f43c8bb1",
   "metadata": {},
   "outputs": [],
   "source": [
    "from collections import Counter\n",
    "\n",
    "def solution(weights):\n",
    "    #경우의 수\n",
    "    #(1, 1), (2, 3), (2, 4), (3, 4)\n",
    "    answer = 0\n",
    "    people_counter = Counter(weights)\n",
    "    for weight, num_of_people in people_counter.items():\n",
    "        answer += num_of_people * (num_of_people - 1) // 2\n",
    "        for dis1, dis2 in [(2, 3), (2, 4), (3, 4)]:\n",
    "            answer += people_counter[weight * dis1 / dis2] * num_of_people\n",
    "    return answer"
   ]
  },
  {
   "cell_type": "markdown",
   "id": "e593f4a5",
   "metadata": {},
   "source": [
    "Counter"
   ]
  }
 ],
 "metadata": {
  "kernelspec": {
   "display_name": "Python 3 (ipykernel)",
   "language": "python",
   "name": "python3"
  },
  "language_info": {
   "codemirror_mode": {
    "name": "ipython",
    "version": 3
   },
   "file_extension": ".py",
   "mimetype": "text/x-python",
   "name": "python",
   "nbconvert_exporter": "python",
   "pygments_lexer": "ipython3",
   "version": "3.9.12"
  }
 },
 "nbformat": 4,
 "nbformat_minor": 5
}
